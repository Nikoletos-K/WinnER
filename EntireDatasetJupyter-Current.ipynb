{
 "cells": [
  {
   "cell_type": "markdown",
   "metadata": {},
   "source": [
    "<div align=\"center\">\n",
    " <img src=\"http://www.di.uoa.gr/themes/corporate_lite/logo_en.png\" title=\"Department of Informatics and Telecommunications - University of Athens\" align=\"center\" /> \n",
    "</div>\n",
    "\n",
    "<br>\n",
    "\n",
    "---\n",
    "\n",
    "<div align=\"center\"> \n",
    "  <font size=\"4\"><b>Bachelor Thesis</b> </font>\n",
    "</div>\n",
    "<br>\n",
    "<div align=\"center\"> \n",
    "  <font size=\"5\">\n",
    "      <b>Entity Resolution in Dissimilarity Spaces  <br></b> \n",
    "    </font>\n",
    "     <br>\n",
    "     <font size=\"3\">\n",
    "        Implementation notebook     \n",
    "    </font>\n",
    "</div>\n",
    "\n",
    "---\n",
    "\n",
    "<div align=\"center\"> \n",
    "    <font size=\"4\">\n",
    "         <b>Konstantinos Nikoletos, BS Student</b>\n",
    "     </font>\n",
    "</div>\n",
    "<br>\n",
    "<div align=\"center\"> \n",
    "    <font size=\"4\">\n",
    "     <b> Dr. Alex Delis</b>,  Professor NKUA <br> \n",
    "     <b> Dr. Vassilis Verikios</b>, Professor Hellenic Open University\n",
    "    </font>\n",
    "</div>\n",
    "<br>\n",
    "<div align=\"center\"> \n",
    "    <font size=\"2\">Athens</font>\n",
    "</div>\n",
    "<div align=\"center\"> \n",
    "    <font size=\"2\">January 2021 - Ongoing</font>\n",
    "</div>\n",
    "\n",
    "\n",
    "---"
   ]
  },
  {
   "cell_type": "markdown",
   "metadata": {},
   "source": [
    "# __Implementation__"
   ]
  },
  {
   "cell_type": "markdown",
   "metadata": {},
   "source": [
    "## __Install components__"
   ]
  },
  {
   "cell_type": "code",
   "execution_count": null,
   "metadata": {},
   "outputs": [],
   "source": [
    "!pip install editdistance\n",
    "!pip install pandas_read_xml\n",
    "!pip install requests"
   ]
  },
  {
   "cell_type": "markdown",
   "metadata": {},
   "source": [
    "## __Import libraries__"
   ]
  },
  {
   "cell_type": "code",
   "execution_count": 1,
   "metadata": {
    "tags": []
   },
   "outputs": [],
   "source": [
    "import pandas as pd\n",
    "import numpy as np\n",
    "import collections\n",
    "import editdistance\n",
    "import string\n",
    "import sklearn\n",
    "import pandas_read_xml as pdx\n",
    "import time\n",
    "import warnings\n",
    "import sys\n",
    "import matplotlib.pyplot as plt\n",
    "import seaborn as sns\n",
    "import nltk\n",
    "import math\n",
    "import os\n",
    "import scipy.special as special\n",
    "\n",
    "from tqdm.notebook import tqdm as tqdm\n",
    "from scipy.spatial.distance import directed_hausdorff,hamming\n",
    "from scipy.stats._stats import _kendall_dis\n",
    "from scipy.stats import spearmanr,kendalltau,pearsonr,kruskal,mannwhitneyu\n",
    "from sklearn.metrics.pairwise import cosine_similarity\n",
    "from nltk.metrics.distance import jaro_similarity,jaro_winkler_similarity,jaccard_distance\n",
    "from sklearn.metrics import jaccard_score,accuracy_score,auc,f1_score,recall_score,precision_score,classification_report\n",
    "from scipy.sparse import csr_matrix\n",
    "from scipy import sparse\n",
    "from scipy import stats \n",
    "from scipy.spatial.distance import euclidean,hamming\n",
    "from matplotlib.patches import Rectangle\n",
    "from sklearn.metrics import ndcg_score\n",
    "from datetime import datetime\n",
    "\n",
    "plt.style.use('seaborn-whitegrid') # plot style"
   ]
  },
  {
   "cell_type": "markdown",
   "metadata": {},
   "source": [
    "## __Model__\n",
    "\n",
    "\n",
    "\n",
    "\n",
    "\n",
    "\n",
    "\n"
   ]
  },
  {
   "cell_type": "code",
   "execution_count": 45,
   "metadata": {
    "tags": []
   },
   "outputs": [],
   "source": [
    "class RankedWTAHash:\n",
    "\n",
    "    def __init__(self, max_numberOf_clusters, max_editDistance, windowSize, number_of_permutations=1, min_numOfNodes = 2,jaccard_withchars =True,distanceMetricEmbedding = 'l_inf', metric = 'kendal', similarityVectors='ranked', distanceMetric = 'edit', prototypesFilterThr=None, ngramms=3, similarityThreshold=None, maxOnly=None,earlyStop=0):\n",
    "        '''\n",
    "          Constructor\n",
    "        '''\n",
    "        self.max_numberOf_clusters = max_numberOf_clusters\n",
    "        self.pairDictionary = dict()\n",
    "        self.max_editDistance = max_editDistance\n",
    "        self.windowSize = windowSize\n",
    "        self.S_set = None\n",
    "        self.S_index = None\n",
    "        self.similarityThreshold = similarityThreshold\n",
    "        self.maxOnly = maxOnly\n",
    "        self.metric = metric\n",
    "        self.min_numOfNodes = min_numOfNodes\n",
    "        self.similarityVectors = similarityVectors\n",
    "        self.number_of_permutations = number_of_permutations\n",
    "        self.distanceMetric = distanceMetric\n",
    "        self.distanceMetricEmbedding = distanceMetricEmbedding\n",
    "        self.ngramms = ngramms\n",
    "        self.jaccard_withchars =  jaccard_withchars\n",
    "        self.prototypesFilterThr = prototypesFilterThr\n",
    "        self.earlyStop = earlyStop\n",
    "        self.selectionVariance = None\n",
    "        self.numOfComparisons = 0\n",
    "\n",
    "    def fit(self, X):\n",
    "        \"\"\"\n",
    "          Fit the classifier from the training dataset.\n",
    "          Parameters\n",
    "          ----------\n",
    "          X : Training data.\n",
    "          \n",
    "          Returns\n",
    "          -------\n",
    "          self : The fitted classifier.\n",
    "        \"\"\"\n",
    "        print(\"\\n#####################################################################\\n#     .~ RankedWTAHash with Vantage embeddings starts training ~.   #\\n#####################################################################\\n\")\n",
    "\n",
    "        if isinstance(X, list):\n",
    "            input_strings = X\n",
    "        else:\n",
    "            input_strings = list(X)\n",
    "\n",
    "        self.initialS_set = np.array(input_strings,dtype=object)\n",
    "        self.S_set = np.array(input_strings,dtype=object)\n",
    "        if self.distanceMetric == 'jaccard' and self.jaccard_withchars == False:\n",
    "            for i in range(0,len(input_strings)):\n",
    "                self.S_set[i] = set(nltk.ngrams(nltk.word_tokenize(self.S_set[i]), n=self.ngramms))\n",
    "        elif self.distanceMetric == 'jaccard' and self.jaccard_withchars == True:\n",
    "            for i in range(0,len(input_strings)):\n",
    "                self.S_set[i] = set(nltk.ngrams(self.S_set[i], n=self.ngramms))\n",
    "\n",
    "        self.S_index = np.arange(0,len(input_strings),1)\n",
    "\n",
    "        # print(\"\\n\\nString positions are:\")\n",
    "        # print(self.S_index)\n",
    "        # print(\"\\n\")\n",
    "\n",
    "        print(\"###########################################################\\n# > 1. Prototype selection phase                          #\\n###########################################################\\n\")\n",
    "        print(\"\\n-> Finding prototypes and representatives of each cluster:\")\n",
    "        prototypes_time = time.time()\n",
    "        self.prototypeArray,self.selected_numOfPrototypes = self.Clustering_Prototypes(self.S_index,self.max_numberOf_clusters, self.max_editDistance, self.pairDictionary)\n",
    "        print(\"\\n- Prototypes selected\")\n",
    "        self.embeddingDim = self.prototypeArray.size\n",
    "        print(self.prototypeArray)\n",
    "        heatmapData = []\n",
    "        for pr in self.prototypeArray:\n",
    "            print(pr,\" -> \",self.initialS_set[pr])\n",
    "            heatmapData.append(self.S_set[pr])\n",
    "            \n",
    "        if self.selected_numOfPrototypes > 2:\n",
    "            self.selectionVariance = myHeatmap(self.prototypeArray,self.metric,self.EditDistance)\n",
    "            print(\"\\n- Mean variance in prototype selection: \",self.selectionVariance )\n",
    "        print(\"\\n- Final number of prototypes: \",self.selected_numOfPrototypes )\n",
    "        prototypes_time = time.time() - prototypes_time\n",
    "        print(\"\\n# Finished in %.6s secs\" % (prototypes_time))\n",
    "        print(\"\\n\")\n",
    "\n",
    "        if self.earlyStop==1:\n",
    "            return self\n",
    "\n",
    "        print(\"###########################################################\\n# > 2. Embeddings based on the Vantage objects            #\\n###########################################################\\n\")\n",
    "        print(\"\\n-> Creating Embeddings:\")\n",
    "        embeddings_time = time.time()\n",
    "        self.Embeddings = self.CreateVantageEmbeddings(self.S_index, self.prototypeArray, self.pairDictionary)\n",
    "        print(\"- Embeddings created\")\n",
    "        print(self.Embeddings)\n",
    "        embeddings_time = time.time() - embeddings_time\n",
    "        print(\"\\n# Finished in %.6s secs\" % (embeddings_time))\n",
    "        print(\"\\n\")\n",
    "\n",
    "        if self.earlyStop==2:\n",
    "            return self\n",
    "\n",
    "        print(\"###########################################################\\n# > 3. WTA Hashing                                        #\\n###########################################################\\n\")\n",
    "        print(\"\\n-> Creating WTA Buckets:\")\n",
    "        wta_time = time.time()\n",
    "        self.HashedClusters,self.buckets,self.rankedVectors = self.WTA(self.Embeddings,self.windowSize, self.number_of_permutations)\n",
    "        print(\"- WTA buckets: \")\n",
    "        for key in self.buckets.keys():\n",
    "            print(key,\" -> \",self.buckets[key])\n",
    "        print(\"\\n- WTA number of buckets: \", len(self.buckets.keys()))\n",
    "        print(\"\\n- WTA RankedVectors after permutation:\")\n",
    "        print(self.rankedVectors)\n",
    "        wta_time = time.time() - wta_time\n",
    "        print(\"\\n# Finished in %.6s secs\" % (wta_time))\n",
    "        print(\"\\n\")\n",
    "        \n",
    "#         for key in self.buckets.keys():\n",
    "#             if len(self.buckets[key]) > 216:\n",
    "#                 self.earlyStop=3\n",
    "                \n",
    "        \n",
    "        if self.earlyStop==3:\n",
    "            return self\n",
    "\n",
    "        print(\"###########################################################\\n# > 4. Similarity checking                                #\\n###########################################################\\n\")\n",
    "        print(\"\\n-> Similarity checking:\")\n",
    "        if len(self.buckets.keys()) < 5:\n",
    "            self.earlyStop=5\n",
    "            return self\n",
    "\n",
    "        similarity_time = time.time()\n",
    "\n",
    "        if self.similarityVectors == 'ranked':\n",
    "            self.mapping,self.mapping_matrix = self.SimilarityEvaluation(self.buckets,self.rankedVectors,self.similarityThreshold,maxOnly=self.maxOnly, metric=self.metric)\n",
    "        elif self.similarityVectors == 'initial':\n",
    "            self.mapping,self.mapping_matrix = self.SimilarityEvaluation(self.buckets,self.Embeddings,self.similarityThreshold,maxOnly=self.maxOnly, metric=self.metric)\n",
    "        else:\n",
    "            warnings.warn(\"similarityVectors: Available options are: ranked,initial\")\n",
    "        #     print(\"- Similarity matrix (all values compared):\")\n",
    "        #     print(self.similarityProb_matrix)\n",
    "        print(\"- Similarity mapping in a matrix\")\n",
    "        print(self.mapping_matrix)\n",
    "        similarity_time = time.time() - similarity_time\n",
    "        print(\"\\n# Finished in %.6s secs\" % (similarity_time))\n",
    "        print(\"\\n#####################################################################\\n#                    .~         End        ~.                          #\\n#####################################################################\\n\")\n",
    "\n",
    "        return self\n",
    "\n",
    "    def EditDistance(self, str1,str2,verbose=False):\n",
    "        if verbose:\n",
    "            if str1 == None:\n",
    "                print(\"1\")\n",
    "            elif str2 == None:\n",
    "                print(\"2\")\n",
    "            print(\"-> \"+str(str1))\n",
    "            print(\"--> \"+str(str2))\n",
    "            print(str(editdistance.eval(self.S_set[str1],self.S_set[str2])))\n",
    "\n",
    "        if ((str1,str2) or (str2,str1))  in self.pairDictionary.keys():\n",
    "            return self.pairDictionary[(str1,str2)]\n",
    "        else:\n",
    "            if self.distanceMetric == 'edit':\n",
    "                distance = editdistance.eval(self.S_set[str1],self.S_set[str2])\n",
    "            elif self.distanceMetric == 'jaccard':\n",
    "                distance = jaccard_distance(self.S_set[str1],self.S_set[str2])\n",
    "                        # jaccard because we want DISSIMILARITY\n",
    "            else:\n",
    "                warnings.warn(\"Available metrics for space creation: edit, jaccard \")\n",
    "            self.pairDictionary[(str2,str1)] = self.pairDictionary[(str1,str2)] = distance\n",
    "            return distance\n",
    "\n",
    "    #####################################################################\n",
    "    # 1. Prototype selection algorithm                                  #\n",
    "    #####################################################################\n",
    "\n",
    "    '''\n",
    "    Clustering_Prototypes(S,k,d,r,C) \n",
    "    The String Clustering and Prototype Selection Algorithm\n",
    "    is the main clustering method, that takes as input the intial strings S, \n",
    "    the max number of clusters to be generated in k,\n",
    "    the maximum allowable distance of a string to join a cluster in var d\n",
    "    and returns the prototype for each cluster in array Prototype\n",
    "    '''\n",
    "    def Clustering_Prototypes(self,S,k,d,pairDictionary,verbose=False):\n",
    "\n",
    "        # ----------------- Initialization phase ----------------- #\n",
    "        i = 0\n",
    "        j = 0\n",
    "        C = np.empty([S.size], dtype=int)\n",
    "        r = np.empty([2,k],dtype=object)\n",
    "\n",
    "        Clusters = [ [] for l in range(0,k)]\n",
    "\n",
    "        for i in tqdm(range(0,S.size,1)):     # String-clustering phase, for all strings\n",
    "            while j < k :       # iteration through clusters, for all clusters\n",
    "                if r[0][j] == None:      # case empty first representative for cluster j\n",
    "                    r[0][j] = S[i]   # init cluster representative with string i\n",
    "                    C[i] = j         # store in C that i-string belongs to cluster j\n",
    "                    Clusters[j].append(S[i])\n",
    "                    break\n",
    "                elif r[1][j] == None and (self.EditDistance(S[i],r[0][j]) <= d):  # case empty second representative\n",
    "                    r[1][j] = S[i]                                             # and ED of representative 1  smaller than i-th string\n",
    "                    C[i] = j\n",
    "                    Clusters[j].append(S[i])\n",
    "                    break\n",
    "                elif (r[0][j] != None and r[1][j] != None) and (self.EditDistance(S[i],r[0][j]) + self.EditDistance(S[i],r[1][j])) <= d:\n",
    "                    C[i] = j\n",
    "                    Clusters[j].append(S[i])\n",
    "                    break\n",
    "                else:\n",
    "                    j += 1\n",
    "            i += 1\n",
    "\n",
    "        # ----------------- Prototype selection phase ----------------- #\n",
    "\n",
    "        Projections = np.empty([k],dtype=object)\n",
    "        Prototypes = np.empty([k],dtype=int)\n",
    "        sortedProjections = np.empty([k],dtype=object)\n",
    "        Projections = []\n",
    "        Prototypes = []\n",
    "        sortedProjections = []\n",
    "\n",
    "        if verbose:\n",
    "            print(\"- - - - - - - - -\")\n",
    "            print(\"Cluster array:\")\n",
    "            print(C)\n",
    "            print(\"- - - - - - - - -\")\n",
    "            print(\"Represantatives array:\")\n",
    "            print(r)\n",
    "            print(\"- - - - - - - - -\")\n",
    "            print(\"Clusters:\")\n",
    "            print(Clusters)\n",
    "            print(\"- - - - - - - - -\")\n",
    "\n",
    "        new_numofClusters = k\n",
    "        prototype_index = 0\n",
    "        for j in range(0,k,1):\n",
    "            if len(Clusters[j]) < self.min_numOfNodes or r[1][j] == None or r[0][j]==None:\n",
    "                new_numofClusters-=1\n",
    "                continue\n",
    "\n",
    "            Projections.append(self.Approximated_Projection_Distances_ofCluster(r[1][j], r[0][j], j, Clusters[j],pairDictionary))\n",
    "            sortedProjections.append({new_numofClusters: v for new_numofClusters, v in sorted(Projections[prototype_index].items(), key=lambda item: item[1])})\n",
    "            Prototypes.append(self.Median(sortedProjections[prototype_index]))\n",
    "\n",
    "            prototype_index += 1\n",
    "\n",
    "        Prototypes,new_numofClusters = self.optimize_clusterSelection(Prototypes,new_numofClusters)\n",
    "\n",
    "        return np.array(Prototypes),new_numofClusters\n",
    "\n",
    "\n",
    "    def Approximated_Projection_Distances_ofCluster(self, right_rep, left_rep, cluster_id, clusterSet, pairDictionary):\n",
    "\n",
    "        distances_vector = dict()\n",
    "\n",
    "        if len(clusterSet) > 2:\n",
    "            rep_distance     = self.EditDistance(right_rep,left_rep)\n",
    "\n",
    "            for str_inCluster in range(0,len(clusterSet)):\n",
    "                if clusterSet[str_inCluster] != right_rep and clusterSet[str_inCluster] != left_rep:\n",
    "                    # print(clusterSet[str_inCluster],right_rep,left_rep)\n",
    "                    right_rep_distance = self.EditDistance(right_rep,clusterSet[str_inCluster])\n",
    "                    left_rep_distance  = self.EditDistance(left_rep,clusterSet[str_inCluster])\n",
    "\n",
    "                    if rep_distance == 0:\n",
    "                        distances_vector[clusterSet[str_inCluster]] = 0\n",
    "                    else:\n",
    "                        distance = (right_rep_distance**2-rep_distance**2-left_rep_distance**2 ) / (2*rep_distance)\n",
    "                        distances_vector[clusterSet[str_inCluster]] = distance\n",
    "\n",
    "        else:\n",
    "            if left_rep != None and right_rep == None:\n",
    "                distances_vector[left_rep] = left_rep\n",
    "            elif right_rep != None and left_rep == None:\n",
    "                distances_vector[right_rep] = right_rep\n",
    "            elif left_rep == None and right_rep == None:\n",
    "                return None\n",
    "            elif left_rep != None and right_rep != None:\n",
    "                distances_vector[right_rep] = right_rep\n",
    "                distances_vector[left_rep]  = left_rep\n",
    "                \n",
    "        return distances_vector\n",
    "\n",
    "    def Median(self, distances):\n",
    "        '''\n",
    "        Returns the median value of a vector\n",
    "        '''\n",
    "        keys = list(distances.keys())\n",
    "        if keys == 1:\n",
    "            return keys[0]\n",
    "\n",
    "        # print(distances)\n",
    "        keys = list(distances.keys())\n",
    "        # print(keys)\n",
    "        median_position = int(len(keys)/2)\n",
    "        # print(median_position)\n",
    "        median_value = keys[median_position]\n",
    "\n",
    "        return median_value\n",
    "\n",
    "    def optimize_clusterSelection(self,Prototypes,numOfPrototypes):\n",
    "\n",
    "        notwantedPrototypes = []\n",
    "        print(self.max_editDistance/2)\n",
    "        for pr_1 in range(0,numOfPrototypes):\n",
    "            for pr_2 in range(pr_1+1,numOfPrototypes):\n",
    "                if self.EditDistance(Prototypes[pr_1],Prototypes[pr_2]) < self.prototypesFilterThr:\n",
    "                    notwantedPrototypes.append(Prototypes[pr_2])\n",
    "\n",
    "        newPrototypes = list((set(Prototypes)).difference(set(notwantedPrototypes)))\n",
    "\n",
    "        print(\"Prototypes before:\")\n",
    "        print(Prototypes)\n",
    "        print(\"Not wanted:\")\n",
    "        print(set(notwantedPrototypes) )\n",
    "        print(\"Final:\")\n",
    "        print(newPrototypes)\n",
    "        return newPrototypes,len(newPrototypes)\n",
    "\n",
    "\n",
    "    #####################################################################\n",
    "    #       2. Embeddings based on the Vantage objects                  #\n",
    "    #####################################################################\n",
    "\n",
    "    '''\n",
    "    CreateVantageEmbeddings(S,VantageObjects): Main function for creating the string embeddings based on the Vantage Objects\n",
    "    '''\n",
    "    def CreateVantageEmbeddings(self, S, VantageObjects, pairDictionary):\n",
    "\n",
    "        # ------- Distance computing ------- #\n",
    "        vectors = []\n",
    "        for s in tqdm(range(0,S.size)):\n",
    "            string_embedding = []\n",
    "            for p in range(0,VantageObjects.size):\n",
    "                if VantageObjects[p] != None:\n",
    "                    #                   print(\"-\",VantageObjects[p])\n",
    "                    string_embedding.append(self.DistanceMetric(s,p,S,VantageObjects, pairDictionary))\n",
    "\n",
    "            # --- Ranking representation ---- #\n",
    "            ranked_string_embedding = stats.rankdata(string_embedding, method='dense')\n",
    "\n",
    "            # ------- Vectors dataset ------- #\n",
    "            vectors.append(ranked_string_embedding)\n",
    "\n",
    "        return np.array(vectors)\n",
    "\n",
    "\n",
    "    '''\n",
    "    DistanceMetric(s,p,S,Prototypes): Implementation of equation (5)\n",
    "    '''\n",
    "    def DistanceMetric(self, s, p, S, VantageObjects, pairDictionary, distanceMetricEmbedding = 'l_inf'):\n",
    "\n",
    "        if distanceMetricEmbedding == 'l_inf':\n",
    "            max_distance = None\n",
    "\n",
    "            for pp in range(0,VantageObjects.size):\n",
    "                if VantageObjects[pp] != None:\n",
    "                    string_distance = self.EditDistance(S[s],VantageObjects[pp])    # Edit distance String-i -> Vantage Object\n",
    "                    VO_distance     = self.EditDistance(VantageObjects[p],VantageObjects[pp])    # Edit distance Vantage Object-j -> Vantage Object-i\n",
    "\n",
    "                    abs_diff = abs(string_distance-VO_distance)\n",
    "\n",
    "                    # --- Max distance diff --- #\n",
    "                    if max_distance == None:\n",
    "                        max_distance = abs_diff\n",
    "                    elif abs_diff > max_distance:\n",
    "                        max_distance = abs_diff\n",
    "            return max_distance\n",
    "\n",
    "        elif distanceMetricEmbedding == 'edit':\n",
    "            self.embeddingMethod = self.EditDistance\n",
    "            return self.EditDistance(S[s],VantageObjects[p])\n",
    "        elif distanceMetricEmbedding == 'jaccard':\n",
    "            self.embeddingMethod = jaccard_distance\n",
    "            return jaccard_distance(S[s],VantageObjects[p])\n",
    "        elif distanceMetricEmbedding == 'euclid_jaccard':\n",
    "            self.embeddingMethod = self.hybrid_euclidJaccard\n",
    "            return self.hybrid_euclidJaccard(S[s],VantageObjects[p])\n",
    "        elif distanceMetricEmbedding == 'euclidean':\n",
    "            self.embeddingMethod = euclidean\n",
    "            return euclidean(S[s],VantageObjects[p])\n",
    "        else:\n",
    "            warnings.warn(\"Available metrics: edit,jaccard,l_inf,euclidean\")\n",
    "\n",
    "\n",
    "    def dropNone(array):\n",
    "        array = list(filter(None, list(array)))\n",
    "        return np.array(array)\n",
    "\n",
    "    def hybrid_euclidJaccard(s,p): \n",
    "        return sqrt(1-jaccard_distance(s,p))\n",
    "    #####################################################################\n",
    "    #                 3. Similarity checking                            #\n",
    "    #####################################################################\n",
    "\n",
    "    def SimilarityEvaluation(self, buckets,vectors,threshold,maxOnly=None,metric=None):\n",
    "\n",
    "        numOfVectors = vectors.shape[0]\n",
    "        vectorDim    = vectors.shape[1]\n",
    "        mapping_matrix = np.zeros([numOfVectors,numOfVectors],dtype=np.int8)\n",
    "        self.similarityProb_matrix = np.empty([numOfVectors,numOfVectors],dtype=np.float)* np.nan\n",
    "        mapping = {}\n",
    "        \n",
    "        self.numOfComparisons = 0\n",
    "        # Loop for every bucket\n",
    "        for bucketid in tqdm(buckets.keys()):\n",
    "            bucket_vectors = buckets[bucketid]\n",
    "            numOfVectors = len(bucket_vectors)\n",
    "\n",
    "            print(bucket_vectors)\n",
    "            # For every vector inside the bucket\n",
    "            for v_index in range(0,numOfVectors,1):\n",
    "                v_vector_id = bucket_vectors[v_index]\n",
    "                # Loop to all the other\n",
    "                for i_index in range(v_index+1,numOfVectors,1):\n",
    "                    i_vector_id = bucket_vectors[i_index]\n",
    "                    if vectorDim == 1:\n",
    "                        warnings.warn(\"Vector dim equal to 1-Setting metric to kendalltau\")\n",
    "                        metric = 'kendal'\n",
    "                    \n",
    "                    self.numOfComparisons+=1\n",
    "                    \n",
    "                    if metric == None or metric == 'kendal':  # Simple Kendal tau metric\n",
    "                        similarity_prob, p_value = kendalltau(vectors[v_vector_id], vectors[i_vector_id])\n",
    "                    elif metric == 'customKendal':  # Custom Kendal tau\n",
    "                        numOf_discordant_pairs = _kendall_dis(vectors[v_vector_id].astype('intp'), vectors[i_vector_id].astype('intp'))\n",
    "                        similarity_prob = (2*numOf_discordant_pairs) / (vectorDim*(vectorDim-1))\n",
    "                    elif metric == 'jaccard':\n",
    "                        similarity_prob = jaccard_score(vectors[v_vector_id], vectors[i_vector_id], average='micro')\n",
    "                    elif metric == 'cosine':\n",
    "                        similarity_prob = cosine_similarity(np.array(vectors[v_vector_id]).reshape(1, -1), np.array(vectors[i_vector_id]).reshape(1, -1))\n",
    "                    elif metric == 'pearson':\n",
    "                        similarity_prob, _ = pearsonr(vectors[v_vector_id], vectors[i_vector_id])\n",
    "                    elif metric == 'spearman':\n",
    "                        similarity_prob, _ = spearmanr(vectors[v_vector_id], vectors[i_vector_id])\n",
    "                    elif metric == 'spearmanf':\n",
    "                        similarity_prob = 1-spearman_footrule_distance(vectors[v_vector_id], vectors[i_vector_id])\n",
    "                    elif metric == 'hamming':\n",
    "                        similarity_prob, _ = hamming(vectors[v_vector_id].astype('intp'), vectors[i_vector_id].astype('intp'))\n",
    "                    elif metric == 'kruskal':\n",
    "                        if np.array_equal(vectors[v_vector_id],vectors[i_vector_id]):\n",
    "                            similarity_prob=1.0\n",
    "                        else:\n",
    "                            _,similarity_prob = kruskal(vectors[v_vector_id], vectors[i_vector_id])\n",
    "                    elif metric == 'ndcg_score':\n",
    "                        similarity_prob, _ = ndcg_score(vectors[v_vector_id], vectors[i_vector_id])\n",
    "                    elif metric == 'rbo':\n",
    "                        similarity_prob = rbo(vectors[v_vector_id], vectors[i_vector_id])\n",
    "                    elif metric == 'wta':\n",
    "                        similarity_prob = WTA_similarity(vectors[v_vector_id], vectors[i_vector_id])\n",
    "                    elif metric == 'mannwhitneyu':\n",
    "                        if np.array_equal(vectors[v_vector_id],vectors[i_vector_id]):\n",
    "                            similarity_prob=1.0\n",
    "                        else:\n",
    "                            _,similarity_prob = mannwhitneyu(vectors[v_vector_id], vectors[i_vector_id])\n",
    "                    else:\n",
    "                        warnings.warn(\"SimilarityEvaluation: Available similarity metrics: kendal,customKendal,jaccard,ndcg_score,cosine,spearman,pearson\")\n",
    "\n",
    "\n",
    "                    self.similarityProb_matrix[v_vector_id][i_vector_id] = similarity_prob\n",
    "\n",
    "                    if similarity_prob > threshold:\n",
    "                        if v_vector_id not in mapping.keys():\n",
    "                            mapping[v_vector_id] = []\n",
    "                        mapping[v_vector_id].append(i_vector_id)  # insert into mapping\n",
    "                        mapping_matrix[v_vector_id][i_vector_id] = 1  # inform prediction matrix\n",
    "                        mapping_matrix[i_vector_id][v_vector_id] = 1  # inform prediction matrix\n",
    "\n",
    "\n",
    "        return mapping, np.triu(mapping_matrix)\n",
    "\n",
    "    #####################################################################\n",
    "    #                        4. WTA Hashing                             #\n",
    "    #####################################################################\n",
    "\n",
    "    def WTA(self,vectors,K, number_of_permutations):\n",
    "        '''\n",
    "          Winner Take All hash - Yagnik\n",
    "          .............................\n",
    "    \n",
    "          K: window size\n",
    "        '''\n",
    "        newVectors = []\n",
    "        buckets = dict()\n",
    "\n",
    "        numOfVectors = vectors.shape[0]\n",
    "        vectorDim    = vectors.shape[1]\n",
    "\n",
    "        if vectorDim < K:\n",
    "            K = vectorDim\n",
    "            warnings.warn(\"Window size greater than vector dimension\")\n",
    "\n",
    "        C = np.zeros([numOfVectors,number_of_permutations], dtype=int)\n",
    "\n",
    "        permutation_dimension = vectorDim\n",
    "        for permutation_index in range(0,number_of_permutations,1):\n",
    "            theta = np.random.permutation(permutation_dimension)\n",
    "            i=0;j=0;\n",
    "            for v_index in range(0,numOfVectors,1):\n",
    "                if permutation_index == 0:\n",
    "                    X_new = self.permuted(vectors[v_index],theta)\n",
    "                    newVectors.append(X_new)\n",
    "                else:\n",
    "                    X_new = self.permuted(vectors[v_index],theta)\n",
    "                    newVectors[v_index] = X_new\n",
    "\n",
    "                C[i][permutation_index] = max(range(len(X_new[:K])), key=X_new[:K].__getitem__)\n",
    "                i+=1\n",
    "            \n",
    "\n",
    "        for c,i in zip(C,range(0,numOfVectors,1)):\n",
    "            buckets = self.bucketInsert(buckets,str(c),i)\n",
    "\n",
    "        return C,buckets,np.array(newVectors,dtype=np.intp)\n",
    "\n",
    "\n",
    "    def permuted(self,vector,permutation):\n",
    "        permuted_vector = [vector[x] for x in permutation]\n",
    "\n",
    "        return permuted_vector\n",
    "\n",
    "\n",
    "    def bucketInsert(self,buckets,bucket_id,item):\n",
    "        if bucket_id not in buckets.keys():\n",
    "            buckets[bucket_id] = []\n",
    "        buckets[bucket_id].append(item)\n",
    "\n",
    "        return buckets\n"
   ]
  },
  {
   "cell_type": "markdown",
   "metadata": {},
   "source": [
    "### Various similarity metrics to check\n",
    "These functions are for the similarity checking phase."
   ]
  },
  {
   "cell_type": "markdown",
   "metadata": {},
   "source": [
    "#### Spearman footrule distance"
   ]
  },
  {
   "cell_type": "code",
   "execution_count": null,
   "metadata": {
    "tags": []
   },
   "outputs": [],
   "source": [
    "def spearman_footrule_distance(s,t):\n",
    "    \"\"\"\n",
    "    Computes the Spearman footrule distance between two full lists of ranks:\n",
    "        F(s,t) = sum[ |s(i) - t(i)| ]/S,\n",
    "    the normalized sum over all elements in a set of the absolute difference between\n",
    "    the rank according to s and t.  As defined, 0 <= F(s,t) <= 1.\n",
    "    S is a normalizer which is equal to 0.5*len(s)^2 for even length ranklists and\n",
    "    0.5*(len(s)^2 - 1) for odd length ranklists.\n",
    "    If s,t are *not* full, this function should not be used. s,t should be array-like\n",
    "    (lists are OK).\n",
    "    \"\"\"\n",
    "    # check that size of intersection = size of s,t?\n",
    "    assert len(s) == len(t)\n",
    "    sdist = sum(abs(s - t))\n",
    "    # c will be 1 for odd length lists and 0 for even ones\n",
    "    c = len(s) % 2\n",
    "    normalizer = 0.5*(len(s)**2 - c)\n",
    "    \n",
    "    return sdist/normalizer"
   ]
  },
  {
   "cell_type": "markdown",
   "metadata": {},
   "source": [
    "#### Ravi Kumar generalized Kendall Tau"
   ]
  },
  {
   "cell_type": "code",
   "execution_count": null,
   "metadata": {},
   "outputs": [],
   "source": [
    "def kendall_top_k(a,b,k=None,p=0): #zero is equal 1 is max distance, compare with 1-scipy.stats.kendalltau(a,b)/2+1/2\n",
    "    \"\"\"\n",
    "    kendall_top_k(np.array,np.array,k,p)\n",
    "    This function generalise kendall-tau as defined in [1] Fagin, Ronald, Ravi Kumar, and D. Sivakumar. \"Comparing top k lists.\" SIAM Journal on Discrete Mathematics 17.1 (2003): 134-160.\n",
    "    It returns a distance: 0 for identical (in the sense of top-k) lists and 1 if completely different.\n",
    "    Example:\n",
    "        Simply call it with two same-length arrays of ratings (or also rankings), length of the top elements k (default is the maximum length possible), and p (default is 0, see [1]) as parameters:\n",
    "            $ a = np.array([1,2,3,4,5])\n",
    "            $ b = np.array([5,4,3,2,1])\n",
    "            $ kendall_top_k(a,b,k=4)\n",
    "    \"\"\"\n",
    "\n",
    "    if k is None:\n",
    "        k = a.size\n",
    "    if a.size != b.size:\n",
    "        raise NameError('The two arrays need to have same lengths')\n",
    "    k = min(k,a.size)\n",
    "    a_top_k = np.argpartition(a,-k)[-k:]\n",
    "    b_top_k = np.argpartition(b,-k)[-k:]\n",
    "    common_items = np.intersect1d(a_top_k,b_top_k)\n",
    "    only_in_a = np.setdiff1d(a_top_k, common_items)\n",
    "    only_in_b = np.setdiff1d(b_top_k, common_items)\n",
    "    kendall = (1 - (stats.kendalltau(a[common_items], b[common_items])[0]/2+0.5)) * (common_items.size**2) #case 1\n",
    "    if np.isnan(kendall): # degenerate case with only one item (not defined by Kendall)\n",
    "        kendall = 0\n",
    "    for i in common_items: #case 2\n",
    "        for j in only_in_a:\n",
    "            if a[i] < a[j]:\n",
    "                kendall += 1\n",
    "        for j in only_in_b:\n",
    "            if b[i] < b[j]:\n",
    "                kendall += 1\n",
    "    kendall += 2*p * special.binom(k-common_items.size,2)     #case 4\n",
    "    kendall /= ((only_in_a.size + only_in_b.size + common_items.size)**2 ) #normalization\n",
    "    return kendall"
   ]
  },
  {
   "cell_type": "markdown",
   "metadata": {},
   "source": [
    "#### Rank Biased Overlap (RBO) \n",
    "Article: https://towardsdatascience.com/rbo-v-s-kendall-tau-to-compare-ranked-lists-of-items-8776c5182899"
   ]
  },
  {
   "cell_type": "code",
   "execution_count": null,
   "metadata": {},
   "outputs": [],
   "source": [
    "def rbo(list1, list2, p=0.9):\n",
    "   # tail recursive helper function\n",
    "   def helper(ret, i, d):\n",
    "       l1 = set(list1[:i]) if i < len(list1) else set(list1)\n",
    "       l2 = set(list2[:i]) if i < len(list2) else set(list2)\n",
    "       a_d = len(l1.intersection(l2))/i\n",
    "       term = math.pow(p, i) * a_d\n",
    "       if d == i:\n",
    "           return ret + term\n",
    "       return helper(ret + term, i + 1, d)\n",
    "   k = max(len(list1), len(list2))\n",
    "   x_k = len(set(list1).intersection(set(list2)))\n",
    "   summation = helper(0, 1, k)\n",
    "   return ((float(x_k)/k) * math.pow(p, k)) + ((1-p)/p * summation)\n",
    "\n",
    "# Example usage\n",
    "print(rbo([4,10,20], [1,2,3]))\n",
    "\n",
    "p = 0.9\n",
    "d = 3\n",
    "\n",
    "def sum_series(p, d):\n",
    "   # tail recursive helper function\n",
    "   def helper(ret, p, d, i):\n",
    "       term = math.pow(p, i)/i\n",
    "       if d == i:\n",
    "           return ret + term\n",
    "       return helper(ret + term, p, d, i+1)\n",
    "   return helper(0, p, d, 1)\n",
    "\n",
    "wrbo1_d = 1 - math.pow(p, d-1) + (((1-p)/p) * d *(np.log(1/(1-p)) - sum_series(p, d-1)))\n",
    "\n",
    "print(wrbo1_d) "
   ]
  },
  {
   "cell_type": "markdown",
   "metadata": {},
   "source": [
    "#### Winner Takes All proposed "
   ]
  },
  {
   "cell_type": "code",
   "execution_count": null,
   "metadata": {},
   "outputs": [],
   "source": [
    "def WTA_similarity(vector1,vector2):\n",
    "    \n",
    "    PO=0\n",
    "    for i in range(0,len(vector1),1):\n",
    "        for j in range(0,i,1):\n",
    "            ij_1 = vector1[i] - vector1[j]\n",
    "            ij_2 = vector2[i] - vector2[j]\n",
    "            PO += WTA_Threshold(ij_1*ij_2)\n",
    "    return PO\n",
    "\n",
    "def WTA_Threshold(x):    \n",
    "    if x>0:\n",
    "        return 1\n",
    "    else:\n",
    "        return 0"
   ]
  },
  {
   "cell_type": "markdown",
   "metadata": {},
   "source": [
    "\n",
    "# __Evaluation__"
   ]
  },
  {
   "cell_type": "markdown",
   "metadata": {},
   "source": [
    "## Load data from Drive in Colab"
   ]
  },
  {
   "cell_type": "code",
   "execution_count": null,
   "metadata": {},
   "outputs": [],
   "source": [
    "# # Opening data file\n",
    "# import io\n",
    "# from google.colab import drive\n",
    "\n",
    "# drive.mount('/content/drive',force_remount=True)\n",
    "\n",
    "# fpcora = r\"/content/drive/My Drive/ERinDS/CORA.xml\"\n",
    "# fpcora_gold = r\"/content/drive/My Drive/ERinDS/cora_gold.csv\""
   ]
  },
  {
   "cell_type": "markdown",
   "metadata": {},
   "source": [
    "## Load data from disk for Jupyter"
   ]
  },
  {
   "cell_type": "markdown",
   "metadata": {},
   "source": [
    "### JedAI Dirty datasets"
   ]
  },
  {
   "cell_type": "markdown",
   "metadata": {},
   "source": [
    "#### CORA"
   ]
  },
  {
   "cell_type": "code",
   "execution_count": 11,
   "metadata": {},
   "outputs": [
    {
     "data": {
      "text/html": [
       "<div>\n",
       "<style scoped>\n",
       "    .dataframe tbody tr th:only-of-type {\n",
       "        vertical-align: middle;\n",
       "    }\n",
       "\n",
       "    .dataframe tbody tr th {\n",
       "        vertical-align: top;\n",
       "    }\n",
       "\n",
       "    .dataframe thead th {\n",
       "        text-align: right;\n",
       "    }\n",
       "</style>\n",
       "<table border=\"1\" class=\"dataframe\">\n",
       "  <thead>\n",
       "    <tr style=\"text-align: right;\">\n",
       "      <th></th>\n",
       "      <th>Entity Id</th>\n",
       "      <th>address</th>\n",
       "      <th>author</th>\n",
       "      <th>editor</th>\n",
       "      <th>institution</th>\n",
       "      <th>month</th>\n",
       "      <th>note</th>\n",
       "      <th>pages</th>\n",
       "      <th>publisher</th>\n",
       "      <th>title</th>\n",
       "      <th>venue</th>\n",
       "      <th>volume</th>\n",
       "      <th>year</th>\n",
       "      <th>Unnamed: 13</th>\n",
       "    </tr>\n",
       "  </thead>\n",
       "  <tbody>\n",
       "    <tr>\n",
       "      <th>0</th>\n",
       "      <td>0</td>\n",
       "      <td>los alamitos, ca:</td>\n",
       "      <td>p. auer, n. cesa-bianchi, y. freund, and r. e....</td>\n",
       "      <td>NaN</td>\n",
       "      <td>NaN</td>\n",
       "      <td>NaN</td>\n",
       "      <td>NaN</td>\n",
       "      <td>pp. 322-331.</td>\n",
       "      <td>ieee computer society press,</td>\n",
       "      <td>'gambling in a rigged casino: the adversarial ...</td>\n",
       "      <td>in proc. 36th annual symposium on foundations ...</td>\n",
       "      <td>NaN</td>\n",
       "      <td>1995,</td>\n",
       "      <td>NaN</td>\n",
       "    </tr>\n",
       "    <tr>\n",
       "      <th>1</th>\n",
       "      <td>1</td>\n",
       "      <td>NaN</td>\n",
       "      <td>a. blum, m. furst, m. j. kearns, and richard j...</td>\n",
       "      <td>NaN</td>\n",
       "      <td>NaN</td>\n",
       "      <td>NaN</td>\n",
       "      <td>NaN</td>\n",
       "      <td>pages 24.1-24.10,</td>\n",
       "      <td>NaN</td>\n",
       "      <td>cryptographic primitives based on hard learnin...</td>\n",
       "      <td>in pre-proceedings of crypto '93,</td>\n",
       "      <td>NaN</td>\n",
       "      <td>1993.</td>\n",
       "      <td>NaN</td>\n",
       "    </tr>\n",
       "    <tr>\n",
       "      <th>2</th>\n",
       "      <td>2</td>\n",
       "      <td>NaN</td>\n",
       "      <td>avrim blum, merrick furst, michael kearns, and...</td>\n",
       "      <td>NaN</td>\n",
       "      <td>NaN</td>\n",
       "      <td>NaN</td>\n",
       "      <td>NaN</td>\n",
       "      <td>pages 24.1-24.10,</td>\n",
       "      <td>NaN</td>\n",
       "      <td>cryptographic primitives based on hard learnin...</td>\n",
       "      <td>in pre-proceedings of crypto '93,</td>\n",
       "      <td>NaN</td>\n",
       "      <td>1993.</td>\n",
       "      <td>NaN</td>\n",
       "    </tr>\n",
       "    <tr>\n",
       "      <th>3</th>\n",
       "      <td>3</td>\n",
       "      <td>NaN</td>\n",
       "      <td>avrim blum, merrick furst, michael kearns, and...</td>\n",
       "      <td>in douglas r. stinson, editor,</td>\n",
       "      <td>NaN</td>\n",
       "      <td>NaN</td>\n",
       "      <td>lecture notes in computer science no. 773.</td>\n",
       "      <td>pages 278-291.</td>\n",
       "      <td>springer,</td>\n",
       "      <td>cryptographic primitives based on hard learnin...</td>\n",
       "      <td>proc. crypto 93,</td>\n",
       "      <td>NaN</td>\n",
       "      <td>1994.</td>\n",
       "      <td>NaN</td>\n",
       "    </tr>\n",
       "    <tr>\n",
       "      <th>4</th>\n",
       "      <td>4</td>\n",
       "      <td>NaN</td>\n",
       "      <td>a. blum, m. furst, m. kearns, r. lipton.</td>\n",
       "      <td>NaN</td>\n",
       "      <td>NaN</td>\n",
       "      <td>NaN</td>\n",
       "      <td>NaN</td>\n",
       "      <td>NaN</td>\n",
       "      <td>NaN</td>\n",
       "      <td>cryptographic primitives based on hard learnin...</td>\n",
       "      <td>crypto,</td>\n",
       "      <td>NaN</td>\n",
       "      <td>1993.</td>\n",
       "      <td>NaN</td>\n",
       "    </tr>\n",
       "    <tr>\n",
       "      <th>...</th>\n",
       "      <td>...</td>\n",
       "      <td>...</td>\n",
       "      <td>...</td>\n",
       "      <td>...</td>\n",
       "      <td>...</td>\n",
       "      <td>...</td>\n",
       "      <td>...</td>\n",
       "      <td>...</td>\n",
       "      <td>...</td>\n",
       "      <td>...</td>\n",
       "      <td>...</td>\n",
       "      <td>...</td>\n",
       "      <td>...</td>\n",
       "      <td>...</td>\n",
       "    </tr>\n",
       "    <tr>\n",
       "      <th>1290</th>\n",
       "      <td>1290</td>\n",
       "      <td>NaN</td>\n",
       "      <td>robert e. schapire and yoram singer.</td>\n",
       "      <td>NaN</td>\n",
       "      <td>NaN</td>\n",
       "      <td>NaN</td>\n",
       "      <td>NaN</td>\n",
       "      <td>NaN</td>\n",
       "      <td>NaN</td>\n",
       "      <td>improved boosting algorithms using confidence-...</td>\n",
       "      <td>in proceedings of the eleventh annual conferen...</td>\n",
       "      <td>NaN</td>\n",
       "      <td>1998.</td>\n",
       "      <td>NaN</td>\n",
       "    </tr>\n",
       "    <tr>\n",
       "      <th>1291</th>\n",
       "      <td>1291</td>\n",
       "      <td>NaN</td>\n",
       "      <td>schapire, r. e., freund, y., bartlett, p., &amp; l...</td>\n",
       "      <td>NaN</td>\n",
       "      <td>NaN</td>\n",
       "      <td>NaN</td>\n",
       "      <td>annals of statistics (to appear).</td>\n",
       "      <td>NaN</td>\n",
       "      <td>NaN</td>\n",
       "      <td>boosting the margin: a new explanation for the...</td>\n",
       "      <td>NaN</td>\n",
       "      <td>NaN</td>\n",
       "      <td>(1998).</td>\n",
       "      <td>NaN</td>\n",
       "    </tr>\n",
       "    <tr>\n",
       "      <th>1292</th>\n",
       "      <td>1292</td>\n",
       "      <td>NaN</td>\n",
       "      <td>robert e. schapire and yoram singer. boostexter:</td>\n",
       "      <td>NaN</td>\n",
       "      <td>NaN</td>\n",
       "      <td>NaN</td>\n",
       "      <td>NaN</td>\n",
       "      <td>NaN</td>\n",
       "      <td>NaN</td>\n",
       "      <td>a system for multiclass multi-label text categ...</td>\n",
       "      <td>unpublished manuscript,</td>\n",
       "      <td>NaN</td>\n",
       "      <td>1998.</td>\n",
       "      <td>NaN</td>\n",
       "    </tr>\n",
       "    <tr>\n",
       "      <th>1293</th>\n",
       "      <td>1293</td>\n",
       "      <td>NaN</td>\n",
       "      <td>robert e. schapire yoram singer.</td>\n",
       "      <td>NaN</td>\n",
       "      <td>NaN</td>\n",
       "      <td>NaN</td>\n",
       "      <td>submitted for publication. 17</td>\n",
       "      <td>NaN</td>\n",
       "      <td>NaN</td>\n",
       "      <td>improved boosting algorithms using confidence-...</td>\n",
       "      <td>NaN</td>\n",
       "      <td>NaN</td>\n",
       "      <td>NaN</td>\n",
       "      <td>NaN</td>\n",
       "    </tr>\n",
       "    <tr>\n",
       "      <th>1294</th>\n",
       "      <td>1294</td>\n",
       "      <td>NaN</td>\n",
       "      <td>robert e. schapire yoram singer.</td>\n",
       "      <td>NaN</td>\n",
       "      <td>NaN</td>\n",
       "      <td>NaN</td>\n",
       "      <td>submitted for publication.</td>\n",
       "      <td>NaN</td>\n",
       "      <td>NaN</td>\n",
       "      <td>improved boosting algorithms using confidence-...</td>\n",
       "      <td>NaN</td>\n",
       "      <td>NaN</td>\n",
       "      <td>NaN</td>\n",
       "      <td>NaN</td>\n",
       "    </tr>\n",
       "  </tbody>\n",
       "</table>\n",
       "<p>1295 rows × 14 columns</p>\n",
       "</div>"
      ],
      "text/plain": [
       "      Entity Id            address  \\\n",
       "0             0  los alamitos, ca:   \n",
       "1             1                NaN   \n",
       "2             2                NaN   \n",
       "3             3                NaN   \n",
       "4             4                NaN   \n",
       "...         ...                ...   \n",
       "1290       1290                NaN   \n",
       "1291       1291                NaN   \n",
       "1292       1292                NaN   \n",
       "1293       1293                NaN   \n",
       "1294       1294                NaN   \n",
       "\n",
       "                                                 author  \\\n",
       "0     p. auer, n. cesa-bianchi, y. freund, and r. e....   \n",
       "1     a. blum, m. furst, m. j. kearns, and richard j...   \n",
       "2     avrim blum, merrick furst, michael kearns, and...   \n",
       "3     avrim blum, merrick furst, michael kearns, and...   \n",
       "4              a. blum, m. furst, m. kearns, r. lipton.   \n",
       "...                                                 ...   \n",
       "1290               robert e. schapire and yoram singer.   \n",
       "1291  schapire, r. e., freund, y., bartlett, p., & l...   \n",
       "1292   robert e. schapire and yoram singer. boostexter:   \n",
       "1293                   robert e. schapire yoram singer.   \n",
       "1294                   robert e. schapire yoram singer.   \n",
       "\n",
       "                              editor institution month  \\\n",
       "0                                NaN         NaN   NaN   \n",
       "1                                NaN         NaN   NaN   \n",
       "2                                NaN         NaN   NaN   \n",
       "3     in douglas r. stinson, editor,         NaN   NaN   \n",
       "4                                NaN         NaN   NaN   \n",
       "...                              ...         ...   ...   \n",
       "1290                             NaN         NaN   NaN   \n",
       "1291                             NaN         NaN   NaN   \n",
       "1292                             NaN         NaN   NaN   \n",
       "1293                             NaN         NaN   NaN   \n",
       "1294                             NaN         NaN   NaN   \n",
       "\n",
       "                                            note              pages  \\\n",
       "0                                            NaN       pp. 322-331.   \n",
       "1                                            NaN  pages 24.1-24.10,   \n",
       "2                                            NaN  pages 24.1-24.10,   \n",
       "3     lecture notes in computer science no. 773.     pages 278-291.   \n",
       "4                                            NaN                NaN   \n",
       "...                                          ...                ...   \n",
       "1290                                         NaN                NaN   \n",
       "1291           annals of statistics (to appear).                NaN   \n",
       "1292                                         NaN                NaN   \n",
       "1293               submitted for publication. 17                NaN   \n",
       "1294                  submitted for publication.                NaN   \n",
       "\n",
       "                         publisher  \\\n",
       "0     ieee computer society press,   \n",
       "1                              NaN   \n",
       "2                              NaN   \n",
       "3                        springer,   \n",
       "4                              NaN   \n",
       "...                            ...   \n",
       "1290                           NaN   \n",
       "1291                           NaN   \n",
       "1292                           NaN   \n",
       "1293                           NaN   \n",
       "1294                           NaN   \n",
       "\n",
       "                                                  title  \\\n",
       "0     'gambling in a rigged casino: the adversarial ...   \n",
       "1     cryptographic primitives based on hard learnin...   \n",
       "2     cryptographic primitives based on hard learnin...   \n",
       "3     cryptographic primitives based on hard learnin...   \n",
       "4     cryptographic primitives based on hard learnin...   \n",
       "...                                                 ...   \n",
       "1290  improved boosting algorithms using confidence-...   \n",
       "1291  boosting the margin: a new explanation for the...   \n",
       "1292  a system for multiclass multi-label text categ...   \n",
       "1293  improved boosting algorithms using confidence-...   \n",
       "1294  improved boosting algorithms using confidence-...   \n",
       "\n",
       "                                                  venue volume     year  \\\n",
       "0     in proc. 36th annual symposium on foundations ...    NaN    1995,   \n",
       "1                     in pre-proceedings of crypto '93,    NaN    1993.   \n",
       "2                     in pre-proceedings of crypto '93,    NaN    1993.   \n",
       "3                                      proc. crypto 93,    NaN    1994.   \n",
       "4                                               crypto,    NaN    1993.   \n",
       "...                                                 ...    ...      ...   \n",
       "1290  in proceedings of the eleventh annual conferen...    NaN    1998.   \n",
       "1291                                                NaN    NaN  (1998).   \n",
       "1292                            unpublished manuscript,    NaN    1998.   \n",
       "1293                                                NaN    NaN      NaN   \n",
       "1294                                                NaN    NaN      NaN   \n",
       "\n",
       "      Unnamed: 13  \n",
       "0             NaN  \n",
       "1             NaN  \n",
       "2             NaN  \n",
       "3             NaN  \n",
       "4             NaN  \n",
       "...           ...  \n",
       "1290          NaN  \n",
       "1291          NaN  \n",
       "1292          NaN  \n",
       "1293          NaN  \n",
       "1294          NaN  \n",
       "\n",
       "[1295 rows x 14 columns]"
      ]
     },
     "execution_count": 11,
     "metadata": {},
     "output_type": "execute_result"
    }
   ],
   "source": [
    "CORA_groundTruth = os.path.abspath(\"data/coraIdDuplicates.csv\")\n",
    "CORA = os.path.abspath(\"data/coraProfiles.csv\")\n",
    "CORA_groundTruth = pd.read_csv(CORA_groundTruth,sep='|',header=None,names=['id1','id2'])\n",
    "CORA = pd.read_csv(CORA,sep='|')\n",
    "CORA"
   ]
  },
  {
   "cell_type": "code",
   "execution_count": 13,
   "metadata": {},
   "outputs": [
    {
     "data": {
      "text/html": [
       "<div>\n",
       "<style scoped>\n",
       "    .dataframe tbody tr th:only-of-type {\n",
       "        vertical-align: middle;\n",
       "    }\n",
       "\n",
       "    .dataframe tbody tr th {\n",
       "        vertical-align: top;\n",
       "    }\n",
       "\n",
       "    .dataframe thead th {\n",
       "        text-align: right;\n",
       "    }\n",
       "</style>\n",
       "<table border=\"1\" class=\"dataframe\">\n",
       "  <thead>\n",
       "    <tr style=\"text-align: right;\">\n",
       "      <th></th>\n",
       "      <th>id1</th>\n",
       "      <th>id2</th>\n",
       "    </tr>\n",
       "  </thead>\n",
       "  <tbody>\n",
       "    <tr>\n",
       "      <th>0</th>\n",
       "      <td>987</td>\n",
       "      <td>990</td>\n",
       "    </tr>\n",
       "    <tr>\n",
       "      <th>1</th>\n",
       "      <td>987</td>\n",
       "      <td>991</td>\n",
       "    </tr>\n",
       "    <tr>\n",
       "      <th>2</th>\n",
       "      <td>987</td>\n",
       "      <td>988</td>\n",
       "    </tr>\n",
       "    <tr>\n",
       "      <th>3</th>\n",
       "      <td>987</td>\n",
       "      <td>989</td>\n",
       "    </tr>\n",
       "    <tr>\n",
       "      <th>4</th>\n",
       "      <td>987</td>\n",
       "      <td>994</td>\n",
       "    </tr>\n",
       "    <tr>\n",
       "      <th>...</th>\n",
       "      <td>...</td>\n",
       "      <td>...</td>\n",
       "    </tr>\n",
       "    <tr>\n",
       "      <th>17179</th>\n",
       "      <td>206</td>\n",
       "      <td>210</td>\n",
       "    </tr>\n",
       "    <tr>\n",
       "      <th>17180</th>\n",
       "      <td>206</td>\n",
       "      <td>211</td>\n",
       "    </tr>\n",
       "    <tr>\n",
       "      <th>17181</th>\n",
       "      <td>206</td>\n",
       "      <td>212</td>\n",
       "    </tr>\n",
       "    <tr>\n",
       "      <th>17182</th>\n",
       "      <td>206</td>\n",
       "      <td>213</td>\n",
       "    </tr>\n",
       "    <tr>\n",
       "      <th>17183</th>\n",
       "      <td>206</td>\n",
       "      <td>214</td>\n",
       "    </tr>\n",
       "  </tbody>\n",
       "</table>\n",
       "<p>17184 rows × 2 columns</p>\n",
       "</div>"
      ],
      "text/plain": [
       "       id1  id2\n",
       "0      987  990\n",
       "1      987  991\n",
       "2      987  988\n",
       "3      987  989\n",
       "4      987  994\n",
       "...    ...  ...\n",
       "17179  206  210\n",
       "17180  206  211\n",
       "17181  206  212\n",
       "17182  206  213\n",
       "17183  206  214\n",
       "\n",
       "[17184 rows x 2 columns]"
      ]
     },
     "execution_count": 13,
     "metadata": {},
     "output_type": "execute_result"
    }
   ],
   "source": [
    "CORA_groundTruth"
   ]
  },
  {
   "cell_type": "markdown",
   "metadata": {},
   "source": [
    "#### CENSUS"
   ]
  },
  {
   "cell_type": "code",
   "execution_count": null,
   "metadata": {
    "scrolled": true,
    "tags": []
   },
   "outputs": [],
   "source": [
    "CENSUS_groundTruth = os.path.abspath(\"data/censusIdDuplicates.csv\")\n",
    "CENSUS = os.path.abspath(\"data/censusProfiles.csv\")\n",
    "CENSUS_groundTruth = pd.read_csv(CENSUS_groundTruth,sep='|',header=None,names=['id1','id2'])\n",
    "CENSUS = pd.read_csv(CENSUS,sep='|')\n",
    "CENSUS"
   ]
  },
  {
   "cell_type": "code",
   "execution_count": null,
   "metadata": {},
   "outputs": [],
   "source": [
    "CENSUS_groundTruth"
   ]
  },
  {
   "cell_type": "markdown",
   "metadata": {},
   "source": [
    "#### CDDB"
   ]
  },
  {
   "cell_type": "code",
   "execution_count": null,
   "metadata": {
    "tags": []
   },
   "outputs": [],
   "source": [
    "CDDB_groundTruth = os.path.abspath(\"data/cddbIdDuplicates.csv\")\n",
    "CDDB = os.path.abspath(\"data/cddbProfiles.csv\")\n",
    "CDDB_groundTruth = pd.read_csv(CDDB_groundTruth,sep='/00000',engine='python',header=None,names=['id1','id2'])\n",
    "CDDB = pd.read_csv(CDDB,sep='/00000',engine='python')\n",
    "CDDB"
   ]
  },
  {
   "cell_type": "code",
   "execution_count": null,
   "metadata": {},
   "outputs": [],
   "source": [
    "CDDB_groundTruth"
   ]
  },
  {
   "cell_type": "markdown",
   "metadata": {},
   "source": [
    "#### DBLP - ACM"
   ]
  },
  {
   "cell_type": "code",
   "execution_count": null,
   "metadata": {},
   "outputs": [],
   "source": [
    "ACM = os.path.abspath(\"ACM.csv\")\n",
    "DBLP = os.path.abspath(\"DBLP2.csv\")\n",
    "ACM_DBLP_trueValues = os.path.abspath(\"DBLP-ACM_perfectMapping.csv\")\n",
    "ACM = pd.read_csv(ACM)\n",
    "DBLP = pd.read_csv(DBLP, encoding='latin-1')\n",
    "ACM_DBLP_trueValues = pd.read_csv(ACM_DBLP_trueValues)"
   ]
  },
  {
   "cell_type": "markdown",
   "metadata": {},
   "source": [
    "#### CORA - 1st edition"
   ]
  },
  {
   "cell_type": "code",
   "execution_count": null,
   "metadata": {},
   "outputs": [],
   "source": [
    "fpcora = os.path.abspath(\"CORA.xml\")\n",
    "fpcora_gold = os.path.abspath(\"cora_gold.csv\")\n",
    "CORA1 = pdx.read_xml(fpcora,['CORA', 'NEWREFERENCE'],root_is_rows=False)\n",
    "CORA1['@id'] = pd.to_numeric(CORA1['@id']).subtract(1)\n",
    "CORA1_groundTruth = pd.read_csv(fpcora_gold,sep=';')\n",
    "CORA1_groundTruth['id1'] = pd.to_numeric(CORA1_groundTruth['id1']).subtract(1)\n",
    "CORA1_groundTruth['id2'] = pd.to_numeric(CORA1_groundTruth['id2']).subtract(1)"
   ]
  },
  {
   "cell_type": "markdown",
   "metadata": {},
   "source": [
    "### HeatMap"
   ]
  },
  {
   "cell_type": "code",
   "execution_count": 16,
   "metadata": {
    "tags": []
   },
   "outputs": [],
   "source": [
    "def myHeatmap(data,metric,distance):\n",
    "    if metric == 'edit':    \n",
    "        matrix  = np.zeros((len(data),len(data)), dtype=np.int)\n",
    "    else:\n",
    "        matrix = np.zeros((len(data),len(data)), dtype=np.float)\n",
    "    \n",
    "    for i in range(0,len(data),1):\n",
    "        for j in range(0,len(data),1):\n",
    "            if i != j:            \n",
    "                matrix[i][j]  = distance(data[i],data[j])\n",
    "\n",
    "                \n",
    "    fif,ax = plt.subplots(1,figsize=(10,10))\n",
    "    corr = np.corrcoef(matrix)\n",
    "    mask = np.zeros_like(corr)\n",
    "    mask[np.triu_indices_from(mask)] = True\n",
    "    ax = sns.heatmap(matrix, linewidth=0.5,annot=False,cmap=\"Blues_r\",mask=mask,fmt='.3g',ax=ax)\n",
    "    plt.show()\n",
    "    return matrix.mean()"
   ]
  },
  {
   "cell_type": "markdown",
   "metadata": {},
   "source": [
    "## __CORA Evaluation__"
   ]
  },
  {
   "cell_type": "markdown",
   "metadata": {},
   "source": [
    "### Text Preprocess"
   ]
  },
  {
   "cell_type": "code",
   "execution_count": 15,
   "metadata": {},
   "outputs": [],
   "source": [
    "def preprocess(row):\n",
    "\n",
    "    paper_str = \" \".join(row)\n",
    "\n",
    "    # Lower letters \n",
    "    paper_str = paper_str.lower()\n",
    "    \n",
    "    # Remove unwanted chars \n",
    "    paper_str = paper_str.replace(\"\\n\", \" \").replace(\"/z\", \" \")\n",
    "    \n",
    "    # Remove pancutation     \n",
    "    paper_str = paper_str.translate(str.maketrans('', '', string.punctuation))\n",
    "    \n",
    "    return str(paper_str)"
   ]
  },
  {
   "cell_type": "markdown",
   "metadata": {},
   "source": [
    "### Shuffle data"
   ]
  },
  {
   "cell_type": "code",
   "execution_count": null,
   "metadata": {},
   "outputs": [],
   "source": [
    "shuffled_df = dataset.sample(frac=1).reset_index(drop=True)\n",
    "# shuffled_df"
   ]
  },
  {
   "cell_type": "markdown",
   "metadata": {},
   "source": [
    "### Create CORA dataset "
   ]
  },
  {
   "cell_type": "code",
   "execution_count": 17,
   "metadata": {},
   "outputs": [],
   "source": [
    "def cora_createDataset(cora_dataframe, true_values, fields, keepNone = False):\n",
    "\n",
    "    rawStr_col = []\n",
    "    index_to_id_dict = {}\n",
    "    sameEntities_dictionary = {}\n",
    "\n",
    "    i=0\n",
    "    for _, row in tqdm(cora_dataframe.iterrows()):\n",
    "        index_to_id_dict[int(row['Entity Id'])] = i\n",
    "\n",
    "        rawStr = []\n",
    "        for field in fields:    # NAN\n",
    "            \n",
    "            if (isna(row[field]) and keepNone == True) or (keepNone == False and not isna(row[field])):\n",
    "                rawStr.append(str(row[field]))\n",
    "        i+=1\n",
    "        rawStr_col.append(preprocess(rawStr))\n",
    "\n",
    "    num_of_records = len(cora_dataframe)\n",
    "    trueValues_matrix = np.zeros([num_of_records,num_of_records],dtype=np.int8)\n",
    "\n",
    "    cluster_dict = {0:set()}\n",
    "    cluster_dict[0].add(0)\n",
    "    clusters = []\n",
    "    key = 0\n",
    "\n",
    "    for _, row in tqdm(true_values.iterrows()):  \n",
    "        # print(index_to_id_dict[row['id1']],index_to_id_dict[row['id2']])\n",
    "        trueValues_matrix[index_to_id_dict[row['id1']]][index_to_id_dict[row['id2']]] = 1\n",
    "        trueValues_matrix[index_to_id_dict[row['id2']]][index_to_id_dict[row['id1']]] = 1\n",
    "\n",
    "\n",
    "        if index_to_id_dict[row['id1']] in cluster_dict[key] or index_to_id_dict[row['id2']] in cluster_dict[key]:\n",
    "            cluster_dict[key].add(index_to_id_dict[row['id1']])\n",
    "            cluster_dict[key].add(index_to_id_dict[row['id2']])\n",
    "        elif index_to_id_dict[row['id1']] in cluster_dict[key] and index_to_id_dict[row['id2']] not in cluster_dict[key]: \n",
    "            cluster_dict[key].add(index_to_id_dict[row['id2']])\n",
    "        elif index_to_id_dict[row['id2']] in cluster_dict[key] and index_to_id_dict[row['id1']] not in cluster_dict[key]: \n",
    "            cluster_dict[key].add(index_to_id_dict[row['id1']])\n",
    "        elif index_to_id_dict[row['id2']] not in cluster_dict[key] and index_to_id_dict[row['id1']] not in cluster_dict[key]: \n",
    "            key+=1\n",
    "            cluster_dict[key] = set()\n",
    "            cluster_dict[key].add(index_to_id_dict[row['id1']])\n",
    "            cluster_dict[key].add(index_to_id_dict[row['id2']])    \n",
    "        clusters.append(key)\n",
    "\n",
    "        if index_to_id_dict[row['id1']] not in sameEntities_dictionary.keys():\n",
    "             sameEntities_dictionary[index_to_id_dict[row['id1']]] = []\n",
    "        sameEntities_dictionary[ index_to_id_dict[row['id1']]].append( index_to_id_dict[row['id2']])\n",
    "\n",
    "    return rawStr_col,sameEntities_dictionary, np.triu(trueValues_matrix), clusters\n",
    "\n",
    "def isna(value):\n",
    "    if isinstance(value, float) and math.isnan(value):\n",
    "        return True \n",
    "    else:\n",
    "        return False"
   ]
  },
  {
   "cell_type": "code",
   "execution_count": 18,
   "metadata": {},
   "outputs": [
    {
     "data": {
      "application/vnd.jupyter.widget-view+json": {
       "model_id": "efee3d54f2514508aa4bdbd7fab6ff4e",
       "version_major": 2,
       "version_minor": 0
      },
      "text/plain": [
       "HBox(children=(FloatProgress(value=1.0, bar_style='info', max=1.0), HTML(value='')))"
      ]
     },
     "metadata": {},
     "output_type": "display_data"
    },
    {
     "name": "stdout",
     "output_type": "stream",
     "text": [
      "\n"
     ]
    },
    {
     "data": {
      "application/vnd.jupyter.widget-view+json": {
       "model_id": "90e0db099dd246c399f55f071e28e56d",
       "version_major": 2,
       "version_minor": 0
      },
      "text/plain": [
       "HBox(children=(FloatProgress(value=1.0, bar_style='info', max=1.0), HTML(value='')))"
      ]
     },
     "metadata": {},
     "output_type": "display_data"
    },
    {
     "name": "stdout",
     "output_type": "stream",
     "text": [
      "\n"
     ]
    }
   ],
   "source": [
    "fields = [\n",
    "     'address',\n",
    "     'author',\n",
    "     'editor',\n",
    "     'institution',\n",
    "     'month',\n",
    "     'note',\n",
    "     'pages',\n",
    "     'publisher',\n",
    "     'title',\n",
    "     'venue',\n",
    "     'volume',\n",
    "     'year',\n",
    "     'Unnamed: 13'\n",
    "]\n",
    "\n",
    "fields = [\n",
    "     'author',\n",
    "     'title',\n",
    "]\n",
    "\n",
    "data, true_labels, true_matrix, clusters = cora_createDataset(CORA, CORA_groundTruth, fields)\n",
    "# data, true_labels, true_matrix, clusters = cora_createDataset(CORA1, CORA1_groundTruth, fields)"
   ]
  },
  {
   "cell_type": "markdown",
   "metadata": {},
   "source": [
    "#### Dataset attributes"
   ]
  },
  {
   "cell_type": "code",
   "execution_count": null,
   "metadata": {},
   "outputs": [],
   "source": [
    "list(CORA.columns)"
   ]
  },
  {
   "cell_type": "markdown",
   "metadata": {},
   "source": [
    "#### String length"
   ]
  },
  {
   "cell_type": "code",
   "execution_count": null,
   "metadata": {},
   "outputs": [],
   "source": [
    "data_length = [ len(x) for x in data ]\n",
    "print(\"Dataset size: \",len(data),\" strings-papers\")\n",
    "print(\"Average length: %d\" % (np.mean(data_length)))\n",
    "print(\"Min length: %d\" % (min(data_length)))\n",
    "print(\"Max length: %d\" % (max(data_length)))\n",
    "print(\"Median length: %d\" % (np.median(data_length)))"
   ]
  },
  {
   "cell_type": "code",
   "execution_count": null,
   "metadata": {},
   "outputs": [],
   "source": [
    "plt.figure(figsize=(15,5))\n",
    "plt.bar(range(0,len(data_length),1),data_length)\n",
    "plt.xlabel(\"Record index\")\n",
    "plt.ylabel(\"String length\")\n",
    "plt.title(\"StrLength\")\n",
    "plt.show()"
   ]
  },
  {
   "cell_type": "markdown",
   "metadata": {},
   "source": [
    "### Evaluation function\n",
    "\n",
    "Returns:\n",
    "- Accuracy\n",
    "- Precision\n",
    "- Recall\n",
    "- F1-score"
   ]
  },
  {
   "cell_type": "code",
   "execution_count": 19,
   "metadata": {
    "tags": []
   },
   "outputs": [],
   "source": [
    "#####################################################################\n",
    "#                          Evaluation                               # \n",
    "#####################################################################\n",
    "warnings.filterwarnings(\"ignore\", category=sklearn.exceptions.UndefinedMetricWarning)\n",
    "\n",
    "def evaluate_cora(predicted_matrix, true_matrix, with_classification_report=True ):\n",
    "\n",
    "    print(\"#####################################################################\\n#                          Evaluation                               #\\n#####################################################################\\n\")\n",
    "    true_matrix = sparse.triu(true_matrix)\n",
    "    predicted_matrix =  sparse.triu(predicted_matrix)\n",
    "\n",
    "    acc = 100*accuracy_score(true_matrix, predicted_matrix)\n",
    "    f1 =  100*f1_score(true_matrix, predicted_matrix, average='micro')\n",
    "    recall = 100*recall_score(true_matrix, predicted_matrix, average='micro')\n",
    "    precision = 100*precision_score(true_matrix, predicted_matrix, average='micro')\n",
    "\n",
    "    print(\"Accuracy:  %3.2f %%\" % (acc))\n",
    "    print(\"F1-Score:  %3.2f %%\" % (f1))\n",
    "    print(\"Recall:    %3.2f %%\" % (recall))\n",
    "    print(\"Precision: %3.2f %%\" % (precision))\n",
    "\n",
    "    if with_classification_report:\n",
    "        print(classification_report(true_matrix, predicted_matrix))\n",
    "        print('\\n\\n')\n",
    "\n",
    "    return acc,f1,precision,recall\n"
   ]
  },
  {
   "cell_type": "markdown",
   "metadata": {
    "tags": []
   },
   "source": [
    "### Jaccard VS Edit distance variance"
   ]
  },
  {
   "cell_type": "markdown",
   "metadata": {},
   "source": [
    "#### PCA for the embeddings evaluation"
   ]
  },
  {
   "cell_type": "code",
   "execution_count": 108,
   "metadata": {
    "tags": []
   },
   "outputs": [],
   "source": [
    "from sklearn.decomposition import PCA \n",
    "from numpy.linalg import svd\n",
    "\n",
    "def PCA_SpaceVisualization(X,Prototypes,title='PCA visualization',withText=False):\n",
    "    '''\n",
    "    PCA to given array X and creating a plot\n",
    "    Returns PCA components array after fit_transform\n",
    "    '''\n",
    "    \n",
    "    # PCA code\n",
    "    pca = PCA(n_components=2)\n",
    "    pca.fit(X)\n",
    "    pcaComponents = pca.fit_transform(X) # pcaComponents is the data that I'll use from PCA\n",
    "    \n",
    "    # Seperating components\n",
    "    first_component = [x[0] for x in pcaComponents]\n",
    "    second_component = [x[1] for x in pcaComponents]\n",
    "    \n",
    "    # Plotting code\n",
    "    fig, ax = plt.subplots(figsize=(25,10))\n",
    "    ax.scatter(first_component, second_component,alpha=0) \n",
    "    fig.suptitle(title,fontsize=15,fontweight=\"bold\")\n",
    "    \n",
    "    for x0, y0, i in zip(first_component, second_component,range(0,len(first_component),1)):\n",
    "        if(withText):\n",
    "            if i in Prototypes:\n",
    "                plt.text(x0,y0,i, ha=\"center\", va=\"center\",fontsize=16,color='r',fontweight=\"bold\")\n",
    "            else:\n",
    "                plt.text(x0,y0,i, ha=\"center\", va=\"center\",fontsize=8,color='b')\n",
    "        else:\n",
    "            if i in Prototypes:\n",
    "                plt.scatter(x0,y0,color='r',s=200,marker='*',alpha=1.0)\n",
    "            else:\n",
    "                plt.scatter(x0,y0,color='b',s=80,marker='.',alpha=0.3)\n",
    "\n",
    "    return pcaComponents"
   ]
  },
  {
   "cell_type": "markdown",
   "metadata": {},
   "source": [
    "### Prototype selection variance HeatMap"
   ]
  },
  {
   "cell_type": "code",
   "execution_count": 20,
   "metadata": {},
   "outputs": [],
   "source": [
    "def similarityProbsHeatMap(similarityProb_matrix,clusters,title):\n",
    "    fif,ax = plt.subplots(1,figsize=(20,20))\n",
    "    colors = ['red','green','blue','yellow','orange']\n",
    "    c=0\n",
    "    for cl in clusters:\n",
    "        for i  in range(0,len(cl)):\n",
    "            for j in range(i+1,len(cl)):\n",
    "                ax.add_patch(Rectangle((cl[j],cl[i]), 1, 1, fill=False, edgecolor=colors[c], lw=3))\n",
    "        c+=1\n",
    "#     corr = np.corrcoef(ed_matrix)\n",
    "#     mask = np.zeros_like(corr)\n",
    "#     mask[np.tril_indices_from(mask)] = True\n",
    "    ax.set_title(title,fontsize=20,fontweight='bold')\n",
    "    ax = sns.heatmap(similarityProb_matrix, linewidth=0.5,annot=True,cmap=\"Blues\",fmt='.3g',ax=ax)\n",
    "    plt.show()"
   ]
  },
  {
   "cell_type": "markdown",
   "metadata": {},
   "source": [
    "### Bigramms-Trigramms and jaccard_distance"
   ]
  },
  {
   "cell_type": "code",
   "execution_count": null,
   "metadata": {},
   "outputs": [],
   "source": [
    "sent = 'This is an example of bigramms and trigramms!'\n",
    "print(set(nltk.ngrams(sent, n=3)))\n",
    "print(set(nltk.ngrams(nltk.word_tokenize(sent), n=3)))\n",
    "print(nltk.jaccard_distance(set(nltk.ngrams(sent, n=3)),set(nltk.ngrams(sent, n=3))))\n",
    "print(nltk.jaccard_distance(set(nltk.ngrams(nltk.word_tokenize(sent), n=3)),set(nltk.ngrams(nltk.word_tokenize(sent), n=3))))\n",
    "\n",
    "s1 = \"m. ahlskog  j. paloheimo  h. stubb  p. dyreklev  m. fahlman  o. inganas and m.r.   andersson  nan j appl. phys.\"\n",
    "s2 = \"m. ahlskog  j. paloheimo  h. stubb  p. dyreklev  m. fahlman  o. inganas and m.r. andersson  j appl. phys. \"\n",
    "\n",
    "jc3 = jaccard_distance(set(nltk.ngrams(s1, n=3)),set(nltk.ngrams(s2, n=3)))\n",
    "js3 = jaccard_distance(set(nltk.ngrams(nltk.word_tokenize(s1), n=3)),set(nltk.ngrams(nltk.word_tokenize(s2), n=3)))\n",
    "jc2 = jaccard_distance(set(nltk.ngrams(s1, n=2)),set(nltk.ngrams(s2, n=2)))\n",
    "js2 = jaccard_distance(set(nltk.ngrams(nltk.word_tokenize(s1), n=2)),set(nltk.ngrams(nltk.word_tokenize(s2), n=2)))\n",
    "\n",
    "print(jc3,js3,jc2,js2)\n",
    "print(editdistance.eval(s1,s2))"
   ]
  },
  {
   "cell_type": "markdown",
   "metadata": {},
   "source": [
    "Results dataframe"
   ]
  },
  {
   "cell_type": "code",
   "execution_count": 22,
   "metadata": {},
   "outputs": [],
   "source": [
    "results_dataframe = pd.DataFrame(columns=['max_numberOf_clusters','max_editDistance','similarityThreshold','windowSize','metric','similarityVectors',\"distanceMetricEmbedding\",\"distanceMetric\",\"number_of_permutations\",\"ngramms\",\"jaccard_with_chars\",'Accuracy','Precision','Recall','F1','Time'])"
   ]
  },
  {
   "cell_type": "markdown",
   "metadata": {},
   "source": [
    "### CORA: Best Jaccard execution"
   ]
  },
  {
   "cell_type": "code",
   "execution_count": 70,
   "metadata": {
    "scrolled": true
   },
   "outputs": [
    {
     "name": "stdout",
     "output_type": "stream",
     "text": [
      "\n",
      "#####################################################################\n",
      "#     .~ RankedWTAHash with Vantage embeddings starts training ~.   #\n",
      "#####################################################################\n",
      "\n",
      "###########################################################\n",
      "# > 1. Prototype selection phase                          #\n",
      "###########################################################\n",
      "\n",
      "\n",
      "-> Finding prototypes and representatives of each cluster:\n"
     ]
    },
    {
     "data": {
      "application/vnd.jupyter.widget-view+json": {
       "model_id": "4a51c4e5050a408091fcb261304ca89d",
       "version_major": 2,
       "version_minor": 0
      },
      "text/plain": [
       "HBox(children=(FloatProgress(value=0.0, max=1295.0), HTML(value='')))"
      ]
     },
     "metadata": {},
     "output_type": "display_data"
    },
    {
     "name": "stdout",
     "output_type": "stream",
     "text": [
      "\n",
      "0.25\n",
      "Prototypes before:\n",
      "[3, 8, 12, 14, 17, 22, 28, 31, 51, 53, 56, 60, 65, 73, 76, 78, 81, 89, 97, 101, 105, 112, 114, 116, 119, 124, 148, 152, 155, 161, 168, 172, 178, 180, 190, 202, 206, 212, 232, 238, 242, 249, 265, 277, 314, 320, 323, 326, 328, 331, 337, 341, 343, 353, 368, 378, 381, 386, 389, 394, 397, 401, 408, 424, 429, 431, 434, 437, 442, 447, 452, 458, 460, 464, 468, 471, 475, 479, 483, 485, 489, 498, 512, 514, 519, 522, 536, 557, 563, 567, 575, 584, 588, 593, 597, 607, 611, 615, 620, 622, 625, 629, 633, 636, 640, 644, 648, 650, 653, 655, 659, 664, 667, 673, 676, 678, 682, 684, 690, 699, 708, 711, 713, 737, 756, 769, 785, 802, 806, 809, 811, 813, 816, 820, 824, 827, 845, 879, 897, 905, 907, 909, 914, 928, 940, 947, 950, 959, 965, 967, 970, 994, 1008, 1012, 1015, 1020, 1022, 1026, 1033, 1037, 1045, 1047, 1051, 1055, 1057, 1064, 1066, 1071, 1074, 1078, 1085, 1088, 1092, 1094, 1098, 1100, 1104, 1107, 1111, 1113, 1116, 1121, 1127, 1131, 1134, 1141, 1152, 1155, 1158, 1161, 1165, 1170, 1175, 1184, 1193, 1221, 1229, 1231, 1238, 1244, 1246, 1251, 1255, 1258, 1263, 1269, 1271, 1274, 1279, 1281, 1286, 1290, 1294]\n",
      "Not wanted:\n",
      "{512, 514, 1026, 519, 522, 12, 1037, 14, 1047, 1051, 28, 31, 1066, 1071, 1074, 51, 563, 1078, 567, 56, 60, 575, 1088, 65, 1094, 584, 73, 1098, 76, 588, 78, 1100, 1104, 1107, 1111, 1113, 1116, 611, 101, 615, 1127, 105, 1131, 622, 1134, 112, 625, 114, 116, 1141, 119, 633, 636, 124, 640, 1152, 1155, 1158, 648, 1161, 650, 653, 655, 659, 1175, 152, 664, 155, 667, 1184, 161, 673, 676, 678, 168, 1193, 172, 684, 699, 708, 1221, 713, 1231, 212, 1238, 1244, 1255, 1263, 1269, 1271, 249, 1274, 1279, 1281, 1294, 277, 802, 811, 813, 816, 820, 824, 827, 326, 328, 845, 343, 353, 368, 378, 381, 897, 386, 389, 394, 907, 401, 914, 408, 940, 431, 947, 950, 447, 959, 965, 967, 458, 970, 464, 468, 471, 475, 479, 994, 483, 485, 489, 1008, 1012}\n",
      "Final:\n",
      "[769, 3, 644, 1286, 8, 1033, 265, 1290, 905, 1165, 397, 909, 17, 1170, 785, 148, 1045, 22, 536, 1055, 928, 1057, 806, 1064, 809, 682, 424, 557, 429, 178, 690, 180, 53, 434, 437, 314, 442, 1085, 190, 320, 323, 1092, 452, 711, 202, 331, 460, 1229, 206, 81, 593, 337, 597, 341, 89, 1246, 607, 97, 1121, 737, 1251, 232, 1258, 620, 238, 879, 242, 498, 756, 629, 1015, 1020, 1022]\n",
      "\n",
      "- Prototypes selected\n",
      "[ 769    3  644 1286    8 1033  265 1290  905 1165  397  909   17 1170\n",
      "  785  148 1045   22  536 1055  928 1057  806 1064  809  682  424  557\n",
      "  429  178  690  180   53  434  437  314  442 1085  190  320  323 1092\n",
      "  452  711  202  331  460 1229  206   81  593  337  597  341   89 1246\n",
      "  607   97 1121  737 1251  232 1258  620  238  879  242  498  756  629\n",
      " 1015 1020 1022]\n",
      "769  ->  michael j kearns the computational complexity of machine learning\n",
      "3  ->  avrim blum merrick furst michael kearns and richard j lipton cryptographic primitives based on hard learning problems\n",
      "644  ->  m kearns m li l pitt and l valiant on the learnability of boolean formulae\n",
      "1286  ->  robert e schapire using output codes to boost multiclass learning problems\n",
      "8  ->  a blum m furst j jackson m kearns y mansour and s rudich weakly learning dnf and characterizing statistical query learning using fourier analysis\n",
      "1033  ->  kearns m a bound on the error of cross validation using the approximation and estimation rates with consequences for the trainingtest split\n",
      "265  ->  yoav freund data filtering and distribution modeling algorithms for machine learning\n",
      "1290  ->  robert e schapire and yoram singer improved boosting algorithms using confidencerated predictions\n",
      "905  ->  m kearns ymansour d ron r rubinfeld re schapire and l sellie on the learnability of discrete distributions\n",
      "1165  ->  robert e schapire yoav freund peter bartlett and wee sun lee boosting the margin a new explanation for the effectiveness of voting methods\n",
      "397  ->  freund y and schapire re a decisiontheoretic generalization of online learning and an application to boosting at web site httpwwwresearchattcomyoav or httpwwwresearchattcomorgsssrpeopleyoav an extended abstract appears in the proceedings of the second european conference on computational learning theory barcelona\n",
      "909  ->  michael kearns yishay mansour dana ron ronitt rubinfeld robert e schapire and linda sellie on the learnability of discrete distributions extended abstract\n",
      "17  ->  nicolo cesabianchi yoav freund david p helmbold david haussler robert e schapire and manfred k warmuth how to use expert advice\n",
      "1170  ->  r schapire the strength of weak learnability\n",
      "785  ->  m j kearns and r e schapire efficient distributionfree learning of probabilistic concepts\n",
      "148  ->  ehrenfeucht a haussler d kearns m and valiant l a general lower bound on the number of examples needed for learning\n",
      "1045  ->  michael kearns and yishay mansour on the boosting ability of topdown decision tree learning algorithms\n",
      "22  ->  cesabianchi n freund y helmbold d haussler d schapire r and warmuth m how to use expert advice\n",
      "536  ->  d haussler m kearns and r schapire bounds on the sample complexity of bayesian learning theory using information theory and the vc dimension\n",
      "1055  ->  kearns m mansour y and ng a y an informationtheoretic analysis of hard and soft assignment methods for clustering\n",
      "928  ->  kearns m j  vazirani u v an introduction to computational learning theory\n",
      "1057  ->  m kearns and d ron testing problems with sublearning sample complexity\n",
      "806  ->  kearns m oblivious pac learning of concepts hierarchies\n",
      "1064  ->  lewis d schapire r callan j and papka r training algorithms for linear text classifiers\n",
      "809  ->  kearns m j schapire r e and sellie l m toward efficient agnostic learning\n",
      "682  ->  m kearns m li l pitt and l valiant recent results on boolean concept learning\n",
      "424  ->  yoav freund robert e schapire yoram singer and manfred k warmuth using and combining predictors that specialize\n",
      "557  ->  d haussler m kearns h s seung and n tishby rigorous learning curve bounds from statistical mechanics\n",
      "429  ->  y freund h seung e shamir and n tishby selective sampling using the query by committee algorithm\n",
      "178  ->  m feder y freund and y mansour optimal universal learning and prediction of probabilistic concepts\n",
      "690  ->  m kearns and m li learning in the presence of malicious errors\n",
      "180  ->  yoav freund and robert e schapire adaptive game playing using multiplicative weights games and economic behavior\n",
      "53  ->  n cesabianchi y freund d p helmbold and m warmuth online prediction and conversion strategies\n",
      "434  ->  y freund and y mansour learning under persistent drift\n",
      "437  ->  sally a goldman ronald l rivest and robert e schapire learning binary relations and total orders\n",
      "314  ->  yoav freund and robert e schapire a decisiontheoretic generalization of online learning and an application to boosting\n",
      "442  ->  s a goldman m j kearns and r e schapire exact identification of circuits using fixed points of amplification functions\n",
      "1085  ->  rivest rl  schapire re a new approach to unsupervised learning in deterministic environments\n",
      "190  ->  y freund boosting a weak learning algorithm by majority\n",
      "320  ->  y freund and d ron learning to model sequences generated by switching distributions\n",
      "323  ->  y freund m kearns y mansour d ron r rubinfeld and r schapire efficient algorithms for learning to play repeated games against computationally bounded adversaries\n",
      "1092  ->  rivest rl and schapire re diversitybased inference of finite automata\n",
      "452  ->  sally a goldman michael j kearns and robert e schapire on the sample complexity of weak learning\n",
      "711  ->  m kearns and lg valiant learning boolean formulae or finite automata is as hard as factoring\n",
      "202  ->  yoav freund h sebastian seung eli shamir and naftali tishby information prediction and query by committee\n",
      "331  ->  y freund predicting a binary sequence as well as the optimal biased coin\n",
      "460  ->  s a goldman and m j kearns on the complexity of teaching\n",
      "1229  ->  robert e schapire the design and analysis of efficient learning algorithms\n",
      "206  ->  freund y seung h shamir e and tishby n information prediction and query by comittee\n",
      "81  ->  william w cohen robert e schapire and yoram singer learning to order things\n",
      "593  ->  d p helmbold and r e schapire predicting nearly as well as the best pruning of a decision tree\n",
      "337  ->  y freund and re schapire game theory online prediction and boosting\n",
      "597  ->  dp helmbold re schapire y singer mk warmuth a comparison of new and old algorithms for a mixture estimation problem\n",
      "341  ->  yoav freund and robert e schapire experiments with a new boosting algorithm\n",
      "89  ->  t dietterich m kearns and y mansour applying the weak learning framework to understand and improve c45\n",
      "1246  ->  robert e schapire learning probabilistic readonce formulas on product distributions\n",
      "607  ->  d p helmbold r e schapire y singer and m k warmuth online portfolio selection using multiplicative upyears\n",
      "97  ->  drucker h schapire r  simard p improving performance in neural networks using a boosting algorithm\n",
      "1121  ->  r rivest the md5 messagedigest algorithm request for comments informational rfc 1321\n",
      "737  ->  michael kearns and leslie valiant cryptographic limitations on learning boolean formulae and finite automata\n",
      "1251  ->  schapire r e and warmuth m k on the worstcase analysis of temporaldifference learing algorithms\n",
      "232  ->  y freund an improved boosting algorithm and its implications on learning complexity\n",
      "1258  ->  r e schapire and l m sellie learning sparse multivariate polynomials over a field with queries and counterexamples\n",
      "620  ->  kautz h kearns m and selman b reasoning with characteristic models\n",
      "238  ->  freund y and haussler d unsupervised learning of distributions on binary vectors using two layer networks\n",
      "879  ->  m kearns efficient noisetolerant learning from statistical queries\n",
      "242  ->  y freund m kearns d ron r rubinfeld re schapire and l sellie efficient learning of typical finite automata from random walks\n",
      "498  ->  d haussler m kearns n littlestone and m k warmuth equivalence of models for polynomial learnability\n",
      "756  ->  m kearns l pitt a polynomialtime algorithm for learning kvariable pattern languages from examples\n",
      "629  ->  kautz h kearns m and selman b horn approximations of empirical data\n",
      "1015  ->  m kearns m li and l valiant learning boolean formulae\n",
      "1020  ->  m kearns and h seung learning from a population of hypotheses\n",
      "1022  ->  m j kearns y mansour a ng  and d ron an experimental and theoretical comparison of model selection methods\n"
     ]
    },
    {
     "data": {
      "image/png": "[encoded data removed]",
      "text/plain": [
       "<Figure size 720x720 with 2 Axes>"
      ]
     },
     "metadata": {},
     "output_type": "display_data"
    },
    {
     "name": "stdout",
     "output_type": "stream",
     "text": [
      "\n",
      "- Mean variance in prototype selection:  0.8777744310143404\n",
      "\n",
      "- Final number of prototypes:  73\n",
      "\n",
      "# Finished in 0.9421 secs\n",
      "\n",
      "\n",
      "###########################################################\n",
      "# > 2. Embeddings based on the Vantage objects            #\n",
      "###########################################################\n",
      "\n",
      "\n",
      "-> Creating Embeddings:\n"
     ]
    },
    {
     "data": {
      "application/vnd.jupyter.widget-view+json": {
       "model_id": "5fa5f783f6a04d95b12ccdf721a79bb5",
       "version_major": 2,
       "version_minor": 0
      },
      "text/plain": [
       "HBox(children=(FloatProgress(value=0.0, max=1295.0), HTML(value='')))"
      ]
     },
     "metadata": {},
     "output_type": "display_data"
    },
    {
     "name": "stdout",
     "output_type": "stream",
     "text": [
      "\n",
      "- Embeddings created\n",
      "[[65 43 59 ... 64 56 55]\n",
      " [23  1 24 ...  6 14 37]\n",
      " [12  1 31 ... 11 15 37]\n",
      " ...\n",
      " [62 66 49 ... 38 50 55]\n",
      " [59 58 71 ... 63 65 66]\n",
      " [59 58 71 ... 63 65 66]]\n",
      "\n",
      "# Finished in 27.573 secs\n",
      "\n",
      "\n",
      "###########################################################\n",
      "# > 3. WTA Hashing                                        #\n",
      "###########################################################\n",
      "\n",
      "\n",
      "-> Creating WTA Buckets:\n",
      "- WTA buckets: \n",
      "[3]  ->  [0, 16, 28, 29, 37, 38, 40, 43, 49, 333, 334, 335, 336, 337, 338, 339, 589, 590, 591, 592, 593, 594, 595, 596, 597, 598, 599, 609, 611, 612, 613, 614, 615, 1081, 1089, 1090, 1091, 1092, 1093, 1094, 1095, 1096, 1097, 1098, 1099, 1100, 1101, 1102, 1103, 1104, 1106, 1107, 1108, 1109, 1110, 1111, 1113, 1114, 1115, 1116, 1117, 1118, 1119, 1122, 1126, 1127, 1128, 1129, 1130, 1131, 1133, 1134, 1135, 1136, 1137, 1138, 1139, 1140, 1141, 1142, 1143, 1144, 1145, 1146, 1147, 1148, 1149, 1151, 1152, 1153, 1155, 1156, 1157, 1158, 1159, 1160, 1161, 1162, 1163, 1166, 1241, 1248]\n",
      "[41]  ->  [1, 8, 13, 14, 15, 17, 18, 19, 20, 21, 22, 23, 24, 26, 27, 30, 31, 32, 33, 34, 35, 36, 39, 41, 42, 44, 45, 46, 47, 48, 50, 51, 63, 64, 65, 66, 67, 68, 69, 70, 74, 75, 76, 77, 78, 79, 80, 81, 82, 83, 84, 85, 86, 87, 88, 89, 90, 91, 92, 175, 176, 177, 178, 179, 180, 234, 235, 236, 237, 238, 239, 240, 241, 242, 243, 244, 245, 246, 247, 248, 249, 250, 251, 252, 253, 254, 255, 256, 257, 258, 259, 260, 261, 285, 286, 287, 288, 289, 290, 291, 292, 293, 294, 295, 296, 297, 298, 299, 300, 301, 302, 303, 304, 305, 306, 307, 308, 309, 310, 311, 312, 313, 314, 315, 316, 390, 391, 392, 393, 394, 395, 399, 402, 403, 404, 405, 406, 408, 409, 410, 411, 412, 413, 414, 415, 416, 417, 418, 419, 420, 421, 422, 423, 424, 425, 432, 433, 434, 442, 443, 444, 445, 446, 449, 450, 451, 452, 453, 454, 455, 456, 477, 480, 482, 483, 492, 494, 496, 501, 502, 505, 506, 507, 510, 513, 514, 520, 522, 558, 559, 586, 587, 600, 601, 602, 603, 604, 605, 606, 607, 608, 616, 617, 618, 619, 620, 622, 623, 624, 625, 634, 636, 780, 781, 782, 783, 784, 785, 786, 787, 788, 789, 790, 791, 792, 793, 794, 795, 796, 797, 798, 799, 800, 801, 802, 803, 807, 809, 810, 811, 812, 813, 814, 815, 816, 817, 818, 819, 820, 821, 822, 823, 824, 826, 827, 828, 829, 830, 831, 832, 833, 887, 903, 906, 908, 909, 910, 911, 912, 913, 914, 915, 916, 917, 920, 921, 922, 966, 967, 968, 969, 970, 971, 972, 973, 974, 975, 976, 977, 978, 1001, 1002, 1003, 1004, 1005, 1006, 1007, 1008, 1009, 1010, 1011, 1012, 1013, 1014, 1015, 1017, 1019, 1020, 1056, 1057, 1249, 1256, 1257, 1258]\n",
      "[53]  ->  [2, 3, 683, 688, 689, 690, 693, 694, 695, 696, 697, 698, 699, 700, 701, 702, 704, 705, 706, 707, 708, 757, 758, 759, 761, 763, 764, 765, 766, 767, 769, 771, 772, 774, 775, 776, 777, 834, 835, 836, 837, 839, 840, 841, 842, 843, 844, 845, 846, 847, 848, 849, 850, 851, 852, 854, 1042, 1043, 1045, 1121]\n",
      "[62]  ->  [4, 216, 217, 218, 219, 220, 221, 222, 231, 679, 680, 681, 684, 685, 686, 687, 691, 692, 703, 709, 710, 716, 804, 805, 806, 838, 853, 1018, 1031, 1032, 1033, 1034, 1035, 1036, 1037, 1038, 1039, 1040, 1052, 1053, 1054, 1055, 1058]\n",
      "[57]  ->  [5, 6, 7, 9, 181, 182, 183, 184, 185, 186, 187, 188, 189, 190, 191, 192, 193, 194, 195, 196, 197, 198, 199, 200, 267, 268, 269, 270, 271, 272, 273, 274, 275, 276, 277, 278, 279, 280, 281, 282, 283, 284, 426, 550, 551, 552, 553, 554, 555, 556, 557, 560, 561, 562, 563, 564, 565, 566, 567, 568, 588, 754, 755, 756, 855, 856, 857, 858, 859, 860, 861, 862, 863, 864, 865, 866, 867, 868, 869, 870, 871, 872, 873, 874, 875, 876, 877, 878, 879, 880, 881, 882, 883, 884, 885, 886, 888, 889, 890, 891, 892, 893, 894, 895, 896, 897, 898, 899, 900, 901, 902, 925, 926, 927, 928, 929, 930, 931, 932, 933, 934, 937, 939, 946, 964]\n",
      "[21]  ->  [10, 11, 12, 95, 96, 97, 98, 103, 108, 115, 116, 128, 436, 437, 438, 457, 458, 472, 473, 474, 475, 621, 712, 1082, 1083, 1084, 1085, 1086, 1087, 1088, 1105, 1123, 1124, 1125, 1132, 1150, 1225, 1283, 1284, 1285, 1286, 1287]\n",
      "[32]  ->  [25, 93, 94, 100, 101, 102, 104, 105, 106, 107, 109, 110, 111, 112, 113, 114, 120, 121, 122, 123, 124, 125, 126, 127, 340, 341, 352, 353, 354, 355, 365, 366, 367, 368, 369, 370, 371, 373, 374, 375, 376, 377, 378, 379, 381, 382, 383, 384, 385, 386, 387, 389, 400, 401]\n",
      "[67]  ->  [52, 53, 55, 56, 57, 58, 59, 60, 61, 62, 71, 72, 73, 427, 428, 429]\n",
      "[17]  ->  [54, 397, 1264]\n",
      "[23]  ->  [99, 439, 440, 441, 447, 448, 476, 478, 479, 481, 484, 485, 628, 629, 632, 635, 641, 779, 904, 905, 918, 919, 1112, 1154]\n",
      "[19]  ->  [117, 118, 119]\n",
      "[8]  ->  [129, 130, 131, 132, 133, 134, 135, 136, 137, 138, 139, 140, 141, 142, 143, 144, 145, 146, 147, 148, 149, 150, 151, 152, 153, 155, 156, 157, 158, 159, 160, 161, 162, 163, 164, 165, 167, 168, 169, 170, 171, 172, 173, 580, 1064, 1170, 1173, 1174, 1175, 1176, 1186, 1187, 1188, 1189, 1190, 1194, 1202, 1203, 1205, 1206, 1208, 1211, 1217, 1218, 1222]\n",
      "[2]  ->  [154, 166, 174, 459, 487, 626, 642, 643, 644, 645, 646, 647, 648, 649, 650, 651, 652, 653, 655, 656, 657, 658, 659, 660, 661, 662, 663, 664, 665, 666, 667, 668, 669, 670, 671, 672, 673, 674, 675, 676, 677, 678, 1041, 1044]\n",
      "[22]  ->  [201, 202, 203, 204, 205, 206, 207, 208, 209, 210, 211, 212, 213, 214, 215, 223, 224, 225, 226, 227, 228, 229, 230, 232, 233, 262, 263, 264, 265, 327, 711, 713, 1059]\n",
      "[46]  ->  [266]\n",
      "[12]  ->  [317, 318, 319, 320, 321, 460, 461, 462, 463, 464, 465, 466, 467, 468, 469, 470, 471, 486, 488, 489, 490, 682, 923, 924, 935, 936, 938, 940, 941, 942, 943, 944, 945, 947, 948, 949, 950, 951, 952, 953, 954, 955, 956, 957, 958, 959, 960, 961, 962, 963, 965, 1021, 1022, 1023, 1024, 1025, 1026, 1027, 1028, 1029, 1030, 1046, 1047, 1049, 1050, 1051]\n",
      "[48]  ->  [322, 323, 324, 325, 326, 328, 523, 524, 525, 526, 527, 528, 529, 530, 531, 532, 533, 534, 535, 536, 537, 538, 539, 540, 541, 542, 543, 544, 545, 546, 547, 548, 549, 569, 570, 571, 572, 573, 574, 575, 576, 577, 578, 579, 581, 582, 583, 584, 585, 654, 714, 715, 717, 718, 719, 720, 721, 722, 723, 724, 725, 726, 727, 728, 729, 730, 731, 732, 733, 734, 735, 736, 737, 738, 739, 740, 741, 742, 743, 744, 745, 746, 747, 748, 749, 750, 751, 752, 753, 979, 980, 981, 982, 983, 984, 985, 986, 987, 988, 989, 990, 991, 992, 993, 994, 995, 996, 997, 998, 999, 1000, 1016, 1048, 1060, 1062, 1063, 1065, 1066, 1067, 1068, 1069, 1070, 1071, 1072, 1073, 1074, 1075, 1076, 1077, 1078, 1079, 1080, 1224, 1292]\n",
      "[11]  ->  [329, 331, 332]\n",
      "[35]  ->  [330, 343, 344, 345, 346, 347, 348, 349, 350, 351, 356, 357, 358, 359, 360, 361, 362, 363, 364, 372, 380, 396, 398, 407, 430, 431, 610, 1171, 1230]\n",
      "[54]  ->  [342, 388, 1120, 1270]\n",
      "[30]  ->  [435, 1245, 1246]\n",
      "[4]  ->  [491, 493, 495, 497, 498, 499, 500, 503, 504, 508, 509, 511, 512, 515, 516, 517, 518, 519, 521, 627, 630, 631, 633, 637, 638, 639, 640, 760, 762, 768, 770, 773, 778]\n",
      "[55]  ->  [808, 825, 907, 1061, 1167, 1168, 1169, 1172, 1177, 1178, 1179, 1180, 1181, 1182, 1183, 1184, 1185, 1191, 1192, 1193, 1195, 1196, 1197, 1198, 1199, 1200, 1201, 1204, 1207, 1209, 1210, 1212, 1213, 1214, 1215, 1216, 1219, 1220, 1221, 1223, 1226, 1227, 1228, 1229, 1231, 1232, 1233, 1234, 1235, 1236, 1237, 1238, 1239, 1240, 1242, 1243, 1244, 1247, 1250, 1251, 1252, 1253, 1254, 1255]\n",
      "[26]  ->  [1164, 1165, 1260, 1261, 1262, 1263, 1266, 1267, 1268, 1269, 1271, 1272, 1273, 1274, 1275, 1276, 1277, 1278, 1279, 1280, 1281, 1282, 1291]\n",
      "[20]  ->  [1259]\n",
      "[47]  ->  [1265]\n",
      "[51]  ->  [1288, 1289, 1290, 1293, 1294]\n",
      "\n",
      "- WTA number of buckets:  27\n",
      "\n",
      "- WTA RankedVectors after permutation:\n",
      "[[36 42  5 ... 71  6 45]\n",
      " [57 28 50 ... 33 54 21]\n",
      " [58 22 46 ... 38 54 20]\n",
      " ...\n",
      " [ 8 30  9 ... 70  4 44]\n",
      " [15  5 20 ... 52  2 49]\n",
      " [15  5 20 ... 52  2 49]]\n",
      "\n",
      "# Finished in 0.1741 secs\n",
      "\n",
      "\n",
      "###########################################################\n",
      "# > 4. Similarity checking                                #\n",
      "###########################################################\n",
      "\n",
      "\n",
      "-> Similarity checking:\n"
     ]
    },
    {
     "data": {
      "application/vnd.jupyter.widget-view+json": {
       "model_id": "7d32f8397bf4469c99b53d3c10250078",
       "version_major": 2,
       "version_minor": 0
      },
      "text/plain": [
       "HBox(children=(FloatProgress(value=0.0, max=27.0), HTML(value='')))"
      ]
     },
     "metadata": {},
     "output_type": "display_data"
    },
    {
     "name": "stdout",
     "output_type": "stream",
     "text": [
      "[0, 16, 28, 29, 37, 38, 40, 43, 49, 333, 334, 335, 336, 337, 338, 339, 589, 590, 591, 592, 593, 594, 595, 596, 597, 598, 599, 609, 611, 612, 613, 614, 615, 1081, 1089, 1090, 1091, 1092, 1093, 1094, 1095, 1096, 1097, 1098, 1099, 1100, 1101, 1102, 1103, 1104, 1106, 1107, 1108, 1109, 1110, 1111, 1113, 1114, 1115, 1116, 1117, 1118, 1119, 1122, 1126, 1127, 1128, 1129, 1130, 1131, 1133, 1134, 1135, 1136, 1137, 1138, 1139, 1140, 1141, 1142, 1143, 1144, 1145, 1146, 1147, 1148, 1149, 1151, 1152, 1153, 1155, 1156, 1157, 1158, 1159, 1160, 1161, 1162, 1163, 1166, 1241, 1248]\n",
      "[1, 8, 13, 14, 15, 17, 18, 19, 20, 21, 22, 23, 24, 26, 27, 30, 31, 32, 33, 34, 35, 36, 39, 41, 42, 44, 45, 46, 47, 48, 50, 51, 63, 64, 65, 66, 67, 68, 69, 70, 74, 75, 76, 77, 78, 79, 80, 81, 82, 83, 84, 85, 86, 87, 88, 89, 90, 91, 92, 175, 176, 177, 178, 179, 180, 234, 235, 236, 237, 238, 239, 240, 241, 242, 243, 244, 245, 246, 247, 248, 249, 250, 251, 252, 253, 254, 255, 256, 257, 258, 259, 260, 261, 285, 286, 287, 288, 289, 290, 291, 292, 293, 294, 295, 296, 297, 298, 299, 300, 301, 302, 303, 304, 305, 306, 307, 308, 309, 310, 311, 312, 313, 314, 315, 316, 390, 391, 392, 393, 394, 395, 399, 402, 403, 404, 405, 406, 408, 409, 410, 411, 412, 413, 414, 415, 416, 417, 418, 419, 420, 421, 422, 423, 424, 425, 432, 433, 434, 442, 443, 444, 445, 446, 449, 450, 451, 452, 453, 454, 455, 456, 477, 480, 482, 483, 492, 494, 496, 501, 502, 505, 506, 507, 510, 513, 514, 520, 522, 558, 559, 586, 587, 600, 601, 602, 603, 604, 605, 606, 607, 608, 616, 617, 618, 619, 620, 622, 623, 624, 625, 634, 636, 780, 781, 782, 783, 784, 785, 786, 787, 788, 789, 790, 791, 792, 793, 794, 795, 796, 797, 798, 799, 800, 801, 802, 803, 807, 809, 810, 811, 812, 813, 814, 815, 816, 817, 818, 819, 820, 821, 822, 823, 824, 826, 827, 828, 829, 830, 831, 832, 833, 887, 903, 906, 908, 909, 910, 911, 912, 913, 914, 915, 916, 917, 920, 921, 922, 966, 967, 968, 969, 970, 971, 972, 973, 974, 975, 976, 977, 978, 1001, 1002, 1003, 1004, 1005, 1006, 1007, 1008, 1009, 1010, 1011, 1012, 1013, 1014, 1015, 1017, 1019, 1020, 1056, 1057, 1249, 1256, 1257, 1258]\n",
      "[2, 3, 683, 688, 689, 690, 693, 694, 695, 696, 697, 698, 699, 700, 701, 702, 704, 705, 706, 707, 708, 757, 758, 759, 761, 763, 764, 765, 766, 767, 769, 771, 772, 774, 775, 776, 777, 834, 835, 836, 837, 839, 840, 841, 842, 843, 844, 845, 846, 847, 848, 849, 850, 851, 852, 854, 1042, 1043, 1045, 1121]\n",
      "[4, 216, 217, 218, 219, 220, 221, 222, 231, 679, 680, 681, 684, 685, 686, 687, 691, 692, 703, 709, 710, 716, 804, 805, 806, 838, 853, 1018, 1031, 1032, 1033, 1034, 1035, 1036, 1037, 1038, 1039, 1040, 1052, 1053, 1054, 1055, 1058]\n",
      "[5, 6, 7, 9, 181, 182, 183, 184, 185, 186, 187, 188, 189, 190, 191, 192, 193, 194, 195, 196, 197, 198, 199, 200, 267, 268, 269, 270, 271, 272, 273, 274, 275, 276, 277, 278, 279, 280, 281, 282, 283, 284, 426, 550, 551, 552, 553, 554, 555, 556, 557, 560, 561, 562, 563, 564, 565, 566, 567, 568, 588, 754, 755, 756, 855, 856, 857, 858, 859, 860, 861, 862, 863, 864, 865, 866, 867, 868, 869, 870, 871, 872, 873, 874, 875, 876, 877, 878, 879, 880, 881, 882, 883, 884, 885, 886, 888, 889, 890, 891, 892, 893, 894, 895, 896, 897, 898, 899, 900, 901, 902, 925, 926, 927, 928, 929, 930, 931, 932, 933, 934, 937, 939, 946, 964]\n",
      "[10, 11, 12, 95, 96, 97, 98, 103, 108, 115, 116, 128, 436, 437, 438, 457, 458, 472, 473, 474, 475, 621, 712, 1082, 1083, 1084, 1085, 1086, 1087, 1088, 1105, 1123, 1124, 1125, 1132, 1150, 1225, 1283, 1284, 1285, 1286, 1287]\n",
      "[25, 93, 94, 100, 101, 102, 104, 105, 106, 107, 109, 110, 111, 112, 113, 114, 120, 121, 122, 123, 124, 125, 126, 127, 340, 341, 352, 353, 354, 355, 365, 366, 367, 368, 369, 370, 371, 373, 374, 375, 376, 377, 378, 379, 381, 382, 383, 384, 385, 386, 387, 389, 400, 401]\n",
      "[52, 53, 55, 56, 57, 58, 59, 60, 61, 62, 71, 72, 73, 427, 428, 429]\n",
      "[54, 397, 1264]\n",
      "[99, 439, 440, 441, 447, 448, 476, 478, 479, 481, 484, 485, 628, 629, 632, 635, 641, 779, 904, 905, 918, 919, 1112, 1154]\n",
      "[117, 118, 119]\n",
      "[129, 130, 131, 132, 133, 134, 135, 136, 137, 138, 139, 140, 141, 142, 143, 144, 145, 146, 147, 148, 149, 150, 151, 152, 153, 155, 156, 157, 158, 159, 160, 161, 162, 163, 164, 165, 167, 168, 169, 170, 171, 172, 173, 580, 1064, 1170, 1173, 1174, 1175, 1176, 1186, 1187, 1188, 1189, 1190, 1194, 1202, 1203, 1205, 1206, 1208, 1211, 1217, 1218, 1222]\n",
      "[154, 166, 174, 459, 487, 626, 642, 643, 644, 645, 646, 647, 648, 649, 650, 651, 652, 653, 655, 656, 657, 658, 659, 660, 661, 662, 663, 664, 665, 666, 667, 668, 669, 670, 671, 672, 673, 674, 675, 676, 677, 678, 1041, 1044]\n",
      "[201, 202, 203, 204, 205, 206, 207, 208, 209, 210, 211, 212, 213, 214, 215, 223, 224, 225, 226, 227, 228, 229, 230, 232, 233, 262, 263, 264, 265, 327, 711, 713, 1059]\n",
      "[266]\n",
      "[317, 318, 319, 320, 321, 460, 461, 462, 463, 464, 465, 466, 467, 468, 469, 470, 471, 486, 488, 489, 490, 682, 923, 924, 935, 936, 938, 940, 941, 942, 943, 944, 945, 947, 948, 949, 950, 951, 952, 953, 954, 955, 956, 957, 958, 959, 960, 961, 962, 963, 965, 1021, 1022, 1023, 1024, 1025, 1026, 1027, 1028, 1029, 1030, 1046, 1047, 1049, 1050, 1051]\n",
      "[322, 323, 324, 325, 326, 328, 523, 524, 525, 526, 527, 528, 529, 530, 531, 532, 533, 534, 535, 536, 537, 538, 539, 540, 541, 542, 543, 544, 545, 546, 547, 548, 549, 569, 570, 571, 572, 573, 574, 575, 576, 577, 578, 579, 581, 582, 583, 584, 585, 654, 714, 715, 717, 718, 719, 720, 721, 722, 723, 724, 725, 726, 727, 728, 729, 730, 731, 732, 733, 734, 735, 736, 737, 738, 739, 740, 741, 742, 743, 744, 745, 746, 747, 748, 749, 750, 751, 752, 753, 979, 980, 981, 982, 983, 984, 985, 986, 987, 988, 989, 990, 991, 992, 993, 994, 995, 996, 997, 998, 999, 1000, 1016, 1048, 1060, 1062, 1063, 1065, 1066, 1067, 1068, 1069, 1070, 1071, 1072, 1073, 1074, 1075, 1076, 1077, 1078, 1079, 1080, 1224, 1292]\n",
      "[329, 331, 332]\n",
      "[330, 343, 344, 345, 346, 347, 348, 349, 350, 351, 356, 357, 358, 359, 360, 361, 362, 363, 364, 372, 380, 396, 398, 407, 430, 431, 610, 1171, 1230]\n",
      "[342, 388, 1120, 1270]\n",
      "[435, 1245, 1246]\n",
      "[491, 493, 495, 497, 498, 499, 500, 503, 504, 508, 509, 511, 512, 515, 516, 517, 518, 519, 521, 627, 630, 631, 633, 637, 638, 639, 640, 760, 762, 768, 770, 773, 778]\n",
      "[808, 825, 907, 1061, 1167, 1168, 1169, 1172, 1177, 1178, 1179, 1180, 1181, 1182, 1183, 1184, 1185, 1191, 1192, 1193, 1195, 1196, 1197, 1198, 1199, 1200, 1201, 1204, 1207, 1209, 1210, 1212, 1213, 1214, 1215, 1216, 1219, 1220, 1221, 1223, 1226, 1227, 1228, 1229, 1231, 1232, 1233, 1234, 1235, 1236, 1237, 1238, 1239, 1240, 1242, 1243, 1244, 1247, 1250, 1251, 1252, 1253, 1254, 1255]\n",
      "[1164, 1165, 1260, 1261, 1262, 1263, 1266, 1267, 1268, 1269, 1271, 1272, 1273, 1274, 1275, 1276, 1277, 1278, 1279, 1280, 1281, 1282, 1291]\n",
      "[1259]\n",
      "[1265]\n",
      "[1288, 1289, 1290, 1293, 1294]\n",
      "\n",
      "- Similarity mapping in a matrix\n",
      "[[0 0 0 ... 0 0 0]\n",
      " [0 0 0 ... 0 0 0]\n",
      " [0 0 0 ... 0 0 0]\n",
      " ...\n",
      " [0 0 0 ... 0 0 0]\n",
      " [0 0 0 ... 0 0 1]\n",
      " [0 0 0 ... 0 0 0]]\n",
      "\n",
      "# Finished in 34.745 secs\n",
      "\n",
      "#####################################################################\n",
      "#                    .~         End        ~.                          #\n",
      "#####################################################################\n",
      "\n",
      "#####################################################################\n",
      "#                          Evaluation                               #\n",
      "#####################################################################\n",
      "\n",
      "Accuracy:  23.47 %\n",
      "F1-Score:  69.61 %\n",
      "Recall:    68.20 %\n",
      "Precision: 71.07 %\n",
      "Wall time: 1min 3s\n"
     ]
    }
   ],
   "source": [
    "%%time\n",
    "\n",
    "ngramms= 3                                  # If jaccard used, n-gramms are used\n",
    "jaccard_withchars = True                    # n-gramms either of chars and either of words\n",
    "\n",
    "# Prototype selection\n",
    "max_numberOf_clusters= 500                  # Νumber of loops for finding representatives, it is an upper bound of clusters.\n",
    "max_editDistance= 0.5                       # The threshold for the triangle inequality\n",
    "distanceMetric= 'jaccard'                   # Distance metric between the vectors when creating the space\n",
    "prototypesFilterThr = 0.4                   # Prototypes must differ more than that threshold\n",
    "\n",
    "# Embedding phase\n",
    "distanceMetricEmbedding = 'euclid_jaccard'  # Embedding metric\n",
    "\n",
    "# WTA algorithm\n",
    "windowSize= 70                             # Vector size for WTA algo\n",
    "number_of_permutations = 1                 # WTA number of permutations\n",
    "\n",
    "\n",
    "# Similarity evaluation\n",
    "similarityVectors='initial'                  # which vectors will be passed to WTA step\n",
    "similarityThreshold= 0.7                    # Similarity threshold for the final step\n",
    "metric='kendal'                             # Similarity metric between vectors\n",
    "\n",
    "\n",
    "start = time.time()\n",
    "model = RankedWTAHash(\n",
    "    max_numberOf_clusters= max_numberOf_clusters,    \n",
    "    max_editDistance= max_editDistance,    \n",
    "    windowSize= windowSize,    \n",
    "    similarityThreshold= similarityThreshold,    \n",
    "    metric=metric,    \n",
    "    similarityVectors=similarityVectors,    \n",
    "    number_of_permutations = number_of_permutations,\n",
    "    distanceMetric= distanceMetric,\n",
    "    distanceMetricEmbedding = distanceMetricEmbedding,\n",
    "    ngramms= ngramms,\n",
    "    jaccard_withchars = jaccard_withchars,\n",
    "    prototypesFilterThr = prototypesFilterThr\n",
    ")\n",
    "model = model.fit(data)\n",
    "acc,f1,precision,recall = evaluate_cora(model.mapping_matrix,true_matrix, False)\n",
    "exec_time = time.time() - start\n",
    "results_dataframe.loc[len(results_dataframe)+1] = [max_numberOf_clusters,max_editDistance,similarityThreshold,windowSize,metric,similarityVectors,distanceMetricEmbedding,distanceMetric,number_of_permutations,ngramms,jaccard_withchars,acc,precision,recall,f1,exec_time]"
   ]
  },
  {
   "cell_type": "markdown",
   "metadata": {},
   "source": [
    "### Embeddings"
   ]
  },
  {
   "cell_type": "code",
   "execution_count": 71,
   "metadata": {},
   "outputs": [
    {
     "data": {
      "image/png": "[encoded data removed]",
      "text/plain": [
       "<Figure size 1800x720 with 1 Axes>"
      ]
     },
     "metadata": {},
     "output_type": "display_data"
    }
   ],
   "source": [
    "pcaComponents = PCA_SpaceVisualization(model.Embeddings,model.prototypeArray)"
   ]
  },
  {
   "cell_type": "code",
   "execution_count": 109,
   "metadata": {},
   "outputs": [
    {
     "data": {
      "image/png": "[encoded data removed]",
      "text/plain": [
       "<Figure size 1800x720 with 1 Axes>"
      ]
     },
     "metadata": {},
     "output_type": "display_data"
    }
   ],
   "source": [
    "pcaComponents = PCA_SpaceVisualization(model.rankedVectors,model.prototypeArray)"
   ]
  },
  {
   "cell_type": "markdown",
   "metadata": {},
   "source": [
    "### CORA: Best Edit distance execution"
   ]
  },
  {
   "cell_type": "code",
   "execution_count": 56,
   "metadata": {
    "scrolled": true
   },
   "outputs": [
    {
     "name": "stdout",
     "output_type": "stream",
     "text": [
      "\n",
      "#####################################################################\n",
      "#     .~ RankedWTAHash with Vantage embeddings starts training ~.   #\n",
      "#####################################################################\n",
      "\n",
      "###########################################################\n",
      "# > 1. Prototype selection phase                          #\n",
      "###########################################################\n",
      "\n",
      "\n",
      "-> Finding prototypes and representatives of each cluster:\n"
     ]
    },
    {
     "data": {
      "application/vnd.jupyter.widget-view+json": {
       "model_id": "d664c0216748476f98bbc6f9bc8e77eb",
       "version_major": 2,
       "version_minor": 0
      },
      "text/plain": [
       "HBox(children=(FloatProgress(value=0.0, max=1295.0), HTML(value='')))"
      ]
     },
     "metadata": {},
     "output_type": "display_data"
    },
    {
     "name": "stdout",
     "output_type": "stream",
     "text": [
      "\n",
      "60.0\n",
      "Prototypes before:\n",
      "[3, 11, 49, 53, 56, 66, 73, 77, 82, 89, 97, 103, 122, 171, 178, 180, 197, 209, 232, 238, 257, 265, 267, 277, 296, 320, 328, 349, 394, 406, 424, 428, 435, 438, 443, 465, 478, 489, 500, 534, 568, 575, 582, 585, 588, 593, 599, 606, 615, 624, 669, 711, 739, 756, 769, 796, 810, 843, 914, 950, 973, 985, 1010, 1019, 1029, 1033, 1037, 1045, 1047, 1051, 1055, 1057, 1059, 1077, 1085, 1103, 1119, 1121, 1142, 1165, 1187, 1203, 1228, 1232, 1245, 1253, 1258, 1262, 1265, 1269, 1274, 1282, 1286, 1290, 1292, 1294]\n",
      "Not wanted:\n",
      "{769, 1282, 1286, 394, 267, 1037, 1294, 277, 406, 1047, 1051, 669, 1057, 1187, 810, 428, 435, 1203, 438, 950, 56, 575, 66, 197, 582, 73, 585, 843, 1228, 77, 588, 973, 1232, 465, 985, 349, 478, 1119, 103, 615, 489, 1262, 624, 1265, 1010, 1269, 1142, 1274, 1019}\n",
      "Final:\n",
      "[257, 3, 1029, 1033, 265, 11, 1290, 1165, 1292, 914, 1045, 534, 796, 1055, 1059, 296, 424, 171, 49, 178, 180, 53, 1077, 568, 443, 1085, 320, 711, 328, 1103, 593, 82, 209, 599, 89, 1245, 606, 97, 1121, 739, 1253, 232, 1258, 238, 756, 500, 122]\n",
      "\n",
      "- Prototypes selected\n",
      "[ 257    3 1029 1033  265   11 1290 1165 1292  914 1045  534  796 1055\n",
      " 1059  296  424  171   49  178  180   53 1077  568  443 1085  320  711\n",
      "  328 1103  593   82  209  599   89 1245  606   97 1121  739 1253  232\n",
      " 1258  238  756  500  122]\n",
      "257  ->  y freund m kearns d ron r rubinfeld re schapire and l sellie efficient learning of typical finite automata from random walks\n",
      "3  ->  avrim blum merrick furst michael kearns and richard j lipton cryptographic primitives based on hard learning problems\n",
      "1029  ->  m kearns y mansour a y ng and d ron an experimental and theoretical comparison of model selection methods\n",
      "1033  ->  kearns m a bound on the error of cross validation using the approximation and estimation rates with consequences for the trainingtest split\n",
      "265  ->  yoav freund data filtering and distribution modeling algorithms for machine learning\n",
      "11  ->  avrim blum merrick furst jeffery jackson michael kearns yishay mansour and steven rudich weakly learning dnf and characterizing statistical query learning using fourier analysis\n",
      "1290  ->  robert e schapire and yoram singer improved boosting algorithms using confidencerated predictions\n",
      "1165  ->  robert e schapire yoav freund peter bartlett and wee sun lee boosting the margin a new explanation for the effectiveness of voting methods\n",
      "1292  ->  robert e schapire and yoram singer boostexter a system for multiclass multilabel text categorization\n",
      "914  ->  m kearns y mansour d ron r rubinfeld r e schapire and l sellie on the learnability of discrete distributions\n",
      "1045  ->  michael kearns and yishay mansour on the boosting ability of topdown decision tree learning algorithms\n",
      "534  ->  d haussler m kearns and r schapire bounds on the sample complexity of bayesian learning using information theory and the vcdimension\n",
      "796  ->  m kearns and r schapire efficient distributionfree learning of probabilistic concepts\n",
      "1055  ->  kearns m mansour y and ng a y an informationtheoretic analysis of hard and soft assignment methods for clustering\n",
      "1059  ->  m kearns y mansour and a ng a sparse sampling algorithm for nearoptimal planning in large markov decision processes 1999\n",
      "296  ->  freund y and schapire r a decisiontheoretic generalization of online learning and an application to boosting\n",
      "424  ->  yoav freund robert e schapire yoram singer and manfred k warmuth using and combining predictors that specialize\n",
      "171  ->  a ehrenfeucht d haussler m kearns and l valiant a general lower bound on the number of examples needed for learning\n",
      "49  ->  n cesabianchi y freund dp helmbold d haussler re schapire and mk warmuth how to use expert advice\n",
      "178  ->  m feder y freund and y mansour optimal universal learning and prediction of probabilistic concepts\n",
      "180  ->  yoav freund and robert e schapire adaptive game playing using multiplicative weights games and economic behavior\n",
      "53  ->  n cesabianchi y freund d p helmbold and m warmuth online prediction and conversion strategies\n",
      "1077  ->  d lewis r e shapire j p callan and r papka training algorithms for linear text classifiers\n",
      "568  ->  d haussler m kearns h s seung and n tishby rigorous learning curve bounds from statistical mechanics\n",
      "443  ->  sally a goldman michael j kearns and robert e schapire exact identification of circuits using fixed points of amplification functions\n",
      "1085  ->  rivest rl  schapire re a new approach to unsupervised learning in deterministic environments\n",
      "320  ->  y freund and d ron learning to model sequences generated by switching distributions\n",
      "711  ->  m kearns and lg valiant learning boolean formulae or finite automata is as hard as factoring\n",
      "328  ->  y freund m kearns y mansour d ron r rubinfeld and r e schapire efficient algorithms for learning to play repeated games against computationally bounded adversaries\n",
      "1103  ->  ronald l rivest and robert e schapire diversitybased inference of finite automata\n",
      "593  ->  d p helmbold and r e schapire predicting nearly as well as the best pruning of a decision tree\n",
      "82  ->  w w cohen r e shapire and y singer learning to order things\n",
      "209  ->  y freund h s seung e shamir and n tishby 1993 information prediction and query by committee\n",
      "599  ->  d helmbold r e schapire y singer and m k warmuth a comparison of new and old algorithms for a mixture estimation problem\n",
      "89  ->  t dietterich m kearns and y mansour applying the weak learning framework to understand and improve c45\n",
      "1245  ->  robert e schapire learning probabilistic readonce formulas on product distributions\n",
      "606  ->  d helmbold r e schapire y singer and m k warmuth online portfolio selection using multiplicative upyears\n",
      "97  ->  drucker h schapire r  simard p improving performance in neural networks using a boosting algorithm\n",
      "1121  ->  r rivest the md5 messagedigest algorithm request for comments informational rfc 1321\n",
      "739  ->  m kearns and l g valiant cryptographic limitations on learning boolean formulae and finite automata\n",
      "1253  ->  robert e schapire and manfred k warmuth on the worstcase analysis of temporaldifference learning algorithms\n",
      "232  ->  y freund an improved boosting algorithm and its implications on learning complexity\n",
      "1258  ->  r e schapire and l m sellie learning sparse multivariate polynomials over a field with queries and counterexamples\n",
      "238  ->  freund y and haussler d unsupervised learning of distributions on binary vectors using two layer networks\n",
      "756  ->  m kearns l pitt a polynomialtime algorithm for learning kvariable pattern languages from examples\n",
      "500  ->  d haussler m kearns n littlestone and m k warmuth equivalence of models for polynomial learnability\n",
      "122  ->  harris drucker robert schapire and patrice simard boosting performance in neural networks\n"
     ]
    },
    {
     "data": {
      "image/png": "[encoded data removed]",
      "text/plain": [
       "<Figure size 720x720 with 2 Axes>"
      ]
     },
     "metadata": {},
     "output_type": "display_data"
    },
    {
     "name": "stdout",
     "output_type": "stream",
     "text": [
      "\n",
      "- Mean variance in prototype selection:  83.12630149388863\n",
      "\n",
      "- Final number of prototypes:  47\n",
      "\n",
      "# Finished in 0.5870 secs\n",
      "\n",
      "\n",
      "###########################################################\n",
      "# > 2. Embeddings based on the Vantage objects            #\n",
      "###########################################################\n",
      "\n",
      "\n",
      "-> Creating Embeddings:\n"
     ]
    },
    {
     "data": {
      "application/vnd.jupyter.widget-view+json": {
       "model_id": "2c1a8f70715243f78e0c49c287bd190c",
       "version_major": 2,
       "version_minor": 0
      },
      "text/plain": [
       "HBox(children=(FloatProgress(value=0.0, max=1295.0), HTML(value='')))"
      ]
     },
     "metadata": {},
     "output_type": "display_data"
    },
    {
     "name": "stdout",
     "output_type": "stream",
     "text": [
      "\n",
      "- Embeddings created\n",
      "[[ 9 10 12 ... 12  8  6]\n",
      " [18  1 11 ...  9  7  9]\n",
      " [16  1 13 ... 11  8  4]\n",
      " ...\n",
      " [22 23 12 ... 13 17  7]\n",
      " [29 28 17 ... 16 23  7]\n",
      " [29 28 17 ... 16 23  7]]\n",
      "\n",
      "# Finished in 10.128 secs\n",
      "\n",
      "\n",
      "###########################################################\n",
      "# > 3. WTA Hashing                                        #\n",
      "###########################################################\n",
      "\n",
      "\n",
      "-> Creating WTA Buckets:\n",
      "- WTA buckets: \n",
      "[34  8  8 13 15 13 14 31 21  2]  ->  [0, 536, 1073]\n",
      "[34 36  8 13 15 13 14 31 21  2]  ->  [1, 4, 15, 16, 17, 18, 19, 20, 21, 22, 23, 24, 25, 26, 27, 28, 29, 30, 31, 32, 33, 34, 35, 36, 37, 38, 39, 40, 41, 42, 43, 44, 45, 46, 47, 48, 49, 50, 51, 52, 53, 54, 55, 56, 57, 58, 59, 60, 61, 62, 63, 64, 65, 66, 67, 68, 69, 70, 71, 72, 73, 74, 75, 76, 77, 78, 79, 80, 81, 82, 84, 85, 86, 93, 94, 95, 96, 97, 98, 99, 100, 101, 102, 103, 104, 105, 106, 107, 108, 109, 110, 111, 112, 113, 114, 115, 116, 117, 118, 119, 120, 121, 122, 123, 124, 125, 126, 127, 128, 129, 130, 131, 132, 133, 134, 135, 136, 137, 138, 139, 140, 141, 142, 143, 144, 145, 146, 147, 148, 149, 150, 151, 152, 153, 154, 155, 156, 157, 158, 159, 160, 161, 162, 163, 164, 165, 166, 167, 168, 169, 170, 171, 172, 173, 174, 175, 176, 177, 178, 179, 180, 181, 182, 183, 184, 185, 186, 187, 188, 189, 190, 191, 192, 193, 194, 195, 196, 197, 198, 199, 200, 201, 202, 203, 204, 205, 206, 207, 208, 209, 210, 211, 212, 213, 214, 215, 216, 217, 218, 219, 220, 221, 222, 223, 224, 225, 226, 227, 228, 229, 230, 231, 232, 233, 234, 235, 236, 237, 238, 239, 240, 262, 263, 264, 265, 266, 267, 268, 269, 270, 271, 272, 273, 274, 275, 276, 277, 278, 279, 280, 281, 282, 283, 284, 285, 286, 287, 288, 289, 290, 291, 292, 293, 294, 295, 296, 297, 298, 299, 300, 301, 302, 303, 304, 305, 306, 307, 308, 309, 310, 311, 312, 313, 314, 315, 316, 317, 318, 319, 320, 321, 329, 330, 331, 332, 333, 334, 335, 336, 337, 338, 339, 340, 341, 342, 343, 344, 345, 346, 347, 348, 349, 350, 351, 352, 353, 354, 355, 356, 357, 358, 359, 360, 361, 362, 363, 364, 365, 366, 367, 368, 369, 370, 371, 372, 373, 374, 375, 376, 377, 378, 379, 380, 381, 382, 383, 384, 385, 386, 387, 388, 389, 390, 391, 392, 393, 394, 395, 399, 400, 401, 402, 403, 404, 405, 406, 407, 408, 409, 410, 411, 412, 413, 414, 415, 416, 417, 418, 419, 420, 421, 422, 423, 424, 425, 426, 427, 428, 429, 430, 431, 432, 433, 434, 435, 436, 437, 438, 439, 440, 441, 442, 443, 444, 445, 446, 447, 448, 449, 450, 451, 452, 453, 454, 455, 456, 457, 458, 459, 460, 461, 462, 463, 464, 465, 466, 467, 468, 469, 470, 471, 472, 473, 474, 475, 477, 480, 482, 483, 485, 486, 487, 488, 489, 490, 491, 493, 495, 497, 498, 499, 500, 503, 504, 508, 509, 512, 515, 516, 517, 518, 519, 523, 524, 525, 526, 527, 528, 529, 530, 531, 532, 533, 534, 535, 537, 538, 539, 540, 541, 542, 543, 544, 545, 546, 547, 548, 549, 550, 551, 552, 553, 554, 555, 556, 557, 558, 559, 560, 561, 562, 563, 564, 565, 566, 567, 568, 569, 570, 571, 572, 573, 574, 575, 576, 577, 578, 579, 580, 581, 582, 583, 584, 585, 586, 588, 589, 590, 591, 592, 593, 594, 595, 596, 597, 598, 599, 600, 601, 602, 603, 604, 605, 606, 607, 608, 609, 610, 611, 612, 613, 614, 615, 616, 617, 618, 619, 620, 621, 622, 623, 624, 625, 626, 627, 628, 629, 630, 631, 632, 633, 634, 635, 636, 637, 638, 639, 640, 641, 642, 643, 644, 645, 646, 647, 648, 649, 650, 651, 652, 653, 654, 655, 656, 657, 658, 659, 660, 661, 662, 663, 664, 665, 666, 667, 668, 669, 670, 671, 672, 673, 674, 675, 676, 677, 678, 679, 680, 681, 682, 683, 684, 685, 686, 687, 688, 689, 690, 691, 692, 693, 694, 695, 696, 697, 698, 699, 700, 701, 702, 703, 704, 705, 706, 707, 708, 709, 710, 711, 712, 713, 714, 715, 716, 717, 718, 719, 720, 721, 722, 723, 724, 725, 726, 727, 728, 729, 730, 731, 732, 733, 734, 735, 736, 737, 738, 739, 740, 741, 742, 743, 744, 745, 746, 747, 748, 749, 750, 751, 752, 753, 755, 756, 757, 758, 759, 760, 761, 762, 763, 764, 765, 766, 767, 768, 769, 770, 771, 772, 773, 774, 775, 776, 777, 778, 779, 780, 781, 782, 784, 796, 797, 804, 805, 806, 807, 808, 809, 810, 811, 812, 813, 814, 815, 816, 817, 818, 819, 820, 821, 822, 823, 824, 825, 826, 827, 828, 829, 830, 831, 832, 833, 834, 835, 836, 837, 838, 839, 840, 841, 842, 843, 844, 845, 846, 847, 848, 849, 850, 851, 852, 853, 854, 855, 856, 857, 858, 859, 860, 861, 862, 863, 864, 865, 866, 867, 868, 869, 870, 871, 872, 873, 874, 875, 876, 877, 878, 879, 880, 881, 882, 883, 884, 885, 886, 887, 888, 889, 890, 891, 892, 893, 894, 895, 896, 897, 898, 899, 900, 901, 902, 903, 923, 924, 925, 926, 927, 928, 929, 930, 931, 932, 933, 934, 935, 936, 937, 938, 939, 940, 941, 942, 943, 944, 945, 946, 947, 948, 949, 950, 951, 952, 953, 954, 955, 956, 957, 958, 959, 960, 961, 962, 963, 964, 965, 966, 967, 968, 969, 971, 973, 974, 977, 979, 980, 981, 982, 983, 984, 985, 986, 987, 988, 989, 990, 991, 992, 993, 994, 995, 996, 997, 998, 999, 1000, 1001, 1002, 1003, 1004, 1005, 1006, 1007, 1008, 1009, 1010, 1011, 1012, 1013, 1014, 1015, 1016, 1018, 1019, 1020, 1021, 1022, 1023, 1024, 1025, 1026, 1027, 1028, 1029, 1030, 1031, 1032, 1033, 1034, 1035, 1036, 1037, 1038, 1039, 1040, 1041, 1044, 1046, 1047, 1048, 1049, 1050, 1051, 1052, 1053, 1055, 1056, 1057, 1058, 1060, 1061, 1062, 1063, 1064, 1065, 1066, 1067, 1068, 1069, 1070, 1071, 1072, 1074, 1075, 1076, 1077, 1078, 1079, 1080, 1081, 1082, 1083, 1084, 1085, 1086, 1087, 1088, 1089, 1090, 1091, 1092, 1093, 1094, 1095, 1096, 1097, 1098, 1099, 1100, 1101, 1102, 1103, 1104, 1105, 1106, 1107, 1108, 1109, 1110, 1111, 1112, 1113, 1114, 1115, 1116, 1117, 1118, 1119, 1120, 1121, 1122, 1123, 1124, 1125, 1126, 1127, 1128, 1129, 1130, 1131, 1132, 1133, 1134, 1135, 1136, 1137, 1138, 1139, 1140, 1141, 1142, 1143, 1144, 1145, 1146, 1147, 1148, 1149, 1150, 1151, 1152, 1153, 1154, 1155, 1156, 1157, 1158, 1159, 1160, 1161, 1162, 1163, 1164, 1165, 1166, 1167, 1168, 1169, 1170, 1171, 1172, 1173, 1174, 1175, 1176, 1177, 1178, 1179, 1180, 1181, 1182, 1183, 1184, 1185, 1186, 1187, 1188, 1189, 1190, 1191, 1192, 1193, 1194, 1195, 1196, 1197, 1198, 1199, 1200, 1201, 1202, 1203, 1204, 1205, 1206, 1207, 1208, 1209, 1210, 1211, 1212, 1213, 1214, 1215, 1216, 1217, 1218, 1219, 1220, 1221, 1222, 1223, 1224, 1225, 1226, 1227, 1228, 1229, 1230, 1231, 1232, 1233, 1234, 1235, 1236, 1237, 1238, 1239, 1240, 1241, 1242, 1243, 1244, 1245, 1246, 1247, 1248, 1249, 1250, 1251, 1252, 1253, 1254, 1255, 1256, 1257, 1258, 1259, 1260, 1261, 1262, 1263, 1264, 1265, 1266, 1267, 1268, 1269, 1270, 1271, 1272, 1273, 1274, 1275, 1276, 1277, 1278, 1279, 1280, 1281, 1282, 1283, 1284, 1285, 1286, 1287, 1288, 1289, 1290, 1291, 1292, 1293, 1294]\n",
      "[28 36  2 35 10 35 13 31 17  3]  ->  [2, 3, 5, 6, 7, 8, 13, 14, 83, 90, 492, 494, 496, 501, 502, 505, 506, 507, 510, 513, 514, 520, 522, 587, 1042, 1043, 1045]\n",
      "[21  6  3  2 16  3 23  6  9 27]  ->  [9]\n",
      "[21  6  9  2 16  3 23  6  9 27]  ->  [10, 11, 12]\n",
      "[28 36  2 13 10 13 13 31 17  2]  ->  [87, 88, 89, 91, 92]\n",
      "[34  8  8 13 15 13 14 14 21  2]  ->  [241, 242, 244, 245, 247, 249, 250, 251, 254, 255, 256, 257, 258, 260, 261, 789, 791, 792, 798, 799, 800, 803, 911, 912, 916, 921, 978]\n",
      "[34  8  8 13 15 13 14  6 21  2]  ->  [243, 246, 248, 252, 253, 259]\n",
      "[34 21  8 13 15 13 14 14 21  2]  ->  [322, 323, 325, 327, 476, 478, 479, 481, 484, 511, 521, 754, 783, 785, 786, 787, 788, 790, 793, 794, 795, 801, 802, 904, 905, 906, 907, 910, 913, 914, 915, 917, 918, 919, 920, 922, 970, 972, 975, 976, 1054, 1059]\n",
      "[13 26  9 25  1 20  1 13 33 18]  ->  [324]\n",
      "[34 26  8 13 15 13 14 13 21  2]  ->  [326, 328]\n",
      "[21  6  9  2  1 26  1 24 36 18]  ->  [396]\n",
      "[33 27  9  3  1 26  1 24 36 18]  ->  [397]\n",
      "[ 2 11  9  5  1 26  1 24 36 18]  ->  [398]\n",
      "[34 27  8 13 15 13 14  6 21  2]  ->  [908, 909]\n",
      "[34  8  8 13 15 13 14 34 21  2]  ->  [1017]\n",
      "\n",
      "- WTA number of buckets:  16\n",
      "\n",
      "- WTA RankedVectors after permutation:\n",
      "[[11 13 20 ...  7  7  8]\n",
      " [16  7 23 ...  9  5  2]\n",
      " [14  7 19 ...  9  5  6]\n",
      " ...\n",
      " [15  4 27 ...  2  5 14]\n",
      " [19 10 33 ...  1  4 20]\n",
      " [19 10 33 ...  1  4 20]]\n",
      "\n",
      "# Finished in 0.4313 secs\n",
      "\n",
      "\n",
      "###########################################################\n",
      "# > 4. Similarity checking                                #\n",
      "###########################################################\n",
      "\n",
      "\n",
      "-> Similarity checking:\n"
     ]
    },
    {
     "data": {
      "application/vnd.jupyter.widget-view+json": {
       "model_id": "0700be2921e648ae92c584d37847153e",
       "version_major": 2,
       "version_minor": 0
      },
      "text/plain": [
       "HBox(children=(FloatProgress(value=0.0, max=16.0), HTML(value='')))"
      ]
     },
     "metadata": {},
     "output_type": "display_data"
    },
    {
     "name": "stdout",
     "output_type": "stream",
     "text": [
      "[0, 536, 1073]\n",
      "[1, 4, 15, 16, 17, 18, 19, 20, 21, 22, 23, 24, 25, 26, 27, 28, 29, 30, 31, 32, 33, 34, 35, 36, 37, 38, 39, 40, 41, 42, 43, 44, 45, 46, 47, 48, 49, 50, 51, 52, 53, 54, 55, 56, 57, 58, 59, 60, 61, 62, 63, 64, 65, 66, 67, 68, 69, 70, 71, 72, 73, 74, 75, 76, 77, 78, 79, 80, 81, 82, 84, 85, 86, 93, 94, 95, 96, 97, 98, 99, 100, 101, 102, 103, 104, 105, 106, 107, 108, 109, 110, 111, 112, 113, 114, 115, 116, 117, 118, 119, 120, 121, 122, 123, 124, 125, 126, 127, 128, 129, 130, 131, 132, 133, 134, 135, 136, 137, 138, 139, 140, 141, 142, 143, 144, 145, 146, 147, 148, 149, 150, 151, 152, 153, 154, 155, 156, 157, 158, 159, 160, 161, 162, 163, 164, 165, 166, 167, 168, 169, 170, 171, 172, 173, 174, 175, 176, 177, 178, 179, 180, 181, 182, 183, 184, 185, 186, 187, 188, 189, 190, 191, 192, 193, 194, 195, 196, 197, 198, 199, 200, 201, 202, 203, 204, 205, 206, 207, 208, 209, 210, 211, 212, 213, 214, 215, 216, 217, 218, 219, 220, 221, 222, 223, 224, 225, 226, 227, 228, 229, 230, 231, 232, 233, 234, 235, 236, 237, 238, 239, 240, 262, 263, 264, 265, 266, 267, 268, 269, 270, 271, 272, 273, 274, 275, 276, 277, 278, 279, 280, 281, 282, 283, 284, 285, 286, 287, 288, 289, 290, 291, 292, 293, 294, 295, 296, 297, 298, 299, 300, 301, 302, 303, 304, 305, 306, 307, 308, 309, 310, 311, 312, 313, 314, 315, 316, 317, 318, 319, 320, 321, 329, 330, 331, 332, 333, 334, 335, 336, 337, 338, 339, 340, 341, 342, 343, 344, 345, 346, 347, 348, 349, 350, 351, 352, 353, 354, 355, 356, 357, 358, 359, 360, 361, 362, 363, 364, 365, 366, 367, 368, 369, 370, 371, 372, 373, 374, 375, 376, 377, 378, 379, 380, 381, 382, 383, 384, 385, 386, 387, 388, 389, 390, 391, 392, 393, 394, 395, 399, 400, 401, 402, 403, 404, 405, 406, 407, 408, 409, 410, 411, 412, 413, 414, 415, 416, 417, 418, 419, 420, 421, 422, 423, 424, 425, 426, 427, 428, 429, 430, 431, 432, 433, 434, 435, 436, 437, 438, 439, 440, 441, 442, 443, 444, 445, 446, 447, 448, 449, 450, 451, 452, 453, 454, 455, 456, 457, 458, 459, 460, 461, 462, 463, 464, 465, 466, 467, 468, 469, 470, 471, 472, 473, 474, 475, 477, 480, 482, 483, 485, 486, 487, 488, 489, 490, 491, 493, 495, 497, 498, 499, 500, 503, 504, 508, 509, 512, 515, 516, 517, 518, 519, 523, 524, 525, 526, 527, 528, 529, 530, 531, 532, 533, 534, 535, 537, 538, 539, 540, 541, 542, 543, 544, 545, 546, 547, 548, 549, 550, 551, 552, 553, 554, 555, 556, 557, 558, 559, 560, 561, 562, 563, 564, 565, 566, 567, 568, 569, 570, 571, 572, 573, 574, 575, 576, 577, 578, 579, 580, 581, 582, 583, 584, 585, 586, 588, 589, 590, 591, 592, 593, 594, 595, 596, 597, 598, 599, 600, 601, 602, 603, 604, 605, 606, 607, 608, 609, 610, 611, 612, 613, 614, 615, 616, 617, 618, 619, 620, 621, 622, 623, 624, 625, 626, 627, 628, 629, 630, 631, 632, 633, 634, 635, 636, 637, 638, 639, 640, 641, 642, 643, 644, 645, 646, 647, 648, 649, 650, 651, 652, 653, 654, 655, 656, 657, 658, 659, 660, 661, 662, 663, 664, 665, 666, 667, 668, 669, 670, 671, 672, 673, 674, 675, 676, 677, 678, 679, 680, 681, 682, 683, 684, 685, 686, 687, 688, 689, 690, 691, 692, 693, 694, 695, 696, 697, 698, 699, 700, 701, 702, 703, 704, 705, 706, 707, 708, 709, 710, 711, 712, 713, 714, 715, 716, 717, 718, 719, 720, 721, 722, 723, 724, 725, 726, 727, 728, 729, 730, 731, 732, 733, 734, 735, 736, 737, 738, 739, 740, 741, 742, 743, 744, 745, 746, 747, 748, 749, 750, 751, 752, 753, 755, 756, 757, 758, 759, 760, 761, 762, 763, 764, 765, 766, 767, 768, 769, 770, 771, 772, 773, 774, 775, 776, 777, 778, 779, 780, 781, 782, 784, 796, 797, 804, 805, 806, 807, 808, 809, 810, 811, 812, 813, 814, 815, 816, 817, 818, 819, 820, 821, 822, 823, 824, 825, 826, 827, 828, 829, 830, 831, 832, 833, 834, 835, 836, 837, 838, 839, 840, 841, 842, 843, 844, 845, 846, 847, 848, 849, 850, 851, 852, 853, 854, 855, 856, 857, 858, 859, 860, 861, 862, 863, 864, 865, 866, 867, 868, 869, 870, 871, 872, 873, 874, 875, 876, 877, 878, 879, 880, 881, 882, 883, 884, 885, 886, 887, 888, 889, 890, 891, 892, 893, 894, 895, 896, 897, 898, 899, 900, 901, 902, 903, 923, 924, 925, 926, 927, 928, 929, 930, 931, 932, 933, 934, 935, 936, 937, 938, 939, 940, 941, 942, 943, 944, 945, 946, 947, 948, 949, 950, 951, 952, 953, 954, 955, 956, 957, 958, 959, 960, 961, 962, 963, 964, 965, 966, 967, 968, 969, 971, 973, 974, 977, 979, 980, 981, 982, 983, 984, 985, 986, 987, 988, 989, 990, 991, 992, 993, 994, 995, 996, 997, 998, 999, 1000, 1001, 1002, 1003, 1004, 1005, 1006, 1007, 1008, 1009, 1010, 1011, 1012, 1013, 1014, 1015, 1016, 1018, 1019, 1020, 1021, 1022, 1023, 1024, 1025, 1026, 1027, 1028, 1029, 1030, 1031, 1032, 1033, 1034, 1035, 1036, 1037, 1038, 1039, 1040, 1041, 1044, 1046, 1047, 1048, 1049, 1050, 1051, 1052, 1053, 1055, 1056, 1057, 1058, 1060, 1061, 1062, 1063, 1064, 1065, 1066, 1067, 1068, 1069, 1070, 1071, 1072, 1074, 1075, 1076, 1077, 1078, 1079, 1080, 1081, 1082, 1083, 1084, 1085, 1086, 1087, 1088, 1089, 1090, 1091, 1092, 1093, 1094, 1095, 1096, 1097, 1098, 1099, 1100, 1101, 1102, 1103, 1104, 1105, 1106, 1107, 1108, 1109, 1110, 1111, 1112, 1113, 1114, 1115, 1116, 1117, 1118, 1119, 1120, 1121, 1122, 1123, 1124, 1125, 1126, 1127, 1128, 1129, 1130, 1131, 1132, 1133, 1134, 1135, 1136, 1137, 1138, 1139, 1140, 1141, 1142, 1143, 1144, 1145, 1146, 1147, 1148, 1149, 1150, 1151, 1152, 1153, 1154, 1155, 1156, 1157, 1158, 1159, 1160, 1161, 1162, 1163, 1164, 1165, 1166, 1167, 1168, 1169, 1170, 1171, 1172, 1173, 1174, 1175, 1176, 1177, 1178, 1179, 1180, 1181, 1182, 1183, 1184, 1185, 1186, 1187, 1188, 1189, 1190, 1191, 1192, 1193, 1194, 1195, 1196, 1197, 1198, 1199, 1200, 1201, 1202, 1203, 1204, 1205, 1206, 1207, 1208, 1209, 1210, 1211, 1212, 1213, 1214, 1215, 1216, 1217, 1218, 1219, 1220, 1221, 1222, 1223, 1224, 1225, 1226, 1227, 1228, 1229, 1230, 1231, 1232, 1233, 1234, 1235, 1236, 1237, 1238, 1239, 1240, 1241, 1242, 1243, 1244, 1245, 1246, 1247, 1248, 1249, 1250, 1251, 1252, 1253, 1254, 1255, 1256, 1257, 1258, 1259, 1260, 1261, 1262, 1263, 1264, 1265, 1266, 1267, 1268, 1269, 1270, 1271, 1272, 1273, 1274, 1275, 1276, 1277, 1278, 1279, 1280, 1281, 1282, 1283, 1284, 1285, 1286, 1287, 1288, 1289, 1290, 1291, 1292, 1293, 1294]\n"
     ]
    },
    {
     "ename": "KeyboardInterrupt",
     "evalue": "",
     "output_type": "error",
     "traceback": [
      "\u001b[1;31m---------------------------------------------------------------------------\u001b[0m",
      "\u001b[1;31mKeyboardInterrupt\u001b[0m                         Traceback (most recent call last)",
      "\u001b[1;32m<timed exec>\u001b[0m in \u001b[0;36m<module>\u001b[1;34m\u001b[0m\n",
      "\u001b[1;32m<ipython-input-45-2f94dd93589d>\u001b[0m in \u001b[0;36mfit\u001b[1;34m(self, X)\u001b[0m\n\u001b[0;32m    128\u001b[0m             \u001b[0mself\u001b[0m\u001b[1;33m.\u001b[0m\u001b[0mmapping\u001b[0m\u001b[1;33m,\u001b[0m\u001b[0mself\u001b[0m\u001b[1;33m.\u001b[0m\u001b[0mmapping_matrix\u001b[0m \u001b[1;33m=\u001b[0m \u001b[0mself\u001b[0m\u001b[1;33m.\u001b[0m\u001b[0mSimilarityEvaluation\u001b[0m\u001b[1;33m(\u001b[0m\u001b[0mself\u001b[0m\u001b[1;33m.\u001b[0m\u001b[0mbuckets\u001b[0m\u001b[1;33m,\u001b[0m\u001b[0mself\u001b[0m\u001b[1;33m.\u001b[0m\u001b[0mrankedVectors\u001b[0m\u001b[1;33m,\u001b[0m\u001b[0mself\u001b[0m\u001b[1;33m.\u001b[0m\u001b[0msimilarityThreshold\u001b[0m\u001b[1;33m,\u001b[0m\u001b[0mmaxOnly\u001b[0m\u001b[1;33m=\u001b[0m\u001b[0mself\u001b[0m\u001b[1;33m.\u001b[0m\u001b[0mmaxOnly\u001b[0m\u001b[1;33m,\u001b[0m \u001b[0mmetric\u001b[0m\u001b[1;33m=\u001b[0m\u001b[0mself\u001b[0m\u001b[1;33m.\u001b[0m\u001b[0mmetric\u001b[0m\u001b[1;33m)\u001b[0m\u001b[1;33m\u001b[0m\u001b[1;33m\u001b[0m\u001b[0m\n\u001b[0;32m    129\u001b[0m         \u001b[1;32melif\u001b[0m \u001b[0mself\u001b[0m\u001b[1;33m.\u001b[0m\u001b[0msimilarityVectors\u001b[0m \u001b[1;33m==\u001b[0m \u001b[1;34m'initial'\u001b[0m\u001b[1;33m:\u001b[0m\u001b[1;33m\u001b[0m\u001b[1;33m\u001b[0m\u001b[0m\n\u001b[1;32m--> 130\u001b[1;33m             \u001b[0mself\u001b[0m\u001b[1;33m.\u001b[0m\u001b[0mmapping\u001b[0m\u001b[1;33m,\u001b[0m\u001b[0mself\u001b[0m\u001b[1;33m.\u001b[0m\u001b[0mmapping_matrix\u001b[0m \u001b[1;33m=\u001b[0m \u001b[0mself\u001b[0m\u001b[1;33m.\u001b[0m\u001b[0mSimilarityEvaluation\u001b[0m\u001b[1;33m(\u001b[0m\u001b[0mself\u001b[0m\u001b[1;33m.\u001b[0m\u001b[0mbuckets\u001b[0m\u001b[1;33m,\u001b[0m\u001b[0mself\u001b[0m\u001b[1;33m.\u001b[0m\u001b[0mEmbeddings\u001b[0m\u001b[1;33m,\u001b[0m\u001b[0mself\u001b[0m\u001b[1;33m.\u001b[0m\u001b[0msimilarityThreshold\u001b[0m\u001b[1;33m,\u001b[0m\u001b[0mmaxOnly\u001b[0m\u001b[1;33m=\u001b[0m\u001b[0mself\u001b[0m\u001b[1;33m.\u001b[0m\u001b[0mmaxOnly\u001b[0m\u001b[1;33m,\u001b[0m \u001b[0mmetric\u001b[0m\u001b[1;33m=\u001b[0m\u001b[0mself\u001b[0m\u001b[1;33m.\u001b[0m\u001b[0mmetric\u001b[0m\u001b[1;33m)\u001b[0m\u001b[1;33m\u001b[0m\u001b[1;33m\u001b[0m\u001b[0m\n\u001b[0m\u001b[0;32m    131\u001b[0m         \u001b[1;32melse\u001b[0m\u001b[1;33m:\u001b[0m\u001b[1;33m\u001b[0m\u001b[1;33m\u001b[0m\u001b[0m\n\u001b[0;32m    132\u001b[0m             \u001b[0mwarnings\u001b[0m\u001b[1;33m.\u001b[0m\u001b[0mwarn\u001b[0m\u001b[1;33m(\u001b[0m\u001b[1;34m\"similarityVectors: Available options are: ranked,initial\"\u001b[0m\u001b[1;33m)\u001b[0m\u001b[1;33m\u001b[0m\u001b[1;33m\u001b[0m\u001b[0m\n",
      "\u001b[1;32m<ipython-input-45-2f94dd93589d>\u001b[0m in \u001b[0;36mSimilarityEvaluation\u001b[1;34m(self, buckets, vectors, threshold, maxOnly, metric)\u001b[0m\n\u001b[0;32m    417\u001b[0m \u001b[1;33m\u001b[0m\u001b[0m\n\u001b[0;32m    418\u001b[0m                     \u001b[1;32mif\u001b[0m \u001b[0mmetric\u001b[0m \u001b[1;33m==\u001b[0m \u001b[1;32mNone\u001b[0m \u001b[1;32mor\u001b[0m \u001b[0mmetric\u001b[0m \u001b[1;33m==\u001b[0m \u001b[1;34m'kendal'\u001b[0m\u001b[1;33m:\u001b[0m  \u001b[1;31m# Simple Kendal tau metric\u001b[0m\u001b[1;33m\u001b[0m\u001b[1;33m\u001b[0m\u001b[0m\n\u001b[1;32m--> 419\u001b[1;33m                         \u001b[0msimilarity_prob\u001b[0m\u001b[1;33m,\u001b[0m \u001b[0mp_value\u001b[0m \u001b[1;33m=\u001b[0m \u001b[0mkendalltau\u001b[0m\u001b[1;33m(\u001b[0m\u001b[0mvectors\u001b[0m\u001b[1;33m[\u001b[0m\u001b[0mv_vector_id\u001b[0m\u001b[1;33m]\u001b[0m\u001b[1;33m,\u001b[0m \u001b[0mvectors\u001b[0m\u001b[1;33m[\u001b[0m\u001b[0mi_vector_id\u001b[0m\u001b[1;33m]\u001b[0m\u001b[1;33m)\u001b[0m\u001b[1;33m\u001b[0m\u001b[1;33m\u001b[0m\u001b[0m\n\u001b[0m\u001b[0;32m    420\u001b[0m                     \u001b[1;32melif\u001b[0m \u001b[0mmetric\u001b[0m \u001b[1;33m==\u001b[0m \u001b[1;34m'customKendal'\u001b[0m\u001b[1;33m:\u001b[0m  \u001b[1;31m# Custom Kendal tau\u001b[0m\u001b[1;33m\u001b[0m\u001b[1;33m\u001b[0m\u001b[0m\n\u001b[0;32m    421\u001b[0m                         \u001b[0mnumOf_discordant_pairs\u001b[0m \u001b[1;33m=\u001b[0m \u001b[0m_kendall_dis\u001b[0m\u001b[1;33m(\u001b[0m\u001b[0mvectors\u001b[0m\u001b[1;33m[\u001b[0m\u001b[0mv_vector_id\u001b[0m\u001b[1;33m]\u001b[0m\u001b[1;33m.\u001b[0m\u001b[0mastype\u001b[0m\u001b[1;33m(\u001b[0m\u001b[1;34m'intp'\u001b[0m\u001b[1;33m)\u001b[0m\u001b[1;33m,\u001b[0m \u001b[0mvectors\u001b[0m\u001b[1;33m[\u001b[0m\u001b[0mi_vector_id\u001b[0m\u001b[1;33m]\u001b[0m\u001b[1;33m.\u001b[0m\u001b[0mastype\u001b[0m\u001b[1;33m(\u001b[0m\u001b[1;34m'intp'\u001b[0m\u001b[1;33m)\u001b[0m\u001b[1;33m)\u001b[0m\u001b[1;33m\u001b[0m\u001b[1;33m\u001b[0m\u001b[0m\n",
      "\u001b[1;32m~\\anaconda3\\lib\\site-packages\\scipy\\stats\\stats.py\u001b[0m in \u001b[0;36mkendalltau\u001b[1;34m(x, y, initial_lexsort, nan_policy, method)\u001b[0m\n\u001b[0;32m   4101\u001b[0m     \u001b[0mx\u001b[0m \u001b[1;33m=\u001b[0m \u001b[0mnp\u001b[0m\u001b[1;33m.\u001b[0m\u001b[0mr_\u001b[0m\u001b[1;33m[\u001b[0m\u001b[1;32mTrue\u001b[0m\u001b[1;33m,\u001b[0m \u001b[0mx\u001b[0m\u001b[1;33m[\u001b[0m\u001b[1;36m1\u001b[0m\u001b[1;33m:\u001b[0m\u001b[1;33m]\u001b[0m \u001b[1;33m!=\u001b[0m \u001b[0mx\u001b[0m\u001b[1;33m[\u001b[0m\u001b[1;33m:\u001b[0m\u001b[1;33m-\u001b[0m\u001b[1;36m1\u001b[0m\u001b[1;33m]\u001b[0m\u001b[1;33m]\u001b[0m\u001b[1;33m.\u001b[0m\u001b[0mcumsum\u001b[0m\u001b[1;33m(\u001b[0m\u001b[0mdtype\u001b[0m\u001b[1;33m=\u001b[0m\u001b[0mnp\u001b[0m\u001b[1;33m.\u001b[0m\u001b[0mintp\u001b[0m\u001b[1;33m)\u001b[0m\u001b[1;33m\u001b[0m\u001b[1;33m\u001b[0m\u001b[0m\n\u001b[0;32m   4102\u001b[0m \u001b[1;33m\u001b[0m\u001b[0m\n\u001b[1;32m-> 4103\u001b[1;33m     \u001b[0mdis\u001b[0m \u001b[1;33m=\u001b[0m \u001b[0m_kendall_dis\u001b[0m\u001b[1;33m(\u001b[0m\u001b[0mx\u001b[0m\u001b[1;33m,\u001b[0m \u001b[0my\u001b[0m\u001b[1;33m)\u001b[0m  \u001b[1;31m# discordant pairs\u001b[0m\u001b[1;33m\u001b[0m\u001b[1;33m\u001b[0m\u001b[0m\n\u001b[0m\u001b[0;32m   4104\u001b[0m \u001b[1;33m\u001b[0m\u001b[0m\n\u001b[0;32m   4105\u001b[0m     \u001b[0mobs\u001b[0m \u001b[1;33m=\u001b[0m \u001b[0mnp\u001b[0m\u001b[1;33m.\u001b[0m\u001b[0mr_\u001b[0m\u001b[1;33m[\u001b[0m\u001b[1;32mTrue\u001b[0m\u001b[1;33m,\u001b[0m \u001b[1;33m(\u001b[0m\u001b[0mx\u001b[0m\u001b[1;33m[\u001b[0m\u001b[1;36m1\u001b[0m\u001b[1;33m:\u001b[0m\u001b[1;33m]\u001b[0m \u001b[1;33m!=\u001b[0m \u001b[0mx\u001b[0m\u001b[1;33m[\u001b[0m\u001b[1;33m:\u001b[0m\u001b[1;33m-\u001b[0m\u001b[1;36m1\u001b[0m\u001b[1;33m]\u001b[0m\u001b[1;33m)\u001b[0m \u001b[1;33m|\u001b[0m \u001b[1;33m(\u001b[0m\u001b[0my\u001b[0m\u001b[1;33m[\u001b[0m\u001b[1;36m1\u001b[0m\u001b[1;33m:\u001b[0m\u001b[1;33m]\u001b[0m \u001b[1;33m!=\u001b[0m \u001b[0my\u001b[0m\u001b[1;33m[\u001b[0m\u001b[1;33m:\u001b[0m\u001b[1;33m-\u001b[0m\u001b[1;36m1\u001b[0m\u001b[1;33m]\u001b[0m\u001b[1;33m)\u001b[0m\u001b[1;33m,\u001b[0m \u001b[1;32mTrue\u001b[0m\u001b[1;33m]\u001b[0m\u001b[1;33m\u001b[0m\u001b[1;33m\u001b[0m\u001b[0m\n",
      "\u001b[1;31mKeyboardInterrupt\u001b[0m: "
     ]
    }
   ],
   "source": [
    "%%time\n",
    "\n",
    "ngramms= 3                                  # If jaccard used, n-gramms are used\n",
    "jaccard_withchars = False                    # n-gramms either of chars and either of words\n",
    "\n",
    "# Prototype selection\n",
    "max_numberOf_clusters= 1000                  # Νumber of loops for finding representatives, it is an upper bound of clusters.\n",
    "max_editDistance= 120                       # The threshold for the triangle inequality\n",
    "distanceMetric= 'edit'                   # Distance metric between the vectors when creating the space\n",
    "prototypesFilterThr = 50                # Prototypes must differ more that threshold\n",
    "\n",
    "# Embedding phase\n",
    "distanceMetricEmbedding = 'edit'  # Embedding metric\n",
    "\n",
    "# WTA algorithm\n",
    "windowSize= 37                             # Vector size for WTA algo\n",
    "number_of_permutations = 10                 # WTA number of permutations\n",
    "\n",
    "\n",
    "# Similarity evaluation\n",
    "similarityVectors='initial'                  # which vectors will be passed to WTA step\n",
    "similarityThreshold= 0.7                    # Similarity threshold for the final step\n",
    "metric='kendal'                             # Similarity metric between vectors\n",
    "\n",
    "\n",
    "start = time.time()\n",
    "model = RankedWTAHash(\n",
    "    max_numberOf_clusters= max_numberOf_clusters,    \n",
    "    max_editDistance= max_editDistance,    \n",
    "    windowSize= windowSize,    \n",
    "    similarityThreshold= similarityThreshold,    \n",
    "    metric=metric,    \n",
    "    similarityVectors=similarityVectors,    \n",
    "    number_of_permutations = number_of_permutations,\n",
    "    distanceMetric= distanceMetric,\n",
    "    distanceMetricEmbedding = distanceMetricEmbedding,\n",
    "    ngramms= ngramms,\n",
    "    jaccard_withchars = jaccard_withchars,\n",
    "    prototypesFilterThr = prototypesFilterThr\n",
    ")\n",
    "model = model.fit(data)\n",
    "acc,f1,precision,recall = evaluate_cora(model.mapping_matrix,true_matrix, False)\n",
    "exec_time = time.time() - start\n",
    "results_dataframe.loc[len(results_dataframe)+1] = [max_numberOf_clusters,max_editDistance,similarityThreshold,windowSize,metric,similarityVectors,distanceMetricEmbedding,distanceMetric,number_of_permutations,ngramms,jaccard_withchars,acc,precision,recall,f1,exec_time]"
   ]
  },
  {
   "cell_type": "markdown",
   "metadata": {},
   "source": [
    "#### Embeddings"
   ]
  },
  {
   "cell_type": "code",
   "execution_count": null,
   "metadata": {},
   "outputs": [],
   "source": [
    "pcaComponents = PCA_SpaceVisualization(model.Embeddings)"
   ]
  },
  {
   "cell_type": "code",
   "execution_count": null,
   "metadata": {},
   "outputs": [],
   "source": [
    "pcaComponents = PCA_SpaceVisualization(model.rankedVectors)"
   ]
  },
  {
   "cell_type": "markdown",
   "metadata": {},
   "source": [
    "### Grid search each section"
   ]
  },
  {
   "cell_type": "markdown",
   "metadata": {},
   "source": [
    "#### GridSearch function"
   ]
  },
  {
   "cell_type": "code",
   "execution_count": 54,
   "metadata": {
    "tags": []
   },
   "outputs": [],
   "source": [
    "def GridSearch_cora(data,true_matrix,max_numberOf_clusters,max_editDistance,similarityThreshold,windowSize,metric,similarityVectors,distanceMetricEmbedding,distanceMetric,number_of_permutations,ngramms,withchars,prototypeFilter,earlyStop):\n",
    "    results_dataframe = pd.DataFrame(columns=['max_numberOf_clusters','max_editDistance','similarityThreshold','windowSize','metric','similarityVectors',\"distanceMetricEmbedding\",\"distanceMetric\",\"number_of_permutations\",'prototypesFilterThr',\"protSelectionVariance\",'numOfPrototypes','numOfBuckets','averageBucketSize','Accuracy','Precision','Recall','F1','Time'])\n",
    "    i=1\n",
    "    for n1 in tqdm(max_numberOf_clusters):\n",
    "        for n2 in (max_editDistance):\n",
    "            for n3 in (similarityThreshold):\n",
    "                for n4 in (windowSize):\n",
    "                    for n5 in (metric):\n",
    "                        for n6 in (similarityVectors):\n",
    "                            for n7 in (distanceMetricEmbedding):\n",
    "                                for n8 in (distanceMetric):\n",
    "                                    for n9 in (number_of_permutations):\n",
    "                                        for n10 in (withchars):\n",
    "                                            for n11 in (withchars):\n",
    "                                                for n12 in (prototypeFilter):\n",
    "                                                    print(\"+ ------------  \",i,\"   ------------- +\")\n",
    "                                                    print('max_numberOf_clusters: ',n1)\n",
    "                                                    print('max_editDistancez: ',n2)\n",
    "                                                    print('similarityThreshold: ',n3)\n",
    "                                                    print('windowSize: ',n4)\n",
    "                                                    print('metric: ',n5)\n",
    "                                                    print('similarityVectors: ',n6)\n",
    "                                                    print('distanceMetricEmbedding: ',n7)\n",
    "                                                    print('distanceMetric: ',n8)\n",
    "                                                    print('number_of_permutations: ',n9)\n",
    "                                                    print('withchars: ',n10)\n",
    "                                                    print('ngramms: ',n11)\n",
    "                                                    print('prototypeFilter: ',n12)\n",
    "                                                    print(\"+ ----------------------------------- +\")\n",
    "                                                    start = time.time()\n",
    "                                                    model = RankedWTAHash(\n",
    "                                                      earlyStop = earlyStop,\n",
    "                                                      max_numberOf_clusters= n1,\n",
    "                                                      max_editDistance= n2,\n",
    "                                                      windowSize= n4,\n",
    "                                                      similarityThreshold= n3,\n",
    "                                                      maxOnly= False,\n",
    "                                                      metric=n5,\n",
    "                                                      similarityVectors=n6,\n",
    "                                                      number_of_permutations = n9,\n",
    "                                                      distanceMetric= n8,\n",
    "                                                      distanceMetricEmbedding = n7,\n",
    "                                                      jaccard_withchars = n10,\n",
    "                                                      ngramms= n11,                                                      \n",
    "                                                      prototypesFilterThr = n12\n",
    "                                                    )\n",
    "                                                    model = model.fit(data)\n",
    "                                                    exec_time = time.time() - start\n",
    "                                                    if model.earlyStop==0:                                            \n",
    "                                                        acc,f1,precision,recall = evaluate_cora(model.mapping_matrix,true_matrix)\n",
    "                                                        for key in model.buckets.keys():\n",
    "                                                            tempListmodel.buckets[key]\n",
    "                                                        averageBucketSize = np.mean([len(model.buckets[x]) for x in model.buckets.keys() ])\n",
    "                                                        numOfBuckets=len(model.buckets.keys())\n",
    "                                                    else:\n",
    "                                                        if model.earlyStop == 3:\n",
    "                                                            acc = f1 = precision = recall = 'Not counted'\n",
    "                                                            averageBucketSize = np.mean([len(model.buckets[x]) for x in model.buckets.keys() ])\n",
    "                                                            numOfBuckets=len(model.buckets.keys())\n",
    "                                                        else:\n",
    "                                                            numOfBuckets = averageBucketSize = acc = f1 = precision = recall = 'Not counted'\n",
    "                                                    i+=1\n",
    "#                                                     print(\"MMD2= \",MMD2(model.embeddingMethod,model.S_index,model.prototypeArray))\n",
    "                                                    results_dataframe.loc[len(results_dataframe)+1] = [n1,n2,n3,n4,n5,n6,n7,n8,n9,n12,model.selectionVariance,model.selected_numOfPrototypes,numOfBuckets,averageBucketSize,acc,precision,recall,f1,exec_time]\n",
    "    now = datetime.now()\n",
    "    current_time = now.strftime(\"%H_%M_%S\")\n",
    "    results_dataframe.to_pickle(str(current_time)+\".pkl\")\n",
    "    \n",
    "    return results_dataframe"
   ]
  },
  {
   "cell_type": "markdown",
   "metadata": {},
   "source": [
    "#### __[i]__ __Prototype selection__\n",
    "\n",
    "\n",
    "First of all, we need to find some ways on evaluating the prototype selection algorithm. Vantage Spaces are not something new, but we need to examine its behaviour on CORA dataset.\n",
    "\n",
    "Goals:\n",
    "\n",
    "- __Variance__: We want prototypes to be as much different as possible. \n",
    "- __Number__: We need a large amount of prototypes.\n",
    "\n",
    "Ways to evaluate the algorithm:\n",
    "\n",
    "- Mean distance between selected prototypes\n",
    "- Show a HeatMap of consisted of the distances\n",
    "- Some greedy search on the parameters. Parameters to fine tunne:\n",
    "    -  ```max_numberOf_clusters```: Νumber of loops for finding representatives, it is an upper bound of clusters.\n",
    "    -  ```max_editDistance```:  The threshold for the triangle inequality\n",
    "    -  ```distanceMetric```:  Distance metric between the vectors when creating the space\n",
    "    -  ```prototypesFilterThr```: Prototypes must differ more that threshold\n",
    "\n",
    "\n",
    "All these parameters will be tested both for edit distance and jaccard with 3-grams."
   ]
  },
  {
   "cell_type": "code",
   "execution_count": 52,
   "metadata": {
    "scrolled": true
   },
   "outputs": [
    {
     "data": {
      "application/vnd.jupyter.widget-view+json": {
       "model_id": "c4f7d06c93be4375b2d4d561ac435f2f",
       "version_major": 2,
       "version_minor": 0
      },
      "text/plain": [
       "HBox(children=(FloatProgress(value=0.0, max=1.0), HTML(value='')))"
      ]
     },
     "metadata": {},
     "output_type": "display_data"
    },
    {
     "name": "stdout",
     "output_type": "stream",
     "text": [
      "+ ------------   1    ------------- +\n",
      "max_numberOf_clusters:  5000\n",
      "max_editDistancez:  20\n",
      "similarityThreshold:  0.7\n",
      "windowSize:  50\n",
      "metric:  kendal\n",
      "similarityVectors:  ranked\n",
      "distanceMetricEmbedding:  euclidean\n",
      "distanceMetric:  edit\n",
      "number_of_permutations:  5\n",
      "withchars:  False\n",
      "ngramms:  False\n",
      "prototypeFilter:  80\n",
      "+ ----------------------------------- +\n",
      "\n",
      "#####################################################################\n",
      "#     .~ RankedWTAHash with Vantage embeddings starts training ~.   #\n",
      "#####################################################################\n",
      "\n",
      "###########################################################\n",
      "# > 1. Prototype selection phase                          #\n",
      "###########################################################\n",
      "\n",
      "\n",
      "-> Finding prototypes and representatives of each cluster:\n"
     ]
    },
    {
     "data": {
      "application/vnd.jupyter.widget-view+json": {
       "model_id": "25a197b45cc24468a1db1c02cba006b8",
       "version_major": 2,
       "version_minor": 0
      },
      "text/plain": [
       "HBox(children=(FloatProgress(value=0.0, max=1295.0), HTML(value='')))"
      ]
     },
     "metadata": {},
     "output_type": "display_data"
    },
    {
     "name": "stdout",
     "output_type": "stream",
     "text": [
      "\n",
      "10.0\n",
      "Prototypes before:\n",
      "[3, 7, 12, 14, 18, 20, 23, 26, 29, 31, 34, 37, 42, 46, 48, 53, 56, 60, 64, 67, 73, 76, 78, 81, 87, 92, 96, 101, 103, 106, 108, 111, 114, 116, 119, 127, 130, 137, 148, 151, 153, 158, 162, 169, 173, 178, 180, 197, 200, 202, 207, 212, 232, 235, 238, 240, 242, 245, 251, 253, 257, 261, 265, 277, 287, 295, 304, 308, 310, 313, 315, 320, 323, 326, 330, 332, 337, 341, 343, 357, 371, 378, 381, 383, 387, 389, 394, 401, 404, 406, 413, 425, 427, 429, 431, 434, 437, 441, 445, 448, 452, 458, 460, 464, 468, 471, 474, 479, 483, 485, 489, 509, 514, 519, 525, 534, 536, 540, 544, 546, 549, 557, 563, 567, 570, 572, 576, 582, 585, 593, 596, 599, 602, 605, 608, 611, 615, 620, 625, 632, 634, 640, 644, 648, 650, 653, 655, 659, 664, 668, 673, 676, 678, 681, 683, 690, 699, 705, 708, 711, 713, 715, 720, 724, 730, 733, 735, 738, 740, 742, 748, 753, 756, 759, 772, 782, 784, 788, 794, 800, 806, 810, 812, 816, 821, 829, 845, 870, 897, 905, 907, 909, 914, 924, 931, 937, 939, 941, 944, 946, 948, 954, 957, 965, 967, 969, 972, 989, 994, 1000, 1004, 1008, 1012, 1016, 1020, 1022, 1024, 1028, 1034, 1038, 1040, 1045, 1047, 1051, 1054, 1057, 1061, 1064, 1067, 1069, 1072, 1076, 1080, 1083, 1085, 1092, 1094, 1096, 1103, 1106, 1108, 1111, 1114, 1117, 1119, 1124, 1129, 1131, 1134, 1142, 1147, 1149, 1153, 1156, 1158, 1161, 1165, 1170, 1175, 1184, 1194, 1203, 1229, 1234, 1244, 1246, 1251, 1253, 1255, 1258, 1263, 1269, 1273, 1275, 1279, 1282, 1286, 1290, 1294]\n",
      "Not wanted:\n",
      "{1024, 514, 1028, 519, 12, 14, 1038, 1040, 20, 1045, 534, 23, 1047, 536, 26, 1051, 540, 29, 1054, 31, 544, 1057, 34, 546, 37, 1061, 549, 1064, 42, 1067, 557, 46, 1069, 48, 1072, 563, 1076, 53, 567, 56, 1080, 570, 1083, 60, 1085, 572, 64, 576, 67, 1092, 1094, 582, 1096, 73, 585, 76, 78, 1103, 81, 1106, 593, 1108, 596, 1111, 87, 599, 1114, 602, 92, 1117, 605, 1119, 96, 608, 611, 1124, 101, 103, 615, 1129, 106, 1131, 620, 108, 1134, 111, 625, 114, 116, 1142, 119, 632, 634, 1147, 1149, 127, 640, 1153, 644, 1156, 1158, 648, 1161, 650, 137, 653, 655, 1170, 659, 148, 1175, 664, 151, 153, 668, 158, 1184, 673, 162, 676, 678, 681, 1194, 683, 169, 173, 178, 690, 1203, 180, 699, 705, 708, 197, 711, 200, 713, 202, 715, 1229, 207, 720, 1234, 212, 724, 730, 1244, 733, 1246, 735, 738, 1251, 740, 1253, 742, 1255, 232, 1258, 235, 748, 238, 1263, 240, 753, 756, 245, 1269, 759, 1273, 1275, 251, 253, 1279, 257, 1282, 772, 261, 1286, 265, 1290, 782, 1294, 784, 788, 277, 794, 287, 800, 806, 295, 810, 812, 816, 304, 308, 821, 310, 313, 315, 829, 320, 326, 330, 332, 845, 337, 341, 343, 357, 870, 371, 378, 381, 383, 897, 387, 389, 905, 394, 907, 909, 401, 914, 404, 406, 924, 413, 931, 937, 425, 939, 427, 429, 941, 431, 944, 434, 946, 948, 437, 441, 954, 957, 445, 448, 452, 965, 967, 969, 458, 460, 972, 464, 468, 471, 474, 989, 479, 994, 483, 485, 1000, 489, 1004, 1008, 1012, 1016, 1020, 509, 1022}\n",
      "Final:\n",
      "[130, 3, 323, 7, 1034, 525, 1165, 18, 242]\n",
      "\n",
      "- Prototypes selected\n",
      "[ 130    3  323    7 1034  525 1165   18  242]\n",
      "130  ->  ehrenfeucht a haussler d kearns m and valiant lg a general lower bound on the number of examples needed for learning\n",
      "3  ->  avrim blum merrick furst michael kearns and richard j lipton cryptographic primitives based on hard learning problems\n",
      "323  ->  y freund m kearns y mansour d ron r rubinfeld and r schapire efficient algorithms for learning to play repeated games against computationally bounded adversaries\n",
      "7  ->  blum a furst m jackson j kearns m mansour y and rudich s weakly learning dnf 10 and characterizing statistical query learning using fourier analysis\n",
      "1034  ->  kearns m j a bound on the error of cross validation using the approximation and estimation rates with consequences for the trainingtest split\n",
      "525  ->  d haussler m kearns and r e schapire bounds on the sample complexity of bayesian learning using information theory and the vc dimension\n",
      "1165  ->  robert e schapire yoav freund peter bartlett and wee sun lee boosting the margin a new explanation for the effectiveness of voting methods\n",
      "18  ->  nicolo cesabianchi yoav freund david p helmbold david haussler robert e schapire and manfred k warmuth how to use expert advice\n",
      "242  ->  y freund m kearns d ron r rubinfeld re schapire and l sellie efficient learning of typical finite automata from random walks\n"
     ]
    },
    {
     "data": {
      "image/png": "[encoded data removed]",
      "text/plain": [
       "<Figure size 720x720 with 2 Axes>"
      ]
     },
     "metadata": {},
     "output_type": "display_data"
    },
    {
     "name": "stdout",
     "output_type": "stream",
     "text": [
      "\n",
      "- Mean variance in prototype selection:  95.1604938271605\n",
      "\n",
      "- Final number of prototypes:  9\n",
      "\n",
      "# Finished in 0.7155 secs\n",
      "\n",
      "\n",
      "[   0    1    2 ... 1292 1293 1294]\n",
      "\n"
     ]
    }
   ],
   "source": [
    "max_numberOf_clusters= [5000]\n",
    "max_editDistance= [20]\n",
    "prototypesFilterThr = [80]\n",
    "\n",
    "distanceMetric= ['edit']\n",
    "\n",
    "# ---------------- #\n",
    "\n",
    "ngramms= [3]  \n",
    "jaccard_withchars = [False] \n",
    "\n",
    "distanceMetricEmbedding = ['euclidean']\n",
    "\n",
    "windowSize= [50]\n",
    "number_of_permutations = [5]\n",
    "\n",
    "similarityThreshold= [0.7]\n",
    "similarityVectors= ['ranked']\n",
    "metric= ['kendal']\n",
    "\n",
    "results_section1_edit = GridSearch_cora(\n",
    "    data,true_matrix,\n",
    "    max_numberOf_clusters,\n",
    "    max_editDistance,\n",
    "    similarityThreshold,\n",
    "    windowSize,\n",
    "    metric,\n",
    "    similarityVectors,\n",
    "    distanceMetricEmbedding,\n",
    "    distanceMetric,\n",
    "    number_of_permutations,\n",
    "    ngramms,\n",
    "    jaccard_withchars,\n",
    "    prototypesFilterThr,\n",
    "    earlyStop=1\n",
    ")"
   ]
  },
  {
   "cell_type": "code",
   "execution_count": null,
   "metadata": {},
   "outputs": [],
   "source": [
    "results_section1_edit[[\"max_numberOf_clusters\",\"max_editDistance\",\"prototypesFilterThr\",\"numOfPrototypes\",\"protSelectionVariance\"]].sort_values(by=['numOfPrototypes'], ascending=False).head(20)"
   ]
  },
  {
   "cell_type": "code",
   "execution_count": null,
   "metadata": {},
   "outputs": [],
   "source": [
    "results_section1_edit[[\"max_numberOf_clusters\",\"max_editDistance\",\"prototypesFilterThr\",\"numOfPrototypes\",\"protSelectionVariance\"]].sort_values(by=['protSelectionVariance'], ascending=False).head(50)"
   ]
  },
  {
   "cell_type": "code",
   "execution_count": 53,
   "metadata": {
    "scrolled": true
   },
   "outputs": [
    {
     "data": {
      "application/vnd.jupyter.widget-view+json": {
       "model_id": "aa0f8e43d55c416ba776dc0c02502c29",
       "version_major": 2,
       "version_minor": 0
      },
      "text/plain": [
       "HBox(children=(FloatProgress(value=0.0, max=3.0), HTML(value='')))"
      ]
     },
     "metadata": {},
     "output_type": "display_data"
    },
    {
     "name": "stdout",
     "output_type": "stream",
     "text": [
      "+ ------------   1    ------------- +\n",
      "max_numberOf_clusters:  100\n",
      "max_editDistancez:  0.7\n",
      "similarityThreshold:  0.7\n",
      "windowSize:  50\n",
      "metric:  kendal\n",
      "similarityVectors:  ranked\n",
      "distanceMetricEmbedding:  euclidean\n",
      "distanceMetric:  jaccard\n",
      "number_of_permutations:  5\n",
      "withchars:  True\n",
      "ngramms:  True\n",
      "prototypeFilter:  0.2\n",
      "+ ----------------------------------- +\n",
      "\n",
      "#####################################################################\n",
      "#     .~ RankedWTAHash with Vantage embeddings starts training ~.   #\n",
      "#####################################################################\n",
      "\n",
      "###########################################################\n",
      "# > 1. Prototype selection phase                          #\n",
      "###########################################################\n",
      "\n",
      "\n",
      "-> Finding prototypes and representatives of each cluster:\n"
     ]
    },
    {
     "data": {
      "application/vnd.jupyter.widget-view+json": {
       "model_id": "16a41220b3b64b2e827eb9c9576d80b6",
       "version_major": 2,
       "version_minor": 0
      },
      "text/plain": [
       "HBox(children=(FloatProgress(value=0.0, max=1295.0), HTML(value='')))"
      ]
     },
     "metadata": {},
     "output_type": "display_data"
    },
    {
     "name": "stdout",
     "output_type": "stream",
     "text": [
      "\n",
      "0.35\n",
      "Prototypes before:\n",
      "[255, 599, 619, 729, 839, 879, 932, 982, 1016, 1024, 1064, 1184, 1217, 1274]\n",
      "Not wanted:\n",
      "{1024, 1184, 1217, 932, 839, 1064, 619, 982, 599, 1016, 729, 1274}\n",
      "Final:\n",
      "[255, 879]\n",
      "\n",
      "- Prototypes selected\n",
      "[255 879]\n",
      "255  ->  y freund m kearns d ron r rubinfeld re schapire and l sellie efficient learning of typical finite automata from random walks\n",
      "879  ->  m kearns efficient noisetolerant learning from statistical queries\n",
      "\n",
      "- Final number of prototypes:  2\n",
      "\n",
      "# Finished in 0.0560 secs\n",
      "\n",
      "\n",
      "[   0    1    2 ... 1292 1293 1294]\n",
      "+ ------------   2    ------------- +\n",
      "max_numberOf_clusters:  100\n",
      "max_editDistancez:  0.7\n",
      "similarityThreshold:  0.7\n",
      "windowSize:  50\n",
      "metric:  kendal\n",
      "similarityVectors:  ranked\n",
      "distanceMetricEmbedding:  euclidean\n",
      "distanceMetric:  jaccard\n",
      "number_of_permutations:  5\n",
      "withchars:  True\n",
      "ngramms:  True\n",
      "prototypeFilter:  0.3\n",
      "+ ----------------------------------- +\n",
      "\n",
      "#####################################################################\n",
      "#     .~ RankedWTAHash with Vantage embeddings starts training ~.   #\n",
      "#####################################################################\n",
      "\n",
      "###########################################################\n",
      "# > 1. Prototype selection phase                          #\n",
      "###########################################################\n",
      "\n",
      "\n",
      "-> Finding prototypes and representatives of each cluster:\n"
     ]
    },
    {
     "data": {
      "application/vnd.jupyter.widget-view+json": {
       "model_id": "64eead7710654d56945a8198003e4e22",
       "version_major": 2,
       "version_minor": 0
      },
      "text/plain": [
       "HBox(children=(FloatProgress(value=0.0, max=1295.0), HTML(value='')))"
      ]
     },
     "metadata": {},
     "output_type": "display_data"
    },
    {
     "name": "stdout",
     "output_type": "stream",
     "text": [
      "\n",
      "0.35\n",
      "Prototypes before:\n",
      "[255, 599, 619, 729, 839, 879, 932, 982, 1016, 1024, 1064, 1184, 1217, 1274]\n",
      "Not wanted:\n",
      "{1024, 1184, 1217, 932, 839, 1064, 619, 879, 982, 599, 1016, 729, 1274}\n",
      "Final:\n",
      "[255]\n",
      "\n",
      "- Prototypes selected\n",
      "[255]\n",
      "255  ->  y freund m kearns d ron r rubinfeld re schapire and l sellie efficient learning of typical finite automata from random walks\n",
      "\n",
      "- Final number of prototypes:  1\n",
      "\n",
      "# Finished in 0.0472 secs\n",
      "\n",
      "\n",
      "[   0    1    2 ... 1292 1293 1294]\n",
      "+ ------------   3    ------------- +\n",
      "max_numberOf_clusters:  100\n",
      "max_editDistancez:  0.8\n",
      "similarityThreshold:  0.7\n",
      "windowSize:  50\n",
      "metric:  kendal\n",
      "similarityVectors:  ranked\n",
      "distanceMetricEmbedding:  euclidean\n",
      "distanceMetric:  jaccard\n",
      "number_of_permutations:  5\n",
      "withchars:  True\n",
      "ngramms:  True\n",
      "prototypeFilter:  0.2\n",
      "+ ----------------------------------- +\n",
      "\n",
      "#####################################################################\n",
      "#     .~ RankedWTAHash with Vantage embeddings starts training ~.   #\n",
      "#####################################################################\n",
      "\n",
      "###########################################################\n",
      "# > 1. Prototype selection phase                          #\n",
      "###########################################################\n",
      "\n",
      "\n",
      "-> Finding prototypes and representatives of each cluster:\n"
     ]
    },
    {
     "data": {
      "application/vnd.jupyter.widget-view+json": {
       "model_id": "b13789b5ea9b4a03bbbc5e5bb8012566",
       "version_major": 2,
       "version_minor": 0
      },
      "text/plain": [
       "HBox(children=(FloatProgress(value=0.0, max=1295.0), HTML(value='')))"
      ]
     },
     "metadata": {},
     "output_type": "display_data"
    },
    {
     "name": "stdout",
     "output_type": "stream",
     "text": [
      "\n",
      "0.4\n",
      "Prototypes before:\n",
      "[509]\n",
      "Not wanted:\n",
      "set()\n",
      "Final:\n",
      "[509]\n",
      "\n",
      "- Prototypes selected\n",
      "[509]\n",
      "509  ->  d haussler m kearns n littlestone and m k warmuth equivalence of models for polynomial learnability\n",
      "\n",
      "- Final number of prototypes:  1\n",
      "\n",
      "# Finished in 0.0457 secs\n",
      "\n",
      "\n",
      "[   0    1    2 ... 1292 1293 1294]\n",
      "+ ------------   4    ------------- +\n",
      "max_numberOf_clusters:  100\n",
      "max_editDistancez:  0.8\n",
      "similarityThreshold:  0.7\n",
      "windowSize:  50\n",
      "metric:  kendal\n",
      "similarityVectors:  ranked\n",
      "distanceMetricEmbedding:  euclidean\n",
      "distanceMetric:  jaccard\n",
      "number_of_permutations:  5\n",
      "withchars:  True\n",
      "ngramms:  True\n",
      "prototypeFilter:  0.3\n",
      "+ ----------------------------------- +\n",
      "\n",
      "#####################################################################\n",
      "#     .~ RankedWTAHash with Vantage embeddings starts training ~.   #\n",
      "#####################################################################\n",
      "\n",
      "###########################################################\n",
      "# > 1. Prototype selection phase                          #\n",
      "###########################################################\n",
      "\n",
      "\n",
      "-> Finding prototypes and representatives of each cluster:\n"
     ]
    },
    {
     "data": {
      "application/vnd.jupyter.widget-view+json": {
       "model_id": "406edce898d04598b1a3251f2283d862",
       "version_major": 2,
       "version_minor": 0
      },
      "text/plain": [
       "HBox(children=(FloatProgress(value=0.0, max=1295.0), HTML(value='')))"
      ]
     },
     "metadata": {},
     "output_type": "display_data"
    },
    {
     "name": "stdout",
     "output_type": "stream",
     "text": [
      "\n",
      "0.4\n",
      "Prototypes before:\n",
      "[509]\n",
      "Not wanted:\n",
      "set()\n",
      "Final:\n",
      "[509]\n",
      "\n",
      "- Prototypes selected\n",
      "[509]\n",
      "509  ->  d haussler m kearns n littlestone and m k warmuth equivalence of models for polynomial learnability\n",
      "\n",
      "- Final number of prototypes:  1\n",
      "\n",
      "# Finished in 0.0444 secs\n",
      "\n",
      "\n",
      "[   0    1    2 ... 1292 1293 1294]\n",
      "+ ------------   5    ------------- +\n",
      "max_numberOf_clusters:  500\n",
      "max_editDistancez:  0.7\n",
      "similarityThreshold:  0.7\n",
      "windowSize:  50\n",
      "metric:  kendal\n",
      "similarityVectors:  ranked\n",
      "distanceMetricEmbedding:  euclidean\n",
      "distanceMetric:  jaccard\n",
      "number_of_permutations:  5\n",
      "withchars:  True\n",
      "ngramms:  True\n",
      "prototypeFilter:  0.2\n",
      "+ ----------------------------------- +\n",
      "\n",
      "#####################################################################\n",
      "#     .~ RankedWTAHash with Vantage embeddings starts training ~.   #\n",
      "#####################################################################\n",
      "\n",
      "###########################################################\n",
      "# > 1. Prototype selection phase                          #\n",
      "###########################################################\n",
      "\n",
      "\n",
      "-> Finding prototypes and representatives of each cluster:\n"
     ]
    },
    {
     "data": {
      "application/vnd.jupyter.widget-view+json": {
       "model_id": "11d12bb9ae794e468a00a8cfecfe04ff",
       "version_major": 2,
       "version_minor": 0
      },
      "text/plain": [
       "HBox(children=(FloatProgress(value=0.0, max=1295.0), HTML(value='')))"
      ]
     },
     "metadata": {},
     "output_type": "display_data"
    },
    {
     "name": "stdout",
     "output_type": "stream",
     "text": [
      "\n",
      "0.35\n",
      "Prototypes before:\n",
      "[255, 599, 619, 729, 839, 879, 932, 982, 1016, 1024, 1064, 1184, 1217, 1274]\n",
      "Not wanted:\n",
      "{1024, 1184, 1217, 932, 839, 1064, 619, 982, 599, 1016, 729, 1274}\n",
      "Final:\n",
      "[255, 879]\n",
      "\n",
      "- Prototypes selected\n",
      "[255 879]\n",
      "255  ->  y freund m kearns d ron r rubinfeld re schapire and l sellie efficient learning of typical finite automata from random walks\n",
      "879  ->  m kearns efficient noisetolerant learning from statistical queries\n",
      "\n",
      "- Final number of prototypes:  2\n",
      "\n",
      "# Finished in 0.0438 secs\n",
      "\n",
      "\n",
      "[   0    1    2 ... 1292 1293 1294]\n",
      "+ ------------   6    ------------- +\n",
      "max_numberOf_clusters:  500\n",
      "max_editDistancez:  0.7\n",
      "similarityThreshold:  0.7\n",
      "windowSize:  50\n",
      "metric:  kendal\n",
      "similarityVectors:  ranked\n",
      "distanceMetricEmbedding:  euclidean\n",
      "distanceMetric:  jaccard\n",
      "number_of_permutations:  5\n",
      "withchars:  True\n",
      "ngramms:  True\n",
      "prototypeFilter:  0.3\n",
      "+ ----------------------------------- +\n",
      "\n",
      "#####################################################################\n",
      "#     .~ RankedWTAHash with Vantage embeddings starts training ~.   #\n",
      "#####################################################################\n",
      "\n",
      "###########################################################\n",
      "# > 1. Prototype selection phase                          #\n",
      "###########################################################\n",
      "\n",
      "\n",
      "-> Finding prototypes and representatives of each cluster:\n"
     ]
    },
    {
     "data": {
      "application/vnd.jupyter.widget-view+json": {
       "model_id": "c8236e65bbe149358e82052bab5645c1",
       "version_major": 2,
       "version_minor": 0
      },
      "text/plain": [
       "HBox(children=(FloatProgress(value=0.0, max=1295.0), HTML(value='')))"
      ]
     },
     "metadata": {},
     "output_type": "display_data"
    },
    {
     "name": "stdout",
     "output_type": "stream",
     "text": [
      "\n",
      "0.35\n",
      "Prototypes before:\n",
      "[255, 599, 619, 729, 839, 879, 932, 982, 1016, 1024, 1064, 1184, 1217, 1274]\n",
      "Not wanted:\n",
      "{1024, 1184, 1217, 932, 839, 1064, 619, 879, 982, 599, 1016, 729, 1274}\n",
      "Final:\n",
      "[255]\n",
      "\n",
      "- Prototypes selected\n",
      "[255]\n",
      "255  ->  y freund m kearns d ron r rubinfeld re schapire and l sellie efficient learning of typical finite automata from random walks\n",
      "\n",
      "- Final number of prototypes:  1\n",
      "\n",
      "# Finished in 0.0440 secs\n",
      "\n",
      "\n",
      "[   0    1    2 ... 1292 1293 1294]\n",
      "+ ------------   7    ------------- +\n",
      "max_numberOf_clusters:  500\n",
      "max_editDistancez:  0.8\n",
      "similarityThreshold:  0.7\n",
      "windowSize:  50\n",
      "metric:  kendal\n",
      "similarityVectors:  ranked\n",
      "distanceMetricEmbedding:  euclidean\n",
      "distanceMetric:  jaccard\n",
      "number_of_permutations:  5\n",
      "withchars:  True\n",
      "ngramms:  True\n",
      "prototypeFilter:  0.2\n",
      "+ ----------------------------------- +\n",
      "\n",
      "#####################################################################\n",
      "#     .~ RankedWTAHash with Vantage embeddings starts training ~.   #\n",
      "#####################################################################\n",
      "\n",
      "###########################################################\n",
      "# > 1. Prototype selection phase                          #\n",
      "###########################################################\n",
      "\n",
      "\n",
      "-> Finding prototypes and representatives of each cluster:\n"
     ]
    },
    {
     "data": {
      "application/vnd.jupyter.widget-view+json": {
       "model_id": "26d9f28e794946988b2e8a51e9757f22",
       "version_major": 2,
       "version_minor": 0
      },
      "text/plain": [
       "HBox(children=(FloatProgress(value=0.0, max=1295.0), HTML(value='')))"
      ]
     },
     "metadata": {},
     "output_type": "display_data"
    },
    {
     "name": "stdout",
     "output_type": "stream",
     "text": [
      "\n",
      "0.4\n",
      "Prototypes before:\n",
      "[509]\n",
      "Not wanted:\n",
      "set()\n",
      "Final:\n",
      "[509]\n",
      "\n",
      "- Prototypes selected\n",
      "[509]\n",
      "509  ->  d haussler m kearns n littlestone and m k warmuth equivalence of models for polynomial learnability\n",
      "\n",
      "- Final number of prototypes:  1\n",
      "\n",
      "# Finished in 0.0584 secs\n",
      "\n",
      "\n",
      "[   0    1    2 ... 1292 1293 1294]\n",
      "+ ------------   8    ------------- +\n",
      "max_numberOf_clusters:  500\n",
      "max_editDistancez:  0.8\n",
      "similarityThreshold:  0.7\n",
      "windowSize:  50\n",
      "metric:  kendal\n",
      "similarityVectors:  ranked\n",
      "distanceMetricEmbedding:  euclidean\n",
      "distanceMetric:  jaccard\n",
      "number_of_permutations:  5\n",
      "withchars:  True\n",
      "ngramms:  True\n",
      "prototypeFilter:  0.3\n",
      "+ ----------------------------------- +\n",
      "\n",
      "#####################################################################\n",
      "#     .~ RankedWTAHash with Vantage embeddings starts training ~.   #\n",
      "#####################################################################\n",
      "\n",
      "###########################################################\n",
      "# > 1. Prototype selection phase                          #\n",
      "###########################################################\n",
      "\n",
      "\n",
      "-> Finding prototypes and representatives of each cluster:\n"
     ]
    },
    {
     "data": {
      "application/vnd.jupyter.widget-view+json": {
       "model_id": "789124d34d5f42d99199200d5b1ca928",
       "version_major": 2,
       "version_minor": 0
      },
      "text/plain": [
       "HBox(children=(FloatProgress(value=0.0, max=1295.0), HTML(value='')))"
      ]
     },
     "metadata": {},
     "output_type": "display_data"
    },
    {
     "name": "stdout",
     "output_type": "stream",
     "text": [
      "\n",
      "0.4\n",
      "Prototypes before:\n",
      "[509]\n",
      "Not wanted:\n",
      "set()\n",
      "Final:\n",
      "[509]\n",
      "\n",
      "- Prototypes selected\n",
      "[509]\n",
      "509  ->  d haussler m kearns n littlestone and m k warmuth equivalence of models for polynomial learnability\n",
      "\n",
      "- Final number of prototypes:  1\n",
      "\n",
      "# Finished in 0.0547 secs\n",
      "\n",
      "\n",
      "[   0    1    2 ... 1292 1293 1294]\n",
      "+ ------------   9    ------------- +\n",
      "max_numberOf_clusters:  1000\n",
      "max_editDistancez:  0.7\n",
      "similarityThreshold:  0.7\n",
      "windowSize:  50\n",
      "metric:  kendal\n",
      "similarityVectors:  ranked\n",
      "distanceMetricEmbedding:  euclidean\n",
      "distanceMetric:  jaccard\n",
      "number_of_permutations:  5\n",
      "withchars:  True\n",
      "ngramms:  True\n",
      "prototypeFilter:  0.2\n",
      "+ ----------------------------------- +\n",
      "\n",
      "#####################################################################\n",
      "#     .~ RankedWTAHash with Vantage embeddings starts training ~.   #\n",
      "#####################################################################\n",
      "\n",
      "###########################################################\n",
      "# > 1. Prototype selection phase                          #\n",
      "###########################################################\n",
      "\n",
      "\n",
      "-> Finding prototypes and representatives of each cluster:\n"
     ]
    },
    {
     "data": {
      "application/vnd.jupyter.widget-view+json": {
       "model_id": "a6bddceabe8f4d73a1b4026386ed4c9e",
       "version_major": 2,
       "version_minor": 0
      },
      "text/plain": [
       "HBox(children=(FloatProgress(value=0.0, max=1295.0), HTML(value='')))"
      ]
     },
     "metadata": {},
     "output_type": "display_data"
    },
    {
     "name": "stdout",
     "output_type": "stream",
     "text": [
      "\n",
      "0.35\n",
      "Prototypes before:\n",
      "[255, 599, 619, 729, 839, 879, 932, 982, 1016, 1024, 1064, 1184, 1217, 1274]\n",
      "Not wanted:\n",
      "{1024, 1184, 1217, 932, 839, 1064, 619, 982, 599, 1016, 729, 1274}\n",
      "Final:\n",
      "[255, 879]\n",
      "\n",
      "- Prototypes selected\n",
      "[255 879]\n",
      "255  ->  y freund m kearns d ron r rubinfeld re schapire and l sellie efficient learning of typical finite automata from random walks\n",
      "879  ->  m kearns efficient noisetolerant learning from statistical queries\n",
      "\n",
      "- Final number of prototypes:  2\n",
      "\n",
      "# Finished in 0.0476 secs\n",
      "\n",
      "\n",
      "[   0    1    2 ... 1292 1293 1294]\n",
      "+ ------------   10    ------------- +\n",
      "max_numberOf_clusters:  1000\n",
      "max_editDistancez:  0.7\n",
      "similarityThreshold:  0.7\n",
      "windowSize:  50\n",
      "metric:  kendal\n",
      "similarityVectors:  ranked\n",
      "distanceMetricEmbedding:  euclidean\n",
      "distanceMetric:  jaccard\n",
      "number_of_permutations:  5\n",
      "withchars:  True\n",
      "ngramms:  True\n",
      "prototypeFilter:  0.3\n",
      "+ ----------------------------------- +\n",
      "\n",
      "#####################################################################\n",
      "#     .~ RankedWTAHash with Vantage embeddings starts training ~.   #\n",
      "#####################################################################\n",
      "\n",
      "###########################################################\n",
      "# > 1. Prototype selection phase                          #\n",
      "###########################################################\n",
      "\n",
      "\n",
      "-> Finding prototypes and representatives of each cluster:\n"
     ]
    },
    {
     "data": {
      "application/vnd.jupyter.widget-view+json": {
       "model_id": "7793d9666dc946d691a2d61fe332a599",
       "version_major": 2,
       "version_minor": 0
      },
      "text/plain": [
       "HBox(children=(FloatProgress(value=0.0, max=1295.0), HTML(value='')))"
      ]
     },
     "metadata": {},
     "output_type": "display_data"
    },
    {
     "name": "stdout",
     "output_type": "stream",
     "text": [
      "\n",
      "0.35\n",
      "Prototypes before:\n",
      "[255, 599, 619, 729, 839, 879, 932, 982, 1016, 1024, 1064, 1184, 1217, 1274]\n",
      "Not wanted:\n",
      "{1024, 1184, 1217, 932, 839, 1064, 619, 879, 982, 599, 1016, 729, 1274}\n",
      "Final:\n",
      "[255]\n",
      "\n",
      "- Prototypes selected\n",
      "[255]\n",
      "255  ->  y freund m kearns d ron r rubinfeld re schapire and l sellie efficient learning of typical finite automata from random walks\n",
      "\n",
      "- Final number of prototypes:  1\n",
      "\n",
      "# Finished in 0.0563 secs\n",
      "\n",
      "\n",
      "[   0    1    2 ... 1292 1293 1294]\n",
      "+ ------------   11    ------------- +\n",
      "max_numberOf_clusters:  1000\n",
      "max_editDistancez:  0.8\n",
      "similarityThreshold:  0.7\n",
      "windowSize:  50\n",
      "metric:  kendal\n",
      "similarityVectors:  ranked\n",
      "distanceMetricEmbedding:  euclidean\n",
      "distanceMetric:  jaccard\n",
      "number_of_permutations:  5\n",
      "withchars:  True\n",
      "ngramms:  True\n",
      "prototypeFilter:  0.2\n",
      "+ ----------------------------------- +\n",
      "\n",
      "#####################################################################\n",
      "#     .~ RankedWTAHash with Vantage embeddings starts training ~.   #\n",
      "#####################################################################\n",
      "\n",
      "###########################################################\n",
      "# > 1. Prototype selection phase                          #\n",
      "###########################################################\n",
      "\n",
      "\n",
      "-> Finding prototypes and representatives of each cluster:\n"
     ]
    },
    {
     "data": {
      "application/vnd.jupyter.widget-view+json": {
       "model_id": "94de565758ca4ecd987ee1328c35aeb7",
       "version_major": 2,
       "version_minor": 0
      },
      "text/plain": [
       "HBox(children=(FloatProgress(value=0.0, max=1295.0), HTML(value='')))"
      ]
     },
     "metadata": {},
     "output_type": "display_data"
    },
    {
     "name": "stdout",
     "output_type": "stream",
     "text": [
      "\n",
      "0.4\n",
      "Prototypes before:\n",
      "[509]\n",
      "Not wanted:\n",
      "set()\n",
      "Final:\n",
      "[509]\n",
      "\n",
      "- Prototypes selected\n",
      "[509]\n",
      "509  ->  d haussler m kearns n littlestone and m k warmuth equivalence of models for polynomial learnability\n",
      "\n",
      "- Final number of prototypes:  1\n",
      "\n",
      "# Finished in 0.0457 secs\n",
      "\n",
      "\n",
      "[   0    1    2 ... 1292 1293 1294]\n",
      "+ ------------   12    ------------- +\n",
      "max_numberOf_clusters:  1000\n",
      "max_editDistancez:  0.8\n",
      "similarityThreshold:  0.7\n",
      "windowSize:  50\n",
      "metric:  kendal\n",
      "similarityVectors:  ranked\n",
      "distanceMetricEmbedding:  euclidean\n",
      "distanceMetric:  jaccard\n",
      "number_of_permutations:  5\n",
      "withchars:  True\n",
      "ngramms:  True\n",
      "prototypeFilter:  0.3\n",
      "+ ----------------------------------- +\n",
      "\n",
      "#####################################################################\n",
      "#     .~ RankedWTAHash with Vantage embeddings starts training ~.   #\n",
      "#####################################################################\n",
      "\n",
      "###########################################################\n",
      "# > 1. Prototype selection phase                          #\n",
      "###########################################################\n",
      "\n",
      "\n",
      "-> Finding prototypes and representatives of each cluster:\n"
     ]
    },
    {
     "data": {
      "application/vnd.jupyter.widget-view+json": {
       "model_id": "b786c12814e043e6ac0e305e2b8fc03f",
       "version_major": 2,
       "version_minor": 0
      },
      "text/plain": [
       "HBox(children=(FloatProgress(value=0.0, max=1295.0), HTML(value='')))"
      ]
     },
     "metadata": {},
     "output_type": "display_data"
    },
    {
     "name": "stdout",
     "output_type": "stream",
     "text": [
      "\n",
      "0.4\n",
      "Prototypes before:\n",
      "[509]\n",
      "Not wanted:\n",
      "set()\n",
      "Final:\n",
      "[509]\n",
      "\n",
      "- Prototypes selected\n",
      "[509]\n",
      "509  ->  d haussler m kearns n littlestone and m k warmuth equivalence of models for polynomial learnability\n",
      "\n",
      "- Final number of prototypes:  1\n",
      "\n",
      "# Finished in 0.0523 secs\n",
      "\n",
      "\n",
      "[   0    1    2 ... 1292 1293 1294]\n",
      "\n"
     ]
    }
   ],
   "source": [
    "max_numberOf_clusters= [100,500,1000]\n",
    "max_editDistance= [0.7,0.8]\n",
    "prototypesFilterThr = [0.2,0.3]\n",
    "\n",
    "distanceMetric= ['jaccard']\n",
    "\n",
    "\n",
    "ngramms= [2,3]  \n",
    "jaccard_withchars = [True] \n",
    "\n",
    "# ---------------- #\n",
    "\n",
    "distanceMetricEmbedding = ['euclidean']\n",
    "\n",
    "windowSize= [50]\n",
    "number_of_permutations = [5]\n",
    "\n",
    "similarityThreshold= [0.7]\n",
    "similarityVectors= ['ranked']\n",
    "metric= ['kendal']\n",
    "\n",
    "\n",
    "results_section1_jac = GridSearch_cora(\n",
    "    data,true_matrix,\n",
    "    max_numberOf_clusters,\n",
    "    max_editDistance,\n",
    "    similarityThreshold,\n",
    "    windowSize,\n",
    "    metric,\n",
    "    similarityVectors,\n",
    "    distanceMetricEmbedding,\n",
    "    distanceMetric,\n",
    "    number_of_permutations,\n",
    "    ngramms,\n",
    "    jaccard_withchars,\n",
    "    prototypesFilterThr,\n",
    "    earlyStop=1\n",
    ")"
   ]
  },
  {
   "cell_type": "code",
   "execution_count": null,
   "metadata": {
    "scrolled": true
   },
   "outputs": [],
   "source": [
    "results_section1_jac[[\"max_numberOf_clusters\",\"max_editDistance\",\"prototypesFilterThr\",\"numOfPrototypes\",\"protSelectionVariance\"]].sort_values(by=['numOfPrototypes'], ascending=False).head(20)"
   ]
  },
  {
   "cell_type": "code",
   "execution_count": null,
   "metadata": {
    "scrolled": true,
    "tags": []
   },
   "outputs": [],
   "source": [
    "results_section1_jac[[\"max_numberOf_clusters\",\"max_editDistance\",\"prototypesFilterThr\",\"numOfPrototypes\",\"protSelectionVariance\"]].sort_values(by=['protSelectionVariance'], ascending=True).head(50)"
   ]
  },
  {
   "cell_type": "markdown",
   "metadata": {
    "tags": []
   },
   "source": [
    "##### Remarks\n",
    "\n",
    "Two main factors:\n",
    "\n",
    "- __numOfPrototypes__ and\n",
    "- __protSelectionVariance__\n",
    "\n",
    "The first one is the number of prototypes selected, which is very important as more prototypes will enhance model when creating the embeddings.\n",
    "\n",
    "The second one is the average distance between all the prototypes selected. As this factor increases, the prototypes selected differ the most.\n",
    "\n",
    "\n",
    "According to the above, best parameters so far:\n",
    "\n",
    "- __Edit distance__\n",
    "\n",
    "\n",
    "- __Jaccard with 3-grams__\n",
    "\n"
   ]
  },
  {
   "cell_type": "markdown",
   "metadata": {},
   "source": [
    "#### __[ii]__ Fine tunning  __Embedding phase__\n",
    "\n",
    "Ways to evaluate the __Embedding phase__:\n",
    "\n",
    "- Use a PCA after embeddings made and check selected prototypes \n",
    "- __Maximum mean discrepancy (MMD)__, which measures the discrepancy between two distributions. The selection of prototypes creates a density distribution of prototypes. We want to evaluate whether the prototypes distribution differs from the data distribution. We estimate both with kernel density functions. The maximum mean discrepancy measures the difference between two distributions, which is the supremum over a function space of differences between the expectations according to the two distributions. All clear? Personally, I understand these concepts much better when I see how something is calculated with data. The following formula shows how to calculate the squared MMD measure (MMD2):\n",
    "    $$\n",
    "    MMD^2=\\frac{1}{m^2}\\sum_{i,j=1}^m{}k(z_i,z_j)-\\frac{2}{mn}\\sum_{i,j=1}^{m,n}k(z_i,x_j)+\\frac{1}{n^2}\\sum_{i,j=1}^n{}k(x_i,x_j)\n",
    "    $$\n",
    "    - k is a kernel function that measures the similarity of two points\n",
    "    - m is the number of prototypes \n",
    "    - n is the number of data points x in our original dataset. \n",
    "    - The prototypes z are a selection of data points x. \n",
    "    \n",
    "    \n",
    "    Each point is multidimensional, that is it can have multiple features. The goal of MMD-critic is to minimize MMD2. The closer MMD2 is to zero, the better the distribution of the prototypes fits the data. The key to bringing MMD2 down to zero is the term in the middle, which calculates the average proximity between the prototypes and all other data points (multiplied by 2). If this term adds up to the first term (the average proximity of the prototypes to each other) plus the last term (the average proximity of the data points to each other), then the prototypes explain the data perfectly.  "
   ]
  },
  {
   "cell_type": "code",
   "execution_count": 42,
   "metadata": {},
   "outputs": [],
   "source": [
    "def MMD2(k, x, z):\n",
    "    \n",
    "    m = z.size\n",
    "    n = x.size\n",
    "    \n",
    "    firstSum = 0.0\n",
    "    for i in range(0,m,1):\n",
    "        for j in range(0,m,1):\n",
    "            firstSum += k(z[i],z[j])\n",
    "    \n",
    "    secondSum = 0.0\n",
    "    for i in range(0,m,1):\n",
    "        for j in range(0,n,1):\n",
    "            secondSum += k(z[i],x[j])\n",
    "        \n",
    "    thirdSum = 0.0\n",
    "    for i in range(0,n,1):\n",
    "        for j in range(0,n,1):\n",
    "            thirdSum += k(x[i],x[j])\n",
    "    \n",
    "    mmd2 = (1/pow(m,2))*firstSum - (2/(m*n))*secondSum + (1/pow(n,2))*thirdSum\n",
    "    \n",
    "    \n",
    "    return mmd2"
   ]
  },
  {
   "cell_type": "code",
   "execution_count": 52,
   "metadata": {
    "scrolled": true
   },
   "outputs": [
    {
     "data": {
      "application/vnd.jupyter.widget-view+json": {
       "model_id": "c4f7d06c93be4375b2d4d561ac435f2f",
       "version_major": 2,
       "version_minor": 0
      },
      "text/plain": [
       "HBox(children=(FloatProgress(value=0.0, max=1.0), HTML(value='')))"
      ]
     },
     "metadata": {},
     "output_type": "display_data"
    },
    {
     "name": "stdout",
     "output_type": "stream",
     "text": [
      "+ ------------   1    ------------- +\n",
      "max_numberOf_clusters:  5000\n",
      "max_editDistancez:  20\n",
      "similarityThreshold:  0.7\n",
      "windowSize:  50\n",
      "metric:  kendal\n",
      "similarityVectors:  ranked\n",
      "distanceMetricEmbedding:  euclidean\n",
      "distanceMetric:  edit\n",
      "number_of_permutations:  5\n",
      "withchars:  False\n",
      "ngramms:  False\n",
      "prototypeFilter:  80\n",
      "+ ----------------------------------- +\n",
      "\n",
      "#####################################################################\n",
      "#     .~ RankedWTAHash with Vantage embeddings starts training ~.   #\n",
      "#####################################################################\n",
      "\n",
      "###########################################################\n",
      "# > 1. Prototype selection phase                          #\n",
      "###########################################################\n",
      "\n",
      "\n",
      "-> Finding prototypes and representatives of each cluster:\n"
     ]
    },
    {
     "data": {
      "application/vnd.jupyter.widget-view+json": {
       "model_id": "25a197b45cc24468a1db1c02cba006b8",
       "version_major": 2,
       "version_minor": 0
      },
      "text/plain": [
       "HBox(children=(FloatProgress(value=0.0, max=1295.0), HTML(value='')))"
      ]
     },
     "metadata": {},
     "output_type": "display_data"
    },
    {
     "name": "stdout",
     "output_type": "stream",
     "text": [
      "\n",
      "10.0\n",
      "Prototypes before:\n",
      "[3, 7, 12, 14, 18, 20, 23, 26, 29, 31, 34, 37, 42, 46, 48, 53, 56, 60, 64, 67, 73, 76, 78, 81, 87, 92, 96, 101, 103, 106, 108, 111, 114, 116, 119, 127, 130, 137, 148, 151, 153, 158, 162, 169, 173, 178, 180, 197, 200, 202, 207, 212, 232, 235, 238, 240, 242, 245, 251, 253, 257, 261, 265, 277, 287, 295, 304, 308, 310, 313, 315, 320, 323, 326, 330, 332, 337, 341, 343, 357, 371, 378, 381, 383, 387, 389, 394, 401, 404, 406, 413, 425, 427, 429, 431, 434, 437, 441, 445, 448, 452, 458, 460, 464, 468, 471, 474, 479, 483, 485, 489, 509, 514, 519, 525, 534, 536, 540, 544, 546, 549, 557, 563, 567, 570, 572, 576, 582, 585, 593, 596, 599, 602, 605, 608, 611, 615, 620, 625, 632, 634, 640, 644, 648, 650, 653, 655, 659, 664, 668, 673, 676, 678, 681, 683, 690, 699, 705, 708, 711, 713, 715, 720, 724, 730, 733, 735, 738, 740, 742, 748, 753, 756, 759, 772, 782, 784, 788, 794, 800, 806, 810, 812, 816, 821, 829, 845, 870, 897, 905, 907, 909, 914, 924, 931, 937, 939, 941, 944, 946, 948, 954, 957, 965, 967, 969, 972, 989, 994, 1000, 1004, 1008, 1012, 1016, 1020, 1022, 1024, 1028, 1034, 1038, 1040, 1045, 1047, 1051, 1054, 1057, 1061, 1064, 1067, 1069, 1072, 1076, 1080, 1083, 1085, 1092, 1094, 1096, 1103, 1106, 1108, 1111, 1114, 1117, 1119, 1124, 1129, 1131, 1134, 1142, 1147, 1149, 1153, 1156, 1158, 1161, 1165, 1170, 1175, 1184, 1194, 1203, 1229, 1234, 1244, 1246, 1251, 1253, 1255, 1258, 1263, 1269, 1273, 1275, 1279, 1282, 1286, 1290, 1294]\n",
      "Not wanted:\n",
      "{1024, 514, 1028, 519, 12, 14, 1038, 1040, 20, 1045, 534, 23, 1047, 536, 26, 1051, 540, 29, 1054, 31, 544, 1057, 34, 546, 37, 1061, 549, 1064, 42, 1067, 557, 46, 1069, 48, 1072, 563, 1076, 53, 567, 56, 1080, 570, 1083, 60, 1085, 572, 64, 576, 67, 1092, 1094, 582, 1096, 73, 585, 76, 78, 1103, 81, 1106, 593, 1108, 596, 1111, 87, 599, 1114, 602, 92, 1117, 605, 1119, 96, 608, 611, 1124, 101, 103, 615, 1129, 106, 1131, 620, 108, 1134, 111, 625, 114, 116, 1142, 119, 632, 634, 1147, 1149, 127, 640, 1153, 644, 1156, 1158, 648, 1161, 650, 137, 653, 655, 1170, 659, 148, 1175, 664, 151, 153, 668, 158, 1184, 673, 162, 676, 678, 681, 1194, 683, 169, 173, 178, 690, 1203, 180, 699, 705, 708, 197, 711, 200, 713, 202, 715, 1229, 207, 720, 1234, 212, 724, 730, 1244, 733, 1246, 735, 738, 1251, 740, 1253, 742, 1255, 232, 1258, 235, 748, 238, 1263, 240, 753, 756, 245, 1269, 759, 1273, 1275, 251, 253, 1279, 257, 1282, 772, 261, 1286, 265, 1290, 782, 1294, 784, 788, 277, 794, 287, 800, 806, 295, 810, 812, 816, 304, 308, 821, 310, 313, 315, 829, 320, 326, 330, 332, 845, 337, 341, 343, 357, 870, 371, 378, 381, 383, 897, 387, 389, 905, 394, 907, 909, 401, 914, 404, 406, 924, 413, 931, 937, 425, 939, 427, 429, 941, 431, 944, 434, 946, 948, 437, 441, 954, 957, 445, 448, 452, 965, 967, 969, 458, 460, 972, 464, 468, 471, 474, 989, 479, 994, 483, 485, 1000, 489, 1004, 1008, 1012, 1016, 1020, 509, 1022}\n",
      "Final:\n",
      "[130, 3, 323, 7, 1034, 525, 1165, 18, 242]\n",
      "\n",
      "- Prototypes selected\n",
      "[ 130    3  323    7 1034  525 1165   18  242]\n",
      "130  ->  ehrenfeucht a haussler d kearns m and valiant lg a general lower bound on the number of examples needed for learning\n",
      "3  ->  avrim blum merrick furst michael kearns and richard j lipton cryptographic primitives based on hard learning problems\n",
      "323  ->  y freund m kearns y mansour d ron r rubinfeld and r schapire efficient algorithms for learning to play repeated games against computationally bounded adversaries\n",
      "7  ->  blum a furst m jackson j kearns m mansour y and rudich s weakly learning dnf 10 and characterizing statistical query learning using fourier analysis\n",
      "1034  ->  kearns m j a bound on the error of cross validation using the approximation and estimation rates with consequences for the trainingtest split\n",
      "525  ->  d haussler m kearns and r e schapire bounds on the sample complexity of bayesian learning using information theory and the vc dimension\n",
      "1165  ->  robert e schapire yoav freund peter bartlett and wee sun lee boosting the margin a new explanation for the effectiveness of voting methods\n",
      "18  ->  nicolo cesabianchi yoav freund david p helmbold david haussler robert e schapire and manfred k warmuth how to use expert advice\n",
      "242  ->  y freund m kearns d ron r rubinfeld re schapire and l sellie efficient learning of typical finite automata from random walks\n"
     ]
    },
    {
     "data": {
      "image/png": "[encoded data removed]",
      "text/plain": [
       "<Figure size 720x720 with 2 Axes>"
      ]
     },
     "metadata": {},
     "output_type": "display_data"
    },
    {
     "name": "stdout",
     "output_type": "stream",
     "text": [
      "\n",
      "- Mean variance in prototype selection:  95.1604938271605\n",
      "\n",
      "- Final number of prototypes:  9\n",
      "\n",
      "# Finished in 0.7155 secs\n",
      "\n",
      "\n",
      "[   0    1    2 ... 1292 1293 1294]\n",
      "\n"
     ]
    }
   ],
   "source": [
    "max_numberOf_clusters= [5000]\n",
    "max_editDistance= [20,50]\n",
    "prototypesFilterThr = [80]\n",
    "\n",
    "distanceMetric= ['edit']\n",
    "\n",
    "# ---------------- #\n",
    "\n",
    "ngramms= [3]  \n",
    "jaccard_withchars = [False] \n",
    "\n",
    "distanceMetricEmbedding = ['euclidean','l_inf','edit']\n",
    "\n",
    "windowSize= [50]\n",
    "number_of_permutations = [5]\n",
    "\n",
    "similarityThreshold= [0.7]\n",
    "similarityVectors= ['ranked']\n",
    "metric= ['kendal']\n",
    "\n",
    "results_section1_edit = GridSearch_cora(\n",
    "    data,true_matrix,\n",
    "    max_numberOf_clusters,\n",
    "    max_editDistance,\n",
    "    similarityThreshold,\n",
    "    windowSize,\n",
    "    metric,\n",
    "    similarityVectors,\n",
    "    distanceMetricEmbedding,\n",
    "    distanceMetric,\n",
    "    number_of_permutations,\n",
    "    ngramms,\n",
    "    jaccard_withchars,\n",
    "    prototypesFilterThr,\n",
    "    earlyStop=1\n",
    ")"
   ]
  },
  {
   "cell_type": "markdown",
   "metadata": {},
   "source": [
    "##### Embeddings"
   ]
  },
  {
   "cell_type": "code",
   "execution_count": null,
   "metadata": {},
   "outputs": [],
   "source": [
    "pcaComponents = PCA_SpaceVisualization(model.Embeddings)"
   ]
  },
  {
   "cell_type": "code",
   "execution_count": null,
   "metadata": {},
   "outputs": [],
   "source": [
    "pcaComponents = PCA_SpaceVisualization(model.rankedVectors)"
   ]
  },
  {
   "cell_type": "markdown",
   "metadata": {},
   "source": [
    "##### Results"
   ]
  },
  {
   "cell_type": "code",
   "execution_count": null,
   "metadata": {},
   "outputs": [],
   "source": [
    "results_section1_edit[[\"max_numberOf_clusters\",\"max_editDistance\",\"prototypesFilterThr\",\"numOfPrototypes\",\"protSelectionVariance\"]].sort_values(by=['numOfPrototypes'], ascending=False).head(20)"
   ]
  },
  {
   "cell_type": "code",
   "execution_count": null,
   "metadata": {},
   "outputs": [],
   "source": [
    "results_section1_edit[[\"max_numberOf_clusters\",\"max_editDistance\",\"prototypesFilterThr\",\"numOfPrototypes\",\"protSelectionVariance\"]].sort_values(by=['protSelectionVariance'], ascending=False).head(50)"
   ]
  },
  {
   "cell_type": "code",
   "execution_count": 53,
   "metadata": {
    "scrolled": true
   },
   "outputs": [
    {
     "data": {
      "application/vnd.jupyter.widget-view+json": {
       "model_id": "aa0f8e43d55c416ba776dc0c02502c29",
       "version_major": 2,
       "version_minor": 0
      },
      "text/plain": [
       "HBox(children=(FloatProgress(value=0.0, max=3.0), HTML(value='')))"
      ]
     },
     "metadata": {},
     "output_type": "display_data"
    },
    {
     "name": "stdout",
     "output_type": "stream",
     "text": [
      "+ ------------   1    ------------- +\n",
      "max_numberOf_clusters:  100\n",
      "max_editDistancez:  0.7\n",
      "similarityThreshold:  0.7\n",
      "windowSize:  50\n",
      "metric:  kendal\n",
      "similarityVectors:  ranked\n",
      "distanceMetricEmbedding:  euclidean\n",
      "distanceMetric:  jaccard\n",
      "number_of_permutations:  5\n",
      "withchars:  True\n",
      "ngramms:  True\n",
      "prototypeFilter:  0.2\n",
      "+ ----------------------------------- +\n",
      "\n",
      "#####################################################################\n",
      "#     .~ RankedWTAHash with Vantage embeddings starts training ~.   #\n",
      "#####################################################################\n",
      "\n",
      "###########################################################\n",
      "# > 1. Prototype selection phase                          #\n",
      "###########################################################\n",
      "\n",
      "\n",
      "-> Finding prototypes and representatives of each cluster:\n"
     ]
    },
    {
     "data": {
      "application/vnd.jupyter.widget-view+json": {
       "model_id": "16a41220b3b64b2e827eb9c9576d80b6",
       "version_major": 2,
       "version_minor": 0
      },
      "text/plain": [
       "HBox(children=(FloatProgress(value=0.0, max=1295.0), HTML(value='')))"
      ]
     },
     "metadata": {},
     "output_type": "display_data"
    },
    {
     "name": "stdout",
     "output_type": "stream",
     "text": [
      "\n",
      "0.35\n",
      "Prototypes before:\n",
      "[255, 599, 619, 729, 839, 879, 932, 982, 1016, 1024, 1064, 1184, 1217, 1274]\n",
      "Not wanted:\n",
      "{1024, 1184, 1217, 932, 839, 1064, 619, 982, 599, 1016, 729, 1274}\n",
      "Final:\n",
      "[255, 879]\n",
      "\n",
      "- Prototypes selected\n",
      "[255 879]\n",
      "255  ->  y freund m kearns d ron r rubinfeld re schapire and l sellie efficient learning of typical finite automata from random walks\n",
      "879  ->  m kearns efficient noisetolerant learning from statistical queries\n",
      "\n",
      "- Final number of prototypes:  2\n",
      "\n",
      "# Finished in 0.0560 secs\n",
      "\n",
      "\n",
      "[   0    1    2 ... 1292 1293 1294]\n",
      "+ ------------   2    ------------- +\n",
      "max_numberOf_clusters:  100\n",
      "max_editDistancez:  0.7\n",
      "similarityThreshold:  0.7\n",
      "windowSize:  50\n",
      "metric:  kendal\n",
      "similarityVectors:  ranked\n",
      "distanceMetricEmbedding:  euclidean\n",
      "distanceMetric:  jaccard\n",
      "number_of_permutations:  5\n",
      "withchars:  True\n",
      "ngramms:  True\n",
      "prototypeFilter:  0.3\n",
      "+ ----------------------------------- +\n",
      "\n",
      "#####################################################################\n",
      "#     .~ RankedWTAHash with Vantage embeddings starts training ~.   #\n",
      "#####################################################################\n",
      "\n",
      "###########################################################\n",
      "# > 1. Prototype selection phase                          #\n",
      "###########################################################\n",
      "\n",
      "\n",
      "-> Finding prototypes and representatives of each cluster:\n"
     ]
    },
    {
     "data": {
      "application/vnd.jupyter.widget-view+json": {
       "model_id": "64eead7710654d56945a8198003e4e22",
       "version_major": 2,
       "version_minor": 0
      },
      "text/plain": [
       "HBox(children=(FloatProgress(value=0.0, max=1295.0), HTML(value='')))"
      ]
     },
     "metadata": {},
     "output_type": "display_data"
    },
    {
     "name": "stdout",
     "output_type": "stream",
     "text": [
      "\n",
      "0.35\n",
      "Prototypes before:\n",
      "[255, 599, 619, 729, 839, 879, 932, 982, 1016, 1024, 1064, 1184, 1217, 1274]\n",
      "Not wanted:\n",
      "{1024, 1184, 1217, 932, 839, 1064, 619, 879, 982, 599, 1016, 729, 1274}\n",
      "Final:\n",
      "[255]\n",
      "\n",
      "- Prototypes selected\n",
      "[255]\n",
      "255  ->  y freund m kearns d ron r rubinfeld re schapire and l sellie efficient learning of typical finite automata from random walks\n",
      "\n",
      "- Final number of prototypes:  1\n",
      "\n",
      "# Finished in 0.0472 secs\n",
      "\n",
      "\n",
      "[   0    1    2 ... 1292 1293 1294]\n",
      "+ ------------   3    ------------- +\n",
      "max_numberOf_clusters:  100\n",
      "max_editDistancez:  0.8\n",
      "similarityThreshold:  0.7\n",
      "windowSize:  50\n",
      "metric:  kendal\n",
      "similarityVectors:  ranked\n",
      "distanceMetricEmbedding:  euclidean\n",
      "distanceMetric:  jaccard\n",
      "number_of_permutations:  5\n",
      "withchars:  True\n",
      "ngramms:  True\n",
      "prototypeFilter:  0.2\n",
      "+ ----------------------------------- +\n",
      "\n",
      "#####################################################################\n",
      "#     .~ RankedWTAHash with Vantage embeddings starts training ~.   #\n",
      "#####################################################################\n",
      "\n",
      "###########################################################\n",
      "# > 1. Prototype selection phase                          #\n",
      "###########################################################\n",
      "\n",
      "\n",
      "-> Finding prototypes and representatives of each cluster:\n"
     ]
    },
    {
     "data": {
      "application/vnd.jupyter.widget-view+json": {
       "model_id": "b13789b5ea9b4a03bbbc5e5bb8012566",
       "version_major": 2,
       "version_minor": 0
      },
      "text/plain": [
       "HBox(children=(FloatProgress(value=0.0, max=1295.0), HTML(value='')))"
      ]
     },
     "metadata": {},
     "output_type": "display_data"
    },
    {
     "name": "stdout",
     "output_type": "stream",
     "text": [
      "\n",
      "0.4\n",
      "Prototypes before:\n",
      "[509]\n",
      "Not wanted:\n",
      "set()\n",
      "Final:\n",
      "[509]\n",
      "\n",
      "- Prototypes selected\n",
      "[509]\n",
      "509  ->  d haussler m kearns n littlestone and m k warmuth equivalence of models for polynomial learnability\n",
      "\n",
      "- Final number of prototypes:  1\n",
      "\n",
      "# Finished in 0.0457 secs\n",
      "\n",
      "\n",
      "[   0    1    2 ... 1292 1293 1294]\n",
      "+ ------------   4    ------------- +\n",
      "max_numberOf_clusters:  100\n",
      "max_editDistancez:  0.8\n",
      "similarityThreshold:  0.7\n",
      "windowSize:  50\n",
      "metric:  kendal\n",
      "similarityVectors:  ranked\n",
      "distanceMetricEmbedding:  euclidean\n",
      "distanceMetric:  jaccard\n",
      "number_of_permutations:  5\n",
      "withchars:  True\n",
      "ngramms:  True\n",
      "prototypeFilter:  0.3\n",
      "+ ----------------------------------- +\n",
      "\n",
      "#####################################################################\n",
      "#     .~ RankedWTAHash with Vantage embeddings starts training ~.   #\n",
      "#####################################################################\n",
      "\n",
      "###########################################################\n",
      "# > 1. Prototype selection phase                          #\n",
      "###########################################################\n",
      "\n",
      "\n",
      "-> Finding prototypes and representatives of each cluster:\n"
     ]
    },
    {
     "data": {
      "application/vnd.jupyter.widget-view+json": {
       "model_id": "406edce898d04598b1a3251f2283d862",
       "version_major": 2,
       "version_minor": 0
      },
      "text/plain": [
       "HBox(children=(FloatProgress(value=0.0, max=1295.0), HTML(value='')))"
      ]
     },
     "metadata": {},
     "output_type": "display_data"
    },
    {
     "name": "stdout",
     "output_type": "stream",
     "text": [
      "\n",
      "0.4\n",
      "Prototypes before:\n",
      "[509]\n",
      "Not wanted:\n",
      "set()\n",
      "Final:\n",
      "[509]\n",
      "\n",
      "- Prototypes selected\n",
      "[509]\n",
      "509  ->  d haussler m kearns n littlestone and m k warmuth equivalence of models for polynomial learnability\n",
      "\n",
      "- Final number of prototypes:  1\n",
      "\n",
      "# Finished in 0.0444 secs\n",
      "\n",
      "\n",
      "[   0    1    2 ... 1292 1293 1294]\n",
      "+ ------------   5    ------------- +\n",
      "max_numberOf_clusters:  500\n",
      "max_editDistancez:  0.7\n",
      "similarityThreshold:  0.7\n",
      "windowSize:  50\n",
      "metric:  kendal\n",
      "similarityVectors:  ranked\n",
      "distanceMetricEmbedding:  euclidean\n",
      "distanceMetric:  jaccard\n",
      "number_of_permutations:  5\n",
      "withchars:  True\n",
      "ngramms:  True\n",
      "prototypeFilter:  0.2\n",
      "+ ----------------------------------- +\n",
      "\n",
      "#####################################################################\n",
      "#     .~ RankedWTAHash with Vantage embeddings starts training ~.   #\n",
      "#####################################################################\n",
      "\n",
      "###########################################################\n",
      "# > 1. Prototype selection phase                          #\n",
      "###########################################################\n",
      "\n",
      "\n",
      "-> Finding prototypes and representatives of each cluster:\n"
     ]
    },
    {
     "data": {
      "application/vnd.jupyter.widget-view+json": {
       "model_id": "11d12bb9ae794e468a00a8cfecfe04ff",
       "version_major": 2,
       "version_minor": 0
      },
      "text/plain": [
       "HBox(children=(FloatProgress(value=0.0, max=1295.0), HTML(value='')))"
      ]
     },
     "metadata": {},
     "output_type": "display_data"
    },
    {
     "name": "stdout",
     "output_type": "stream",
     "text": [
      "\n",
      "0.35\n",
      "Prototypes before:\n",
      "[255, 599, 619, 729, 839, 879, 932, 982, 1016, 1024, 1064, 1184, 1217, 1274]\n",
      "Not wanted:\n",
      "{1024, 1184, 1217, 932, 839, 1064, 619, 982, 599, 1016, 729, 1274}\n",
      "Final:\n",
      "[255, 879]\n",
      "\n",
      "- Prototypes selected\n",
      "[255 879]\n",
      "255  ->  y freund m kearns d ron r rubinfeld re schapire and l sellie efficient learning of typical finite automata from random walks\n",
      "879  ->  m kearns efficient noisetolerant learning from statistical queries\n",
      "\n",
      "- Final number of prototypes:  2\n",
      "\n",
      "# Finished in 0.0438 secs\n",
      "\n",
      "\n",
      "[   0    1    2 ... 1292 1293 1294]\n",
      "+ ------------   6    ------------- +\n",
      "max_numberOf_clusters:  500\n",
      "max_editDistancez:  0.7\n",
      "similarityThreshold:  0.7\n",
      "windowSize:  50\n",
      "metric:  kendal\n",
      "similarityVectors:  ranked\n",
      "distanceMetricEmbedding:  euclidean\n",
      "distanceMetric:  jaccard\n",
      "number_of_permutations:  5\n",
      "withchars:  True\n",
      "ngramms:  True\n",
      "prototypeFilter:  0.3\n",
      "+ ----------------------------------- +\n",
      "\n",
      "#####################################################################\n",
      "#     .~ RankedWTAHash with Vantage embeddings starts training ~.   #\n",
      "#####################################################################\n",
      "\n",
      "###########################################################\n",
      "# > 1. Prototype selection phase                          #\n",
      "###########################################################\n",
      "\n",
      "\n",
      "-> Finding prototypes and representatives of each cluster:\n"
     ]
    },
    {
     "data": {
      "application/vnd.jupyter.widget-view+json": {
       "model_id": "c8236e65bbe149358e82052bab5645c1",
       "version_major": 2,
       "version_minor": 0
      },
      "text/plain": [
       "HBox(children=(FloatProgress(value=0.0, max=1295.0), HTML(value='')))"
      ]
     },
     "metadata": {},
     "output_type": "display_data"
    },
    {
     "name": "stdout",
     "output_type": "stream",
     "text": [
      "\n",
      "0.35\n",
      "Prototypes before:\n",
      "[255, 599, 619, 729, 839, 879, 932, 982, 1016, 1024, 1064, 1184, 1217, 1274]\n",
      "Not wanted:\n",
      "{1024, 1184, 1217, 932, 839, 1064, 619, 879, 982, 599, 1016, 729, 1274}\n",
      "Final:\n",
      "[255]\n",
      "\n",
      "- Prototypes selected\n",
      "[255]\n",
      "255  ->  y freund m kearns d ron r rubinfeld re schapire and l sellie efficient learning of typical finite automata from random walks\n",
      "\n",
      "- Final number of prototypes:  1\n",
      "\n",
      "# Finished in 0.0440 secs\n",
      "\n",
      "\n",
      "[   0    1    2 ... 1292 1293 1294]\n",
      "+ ------------   7    ------------- +\n",
      "max_numberOf_clusters:  500\n",
      "max_editDistancez:  0.8\n",
      "similarityThreshold:  0.7\n",
      "windowSize:  50\n",
      "metric:  kendal\n",
      "similarityVectors:  ranked\n",
      "distanceMetricEmbedding:  euclidean\n",
      "distanceMetric:  jaccard\n",
      "number_of_permutations:  5\n",
      "withchars:  True\n",
      "ngramms:  True\n",
      "prototypeFilter:  0.2\n",
      "+ ----------------------------------- +\n",
      "\n",
      "#####################################################################\n",
      "#     .~ RankedWTAHash with Vantage embeddings starts training ~.   #\n",
      "#####################################################################\n",
      "\n",
      "###########################################################\n",
      "# > 1. Prototype selection phase                          #\n",
      "###########################################################\n",
      "\n",
      "\n",
      "-> Finding prototypes and representatives of each cluster:\n"
     ]
    },
    {
     "data": {
      "application/vnd.jupyter.widget-view+json": {
       "model_id": "26d9f28e794946988b2e8a51e9757f22",
       "version_major": 2,
       "version_minor": 0
      },
      "text/plain": [
       "HBox(children=(FloatProgress(value=0.0, max=1295.0), HTML(value='')))"
      ]
     },
     "metadata": {},
     "output_type": "display_data"
    },
    {
     "name": "stdout",
     "output_type": "stream",
     "text": [
      "\n",
      "0.4\n",
      "Prototypes before:\n",
      "[509]\n",
      "Not wanted:\n",
      "set()\n",
      "Final:\n",
      "[509]\n",
      "\n",
      "- Prototypes selected\n",
      "[509]\n",
      "509  ->  d haussler m kearns n littlestone and m k warmuth equivalence of models for polynomial learnability\n",
      "\n",
      "- Final number of prototypes:  1\n",
      "\n",
      "# Finished in 0.0584 secs\n",
      "\n",
      "\n",
      "[   0    1    2 ... 1292 1293 1294]\n",
      "+ ------------   8    ------------- +\n",
      "max_numberOf_clusters:  500\n",
      "max_editDistancez:  0.8\n",
      "similarityThreshold:  0.7\n",
      "windowSize:  50\n",
      "metric:  kendal\n",
      "similarityVectors:  ranked\n",
      "distanceMetricEmbedding:  euclidean\n",
      "distanceMetric:  jaccard\n",
      "number_of_permutations:  5\n",
      "withchars:  True\n",
      "ngramms:  True\n",
      "prototypeFilter:  0.3\n",
      "+ ----------------------------------- +\n",
      "\n",
      "#####################################################################\n",
      "#     .~ RankedWTAHash with Vantage embeddings starts training ~.   #\n",
      "#####################################################################\n",
      "\n",
      "###########################################################\n",
      "# > 1. Prototype selection phase                          #\n",
      "###########################################################\n",
      "\n",
      "\n",
      "-> Finding prototypes and representatives of each cluster:\n"
     ]
    },
    {
     "data": {
      "application/vnd.jupyter.widget-view+json": {
       "model_id": "789124d34d5f42d99199200d5b1ca928",
       "version_major": 2,
       "version_minor": 0
      },
      "text/plain": [
       "HBox(children=(FloatProgress(value=0.0, max=1295.0), HTML(value='')))"
      ]
     },
     "metadata": {},
     "output_type": "display_data"
    },
    {
     "name": "stdout",
     "output_type": "stream",
     "text": [
      "\n",
      "0.4\n",
      "Prototypes before:\n",
      "[509]\n",
      "Not wanted:\n",
      "set()\n",
      "Final:\n",
      "[509]\n",
      "\n",
      "- Prototypes selected\n",
      "[509]\n",
      "509  ->  d haussler m kearns n littlestone and m k warmuth equivalence of models for polynomial learnability\n",
      "\n",
      "- Final number of prototypes:  1\n",
      "\n",
      "# Finished in 0.0547 secs\n",
      "\n",
      "\n",
      "[   0    1    2 ... 1292 1293 1294]\n",
      "+ ------------   9    ------------- +\n",
      "max_numberOf_clusters:  1000\n",
      "max_editDistancez:  0.7\n",
      "similarityThreshold:  0.7\n",
      "windowSize:  50\n",
      "metric:  kendal\n",
      "similarityVectors:  ranked\n",
      "distanceMetricEmbedding:  euclidean\n",
      "distanceMetric:  jaccard\n",
      "number_of_permutations:  5\n",
      "withchars:  True\n",
      "ngramms:  True\n",
      "prototypeFilter:  0.2\n",
      "+ ----------------------------------- +\n",
      "\n",
      "#####################################################################\n",
      "#     .~ RankedWTAHash with Vantage embeddings starts training ~.   #\n",
      "#####################################################################\n",
      "\n",
      "###########################################################\n",
      "# > 1. Prototype selection phase                          #\n",
      "###########################################################\n",
      "\n",
      "\n",
      "-> Finding prototypes and representatives of each cluster:\n"
     ]
    },
    {
     "data": {
      "application/vnd.jupyter.widget-view+json": {
       "model_id": "a6bddceabe8f4d73a1b4026386ed4c9e",
       "version_major": 2,
       "version_minor": 0
      },
      "text/plain": [
       "HBox(children=(FloatProgress(value=0.0, max=1295.0), HTML(value='')))"
      ]
     },
     "metadata": {},
     "output_type": "display_data"
    },
    {
     "name": "stdout",
     "output_type": "stream",
     "text": [
      "\n",
      "0.35\n",
      "Prototypes before:\n",
      "[255, 599, 619, 729, 839, 879, 932, 982, 1016, 1024, 1064, 1184, 1217, 1274]\n",
      "Not wanted:\n",
      "{1024, 1184, 1217, 932, 839, 1064, 619, 982, 599, 1016, 729, 1274}\n",
      "Final:\n",
      "[255, 879]\n",
      "\n",
      "- Prototypes selected\n",
      "[255 879]\n",
      "255  ->  y freund m kearns d ron r rubinfeld re schapire and l sellie efficient learning of typical finite automata from random walks\n",
      "879  ->  m kearns efficient noisetolerant learning from statistical queries\n",
      "\n",
      "- Final number of prototypes:  2\n",
      "\n",
      "# Finished in 0.0476 secs\n",
      "\n",
      "\n",
      "[   0    1    2 ... 1292 1293 1294]\n",
      "+ ------------   10    ------------- +\n",
      "max_numberOf_clusters:  1000\n",
      "max_editDistancez:  0.7\n",
      "similarityThreshold:  0.7\n",
      "windowSize:  50\n",
      "metric:  kendal\n",
      "similarityVectors:  ranked\n",
      "distanceMetricEmbedding:  euclidean\n",
      "distanceMetric:  jaccard\n",
      "number_of_permutations:  5\n",
      "withchars:  True\n",
      "ngramms:  True\n",
      "prototypeFilter:  0.3\n",
      "+ ----------------------------------- +\n",
      "\n",
      "#####################################################################\n",
      "#     .~ RankedWTAHash with Vantage embeddings starts training ~.   #\n",
      "#####################################################################\n",
      "\n",
      "###########################################################\n",
      "# > 1. Prototype selection phase                          #\n",
      "###########################################################\n",
      "\n",
      "\n",
      "-> Finding prototypes and representatives of each cluster:\n"
     ]
    },
    {
     "data": {
      "application/vnd.jupyter.widget-view+json": {
       "model_id": "7793d9666dc946d691a2d61fe332a599",
       "version_major": 2,
       "version_minor": 0
      },
      "text/plain": [
       "HBox(children=(FloatProgress(value=0.0, max=1295.0), HTML(value='')))"
      ]
     },
     "metadata": {},
     "output_type": "display_data"
    },
    {
     "name": "stdout",
     "output_type": "stream",
     "text": [
      "\n",
      "0.35\n",
      "Prototypes before:\n",
      "[255, 599, 619, 729, 839, 879, 932, 982, 1016, 1024, 1064, 1184, 1217, 1274]\n",
      "Not wanted:\n",
      "{1024, 1184, 1217, 932, 839, 1064, 619, 879, 982, 599, 1016, 729, 1274}\n",
      "Final:\n",
      "[255]\n",
      "\n",
      "- Prototypes selected\n",
      "[255]\n",
      "255  ->  y freund m kearns d ron r rubinfeld re schapire and l sellie efficient learning of typical finite automata from random walks\n",
      "\n",
      "- Final number of prototypes:  1\n",
      "\n",
      "# Finished in 0.0563 secs\n",
      "\n",
      "\n",
      "[   0    1    2 ... 1292 1293 1294]\n",
      "+ ------------   11    ------------- +\n",
      "max_numberOf_clusters:  1000\n",
      "max_editDistancez:  0.8\n",
      "similarityThreshold:  0.7\n",
      "windowSize:  50\n",
      "metric:  kendal\n",
      "similarityVectors:  ranked\n",
      "distanceMetricEmbedding:  euclidean\n",
      "distanceMetric:  jaccard\n",
      "number_of_permutations:  5\n",
      "withchars:  True\n",
      "ngramms:  True\n",
      "prototypeFilter:  0.2\n",
      "+ ----------------------------------- +\n",
      "\n",
      "#####################################################################\n",
      "#     .~ RankedWTAHash with Vantage embeddings starts training ~.   #\n",
      "#####################################################################\n",
      "\n",
      "###########################################################\n",
      "# > 1. Prototype selection phase                          #\n",
      "###########################################################\n",
      "\n",
      "\n",
      "-> Finding prototypes and representatives of each cluster:\n"
     ]
    },
    {
     "data": {
      "application/vnd.jupyter.widget-view+json": {
       "model_id": "94de565758ca4ecd987ee1328c35aeb7",
       "version_major": 2,
       "version_minor": 0
      },
      "text/plain": [
       "HBox(children=(FloatProgress(value=0.0, max=1295.0), HTML(value='')))"
      ]
     },
     "metadata": {},
     "output_type": "display_data"
    },
    {
     "name": "stdout",
     "output_type": "stream",
     "text": [
      "\n",
      "0.4\n",
      "Prototypes before:\n",
      "[509]\n",
      "Not wanted:\n",
      "set()\n",
      "Final:\n",
      "[509]\n",
      "\n",
      "- Prototypes selected\n",
      "[509]\n",
      "509  ->  d haussler m kearns n littlestone and m k warmuth equivalence of models for polynomial learnability\n",
      "\n",
      "- Final number of prototypes:  1\n",
      "\n",
      "# Finished in 0.0457 secs\n",
      "\n",
      "\n",
      "[   0    1    2 ... 1292 1293 1294]\n",
      "+ ------------   12    ------------- +\n",
      "max_numberOf_clusters:  1000\n",
      "max_editDistancez:  0.8\n",
      "similarityThreshold:  0.7\n",
      "windowSize:  50\n",
      "metric:  kendal\n",
      "similarityVectors:  ranked\n",
      "distanceMetricEmbedding:  euclidean\n",
      "distanceMetric:  jaccard\n",
      "number_of_permutations:  5\n",
      "withchars:  True\n",
      "ngramms:  True\n",
      "prototypeFilter:  0.3\n",
      "+ ----------------------------------- +\n",
      "\n",
      "#####################################################################\n",
      "#     .~ RankedWTAHash with Vantage embeddings starts training ~.   #\n",
      "#####################################################################\n",
      "\n",
      "###########################################################\n",
      "# > 1. Prototype selection phase                          #\n",
      "###########################################################\n",
      "\n",
      "\n",
      "-> Finding prototypes and representatives of each cluster:\n"
     ]
    },
    {
     "data": {
      "application/vnd.jupyter.widget-view+json": {
       "model_id": "b786c12814e043e6ac0e305e2b8fc03f",
       "version_major": 2,
       "version_minor": 0
      },
      "text/plain": [
       "HBox(children=(FloatProgress(value=0.0, max=1295.0), HTML(value='')))"
      ]
     },
     "metadata": {},
     "output_type": "display_data"
    },
    {
     "name": "stdout",
     "output_type": "stream",
     "text": [
      "\n",
      "0.4\n",
      "Prototypes before:\n",
      "[509]\n",
      "Not wanted:\n",
      "set()\n",
      "Final:\n",
      "[509]\n",
      "\n",
      "- Prototypes selected\n",
      "[509]\n",
      "509  ->  d haussler m kearns n littlestone and m k warmuth equivalence of models for polynomial learnability\n",
      "\n",
      "- Final number of prototypes:  1\n",
      "\n",
      "# Finished in 0.0523 secs\n",
      "\n",
      "\n",
      "[   0    1    2 ... 1292 1293 1294]\n",
      "\n"
     ]
    }
   ],
   "source": [
    "max_numberOf_clusters= [100,500,1000]\n",
    "max_editDistance= [0.7,0.8]\n",
    "prototypesFilterThr = [0.2,0.3]\n",
    "\n",
    "distanceMetric= ['jaccard']\n",
    "\n",
    "\n",
    "ngramms= [2,3]  \n",
    "jaccard_withchars = [True] \n",
    "\n",
    "# ---------------- #\n",
    "\n",
    "distanceMetricEmbedding = ['euclidean']\n",
    "\n",
    "windowSize= [50]\n",
    "number_of_permutations = [5]\n",
    "\n",
    "similarityThreshold= [0.7]\n",
    "similarityVectors= ['ranked']\n",
    "metric= ['kendal']\n",
    "\n",
    "\n",
    "results_section1_jac = GridSearch_cora(\n",
    "    data,true_matrix,\n",
    "    max_numberOf_clusters,\n",
    "    max_editDistance,\n",
    "    similarityThreshold,\n",
    "    windowSize,\n",
    "    metric,\n",
    "    similarityVectors,\n",
    "    distanceMetricEmbedding,\n",
    "    distanceMetric,\n",
    "    number_of_permutations,\n",
    "    ngramms,\n",
    "    jaccard_withchars,\n",
    "    prototypesFilterThr,\n",
    "    earlyStop=1\n",
    ")"
   ]
  },
  {
   "cell_type": "markdown",
   "metadata": {},
   "source": [
    "##### Embeddings"
   ]
  },
  {
   "cell_type": "code",
   "execution_count": null,
   "metadata": {},
   "outputs": [],
   "source": [
    "pcaComponents = PCA_SpaceVisualization(model.Embeddings)"
   ]
  },
  {
   "cell_type": "code",
   "execution_count": null,
   "metadata": {},
   "outputs": [],
   "source": [
    "pcaComponents = PCA_SpaceVisualization(model.rankedVectors)"
   ]
  },
  {
   "cell_type": "markdown",
   "metadata": {},
   "source": [
    "##### Results"
   ]
  },
  {
   "cell_type": "code",
   "execution_count": null,
   "metadata": {
    "scrolled": true
   },
   "outputs": [],
   "source": [
    "results_section1_jac[[\"max_numberOf_clusters\",\"max_editDistance\",\"prototypesFilterThr\",\"numOfPrototypes\",\"protSelectionVariance\"]].sort_values(by=['numOfPrototypes'], ascending=False).head(20)"
   ]
  },
  {
   "cell_type": "code",
   "execution_count": null,
   "metadata": {
    "scrolled": true,
    "tags": []
   },
   "outputs": [],
   "source": [
    "results_section1_jac[[\"max_numberOf_clusters\",\"max_editDistance\",\"prototypesFilterThr\",\"numOfPrototypes\",\"protSelectionVariance\"]].sort_values(by=['protSelectionVariance'], ascending=True).head(50)"
   ]
  },
  {
   "cell_type": "markdown",
   "metadata": {},
   "source": [
    "#### [iii] Fine tunning  __WTA algorithm__\n",
    "\n",
    "\n",
    "Goals:\n",
    "\n",
    "- __Ranked vectors dimension__\n",
    "- __Permutations__: A number of permutations will be forced in order to better split data into buckets.\n",
    "\n",
    " \n",
    "Parameters to fine tunne:\n",
    "\n",
    "- ```windowSize```: Vector size after WTA\n",
    "- ```number_of_permutations```: How many times vectors will be permuted and hashed\n",
    "\n",
    "All these parameters will be tested both for edit distance and jaccard with 3-grams."
   ]
  },
  {
   "cell_type": "markdown",
   "metadata": {},
   "source": [
    "#### [iv] Model final fine tunning\n"
   ]
  },
  {
   "cell_type": "markdown",
   "metadata": {},
   "source": [
    "##### Edit distance"
   ]
  },
  {
   "cell_type": "code",
   "execution_count": null,
   "metadata": {
    "scrolled": true,
    "tags": []
   },
   "outputs": [],
   "source": [
    "max_numberOf_clusters= [100,500,1000]\n",
    "max_editDistance= [50,100]\n",
    "prototypesFilterThr = [20,40,70]\n",
    "\n",
    "distanceMetric= ['edit']\n",
    "\n",
    "ngramms= [3]  \n",
    "jaccard_withchars = [False] \n",
    "\n",
    "distanceMetricEmbedding = ['l_inf','euclidean']\n",
    "\n",
    "windowSize= [16,32,64,128]\n",
    "number_of_permutations = [1,4,8]\n",
    "\n",
    "similarityThreshold= [0.7,0.75,0.8]\n",
    "similarityVectors= ['initial','ranked']\n",
    "metric= ['kendal','customKendal']\n",
    "\n",
    "\n",
    "\n",
    "results_section1_edit = GridSearch_cora(\n",
    "    data,true_matrix,\n",
    "    max_numberOf_clusters,\n",
    "    max_editDistance,\n",
    "    similarityThreshold,\n",
    "    windowSize,\n",
    "    metric,\n",
    "    similarityVectors,\n",
    "    distanceMetricEmbedding,\n",
    "    distanceMetric,\n",
    "    number_of_permutations,\n",
    "    ngramms,\n",
    "    jaccard_withchars,\n",
    "    prototypesFilterThr,\n",
    "    earlyStop=0\n",
    ")"
   ]
  },
  {
   "cell_type": "markdown",
   "metadata": {},
   "source": [
    "##### Embeddings"
   ]
  },
  {
   "cell_type": "code",
   "execution_count": null,
   "metadata": {},
   "outputs": [],
   "source": [
    "pcaComponents = PCA_SpaceVisualization(model.Embeddings)"
   ]
  },
  {
   "cell_type": "code",
   "execution_count": null,
   "metadata": {},
   "outputs": [],
   "source": [
    "pcaComponents = PCA_SpaceVisualization(model.rankedVectors)"
   ]
  },
  {
   "cell_type": "markdown",
   "metadata": {},
   "source": [
    "##### Results"
   ]
  },
  {
   "cell_type": "code",
   "execution_count": null,
   "metadata": {},
   "outputs": [],
   "source": [
    "results_section1_edit[[\"max_numberOf_clusters\",\"max_editDistance\",\"prototypesFilterThr\",\"numOfPrototypes\",\"protSelectionVariance\"]].sort_values(by=['numOfPrototypes'], ascending=False).head(20)"
   ]
  },
  {
   "cell_type": "code",
   "execution_count": null,
   "metadata": {
    "scrolled": true
   },
   "outputs": [],
   "source": [
    "results_section1_edit[[\"max_numberOf_clusters\",\"max_editDistance\",\"prototypesFilterThr\",\"numOfPrototypes\",\"protSelectionVariance\"]].sort_values(by=['protSelectionVariance'], ascending=False).head(50)"
   ]
  },
  {
   "cell_type": "markdown",
   "metadata": {},
   "source": [
    "##### Jaccard"
   ]
  },
  {
   "cell_type": "code",
   "execution_count": null,
   "metadata": {
    "scrolled": true
   },
   "outputs": [],
   "source": [
    "max_numberOf_clusters= [100,500,1000]\n",
    "max_jacDistance= [0.3,0.6,0.7,0.8]\n",
    "prototypesFilterThr = [0.2,0.3,0.4,0.7,0.8]\n",
    "\n",
    "distanceMetric= ['jaccard']\n",
    "\n",
    "\n",
    "ngramms= [3]  \n",
    "jaccard_withchars = [True] \n",
    "\n",
    "distanceMetricEmbedding = ['euclidean','euclid_jaccard']\n",
    "\n",
    "windowSize= [50]\n",
    "number_of_permutations = [5]\n",
    "\n",
    "similarityThreshold= [0.7]\n",
    "similarityVectors= ['ranked']\n",
    "metric= ['kendal']\n",
    "\n",
    "\n",
    "results_section1_jac = GridSearch_cora(\n",
    "    data,true_matrix,\n",
    "    max_numberOf_clusters,\n",
    "    max_jacDistance,\n",
    "    similarityThreshold,\n",
    "    windowSize,\n",
    "    metric,\n",
    "    similarityVectors,\n",
    "    distanceMetricEmbedding,\n",
    "    distanceMetric,\n",
    "    number_of_permutations,\n",
    "    ngramms,\n",
    "    jaccard_withchars,\n",
    "    prototypesFilterThr,\n",
    "    earlyStop=1\n",
    ")"
   ]
  },
  {
   "cell_type": "markdown",
   "metadata": {},
   "source": [
    "##### Embeddings"
   ]
  },
  {
   "cell_type": "code",
   "execution_count": null,
   "metadata": {},
   "outputs": [],
   "source": [
    "pcaComponents = PCA_SpaceVisualization(model.Embeddings)"
   ]
  },
  {
   "cell_type": "code",
   "execution_count": null,
   "metadata": {},
   "outputs": [],
   "source": [
    "pcaComponents = PCA_SpaceVisualization(model.rankedVectors)"
   ]
  },
  {
   "cell_type": "code",
   "execution_count": null,
   "metadata": {
    "scrolled": true
   },
   "outputs": [],
   "source": [
    "results_section1_jac[[\"max_numberOf_clusters\",\"max_editDistance\",\"prototypesFilterThr\",\"numOfPrototypes\",\"protSelectionVariance\"]].sort_values(by=['numOfPrototypes'], ascending=False).head(20)"
   ]
  },
  {
   "cell_type": "code",
   "execution_count": null,
   "metadata": {
    "scrolled": true
   },
   "outputs": [],
   "source": [
    "results_section1_jac[[\"max_numberOf_clusters\",\"max_editDistance\",\"prototypesFilterThr\",\"numOfPrototypes\",\"protSelectionVariance\"]].sort_values(by=['protSelectionVariance'], ascending=False).head(50)"
   ]
  },
  {
   "cell_type": "markdown",
   "metadata": {},
   "source": [
    "### Performance details"
   ]
  },
  {
   "cell_type": "markdown",
   "metadata": {},
   "source": [
    "#### Embeddings"
   ]
  },
  {
   "cell_type": "code",
   "execution_count": null,
   "metadata": {},
   "outputs": [],
   "source": [
    "pcaComponents = PCA_SpaceVisualization(model.Embeddings)"
   ]
  },
  {
   "cell_type": "code",
   "execution_count": null,
   "metadata": {},
   "outputs": [],
   "source": [
    "pcaComponents = PCA_SpaceVisualization(model.rankedVectors)"
   ]
  },
  {
   "cell_type": "markdown",
   "metadata": {},
   "source": [
    "# References\n",
    "\n",
    "1.   [The dissimilarity representation for pattern recognition, a tutorial\n",
    "Robert P.W. Duin and Elzbieta Pekalska Delft University of Technology, The Netherlands School of Computer Science, University of Manchester, United Kingdom](http://homepage.tudelft.nl/a9p19/presentations/DisRep_Tutorial_doc.pdf)"
   ]
  }
 ],
 "metadata": {
  "kernelspec": {
   "display_name": "Python 3",
   "language": "python",
   "name": "python3"
  },
  "language_info": {
   "codemirror_mode": {
    "name": "ipython",
    "version": 3
   },
   "file_extension": ".py",
   "mimetype": "text/x-python",
   "name": "python",
   "nbconvert_exporter": "python",
   "pygments_lexer": "ipython3",
   "version": "3.7.6"
  },
  "toc-autonumbering": false,
  "toc-showcode": false,
  "toc-showmarkdowntxt": false,
  "toc-showtags": false
 },
 "nbformat": 4,
 "nbformat_minor": 4
}
