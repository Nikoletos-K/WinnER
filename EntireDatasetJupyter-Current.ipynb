{
 "cells": [
  {
   "cell_type": "markdown",
   "metadata": {},
   "source": [
    "<div align=\"center\">\n",
    " <img src=\"http://www.di.uoa.gr/themes/corporate_lite/logo_en.png\" title=\"Department of Informatics and Telecommunications - University of Athens\" align=\"center\" /> \n",
    "</div>\n",
    "\n",
    "<br>\n",
    "\n",
    "---\n",
    "\n",
    "<div align=\"center\"> \n",
    "  <font size=\"4\"><b>Bachelor Thesis</b> </font>\n",
    "</div>\n",
    "<br>\n",
    "<div align=\"center\"> \n",
    "  <font size=\"5\">\n",
    "      <b>Entity Resolution in Dissimilarity Spaces  <br></b> \n",
    "    </font>\n",
    "     <br>\n",
    "     <font size=\"3\">\n",
    "        Implementation notebook     \n",
    "    </font>\n",
    "</div>\n",
    "\n",
    "---\n",
    "\n",
    "<div align=\"center\"> \n",
    "    <font size=\"4\">\n",
    "         <b>Konstantinos Nikoletos, BS Student</b>\n",
    "     </font>\n",
    "</div>\n",
    "<br>\n",
    "<div align=\"center\"> \n",
    "    <font size=\"4\">\n",
    "     <b> Dr. Alex Delis</b>,  Professor NKUA <br> \n",
    "     <b> Dr. Vassilis Verikios</b>, Professor Hellenic Open University\n",
    "    </font>\n",
    "</div>\n",
    "<br>\n",
    "<div align=\"center\"> \n",
    "    <font size=\"2\">Athens</font>\n",
    "</div>\n",
    "<div align=\"center\"> \n",
    "    <font size=\"2\">January 2021 - Ongoing</font>\n",
    "</div>\n",
    "\n",
    "\n",
    "---"
   ]
  },
  {
   "cell_type": "markdown",
   "metadata": {},
   "source": [
    "# __Implementation__"
   ]
  },
  {
   "cell_type": "markdown",
   "metadata": {},
   "source": [
    "## __Install components__"
   ]
  },
  {
   "cell_type": "code",
   "execution_count": null,
   "metadata": {},
   "outputs": [],
   "source": [
    "!pip install editdistance\n",
    "!pip install pandas_read_xml\n",
    "!pip install requests\n",
    "!pip install python-igraph"
   ]
  },
  {
   "cell_type": "markdown",
   "metadata": {},
   "source": [
    "## __Import libraries__"
   ]
  },
  {
   "cell_type": "code",
   "execution_count": 14,
   "metadata": {
    "tags": []
   },
   "outputs": [],
   "source": [
    "import pandas as pd\n",
    "import numpy as np\n",
    "import collections\n",
    "import editdistance\n",
    "import string\n",
    "import sklearn\n",
    "import pandas_read_xml as pdx\n",
    "import time\n",
    "import warnings\n",
    "import sys\n",
    "import matplotlib.pyplot as plt\n",
    "import seaborn as sns\n",
    "import nltk\n",
    "import math\n",
    "import os\n",
    "import scipy.special as special\n",
    "import igraph\n",
    "import networkx as nx\n",
    "\n",
    "from tqdm.notebook import tqdm as tqdm\n",
    "from scipy.spatial.distance import directed_hausdorff,hamming\n",
    "from scipy.stats._stats import _kendall_dis\n",
    "from scipy.stats import spearmanr,kendalltau,pearsonr,kruskal,mannwhitneyu\n",
    "from sklearn.metrics.pairwise import cosine_similarity\n",
    "from nltk.metrics.distance import jaro_similarity,jaro_winkler_similarity,jaccard_distance\n",
    "from sklearn.metrics import jaccard_score,accuracy_score,auc,f1_score,recall_score,precision_score,classification_report\n",
    "from scipy.sparse import csr_matrix\n",
    "from scipy import sparse\n",
    "from scipy import stats \n",
    "from scipy.spatial.distance import euclidean,hamming,jaccard\n",
    "from matplotlib.patches import Rectangle\n",
    "from sklearn.metrics import ndcg_score\n",
    "from datetime import datetime\n",
    "from sklearn.decomposition import PCA \n",
    "from numpy.linalg import svd\n",
    "\n",
    "plt.style.use('seaborn-white') # plot style\n"
   ]
  },
  {
   "cell_type": "markdown",
   "metadata": {},
   "source": [
    "## __Model__\n",
    "\n",
    "\n",
    "\n",
    "\n",
    "\n",
    "\n",
    "\n"
   ]
  },
  {
   "cell_type": "code",
   "execution_count": 42,
   "metadata": {
    "tags": []
   },
   "outputs": [],
   "source": [
    "class RankedWTAHash:\n",
    "\n",
    "    def __init__(self, max_numberOf_clusters, max_editDistance, windowSize, \n",
    "                 number_of_permutations=1, min_numOfNodes = 2,jaccard_withchars =True,\n",
    "                 distanceMetricEmbedding = 'euclidean', metric = 'kendal', similarityVectors='ranked', \n",
    "                 distanceMetric = 'edit', prototypesFilterThr=None, ngramms=3, \n",
    "                 similarityThreshold=None, maxOnly=None,earlyStop=0):\n",
    "        '''\n",
    "          Constructor\n",
    "        '''\n",
    "        self.max_numberOf_clusters = max_numberOf_clusters\n",
    "        self.pairDictionary = dict()\n",
    "        self.max_editDistance = max_editDistance\n",
    "        self.windowSize = windowSize\n",
    "        self.S_set = None\n",
    "        self.S_index = None\n",
    "        self.similarityThreshold = similarityThreshold\n",
    "        self.maxOnly = maxOnly\n",
    "        self.metric = metric\n",
    "        self.min_numOfNodes = min_numOfNodes\n",
    "        self.similarityVectors = similarityVectors\n",
    "        self.number_of_permutations = number_of_permutations\n",
    "        self.distanceMetric = distanceMetric\n",
    "        self.distanceMetricEmbedding = distanceMetricEmbedding\n",
    "        self.ngramms = ngramms\n",
    "        self.jaccard_withchars =  jaccard_withchars\n",
    "        self.prototypesFilterThr = prototypesFilterThr\n",
    "        self.earlyStop = earlyStop\n",
    "        self.selectionVariance = None\n",
    "        self.numOfComparisons = 0\n",
    "        self.embeddingMethod = euclidean\n",
    "\n",
    "    def fit(self, X):\n",
    "        \"\"\"\n",
    "          Fit the classifier from the training dataset.\n",
    "          Parameters\n",
    "          ----------\n",
    "          X : Training data.\n",
    "          \n",
    "          Returns\n",
    "          -------\n",
    "          self : The fitted classifier.\n",
    "        \"\"\"\n",
    "        print(\"\\n#####################################################################\\n#     .~ RankedWTAHash with Vantage embeddings starts training ~.   #\\n#####################################################################\\n\")\n",
    "\n",
    "        if isinstance(X, list):\n",
    "            input_strings = X\n",
    "        else:\n",
    "            input_strings = list(X)\n",
    "\n",
    "        self.initialS_set = np.array(input_strings,dtype=object)\n",
    "        self.S_set = np.array(input_strings,dtype=object)\n",
    "        if self.distanceMetric == 'jaccard' and self.jaccard_withchars == False:\n",
    "            for i in range(0,len(input_strings)):\n",
    "                self.S_set[i] = set(nltk.ngrams(nltk.word_tokenize(self.S_set[i]), n=self.ngramms))\n",
    "        elif self.distanceMetric == 'jaccard' and self.jaccard_withchars == True:\n",
    "            for i in range(0,len(input_strings)):\n",
    "                self.S_set[i] = set(nltk.ngrams(self.S_set[i], n=self.ngramms))\n",
    "\n",
    "        self.S_index = np.arange(0,len(input_strings),1)\n",
    "\n",
    "        # print(\"\\n\\nString positions are:\")\n",
    "        # print(self.S_index)\n",
    "        # print(\"\\n\")\n",
    "\n",
    "        print(\"###########################################################\\n# > 1. Prototype selection phase                          #\\n###########################################################\\n\")\n",
    "        print(\"\\n-> Finding prototypes and representatives of each cluster:\")\n",
    "        prototypes_time = time.time()\n",
    "        self.prototypeArray,self.selected_numOfPrototypes = self.Clustering_Prototypes(self.S_index,self.max_numberOf_clusters, self.max_editDistance, self.pairDictionary)\n",
    "        print(\"\\n- Prototypes selected\")\n",
    "        self.embeddingDim = self.prototypeArray.size\n",
    "        print(self.prototypeArray)\n",
    "        heatmapData = []\n",
    "        for pr in self.prototypeArray:\n",
    "            print(pr,\" -> \",self.initialS_set[pr])\n",
    "            heatmapData.append(self.S_set[pr])\n",
    "            \n",
    "        if self.selected_numOfPrototypes > 2:\n",
    "            self.selectionVariance = myHeatmap(self.prototypeArray,self.metric,self.EditDistance)\n",
    "            print(\"\\n- Mean variance in prototype selection: \",self.selectionVariance )\n",
    "        print(\"\\n- Final number of prototypes: \",self.selected_numOfPrototypes )\n",
    "        prototypes_time = time.time() - prototypes_time\n",
    "        print(\"\\n# Finished in %.6s secs\" % (prototypes_time))\n",
    "        print(\"\\n\")\n",
    "\n",
    "        if self.earlyStop==1:\n",
    "            return self\n",
    "\n",
    "        print(\"###########################################################\\n# > 2. Embeddings based on the Vantage objects            #\\n###########################################################\\n\")\n",
    "        print(\"\\n-> Creating Embeddings:\")\n",
    "        embeddings_time = time.time()\n",
    "        self.Embeddings = self.CreateVantageEmbeddings(self.S_index, self.prototypeArray, self.pairDictionary)\n",
    "        print(\"- Embeddings created\")\n",
    "        print(self.Embeddings)\n",
    "        embeddings_time = time.time() - embeddings_time\n",
    "        print(\"\\n# Finished in %.6s secs\" % (embeddings_time))\n",
    "        print(\"\\n\")\n",
    "\n",
    "        if self.earlyStop==2:\n",
    "            return self\n",
    "\n",
    "        print(\"###########################################################\\n# > 3. WTA Hashing                                        #\\n###########################################################\\n\")\n",
    "        print(\"\\n-> Creating WTA Buckets:\")\n",
    "        wta_time = time.time()\n",
    "        self.HashedClusters,self.buckets,self.rankedVectors = self.WTA(self.Embeddings,self.windowSize, self.number_of_permutations)\n",
    "        print(\"- WTA buckets: \")\n",
    "        for key in self.buckets.keys():\n",
    "            print(key,\" -> \",self.buckets[key])\n",
    "        print(\"\\n- WTA number of buckets: \", len(self.buckets.keys()))\n",
    "        print(\"\\n- WTA RankedVectors after permutation:\")\n",
    "        print(self.rankedVectors)\n",
    "        wta_time = time.time() - wta_time\n",
    "        print(\"\\n# Finished in %.6s secs\" % (wta_time))\n",
    "        print(\"\\n\")\n",
    "        \n",
    "        if self.earlyStop==3:\n",
    "            return self\n",
    "\n",
    "        print(\"###########################################################\\n# > 4. Similarity checking                                #\\n###########################################################\\n\")\n",
    "        print(\"\\n-> Similarity checking:\")\n",
    "\n",
    "        similarity_time = time.time()\n",
    "\n",
    "        if self.similarityVectors == 'ranked':\n",
    "            self.mapping,self.mapping_matrix = self.SimilarityEvaluation(self.buckets,self.rankedVectors,self.similarityThreshold,maxOnly=self.maxOnly, metric=self.metric)\n",
    "        elif self.similarityVectors == 'initial':\n",
    "            self.mapping,self.mapping_matrix = self.SimilarityEvaluation(self.buckets,self.Embeddings,self.similarityThreshold,maxOnly=self.maxOnly, metric=self.metric)\n",
    "        else:\n",
    "            warnings.warn(\"similarityVectors: Available options are: ranked,initial\")\n",
    "        print(\"- Similarity mapping in a matrix\")\n",
    "        print(self.mapping_matrix)\n",
    "        similarity_time = time.time() - similarity_time\n",
    "        print(\"\\n# Finished in %.6s secs\" % (similarity_time))\n",
    "        print(\"\\n#####################################################################\\n#                           .~  End  ~.                              #\\n#####################################################################\\n\")\n",
    "\n",
    "        return self\n",
    "\n",
    "    def EditDistance(self, str1,str2,verbose=False):\n",
    "        if verbose:\n",
    "            if str1 == None:\n",
    "                print(\"1\")\n",
    "            elif str2 == None:\n",
    "                print(\"2\")\n",
    "            print(\"-> \"+str(str1))\n",
    "            print(\"--> \"+str(str2))\n",
    "            print(str(editdistance.eval(self.S_set[str1],self.S_set[str2])))\n",
    "\n",
    "        if ((str1,str2) or (str2,str1))  in self.pairDictionary.keys():\n",
    "            return self.pairDictionary[(str1,str2)]\n",
    "        else:\n",
    "            if self.distanceMetric == 'edit':\n",
    "                distance = editdistance.eval(self.S_set[str1],self.S_set[str2])\n",
    "            elif self.distanceMetric == 'jaccard':\n",
    "                distance = jaccard_distance(self.S_set[str1],self.S_set[str2])\n",
    "                        # jaccard because we want DISSIMILARITY\n",
    "            else:\n",
    "                warnings.warn(\"Available metrics for space creation: edit, jaccard \")\n",
    "            self.pairDictionary[(str2,str1)] = self.pairDictionary[(str1,str2)] = distance\n",
    "            return distance\n",
    "\n",
    "    #####################################################################\n",
    "    # 1. Prototype selection algorithm                                  #\n",
    "    #####################################################################\n",
    "\n",
    "    '''\n",
    "    Clustering_Prototypes(S,k,d,r,C) \n",
    "    The String Clustering and Prototype Selection Algorithm\n",
    "    is the main clustering method, that takes as input the intial strings S, \n",
    "    the max number of clusters to be generated in k,\n",
    "    the maximum allowable distance of a string to join a cluster in var d\n",
    "    and returns the prototype for each cluster in array Prototype\n",
    "    '''\n",
    "    def Clustering_Prototypes(self,S,k,d,pairDictionary,verbose=False):\n",
    "\n",
    "        # ----------------- Initialization phase ----------------- #\n",
    "        i = 0\n",
    "        j = 0\n",
    "        C = np.empty([S.size], dtype=int)\n",
    "        r = np.empty([2,k],dtype=object)\n",
    "\n",
    "        Clusters = [ [] for l in range(0,k)]\n",
    "\n",
    "        for i in tqdm(range(0,S.size,1)):     # String-clustering phase, for all strings\n",
    "            while j < k :       # iteration through clusters, for all clusters\n",
    "                if r[0][j] == None:      # case empty first representative for cluster j\n",
    "                    r[0][j] = S[i]   # init cluster representative with string i\n",
    "                    C[i] = j         # store in C that i-string belongs to cluster j\n",
    "                    Clusters[j].append(S[i])\n",
    "                    break\n",
    "                elif r[1][j] == None and (self.EditDistance(S[i],r[0][j]) <= d):  # case empty second representative\n",
    "                    r[1][j] = S[i]                                             # and ED of representative 1  smaller than i-th string\n",
    "                    C[i] = j\n",
    "                    Clusters[j].append(S[i])\n",
    "                    break\n",
    "                elif (r[0][j] != None and r[1][j] != None) and (self.EditDistance(S[i],r[0][j]) + self.EditDistance(S[i],r[1][j])) <= d:\n",
    "                    C[i] = j\n",
    "                    Clusters[j].append(S[i])\n",
    "                    break\n",
    "                else:\n",
    "                    j += 1\n",
    "            i += 1\n",
    "\n",
    "        # ----------------- Prototype selection phase ----------------- #\n",
    "\n",
    "        Projections = np.empty([k],dtype=object)\n",
    "        Prototypes = np.empty([k],dtype=int)\n",
    "        sortedProjections = np.empty([k],dtype=object)\n",
    "        Projections = []\n",
    "        Prototypes = []\n",
    "        sortedProjections = []\n",
    "\n",
    "        if verbose:\n",
    "            print(\"- - - - - - - - -\")\n",
    "            print(\"Cluster array:\")\n",
    "            print(C)\n",
    "            print(\"- - - - - - - - -\")\n",
    "            print(\"Represantatives array:\")\n",
    "            print(r)\n",
    "            print(\"- - - - - - - - -\")\n",
    "            print(\"Clusters:\")\n",
    "            print(Clusters)\n",
    "            print(\"- - - - - - - - -\")\n",
    "\n",
    "        new_numofClusters = k\n",
    "        prototype_index = 0\n",
    "        for j in range(0,k,1):\n",
    "            if len(Clusters[j]) < self.min_numOfNodes or r[1][j] == None or r[0][j]==None:\n",
    "                new_numofClusters-=1\n",
    "                continue\n",
    "\n",
    "            Projections.append(self.Approximated_Projection_Distances_ofCluster(r[1][j], r[0][j], j, Clusters[j],pairDictionary))\n",
    "            sortedProjections.append({new_numofClusters: v for new_numofClusters, v in sorted(Projections[prototype_index].items(), key=lambda item: item[1])})\n",
    "            Prototypes.append(self.Median(sortedProjections[prototype_index]))\n",
    "\n",
    "            prototype_index += 1\n",
    "\n",
    "        Prototypes,new_numofClusters = self.optimize_clusterSelection(Prototypes,new_numofClusters)\n",
    "\n",
    "        return np.array(Prototypes),new_numofClusters\n",
    "\n",
    "\n",
    "    def Approximated_Projection_Distances_ofCluster(self, right_rep, left_rep, cluster_id, clusterSet, pairDictionary):\n",
    "\n",
    "        distances_vector = dict()\n",
    "\n",
    "        if len(clusterSet) > 2:\n",
    "            rep_distance = self.EditDistance(right_rep,left_rep)\n",
    "\n",
    "            for str_inCluster in range(0,len(clusterSet)):\n",
    "                if clusterSet[str_inCluster] != right_rep and clusterSet[str_inCluster] != left_rep:\n",
    "                    right_rep_distance = self.EditDistance(right_rep,clusterSet[str_inCluster])\n",
    "                    left_rep_distance  = self.EditDistance(left_rep,clusterSet[str_inCluster])\n",
    "\n",
    "                    if rep_distance == 0:\n",
    "                        distances_vector[clusterSet[str_inCluster]] = 0\n",
    "                    else:\n",
    "                        distance = (right_rep_distance**2-rep_distance**2-left_rep_distance**2 ) / (2*rep_distance)\n",
    "                        distances_vector[clusterSet[str_inCluster]] = distance\n",
    "\n",
    "        else:\n",
    "            if left_rep != None and right_rep == None:\n",
    "                distances_vector[left_rep] = left_rep\n",
    "            elif right_rep != None and left_rep == None:\n",
    "                distances_vector[right_rep] = right_rep\n",
    "            elif left_rep == None and right_rep == None:\n",
    "                return None\n",
    "            elif left_rep != None and right_rep != None:\n",
    "                distances_vector[right_rep] = right_rep\n",
    "                distances_vector[left_rep]  = left_rep\n",
    "                \n",
    "        return distances_vector\n",
    "\n",
    "    def Median(self, distances):\n",
    "        '''\n",
    "        Returns the median value of a vector\n",
    "        '''\n",
    "        keys = list(distances.keys())\n",
    "        if keys == 1:\n",
    "            return keys[0]\n",
    "\n",
    "        # print(distances)\n",
    "        keys = list(distances.keys())\n",
    "        # print(keys)\n",
    "        median_position = int(len(keys)/2)\n",
    "        # print(median_position)\n",
    "        median_value = keys[median_position]\n",
    "\n",
    "        return median_value\n",
    "\n",
    "    def optimize_clusterSelection(self,Prototypes,numOfPrototypes):\n",
    "\n",
    "        notwantedPrototypes = []\n",
    "        print(self.max_editDistance/2)\n",
    "        for pr_1 in range(0,numOfPrototypes):\n",
    "            for pr_2 in range(pr_1+1,numOfPrototypes):\n",
    "                if self.EditDistance(Prototypes[pr_1],Prototypes[pr_2]) < self.prototypesFilterThr:\n",
    "                    notwantedPrototypes.append(Prototypes[pr_2])\n",
    "\n",
    "        newPrototypes = list((set(Prototypes)).difference(set(notwantedPrototypes)))\n",
    "\n",
    "        print(\"Prototypes before:\")\n",
    "        print(Prototypes)\n",
    "        print(\"Not wanted:\")\n",
    "        print(set(notwantedPrototypes) )\n",
    "        print(\"Final:\")\n",
    "        print(newPrototypes)\n",
    "        return newPrototypes,len(newPrototypes)\n",
    "\n",
    "\n",
    "    #####################################################################\n",
    "    #       2. Embeddings based on the Vantage objects                  #\n",
    "    #####################################################################\n",
    "\n",
    "    '''\n",
    "    CreateVantageEmbeddings(S,VantageObjects): Main function for creating the string embeddings based on the Vantage Objects\n",
    "    '''\n",
    "    def CreateVantageEmbeddings(self, S, VantageObjects, pairDictionary):\n",
    "\n",
    "        # ------- Distance computing ------- #\n",
    "        vectors = []\n",
    "        for s in tqdm(range(0,S.size)):\n",
    "            string_embedding = []\n",
    "            for p in range(0,VantageObjects.size):\n",
    "                if VantageObjects[p] != None:\n",
    "                    string_embedding.append(self.DistanceMetric(s,p,S,VantageObjects, pairDictionary))\n",
    "\n",
    "            # --- Ranking representation ---- #\n",
    "            ranked_string_embedding = stats.rankdata(string_embedding, method='dense')\n",
    "\n",
    "            # ------- Vectors dataset ------- #\n",
    "            vectors.append(ranked_string_embedding)\n",
    "\n",
    "        return np.array(vectors)\n",
    "\n",
    "\n",
    "    '''\n",
    "    DistanceMetric(s,p,S,Prototypes): Embedding method used for craeting the space of objects\n",
    "    '''\n",
    "    def DistanceMetric(self, s, p, S, VantageObjects, pairDictionary):\n",
    "\n",
    "        if self.distanceMetricEmbedding == 'l_inf':\n",
    "            self.embeddingMethod = self.l_inf\n",
    "            return self.l_inf(VantageObjects,S,s,p)\n",
    "        elif self.distanceMetricEmbedding == 'edit':\n",
    "            self.embeddingMethod = self.EditDistance\n",
    "            return self.EditDistance(S[s],VantageObjects[p])\n",
    "        elif self.distanceMetricEmbedding == 'jaccard':\n",
    "            self.embeddingMethod = jaccard_distance\n",
    "            return jaccard_distance(self.S_set[S[s]],self.S_set[VantageObjects[p]])\n",
    "        elif self.distanceMetricEmbedding == 'euclid_jaccard':\n",
    "            self.embeddingMethod = self.hybrid_euclidJaccard\n",
    "            return self.hybrid_euclidJaccard(self.S_set[S[s]],self.S_set[VantageObjects[p]])\n",
    "        elif self.distanceMetricEmbedding == 'euclidean':\n",
    "            warnings.warn(\"Available metrics: edit,jaccard,l_inf\")\n",
    "            #  self.embeddingMethod = euclidean\n",
    "            #  return euclidean(S[s],VantageObjects[p])\n",
    "            # TODO \n",
    "        else:\n",
    "            warnings.warn(\"Available metrics: edit,jaccard,l_inf\")\n",
    "\n",
    "\n",
    "    def dropNone(array):\n",
    "        array = list(filter(None, list(array)))\n",
    "        return np.array(array)\n",
    "    \n",
    "    def l_inf(self,VantageObjects,S,s,p):\n",
    "        max_distance = None\n",
    "        for pp in range(0,VantageObjects.size):\n",
    "            if VantageObjects[pp] != None:\n",
    "                string_distance = self.EditDistance(S[s],VantageObjects[pp])    # Edit distance String-i -> Vantage Object\n",
    "                VO_distance     = self.EditDistance(VantageObjects[p],VantageObjects[pp])    # Edit distance Vantage Object-j -> Vantage Object-i\n",
    "\n",
    "                abs_diff = abs(string_distance-VO_distance)\n",
    "\n",
    "                # --- Max distance diff --- #\n",
    "                if max_distance == None:\n",
    "                    max_distance = abs_diff\n",
    "                elif abs_diff > max_distance:\n",
    "                    max_distance = abs_diff\n",
    "                    \n",
    "        return max_distance\n",
    "    \n",
    "    def hybrid_euclidJaccard(self,s,p): \n",
    "        return math.sqrt(jaccard_distance(s,p))\n",
    "    \n",
    "    #####################################################################\n",
    "    #                 3. Similarity checking                            #\n",
    "    #####################################################################\n",
    "\n",
    "    def SimilarityEvaluation(self, buckets,vectors,threshold,maxOnly=None,metric=None):\n",
    "\n",
    "        numOfVectors = vectors.shape[0]\n",
    "        vectorDim    = vectors.shape[1]\n",
    "        mapping_matrix = np.zeros([numOfVectors,numOfVectors],dtype=np.int8)\n",
    "        self.similarityProb_matrix = np.empty([numOfVectors,numOfVectors],dtype=np.float)* np.nan\n",
    "        mapping = {}\n",
    "        \n",
    "        self.numOfComparisons = 0\n",
    "        # Loop for every bucket\n",
    "        for bucketid in tqdm(buckets.keys()):\n",
    "            bucket_vectors = buckets[bucketid]\n",
    "            numOfVectors = len(bucket_vectors)\n",
    "\n",
    "            print(bucket_vectors)\n",
    "            # For every vector inside the bucket\n",
    "            for v_index in range(0,numOfVectors,1):\n",
    "                v_vector_id = bucket_vectors[v_index]\n",
    "                # Loop to all the other\n",
    "                for i_index in range(v_index+1,numOfVectors,1):\n",
    "                    i_vector_id = bucket_vectors[i_index]\n",
    "                    if vectorDim == 1:\n",
    "                        warnings.warn(\"Vector dim equal to 1-Setting metric to kendalltau\")\n",
    "                        metric = 'kendal'\n",
    "                    \n",
    "                    self.numOfComparisons+=1\n",
    "                 \n",
    "                    if metric == None or metric == 'kendal':  # Simple Kendal tau metric\n",
    "                        similarity_prob, p_value = kendalltau(vectors[v_vector_id], vectors[i_vector_id])\n",
    "                    elif metric == 'customKendal':  # Custom Kendal tau\n",
    "                        numOf_discordant_pairs = _kendall_dis(vectors[v_vector_id].astype('intp'), vectors[i_vector_id].astype('intp'))\n",
    "                        similarity_prob = (2*numOf_discordant_pairs) / (vectorDim*(vectorDim-1))\n",
    "                    elif metric == 'jaccard':\n",
    "                        similarity_prob = jaccard_score(vectors[v_vector_id], vectors[i_vector_id], average='micro')\n",
    "                    elif metric == 'cosine':\n",
    "                        similarity_prob = cosine_similarity(np.array(vectors[v_vector_id]).reshape(1, -1), np.array(vectors[i_vector_id]).reshape(1, -1))\n",
    "                    elif metric == 'pearson':\n",
    "                        similarity_prob, _ = pearsonr(vectors[v_vector_id], vectors[i_vector_id])\n",
    "                    elif metric == 'spearman':\n",
    "                        similarity_prob, _ = spearmanr(vectors[v_vector_id], vectors[i_vector_id])\n",
    "                    elif metric == 'spearmanf':\n",
    "                        similarity_prob = 1-spearman_footrule_distance(vectors[v_vector_id], vectors[i_vector_id])\n",
    "                    elif metric == 'hamming':\n",
    "                        similarity_prob, _ = hamming(vectors[v_vector_id].astype('intp'), vectors[i_vector_id].astype('intp'))\n",
    "                    elif metric == 'kruskal':\n",
    "                        if np.array_equal(vectors[v_vector_id],vectors[i_vector_id]):\n",
    "                            similarity_prob=1.0\n",
    "                        else:\n",
    "                            _,similarity_prob = kruskal(vectors[v_vector_id], vectors[i_vector_id])\n",
    "                    elif metric == 'ndcg_score':\n",
    "                        similarity_prob, _ = ndcg_score(vectors[v_vector_id], vectors[i_vector_id])\n",
    "                    elif metric == 'rbo':\n",
    "                        similarity_prob = rbo(vectors[v_vector_id], vectors[i_vector_id])\n",
    "                    elif metric == 'wta':\n",
    "                        similarity_prob = WTA_similarity(vectors[v_vector_id], vectors[i_vector_id])\n",
    "                    elif metric == 'mannwhitneyu':\n",
    "                        if np.array_equal(vectors[v_vector_id],vectors[i_vector_id]):\n",
    "                            similarity_prob=1.0\n",
    "                        else:\n",
    "                            _,similarity_prob = mannwhitneyu(vectors[v_vector_id], vectors[i_vector_id])\n",
    "                    else:\n",
    "                        warnings.warn(\"SimilarityEvaluation: Available similarity metrics: kendal,customKendal,jaccard,ndcg_score,cosine,spearman,pearson\")\n",
    "\n",
    "\n",
    "                    self.similarityProb_matrix[v_vector_id][i_vector_id] = similarity_prob\n",
    "                    self.similarityProb_matrix[i_vector_id][v_vector_id] = similarity_prob\n",
    "                    \n",
    "#                     print(\"-----\\n\")\n",
    "#                     print(model.initialS_set[v_vector_id])\n",
    "#                     print(vectors[v_vector_id])\n",
    "#                     print(\"\\n\")\n",
    "#                     print(model.initialS_set[i_vector_id])\n",
    "#                     print(vectors[i_vector_id])\n",
    "#                     print(\"\\n\")\n",
    "#                     print(\"SIMILARITY: \",similarity_prob)\n",
    "#                     print(\"\\n\")\n",
    "                    \n",
    "\n",
    "                    if similarity_prob > threshold:\n",
    "                        if v_vector_id not in mapping.keys():\n",
    "                            mapping[v_vector_id] = []\n",
    "                        mapping[v_vector_id].append(i_vector_id)  # insert into mapping\n",
    "                        mapping_matrix[v_vector_id][i_vector_id] = 1  # inform prediction matrix\n",
    "                        mapping_matrix[i_vector_id][v_vector_id] = 1  # inform prediction matrix\n",
    "\n",
    "\n",
    "        return mapping, np.triu(mapping_matrix)\n",
    "\n",
    "    #####################################################################\n",
    "    #                        4. WTA Hashing                             #\n",
    "    #####################################################################\n",
    "\n",
    "    def WTA(self,vectors,K, number_of_permutations):\n",
    "        '''\n",
    "          Winner Take All hash - Yagnik\n",
    "          .............................\n",
    "    \n",
    "          K: window size\n",
    "        '''\n",
    "        newVectors = []\n",
    "        buckets = dict()\n",
    "\n",
    "        numOfVectors = vectors.shape[0]\n",
    "        vectorDim    = vectors.shape[1]\n",
    "\n",
    "        if vectorDim < K:\n",
    "            K = vectorDim\n",
    "            warnings.warn(\"Window size greater than vector dimension\")\n",
    "\n",
    "        C = np.zeros([numOfVectors,number_of_permutations], dtype=int)\n",
    "\n",
    "        permutation_dimension = vectorDim\n",
    "        for permutation_index in range(0,number_of_permutations,1):\n",
    "            theta = np.random.permutation(permutation_dimension)\n",
    "            i=0;j=0;\n",
    "            for v_index in range(0,numOfVectors,1):\n",
    "                if permutation_index == 0:\n",
    "                    X_new = self.permuted(vectors[v_index],theta)\n",
    "                    newVectors.append(X_new)\n",
    "                else:\n",
    "                    X_new = self.permuted(vectors[v_index],theta)\n",
    "                    newVectors[v_index] = X_new\n",
    "\n",
    "                C[i][permutation_index] = max(range(len(X_new[:K])), key=X_new[:K].__getitem__)\n",
    "                i+=1\n",
    "            \n",
    "\n",
    "        for c,i in zip(C,range(0,numOfVectors,1)):\n",
    "            buckets = self.bucketInsert(buckets,str(c),i)\n",
    "\n",
    "        return C,buckets,np.array(newVectors,dtype=np.intp)\n",
    "\n",
    "\n",
    "    def permuted(self,vector,permutation):\n",
    "        permuted_vector = [vector[x] for x in permutation]\n",
    "\n",
    "        return permuted_vector\n",
    "\n",
    "\n",
    "    def bucketInsert(self,buckets,bucket_id,item):\n",
    "        if bucket_id not in buckets.keys():\n",
    "            buckets[bucket_id] = []\n",
    "        buckets[bucket_id].append(item)\n",
    "\n",
    "        return buckets\n",
    "\n",
    "# def jaccard_distance(x,y):\n",
    "#     return 1-jaccard(x,y)"
   ]
  },
  {
   "cell_type": "markdown",
   "metadata": {},
   "source": [
    "### Various similarity metrics to check\n",
    "These functions are for the similarity checking phase."
   ]
  },
  {
   "cell_type": "markdown",
   "metadata": {},
   "source": [
    "#### Spearman footrule distance"
   ]
  },
  {
   "cell_type": "code",
   "execution_count": null,
   "metadata": {
    "tags": []
   },
   "outputs": [],
   "source": [
    "def spearman_footrule_distance(s,t):\n",
    "    \"\"\"\n",
    "    Computes the Spearman footrule distance between two full lists of ranks:\n",
    "        F(s,t) = sum[ |s(i) - t(i)| ]/S,\n",
    "    the normalized sum over all elements in a set of the absolute difference between\n",
    "    the rank according to s and t.  As defined, 0 <= F(s,t) <= 1.\n",
    "    S is a normalizer which is equal to 0.5*len(s)^2 for even length ranklists and\n",
    "    0.5*(len(s)^2 - 1) for odd length ranklists.\n",
    "    If s,t are *not* full, this function should not be used. s,t should be array-like\n",
    "    (lists are OK).\n",
    "    \"\"\"\n",
    "    # check that size of intersection = size of s,t?\n",
    "    assert len(s) == len(t)\n",
    "    sdist = sum(abs(s - t))\n",
    "    # c will be 1 for odd length lists and 0 for even ones\n",
    "    c = len(s) % 2\n",
    "    normalizer = 0.5*(len(s)**2 - c)\n",
    "    \n",
    "    return sdist/normalizer"
   ]
  },
  {
   "cell_type": "markdown",
   "metadata": {},
   "source": [
    "#### Ravi Kumar generalized Kendall Tau"
   ]
  },
  {
   "cell_type": "code",
   "execution_count": null,
   "metadata": {},
   "outputs": [],
   "source": [
    "def kendall_top_k(a,b,k=None,p=0): #zero is equal 1 is max distance, compare with 1-scipy.stats.kendalltau(a,b)/2+1/2\n",
    "    \"\"\"\n",
    "    kendall_top_k(np.array,np.array,k,p)\n",
    "    This function generalise kendall-tau as defined in [1] Fagin, Ronald, Ravi Kumar, and D. Sivakumar. \"Comparing top k lists.\" SIAM Journal on Discrete Mathematics 17.1 (2003): 134-160.\n",
    "    It returns a distance: 0 for identical (in the sense of top-k) lists and 1 if completely different.\n",
    "    Example:\n",
    "        Simply call it with two same-length arrays of ratings (or also rankings), length of the top elements k (default is the maximum length possible), and p (default is 0, see [1]) as parameters:\n",
    "            $ a = np.array([1,2,3,4,5])\n",
    "            $ b = np.array([5,4,3,2,1])\n",
    "            $ kendall_top_k(a,b,k=4)\n",
    "    \"\"\"\n",
    "\n",
    "    if k is None:\n",
    "        k = a.size\n",
    "    if a.size != b.size:\n",
    "        raise NameError('The two arrays need to have same lengths')\n",
    "    k = min(k,a.size)\n",
    "    a_top_k = np.argpartition(a,-k)[-k:]\n",
    "    b_top_k = np.argpartition(b,-k)[-k:]\n",
    "    common_items = np.intersect1d(a_top_k,b_top_k)\n",
    "    only_in_a = np.setdiff1d(a_top_k, common_items)\n",
    "    only_in_b = np.setdiff1d(b_top_k, common_items)\n",
    "    kendall = (1 - (stats.kendalltau(a[common_items], b[common_items])[0]/2+0.5)) * (common_items.size**2) #case 1\n",
    "    if np.isnan(kendall): # degenerate case with only one item (not defined by Kendall)\n",
    "        kendall = 0\n",
    "    for i in common_items: #case 2\n",
    "        for j in only_in_a:\n",
    "            if a[i] < a[j]:\n",
    "                kendall += 1\n",
    "        for j in only_in_b:\n",
    "            if b[i] < b[j]:\n",
    "                kendall += 1\n",
    "    kendall += 2*p * special.binom(k-common_items.size,2)     #case 4\n",
    "    kendall /= ((only_in_a.size + only_in_b.size + common_items.size)**2 ) #normalization\n",
    "    return kendall"
   ]
  },
  {
   "cell_type": "markdown",
   "metadata": {},
   "source": [
    "#### Rank Biased Overlap (RBO) \n",
    "Article: https://towardsdatascience.com/rbo-v-s-kendall-tau-to-compare-ranked-lists-of-items-8776c5182899"
   ]
  },
  {
   "cell_type": "code",
   "execution_count": 3,
   "metadata": {},
   "outputs": [
    {
     "name": "stdout",
     "output_type": "stream",
     "text": [
      "0.0\n",
      "0.5225283643313485\n"
     ]
    }
   ],
   "source": [
    "def rbo(list1, list2, p=0.9):\n",
    "   # tail recursive helper function\n",
    "   def helper(ret, i, d):\n",
    "       l1 = set(list1[:i]) if i < len(list1) else set(list1)\n",
    "       l2 = set(list2[:i]) if i < len(list2) else set(list2)\n",
    "       a_d = len(l1.intersection(l2))/i\n",
    "       term = math.pow(p, i) * a_d\n",
    "       if d == i:\n",
    "           return ret + term\n",
    "       return helper(ret + term, i + 1, d)\n",
    "   k = max(len(list1), len(list2))\n",
    "   x_k = len(set(list1).intersection(set(list2)))\n",
    "   summation = helper(0, 1, k)\n",
    "   return ((float(x_k)/k) * math.pow(p, k)) + ((1-p)/p * summation)\n",
    "\n",
    "# Example usage\n",
    "print(rbo([4,10,20], [1,2,3]))\n",
    "\n",
    "p = 0.9\n",
    "d = 3\n",
    "\n",
    "def sum_series(p, d):\n",
    "   # tail recursive helper function\n",
    "   def helper(ret, p, d, i):\n",
    "       term = math.pow(p, i)/i\n",
    "       if d == i:\n",
    "           return ret + term\n",
    "       return helper(ret + term, p, d, i+1)\n",
    "   return helper(0, p, d, 1)\n",
    "\n",
    "wrbo1_d = 1 - math.pow(p, d-1) + (((1-p)/p) * d *(np.log(1/(1-p)) - sum_series(p, d-1)))\n",
    "\n",
    "print(wrbo1_d) "
   ]
  },
  {
   "cell_type": "markdown",
   "metadata": {},
   "source": [
    "#### Winner Takes All proposed "
   ]
  },
  {
   "cell_type": "code",
   "execution_count": 4,
   "metadata": {},
   "outputs": [],
   "source": [
    "def WTA_similarity(vector1,vector2):\n",
    "    \n",
    "    PO=0\n",
    "    for i in range(0,len(vector1),1):\n",
    "        for j in range(0,i,1):\n",
    "            ij_1 = vector1[i] - vector1[j]\n",
    "            ij_2 = vector2[i] - vector2[j]\n",
    "            PO += WTA_Threshold(ij_1*ij_2)\n",
    "    return PO\n",
    "\n",
    "def WTA_Threshold(x):    \n",
    "    if x>0:\n",
    "        return 1\n",
    "    else:\n",
    "        return 0"
   ]
  },
  {
   "cell_type": "markdown",
   "metadata": {},
   "source": [
    "\n",
    "# __Evaluation__"
   ]
  },
  {
   "cell_type": "markdown",
   "metadata": {},
   "source": [
    "## Load data from Drive in Colab"
   ]
  },
  {
   "cell_type": "code",
   "execution_count": null,
   "metadata": {},
   "outputs": [],
   "source": [
    "# # Opening data file\n",
    "# import io\n",
    "# from google.colab import drive\n",
    "\n",
    "# drive.mount('/content/drive',force_remount=True)\n",
    "\n",
    "# fpcora = r\"/content/drive/My Drive/ERinDS/CORA.xml\"\n",
    "# fpcora_gold = r\"/content/drive/My Drive/ERinDS/cora_gold.csv\""
   ]
  },
  {
   "cell_type": "markdown",
   "metadata": {},
   "source": [
    "## Load data from disk for Jupyter"
   ]
  },
  {
   "cell_type": "markdown",
   "metadata": {},
   "source": [
    "### JedAI Dirty datasets"
   ]
  },
  {
   "cell_type": "markdown",
   "metadata": {},
   "source": [
    "#### CORA"
   ]
  },
  {
   "cell_type": "code",
   "execution_count": 3,
   "metadata": {},
   "outputs": [
    {
     "data": {
      "text/html": [
       "<div>\n",
       "<style scoped>\n",
       "    .dataframe tbody tr th:only-of-type {\n",
       "        vertical-align: middle;\n",
       "    }\n",
       "\n",
       "    .dataframe tbody tr th {\n",
       "        vertical-align: top;\n",
       "    }\n",
       "\n",
       "    .dataframe thead th {\n",
       "        text-align: right;\n",
       "    }\n",
       "</style>\n",
       "<table border=\"1\" class=\"dataframe\">\n",
       "  <thead>\n",
       "    <tr style=\"text-align: right;\">\n",
       "      <th></th>\n",
       "      <th>Entity Id</th>\n",
       "      <th>address</th>\n",
       "      <th>author</th>\n",
       "      <th>editor</th>\n",
       "      <th>institution</th>\n",
       "      <th>month</th>\n",
       "      <th>note</th>\n",
       "      <th>pages</th>\n",
       "      <th>publisher</th>\n",
       "      <th>title</th>\n",
       "      <th>venue</th>\n",
       "      <th>volume</th>\n",
       "      <th>year</th>\n",
       "      <th>Unnamed: 13</th>\n",
       "    </tr>\n",
       "  </thead>\n",
       "  <tbody>\n",
       "    <tr>\n",
       "      <th>0</th>\n",
       "      <td>0</td>\n",
       "      <td>los alamitos, ca:</td>\n",
       "      <td>p. auer, n. cesa-bianchi, y. freund, and r. e....</td>\n",
       "      <td>NaN</td>\n",
       "      <td>NaN</td>\n",
       "      <td>NaN</td>\n",
       "      <td>NaN</td>\n",
       "      <td>pp. 322-331.</td>\n",
       "      <td>ieee computer society press,</td>\n",
       "      <td>'gambling in a rigged casino: the adversarial ...</td>\n",
       "      <td>in proc. 36th annual symposium on foundations ...</td>\n",
       "      <td>NaN</td>\n",
       "      <td>1995,</td>\n",
       "      <td>NaN</td>\n",
       "    </tr>\n",
       "    <tr>\n",
       "      <th>1</th>\n",
       "      <td>1</td>\n",
       "      <td>NaN</td>\n",
       "      <td>a. blum, m. furst, m. j. kearns, and richard j...</td>\n",
       "      <td>NaN</td>\n",
       "      <td>NaN</td>\n",
       "      <td>NaN</td>\n",
       "      <td>NaN</td>\n",
       "      <td>pages 24.1-24.10,</td>\n",
       "      <td>NaN</td>\n",
       "      <td>cryptographic primitives based on hard learnin...</td>\n",
       "      <td>in pre-proceedings of crypto '93,</td>\n",
       "      <td>NaN</td>\n",
       "      <td>1993.</td>\n",
       "      <td>NaN</td>\n",
       "    </tr>\n",
       "    <tr>\n",
       "      <th>2</th>\n",
       "      <td>2</td>\n",
       "      <td>NaN</td>\n",
       "      <td>avrim blum, merrick furst, michael kearns, and...</td>\n",
       "      <td>NaN</td>\n",
       "      <td>NaN</td>\n",
       "      <td>NaN</td>\n",
       "      <td>NaN</td>\n",
       "      <td>pages 24.1-24.10,</td>\n",
       "      <td>NaN</td>\n",
       "      <td>cryptographic primitives based on hard learnin...</td>\n",
       "      <td>in pre-proceedings of crypto '93,</td>\n",
       "      <td>NaN</td>\n",
       "      <td>1993.</td>\n",
       "      <td>NaN</td>\n",
       "    </tr>\n",
       "    <tr>\n",
       "      <th>3</th>\n",
       "      <td>3</td>\n",
       "      <td>NaN</td>\n",
       "      <td>avrim blum, merrick furst, michael kearns, and...</td>\n",
       "      <td>in douglas r. stinson, editor,</td>\n",
       "      <td>NaN</td>\n",
       "      <td>NaN</td>\n",
       "      <td>lecture notes in computer science no. 773.</td>\n",
       "      <td>pages 278-291.</td>\n",
       "      <td>springer,</td>\n",
       "      <td>cryptographic primitives based on hard learnin...</td>\n",
       "      <td>proc. crypto 93,</td>\n",
       "      <td>NaN</td>\n",
       "      <td>1994.</td>\n",
       "      <td>NaN</td>\n",
       "    </tr>\n",
       "    <tr>\n",
       "      <th>4</th>\n",
       "      <td>4</td>\n",
       "      <td>NaN</td>\n",
       "      <td>a. blum, m. furst, m. kearns, r. lipton.</td>\n",
       "      <td>NaN</td>\n",
       "      <td>NaN</td>\n",
       "      <td>NaN</td>\n",
       "      <td>NaN</td>\n",
       "      <td>NaN</td>\n",
       "      <td>NaN</td>\n",
       "      <td>cryptographic primitives based on hard learnin...</td>\n",
       "      <td>crypto,</td>\n",
       "      <td>NaN</td>\n",
       "      <td>1993.</td>\n",
       "      <td>NaN</td>\n",
       "    </tr>\n",
       "    <tr>\n",
       "      <th>...</th>\n",
       "      <td>...</td>\n",
       "      <td>...</td>\n",
       "      <td>...</td>\n",
       "      <td>...</td>\n",
       "      <td>...</td>\n",
       "      <td>...</td>\n",
       "      <td>...</td>\n",
       "      <td>...</td>\n",
       "      <td>...</td>\n",
       "      <td>...</td>\n",
       "      <td>...</td>\n",
       "      <td>...</td>\n",
       "      <td>...</td>\n",
       "      <td>...</td>\n",
       "    </tr>\n",
       "    <tr>\n",
       "      <th>1290</th>\n",
       "      <td>1290</td>\n",
       "      <td>NaN</td>\n",
       "      <td>robert e. schapire and yoram singer.</td>\n",
       "      <td>NaN</td>\n",
       "      <td>NaN</td>\n",
       "      <td>NaN</td>\n",
       "      <td>NaN</td>\n",
       "      <td>NaN</td>\n",
       "      <td>NaN</td>\n",
       "      <td>improved boosting algorithms using confidence-...</td>\n",
       "      <td>in proceedings of the eleventh annual conferen...</td>\n",
       "      <td>NaN</td>\n",
       "      <td>1998.</td>\n",
       "      <td>NaN</td>\n",
       "    </tr>\n",
       "    <tr>\n",
       "      <th>1291</th>\n",
       "      <td>1291</td>\n",
       "      <td>NaN</td>\n",
       "      <td>schapire, r. e., freund, y., bartlett, p., &amp; l...</td>\n",
       "      <td>NaN</td>\n",
       "      <td>NaN</td>\n",
       "      <td>NaN</td>\n",
       "      <td>annals of statistics (to appear).</td>\n",
       "      <td>NaN</td>\n",
       "      <td>NaN</td>\n",
       "      <td>boosting the margin: a new explanation for the...</td>\n",
       "      <td>NaN</td>\n",
       "      <td>NaN</td>\n",
       "      <td>(1998).</td>\n",
       "      <td>NaN</td>\n",
       "    </tr>\n",
       "    <tr>\n",
       "      <th>1292</th>\n",
       "      <td>1292</td>\n",
       "      <td>NaN</td>\n",
       "      <td>robert e. schapire and yoram singer. boostexter:</td>\n",
       "      <td>NaN</td>\n",
       "      <td>NaN</td>\n",
       "      <td>NaN</td>\n",
       "      <td>NaN</td>\n",
       "      <td>NaN</td>\n",
       "      <td>NaN</td>\n",
       "      <td>a system for multiclass multi-label text categ...</td>\n",
       "      <td>unpublished manuscript,</td>\n",
       "      <td>NaN</td>\n",
       "      <td>1998.</td>\n",
       "      <td>NaN</td>\n",
       "    </tr>\n",
       "    <tr>\n",
       "      <th>1293</th>\n",
       "      <td>1293</td>\n",
       "      <td>NaN</td>\n",
       "      <td>robert e. schapire yoram singer.</td>\n",
       "      <td>NaN</td>\n",
       "      <td>NaN</td>\n",
       "      <td>NaN</td>\n",
       "      <td>submitted for publication. 17</td>\n",
       "      <td>NaN</td>\n",
       "      <td>NaN</td>\n",
       "      <td>improved boosting algorithms using confidence-...</td>\n",
       "      <td>NaN</td>\n",
       "      <td>NaN</td>\n",
       "      <td>NaN</td>\n",
       "      <td>NaN</td>\n",
       "    </tr>\n",
       "    <tr>\n",
       "      <th>1294</th>\n",
       "      <td>1294</td>\n",
       "      <td>NaN</td>\n",
       "      <td>robert e. schapire yoram singer.</td>\n",
       "      <td>NaN</td>\n",
       "      <td>NaN</td>\n",
       "      <td>NaN</td>\n",
       "      <td>submitted for publication.</td>\n",
       "      <td>NaN</td>\n",
       "      <td>NaN</td>\n",
       "      <td>improved boosting algorithms using confidence-...</td>\n",
       "      <td>NaN</td>\n",
       "      <td>NaN</td>\n",
       "      <td>NaN</td>\n",
       "      <td>NaN</td>\n",
       "    </tr>\n",
       "  </tbody>\n",
       "</table>\n",
       "<p>1295 rows × 14 columns</p>\n",
       "</div>"
      ],
      "text/plain": [
       "      Entity Id            address  \\\n",
       "0             0  los alamitos, ca:   \n",
       "1             1                NaN   \n",
       "2             2                NaN   \n",
       "3             3                NaN   \n",
       "4             4                NaN   \n",
       "...         ...                ...   \n",
       "1290       1290                NaN   \n",
       "1291       1291                NaN   \n",
       "1292       1292                NaN   \n",
       "1293       1293                NaN   \n",
       "1294       1294                NaN   \n",
       "\n",
       "                                                 author  \\\n",
       "0     p. auer, n. cesa-bianchi, y. freund, and r. e....   \n",
       "1     a. blum, m. furst, m. j. kearns, and richard j...   \n",
       "2     avrim blum, merrick furst, michael kearns, and...   \n",
       "3     avrim blum, merrick furst, michael kearns, and...   \n",
       "4              a. blum, m. furst, m. kearns, r. lipton.   \n",
       "...                                                 ...   \n",
       "1290               robert e. schapire and yoram singer.   \n",
       "1291  schapire, r. e., freund, y., bartlett, p., & l...   \n",
       "1292   robert e. schapire and yoram singer. boostexter:   \n",
       "1293                   robert e. schapire yoram singer.   \n",
       "1294                   robert e. schapire yoram singer.   \n",
       "\n",
       "                              editor institution month  \\\n",
       "0                                NaN         NaN   NaN   \n",
       "1                                NaN         NaN   NaN   \n",
       "2                                NaN         NaN   NaN   \n",
       "3     in douglas r. stinson, editor,         NaN   NaN   \n",
       "4                                NaN         NaN   NaN   \n",
       "...                              ...         ...   ...   \n",
       "1290                             NaN         NaN   NaN   \n",
       "1291                             NaN         NaN   NaN   \n",
       "1292                             NaN         NaN   NaN   \n",
       "1293                             NaN         NaN   NaN   \n",
       "1294                             NaN         NaN   NaN   \n",
       "\n",
       "                                            note              pages  \\\n",
       "0                                            NaN       pp. 322-331.   \n",
       "1                                            NaN  pages 24.1-24.10,   \n",
       "2                                            NaN  pages 24.1-24.10,   \n",
       "3     lecture notes in computer science no. 773.     pages 278-291.   \n",
       "4                                            NaN                NaN   \n",
       "...                                          ...                ...   \n",
       "1290                                         NaN                NaN   \n",
       "1291           annals of statistics (to appear).                NaN   \n",
       "1292                                         NaN                NaN   \n",
       "1293               submitted for publication. 17                NaN   \n",
       "1294                  submitted for publication.                NaN   \n",
       "\n",
       "                         publisher  \\\n",
       "0     ieee computer society press,   \n",
       "1                              NaN   \n",
       "2                              NaN   \n",
       "3                        springer,   \n",
       "4                              NaN   \n",
       "...                            ...   \n",
       "1290                           NaN   \n",
       "1291                           NaN   \n",
       "1292                           NaN   \n",
       "1293                           NaN   \n",
       "1294                           NaN   \n",
       "\n",
       "                                                  title  \\\n",
       "0     'gambling in a rigged casino: the adversarial ...   \n",
       "1     cryptographic primitives based on hard learnin...   \n",
       "2     cryptographic primitives based on hard learnin...   \n",
       "3     cryptographic primitives based on hard learnin...   \n",
       "4     cryptographic primitives based on hard learnin...   \n",
       "...                                                 ...   \n",
       "1290  improved boosting algorithms using confidence-...   \n",
       "1291  boosting the margin: a new explanation for the...   \n",
       "1292  a system for multiclass multi-label text categ...   \n",
       "1293  improved boosting algorithms using confidence-...   \n",
       "1294  improved boosting algorithms using confidence-...   \n",
       "\n",
       "                                                  venue volume     year  \\\n",
       "0     in proc. 36th annual symposium on foundations ...    NaN    1995,   \n",
       "1                     in pre-proceedings of crypto '93,    NaN    1993.   \n",
       "2                     in pre-proceedings of crypto '93,    NaN    1993.   \n",
       "3                                      proc. crypto 93,    NaN    1994.   \n",
       "4                                               crypto,    NaN    1993.   \n",
       "...                                                 ...    ...      ...   \n",
       "1290  in proceedings of the eleventh annual conferen...    NaN    1998.   \n",
       "1291                                                NaN    NaN  (1998).   \n",
       "1292                            unpublished manuscript,    NaN    1998.   \n",
       "1293                                                NaN    NaN      NaN   \n",
       "1294                                                NaN    NaN      NaN   \n",
       "\n",
       "      Unnamed: 13  \n",
       "0             NaN  \n",
       "1             NaN  \n",
       "2             NaN  \n",
       "3             NaN  \n",
       "4             NaN  \n",
       "...           ...  \n",
       "1290          NaN  \n",
       "1291          NaN  \n",
       "1292          NaN  \n",
       "1293          NaN  \n",
       "1294          NaN  \n",
       "\n",
       "[1295 rows x 14 columns]"
      ]
     },
     "execution_count": 3,
     "metadata": {},
     "output_type": "execute_result"
    }
   ],
   "source": [
    "CORA_groundTruth = os.path.abspath(\"data/coraIdDuplicates.csv\")\n",
    "CORA = os.path.abspath(\"data/coraProfiles.csv\")\n",
    "CORA_groundTruth = pd.read_csv(CORA_groundTruth,sep='|',header=None,names=['id1','id2'])\n",
    "CORA_groundTruth=CORA_groundTruth.sort_values(by=['id1','id2'],ignore_index=True)\n",
    "CORA = pd.read_csv(CORA,sep='|')\n",
    "CORA"
   ]
  },
  {
   "cell_type": "code",
   "execution_count": 5,
   "metadata": {},
   "outputs": [
    {
     "data": {
      "text/html": [
       "<div>\n",
       "<style scoped>\n",
       "    .dataframe tbody tr th:only-of-type {\n",
       "        vertical-align: middle;\n",
       "    }\n",
       "\n",
       "    .dataframe tbody tr th {\n",
       "        vertical-align: top;\n",
       "    }\n",
       "\n",
       "    .dataframe thead th {\n",
       "        text-align: right;\n",
       "    }\n",
       "</style>\n",
       "<table border=\"1\" class=\"dataframe\">\n",
       "  <thead>\n",
       "    <tr style=\"text-align: right;\">\n",
       "      <th></th>\n",
       "      <th>id1</th>\n",
       "      <th>id2</th>\n",
       "    </tr>\n",
       "  </thead>\n",
       "  <tbody>\n",
       "    <tr>\n",
       "      <th>0</th>\n",
       "      <td>1</td>\n",
       "      <td>2</td>\n",
       "    </tr>\n",
       "    <tr>\n",
       "      <th>1</th>\n",
       "      <td>1</td>\n",
       "      <td>3</td>\n",
       "    </tr>\n",
       "    <tr>\n",
       "      <th>2</th>\n",
       "      <td>1</td>\n",
       "      <td>4</td>\n",
       "    </tr>\n",
       "    <tr>\n",
       "      <th>3</th>\n",
       "      <td>2</td>\n",
       "      <td>3</td>\n",
       "    </tr>\n",
       "    <tr>\n",
       "      <th>4</th>\n",
       "      <td>2</td>\n",
       "      <td>4</td>\n",
       "    </tr>\n",
       "    <tr>\n",
       "      <th>5</th>\n",
       "      <td>3</td>\n",
       "      <td>4</td>\n",
       "    </tr>\n",
       "    <tr>\n",
       "      <th>6</th>\n",
       "      <td>5</td>\n",
       "      <td>6</td>\n",
       "    </tr>\n",
       "    <tr>\n",
       "      <th>7</th>\n",
       "      <td>5</td>\n",
       "      <td>7</td>\n",
       "    </tr>\n",
       "    <tr>\n",
       "      <th>8</th>\n",
       "      <td>5</td>\n",
       "      <td>8</td>\n",
       "    </tr>\n",
       "    <tr>\n",
       "      <th>9</th>\n",
       "      <td>5</td>\n",
       "      <td>9</td>\n",
       "    </tr>\n",
       "    <tr>\n",
       "      <th>10</th>\n",
       "      <td>5</td>\n",
       "      <td>10</td>\n",
       "    </tr>\n",
       "    <tr>\n",
       "      <th>11</th>\n",
       "      <td>5</td>\n",
       "      <td>11</td>\n",
       "    </tr>\n",
       "    <tr>\n",
       "      <th>12</th>\n",
       "      <td>5</td>\n",
       "      <td>12</td>\n",
       "    </tr>\n",
       "    <tr>\n",
       "      <th>13</th>\n",
       "      <td>5</td>\n",
       "      <td>13</td>\n",
       "    </tr>\n",
       "    <tr>\n",
       "      <th>14</th>\n",
       "      <td>5</td>\n",
       "      <td>14</td>\n",
       "    </tr>\n",
       "    <tr>\n",
       "      <th>15</th>\n",
       "      <td>6</td>\n",
       "      <td>7</td>\n",
       "    </tr>\n",
       "    <tr>\n",
       "      <th>16</th>\n",
       "      <td>6</td>\n",
       "      <td>8</td>\n",
       "    </tr>\n",
       "    <tr>\n",
       "      <th>17</th>\n",
       "      <td>6</td>\n",
       "      <td>9</td>\n",
       "    </tr>\n",
       "    <tr>\n",
       "      <th>18</th>\n",
       "      <td>6</td>\n",
       "      <td>10</td>\n",
       "    </tr>\n",
       "    <tr>\n",
       "      <th>19</th>\n",
       "      <td>6</td>\n",
       "      <td>11</td>\n",
       "    </tr>\n",
       "  </tbody>\n",
       "</table>\n",
       "</div>"
      ],
      "text/plain": [
       "    id1  id2\n",
       "0     1    2\n",
       "1     1    3\n",
       "2     1    4\n",
       "3     2    3\n",
       "4     2    4\n",
       "5     3    4\n",
       "6     5    6\n",
       "7     5    7\n",
       "8     5    8\n",
       "9     5    9\n",
       "10    5   10\n",
       "11    5   11\n",
       "12    5   12\n",
       "13    5   13\n",
       "14    5   14\n",
       "15    6    7\n",
       "16    6    8\n",
       "17    6    9\n",
       "18    6   10\n",
       "19    6   11"
      ]
     },
     "execution_count": 5,
     "metadata": {},
     "output_type": "execute_result"
    }
   ],
   "source": [
    "CORA_groundTruth.head(20)"
   ]
  },
  {
   "cell_type": "markdown",
   "metadata": {},
   "source": [
    "#### CENSUS"
   ]
  },
  {
   "cell_type": "code",
   "execution_count": null,
   "metadata": {
    "scrolled": true,
    "tags": []
   },
   "outputs": [],
   "source": [
    "CENSUS_groundTruth = os.path.abspath(\"data/censusIdDuplicates.csv\")\n",
    "CENSUS = os.path.abspath(\"data/censusProfiles.csv\")\n",
    "CENSUS_groundTruth = pd.read_csv(CENSUS_groundTruth,sep='|',header=None,names=['id1','id2'])\n",
    "CENSUS = pd.read_csv(CENSUS,sep='|')\n",
    "CENSUS"
   ]
  },
  {
   "cell_type": "code",
   "execution_count": null,
   "metadata": {},
   "outputs": [],
   "source": [
    "CENSUS_groundTruth"
   ]
  },
  {
   "cell_type": "markdown",
   "metadata": {},
   "source": [
    "#### CDDB"
   ]
  },
  {
   "cell_type": "code",
   "execution_count": null,
   "metadata": {
    "tags": []
   },
   "outputs": [],
   "source": [
    "CDDB_groundTruth = os.path.abspath(\"data/cddbIdDuplicates.csv\")\n",
    "CDDB = os.path.abspath(\"data/cddbProfiles.csv\")\n",
    "CDDB_groundTruth = pd.read_csv(CDDB_groundTruth,sep='/00000',engine='python',header=None,names=['id1','id2'])\n",
    "CDDB = pd.read_csv(CDDB,sep='/00000',engine='python')\n",
    "CDDB"
   ]
  },
  {
   "cell_type": "code",
   "execution_count": null,
   "metadata": {},
   "outputs": [],
   "source": [
    "CDDB_groundTruth"
   ]
  },
  {
   "cell_type": "markdown",
   "metadata": {},
   "source": [
    "#### DBLP - ACM"
   ]
  },
  {
   "cell_type": "code",
   "execution_count": null,
   "metadata": {},
   "outputs": [],
   "source": [
    "ACM = os.path.abspath(\"ACM.csv\")\n",
    "DBLP = os.path.abspath(\"DBLP2.csv\")\n",
    "ACM_DBLP_trueValues = os.path.abspath(\"DBLP-ACM_perfectMapping.csv\")\n",
    "ACM = pd.read_csv(ACM)\n",
    "DBLP = pd.read_csv(DBLP, encoding='latin-1')\n",
    "ACM_DBLP_trueValues = pd.read_csv(ACM_DBLP_trueValues)"
   ]
  },
  {
   "cell_type": "markdown",
   "metadata": {},
   "source": [
    "#### CORA - 1st edition"
   ]
  },
  {
   "cell_type": "code",
   "execution_count": null,
   "metadata": {},
   "outputs": [],
   "source": [
    "fpcora = os.path.abspath(\"CORA.xml\")\n",
    "fpcora_gold = os.path.abspath(\"cora_gold.csv\")\n",
    "CORA1 = pdx.read_xml(fpcora,['CORA', 'NEWREFERENCE'],root_is_rows=False)\n",
    "CORA1['@id'] = pd.to_numeric(CORA1['@id']).subtract(1)\n",
    "CORA1_groundTruth = pd.read_csv(fpcora_gold,sep=';')\n",
    "CORA1_groundTruth['id1'] = pd.to_numeric(CORA1_groundTruth['id1']).subtract(1)\n",
    "CORA1_groundTruth['id2'] = pd.to_numeric(CORA1_groundTruth['id2']).subtract(1)"
   ]
  },
  {
   "cell_type": "markdown",
   "metadata": {},
   "source": [
    "### HeatMap"
   ]
  },
  {
   "cell_type": "code",
   "execution_count": 4,
   "metadata": {
    "tags": []
   },
   "outputs": [],
   "source": [
    "def myHeatmap(data,metric,distance):\n",
    "    if metric == 'edit':    \n",
    "        matrix  = np.zeros((len(data),len(data)), dtype=np.int)\n",
    "    else:\n",
    "        matrix = np.zeros((len(data),len(data)), dtype=np.float)\n",
    "    \n",
    "    for i in range(0,len(data),1):\n",
    "        for j in range(0,len(data),1):\n",
    "            if i != j:            \n",
    "                matrix[i][j]  = distance(data[i],data[j])\n",
    "\n",
    "                \n",
    "    fif,ax = plt.subplots(1,figsize=(10,10))\n",
    "    corr = np.corrcoef(matrix)\n",
    "    mask = np.zeros_like(corr)\n",
    "    mask[np.triu_indices_from(mask)] = True\n",
    "    ax = sns.heatmap(matrix, linewidth=0.5,annot=False,cmap=\"Blues_r\",mask=mask,fmt='.3g',ax=ax)\n",
    "    plt.show()\n",
    "    return matrix.mean()"
   ]
  },
  {
   "cell_type": "markdown",
   "metadata": {},
   "source": [
    "## __CORA Evaluation__"
   ]
  },
  {
   "cell_type": "markdown",
   "metadata": {},
   "source": [
    "### Text Preprocess"
   ]
  },
  {
   "cell_type": "code",
   "execution_count": 6,
   "metadata": {},
   "outputs": [],
   "source": [
    "def preprocess(row):\n",
    "\n",
    "    paper_str = \" \".join(row)\n",
    "\n",
    "    # Lower letters \n",
    "    paper_str = paper_str.lower()\n",
    "    \n",
    "    # Remove unwanted chars \n",
    "    paper_str = paper_str.replace(\"\\n\", \" \").replace(\"/z\", \" \")\n",
    "    \n",
    "    # Remove pancutation     \n",
    "    paper_str = paper_str.translate(str.maketrans('', '', string.punctuation))\n",
    "    \n",
    "    return str(paper_str)"
   ]
  },
  {
   "cell_type": "markdown",
   "metadata": {},
   "source": [
    "### Shuffle data"
   ]
  },
  {
   "cell_type": "code",
   "execution_count": null,
   "metadata": {},
   "outputs": [],
   "source": [
    "shuffled_df = dataset.sample(frac=1).reset_index(drop=True)\n",
    "# shuffled_df"
   ]
  },
  {
   "cell_type": "markdown",
   "metadata": {},
   "source": [
    "### Create CORA dataset "
   ]
  },
  {
   "cell_type": "code",
   "execution_count": 50,
   "metadata": {},
   "outputs": [],
   "source": [
    "def cora_createDataset(cora_dataframe, true_values, fields, id_column, keepNone = False, preprocessEnabled=True):\n",
    "\n",
    "    rawStr_col = []\n",
    "    index_to_id_dict = {}\n",
    "    sameEntities_dictionary = {}\n",
    "\n",
    "    i=0\n",
    "    for _, row in tqdm(cora_dataframe.iterrows()):\n",
    "        index_to_id_dict[int(row[id_column])] = i\n",
    "        rawStr = []\n",
    "        for field in fields:\n",
    "            if (isna(row[field]) and keepNone == True) or (keepNone == False and not isna(row[field])):\n",
    "                rawStr.append(str(row[field]))\n",
    "        i+=1\n",
    "        if preprocessEnabled:\n",
    "            rawStr_col.append(preprocess(rawStr))\n",
    "        else:\n",
    "            rawStr_col.append(rawStr)\n",
    "            \n",
    "    num_of_records = len(cora_dataframe)\n",
    "    trueValues_matrix = np.zeros([num_of_records,num_of_records],dtype=np.int8)\n",
    "\n",
    "    for _, row in tqdm(true_values.iterrows()):  \n",
    "        trueValues_matrix[index_to_id_dict[row['id1']]][index_to_id_dict[row['id2']]] = 1\n",
    "        trueValues_matrix[index_to_id_dict[row['id2']]][index_to_id_dict[row['id1']]] = 1\n",
    "\n",
    "    return rawStr_col, trueValues_matrix\n",
    "\n",
    "def isna(value):\n",
    "    if isinstance(value, float) and math.isnan(value):\n",
    "        return True \n",
    "    else:\n",
    "        return False\n",
    "    \n",
    "def create_trueLabels(idColumn,groundTruth):\n",
    "    data = list(zip(groundTruth.id1, groundTruth.id2))\n",
    "    G = nx.Graph()\n",
    "    G.add_edges_from(data)\n",
    "    groups = list(nx.connected_components(G))\n",
    "    newId = len(groups)\n",
    "    labels_groundTruth = np.empty([len(idColumn)], dtype=int)\n",
    "    for tid in idColumn:\n",
    "        for g,g_index in zip(groups,range(0,len(groups),1)):\n",
    "            if tid in g:\n",
    "                labels_groundTruth[tid] = g_index\n",
    "\n",
    "        if labels_groundTruth[tid] not in range(0,len(groups),1):\n",
    "            labels_groundTruth[tid] = newId\n",
    "            newId+=1\n",
    "            \n",
    "    return labels_groundTruth,newId,groups"
   ]
  },
  {
   "cell_type": "code",
   "execution_count": 41,
   "metadata": {},
   "outputs": [
    {
     "data": {
      "application/vnd.jupyter.widget-view+json": {
       "model_id": "c9a3fcffeaf943e1ac6e8690391c73c7",
       "version_major": 2,
       "version_minor": 0
      },
      "text/plain": [
       "HBox(children=(FloatProgress(value=1.0, bar_style='info', max=1.0), HTML(value='')))"
      ]
     },
     "metadata": {},
     "output_type": "display_data"
    },
    {
     "name": "stdout",
     "output_type": "stream",
     "text": [
      "\n"
     ]
    },
    {
     "data": {
      "application/vnd.jupyter.widget-view+json": {
       "model_id": "39b5c188ecb74d2abd07597ada56a58f",
       "version_major": 2,
       "version_minor": 0
      },
      "text/plain": [
       "HBox(children=(FloatProgress(value=1.0, bar_style='info', max=1.0), HTML(value='')))"
      ]
     },
     "metadata": {},
     "output_type": "display_data"
    },
    {
     "name": "stdout",
     "output_type": "stream",
     "text": [
      "\n"
     ]
    }
   ],
   "source": [
    "fields = [\n",
    "     'address',\n",
    "     'author',\n",
    "     'editor',\n",
    "     'institution',\n",
    "     'month',\n",
    "     'note',\n",
    "     'pages',\n",
    "     'publisher',\n",
    "     'title',\n",
    "     'venue',\n",
    "     'volume',\n",
    "     'year',\n",
    "     'Unnamed: 13'\n",
    "]\n",
    "\n",
    "# fields = [\n",
    "#      'author',\n",
    "#      'title',\n",
    "# ]\n",
    "\n",
    "data, true_matrix = cora_createDataset(CORA, CORA_groundTruth, fields, 'Entity Id')\n",
    "# data, true_matrix = cora_createDataset(CORA1, CORA1_groundTruth, fields, '@id')"
   ]
  },
  {
   "cell_type": "code",
   "execution_count": 8,
   "metadata": {
    "tags": []
   },
   "outputs": [],
   "source": [
    "labels_groundTruth, numOfObjWithoutDups, groups = create_trueLabels(CORA['Entity Id'].tolist(),CORA_groundTruth)            "
   ]
  },
  {
   "cell_type": "markdown",
   "metadata": {},
   "source": [
    "### CORA specs"
   ]
  },
  {
   "cell_type": "code",
   "execution_count": 9,
   "metadata": {},
   "outputs": [
    {
     "name": "stdout",
     "output_type": "stream",
     "text": [
      "Number of objects without any duplicates:  1\n",
      "Number of objects with duplicates:  1276\n",
      "Total number of objects:  1295\n",
      "Number of clusters:  93\n"
     ]
    }
   ],
   "source": [
    "print(\"Number of objects without any duplicates: \",numOfObjWithoutDups-len(groups))\n",
    "print(\"Number of objects with duplicates: \",sum([len(x) for x in groups]))\n",
    "print(\"Total number of objects: \",CORA.shape[0])\n",
    "print(\"Number of clusters: \",len(groups))"
   ]
  },
  {
   "cell_type": "markdown",
   "metadata": {},
   "source": [
    "#### Dataset attributes"
   ]
  },
  {
   "cell_type": "code",
   "execution_count": 10,
   "metadata": {},
   "outputs": [
    {
     "data": {
      "text/plain": [
       "['Entity Id',\n",
       " 'address',\n",
       " 'author',\n",
       " 'editor',\n",
       " 'institution',\n",
       " 'month',\n",
       " 'note',\n",
       " 'pages',\n",
       " 'publisher',\n",
       " 'title',\n",
       " 'venue',\n",
       " 'volume',\n",
       " 'year',\n",
       " 'Unnamed: 13']"
      ]
     },
     "execution_count": 10,
     "metadata": {},
     "output_type": "execute_result"
    }
   ],
   "source": [
    "list(CORA.columns)"
   ]
  },
  {
   "cell_type": "markdown",
   "metadata": {},
   "source": [
    "#### String length"
   ]
  },
  {
   "cell_type": "code",
   "execution_count": 11,
   "metadata": {},
   "outputs": [
    {
     "name": "stdout",
     "output_type": "stream",
     "text": [
      "Dataset size:  1295  strings-papers\n",
      "Average length: 164\n",
      "Min length: 38\n",
      "Max length: 366\n",
      "Median length: 164\n"
     ]
    }
   ],
   "source": [
    "data_length = [ len(x) for x in data ]\n",
    "print(\"Dataset size: \",len(data),\" strings-papers\")\n",
    "print(\"Average length: %d\" % (np.mean(data_length)))\n",
    "print(\"Min length: %d\" % (min(data_length)))\n",
    "print(\"Max length: %d\" % (max(data_length)))\n",
    "print(\"Median length: %d\" % (np.median(data_length)))"
   ]
  },
  {
   "cell_type": "code",
   "execution_count": 12,
   "metadata": {},
   "outputs": [
    {
     "data": {
      "image/png": "[encoded data removed]",
      "text/plain": [
       "<Figure size 1080x360 with 1 Axes>"
      ]
     },
     "metadata": {},
     "output_type": "display_data"
    }
   ],
   "source": [
    "plt.figure(figsize=(15,5))\n",
    "plt.bar(range(0,len(data_length),1),data_length)\n",
    "plt.xlabel(\"Record index\")\n",
    "plt.ylabel(\"String length\")\n",
    "plt.title(\"StrLength\")\n",
    "plt.show()"
   ]
  },
  {
   "cell_type": "markdown",
   "metadata": {},
   "source": [
    "### Evaluation function\n",
    "\n",
    "Returns:\n",
    "- Accuracy\n",
    "- Precision\n",
    "- Recall\n",
    "- F1-score"
   ]
  },
  {
   "cell_type": "code",
   "execution_count": 9,
   "metadata": {
    "tags": []
   },
   "outputs": [],
   "source": [
    "#####################################################################\n",
    "#                          Evaluation                               # \n",
    "#####################################################################\n",
    "# warnings.filterwarnings(\"ignore\", category=sklearn.exceptions.UndefinedMetricWarning)\n",
    "\n",
    "def evaluate_cora(predicted_matrix, true_matrix, with_classification_report=True ):\n",
    "\n",
    "    print(\"#####################################################################\\n#                          Evaluation                               #\\n#####################################################################\\n\")\n",
    "    true_matrix = sparse.triu(true_matrix)\n",
    "    predicted_matrix =  sparse.triu(predicted_matrix)\n",
    "\n",
    "    acc = 100*accuracy_score(true_matrix, predicted_matrix)\n",
    "    f1 =  100*f1_score(true_matrix, predicted_matrix, average='micro')\n",
    "    recall = 100*recall_score(true_matrix, predicted_matrix, average='micro')\n",
    "    precision = 100*precision_score(true_matrix, predicted_matrix, average='micro')\n",
    "\n",
    "    print(\"Accuracy:  %3.2f %%\" % (acc))\n",
    "    print(\"F1-Score:  %3.2f %%\" % (f1))\n",
    "    print(\"Recall:    %3.2f %%\" % (recall))\n",
    "    print(\"Precision: %3.2f %%\" % (precision))\n",
    "\n",
    "    if with_classification_report:\n",
    "        print(\"\\nClassification report:\\n\")\n",
    "        print(classification_report(true_matrix, predicted_matrix))\n",
    "    \n",
    "    print('\\n\\n')\n",
    "\n",
    "    return acc,f1,precision,recall\n"
   ]
  },
  {
   "cell_type": "markdown",
   "metadata": {
    "tags": []
   },
   "source": [
    "### Jaccard VS Edit distance variance"
   ]
  },
  {
   "cell_type": "code",
   "execution_count": 20,
   "metadata": {},
   "outputs": [],
   "source": [
    "import itertools \n",
    "import sklearn\n",
    "\n",
    "# Function that creates a confusion matrix\n",
    "def create_ConfusionMatrix(confusionMatrix,title):\n",
    "    plt.figure(figsize = (8,5))\n",
    "    classes = [0,1]\n",
    "    cmap = plt.cm.Blues\n",
    "    plt.grid(False)\n",
    "    plt.imshow(confusionMatrix, interpolation='nearest', cmap=cmap)\n",
    "    plt.title(title)\n",
    "    plt.colorbar()\n",
    "    tick_marks = np.arange(len(classes))\n",
    "    plt.xticks(tick_marks, classes, rotation=45)\n",
    "    plt.yticks(tick_marks, classes)\n",
    "\n",
    "    thresh = confusionMatrix.max() / 2.\n",
    "    for i, j in itertools.product(range(confusionMatrix.shape[0]), range(confusionMatrix.shape[1])):\n",
    "        plt.text(j, i, confusionMatrix[i, j],horizontalalignment=\"center\",color=\"white\" if confusionMatrix[i, j] > thresh else \"black\")\n",
    "\n",
    "    plt.tight_layout()\n",
    "    plt.ylabel('True label')\n",
    "    plt.xlabel('Predicted label')\n",
    "    plt.tight_layout()\n",
    "    plt.ylim([1.5, -.5])\n",
    "    plt.show()  "
   ]
  },
  {
   "cell_type": "markdown",
   "metadata": {},
   "source": [
    "#### PCA for the embeddings evaluation"
   ]
  },
  {
   "cell_type": "code",
   "execution_count": 10,
   "metadata": {
    "tags": []
   },
   "outputs": [],
   "source": [
    "def PCA_SpaceVisualization(X,Prototypes,title='PCA visualization',withText=False):\n",
    "    '''\n",
    "    PCA to given array X and creating a plot\n",
    "    Returns PCA components array after fit_transform\n",
    "    '''\n",
    "    \n",
    "    # PCA code\n",
    "    pca = PCA(n_components=2)\n",
    "    pca.fit(X)\n",
    "    pcaComponents = pca.fit_transform(X) # pcaComponents is the data that I'll use from PCA\n",
    "    \n",
    "    # Seperating components\n",
    "    first_component = [x[0] for x in pcaComponents]\n",
    "    second_component = [x[1] for x in pcaComponents]\n",
    "    \n",
    "    # Plotting code\n",
    "    fig, ax = plt.subplots(figsize=(25,10))\n",
    "    ax.scatter(first_component, second_component,alpha=0) \n",
    "    fig.suptitle(title,fontsize=15,fontweight=\"bold\")\n",
    "    \n",
    "    for x0, y0, i in zip(first_component, second_component,range(0,len(first_component),1)):\n",
    "        if(withText):\n",
    "            if i in Prototypes:\n",
    "                plt.text(x0,y0,i, ha=\"center\", va=\"center\",fontsize=16,color='r',fontweight=\"bold\")\n",
    "            else:\n",
    "                plt.text(x0,y0,i, ha=\"center\", va=\"center\",fontsize=8,color='b')\n",
    "        else:\n",
    "            if i in Prototypes:\n",
    "                plt.scatter(x0,y0,color='r',s=250,marker='*',alpha=1.0)\n",
    "            else:\n",
    "                plt.scatter(x0,y0,color='b',s=80,marker='.',alpha=0.3)\n",
    "\n",
    "    return pcaComponents"
   ]
  },
  {
   "cell_type": "markdown",
   "metadata": {},
   "source": [
    "### Prototype selection variance HeatMap"
   ]
  },
  {
   "cell_type": "code",
   "execution_count": 11,
   "metadata": {},
   "outputs": [],
   "source": [
    "def similarityProbsHeatMapWithClusters(similarityProb_matrix,clusters,title):\n",
    "    fif,ax = plt.subplots(1,figsize=(20,20))\n",
    "    colors = ['red','green','blue','yellow','orange']\n",
    "    c=0\n",
    "    for cl in clusters:\n",
    "        for i  in range(0,len(cl)):\n",
    "            for j in range(i+1,len(cl)):\n",
    "                ax.add_patch(Rectangle((cl[j],cl[i]), 1, 1, fill=False, edgecolor=colors[c], lw=3))\n",
    "        c+=1\n",
    "#     corr = np.corrcoef(ed_matrix)\n",
    "#     mask = np.zeros_like(corr)\n",
    "#     mask[np.tril_indices_from(mask)] = True\n",
    "    ax.set_title(title,fontsize=20,fontweight='bold')\n",
    "    ax = sns.heatmap(similarityProb_matrix, linewidth=0.5,annot=True,cmap=\"Blues\",fmt='.3g',ax=ax)\n",
    "    plt.show()\n",
    "    \n",
    "def similarityProbsHeatMap(similarityProb_matrix,title):\n",
    "    fif,ax = plt.subplots(1,figsize=(20,20))\n",
    "    ax.set_title(title,fontsize=20,fontweight='bold')\n",
    "    ax = sns.heatmap(similarityProb_matrix, linewidth=0.5,annot=True,cmap=\"Blues\",fmt='.3g',ax=ax)\n",
    "    plt.show()\n",
    "    "
   ]
  },
  {
   "cell_type": "markdown",
   "metadata": {},
   "source": [
    "### Bigramms-Trigramms and jaccard_distance"
   ]
  },
  {
   "cell_type": "code",
   "execution_count": 198,
   "metadata": {},
   "outputs": [
    {
     "name": "stdout",
     "output_type": "stream",
     "text": [
      "{('e', 'x', 'a'), ('n', 'd', ' '), ('m', 's', ' '), ('a', 'n', ' '), ('b', 'i', 'g'), ('i', 's', ' '), ('s', ' ', 'a'), ('g', 'r', 'a'), (' ', 'b', 'i'), ('m', 's', '!'), (' ', 'a', 'n'), ('f', ' ', 'b'), ('a', 'm', 'm'), ('x', 'a', 'm'), ('r', 'i', 'g'), ('e', ' ', 'o'), (' ', 't', 'r'), ('p', 'l', 'e'), ('a', 'm', 'p'), ('a', 'n', 'd'), ('t', 'r', 'i'), ('m', 'm', 's'), ('l', 'e', ' '), ('h', 'i', 's'), ('T', 'h', 'i'), ('m', 'p', 'l'), ('s', ' ', 'i'), (' ', 'o', 'f'), (' ', 'i', 's'), ('n', ' ', 'e'), ('i', 'g', 'r'), ('o', 'f', ' '), ('d', ' ', 't'), ('r', 'a', 'm'), (' ', 'e', 'x')}\n",
      "{('bigramms', 'and', 'trigramms'), ('and', 'trigramms', '!'), ('an', 'example', 'of'), ('is', 'an', 'example'), ('This', 'is', 'an'), ('example', 'of', 'bigramms'), ('of', 'bigramms', 'and')}\n",
      "0.0\n",
      "0.0\n",
      "1.0 1.0 1.0 1.0\n",
      "7\n"
     ]
    }
   ],
   "source": [
    "sent = 'This is an example of bigramms and trigramms!'\n",
    "print(set(nltk.ngrams(sent, n=3)))\n",
    "print(set(nltk.ngrams(nltk.word_tokenize(sent), n=3)))\n",
    "print(nltk.jaccard_distance(set(nltk.ngrams(sent, n=3)),set(nltk.ngrams(sent, n=3))))\n",
    "print(nltk.jaccard_distance(set(nltk.ngrams(nltk.word_tokenize(sent), n=3)),set(nltk.ngrams(nltk.word_tokenize(sent), n=3))))\n",
    "\n",
    "s1 = \"m. ahlskog  j. paloheimo  h. stubb  p. dyreklev  m. fahlman  o. inganas and m.r.   andersson  nan j appl. phys.\"\n",
    "s2 = \"m. ahlskog  j. paloheimo  h. stubb  p. dyreklev  m. fahlman  o. inganas and m.r. andersson  j appl. phys. \"\n",
    "\n",
    "jc3 = jaccard(set(nltk.ngrams(s1, n=3)),set(nltk.ngrams(s2, n=3)))\n",
    "js3 = jaccard(set(nltk.ngrams(nltk.word_tokenize(s1), n=3)),set(nltk.ngrams(nltk.word_tokenize(s2), n=3)))\n",
    "jc2 = jaccard(set(nltk.ngrams(s1, n=2)),set(nltk.ngrams(s2, n=2)))\n",
    "js2 = jaccard(set(nltk.ngrams(nltk.word_tokenize(s1), n=2)),set(nltk.ngrams(nltk.word_tokenize(s2), n=2)))\n",
    "\n",
    "print(jc3,js3,jc2,js2)\n",
    "print(editdistance.eval(s1,s2))"
   ]
  },
  {
   "cell_type": "markdown",
   "metadata": {},
   "source": [
    "Results dataframe"
   ]
  },
  {
   "cell_type": "code",
   "execution_count": 12,
   "metadata": {},
   "outputs": [],
   "source": [
    "results_dataframe = pd.DataFrame(columns=['max_numberOf_clusters','max_editDistance','similarityThreshold','windowSize','metric','similarityVectors',\"distanceMetricEmbedding\",\"distanceMetric\",\"number_of_permutations\",\"ngramms\",\"jaccard_with_chars\",'Accuracy','Precision','Recall','F1','Time'])"
   ]
  },
  {
   "cell_type": "markdown",
   "metadata": {},
   "source": [
    "### CORA: Best Jaccard execution"
   ]
  },
  {
   "cell_type": "code",
   "execution_count": null,
   "metadata": {
    "tags": []
   },
   "outputs": [
    {
     "name": "stdout",
     "output_type": "stream",
     "text": [
      "\n",
      "#####################################################################\n",
      "#     .~ RankedWTAHash with Vantage embeddings starts training ~.   #\n",
      "#####################################################################\n",
      "\n",
      "###########################################################\n",
      "# > 1. Prototype selection phase                          #\n",
      "###########################################################\n",
      "\n",
      "\n",
      "-> Finding prototypes and representatives of each cluster:\n"
     ]
    },
    {
     "data": {
      "application/vnd.jupyter.widget-view+json": {
       "model_id": "aa3689c7de91487994c69377496457e9",
       "version_major": 2,
       "version_minor": 0
      },
      "text/plain": [
       "HBox(children=(FloatProgress(value=0.0, max=1295.0), HTML(value='')))"
      ]
     },
     "metadata": {},
     "output_type": "display_data"
    },
    {
     "name": "stdout",
     "output_type": "stream",
     "text": [
      "\n",
      "0.25\n",
      "Prototypes before:\n",
      "[2, 31, 76, 78, 94, 139, 160, 163, 165, 173, 176, 180, 194, 253, 257, 269, 280, 283, 291, 319, 336, 341, 383, 395, 406, 413, 424, 429, 434, 458, 473, 479, 490, 500, 502, 548, 559, 570, 578, 590, 640, 758, 766, 819, 840, 844, 846, 848, 850, 858, 871, 885, 905, 912, 932, 941, 944, 952, 962, 972, 987, 989, 991, 1043]\n",
      "Not wanted:\n",
      "{962, 165, 173, 848, 850, 283, 991}\n",
      "Final:\n",
      "[257, 2, 269, 1043, 280, 31, 291, 548, 559, 819, 570, 319, 578, 840, 76, 844, 78, 590, 336, 846, 341, 858, 94, 871, 885, 383, 640, 905, 139, 395, 912, 406, 413, 160, 163, 932, 424, 429, 941, 176, 944, 434, 180, 952, 194, 458, 972, 473, 987, 989, 479, 490, 500, 502, 758, 253, 766]\n",
      "\n",
      "- Prototypes selected\n",
      "[ 257    2  269 1043  280   31  291  548  559  819  570  319  578  840\n",
      "   76  844   78  590  336  846  341  858   94  871  885  383  640  905\n",
      "  139  395  912  406  413  160  163  932  424  429  941  176  944  434\n",
      "  180  952  194  458  972  473  987  989  479  490  500  502  758  253\n",
      "  766]\n",
      "257  ->  ['y. freund, m. kearns, d. ron, r. rubinfeld, r.e. schapire, and l. sellie.', 'pages 315-324,', 'efficient learning of typical finite automata from random walks.', 'in proceedings of the 24th annual acm symp. on theory of computing,', '1993.']\n",
      "2  ->  ['avrim blum, merrick furst, michael kearns, and richard j. lipton.', 'pages 24.1-24.10,', 'cryptographic primitives based on hard learning problems.', \"in pre-proceedings of crypto '93,\", '1993.']\n",
      "269  ->  ['y. freund.', 'september', 'also appeared in colt90.', '256-285,', 'boosting a weak learning algorithm by majority.', 'information and computation,', '121(2)', '1995.']\n",
      "1043  ->  ['michael kearns and yishay mansour.', 'on the boosting ability of top-down decision tree learning algorithms.', 'in proceedings of the twenty-eighth annual acm symposium on the theory of computing,', '1996.']\n",
      "280  ->  ['yoav freund.', '256-285,', 'boosting a weak learning algorithm by majority.', 'information and computation,', '121(2)', '1995.']\n",
      "31  ->  ['nicolo cesa-bianchi, yoav freund, david p. helmbold, david haussler, robert e. schapire, and manfred k. warmuth.', 'may', 'submitted to the journal of the acm.', 'pages 382-391,', 'how to use expert advice.', 'in proceedings of the twenty-fifth annual acm symposium on the theory of computing,', '1993.']\n",
      "291  ->  ['freund, y. & schapire, r. e.', 'to appear in journal of computer and system sciences.', 'pp. 23-37.', 'springer-verlag,', 'a decision-theoretic generalization of on-line learning and an application to boosting,', \"in `proceedings of the second european conference on computational learning theory',\", '(1995),']\n",
      "548  ->  ['haussler, d., kearns, m. and schapire, r.', 'ucsc-crl-91-44, university of california at santa cruz.', 'bounds on the sample complexity of bayesian learning using information theory and the vc dimension.', '(1992).']\n",
      "559  ->  ['d. haussler, m. kearns, h.s. seung, and n. tishby.', 'pages 76-87,', 'rigourous learning curve bounds from statistical mechanics.', 'in proceedings of the seventh annual acm confernce on computational learning theory,', '1994.']\n",
      "819  ->  ['colt,', 'm. kearns, r. schapire and l. sellie,', 'towards efficient agnostic learning.', '1992.']\n",
      "570  ->  ['david haussler, michael kearns, and robert e. schapire.', '83-113,', 'bounds on the sample complexity of bayesian learning using information theory and the vc dimension.', 'machine learning,', '14', '1994.']\n",
      "319  ->  ['colt,', 'y. freund, d. ron.', 'learning to model sequences generated by switching distributions.', '1995.']\n",
      "578  ->  ['d. haussler, m. kearns, and r. e. schapire.', '83-113,', 'bounds on the sample complexity of bayesian learning using information theory and the vc dimension.', 'machine learning,', '14(1)', '1994.']\n",
      "840  ->  ['m. kearns and m. li.', '807-837,', 'learning in the presence of malicious errors.', 'siam j. comput.,', '22', '1993.']\n",
      "76  ->  ['nicolo cesa-bianchi, yoav freund, david haussler, david p. helmbold, robert e. schapire, and manfred k. warmuth.', 'may', '427-485,', 'how to use expert advice.', 'journal of the association for computing machinery,', '44(3)', '1997.']\n",
      "844  ->  ['m. kearns and m. li.', '807-837.', 'learning in the presence of malicious errors.', 'siam journal on computing,', '22 (1993),']\n",
      "78  ->  ['n. cesa-bianchi, y. freund, d. haussler, d. p. helmbold, r. e. schapire, and m. k. warmuth,', 'pp. 427-485,', \"'how to use expert advice,'\", 'journal of the acm,', 'vol. 44,', '1997.']\n",
      "590  ->  ['david p. helmbold and robert e. schapire.', 'pages 61-68,', 'predicting nearly as well as the best pruning of a decision tree.', 'in proceedings of the eighth annual conference on computational learning theory,', '1995.']\n",
      "336  ->  ['yoav freund and robert e. schapire.', 'pages 325-332,', 'game theory, on-line prediction and boosting.', 'in proceedings of the ninth annual conference on computational learning theory,', '1996.']\n",
      "846  ->  ['michael kearns and ming li.', 'august', '807-837,', 'learning in the presence of malicious errors.', 'siam journal on computing,', '22(4)', '1993.']\n",
      "341  ->  ['yoav freund and robert e. schapire.', 'morgan kaufmann,', 'experiments with a new boosting algorithm.', 'in proceedings of the 13th international conference on machine learning.', '1996.']\n",
      "858  ->  ['m. kearns.', 'pages 392-401,', 'efficient noise-tolerant learning from statistical queries.', 'in proceedings of the twenty-fifth annual acm symposium on theory of computing,', '1993.']\n",
      "94  ->  ['h. drucker, r. schapire, and p. simard.', 'in steven j. hanson, jack d. cowan, and c. lee giles, editors,', 'pages 42-49.', 'morgan kaufmann,', 'improving performance in neural networks using a boosting algorithm.', 'advances in neural information processing systems,', 'volume 5,', '1993.']\n",
      "871  ->  ['michael j. kearns.', 'pages 392-401,', 'efficient noise-tolerant learning from statistical queries.', 'in proceedings of the twenty-fifth annual acm symposium on theory of computing,', '1993.']\n",
      "885  ->  ['new york, ny,', 'm. kearns.', 'pages 392-401.', 'acm press,', 'efficient noise-tolerant learning from statistical queries.', 'in proc. 25th annu. acm sympos. theory comput.,', '1993.']\n",
      "383  ->  ['yoav freund and robert e. schapire.', 'pages 148-156,', 'experiments with a new boosting algorithm.', 'in machine learning: proceedings of the thirteenth international conference,', '1996.']\n",
      "640  ->  ['h. kautz, m. kearns, and b. selman.', '129-145,', 'horn approximations of empirical data.', 'artificial intelligence,', '74', '1995.']\n",
      "905  ->  ['m. kearns, y.mansour, d. ron, r. rubinfeld, r.e. schapire, and l. sellie.', 'on the learnabil-ity of discrete distributions.', 'in the 25th annual acm symposium on theory of computing,', '1994.']\n",
      "139  ->  ['a. ehrenfeucht, d. haussler, m. kearns, and l. valiant.', '247-251,', 'a general lower bound on the number of examples needed for learning.', 'information and computation,', '82(3)', '1989.']\n",
      "395  ->  ['freund, y., & schapire, r. e.', \"available from the authors' home pages ('http://www.research.att.com/orgs/ssr/people/fyoav,schapireg').\", 'a decision-theoretic generalization of on-line learning and an application to boosting.', 'unpublished manuscript,', '(1996a).']\n",
      "912  ->  ['m. kearns, y. mansour, d. ron, r. rubinfeld, r. schapire and l. sellie.', 'on the learnability of discrete distributions,', 'stoc,', '1994.']\n",
      "406  ->  ['yoav freund and robert e. schapire.', '119-139,', 'a decision-theoretic generalization of on-line learning and an application to boosting.', 'journal of computer and system sciences,', '55(1)', '1997.']\n",
      "413  ->  ['yoav freund and robert e. schapire.', 'august', '119-139,', 'a decision-theoretic generalization of on-line learning and an application to boosting.', 'journal of computer and system sciences,', '55(1)', '1997.']\n",
      "160  ->  ['a. ehrenfeucht, d. haussler, m. kearns, and l. valiant.', '247-261,', 'a general lower bound on the number of examples needed for learning.', 'information and computation,', '82', '1989.']\n",
      "163  ->  ['andrzej ehrenfeucht, david haussler, michael kearns, and leslie valiant.', 'september', '247-251,', 'a general lower bound on the number of examples needed for learning.', 'information and computation,', '82(3)', '1989.']\n",
      "932  ->  ['cam-bridge, ma:', 'kearns, m. j., & vazirani, u. v.', 'mit press.', 'an introduction to computational learning theory.', '(1994).']\n",
      "424  ->  ['yoav freund, robert e. schapire, yoram singer, and manfred k. warmuth.', 'pages 334-343,', 'using and combining predictors that specialize.', 'in proceedings of the twenty-ninth annual acm symposium on the theory of computing,', '1997.']\n",
      "429  ->  ['y. freund, h. seung, e. shamir, and n. tishby.', '133-168,', 'selective sampling using the query by committee algorithm.', 'machine learning,', '28', '1997.']\n",
      "941  ->  ['cambridge, mas-sachusetts,', 'michael j. kearns and umesh v. vazirani.', 'mit press,', 'an introduction to computational learning theory.', '1994.']\n",
      "176  ->  ['m. feder, y. freund, and y. mansour.', 'page 233.', 'ieee,', 'optimal universal learning and prediction of probabilistic concepts.', 'in proc. of ieee information theory conference,', '1995.']\n",
      "944  ->  ['m. j. kearns and u. v. vazirani.', 'mit press,', 'an introduction to computational learning theory.', '1994.']\n",
      "434  ->  ['y. freund and y. mansour.', 'learning under persistent drift.', 'proceedings of the 1997 european conference on computational learning theory,', '1997.']\n",
      "180  ->  ['yoav freund and robert e. schapire.', '(to appear).', 'adaptive game playing using multiplicative weights. games and economic behavior,']\n",
      "952  ->  ['cambridge, ma,', 'm. kearns and u. vazirani.', 'mit press,', 'an introduction to computational learning theory.', '1994.']\n",
      "194  ->  ['yoav freund.', '22', 'pages 202-216.', 'morgan kaufmann,', 'boosting a weak learning algorithm by majority.', 'in proceedings of the third annual workshop on computational learning theory,', '1990.']\n",
      "458  ->  ['sally a. goldman, ronald l. rivest, and robert e. schapire.', 'mit laboratory for computer science,', 'may', 'a preliminary version is available in proceedings of the thirtieth annual symposium on foundations of computer science, pages 46-51,', 'learning binary relations and total orders.', 'technical report mit/lcs/tm-413,', '1989.']\n",
      "972  ->  ['m. j. kearns and r. e. schapire.', '464-497,', 'efficient distribution-free learning of probabilistic concepts.', 'journal of computer and system sciences,', '48(3)', '1994.']\n",
      "473  ->  ['s. a. goldman, r. l. rivest, and r. e. schapire.', 'october', '1006-1034,', 'learning binary relations and total orders.', 'siam journal on computing,', '22(5)', '1993.']\n",
      "987  ->  ['m. kearns and l. g. valiant.', '67-95,', 'cryptographic limitations on learning boolean formulae and finite automata.', 'journal of the acm,', '41(1)', '1994.']\n",
      "989  ->  ['m. kearns and l. valiant.', 'an extended abstract of this paper appeared in stoc89.', '67-95,', 'cryptographic limitations on learning boolean formulae and finite automata.', 'journal of the association for computing machinery,', '41', '1994.']\n",
      "479  ->  ['s. a. goldman, m. j. kearns, and r. e. schapire.', '705-726.', 'exact identification of read-once formulas using fixed points of amplification functions.', 'siam journal on computing,', '22 (1993),']\n",
      "490  ->  ['s. a. goldman and m. j. kearns.', 'february', '20-31,', 'on the complexity of teaching.', 'journal of computer and system sciences,', '50(1)', '1995.']\n",
      "500  ->  ['d. haussler, m. kearns, n. littlestone, and m. k. warmuth.', 'december', '129-161,', 'equivalence of models for polynomial learnability.', 'inform. comput.,', '95(2)', '1991.']\n",
      "502  ->  ['david haussler, michael kearns, nick littlestone, and manfred k. war-muth.', 'december', '129-161,', 'equivalence of models for polynomial learnability.', 'information and computation,', '95(2)', '1991.']\n",
      "758  ->  ['cam-bridge, massachusetts,', 'michael j. kearns.', 'mit press,', 'the computational complexity of machine learning.', '1990.']\n",
      "253  ->  ['yoav freund, michael kearns, dana ron, ronitt rubenfeld, robert schapire, and linda sellie.', 'may', 'pages 315-324,', 'efficient learning of typical finite automata from random walks.', 'in proceedings of the twenty-fifth annual acm symposium on theory of computing,', '1993.']\n",
      "766  ->  ['michael kearns.', 'mit press,', 'the computational complexity of machine learning.', '1990.']\n"
     ]
    },
    {
     "data": {
      "image/png": "[encoded data removed]",
      "text/plain": [
       "<Figure size 720x720 with 2 Axes>"
      ]
     },
     "metadata": {},
     "output_type": "display_data"
    },
    {
     "name": "stdout",
     "output_type": "stream",
     "text": [
      "\n",
      "- Mean variance in prototype selection:  0.9805278302969901\n",
      "\n",
      "- Final number of prototypes:  57\n",
      "\n",
      "# Finished in 1.7114 secs\n",
      "\n",
      "\n",
      "###########################################################\n",
      "# > 2. Embeddings based on the Vantage objects            #\n",
      "###########################################################\n",
      "\n",
      "\n",
      "-> Creating Embeddings:\n"
     ]
    },
    {
     "data": {
      "application/vnd.jupyter.widget-view+json": {
       "model_id": "6390e8d7c1cc4d6bb125007b6c3c810b",
       "version_major": 2,
       "version_minor": 0
      },
      "text/plain": [
       "HBox(children=(FloatProgress(value=0.0, max=1295.0), HTML(value='')))"
      ]
     },
     "metadata": {},
     "output_type": "display_data"
    },
    {
     "name": "stdout",
     "output_type": "stream",
     "text": [
      "\n",
      "- Embeddings created\n",
      "[[1 1 1 ... 1 1 1]\n",
      " [2 1 2 ... 2 2 2]\n",
      " [2 1 2 ... 2 2 2]\n",
      " ...\n",
      " [1 1 1 ... 1 1 1]\n",
      " [1 1 1 ... 1 1 1]\n",
      " [1 1 1 ... 1 1 1]]\n",
      "\n",
      "# Finished in 0.4041 secs\n",
      "\n",
      "\n",
      "###########################################################\n",
      "# > 3. WTA Hashing                                        #\n",
      "###########################################################\n",
      "\n",
      "\n",
      "-> Creating WTA Buckets:\n",
      "- WTA buckets: \n",
      "[0 0 0 0 0 0 0 0 0 0 0 0 0 0 0 0 0 0 0 0 0 0 0 0 0 0 0 0 0 0 0 0 0 0 0 0 0\n",
      " 0 0 0 0 0 0 0 0 0 0 0 0 0]  ->  [0, 1, 2, 3, 4, 5, 6, 7, 8, 9, 10, 11, 12, 13, 14, 16, 20, 21, 22, 23, 24, 25, 26, 27, 28, 29, 32, 35, 36, 37, 38, 43, 44, 45, 46, 47, 48, 49, 51, 52, 53, 54, 55, 56, 57, 58, 59, 60, 61, 62, 63, 64, 65, 66, 67, 68, 69, 70, 71, 72, 73, 74, 79, 80, 81, 82, 83, 84, 85, 86, 87, 88, 89, 90, 91, 92, 95, 96, 97, 98, 99, 101, 102, 103, 104, 106, 107, 108, 109, 110, 111, 112, 113, 114, 115, 116, 117, 118, 119, 120, 121, 122, 123, 124, 125, 126, 127, 128, 129, 130, 131, 132, 133, 134, 135, 136, 137, 140, 142, 143, 144, 145, 146, 147, 148, 149, 150, 152, 154, 155, 157, 158, 159, 160, 166, 167, 169, 171, 174, 177, 182, 183, 184, 185, 186, 187, 188, 189, 190, 195, 197, 198, 199, 200, 201, 203, 204, 205, 206, 207, 208, 209, 210, 211, 212, 213, 214, 215, 216, 217, 218, 219, 220, 221, 222, 223, 224, 225, 226, 227, 228, 229, 230, 231, 232, 233, 234, 235, 236, 237, 238, 239, 240, 241, 242, 243, 244, 245, 246, 247, 248, 249, 250, 251, 252, 253, 254, 255, 256, 257, 258, 259, 260, 261, 262, 263, 264, 265, 266, 267, 270, 271, 272, 273, 274, 275, 276, 277, 284, 285, 286, 287, 288, 289, 290, 291, 292, 293, 294, 295, 296, 297, 298, 299, 300, 301, 302, 303, 304, 305, 306, 307, 308, 309, 310, 311, 312, 313, 314, 315, 316, 317, 320, 321, 322, 323, 324, 325, 326, 327, 328, 329, 330, 331, 332, 333, 334, 338, 339, 340, 341, 342, 343, 344, 345, 346, 347, 348, 349, 350, 351, 352, 353, 354, 355, 356, 357, 358, 359, 360, 361, 362, 363, 364, 365, 366, 367, 368, 369, 370, 371, 372, 373, 374, 375, 376, 377, 378, 379, 380, 381, 382, 383, 384, 385, 386, 387, 388, 389, 390, 391, 392, 393, 394, 395, 396, 397, 398, 399, 400, 401, 402, 403, 404, 409, 410, 411, 415, 417, 420, 421, 422, 423, 424, 425, 426, 427, 430, 431, 432, 435, 436, 437, 438, 439, 440, 441, 442, 443, 444, 445, 446, 447, 448, 449, 450, 451, 452, 453, 454, 455, 456, 459, 460, 461, 462, 463, 464, 465, 466, 467, 468, 469, 470, 471, 474, 476, 477, 480, 481, 482, 483, 484, 485, 486, 487, 488, 489, 490, 491, 492, 493, 494, 495, 496, 507, 511, 514, 515, 519, 521, 523, 524, 525, 526, 527, 528, 529, 530, 531, 532, 533, 534, 535, 536, 537, 538, 539, 540, 541, 542, 543, 544, 545, 546, 549, 550, 551, 552, 553, 554, 555, 556, 557, 558, 559, 560, 561, 562, 563, 564, 565, 566, 567, 568, 571, 572, 575, 580, 581, 584, 585, 586, 587, 588, 591, 592, 593, 594, 595, 596, 597, 598, 599, 600, 601, 602, 603, 604, 605, 606, 607, 608, 609, 610, 611, 612, 613, 614, 615, 616, 617, 618, 619, 620, 621, 622, 623, 624, 625, 626, 627, 628, 629, 630, 632, 633, 635, 636, 637, 638, 642, 643, 644, 645, 646, 647, 648, 649, 650, 651, 652, 653, 654, 655, 656, 657, 658, 659, 660, 661, 662, 663, 664, 665, 666, 667, 668, 669, 670, 671, 672, 673, 674, 675, 676, 677, 678, 679, 680, 681, 682, 683, 684, 685, 686, 687, 688, 689, 690, 691, 692, 693, 694, 695, 696, 697, 698, 699, 700, 701, 702, 703, 704, 705, 706, 707, 708, 709, 710, 711, 712, 713, 714, 715, 716, 717, 718, 719, 720, 721, 722, 723, 724, 725, 726, 727, 728, 729, 730, 731, 732, 733, 734, 735, 736, 737, 738, 739, 740, 741, 742, 743, 744, 745, 746, 747, 748, 749, 750, 751, 752, 753, 754, 755, 756, 759, 760, 762, 767, 768, 770, 772, 773, 774, 775, 776, 777, 778, 779, 780, 781, 782, 783, 784, 785, 786, 787, 788, 789, 790, 791, 792, 793, 794, 795, 796, 797, 798, 799, 800, 801, 802, 803, 804, 805, 806, 807, 808, 809, 810, 811, 812, 813, 814, 815, 816, 817, 820, 821, 822, 823, 824, 825, 826, 827, 828, 829, 830, 831, 832, 833, 836, 837, 838, 841, 843, 844, 845, 846, 849, 850, 851, 853, 856, 859, 860, 861, 862, 863, 864, 865, 868, 869, 872, 874, 878, 880, 881, 883, 887, 889, 890, 891, 892, 894, 899, 900, 901, 902, 903, 906, 907, 908, 909, 910, 913, 914, 915, 916, 917, 918, 919, 920, 921, 922, 923, 925, 927, 929, 930, 935, 936, 937, 938, 939, 942, 947, 949, 950, 955, 963, 964, 965, 966, 968, 969, 970, 973, 977, 979, 980, 981, 982, 983, 984, 985, 986, 987, 988, 989, 990, 991, 992, 993, 994, 995, 996, 997, 998, 999, 1000, 1001, 1002, 1003, 1004, 1005, 1006, 1007, 1008, 1009, 1010, 1011, 1012, 1013, 1014, 1015, 1016, 1017, 1018, 1019, 1020, 1021, 1022, 1023, 1024, 1025, 1026, 1027, 1028, 1029, 1030, 1031, 1032, 1033, 1034, 1035, 1036, 1037, 1038, 1039, 1040, 1041, 1042, 1043, 1044, 1045, 1046, 1047, 1048, 1049, 1050, 1051, 1052, 1053, 1054, 1055, 1056, 1057, 1058, 1059, 1060, 1061, 1062, 1063, 1064, 1065, 1066, 1067, 1068, 1069, 1070, 1071, 1072, 1073, 1074, 1075, 1076, 1077, 1078, 1079, 1080, 1081, 1082, 1083, 1084, 1085, 1086, 1087, 1088, 1089, 1090, 1091, 1092, 1093, 1094, 1095, 1096, 1097, 1098, 1099, 1100, 1101, 1102, 1103, 1104, 1105, 1106, 1107, 1108, 1109, 1110, 1111, 1112, 1113, 1114, 1115, 1116, 1117, 1118, 1119, 1120, 1121, 1122, 1123, 1124, 1125, 1126, 1127, 1128, 1129, 1130, 1131, 1132, 1133, 1134, 1135, 1136, 1137, 1138, 1139, 1140, 1141, 1142, 1143, 1144, 1145, 1146, 1147, 1148, 1149, 1150, 1151, 1152, 1153, 1154, 1155, 1156, 1157, 1158, 1159, 1160, 1161, 1162, 1163, 1164, 1165, 1166, 1167, 1168, 1169, 1170, 1171, 1172, 1173, 1174, 1175, 1176, 1177, 1178, 1179, 1180, 1181, 1182, 1183, 1184, 1185, 1186, 1187, 1188, 1189, 1190, 1191, 1192, 1193, 1194, 1195, 1196, 1197, 1198, 1199, 1200, 1201, 1202, 1203, 1204, 1205, 1206, 1207, 1208, 1209, 1210, 1211, 1212, 1213, 1214, 1215, 1216, 1217, 1218, 1219, 1220, 1221, 1222, 1223, 1224, 1225, 1226, 1227, 1228, 1229, 1230, 1231, 1232, 1233, 1234, 1235, 1236, 1237, 1238, 1239, 1240, 1241, 1242, 1243, 1244, 1245, 1246, 1247, 1248, 1249, 1250, 1251, 1252, 1253, 1254, 1255, 1256, 1257, 1258, 1259, 1260, 1261, 1262, 1263, 1264, 1265, 1266, 1267, 1268, 1269, 1270, 1271, 1272, 1273, 1274, 1275, 1276, 1277, 1278, 1279, 1280, 1281, 1282, 1283, 1284, 1285, 1286, 1287, 1288, 1289, 1290, 1291, 1292, 1293, 1294]\n",
      "[1 0 0 0 0 0 0 0 0 0 0 0 0 0 0 0 0 0 0 0 0 0 0 0 0 0 0 0 0 0 0 0 0 0 0 0 0\n",
      " 0 0 0 0 0 0 0 0 0 0 0 0 0]  ->  [15, 17, 18, 19, 30, 31, 33, 34, 39, 40, 41, 42, 50]\n",
      "[0 0 0 0 0 0 1 0 0 0 0 0 0 0 0 0 0 0 0 0 0 0 0 0 0 0 0 0 0 0 0 0 0 0 0 0 0\n",
      " 0 0 0 0 0 1 0 0 0 0 0 0 0]  ->  [75, 76]\n",
      "[0 0 0 0 0 0 0 0 0 0 0 0 0 0 0 0 0 0 0 0 0 0 0 0 0 0 0 0 0 0 0 0 0 0 0 0 0\n",
      " 0 0 0 0 0 0 0 1 0 0 0 0 0]  ->  [77, 78]\n",
      "[0 0 0 0 0 0 0 0 0 0 0 0 0 0 0 0 0 0 0 0 0 0 0 0 0 0 0 0 0 0 0 0 0 1 0 0 0\n",
      " 0 0 0 0 0 0 0 0 0 0 0 0 0]  ->  [93, 94, 100, 105, 202]\n",
      "[0 0 0 0 0 0 0 0 0 0 0 1 0 0 0 0 0 0 0 0 0 0 0 0 0 0 0 0 0 0 0 0 0 0 0 0 0\n",
      " 0 0 0 0 0 0 0 0 0 0 0 0 0]  ->  [138, 139, 141, 151, 153, 156, 161, 162, 163, 164, 165, 168, 170, 172, 173]\n",
      "[0 0 0 0 0 0 0 0 0 0 1 0 0 0 0 0 0 0 0 0 0 1 0 1 1 1 0 0 0 0 0 0 0 0 0 0 0\n",
      " 0 0 0 0 0 0 0 0 0 0 0 0 0]  ->  [175, 176, 178]\n",
      "[0 0 0 0 0 0 0 0 0 0 0 0 0 0 0 0 0 0 0 0 0 0 0 0 0 0 0 0 0 0 0 0 0 0 0 0 0\n",
      " 0 0 0 0 0 0 1 0 0 0 0 0 0]  ->  [179, 180]\n",
      "[0 0 0 1 0 0 0 0 1 0 0 0 0 0 0 0 0 0 0 0 0 0 0 0 0 0 0 0 0 0 0 0 0 0 0 0 0\n",
      " 0 0 0 0 0 0 0 0 0 0 0 0 0]  ->  [181, 191, 192, 193, 194, 196]\n",
      "[0 0 0 0 0 0 0 0 0 0 0 0 0 0 0 1 0 0 1 0 0 0 0 0 0 0 0 0 0 0 0 0 0 0 0 0 0\n",
      " 0 0 0 0 0 0 0 0 0 0 0 0 0]  ->  [268, 269, 278, 279, 280, 281, 282, 283]\n",
      "[0 0 0 0 0 0 0 0 0 0 0 0 0 0 0 0 1 0 0 0 0 0 0 0 0 0 0 0 0 0 0 0 0 0 0 0 0\n",
      " 0 0 0 0 0 0 0 0 0 0 0 0 0]  ->  [318, 319]\n",
      "[0 0 0 0 0 0 0 0 0 0 0 0 0 0 0 0 0 0 0 0 1 0 0 0 0 0 0 0 0 0 0 0 0 0 0 0 0\n",
      " 0 0 0 0 0 0 0 0 0 0 0 0 0]  ->  [335, 336, 337]\n",
      "[0 0 0 0 0 0 0 0 0 0 0 0 0 0 0 0 0 0 0 0 0 0 0 0 0 0 0 0 1 0 0 0 0 0 0 0 1\n",
      " 0 0 0 0 0 0 0 0 0 0 0 0 0]  ->  [405, 406, 407, 408, 412, 413, 414, 416, 418]\n",
      "[0 0 0 0 0 0 0 0 0 0 0 0 0 0 0 0 0 0 0 0 0 0 0 0 0 0 0 0 1 0 0 0 0 0 0 0 0\n",
      " 0 0 0 0 0 0 0 0 0 0 0 0 0]  ->  [419]\n",
      "[0 0 0 0 0 0 0 0 0 0 0 0 0 1 0 0 0 0 0 0 0 0 0 0 0 0 0 0 0 0 0 0 0 0 0 0 0\n",
      " 0 0 0 0 0 0 0 0 0 0 0 1 0]  ->  [428, 429]\n",
      "[0 1 0 0 0 0 0 0 0 0 0 0 0 0 0 0 0 0 0 0 0 0 0 0 0 0 0 0 0 0 0 0 0 0 0 0 0\n",
      " 0 0 0 0 0 0 0 0 0 0 0 0 0]  ->  [433, 434]\n",
      "[0 0 0 0 0 0 0 0 0 0 0 0 1 0 0 0 0 0 0 0 0 0 0 0 0 0 0 0 0 0 0 0 0 0 0 0 0\n",
      " 0 0 0 0 0 0 0 0 0 0 0 0 0]  ->  [457, 458]\n",
      "[0 0 0 0 0 0 0 0 0 0 0 0 0 0 0 0 0 0 0 0 0 0 0 0 0 0 0 0 0 0 0 0 0 0 0 0 0\n",
      " 0 0 0 0 0 0 0 0 0 1 0 0 0]  ->  [472, 473, 475]\n",
      "[0 0 0 0 1 0 0 0 0 0 0 0 0 0 0 0 0 0 0 0 0 0 0 0 0 0 0 0 0 0 0 0 0 0 0 0 0\n",
      " 0 0 0 0 0 0 0 0 0 0 0 0 0]  ->  [478, 479]\n",
      "[0 0 0 0 0 1 0 0 0 0 0 0 0 0 0 0 0 0 0 0 0 0 0 0 0 0 0 0 0 0 0 0 0 0 0 0 0\n",
      " 0 0 0 0 0 0 0 0 0 0 0 0 0]  ->  [497, 498, 499, 500, 501, 502, 503, 504, 505, 506, 508, 509, 510, 512, 513, 516, 517, 518, 520, 522]\n",
      "[0 0 0 0 0 0 0 0 0 0 0 0 0 0 0 0 0 0 0 0 0 0 1 0 0 0 0 0 0 0 0 0 0 0 0 0 0\n",
      " 0 0 0 0 0 0 0 0 0 0 0 0 0]  ->  [547, 548]\n",
      "[0 0 0 0 0 0 0 0 0 0 0 0 0 0 1 0 0 0 0 0 0 0 0 0 0 0 0 0 0 0 0 0 0 0 0 1 0\n",
      " 0 0 0 0 0 0 0 0 0 0 0 0 0]  ->  [569, 570, 573, 574, 577, 578, 583]\n",
      "[0 0 0 0 0 0 0 0 0 0 0 0 0 0 1 0 0 0 0 0 0 0 0 0 0 0 0 0 0 0 0 0 0 0 0 0 0\n",
      " 0 0 0 0 0 0 0 0 0 0 0 0 0]  ->  [576, 582]\n",
      "[0 0 0 0 0 0 0 0 0 0 0 0 0 0 0 0 0 0 0 0 0 0 0 0 0 0 0 0 0 0 0 0 0 0 0 1 0\n",
      " 0 0 0 0 0 0 0 0 0 0 0 0 0]  ->  [579]\n",
      "[0 0 0 0 0 0 0 0 0 0 0 0 0 0 0 0 0 0 0 0 0 0 0 0 0 0 0 0 0 0 0 0 0 0 0 0 0\n",
      " 0 1 0 0 0 0 0 0 0 0 0 0 0]  ->  [589, 590]\n",
      "[0 0 0 0 0 0 0 0 0 0 0 0 0 0 0 0 0 0 0 0 0 0 0 0 0 0 0 0 0 0 0 0 1 0 0 0 0\n",
      " 0 0 0 0 0 0 0 0 0 0 0 0 0]  ->  [631, 634, 639, 640, 641]\n",
      "[0 0 0 0 0 0 0 0 0 0 0 0 0 0 0 0 0 0 0 0 0 0 0 0 0 0 0 0 0 0 0 1 0 0 0 0 0\n",
      " 0 0 0 0 0 0 0 0 0 0 0 0 0]  ->  [757, 758, 761, 763, 764, 765, 766, 769, 771]\n",
      "[0 0 0 0 0 0 0 0 0 0 0 0 0 0 0 0 0 0 0 0 0 0 0 0 0 0 0 1 0 0 0 0 0 0 0 0 0\n",
      " 0 0 0 0 0 0 0 0 0 0 0 0 0]  ->  [818, 819]\n",
      "[0 0 0 0 0 0 0 0 0 0 0 0 0 0 0 0 0 0 0 0 0 0 0 0 0 0 0 0 0 0 0 0 0 0 1 0 0\n",
      " 0 0 0 0 0 0 0 0 0 0 0 0 0]  ->  [834, 835, 839, 840, 842, 847, 848, 852, 854]\n",
      "[0 0 0 0 0 0 0 0 0 0 0 0 0 0 0 0 0 0 0 1 0 0 0 0 0 0 0 0 0 1 0 0 0 0 0 0 0\n",
      " 0 0 0 0 0 0 0 0 0 0 0 0 0]  ->  [855, 866, 873, 877, 879, 884, 885, 886, 893, 895, 896]\n",
      "[0 0 0 0 0 0 0 1 0 0 0 0 0 0 0 0 0 0 0 0 0 0 0 0 0 0 1 0 0 0 0 0 0 0 0 0 0\n",
      " 0 0 0 0 0 0 0 0 0 0 0 0 0]  ->  [857, 858, 867, 870, 871, 875, 876, 882, 888, 898]\n",
      "[0 0 0 0 0 0 0 0 0 0 0 0 0 0 0 0 0 0 0 0 0 0 0 0 0 0 1 0 0 0 0 0 0 0 0 0 0\n",
      " 0 0 0 0 0 0 0 0 0 0 0 0 0]  ->  [897]\n",
      "[0 0 0 0 0 0 0 0 0 0 0 0 0 0 0 0 0 0 0 0 0 0 0 0 0 0 0 0 0 0 1 0 0 0 0 0 0\n",
      " 0 0 1 0 1 0 0 0 0 0 0 0 1]  ->  [904, 905]\n",
      "[0 0 1 0 0 0 0 0 0 0 0 0 0 0 0 0 0 0 0 0 0 0 0 0 0 0 0 0 0 0 0 0 0 0 0 0 0\n",
      " 0 0 0 0 0 0 0 0 0 0 1 0 0]  ->  [911, 912]\n",
      "[0 0 0 0 0 0 0 0 0 0 0 0 0 0 0 0 0 1 0 0 0 0 0 0 0 0 0 0 0 0 0 0 0 0 0 0 0\n",
      " 1 0 0 0 0 0 0 0 0 0 0 0 0]  ->  [924, 940, 941, 943, 944, 945, 946, 948, 951, 952, 953, 954, 956, 957, 958, 959, 960, 961, 962]\n",
      "[0 0 0 0 0 0 0 0 0 1 0 0 0 0 0 0 0 0 0 0 0 0 0 0 0 0 0 0 0 0 0 0 0 0 0 0 0\n",
      " 0 0 0 0 0 0 0 0 0 0 0 0 0]  ->  [926, 928, 931, 932, 933, 934]\n",
      "[0 0 0 0 0 0 0 0 0 0 0 0 0 0 0 0 0 0 0 0 0 0 0 0 0 0 0 0 0 0 0 0 0 0 0 0 0\n",
      " 0 0 0 1 0 0 0 0 1 0 0 0 0]  ->  [967, 971, 972, 974, 975, 976, 978]\n",
      "\n",
      "- WTA number of buckets:  37\n",
      "\n",
      "- WTA RankedVectors after permutation:\n",
      "[[1 1 1 ... 1 1 1]\n",
      " [2 2 2 ... 2 2 2]\n",
      " [2 2 2 ... 2 2 2]\n",
      " ...\n",
      " [1 1 1 ... 1 1 1]\n",
      " [1 1 1 ... 1 1 1]\n",
      " [1 1 1 ... 1 1 1]]\n",
      "\n",
      "# Finished in 2.5875 secs\n",
      "\n",
      "\n",
      "###########################################################\n",
      "# > 4. Similarity checking                                #\n",
      "###########################################################\n",
      "\n",
      "\n",
      "-> Similarity checking:\n"
     ]
    },
    {
     "data": {
      "application/vnd.jupyter.widget-view+json": {
       "model_id": "df2361c139014d79ba97673bc1ced990",
       "version_major": 2,
       "version_minor": 0
      },
      "text/plain": [
       "HBox(children=(FloatProgress(value=0.0, max=37.0), HTML(value='')))"
      ]
     },
     "metadata": {},
     "output_type": "display_data"
    },
    {
     "name": "stdout",
     "output_type": "stream",
     "text": [
      "[0, 1, 2, 3, 4, 5, 6, 7, 8, 9, 10, 11, 12, 13, 14, 16, 20, 21, 22, 23, 24, 25, 26, 27, 28, 29, 32, 35, 36, 37, 38, 43, 44, 45, 46, 47, 48, 49, 51, 52, 53, 54, 55, 56, 57, 58, 59, 60, 61, 62, 63, 64, 65, 66, 67, 68, 69, 70, 71, 72, 73, 74, 79, 80, 81, 82, 83, 84, 85, 86, 87, 88, 89, 90, 91, 92, 95, 96, 97, 98, 99, 101, 102, 103, 104, 106, 107, 108, 109, 110, 111, 112, 113, 114, 115, 116, 117, 118, 119, 120, 121, 122, 123, 124, 125, 126, 127, 128, 129, 130, 131, 132, 133, 134, 135, 136, 137, 140, 142, 143, 144, 145, 146, 147, 148, 149, 150, 152, 154, 155, 157, 158, 159, 160, 166, 167, 169, 171, 174, 177, 182, 183, 184, 185, 186, 187, 188, 189, 190, 195, 197, 198, 199, 200, 201, 203, 204, 205, 206, 207, 208, 209, 210, 211, 212, 213, 214, 215, 216, 217, 218, 219, 220, 221, 222, 223, 224, 225, 226, 227, 228, 229, 230, 231, 232, 233, 234, 235, 236, 237, 238, 239, 240, 241, 242, 243, 244, 245, 246, 247, 248, 249, 250, 251, 252, 253, 254, 255, 256, 257, 258, 259, 260, 261, 262, 263, 264, 265, 266, 267, 270, 271, 272, 273, 274, 275, 276, 277, 284, 285, 286, 287, 288, 289, 290, 291, 292, 293, 294, 295, 296, 297, 298, 299, 300, 301, 302, 303, 304, 305, 306, 307, 308, 309, 310, 311, 312, 313, 314, 315, 316, 317, 320, 321, 322, 323, 324, 325, 326, 327, 328, 329, 330, 331, 332, 333, 334, 338, 339, 340, 341, 342, 343, 344, 345, 346, 347, 348, 349, 350, 351, 352, 353, 354, 355, 356, 357, 358, 359, 360, 361, 362, 363, 364, 365, 366, 367, 368, 369, 370, 371, 372, 373, 374, 375, 376, 377, 378, 379, 380, 381, 382, 383, 384, 385, 386, 387, 388, 389, 390, 391, 392, 393, 394, 395, 396, 397, 398, 399, 400, 401, 402, 403, 404, 409, 410, 411, 415, 417, 420, 421, 422, 423, 424, 425, 426, 427, 430, 431, 432, 435, 436, 437, 438, 439, 440, 441, 442, 443, 444, 445, 446, 447, 448, 449, 450, 451, 452, 453, 454, 455, 456, 459, 460, 461, 462, 463, 464, 465, 466, 467, 468, 469, 470, 471, 474, 476, 477, 480, 481, 482, 483, 484, 485, 486, 487, 488, 489, 490, 491, 492, 493, 494, 495, 496, 507, 511, 514, 515, 519, 521, 523, 524, 525, 526, 527, 528, 529, 530, 531, 532, 533, 534, 535, 536, 537, 538, 539, 540, 541, 542, 543, 544, 545, 546, 549, 550, 551, 552, 553, 554, 555, 556, 557, 558, 559, 560, 561, 562, 563, 564, 565, 566, 567, 568, 571, 572, 575, 580, 581, 584, 585, 586, 587, 588, 591, 592, 593, 594, 595, 596, 597, 598, 599, 600, 601, 602, 603, 604, 605, 606, 607, 608, 609, 610, 611, 612, 613, 614, 615, 616, 617, 618, 619, 620, 621, 622, 623, 624, 625, 626, 627, 628, 629, 630, 632, 633, 635, 636, 637, 638, 642, 643, 644, 645, 646, 647, 648, 649, 650, 651, 652, 653, 654, 655, 656, 657, 658, 659, 660, 661, 662, 663, 664, 665, 666, 667, 668, 669, 670, 671, 672, 673, 674, 675, 676, 677, 678, 679, 680, 681, 682, 683, 684, 685, 686, 687, 688, 689, 690, 691, 692, 693, 694, 695, 696, 697, 698, 699, 700, 701, 702, 703, 704, 705, 706, 707, 708, 709, 710, 711, 712, 713, 714, 715, 716, 717, 718, 719, 720, 721, 722, 723, 724, 725, 726, 727, 728, 729, 730, 731, 732, 733, 734, 735, 736, 737, 738, 739, 740, 741, 742, 743, 744, 745, 746, 747, 748, 749, 750, 751, 752, 753, 754, 755, 756, 759, 760, 762, 767, 768, 770, 772, 773, 774, 775, 776, 777, 778, 779, 780, 781, 782, 783, 784, 785, 786, 787, 788, 789, 790, 791, 792, 793, 794, 795, 796, 797, 798, 799, 800, 801, 802, 803, 804, 805, 806, 807, 808, 809, 810, 811, 812, 813, 814, 815, 816, 817, 820, 821, 822, 823, 824, 825, 826, 827, 828, 829, 830, 831, 832, 833, 836, 837, 838, 841, 843, 844, 845, 846, 849, 850, 851, 853, 856, 859, 860, 861, 862, 863, 864, 865, 868, 869, 872, 874, 878, 880, 881, 883, 887, 889, 890, 891, 892, 894, 899, 900, 901, 902, 903, 906, 907, 908, 909, 910, 913, 914, 915, 916, 917, 918, 919, 920, 921, 922, 923, 925, 927, 929, 930, 935, 936, 937, 938, 939, 942, 947, 949, 950, 955, 963, 964, 965, 966, 968, 969, 970, 973, 977, 979, 980, 981, 982, 983, 984, 985, 986, 987, 988, 989, 990, 991, 992, 993, 994, 995, 996, 997, 998, 999, 1000, 1001, 1002, 1003, 1004, 1005, 1006, 1007, 1008, 1009, 1010, 1011, 1012, 1013, 1014, 1015, 1016, 1017, 1018, 1019, 1020, 1021, 1022, 1023, 1024, 1025, 1026, 1027, 1028, 1029, 1030, 1031, 1032, 1033, 1034, 1035, 1036, 1037, 1038, 1039, 1040, 1041, 1042, 1043, 1044, 1045, 1046, 1047, 1048, 1049, 1050, 1051, 1052, 1053, 1054, 1055, 1056, 1057, 1058, 1059, 1060, 1061, 1062, 1063, 1064, 1065, 1066, 1067, 1068, 1069, 1070, 1071, 1072, 1073, 1074, 1075, 1076, 1077, 1078, 1079, 1080, 1081, 1082, 1083, 1084, 1085, 1086, 1087, 1088, 1089, 1090, 1091, 1092, 1093, 1094, 1095, 1096, 1097, 1098, 1099, 1100, 1101, 1102, 1103, 1104, 1105, 1106, 1107, 1108, 1109, 1110, 1111, 1112, 1113, 1114, 1115, 1116, 1117, 1118, 1119, 1120, 1121, 1122, 1123, 1124, 1125, 1126, 1127, 1128, 1129, 1130, 1131, 1132, 1133, 1134, 1135, 1136, 1137, 1138, 1139, 1140, 1141, 1142, 1143, 1144, 1145, 1146, 1147, 1148, 1149, 1150, 1151, 1152, 1153, 1154, 1155, 1156, 1157, 1158, 1159, 1160, 1161, 1162, 1163, 1164, 1165, 1166, 1167, 1168, 1169, 1170, 1171, 1172, 1173, 1174, 1175, 1176, 1177, 1178, 1179, 1180, 1181, 1182, 1183, 1184, 1185, 1186, 1187, 1188, 1189, 1190, 1191, 1192, 1193, 1194, 1195, 1196, 1197, 1198, 1199, 1200, 1201, 1202, 1203, 1204, 1205, 1206, 1207, 1208, 1209, 1210, 1211, 1212, 1213, 1214, 1215, 1216, 1217, 1218, 1219, 1220, 1221, 1222, 1223, 1224, 1225, 1226, 1227, 1228, 1229, 1230, 1231, 1232, 1233, 1234, 1235, 1236, 1237, 1238, 1239, 1240, 1241, 1242, 1243, 1244, 1245, 1246, 1247, 1248, 1249, 1250, 1251, 1252, 1253, 1254, 1255, 1256, 1257, 1258, 1259, 1260, 1261, 1262, 1263, 1264, 1265, 1266, 1267, 1268, 1269, 1270, 1271, 1272, 1273, 1274, 1275, 1276, 1277, 1278, 1279, 1280, 1281, 1282, 1283, 1284, 1285, 1286, 1287, 1288, 1289, 1290, 1291, 1292, 1293, 1294]\n"
     ]
    }
   ],
   "source": [
    "%%time\n",
    "\n",
    "ngramms= 3                                  # If jaccard used, n-gramms are used\n",
    "jaccard_withchars = True                    # n-gramms either of chars and either of words\n",
    "\n",
    "# Prototype selection\n",
    "max_numberOf_clusters= 1000                  # Νumber of loops for finding representatives, it is an upper bound of clusters.\n",
    "max_editDistance= 0.5                       # The threshold for the triangle inequality\n",
    "distanceMetric= 'jaccard'                   # Distance metric between the strings when creating the space\n",
    "prototypesFilterThr = 0.5                   # Prototypes must differ more than that threshold\n",
    "\n",
    "# Embedding phase\n",
    "distanceMetricEmbedding = 'jaccard'  # Embedding metric\n",
    "\n",
    "# WTA algorithm\n",
    "windowSize= 30                             # Vector size for WTA algo\n",
    "number_of_permutations = 50                # WTA number of permutations\n",
    "\n",
    "# Similarity evaluation\n",
    "similarityVectors='initial'                  # which vectors will be passed to WTA step\n",
    "similarityThreshold= 0.7                    # Similarity threshold for the final step\n",
    "metric='kendal'                             # Similarity metric between vectors\n",
    "\n",
    "start = time.time()\n",
    "model = RankedWTAHash(\n",
    "    max_numberOf_clusters= max_numberOf_clusters,    \n",
    "    max_editDistance= max_editDistance,    \n",
    "    windowSize= windowSize,    \n",
    "    similarityThreshold= similarityThreshold,    \n",
    "    metric=metric,    \n",
    "    similarityVectors=similarityVectors,    \n",
    "    number_of_permutations = number_of_permutations,\n",
    "    distanceMetric= distanceMetric,\n",
    "    distanceMetricEmbedding = distanceMetricEmbedding,\n",
    "    ngramms= ngramms,\n",
    "    jaccard_withchars = jaccard_withchars,\n",
    "    prototypesFilterThr = prototypesFilterThr\n",
    ")\n",
    "model = model.fit(data)\n",
    "acc,f1,precision,recall = evaluate_cora(model.mapping_matrix,true_matrix)\n",
    "exec_time = time.time() - start\n",
    "results_dataframe.loc[len(results_dataframe)+1] = [max_numberOf_clusters,max_editDistance,similarityThreshold,windowSize,metric,similarityVectors,distanceMetricEmbedding,distanceMetric,number_of_permutations,ngramms,jaccard_withchars,acc,precision,recall,f1,exec_time]"
   ]
  },
  {
   "cell_type": "code",
   "execution_count": null,
   "metadata": {},
   "outputs": [],
   "source": []
  },
  {
   "cell_type": "code",
   "execution_count": 30,
   "metadata": {},
   "outputs": [
    {
     "data": {
      "image/png": "[encoded data removed]",
      "text/plain": [
       "<Figure size 576x360 with 2 Axes>"
      ]
     },
     "metadata": {},
     "output_type": "display_data"
    }
   ],
   "source": [
    "cm = sklearn.metrics.confusion_matrix(true_matrix.argmax(axis=1),model.mapping_matrix.argmax(axis=1),labels=[0,1])\n",
    "create_ConfusionMatrix(cm,'Confusion matrix')"
   ]
  },
  {
   "cell_type": "code",
   "execution_count": 28,
   "metadata": {},
   "outputs": [
    {
     "data": {
      "text/plain": [
       "array([   0,    2,    1, ...,    0, 1294, 1293], dtype=int64)"
      ]
     },
     "execution_count": 28,
     "metadata": {},
     "output_type": "execute_result"
    }
   ],
   "source": [
    "true_matrix.argmax(axis=1)"
   ]
  },
  {
   "cell_type": "code",
   "execution_count": 27,
   "metadata": {},
   "outputs": [
    {
     "data": {
      "text/plain": [
       "array([  18,    2,    0, ...,    0, 1294,    0], dtype=int64)"
      ]
     },
     "execution_count": 27,
     "metadata": {},
     "output_type": "execute_result"
    }
   ],
   "source": [
    "model.mapping_matrix.argmax(axis=1)"
   ]
  },
  {
   "cell_type": "markdown",
   "metadata": {},
   "source": [
    "### CORA: Best Edit distance execution"
   ]
  },
  {
   "cell_type": "code",
   "execution_count": 28,
   "metadata": {
    "scrolled": true
   },
   "outputs": [
    {
     "name": "stdout",
     "output_type": "stream",
     "text": [
      "\n",
      "#####################################################################\n",
      "#     .~ RankedWTAHash with Vantage embeddings starts training ~.   #\n",
      "#####################################################################\n",
      "\n",
      "###########################################################\n",
      "# > 1. Prototype selection phase                          #\n",
      "###########################################################\n",
      "\n",
      "\n",
      "-> Finding prototypes and representatives of each cluster:\n"
     ]
    },
    {
     "data": {
      "application/vnd.jupyter.widget-view+json": {
       "model_id": "31886b4e84904699a82b892c54d26555",
       "version_major": 2,
       "version_minor": 0
      },
      "text/plain": [
       "HBox(children=(FloatProgress(value=0.0, max=1295.0), HTML(value='')))"
      ]
     },
     "metadata": {},
     "output_type": "display_data"
    },
    {
     "name": "stdout",
     "output_type": "stream",
     "text": [
      "\n",
      "60.0\n",
      "Prototypes before:\n",
      "[2, 6, 8, 11, 14, 17, 19, 23, 26, 29, 31, 33, 35, 37, 39, 42, 45, 47, 50, 53, 55, 57, 59, 68, 73, 77, 81, 85, 89, 91, 94, 97, 99, 101, 103, 106, 108, 111, 114, 116, 122, 130, 132, 134, 136, 150, 176, 180, 184, 192, 200, 202, 206, 209, 211, 213, 223, 232, 237, 239, 242, 244, 246, 250, 253, 256, 259, 261, 265, 267, 272, 276, 282, 286, 290, 294, 297, 299, 304, 307, 313, 315, 319, 321, 326, 328, 332, 336, 341, 344, 347, 349, 351, 354, 358, 360, 364, 368, 372, 374, 376, 380, 383, 385, 387, 389, 392, 395, 400, 402, 404, 409, 416, 424, 428, 434, 437, 440, 442, 445, 449, 455, 458, 460, 464, 467, 469, 475, 481, 488, 503, 512, 524, 527, 529, 532, 534, 536, 539, 541, 544, 546, 549, 552, 554, 557, 563, 565, 567, 575, 581, 585, 588, 592, 594, 598, 602, 604, 606, 608, 611, 615, 617, 620, 623, 625, 632, 645, 653, 658, 660, 664, 669, 672, 674, 676, 678, 681, 683, 688, 691, 694, 700, 705, 708, 712, 715, 718, 725, 729, 733, 735, 738, 740, 746, 751, 753, 756, 765, 768, 774, 776, 778, 781, 783, 785, 787, 789, 791, 793, 795, 797, 802, 806, 810, 812, 817, 821, 824, 827, 829, 832, 843, 856, 861, 866, 870, 873, 876, 879, 883, 886, 888, 892, 901, 905, 907, 909, 913, 915, 921, 926, 971, 976, 978, 985, 991, 995, 1000, 1005, 1016, 1018, 1020, 1024, 1027, 1029, 1033, 1035, 1039, 1045, 1047, 1051, 1053, 1055, 1057, 1061, 1064, 1069, 1072, 1077, 1080, 1086, 1091, 1094, 1096, 1098, 1100, 1102, 1104, 1109, 1112, 1118, 1121, 1128, 1131, 1142, 1151, 1156, 1161, 1165, 1168, 1184, 1214, 1220, 1225, 1228, 1230, 1240, 1244, 1246, 1248, 1251, 1253, 1255, 1257, 1263, 1266, 1268, 1272, 1274, 1278, 1281, 1285, 1288, 1290, 1292, 1294]\n",
      "Not wanted:\n",
      "{512, 1027, 1029, 8, 11, 14, 527, 1039, 529, 532, 534, 1047, 536, 26, 1051, 539, 29, 541, 31, 544, 33, 1057, 35, 546, 37, 549, 39, 1055, 42, 45, 557, 47, 1072, 1069, 50, 563, 565, 1077, 567, 1080, 57, 59, 575, 581, 1094, 1096, 73, 585, 1098, 588, 77, 1100, 1102, 592, 1104, 594, 1112, 89, 91, 606, 1118, 608, 97, 611, 101, 103, 1128, 617, 106, 1131, 108, 615, 620, 111, 623, 625, 116, 1142, 632, 122, 1151, 132, 1156, 134, 136, 1161, 1168, 658, 660, 150, 664, 669, 1184, 672, 674, 676, 678, 683, 688, 691, 694, 700, 1214, 192, 705, 1220, 708, 200, 1225, 715, 1228, 206, 209, 211, 213, 725, 1240, 729, 1244, 733, 1246, 735, 1248, 738, 740, 1253, 1255, 232, 746, 751, 753, 1266, 244, 1272, 250, 1274, 253, 765, 1278, 768, 256, 1281, 259, 261, 774, 1288, 776, 778, 267, 1290, 1292, 1294, 783, 272, 785, 787, 276, 791, 793, 282, 795, 797, 290, 802, 294, 806, 297, 810, 299, 812, 304, 817, 307, 821, 824, 313, 315, 827, 829, 319, 832, 328, 843, 332, 336, 341, 344, 347, 349, 861, 351, 354, 866, 358, 870, 360, 873, 364, 876, 879, 368, 883, 372, 374, 886, 376, 888, 380, 892, 383, 385, 387, 389, 901, 905, 907, 909, 400, 913, 402, 915, 404, 409, 921, 926, 416, 428, 434, 442, 445, 449, 971, 460, 464, 976, 978, 467, 469, 985, 475, 995, 488, 1000, 1005, 1016, 1018, 1020}\n",
      "Final:\n",
      "[1024, 2, 130, 645, 6, 1285, 392, 265, 1033, 395, 524, 653, 781, 1035, 1165, 17, 19, 789, 1045, 23, 1053, 286, 1061, 424, 552, 554, 681, 1064, 176, 180, 53, 437, 55, 184, 440, 1086, 321, 1091, 68, 326, 455, 712, 202, 458, 718, 1230, 81, 85, 598, 1109, 856, 602, 604, 94, 223, 991, 481, 1121, 99, 1251, 1257, 237, 239, 1263, 114, 242, 756, 1268, 246, 503]\n",
      "\n",
      "- Prototypes selected\n",
      "[1024    2  130  645    6 1285  392  265 1033  395  524  653  781 1035\n",
      " 1165   17   19  789 1045   23 1053  286 1061  424  552  554  681 1064\n",
      "  176  180   53  437   55  184  440 1086  321 1091   68  326  455  712\n",
      "  202  458  718 1230   81   85  598 1109  856  602  604   94  223  991\n",
      "  481 1121   99 1251 1257  237  239 1263  114  242  756 1268  246  503]\n",
      "1024  ->  m kearns y mansour a y ng and d ron july pages 2130 an experimental and theoretical comparison of model selection methods in proceedings of the eighth annual conference on computational learning theory 1995\n",
      "2  ->  avrim blum merrick furst michael kearns and richard j lipton pages 2412410 cryptographic primitives based on hard learning problems in preproceedings of crypto 93 1993\n",
      "130  ->  boston ma ehrenfeucht a haussler d kearns m and valiant lg 139154 morgan kaufmann a general lower bound on the number of examples needed for learning in proceedings of the first workshop on computational learning theory 1988\n",
      "645  ->  kearns m j li m pitt l and valiant l pages 285295 on the learnability of boolean formulae in proceedings of the nineteenth annual acm symposium on theory of computing stoc87 1987a\n",
      "6  ->  montreal canada blum a furst m jackson j kearns m mansour y  rudich s pp 253262 acm press weakly learning dnf and characterizing statistical query learning using fourier analysis in proceedings of the twentysixth annual acm symposium on theory of computing 1994\n",
      "1285  ->  r e schapire pages 313321 morgan kaufmann using output codes to boost multiclass learning problems in machine learning proceedings of the fourteenth international conference icml 97 1997\n",
      "392  ->  freund y and schapire re unpublished manuscript 1996a available at httpwwwresearchattcomyoav a decisiontheoretic generalization of online learn ing and an application to boosting\n",
      "265  ->  yoav freund university of california at santa cruz retrievable from ftpcseucscedupubtrucsccrl9337psz data filtering and distribution modeling algorithms for machine learning phd thesis 1993\n",
      "1033  ->  cambridge ma kearns m touretzky d s mozer m c and hasselmo m e eds 183189 the mit press a bound on the error of cross validation using the approximation and estimation rates with consequences for the trainingtest split in advances in neural information processing 8 1996\n",
      "395  ->  freund y  schapire r e available from the authors home pages httpwwwresearchattcomorgsssrpeoplefyoavschapireg a decisiontheoretic generalization of online learning and an application to boosting unpublished manuscript 1996a\n",
      "524  ->  san mateo ca august 1991 d haussler m kearns and r schapire in m k warmuth and l g valiant editors morgan kaufmann inc bounds on the sample complexity of bayesian learning using information theory and the vc dimension proceedings of the fourth annual workshop on computational learning theory pages 6174\n",
      "653  ->  m kearns m li l pitt and l valiant pages 285295 acm on the learnability of boolean formulae in proc 19th stoc 1987\n",
      "781  ->  kearns m  schapire r 382391 ieee computer society press efficient distributionfree learning of probabilistic concepts proceedings of the 31st annual symposium on the foundations of computer science pp 1990\n",
      "1035  ->  m kearns to appear in neural computation pages 183189 a bound on the error of cross validation with consequences for the trainingtest split in advances in neural information processing systems 8 1996\n",
      "1165  ->  robert e schapire yoav freund peter bartlett and wee sun lee to appear boosting the margin a new explanation for the effectiveness of voting methods annals of statistics\n",
      "17  ->  nicolo cesabianchi yoav freund david p helmbold david haussler robert e schapire and manfred k warmuth may pages 382391 how to use expert advice in proceedings of the twentyfifth annual acm symposium on the theory of computing 1993\n",
      "19  ->  n cesabianchi y freund d helmbold d haussler r schapire and m k warmuth to appear in journal of the association for computing machinery pages 382391 morgan kaufmann how to use expert advice in proceedings of the twentyfifth annual acm symposium on the theory of computing 1993\n",
      "789  ->  michael j kearns and robert e schapire october to appear journal of computer and system sciences pages 382391 efficient distributionfree learning of probabilistic concepts in 31st annual symposium on foundations of computer science 1990\n",
      "1045  ->  michael kearns and yishay mansour pages 459468 acm press on the boosting ability of topdown decision tree learning algorithms proceedings of the 28th annual acm symposium on the theory of computing 1996\n",
      "23  ->  pages 382391 cesabianchi n y freund d p helmbold d haussler and r e schapire a nd m k warmuth how to use expert advice 1995\n",
      "1053  ->  m kearns y mansour a ng an informationtheoretic analysis of hard and soft assignment methods for clustering proc 13th conference on uncertainty in artificial intelligence 1997\n",
      "286  ->  y freund and r e schapire 20 christopher merz pages 2337 springerverlag a decisiontheoretic generalization of online learning and an application to boosting in proceedings of the second european conference on computational learning theory 1995\n",
      "1061  ->  zurich switzerland lewis d d schapire r e callan j p  papka r 298315 training algorithms for linear text classifiers proceedings of the nineteenth annual international acm sigir conference on research and development in information retrieval pp 1996\n",
      "424  ->  yoav freund robert e schapire yoram singer and manfred k warmuth pages 334343 using and combining predictors that specialize in proceedings of the twentyninth annual acm symposium on the theory of computing 1997\n",
      "552  ->  haussler d kearns m seung h s  tishby n pp 7687 acm press rigorous learning curve bounds from statistical mechanics in proceedings of the seventh annual acm conference on computational learning theory 1994\n",
      "554  ->  haussler d kearns m seung h s and tishby n pp 6775 rigorous learning curve bounds from statistical mechanics in colt 1994 1994\n",
      "681  ->  irvine ca kearns m li m pitt l  valiant l g 337352 morgan kaufmann recent results on boolean concept learning proceedings of the fourth international workshop on machine learning pp 1987\n",
      "1064  ->  lewis d schapire r callan j and papka r training algorithms for linear text classifiers in proceedings of acm sigir conference 1996\n",
      "176  ->  m feder y freund and y mansour page 233 ieee optimal universal learning and prediction of probabilistic concepts in proc of ieee information theory conference 1995\n",
      "180  ->  yoav freund and robert e schapire to appear adaptive game playing using multiplicative weights games and economic behavior\n",
      "53  ->  oxford 1994 n cesabianchi y freund d p helmbold and m warmuth pages 205216 oxford university press online prediction and conversion strategies in computational learning theory eurocolt 93 volume new series number 53 of the institute of mathematics and its applications conference series\n",
      "437  ->  sally a goldman ronald l rivest and robert e schapire october pages 4651 learning binary relations and total orders in proceedings of the thirtieth annual symposium on foundations of computer science 1989\n",
      "55  ->  cesabianchi n freund y helmbold d p and warmuth m pages 205216 oxford oxford university press online prediction and conversion strategies in computational learning theory eurocolt 93 1994\n",
      "184  ->  freund y pp 202216 boosting a weak learning algorithm by majority in proceedings of the third annual workshop on computational learning theory 1990\n",
      "440  ->  st louis mo goldman s kearns m  schapire r pp 193202 ieee computer society press exact identification of circuits using fixed points of amplification functions in proceedings of the thirtyfirst annual symposium on foundations of computer science 1990\n",
      "1086  ->  irvine ca r l rivest and r e schapire june pages 364375 a new approach to unsupervised learning in deterministic environments in pat langley editor proceedings of the fourth international workshop on machine learning 1987\n",
      "321  ->  y freund and d ron pages 4150 learning to model sequences generated by switching distributions in proceedings of the eighth annual acm conference on computational learning theory colt 1995\n",
      "1091  ->  rivest r l  schapire r e pp 7887 diversitybased inference of finite automata in proceedings of the 28th ieee symp on foundations of computer science 1987\n",
      "68  ->  santa cruz ca n cesabianchi y freund d haussler d p helmbold r e schapire and m k warmuth univ of calif computer research lab an extended abstract appeared in stoc 93 how to use expert advice technical report ucsccrl9433 1994\n",
      "326  ->  y freund m kearns y mansour d ron r rubinfeld and r e schapire pages 332341 efficient algorithms for learning to play repeated games against computationally bounded adversaries in proceedings of the thirty sixth annual symposium on foundations of computer science 1995\n",
      "455  ->  san mateo ca s a goldman m j kearns and r e schapire pages 217231 morgan kaufmann on the sample complexity of weak learning in proc 3rd annu workshop on comput learning theory 1990\n",
      "712  ->  michael kearns and leslie g valiant harvard university aiken computation laboratory learning boolean formulae or finite au tomata is as hard as factoring technical report tr 1488 1988\n",
      "202  ->  san mateo ca yoav freund h sebastian seung eli shamir and naftali tishby in stephen jose hanson jack d cowan and c lee giles editors pages 483490 morgan kaufmann information prediction and query by committee advances in neural information processing systems volume 5 1993\n",
      "458  ->  sally a goldman ronald l rivest and robert e schapire mit laboratory for computer science may a preliminary version is available in proceedings of the thirtieth annual symposium on foundations of computer science pages 4651 learning binary relations and total orders technical report mitlcstm413 1989\n",
      "718  ->  kearns m and valiant l g assoc comput mach cryptographic limitations on learning boolean formulae and finite automata in proceedings of 21 st annual acm symposium on theory of computing 1989\n",
      "1230  ->  cambridge ma r e schapire the mit press the design and analysis of efficient learning algorithms acm distinguished dissertation awards series 1991\n",
      "81  ->  william w cohen robert e schapire and yoram singer learning to order things in advances in neural information processing systems 10 1998\n",
      "85  ->  bari italy dietterich t kearns m  mansour y applying the weak learning framework to understand and improve c45 in proceedings of the thirteenth international conference on machine learning 1996\n",
      "598  ->  d p helmbold r e schapire y singer and m k warmuth pages 6978 a comparison of new and old algorithms for a mixture estimation problem in proceedingsof the eighth annual workshop on computationallearning theory 1995\n",
      "1109  ->  ronald l rivest and robert e schapire pages 411420 inference of finite automata using homing sequences in proceedings of the twenty first annual acm symposium on theoretical computing 1989\n",
      "856  ->  new york 392401 1993 mj kearns acm press efficient noisetolerant learning from statistical queries in proc 25th acm symp on theory of computing\n",
      "602  ->  d helmbold r schapire y singer and m warmuth online portfolio selection using multiplicative upyears in machine learning proceedings of the 13th international conference 1996\n",
      "604  ->  san francisco to appear helmbold d p schapire r e singer y and warmuth m k morgan kaufmann online portfolio selection using multiplicative upyears in proceedings 13th international conference on machine learning 1996c\n",
      "94  ->  h drucker r schapire and p simard in steven j hanson jack d cowan and c lee giles editors pages 4249 morgan kaufmann improving performance in neural networks using a boosting algorithm advances in neural information processing systems volume 5 1993\n",
      "223  ->  yoav freund pages 391398 acm press an improved boosting algorithm and its implications on learning complexity in proceedings of the fifth annual acm workshop on computational learning theory 1992\n",
      "991  ->  m kearns and l valiant an extended abstract of this paper appeared in stoc89 6795 cryptographic limitations on learning boolean formulae and finite automata journal of the association for computing machinery 41 1994\n",
      "481  ->  s a goldman m j kearns and r e schapire 705726 exact identification of readonce formulas using fixed points of amplification functions siam j comput 224 1993\n",
      "1121  ->  r rivest internet engineering task force apr schulzrinnecasnerfrederickjacobson expires 9195 page 62 the md5 messagedigest algorithm request for comments informational rfc 1321 1992\n",
      "99  ->  r  hart p in hanson s j cowan j d  giles c l eds morgan kaufmann 198 duda pp 4249 addisonwesley pattern classification and scene analysis advances in neural information processing systems volume 5 1973\n",
      "1251  ->  san francisco ca schapire r e and warmuth m k to appear in machine learning pp 266274 morgan kaufmann on the worstcase analysis of temporaldifference learing algorithms in proceddings 11th international conference on machine learning 1994\n",
      "1257  ->  r e schapire and l m sellie 201213 learning sparse multivariate polynomials over a field with queries and counterexamples j of computer and system sciences 522 1996\n",
      "237  ->  y freund and d haussler pages 912919 morgan kaufmann publishers unsupervised learning of distributions on binary vectors using 2layer networks in advances in neural information processing systems 4 1992\n",
      "239  ->  san mateo ca freund y and haussler d morgan kaufmann publishers unsupervised learning of distributions on binary vectors using two layer networks pp 912919 in neural information processing systems 4 edited by jmoody sjhanson and rplippmann 1992\n",
      "1263  ->  schapire r e freund y bartlett p  lee w s in d fisher ed 322330 pp morgan kaufmann boosting the margin a new explanation for the effectiveness of voting methods machine learning proceedings of the fourteenth international conference 1997\n",
      "114  ->  harris drucker robert schapire and patrice simard 705719 boosting performance in neural networks international journal of pattern recognition and artificial intelligence 74 1993\n",
      "242  ->  y freund m kearns d ron r rubinfeld re schapire and l sellie pages 315324 efficient learning of typical finite automata from random walks in proceedings of the 24th annual acm symposium on theory of computing 1993\n",
      "756  ->  m kearns l pitt pp 5771 morgan kaufmann publishers a polynomialtime algorithm for learning kvariable pattern languages from examples proceedings of the 1989 workshop on computational learning theory 1989\n",
      "1268  ->  schapire re freund y bartlett p and lee ws morgan kaufmann 1997 322330 boosting the margin a new explanation for the effectiveness of voting methods proceedings of the 11th international conference on machine learning\n",
      "246  ->  yoav freund michael kearns dana ron ronitt rubinfeld robert schapire and linda sellie pp 315324 efficient learning of typical finite automata from random walks stoc93\n",
      "503  ->  d haussler m kearns n littlestone and m k warmuth 129161 equivalence of models for polynomial learnability information and computation 95 1991\n"
     ]
    },
    {
     "data": {
      "image/png": "[encoded data removed]",
      "text/plain": [
       "<Figure size 720x720 with 2 Axes>"
      ]
     },
     "metadata": {},
     "output_type": "display_data"
    },
    {
     "name": "stdout",
     "output_type": "stream",
     "text": [
      "\n",
      "- Mean variance in prototype selection:  156.75061224489795\n",
      "\n",
      "- Final number of prototypes:  70\n",
      "\n",
      "# Finished in 2.5804 secs\n",
      "\n",
      "\n",
      "###########################################################\n",
      "# > 2. Embeddings based on the Vantage objects            #\n",
      "###########################################################\n",
      "\n",
      "\n",
      "-> Creating Embeddings:\n"
     ]
    },
    {
     "data": {
      "application/vnd.jupyter.widget-view+json": {
       "model_id": "830ca38e962a42708cd7a9e39b0fdd32",
       "version_major": 2,
       "version_minor": 0
      },
      "text/plain": [
       "HBox(children=(FloatProgress(value=0.0, max=1295.0), HTML(value='')))"
      ]
     },
     "metadata": {},
     "output_type": "display_data"
    },
    {
     "name": "stdout",
     "output_type": "stream",
     "text": [
      "\n",
      "- Embeddings created\n",
      "[[17 14 27 ... 28 26 19]\n",
      " [28  1 33 ... 36 11  3]\n",
      " [33  1 34 ... 37 10  6]\n",
      " ...\n",
      " [29 15 35 ... 34 16  7]\n",
      " [29 14 37 ... 34 13  9]\n",
      " [32 17 40 ... 36 15 11]]\n",
      "\n",
      "# Finished in 3.0969 secs\n",
      "\n",
      "\n",
      "###########################################################\n",
      "# > 3. WTA Hashing                                        #\n",
      "###########################################################\n",
      "\n",
      "\n",
      "-> Creating WTA Buckets:\n",
      "- WTA buckets: \n",
      "[18  3 16 30 20]  ->  [0, 4, 23, 24, 25, 51, 54, 57, 66, 68, 69, 70, 82, 98, 104, 112, 117, 118, 119, 120, 121, 123, 131, 175, 176, 177, 178, 179, 180, 203, 243, 246, 262, 265, 270, 271, 273, 274, 275, 276, 277, 278, 279, 280, 281, 282, 283, 306, 307, 315, 318, 319, 327, 339, 345, 359, 373, 376, 379, 382, 383, 385, 386, 387, 390, 391, 392, 393, 394, 395, 399, 400, 401, 403, 405, 406, 408, 412, 413, 414, 416, 417, 421, 430, 431, 441, 486, 487, 489, 610, 611, 612, 613, 618, 619, 622, 624, 626, 627, 628, 629, 631, 633, 634, 635, 636, 637, 639, 640, 641, 689, 705, 711, 713, 726, 728, 742, 743, 757, 758, 760, 762, 768, 769, 770, 771, 773, 775, 776, 778, 784, 785, 787, 790, 794, 795, 797, 804, 805, 806, 820, 821, 826, 834, 839, 840, 842, 847, 848, 852, 868, 872, 878, 880, 894, 897, 911, 912, 914, 915, 919, 921, 968, 969, 977, 982, 992, 993, 998, 1000, 1005, 1007, 1008, 1009, 1011, 1021, 1026, 1033, 1036, 1037, 1046, 1047, 1049, 1050, 1051, 1052, 1053, 1057, 1060, 1074, 1081, 1095, 1110, 1117, 1120, 1121, 1122, 1123, 1124, 1125, 1126, 1127, 1128, 1129, 1131, 1132, 1133, 1134, 1136, 1137, 1138, 1141, 1143, 1146, 1147, 1150, 1153, 1154, 1155, 1157, 1158, 1164, 1165, 1166, 1169, 1171, 1172, 1180, 1186, 1191, 1197, 1198, 1199, 1200, 1203, 1207, 1208, 1209, 1210, 1212, 1213, 1214, 1216, 1217, 1220, 1221, 1227, 1228, 1232, 1233, 1241, 1243, 1244, 1248, 1256, 1257, 1258, 1259, 1264, 1266, 1267, 1270, 1273, 1275, 1280, 1281, 1287, 1291, 1293, 1294]\n",
      "[ 9 25  2 36 20]  ->  [1, 2, 5, 6, 7, 8, 9, 10, 11, 12, 13, 14, 15, 16, 17, 18, 19, 20, 21, 22, 26, 27, 28, 29, 30, 31, 32, 33, 34, 35, 36, 37, 38, 39, 40, 41, 42, 43, 44, 45, 46, 47, 48, 49, 50, 52, 53, 55, 56, 58, 60, 61, 62, 63, 64, 65, 67, 71, 72, 73, 74, 75, 76, 77, 78, 83, 84, 86, 87, 88, 89, 90, 91, 92, 99, 103, 105, 108, 111, 116, 128, 129, 130, 132, 133, 134, 135, 136, 137, 138, 139, 140, 141, 142, 143, 144, 145, 146, 147, 148, 149, 150, 151, 152, 154, 155, 156, 157, 158, 159, 160, 161, 162, 164, 166, 167, 168, 169, 171, 172, 173, 174, 185, 187, 190, 192, 195, 197, 199, 200, 201, 202, 204, 205, 206, 207, 208, 209, 210, 211, 212, 213, 216, 217, 218, 222, 226, 227, 229, 233, 234, 235, 236, 237, 238, 239, 240, 241, 242, 244, 245, 247, 248, 249, 250, 251, 252, 253, 254, 255, 256, 257, 258, 259, 260, 261, 264, 266, 267, 268, 269, 272, 285, 286, 288, 289, 290, 291, 292, 293, 294, 295, 296, 297, 298, 299, 300, 301, 302, 303, 309, 311, 312, 313, 317, 322, 325, 326, 328, 330, 333, 334, 343, 346, 347, 348, 352, 354, 355, 361, 362, 365, 367, 370, 371, 374, 375, 377, 378, 384, 389, 402, 404, 407, 411, 422, 423, 424, 425, 426, 427, 428, 429, 433, 434, 455, 456, 462, 465, 467, 468, 471, 494, 496, 497, 498, 499, 500, 501, 502, 503, 504, 505, 506, 507, 508, 509, 510, 511, 512, 513, 514, 515, 516, 517, 518, 519, 520, 521, 522, 523, 525, 526, 527, 529, 530, 531, 532, 534, 535, 536, 538, 539, 540, 542, 543, 544, 545, 546, 547, 548, 549, 550, 551, 553, 554, 555, 557, 558, 559, 560, 561, 562, 563, 564, 565, 566, 571, 572, 573, 574, 575, 576, 577, 578, 579, 580, 581, 582, 584, 585, 586, 587, 588, 591, 593, 594, 595, 596, 597, 598, 600, 601, 602, 603, 604, 605, 606, 607, 608, 614, 617, 621, 623, 625, 630, 632, 643, 644, 648, 649, 651, 652, 653, 659, 660, 662, 663, 666, 667, 668, 669, 670, 671, 672, 674, 675, 676, 679, 680, 681, 682, 683, 684, 685, 691, 703, 714, 715, 722, 724, 725, 727, 729, 730, 732, 733, 734, 735, 736, 737, 738, 739, 741, 744, 747, 748, 749, 750, 752, 753, 754, 755, 756, 759, 763, 764, 765, 766, 772, 774, 779, 807, 810, 813, 818, 819, 822, 823, 825, 827, 828, 830, 831, 832, 833, 835, 836, 837, 838, 841, 843, 844, 845, 846, 849, 850, 851, 854, 855, 856, 859, 864, 866, 873, 874, 877, 879, 883, 884, 885, 886, 887, 891, 893, 895, 896, 899, 901, 902, 903, 904, 905, 906, 907, 908, 909, 910, 913, 916, 917, 918, 920, 922, 923, 924, 925, 926, 927, 928, 929, 930, 931, 932, 933, 934, 935, 936, 937, 938, 939, 940, 941, 942, 943, 944, 945, 946, 947, 948, 949, 950, 951, 952, 953, 954, 955, 956, 957, 958, 959, 960, 961, 962, 963, 964, 965, 979, 981, 983, 984, 985, 986, 987, 988, 989, 990, 991, 994, 996, 997, 999, 1001, 1004, 1006, 1010, 1013, 1014, 1015, 1016, 1017, 1018, 1022, 1024, 1027, 1028, 1029, 1030, 1031, 1034, 1035, 1038, 1039, 1040, 1041, 1044, 1045, 1054, 1058, 1059, 1062, 1063, 1064, 1066, 1070, 1071, 1072, 1076, 1083, 1084, 1088, 1176, 1182, 1189, 1190, 1195, 1222, 1223, 1224, 1230, 1245, 1250, 1251, 1252, 1253, 1255, 1260, 1261, 1262, 1263, 1265, 1268, 1269, 1271, 1272, 1274, 1276, 1277, 1278, 1279, 1282, 1283, 1284, 1285, 1286]\n",
      "[ 9  3  2 30 20]  ->  [3, 59, 115, 126, 214, 263, 284, 409, 418, 470, 609, 615, 616, 638, 690, 704, 709, 745, 746, 761, 767, 777, 853, 888, 980, 995, 1002, 1003, 1019, 1020, 1032, 1170, 1173, 1174, 1175, 1177, 1178, 1179, 1181, 1183, 1184, 1185, 1187, 1188, 1192, 1193, 1194, 1196, 1201, 1202, 1204, 1205, 1206, 1211, 1218, 1219]\n",
      "[18  3 16 30  0]  ->  [79, 80, 81, 109, 113, 114, 122, 124, 125, 127, 287, 314, 316, 344, 350, 368, 369, 372, 380, 410, 415, 419, 420, 435, 442, 472, 473, 474, 475, 477, 480, 481, 484, 485, 488, 490, 491, 493, 495, 599, 620, 645, 686, 687, 688, 692, 710, 712, 751, 781, 782, 786, 789, 791, 793, 801, 803, 857, 858, 860, 861, 862, 865, 867, 869, 870, 875, 876, 881, 889, 890, 892, 898, 966, 967, 970, 971, 972, 974, 975, 976, 978, 1012, 1067, 1068, 1069, 1078, 1079, 1089, 1090, 1091, 1092, 1093, 1094, 1096, 1098, 1099, 1100, 1102, 1103, 1104, 1107, 1109, 1118, 1119, 1130, 1135, 1139, 1140, 1142, 1144, 1145, 1148, 1149, 1151, 1152, 1156, 1159, 1160, 1161, 1162, 1163, 1167, 1168, 1215, 1225, 1226, 1229, 1231, 1234, 1235, 1236, 1237, 1238, 1239, 1240, 1242, 1247, 1292]\n",
      "[ 9 30 13 26  0]  ->  [85, 93, 94, 95, 96, 97, 101, 102, 106, 107, 110, 181, 182, 183, 184, 186, 188, 189, 191, 193, 194, 196, 198, 215, 219, 223, 224, 225, 228, 230, 231, 232, 305, 320, 321, 329, 331, 332, 335, 336, 337, 338, 342, 349, 351, 353, 357, 358, 360, 363, 366, 381, 388, 440, 447, 450, 454, 459, 460, 463, 464, 466, 478, 479, 528, 533, 537, 541, 552, 556, 568, 569, 570, 583, 589, 647, 654, 655, 658, 661, 664, 673, 678, 693, 694, 697, 698, 706, 708, 716, 718, 719, 720, 721, 723, 731, 740, 808, 809, 812, 814, 815, 816, 817, 824, 829, 863, 900, 1023, 1025, 1042, 1043, 1048, 1082, 1085, 1086, 1087, 1105, 1246, 1249, 1254, 1288, 1289, 1290]\n",
      "[ 9 25  2 26  0]  ->  [100, 153, 163, 165, 170, 304, 364, 451, 453, 567, 642, 656, 657, 665, 677]\n",
      "[32 30 13 26  0]  ->  [220, 221, 448, 452, 461, 469, 590, 780, 811, 973, 1056, 1111]\n",
      "[35  5  3 15  0]  ->  [308]\n",
      "[35  5  3 15 30]  ->  [310]\n",
      "[32 30 12 26  0]  ->  [323, 592]\n",
      "[ 4  5 13 15  0]  ->  [324]\n",
      "[18 30 13 26  0]  ->  [340, 341, 356, 436, 437, 438, 439, 443, 444, 445, 446, 449, 457, 458, 476, 482, 483, 646, 650, 695, 696, 699, 700, 701, 702, 707, 783, 788, 792, 796, 798, 799, 800, 802, 1055, 1065, 1106, 1108, 1112, 1113, 1114, 1115, 1116]\n",
      "[ 4  5 27 31 29]  ->  [396]\n",
      "[ 4 15 27 31 27]  ->  [397]\n",
      "[ 4  5 27 31 27]  ->  [398]\n",
      "[18  3 16 30 24]  ->  [432, 1075, 1077, 1080, 1101]\n",
      "[18  3 16 30 22]  ->  [492]\n",
      "[35 25  2 15 20]  ->  [524]\n",
      "[18  3 13 26  0]  ->  [717, 882, 1061, 1097]\n",
      "[ 9  3  2 26  0]  ->  [871]\n",
      "[35  5 27 15 27]  ->  [1073]\n",
      "\n",
      "- WTA number of buckets:  21\n",
      "\n",
      "- WTA RankedVectors after permutation:\n",
      "[[37  3 30 ... 17 24 21]\n",
      " [51 23 38 ... 12 35 16]\n",
      " [51 26 40 ... 17 34 18]\n",
      " ...\n",
      " [50 28 27 ... 24 31  9]\n",
      " [53 26 37 ... 23 32  8]\n",
      " [54 30 39 ... 27 34  9]]\n",
      "\n",
      "# Finished in 0.3684 secs\n",
      "\n",
      "\n",
      "###########################################################\n",
      "# > 4. Similarity checking                                #\n",
      "###########################################################\n",
      "\n",
      "\n",
      "-> Similarity checking:\n"
     ]
    },
    {
     "data": {
      "application/vnd.jupyter.widget-view+json": {
       "model_id": "5944bb31432e4cc1ab23cbc6aabaf8cb",
       "version_major": 2,
       "version_minor": 0
      },
      "text/plain": [
       "HBox(children=(FloatProgress(value=0.0, max=21.0), HTML(value='')))"
      ]
     },
     "metadata": {},
     "output_type": "display_data"
    },
    {
     "name": "stdout",
     "output_type": "stream",
     "text": [
      "[0, 4, 23, 24, 25, 51, 54, 57, 66, 68, 69, 70, 82, 98, 104, 112, 117, 118, 119, 120, 121, 123, 131, 175, 176, 177, 178, 179, 180, 203, 243, 246, 262, 265, 270, 271, 273, 274, 275, 276, 277, 278, 279, 280, 281, 282, 283, 306, 307, 315, 318, 319, 327, 339, 345, 359, 373, 376, 379, 382, 383, 385, 386, 387, 390, 391, 392, 393, 394, 395, 399, 400, 401, 403, 405, 406, 408, 412, 413, 414, 416, 417, 421, 430, 431, 441, 486, 487, 489, 610, 611, 612, 613, 618, 619, 622, 624, 626, 627, 628, 629, 631, 633, 634, 635, 636, 637, 639, 640, 641, 689, 705, 711, 713, 726, 728, 742, 743, 757, 758, 760, 762, 768, 769, 770, 771, 773, 775, 776, 778, 784, 785, 787, 790, 794, 795, 797, 804, 805, 806, 820, 821, 826, 834, 839, 840, 842, 847, 848, 852, 868, 872, 878, 880, 894, 897, 911, 912, 914, 915, 919, 921, 968, 969, 977, 982, 992, 993, 998, 1000, 1005, 1007, 1008, 1009, 1011, 1021, 1026, 1033, 1036, 1037, 1046, 1047, 1049, 1050, 1051, 1052, 1053, 1057, 1060, 1074, 1081, 1095, 1110, 1117, 1120, 1121, 1122, 1123, 1124, 1125, 1126, 1127, 1128, 1129, 1131, 1132, 1133, 1134, 1136, 1137, 1138, 1141, 1143, 1146, 1147, 1150, 1153, 1154, 1155, 1157, 1158, 1164, 1165, 1166, 1169, 1171, 1172, 1180, 1186, 1191, 1197, 1198, 1199, 1200, 1203, 1207, 1208, 1209, 1210, 1212, 1213, 1214, 1216, 1217, 1220, 1221, 1227, 1228, 1232, 1233, 1241, 1243, 1244, 1248, 1256, 1257, 1258, 1259, 1264, 1266, 1267, 1270, 1273, 1275, 1280, 1281, 1287, 1291, 1293, 1294]\n",
      "[1, 2, 5, 6, 7, 8, 9, 10, 11, 12, 13, 14, 15, 16, 17, 18, 19, 20, 21, 22, 26, 27, 28, 29, 30, 31, 32, 33, 34, 35, 36, 37, 38, 39, 40, 41, 42, 43, 44, 45, 46, 47, 48, 49, 50, 52, 53, 55, 56, 58, 60, 61, 62, 63, 64, 65, 67, 71, 72, 73, 74, 75, 76, 77, 78, 83, 84, 86, 87, 88, 89, 90, 91, 92, 99, 103, 105, 108, 111, 116, 128, 129, 130, 132, 133, 134, 135, 136, 137, 138, 139, 140, 141, 142, 143, 144, 145, 146, 147, 148, 149, 150, 151, 152, 154, 155, 156, 157, 158, 159, 160, 161, 162, 164, 166, 167, 168, 169, 171, 172, 173, 174, 185, 187, 190, 192, 195, 197, 199, 200, 201, 202, 204, 205, 206, 207, 208, 209, 210, 211, 212, 213, 216, 217, 218, 222, 226, 227, 229, 233, 234, 235, 236, 237, 238, 239, 240, 241, 242, 244, 245, 247, 248, 249, 250, 251, 252, 253, 254, 255, 256, 257, 258, 259, 260, 261, 264, 266, 267, 268, 269, 272, 285, 286, 288, 289, 290, 291, 292, 293, 294, 295, 296, 297, 298, 299, 300, 301, 302, 303, 309, 311, 312, 313, 317, 322, 325, 326, 328, 330, 333, 334, 343, 346, 347, 348, 352, 354, 355, 361, 362, 365, 367, 370, 371, 374, 375, 377, 378, 384, 389, 402, 404, 407, 411, 422, 423, 424, 425, 426, 427, 428, 429, 433, 434, 455, 456, 462, 465, 467, 468, 471, 494, 496, 497, 498, 499, 500, 501, 502, 503, 504, 505, 506, 507, 508, 509, 510, 511, 512, 513, 514, 515, 516, 517, 518, 519, 520, 521, 522, 523, 525, 526, 527, 529, 530, 531, 532, 534, 535, 536, 538, 539, 540, 542, 543, 544, 545, 546, 547, 548, 549, 550, 551, 553, 554, 555, 557, 558, 559, 560, 561, 562, 563, 564, 565, 566, 571, 572, 573, 574, 575, 576, 577, 578, 579, 580, 581, 582, 584, 585, 586, 587, 588, 591, 593, 594, 595, 596, 597, 598, 600, 601, 602, 603, 604, 605, 606, 607, 608, 614, 617, 621, 623, 625, 630, 632, 643, 644, 648, 649, 651, 652, 653, 659, 660, 662, 663, 666, 667, 668, 669, 670, 671, 672, 674, 675, 676, 679, 680, 681, 682, 683, 684, 685, 691, 703, 714, 715, 722, 724, 725, 727, 729, 730, 732, 733, 734, 735, 736, 737, 738, 739, 741, 744, 747, 748, 749, 750, 752, 753, 754, 755, 756, 759, 763, 764, 765, 766, 772, 774, 779, 807, 810, 813, 818, 819, 822, 823, 825, 827, 828, 830, 831, 832, 833, 835, 836, 837, 838, 841, 843, 844, 845, 846, 849, 850, 851, 854, 855, 856, 859, 864, 866, 873, 874, 877, 879, 883, 884, 885, 886, 887, 891, 893, 895, 896, 899, 901, 902, 903, 904, 905, 906, 907, 908, 909, 910, 913, 916, 917, 918, 920, 922, 923, 924, 925, 926, 927, 928, 929, 930, 931, 932, 933, 934, 935, 936, 937, 938, 939, 940, 941, 942, 943, 944, 945, 946, 947, 948, 949, 950, 951, 952, 953, 954, 955, 956, 957, 958, 959, 960, 961, 962, 963, 964, 965, 979, 981, 983, 984, 985, 986, 987, 988, 989, 990, 991, 994, 996, 997, 999, 1001, 1004, 1006, 1010, 1013, 1014, 1015, 1016, 1017, 1018, 1022, 1024, 1027, 1028, 1029, 1030, 1031, 1034, 1035, 1038, 1039, 1040, 1041, 1044, 1045, 1054, 1058, 1059, 1062, 1063, 1064, 1066, 1070, 1071, 1072, 1076, 1083, 1084, 1088, 1176, 1182, 1189, 1190, 1195, 1222, 1223, 1224, 1230, 1245, 1250, 1251, 1252, 1253, 1255, 1260, 1261, 1262, 1263, 1265, 1268, 1269, 1271, 1272, 1274, 1276, 1277, 1278, 1279, 1282, 1283, 1284, 1285, 1286]\n",
      "[3, 59, 115, 126, 214, 263, 284, 409, 418, 470, 609, 615, 616, 638, 690, 704, 709, 745, 746, 761, 767, 777, 853, 888, 980, 995, 1002, 1003, 1019, 1020, 1032, 1170, 1173, 1174, 1175, 1177, 1178, 1179, 1181, 1183, 1184, 1185, 1187, 1188, 1192, 1193, 1194, 1196, 1201, 1202, 1204, 1205, 1206, 1211, 1218, 1219]\n",
      "[79, 80, 81, 109, 113, 114, 122, 124, 125, 127, 287, 314, 316, 344, 350, 368, 369, 372, 380, 410, 415, 419, 420, 435, 442, 472, 473, 474, 475, 477, 480, 481, 484, 485, 488, 490, 491, 493, 495, 599, 620, 645, 686, 687, 688, 692, 710, 712, 751, 781, 782, 786, 789, 791, 793, 801, 803, 857, 858, 860, 861, 862, 865, 867, 869, 870, 875, 876, 881, 889, 890, 892, 898, 966, 967, 970, 971, 972, 974, 975, 976, 978, 1012, 1067, 1068, 1069, 1078, 1079, 1089, 1090, 1091, 1092, 1093, 1094, 1096, 1098, 1099, 1100, 1102, 1103, 1104, 1107, 1109, 1118, 1119, 1130, 1135, 1139, 1140, 1142, 1144, 1145, 1148, 1149, 1151, 1152, 1156, 1159, 1160, 1161, 1162, 1163, 1167, 1168, 1215, 1225, 1226, 1229, 1231, 1234, 1235, 1236, 1237, 1238, 1239, 1240, 1242, 1247, 1292]\n",
      "[85, 93, 94, 95, 96, 97, 101, 102, 106, 107, 110, 181, 182, 183, 184, 186, 188, 189, 191, 193, 194, 196, 198, 215, 219, 223, 224, 225, 228, 230, 231, 232, 305, 320, 321, 329, 331, 332, 335, 336, 337, 338, 342, 349, 351, 353, 357, 358, 360, 363, 366, 381, 388, 440, 447, 450, 454, 459, 460, 463, 464, 466, 478, 479, 528, 533, 537, 541, 552, 556, 568, 569, 570, 583, 589, 647, 654, 655, 658, 661, 664, 673, 678, 693, 694, 697, 698, 706, 708, 716, 718, 719, 720, 721, 723, 731, 740, 808, 809, 812, 814, 815, 816, 817, 824, 829, 863, 900, 1023, 1025, 1042, 1043, 1048, 1082, 1085, 1086, 1087, 1105, 1246, 1249, 1254, 1288, 1289, 1290]\n",
      "[100, 153, 163, 165, 170, 304, 364, 451, 453, 567, 642, 656, 657, 665, 677]\n",
      "[220, 221, 448, 452, 461, 469, 590, 780, 811, 973, 1056, 1111]\n",
      "[308]\n",
      "[310]\n",
      "[323, 592]\n",
      "[324]\n",
      "[340, 341, 356, 436, 437, 438, 439, 443, 444, 445, 446, 449, 457, 458, 476, 482, 483, 646, 650, 695, 696, 699, 700, 701, 702, 707, 783, 788, 792, 796, 798, 799, 800, 802, 1055, 1065, 1106, 1108, 1112, 1113, 1114, 1115, 1116]\n",
      "[396]\n",
      "[397]\n",
      "[398]\n",
      "[432, 1075, 1077, 1080, 1101]\n",
      "[492]\n",
      "[524]\n",
      "[717, 882, 1061, 1097]\n",
      "[871]\n",
      "[1073]\n",
      "\n",
      "- Similarity mapping in a matrix\n",
      "[[0 0 0 ... 0 0 0]\n",
      " [0 0 1 ... 0 0 0]\n",
      " [0 0 0 ... 0 0 0]\n",
      " ...\n",
      " [0 0 0 ... 0 0 0]\n",
      " [0 0 0 ... 0 0 1]\n",
      " [0 0 0 ... 0 0 0]]\n",
      "\n",
      "# Finished in 102.22 secs\n",
      "\n",
      "#####################################################################\n",
      "#                           .~  End  ~.                              #\n",
      "#####################################################################\n",
      "\n",
      "#####################################################################\n",
      "#                          Evaluation                               #\n",
      "#####################################################################\n",
      "\n",
      "Accuracy:  2.47 %\n",
      "F1-Score:  12.29 %\n",
      "Recall:    34.01 %\n",
      "Precision: 7.50 %\n",
      "\n",
      "\n",
      "\n",
      "Wall time: 1min 48s\n"
     ]
    }
   ],
   "source": [
    "%%time\n",
    "\n",
    "ngramms= 3                                  # If jaccard used, n-gramms are used\n",
    "jaccard_withchars = False                    # n-gramms either of chars and either of words\n",
    "\n",
    "# Prototype selection\n",
    "max_numberOf_clusters= 500                  # Νumber of loops for finding representatives, it is an upper bound of clusters.\n",
    "max_editDistance= 120                       # The threshold for the triangle inequality\n",
    "distanceMetric= 'edit'                   # Distance metric between the vectors when creating the space\n",
    "prototypesFilterThr = 80                # Prototypes must differ more that threshold\n",
    "\n",
    "# Embedding phase\n",
    "distanceMetricEmbedding = 'edit'  # Embedding metric\n",
    "\n",
    "# WTA algorithm\n",
    "windowSize= 37                             # Vector size for WTA algo\n",
    "number_of_permutations = 5                 # WTA number of permutations\n",
    "\n",
    "\n",
    "# Similarity evaluation\n",
    "similarityVectors='initial'                  # which vectors will be passed to WTA step\n",
    "similarityThreshold= 0.7                    # Similarity threshold for the final step\n",
    "metric='kendal'                             # Similarity metric between vectors\n",
    "\n",
    "\n",
    "start = time.time()\n",
    "model = RankedWTAHash(\n",
    "    max_numberOf_clusters= max_numberOf_clusters,    \n",
    "    max_editDistance= max_editDistance,    \n",
    "    windowSize= windowSize,    \n",
    "    similarityThreshold= similarityThreshold,    \n",
    "    metric=metric,    \n",
    "    similarityVectors=similarityVectors,    \n",
    "    number_of_permutations = number_of_permutations,\n",
    "    distanceMetric= distanceMetric,\n",
    "    distanceMetricEmbedding = distanceMetricEmbedding,\n",
    "    ngramms= ngramms,\n",
    "    jaccard_withchars = jaccard_withchars,\n",
    "    prototypesFilterThr = prototypesFilterThr\n",
    ")\n",
    "model = model.fit(data)\n",
    "acc,f1,precision,recall = evaluate_cora(model.mapping_matrix,true_matrix, False)\n",
    "exec_time = time.time() - start\n",
    "results_dataframe.loc[len(results_dataframe)+1] = [max_numberOf_clusters,max_editDistance,similarityThreshold,windowSize,metric,similarityVectors,distanceMetricEmbedding,distanceMetric,number_of_permutations,ngramms,jaccard_withchars,acc,precision,recall,f1,exec_time]"
   ]
  },
  {
   "cell_type": "markdown",
   "metadata": {},
   "source": [
    "### Embeddings"
   ]
  },
  {
   "cell_type": "code",
   "execution_count": 47,
   "metadata": {},
   "outputs": [
    {
     "data": {
      "image/png": "[encoded data removed]",
      "text/plain": [
       "<Figure size 1800x720 with 1 Axes>"
      ]
     },
     "metadata": {},
     "output_type": "display_data"
    }
   ],
   "source": [
    "pcaComponents = PCA_SpaceVisualization(model.Embeddings,model.prototypeArray,withText=True)"
   ]
  },
  {
   "cell_type": "code",
   "execution_count": 19,
   "metadata": {},
   "outputs": [
    {
     "data": {
      "image/png": "[encoded data removed]",
      "text/plain": [
       "<Figure size 1800x720 with 1 Axes>"
      ]
     },
     "metadata": {},
     "output_type": "display_data"
    }
   ],
   "source": [
    "pcaComponents = PCA_SpaceVisualization(model.rankedVectors,model.prototypeArray)"
   ]
  },
  {
   "cell_type": "markdown",
   "metadata": {},
   "source": [
    "### WTA buckets created"
   ]
  },
  {
   "cell_type": "code",
   "execution_count": 20,
   "metadata": {},
   "outputs": [],
   "source": [
    "def WTA_PCA_SpaceVisualization(X,Prototypes,Labels,title='PCA visualization',withText=False,withgroundruth=False,groundruth=None):\n",
    "    '''\n",
    "    PCA to given array X and creating a plot\n",
    "    Returns PCA components array after fit_transform\n",
    "    '''\n",
    "    \n",
    "    # PCA code\n",
    "    pca = PCA(n_components=2)\n",
    "    pca.fit(X)\n",
    "    pcaComponents = pca.fit_transform(X) # pcaComponents is the data that I'll use from PCA\n",
    "    \n",
    "    # Seperating components\n",
    "    first_component = [x[0] for x in pcaComponents]\n",
    "    second_component = [x[1] for x in pcaComponents]\n",
    "    \n",
    "    # Plotting code\n",
    "    fig, ax = plt.subplots(figsize=(25,10))\n",
    "    cm = plt.get_cmap('jet') \n",
    "    \n",
    "    if not withgroundruth:\n",
    "        labels = [\",\".join(item) for item in Labels.astype(str)]\n",
    "        mydict={}\n",
    "        i = 0\n",
    "        for item in labels:\n",
    "            if(i>0 and item in mydict):\n",
    "                continue\n",
    "            else:    \n",
    "               i = i+1\n",
    "               mydict[item] = i\n",
    "\n",
    "        k=[]\n",
    "        for item in labels:\n",
    "            k.append(mydict[item])\n",
    "        \n",
    "    else:\n",
    "        k=groundruth\n",
    "\n",
    "    ax.scatter(first_component, second_component, c = k, cmap=cm, s=30) \n",
    "    fig.suptitle(title,fontsize=15,fontweight=\"bold\")\n",
    "    \n",
    "    if not withgroundruth:\n",
    "        for x0, y0, i in zip(first_component, second_component,range(0,len(first_component),1)):\n",
    "            if i in set(Prototypes):\n",
    "                plt.scatter(x0,y0,c='red',s=400,marker='*',alpha=0.2)\n",
    "\n",
    "                \n",
    "    return pcaComponents"
   ]
  },
  {
   "cell_type": "code",
   "execution_count": 21,
   "metadata": {},
   "outputs": [
    {
     "data": {
      "image/png": "[encoded data removed]",
      "text/plain": [
       "<Figure size 1800x720 with 1 Axes>"
      ]
     },
     "metadata": {},
     "output_type": "display_data"
    }
   ],
   "source": [
    "pcaComponents = WTA_PCA_SpaceVisualization(model.rankedVectors,model.prototypeArray,model.HashedClusters)"
   ]
  },
  {
   "cell_type": "code",
   "execution_count": 22,
   "metadata": {},
   "outputs": [
    {
     "data": {
      "image/png": "[encoded data removed]",
      "text/plain": [
       "<Figure size 1800x720 with 1 Axes>"
      ]
     },
     "metadata": {},
     "output_type": "display_data"
    }
   ],
   "source": [
    "pcaComponents = WTA_PCA_SpaceVisualization(model.rankedVectors,model.prototypeArray,model.HashedClusters,withgroundruth=True,groundruth=labels_groundTruth,title='PCA visualization GroundTruth')"
   ]
  },
  {
   "cell_type": "markdown",
   "metadata": {},
   "source": [
    "### MMD${}^2$ error between distribution of Prototypes and whole Dataset"
   ]
  },
  {
   "cell_type": "code",
   "execution_count": 24,
   "metadata": {},
   "outputs": [
    {
     "name": "stdout",
     "output_type": "stream",
     "text": [
      "MMD2:  -0.011656285298119462\n"
     ]
    }
   ],
   "source": [
    "myMMD2(model)"
   ]
  },
  {
   "cell_type": "markdown",
   "metadata": {},
   "source": [
    "### Grid search each section"
   ]
  },
  {
   "cell_type": "markdown",
   "metadata": {},
   "source": [
    "#### GridSearch function"
   ]
  },
  {
   "cell_type": "code",
   "execution_count": 54,
   "metadata": {
    "tags": []
   },
   "outputs": [],
   "source": [
    "def GridSearch_cora(data,true_matrix,max_numberOf_clusters,max_editDistance,similarityThreshold,windowSize,metric,similarityVectors,distanceMetricEmbedding,distanceMetric,number_of_permutations,ngramms,withchars,prototypeFilter,earlyStop):\n",
    "    results_dataframe = pd.DataFrame(columns=['max_numberOf_clusters','max_editDistance','similarityThreshold','windowSize','metric','similarityVectors',\"distanceMetricEmbedding\",\"distanceMetric\",\"number_of_permutations\",'prototypesFilterThr',\"protSelectionVariance\",'numOfPrototypes','numOfBuckets','averageBucketSize','Accuracy','Precision','Recall','F1','Time'])\n",
    "    i=1\n",
    "    for n1 in tqdm(max_numberOf_clusters):\n",
    "        for n2 in (max_editDistance):\n",
    "            for n3 in (similarityThreshold):\n",
    "                for n4 in (windowSize):\n",
    "                    for n5 in (metric):\n",
    "                        for n6 in (similarityVectors):\n",
    "                            for n7 in (distanceMetricEmbedding):\n",
    "                                for n8 in (distanceMetric):\n",
    "                                    for n9 in (number_of_permutations):\n",
    "                                        for n10 in (withchars):\n",
    "                                            for n11 in (withchars):\n",
    "                                                for n12 in (prototypeFilter):\n",
    "                                                    print(\"+ ------------  \",i,\"   ------------- +\")\n",
    "                                                    print('max_numberOf_clusters: ',n1)\n",
    "                                                    print('max_editDistancez: ',n2)\n",
    "                                                    print('similarityThreshold: ',n3)\n",
    "                                                    print('windowSize: ',n4)\n",
    "                                                    print('metric: ',n5)\n",
    "                                                    print('similarityVectors: ',n6)\n",
    "                                                    print('distanceMetricEmbedding: ',n7)\n",
    "                                                    print('distanceMetric: ',n8)\n",
    "                                                    print('number_of_permutations: ',n9)\n",
    "                                                    print('withchars: ',n10)\n",
    "                                                    print('ngramms: ',n11)\n",
    "                                                    print('prototypeFilter: ',n12)\n",
    "                                                    print(\"+ ----------------------------------- +\")\n",
    "                                                    start = time.time()\n",
    "                                                    model = RankedWTAHash(\n",
    "                                                      earlyStop = earlyStop,\n",
    "                                                      max_numberOf_clusters= n1,\n",
    "                                                      max_editDistance= n2,\n",
    "                                                      windowSize= n4,\n",
    "                                                      similarityThreshold= n3,\n",
    "                                                      maxOnly= False,\n",
    "                                                      metric=n5,\n",
    "                                                      similarityVectors=n6,\n",
    "                                                      number_of_permutations = n9,\n",
    "                                                      distanceMetric= n8,\n",
    "                                                      distanceMetricEmbedding = n7,\n",
    "                                                      jaccard_withchars = n10,\n",
    "                                                      ngramms= n11,                                                      \n",
    "                                                      prototypesFilterThr = n12\n",
    "                                                    )\n",
    "                                                    model = model.fit(data)\n",
    "                                                    exec_time = time.time() - start\n",
    "                                                    if model.earlyStop==0:                                            \n",
    "                                                        acc,f1,precision,recall = evaluate_cora(model.mapping_matrix,true_matrix)\n",
    "                                                        for key in model.buckets.keys():\n",
    "                                                            tempListmodel.buckets[key]\n",
    "                                                        averageBucketSize = np.mean([len(model.buckets[x]) for x in model.buckets.keys() ])\n",
    "                                                        numOfBuckets=len(model.buckets.keys())\n",
    "                                                    else:\n",
    "                                                        if model.earlyStop == 3:\n",
    "                                                            acc = f1 = precision = recall = 'Not counted'\n",
    "                                                            averageBucketSize = np.mean([len(model.buckets[x]) for x in model.buckets.keys() ])\n",
    "                                                            numOfBuckets=len(model.buckets.keys())\n",
    "                                                        else:\n",
    "                                                            numOfBuckets = averageBucketSize = acc = f1 = precision = recall = 'Not counted'\n",
    "                                                    i+=1\n",
    "                                                    results_dataframe.loc[len(results_dataframe)+1] = [n1,n2,n3,n4,n5,n6,n7,n8,n9,n12,model.selectionVariance,model.selected_numOfPrototypes,numOfBuckets,averageBucketSize,acc,precision,recall,f1,exec_time]\n",
    "    now = datetime.now()\n",
    "    current_time = now.strftime(\"%H_%M_%S\")\n",
    "    results_dataframe.to_pickle(str(current_time)+\".pkl\")\n",
    "    \n",
    "    return results_dataframe"
   ]
  },
  {
   "cell_type": "markdown",
   "metadata": {},
   "source": [
    "#### __[i]__ __Prototype selection__\n",
    "\n",
    "\n",
    "First of all, we need to find some ways on evaluating the prototype selection algorithm. Vantage Spaces are not something new, but we need to examine its behaviour on CORA dataset.\n",
    "\n",
    "Goals:\n",
    "\n",
    "- __Variance__: We want prototypes to be as much different as possible. \n",
    "- __Number__: We need a large amount of prototypes.\n",
    "\n",
    "Ways to evaluate the algorithm:\n",
    "\n",
    "- Mean distance between selected prototypes\n",
    "- Show a HeatMap of consisted of the distances\n",
    "- Some greedy search on the parameters. Parameters to fine tunne:\n",
    "    -  ```max_numberOf_clusters```: Νumber of loops for finding representatives, it is an upper bound of clusters.\n",
    "    -  ```max_editDistance```:  The threshold for the triangle inequality\n",
    "    -  ```distanceMetric```:  Distance metric between the vectors when creating the space\n",
    "    -  ```prototypesFilterThr```: Prototypes must differ more that threshold\n",
    "\n",
    "\n",
    "All these parameters will be tested both for edit distance and jaccard with 3-grams."
   ]
  },
  {
   "cell_type": "markdown",
   "metadata": {},
   "source": [
    "__Maximum mean discrepancy (MMD)__, which measures the discrepancy between two distributions. The selection of prototypes creates a density distribution of prototypes. We want to evaluate whether the prototypes distribution differs from the data distribution. We estimate both with kernel density functions. The maximum mean discrepancy measures the difference between two distributions, which is the supremum over a function space of differences between the expectations according to the two distributions. All clear? Personally, I understand these concepts much better when I see how something is calculated with data. The following formula shows how to calculate the squared MMD measure (MMD2):\n",
    "    $$\n",
    "    MMD^2=\\frac{1}{m^2}\\sum_{i,j=1}^m{}k(z_i,z_j)-\\frac{2}{mn}\\sum_{i,j=1}^{m,n}k(z_i,x_j)+\\frac{1}{n^2}\\sum_{i,j=1}^n{}k(x_i,x_j)\n",
    "    $$\n",
    "    \n",
    "- __k__ is a kernel function that measures the similarity of two points\n",
    "- __m__ is the number of prototypes \n",
    "- __n__ is the number of data points x in our original dataset. \n",
    "- The prototypes z are a selection of data points x. \n",
    "\n",
    "    \n",
    "Each point is multidimensional, that is it can have multiple features. The goal of MMD-critic is to minimize MMD2. The closer MMD2 is to zero, the better the distribution of the prototypes fits the data. The key to bringing MMD2 down to zero is the term in the middle, which calculates the average proximity between the prototypes and all other data points (multiplied by 2). If this term adds up to the first term (the average proximity of the prototypes to each other) plus the last term (the average proximity of the data points to each other), then the prototypes explain the data perfectly.  "
   ]
  },
  {
   "cell_type": "code",
   "execution_count": 16,
   "metadata": {},
   "outputs": [],
   "source": [
    "def myMMD2(model):    \n",
    "    mmdOnPrototypes = MMD2(model.EditDistance, model.S_index, model.prototypeArray)\n",
    "    print(\"MMD2: \",mmdOnPrototypes)        \n",
    "        \n",
    "        \n",
    "def MMD2(k, x, z):\n",
    "    \n",
    "    if type(x) is np.ndarray and type(z) is np.ndarray:\n",
    "        m = z.size\n",
    "        n = x.size\n",
    "    else:\n",
    "        m = len(z)\n",
    "        n = len(x)\n",
    "        \n",
    "    firstSum = 0.0\n",
    "    for i in range(0,m,1):\n",
    "        for j in range(0,m,1):\n",
    "            firstSum += k(z[i],z[j])\n",
    "    \n",
    "    secondSum = 0.0\n",
    "    for i in range(0,m,1):\n",
    "        for j in range(0,n,1):\n",
    "            secondSum += k(z[i],x[j])\n",
    "        \n",
    "    thirdSum = 0.0\n",
    "    for i in range(0,n,1):\n",
    "        for j in range(0,n,1):\n",
    "            thirdSum += k(x[i],x[j])\n",
    "    \n",
    "    mmd2 = (1/pow(m,2))*firstSum - (2/(m*n))*secondSum + (1/pow(n,2))*thirdSum\n",
    "    \n",
    "    \n",
    "    return mmd2"
   ]
  },
  {
   "cell_type": "code",
   "execution_count": 52,
   "metadata": {
    "collapsed": true,
    "jupyter": {
     "outputs_hidden": true
    },
    "scrolled": true,
    "tags": []
   },
   "outputs": [
    {
     "data": {
      "application/vnd.jupyter.widget-view+json": {
       "model_id": "c4f7d06c93be4375b2d4d561ac435f2f",
       "version_major": 2,
       "version_minor": 0
      },
      "text/plain": [
       "HBox(children=(FloatProgress(value=0.0, max=1.0), HTML(value='')))"
      ]
     },
     "metadata": {},
     "output_type": "display_data"
    },
    {
     "name": "stdout",
     "output_type": "stream",
     "text": [
      "+ ------------   1    ------------- +\n",
      "max_numberOf_clusters:  5000\n",
      "max_editDistancez:  20\n",
      "similarityThreshold:  0.7\n",
      "windowSize:  50\n",
      "metric:  kendal\n",
      "similarityVectors:  ranked\n",
      "distanceMetricEmbedding:  euclidean\n",
      "distanceMetric:  edit\n",
      "number_of_permutations:  5\n",
      "withchars:  False\n",
      "ngramms:  False\n",
      "prototypeFilter:  80\n",
      "+ ----------------------------------- +\n",
      "\n",
      "#####################################################################\n",
      "#     .~ RankedWTAHash with Vantage embeddings starts training ~.   #\n",
      "#####################################################################\n",
      "\n",
      "###########################################################\n",
      "# > 1. Prototype selection phase                          #\n",
      "###########################################################\n",
      "\n",
      "\n",
      "-> Finding prototypes and representatives of each cluster:\n"
     ]
    },
    {
     "data": {
      "application/vnd.jupyter.widget-view+json": {
       "model_id": "25a197b45cc24468a1db1c02cba006b8",
       "version_major": 2,
       "version_minor": 0
      },
      "text/plain": [
       "HBox(children=(FloatProgress(value=0.0, max=1295.0), HTML(value='')))"
      ]
     },
     "metadata": {},
     "output_type": "display_data"
    },
    {
     "name": "stdout",
     "output_type": "stream",
     "text": [
      "\n",
      "10.0\n",
      "Prototypes before:\n",
      "[3, 7, 12, 14, 18, 20, 23, 26, 29, 31, 34, 37, 42, 46, 48, 53, 56, 60, 64, 67, 73, 76, 78, 81, 87, 92, 96, 101, 103, 106, 108, 111, 114, 116, 119, 127, 130, 137, 148, 151, 153, 158, 162, 169, 173, 178, 180, 197, 200, 202, 207, 212, 232, 235, 238, 240, 242, 245, 251, 253, 257, 261, 265, 277, 287, 295, 304, 308, 310, 313, 315, 320, 323, 326, 330, 332, 337, 341, 343, 357, 371, 378, 381, 383, 387, 389, 394, 401, 404, 406, 413, 425, 427, 429, 431, 434, 437, 441, 445, 448, 452, 458, 460, 464, 468, 471, 474, 479, 483, 485, 489, 509, 514, 519, 525, 534, 536, 540, 544, 546, 549, 557, 563, 567, 570, 572, 576, 582, 585, 593, 596, 599, 602, 605, 608, 611, 615, 620, 625, 632, 634, 640, 644, 648, 650, 653, 655, 659, 664, 668, 673, 676, 678, 681, 683, 690, 699, 705, 708, 711, 713, 715, 720, 724, 730, 733, 735, 738, 740, 742, 748, 753, 756, 759, 772, 782, 784, 788, 794, 800, 806, 810, 812, 816, 821, 829, 845, 870, 897, 905, 907, 909, 914, 924, 931, 937, 939, 941, 944, 946, 948, 954, 957, 965, 967, 969, 972, 989, 994, 1000, 1004, 1008, 1012, 1016, 1020, 1022, 1024, 1028, 1034, 1038, 1040, 1045, 1047, 1051, 1054, 1057, 1061, 1064, 1067, 1069, 1072, 1076, 1080, 1083, 1085, 1092, 1094, 1096, 1103, 1106, 1108, 1111, 1114, 1117, 1119, 1124, 1129, 1131, 1134, 1142, 1147, 1149, 1153, 1156, 1158, 1161, 1165, 1170, 1175, 1184, 1194, 1203, 1229, 1234, 1244, 1246, 1251, 1253, 1255, 1258, 1263, 1269, 1273, 1275, 1279, 1282, 1286, 1290, 1294]\n",
      "Not wanted:\n",
      "{1024, 514, 1028, 519, 12, 14, 1038, 1040, 20, 1045, 534, 23, 1047, 536, 26, 1051, 540, 29, 1054, 31, 544, 1057, 34, 546, 37, 1061, 549, 1064, 42, 1067, 557, 46, 1069, 48, 1072, 563, 1076, 53, 567, 56, 1080, 570, 1083, 60, 1085, 572, 64, 576, 67, 1092, 1094, 582, 1096, 73, 585, 76, 78, 1103, 81, 1106, 593, 1108, 596, 1111, 87, 599, 1114, 602, 92, 1117, 605, 1119, 96, 608, 611, 1124, 101, 103, 615, 1129, 106, 1131, 620, 108, 1134, 111, 625, 114, 116, 1142, 119, 632, 634, 1147, 1149, 127, 640, 1153, 644, 1156, 1158, 648, 1161, 650, 137, 653, 655, 1170, 659, 148, 1175, 664, 151, 153, 668, 158, 1184, 673, 162, 676, 678, 681, 1194, 683, 169, 173, 178, 690, 1203, 180, 699, 705, 708, 197, 711, 200, 713, 202, 715, 1229, 207, 720, 1234, 212, 724, 730, 1244, 733, 1246, 735, 738, 1251, 740, 1253, 742, 1255, 232, 1258, 235, 748, 238, 1263, 240, 753, 756, 245, 1269, 759, 1273, 1275, 251, 253, 1279, 257, 1282, 772, 261, 1286, 265, 1290, 782, 1294, 784, 788, 277, 794, 287, 800, 806, 295, 810, 812, 816, 304, 308, 821, 310, 313, 315, 829, 320, 326, 330, 332, 845, 337, 341, 343, 357, 870, 371, 378, 381, 383, 897, 387, 389, 905, 394, 907, 909, 401, 914, 404, 406, 924, 413, 931, 937, 425, 939, 427, 429, 941, 431, 944, 434, 946, 948, 437, 441, 954, 957, 445, 448, 452, 965, 967, 969, 458, 460, 972, 464, 468, 471, 474, 989, 479, 994, 483, 485, 1000, 489, 1004, 1008, 1012, 1016, 1020, 509, 1022}\n",
      "Final:\n",
      "[130, 3, 323, 7, 1034, 525, 1165, 18, 242]\n",
      "\n",
      "- Prototypes selected\n",
      "[ 130    3  323    7 1034  525 1165   18  242]\n",
      "130  ->  ehrenfeucht a haussler d kearns m and valiant lg a general lower bound on the number of examples needed for learning\n",
      "3  ->  avrim blum merrick furst michael kearns and richard j lipton cryptographic primitives based on hard learning problems\n",
      "323  ->  y freund m kearns y mansour d ron r rubinfeld and r schapire efficient algorithms for learning to play repeated games against computationally bounded adversaries\n",
      "7  ->  blum a furst m jackson j kearns m mansour y and rudich s weakly learning dnf 10 and characterizing statistical query learning using fourier analysis\n",
      "1034  ->  kearns m j a bound on the error of cross validation using the approximation and estimation rates with consequences for the trainingtest split\n",
      "525  ->  d haussler m kearns and r e schapire bounds on the sample complexity of bayesian learning using information theory and the vc dimension\n",
      "1165  ->  robert e schapire yoav freund peter bartlett and wee sun lee boosting the margin a new explanation for the effectiveness of voting methods\n",
      "18  ->  nicolo cesabianchi yoav freund david p helmbold david haussler robert e schapire and manfred k warmuth how to use expert advice\n",
      "242  ->  y freund m kearns d ron r rubinfeld re schapire and l sellie efficient learning of typical finite automata from random walks\n"
     ]
    },
    {
     "data": {
      "image/png": "[encoded data removed]",
      "text/plain": [
       "<Figure size 720x720 with 2 Axes>"
      ]
     },
     "metadata": {},
     "output_type": "display_data"
    },
    {
     "name": "stdout",
     "output_type": "stream",
     "text": [
      "\n",
      "- Mean variance in prototype selection:  95.1604938271605\n",
      "\n",
      "- Final number of prototypes:  9\n",
      "\n",
      "# Finished in 0.7155 secs\n",
      "\n",
      "\n",
      "[   0    1    2 ... 1292 1293 1294]\n",
      "\n"
     ]
    }
   ],
   "source": [
    "max_numberOf_clusters= [5000]\n",
    "max_editDistance= [20]\n",
    "prototypesFilterThr = [80]\n",
    "\n",
    "distanceMetric= ['edit']\n",
    "\n",
    "# ---------------- #\n",
    "\n",
    "ngramms= [3]  \n",
    "jaccard_withchars = [False] \n",
    "\n",
    "distanceMetricEmbedding = ['euclidean']\n",
    "\n",
    "windowSize= [50]\n",
    "number_of_permutations = [5]\n",
    "\n",
    "similarityThreshold= [0.7]\n",
    "similarityVectors= ['ranked']\n",
    "metric= ['kendal']\n",
    "\n",
    "results_section1_edit = GridSearch_cora(\n",
    "    data,true_matrix,\n",
    "    max_numberOf_clusters,\n",
    "    max_editDistance,\n",
    "    similarityThreshold,\n",
    "    windowSize,\n",
    "    metric,\n",
    "    similarityVectors,\n",
    "    distanceMetricEmbedding,\n",
    "    distanceMetric,\n",
    "    number_of_permutations,\n",
    "    ngramms,\n",
    "    jaccard_withchars,\n",
    "    prototypesFilterThr,\n",
    "    earlyStop=1\n",
    ")"
   ]
  },
  {
   "cell_type": "code",
   "execution_count": null,
   "metadata": {
    "tags": []
   },
   "outputs": [],
   "source": [
    "results_section1_edit[[\"max_numberOf_clusters\",\"max_editDistance\",\"prototypesFilterThr\",\"numOfPrototypes\",\"protSelectionVariance\"]].sort_values(by=['numOfPrototypes'], ascending=False).head(20)"
   ]
  },
  {
   "cell_type": "code",
   "execution_count": null,
   "metadata": {
    "tags": []
   },
   "outputs": [],
   "source": [
    "results_section1_edit[[\"max_numberOf_clusters\",\"max_editDistance\",\"prototypesFilterThr\",\"numOfPrototypes\",\"protSelectionVariance\"]].sort_values(by=['protSelectionVariance'], ascending=False).head(50)"
   ]
  },
  {
   "cell_type": "code",
   "execution_count": 53,
   "metadata": {
    "collapsed": true,
    "jupyter": {
     "outputs_hidden": true
    },
    "scrolled": true,
    "tags": []
   },
   "outputs": [
    {
     "data": {
      "application/vnd.jupyter.widget-view+json": {
       "model_id": "aa0f8e43d55c416ba776dc0c02502c29",
       "version_major": 2,
       "version_minor": 0
      },
      "text/plain": [
       "HBox(children=(FloatProgress(value=0.0, max=3.0), HTML(value='')))"
      ]
     },
     "metadata": {},
     "output_type": "display_data"
    },
    {
     "name": "stdout",
     "output_type": "stream",
     "text": [
      "+ ------------   1    ------------- +\n",
      "max_numberOf_clusters:  100\n",
      "max_editDistancez:  0.7\n",
      "similarityThreshold:  0.7\n",
      "windowSize:  50\n",
      "metric:  kendal\n",
      "similarityVectors:  ranked\n",
      "distanceMetricEmbedding:  euclidean\n",
      "distanceMetric:  jaccard\n",
      "number_of_permutations:  5\n",
      "withchars:  True\n",
      "ngramms:  True\n",
      "prototypeFilter:  0.2\n",
      "+ ----------------------------------- +\n",
      "\n",
      "#####################################################################\n",
      "#     .~ RankedWTAHash with Vantage embeddings starts training ~.   #\n",
      "#####################################################################\n",
      "\n",
      "###########################################################\n",
      "# > 1. Prototype selection phase                          #\n",
      "###########################################################\n",
      "\n",
      "\n",
      "-> Finding prototypes and representatives of each cluster:\n"
     ]
    },
    {
     "data": {
      "application/vnd.jupyter.widget-view+json": {
       "model_id": "16a41220b3b64b2e827eb9c9576d80b6",
       "version_major": 2,
       "version_minor": 0
      },
      "text/plain": [
       "HBox(children=(FloatProgress(value=0.0, max=1295.0), HTML(value='')))"
      ]
     },
     "metadata": {},
     "output_type": "display_data"
    },
    {
     "name": "stdout",
     "output_type": "stream",
     "text": [
      "\n",
      "0.35\n",
      "Prototypes before:\n",
      "[255, 599, 619, 729, 839, 879, 932, 982, 1016, 1024, 1064, 1184, 1217, 1274]\n",
      "Not wanted:\n",
      "{1024, 1184, 1217, 932, 839, 1064, 619, 982, 599, 1016, 729, 1274}\n",
      "Final:\n",
      "[255, 879]\n",
      "\n",
      "- Prototypes selected\n",
      "[255 879]\n",
      "255  ->  y freund m kearns d ron r rubinfeld re schapire and l sellie efficient learning of typical finite automata from random walks\n",
      "879  ->  m kearns efficient noisetolerant learning from statistical queries\n",
      "\n",
      "- Final number of prototypes:  2\n",
      "\n",
      "# Finished in 0.0560 secs\n",
      "\n",
      "\n",
      "[   0    1    2 ... 1292 1293 1294]\n",
      "+ ------------   2    ------------- +\n",
      "max_numberOf_clusters:  100\n",
      "max_editDistancez:  0.7\n",
      "similarityThreshold:  0.7\n",
      "windowSize:  50\n",
      "metric:  kendal\n",
      "similarityVectors:  ranked\n",
      "distanceMetricEmbedding:  euclidean\n",
      "distanceMetric:  jaccard\n",
      "number_of_permutations:  5\n",
      "withchars:  True\n",
      "ngramms:  True\n",
      "prototypeFilter:  0.3\n",
      "+ ----------------------------------- +\n",
      "\n",
      "#####################################################################\n",
      "#     .~ RankedWTAHash with Vantage embeddings starts training ~.   #\n",
      "#####################################################################\n",
      "\n",
      "###########################################################\n",
      "# > 1. Prototype selection phase                          #\n",
      "###########################################################\n",
      "\n",
      "\n",
      "-> Finding prototypes and representatives of each cluster:\n"
     ]
    },
    {
     "data": {
      "application/vnd.jupyter.widget-view+json": {
       "model_id": "64eead7710654d56945a8198003e4e22",
       "version_major": 2,
       "version_minor": 0
      },
      "text/plain": [
       "HBox(children=(FloatProgress(value=0.0, max=1295.0), HTML(value='')))"
      ]
     },
     "metadata": {},
     "output_type": "display_data"
    },
    {
     "name": "stdout",
     "output_type": "stream",
     "text": [
      "\n",
      "0.35\n",
      "Prototypes before:\n",
      "[255, 599, 619, 729, 839, 879, 932, 982, 1016, 1024, 1064, 1184, 1217, 1274]\n",
      "Not wanted:\n",
      "{1024, 1184, 1217, 932, 839, 1064, 619, 879, 982, 599, 1016, 729, 1274}\n",
      "Final:\n",
      "[255]\n",
      "\n",
      "- Prototypes selected\n",
      "[255]\n",
      "255  ->  y freund m kearns d ron r rubinfeld re schapire and l sellie efficient learning of typical finite automata from random walks\n",
      "\n",
      "- Final number of prototypes:  1\n",
      "\n",
      "# Finished in 0.0472 secs\n",
      "\n",
      "\n",
      "[   0    1    2 ... 1292 1293 1294]\n",
      "+ ------------   3    ------------- +\n",
      "max_numberOf_clusters:  100\n",
      "max_editDistancez:  0.8\n",
      "similarityThreshold:  0.7\n",
      "windowSize:  50\n",
      "metric:  kendal\n",
      "similarityVectors:  ranked\n",
      "distanceMetricEmbedding:  euclidean\n",
      "distanceMetric:  jaccard\n",
      "number_of_permutations:  5\n",
      "withchars:  True\n",
      "ngramms:  True\n",
      "prototypeFilter:  0.2\n",
      "+ ----------------------------------- +\n",
      "\n",
      "#####################################################################\n",
      "#     .~ RankedWTAHash with Vantage embeddings starts training ~.   #\n",
      "#####################################################################\n",
      "\n",
      "###########################################################\n",
      "# > 1. Prototype selection phase                          #\n",
      "###########################################################\n",
      "\n",
      "\n",
      "-> Finding prototypes and representatives of each cluster:\n"
     ]
    },
    {
     "data": {
      "application/vnd.jupyter.widget-view+json": {
       "model_id": "b13789b5ea9b4a03bbbc5e5bb8012566",
       "version_major": 2,
       "version_minor": 0
      },
      "text/plain": [
       "HBox(children=(FloatProgress(value=0.0, max=1295.0), HTML(value='')))"
      ]
     },
     "metadata": {},
     "output_type": "display_data"
    },
    {
     "name": "stdout",
     "output_type": "stream",
     "text": [
      "\n",
      "0.4\n",
      "Prototypes before:\n",
      "[509]\n",
      "Not wanted:\n",
      "set()\n",
      "Final:\n",
      "[509]\n",
      "\n",
      "- Prototypes selected\n",
      "[509]\n",
      "509  ->  d haussler m kearns n littlestone and m k warmuth equivalence of models for polynomial learnability\n",
      "\n",
      "- Final number of prototypes:  1\n",
      "\n",
      "# Finished in 0.0457 secs\n",
      "\n",
      "\n",
      "[   0    1    2 ... 1292 1293 1294]\n",
      "+ ------------   4    ------------- +\n",
      "max_numberOf_clusters:  100\n",
      "max_editDistancez:  0.8\n",
      "similarityThreshold:  0.7\n",
      "windowSize:  50\n",
      "metric:  kendal\n",
      "similarityVectors:  ranked\n",
      "distanceMetricEmbedding:  euclidean\n",
      "distanceMetric:  jaccard\n",
      "number_of_permutations:  5\n",
      "withchars:  True\n",
      "ngramms:  True\n",
      "prototypeFilter:  0.3\n",
      "+ ----------------------------------- +\n",
      "\n",
      "#####################################################################\n",
      "#     .~ RankedWTAHash with Vantage embeddings starts training ~.   #\n",
      "#####################################################################\n",
      "\n",
      "###########################################################\n",
      "# > 1. Prototype selection phase                          #\n",
      "###########################################################\n",
      "\n",
      "\n",
      "-> Finding prototypes and representatives of each cluster:\n"
     ]
    },
    {
     "data": {
      "application/vnd.jupyter.widget-view+json": {
       "model_id": "406edce898d04598b1a3251f2283d862",
       "version_major": 2,
       "version_minor": 0
      },
      "text/plain": [
       "HBox(children=(FloatProgress(value=0.0, max=1295.0), HTML(value='')))"
      ]
     },
     "metadata": {},
     "output_type": "display_data"
    },
    {
     "name": "stdout",
     "output_type": "stream",
     "text": [
      "\n",
      "0.4\n",
      "Prototypes before:\n",
      "[509]\n",
      "Not wanted:\n",
      "set()\n",
      "Final:\n",
      "[509]\n",
      "\n",
      "- Prototypes selected\n",
      "[509]\n",
      "509  ->  d haussler m kearns n littlestone and m k warmuth equivalence of models for polynomial learnability\n",
      "\n",
      "- Final number of prototypes:  1\n",
      "\n",
      "# Finished in 0.0444 secs\n",
      "\n",
      "\n",
      "[   0    1    2 ... 1292 1293 1294]\n",
      "+ ------------   5    ------------- +\n",
      "max_numberOf_clusters:  500\n",
      "max_editDistancez:  0.7\n",
      "similarityThreshold:  0.7\n",
      "windowSize:  50\n",
      "metric:  kendal\n",
      "similarityVectors:  ranked\n",
      "distanceMetricEmbedding:  euclidean\n",
      "distanceMetric:  jaccard\n",
      "number_of_permutations:  5\n",
      "withchars:  True\n",
      "ngramms:  True\n",
      "prototypeFilter:  0.2\n",
      "+ ----------------------------------- +\n",
      "\n",
      "#####################################################################\n",
      "#     .~ RankedWTAHash with Vantage embeddings starts training ~.   #\n",
      "#####################################################################\n",
      "\n",
      "###########################################################\n",
      "# > 1. Prototype selection phase                          #\n",
      "###########################################################\n",
      "\n",
      "\n",
      "-> Finding prototypes and representatives of each cluster:\n"
     ]
    },
    {
     "data": {
      "application/vnd.jupyter.widget-view+json": {
       "model_id": "11d12bb9ae794e468a00a8cfecfe04ff",
       "version_major": 2,
       "version_minor": 0
      },
      "text/plain": [
       "HBox(children=(FloatProgress(value=0.0, max=1295.0), HTML(value='')))"
      ]
     },
     "metadata": {},
     "output_type": "display_data"
    },
    {
     "name": "stdout",
     "output_type": "stream",
     "text": [
      "\n",
      "0.35\n",
      "Prototypes before:\n",
      "[255, 599, 619, 729, 839, 879, 932, 982, 1016, 1024, 1064, 1184, 1217, 1274]\n",
      "Not wanted:\n",
      "{1024, 1184, 1217, 932, 839, 1064, 619, 982, 599, 1016, 729, 1274}\n",
      "Final:\n",
      "[255, 879]\n",
      "\n",
      "- Prototypes selected\n",
      "[255 879]\n",
      "255  ->  y freund m kearns d ron r rubinfeld re schapire and l sellie efficient learning of typical finite automata from random walks\n",
      "879  ->  m kearns efficient noisetolerant learning from statistical queries\n",
      "\n",
      "- Final number of prototypes:  2\n",
      "\n",
      "# Finished in 0.0438 secs\n",
      "\n",
      "\n",
      "[   0    1    2 ... 1292 1293 1294]\n",
      "+ ------------   6    ------------- +\n",
      "max_numberOf_clusters:  500\n",
      "max_editDistancez:  0.7\n",
      "similarityThreshold:  0.7\n",
      "windowSize:  50\n",
      "metric:  kendal\n",
      "similarityVectors:  ranked\n",
      "distanceMetricEmbedding:  euclidean\n",
      "distanceMetric:  jaccard\n",
      "number_of_permutations:  5\n",
      "withchars:  True\n",
      "ngramms:  True\n",
      "prototypeFilter:  0.3\n",
      "+ ----------------------------------- +\n",
      "\n",
      "#####################################################################\n",
      "#     .~ RankedWTAHash with Vantage embeddings starts training ~.   #\n",
      "#####################################################################\n",
      "\n",
      "###########################################################\n",
      "# > 1. Prototype selection phase                          #\n",
      "###########################################################\n",
      "\n",
      "\n",
      "-> Finding prototypes and representatives of each cluster:\n"
     ]
    },
    {
     "data": {
      "application/vnd.jupyter.widget-view+json": {
       "model_id": "c8236e65bbe149358e82052bab5645c1",
       "version_major": 2,
       "version_minor": 0
      },
      "text/plain": [
       "HBox(children=(FloatProgress(value=0.0, max=1295.0), HTML(value='')))"
      ]
     },
     "metadata": {},
     "output_type": "display_data"
    },
    {
     "name": "stdout",
     "output_type": "stream",
     "text": [
      "\n",
      "0.35\n",
      "Prototypes before:\n",
      "[255, 599, 619, 729, 839, 879, 932, 982, 1016, 1024, 1064, 1184, 1217, 1274]\n",
      "Not wanted:\n",
      "{1024, 1184, 1217, 932, 839, 1064, 619, 879, 982, 599, 1016, 729, 1274}\n",
      "Final:\n",
      "[255]\n",
      "\n",
      "- Prototypes selected\n",
      "[255]\n",
      "255  ->  y freund m kearns d ron r rubinfeld re schapire and l sellie efficient learning of typical finite automata from random walks\n",
      "\n",
      "- Final number of prototypes:  1\n",
      "\n",
      "# Finished in 0.0440 secs\n",
      "\n",
      "\n",
      "[   0    1    2 ... 1292 1293 1294]\n",
      "+ ------------   7    ------------- +\n",
      "max_numberOf_clusters:  500\n",
      "max_editDistancez:  0.8\n",
      "similarityThreshold:  0.7\n",
      "windowSize:  50\n",
      "metric:  kendal\n",
      "similarityVectors:  ranked\n",
      "distanceMetricEmbedding:  euclidean\n",
      "distanceMetric:  jaccard\n",
      "number_of_permutations:  5\n",
      "withchars:  True\n",
      "ngramms:  True\n",
      "prototypeFilter:  0.2\n",
      "+ ----------------------------------- +\n",
      "\n",
      "#####################################################################\n",
      "#     .~ RankedWTAHash with Vantage embeddings starts training ~.   #\n",
      "#####################################################################\n",
      "\n",
      "###########################################################\n",
      "# > 1. Prototype selection phase                          #\n",
      "###########################################################\n",
      "\n",
      "\n",
      "-> Finding prototypes and representatives of each cluster:\n"
     ]
    },
    {
     "data": {
      "application/vnd.jupyter.widget-view+json": {
       "model_id": "26d9f28e794946988b2e8a51e9757f22",
       "version_major": 2,
       "version_minor": 0
      },
      "text/plain": [
       "HBox(children=(FloatProgress(value=0.0, max=1295.0), HTML(value='')))"
      ]
     },
     "metadata": {},
     "output_type": "display_data"
    },
    {
     "name": "stdout",
     "output_type": "stream",
     "text": [
      "\n",
      "0.4\n",
      "Prototypes before:\n",
      "[509]\n",
      "Not wanted:\n",
      "set()\n",
      "Final:\n",
      "[509]\n",
      "\n",
      "- Prototypes selected\n",
      "[509]\n",
      "509  ->  d haussler m kearns n littlestone and m k warmuth equivalence of models for polynomial learnability\n",
      "\n",
      "- Final number of prototypes:  1\n",
      "\n",
      "# Finished in 0.0584 secs\n",
      "\n",
      "\n",
      "[   0    1    2 ... 1292 1293 1294]\n",
      "+ ------------   8    ------------- +\n",
      "max_numberOf_clusters:  500\n",
      "max_editDistancez:  0.8\n",
      "similarityThreshold:  0.7\n",
      "windowSize:  50\n",
      "metric:  kendal\n",
      "similarityVectors:  ranked\n",
      "distanceMetricEmbedding:  euclidean\n",
      "distanceMetric:  jaccard\n",
      "number_of_permutations:  5\n",
      "withchars:  True\n",
      "ngramms:  True\n",
      "prototypeFilter:  0.3\n",
      "+ ----------------------------------- +\n",
      "\n",
      "#####################################################################\n",
      "#     .~ RankedWTAHash with Vantage embeddings starts training ~.   #\n",
      "#####################################################################\n",
      "\n",
      "###########################################################\n",
      "# > 1. Prototype selection phase                          #\n",
      "###########################################################\n",
      "\n",
      "\n",
      "-> Finding prototypes and representatives of each cluster:\n"
     ]
    },
    {
     "data": {
      "application/vnd.jupyter.widget-view+json": {
       "model_id": "789124d34d5f42d99199200d5b1ca928",
       "version_major": 2,
       "version_minor": 0
      },
      "text/plain": [
       "HBox(children=(FloatProgress(value=0.0, max=1295.0), HTML(value='')))"
      ]
     },
     "metadata": {},
     "output_type": "display_data"
    },
    {
     "name": "stdout",
     "output_type": "stream",
     "text": [
      "\n",
      "0.4\n",
      "Prototypes before:\n",
      "[509]\n",
      "Not wanted:\n",
      "set()\n",
      "Final:\n",
      "[509]\n",
      "\n",
      "- Prototypes selected\n",
      "[509]\n",
      "509  ->  d haussler m kearns n littlestone and m k warmuth equivalence of models for polynomial learnability\n",
      "\n",
      "- Final number of prototypes:  1\n",
      "\n",
      "# Finished in 0.0547 secs\n",
      "\n",
      "\n",
      "[   0    1    2 ... 1292 1293 1294]\n",
      "+ ------------   9    ------------- +\n",
      "max_numberOf_clusters:  1000\n",
      "max_editDistancez:  0.7\n",
      "similarityThreshold:  0.7\n",
      "windowSize:  50\n",
      "metric:  kendal\n",
      "similarityVectors:  ranked\n",
      "distanceMetricEmbedding:  euclidean\n",
      "distanceMetric:  jaccard\n",
      "number_of_permutations:  5\n",
      "withchars:  True\n",
      "ngramms:  True\n",
      "prototypeFilter:  0.2\n",
      "+ ----------------------------------- +\n",
      "\n",
      "#####################################################################\n",
      "#     .~ RankedWTAHash with Vantage embeddings starts training ~.   #\n",
      "#####################################################################\n",
      "\n",
      "###########################################################\n",
      "# > 1. Prototype selection phase                          #\n",
      "###########################################################\n",
      "\n",
      "\n",
      "-> Finding prototypes and representatives of each cluster:\n"
     ]
    },
    {
     "data": {
      "application/vnd.jupyter.widget-view+json": {
       "model_id": "a6bddceabe8f4d73a1b4026386ed4c9e",
       "version_major": 2,
       "version_minor": 0
      },
      "text/plain": [
       "HBox(children=(FloatProgress(value=0.0, max=1295.0), HTML(value='')))"
      ]
     },
     "metadata": {},
     "output_type": "display_data"
    },
    {
     "name": "stdout",
     "output_type": "stream",
     "text": [
      "\n",
      "0.35\n",
      "Prototypes before:\n",
      "[255, 599, 619, 729, 839, 879, 932, 982, 1016, 1024, 1064, 1184, 1217, 1274]\n",
      "Not wanted:\n",
      "{1024, 1184, 1217, 932, 839, 1064, 619, 982, 599, 1016, 729, 1274}\n",
      "Final:\n",
      "[255, 879]\n",
      "\n",
      "- Prototypes selected\n",
      "[255 879]\n",
      "255  ->  y freund m kearns d ron r rubinfeld re schapire and l sellie efficient learning of typical finite automata from random walks\n",
      "879  ->  m kearns efficient noisetolerant learning from statistical queries\n",
      "\n",
      "- Final number of prototypes:  2\n",
      "\n",
      "# Finished in 0.0476 secs\n",
      "\n",
      "\n",
      "[   0    1    2 ... 1292 1293 1294]\n",
      "+ ------------   10    ------------- +\n",
      "max_numberOf_clusters:  1000\n",
      "max_editDistancez:  0.7\n",
      "similarityThreshold:  0.7\n",
      "windowSize:  50\n",
      "metric:  kendal\n",
      "similarityVectors:  ranked\n",
      "distanceMetricEmbedding:  euclidean\n",
      "distanceMetric:  jaccard\n",
      "number_of_permutations:  5\n",
      "withchars:  True\n",
      "ngramms:  True\n",
      "prototypeFilter:  0.3\n",
      "+ ----------------------------------- +\n",
      "\n",
      "#####################################################################\n",
      "#     .~ RankedWTAHash with Vantage embeddings starts training ~.   #\n",
      "#####################################################################\n",
      "\n",
      "###########################################################\n",
      "# > 1. Prototype selection phase                          #\n",
      "###########################################################\n",
      "\n",
      "\n",
      "-> Finding prototypes and representatives of each cluster:\n"
     ]
    },
    {
     "data": {
      "application/vnd.jupyter.widget-view+json": {
       "model_id": "7793d9666dc946d691a2d61fe332a599",
       "version_major": 2,
       "version_minor": 0
      },
      "text/plain": [
       "HBox(children=(FloatProgress(value=0.0, max=1295.0), HTML(value='')))"
      ]
     },
     "metadata": {},
     "output_type": "display_data"
    },
    {
     "name": "stdout",
     "output_type": "stream",
     "text": [
      "\n",
      "0.35\n",
      "Prototypes before:\n",
      "[255, 599, 619, 729, 839, 879, 932, 982, 1016, 1024, 1064, 1184, 1217, 1274]\n",
      "Not wanted:\n",
      "{1024, 1184, 1217, 932, 839, 1064, 619, 879, 982, 599, 1016, 729, 1274}\n",
      "Final:\n",
      "[255]\n",
      "\n",
      "- Prototypes selected\n",
      "[255]\n",
      "255  ->  y freund m kearns d ron r rubinfeld re schapire and l sellie efficient learning of typical finite automata from random walks\n",
      "\n",
      "- Final number of prototypes:  1\n",
      "\n",
      "# Finished in 0.0563 secs\n",
      "\n",
      "\n",
      "[   0    1    2 ... 1292 1293 1294]\n",
      "+ ------------   11    ------------- +\n",
      "max_numberOf_clusters:  1000\n",
      "max_editDistancez:  0.8\n",
      "similarityThreshold:  0.7\n",
      "windowSize:  50\n",
      "metric:  kendal\n",
      "similarityVectors:  ranked\n",
      "distanceMetricEmbedding:  euclidean\n",
      "distanceMetric:  jaccard\n",
      "number_of_permutations:  5\n",
      "withchars:  True\n",
      "ngramms:  True\n",
      "prototypeFilter:  0.2\n",
      "+ ----------------------------------- +\n",
      "\n",
      "#####################################################################\n",
      "#     .~ RankedWTAHash with Vantage embeddings starts training ~.   #\n",
      "#####################################################################\n",
      "\n",
      "###########################################################\n",
      "# > 1. Prototype selection phase                          #\n",
      "###########################################################\n",
      "\n",
      "\n",
      "-> Finding prototypes and representatives of each cluster:\n"
     ]
    },
    {
     "data": {
      "application/vnd.jupyter.widget-view+json": {
       "model_id": "94de565758ca4ecd987ee1328c35aeb7",
       "version_major": 2,
       "version_minor": 0
      },
      "text/plain": [
       "HBox(children=(FloatProgress(value=0.0, max=1295.0), HTML(value='')))"
      ]
     },
     "metadata": {},
     "output_type": "display_data"
    },
    {
     "name": "stdout",
     "output_type": "stream",
     "text": [
      "\n",
      "0.4\n",
      "Prototypes before:\n",
      "[509]\n",
      "Not wanted:\n",
      "set()\n",
      "Final:\n",
      "[509]\n",
      "\n",
      "- Prototypes selected\n",
      "[509]\n",
      "509  ->  d haussler m kearns n littlestone and m k warmuth equivalence of models for polynomial learnability\n",
      "\n",
      "- Final number of prototypes:  1\n",
      "\n",
      "# Finished in 0.0457 secs\n",
      "\n",
      "\n",
      "[   0    1    2 ... 1292 1293 1294]\n",
      "+ ------------   12    ------------- +\n",
      "max_numberOf_clusters:  1000\n",
      "max_editDistancez:  0.8\n",
      "similarityThreshold:  0.7\n",
      "windowSize:  50\n",
      "metric:  kendal\n",
      "similarityVectors:  ranked\n",
      "distanceMetricEmbedding:  euclidean\n",
      "distanceMetric:  jaccard\n",
      "number_of_permutations:  5\n",
      "withchars:  True\n",
      "ngramms:  True\n",
      "prototypeFilter:  0.3\n",
      "+ ----------------------------------- +\n",
      "\n",
      "#####################################################################\n",
      "#     .~ RankedWTAHash with Vantage embeddings starts training ~.   #\n",
      "#####################################################################\n",
      "\n",
      "###########################################################\n",
      "# > 1. Prototype selection phase                          #\n",
      "###########################################################\n",
      "\n",
      "\n",
      "-> Finding prototypes and representatives of each cluster:\n"
     ]
    },
    {
     "data": {
      "application/vnd.jupyter.widget-view+json": {
       "model_id": "b786c12814e043e6ac0e305e2b8fc03f",
       "version_major": 2,
       "version_minor": 0
      },
      "text/plain": [
       "HBox(children=(FloatProgress(value=0.0, max=1295.0), HTML(value='')))"
      ]
     },
     "metadata": {},
     "output_type": "display_data"
    },
    {
     "name": "stdout",
     "output_type": "stream",
     "text": [
      "\n",
      "0.4\n",
      "Prototypes before:\n",
      "[509]\n",
      "Not wanted:\n",
      "set()\n",
      "Final:\n",
      "[509]\n",
      "\n",
      "- Prototypes selected\n",
      "[509]\n",
      "509  ->  d haussler m kearns n littlestone and m k warmuth equivalence of models for polynomial learnability\n",
      "\n",
      "- Final number of prototypes:  1\n",
      "\n",
      "# Finished in 0.0523 secs\n",
      "\n",
      "\n",
      "[   0    1    2 ... 1292 1293 1294]\n",
      "\n"
     ]
    }
   ],
   "source": [
    "max_numberOf_clusters= [100,500,1000]\n",
    "max_editDistance= [0.7,0.8]\n",
    "prototypesFilterThr = [0.2,0.3]\n",
    "\n",
    "distanceMetric= ['jaccard']\n",
    "\n",
    "\n",
    "ngramms= [2,3]  \n",
    "jaccard_withchars = [True] \n",
    "\n",
    "# ---------------- #\n",
    "\n",
    "distanceMetricEmbedding = ['euclidean']\n",
    "\n",
    "windowSize= [50]\n",
    "number_of_permutations = [5]\n",
    "\n",
    "similarityThreshold= [0.7]\n",
    "similarityVectors= ['ranked']\n",
    "metric= ['kendal']\n",
    "\n",
    "\n",
    "results_section1_jac = GridSearch_cora(\n",
    "    data,true_matrix,\n",
    "    max_numberOf_clusters,\n",
    "    max_editDistance,\n",
    "    similarityThreshold,\n",
    "    windowSize,\n",
    "    metric,\n",
    "    similarityVectors,\n",
    "    distanceMetricEmbedding,\n",
    "    distanceMetric,\n",
    "    number_of_permutations,\n",
    "    ngramms,\n",
    "    jaccard_withchars,\n",
    "    prototypesFilterThr,\n",
    "    earlyStop=1\n",
    ")"
   ]
  },
  {
   "cell_type": "code",
   "execution_count": null,
   "metadata": {
    "scrolled": true,
    "tags": []
   },
   "outputs": [],
   "source": [
    "results_section1_jac[[\"max_numberOf_clusters\",\"max_editDistance\",\"prototypesFilterThr\",\"numOfPrototypes\",\"protSelectionVariance\"]].sort_values(by=['numOfPrototypes'], ascending=False).head(20)"
   ]
  },
  {
   "cell_type": "code",
   "execution_count": null,
   "metadata": {
    "scrolled": true,
    "tags": []
   },
   "outputs": [],
   "source": [
    "results_section1_jac[[\"max_numberOf_clusters\",\"max_editDistance\",\"prototypesFilterThr\",\"numOfPrototypes\",\"protSelectionVariance\"]].sort_values(by=['protSelectionVariance'], ascending=True).head(50)"
   ]
  },
  {
   "cell_type": "markdown",
   "metadata": {
    "tags": []
   },
   "source": [
    "##### Remarks\n",
    "\n",
    "Two main factors:\n",
    "\n",
    "- __numOfPrototypes__ and\n",
    "- __protSelectionVariance__\n",
    "\n",
    "The first one is the number of prototypes selected, which is very important as more prototypes will enhance model when creating the embeddings.\n",
    "\n",
    "The second one is the average distance between all the prototypes selected. As this factor increases, the prototypes selected differ the most.\n",
    "\n",
    "\n",
    "According to the above, best parameters so far:\n",
    "\n",
    "- __Edit distance__\n",
    "\n",
    "\n",
    "- __Jaccard with 3-grams__\n",
    "\n"
   ]
  },
  {
   "cell_type": "markdown",
   "metadata": {},
   "source": [
    "#### __[ii]__ Fine tunning  __Embedding phase__\n",
    "\n",
    "Ways to evaluate the __Embedding phase__:\n",
    "\n",
    "- Use a PCA after embeddings made and check selected prototypes "
   ]
  },
  {
   "cell_type": "code",
   "execution_count": 52,
   "metadata": {
    "collapsed": true,
    "jupyter": {
     "outputs_hidden": true
    },
    "scrolled": true,
    "tags": []
   },
   "outputs": [
    {
     "data": {
      "application/vnd.jupyter.widget-view+json": {
       "model_id": "c4f7d06c93be4375b2d4d561ac435f2f",
       "version_major": 2,
       "version_minor": 0
      },
      "text/plain": [
       "HBox(children=(FloatProgress(value=0.0, max=1.0), HTML(value='')))"
      ]
     },
     "metadata": {},
     "output_type": "display_data"
    },
    {
     "name": "stdout",
     "output_type": "stream",
     "text": [
      "+ ------------   1    ------------- +\n",
      "max_numberOf_clusters:  5000\n",
      "max_editDistancez:  20\n",
      "similarityThreshold:  0.7\n",
      "windowSize:  50\n",
      "metric:  kendal\n",
      "similarityVectors:  ranked\n",
      "distanceMetricEmbedding:  euclidean\n",
      "distanceMetric:  edit\n",
      "number_of_permutations:  5\n",
      "withchars:  False\n",
      "ngramms:  False\n",
      "prototypeFilter:  80\n",
      "+ ----------------------------------- +\n",
      "\n",
      "#####################################################################\n",
      "#     .~ RankedWTAHash with Vantage embeddings starts training ~.   #\n",
      "#####################################################################\n",
      "\n",
      "###########################################################\n",
      "# > 1. Prototype selection phase                          #\n",
      "###########################################################\n",
      "\n",
      "\n",
      "-> Finding prototypes and representatives of each cluster:\n"
     ]
    },
    {
     "data": {
      "application/vnd.jupyter.widget-view+json": {
       "model_id": "25a197b45cc24468a1db1c02cba006b8",
       "version_major": 2,
       "version_minor": 0
      },
      "text/plain": [
       "HBox(children=(FloatProgress(value=0.0, max=1295.0), HTML(value='')))"
      ]
     },
     "metadata": {},
     "output_type": "display_data"
    },
    {
     "name": "stdout",
     "output_type": "stream",
     "text": [
      "\n",
      "10.0\n",
      "Prototypes before:\n",
      "[3, 7, 12, 14, 18, 20, 23, 26, 29, 31, 34, 37, 42, 46, 48, 53, 56, 60, 64, 67, 73, 76, 78, 81, 87, 92, 96, 101, 103, 106, 108, 111, 114, 116, 119, 127, 130, 137, 148, 151, 153, 158, 162, 169, 173, 178, 180, 197, 200, 202, 207, 212, 232, 235, 238, 240, 242, 245, 251, 253, 257, 261, 265, 277, 287, 295, 304, 308, 310, 313, 315, 320, 323, 326, 330, 332, 337, 341, 343, 357, 371, 378, 381, 383, 387, 389, 394, 401, 404, 406, 413, 425, 427, 429, 431, 434, 437, 441, 445, 448, 452, 458, 460, 464, 468, 471, 474, 479, 483, 485, 489, 509, 514, 519, 525, 534, 536, 540, 544, 546, 549, 557, 563, 567, 570, 572, 576, 582, 585, 593, 596, 599, 602, 605, 608, 611, 615, 620, 625, 632, 634, 640, 644, 648, 650, 653, 655, 659, 664, 668, 673, 676, 678, 681, 683, 690, 699, 705, 708, 711, 713, 715, 720, 724, 730, 733, 735, 738, 740, 742, 748, 753, 756, 759, 772, 782, 784, 788, 794, 800, 806, 810, 812, 816, 821, 829, 845, 870, 897, 905, 907, 909, 914, 924, 931, 937, 939, 941, 944, 946, 948, 954, 957, 965, 967, 969, 972, 989, 994, 1000, 1004, 1008, 1012, 1016, 1020, 1022, 1024, 1028, 1034, 1038, 1040, 1045, 1047, 1051, 1054, 1057, 1061, 1064, 1067, 1069, 1072, 1076, 1080, 1083, 1085, 1092, 1094, 1096, 1103, 1106, 1108, 1111, 1114, 1117, 1119, 1124, 1129, 1131, 1134, 1142, 1147, 1149, 1153, 1156, 1158, 1161, 1165, 1170, 1175, 1184, 1194, 1203, 1229, 1234, 1244, 1246, 1251, 1253, 1255, 1258, 1263, 1269, 1273, 1275, 1279, 1282, 1286, 1290, 1294]\n",
      "Not wanted:\n",
      "{1024, 514, 1028, 519, 12, 14, 1038, 1040, 20, 1045, 534, 23, 1047, 536, 26, 1051, 540, 29, 1054, 31, 544, 1057, 34, 546, 37, 1061, 549, 1064, 42, 1067, 557, 46, 1069, 48, 1072, 563, 1076, 53, 567, 56, 1080, 570, 1083, 60, 1085, 572, 64, 576, 67, 1092, 1094, 582, 1096, 73, 585, 76, 78, 1103, 81, 1106, 593, 1108, 596, 1111, 87, 599, 1114, 602, 92, 1117, 605, 1119, 96, 608, 611, 1124, 101, 103, 615, 1129, 106, 1131, 620, 108, 1134, 111, 625, 114, 116, 1142, 119, 632, 634, 1147, 1149, 127, 640, 1153, 644, 1156, 1158, 648, 1161, 650, 137, 653, 655, 1170, 659, 148, 1175, 664, 151, 153, 668, 158, 1184, 673, 162, 676, 678, 681, 1194, 683, 169, 173, 178, 690, 1203, 180, 699, 705, 708, 197, 711, 200, 713, 202, 715, 1229, 207, 720, 1234, 212, 724, 730, 1244, 733, 1246, 735, 738, 1251, 740, 1253, 742, 1255, 232, 1258, 235, 748, 238, 1263, 240, 753, 756, 245, 1269, 759, 1273, 1275, 251, 253, 1279, 257, 1282, 772, 261, 1286, 265, 1290, 782, 1294, 784, 788, 277, 794, 287, 800, 806, 295, 810, 812, 816, 304, 308, 821, 310, 313, 315, 829, 320, 326, 330, 332, 845, 337, 341, 343, 357, 870, 371, 378, 381, 383, 897, 387, 389, 905, 394, 907, 909, 401, 914, 404, 406, 924, 413, 931, 937, 425, 939, 427, 429, 941, 431, 944, 434, 946, 948, 437, 441, 954, 957, 445, 448, 452, 965, 967, 969, 458, 460, 972, 464, 468, 471, 474, 989, 479, 994, 483, 485, 1000, 489, 1004, 1008, 1012, 1016, 1020, 509, 1022}\n",
      "Final:\n",
      "[130, 3, 323, 7, 1034, 525, 1165, 18, 242]\n",
      "\n",
      "- Prototypes selected\n",
      "[ 130    3  323    7 1034  525 1165   18  242]\n",
      "130  ->  ehrenfeucht a haussler d kearns m and valiant lg a general lower bound on the number of examples needed for learning\n",
      "3  ->  avrim blum merrick furst michael kearns and richard j lipton cryptographic primitives based on hard learning problems\n",
      "323  ->  y freund m kearns y mansour d ron r rubinfeld and r schapire efficient algorithms for learning to play repeated games against computationally bounded adversaries\n",
      "7  ->  blum a furst m jackson j kearns m mansour y and rudich s weakly learning dnf 10 and characterizing statistical query learning using fourier analysis\n",
      "1034  ->  kearns m j a bound on the error of cross validation using the approximation and estimation rates with consequences for the trainingtest split\n",
      "525  ->  d haussler m kearns and r e schapire bounds on the sample complexity of bayesian learning using information theory and the vc dimension\n",
      "1165  ->  robert e schapire yoav freund peter bartlett and wee sun lee boosting the margin a new explanation for the effectiveness of voting methods\n",
      "18  ->  nicolo cesabianchi yoav freund david p helmbold david haussler robert e schapire and manfred k warmuth how to use expert advice\n",
      "242  ->  y freund m kearns d ron r rubinfeld re schapire and l sellie efficient learning of typical finite automata from random walks\n"
     ]
    },
    {
     "data": {
      "image/png": "[encoded data removed]",
      "text/plain": [
       "<Figure size 720x720 with 2 Axes>"
      ]
     },
     "metadata": {},
     "output_type": "display_data"
    },
    {
     "name": "stdout",
     "output_type": "stream",
     "text": [
      "\n",
      "- Mean variance in prototype selection:  95.1604938271605\n",
      "\n",
      "- Final number of prototypes:  9\n",
      "\n",
      "# Finished in 0.7155 secs\n",
      "\n",
      "\n",
      "[   0    1    2 ... 1292 1293 1294]\n",
      "\n"
     ]
    }
   ],
   "source": [
    "max_numberOf_clusters= [5000]\n",
    "max_editDistance= [20,50]\n",
    "prototypesFilterThr = [80]\n",
    "\n",
    "distanceMetric= ['edit']\n",
    "\n",
    "# ---------------- #\n",
    "\n",
    "ngramms= [3]  \n",
    "jaccard_withchars = [False] \n",
    "\n",
    "distanceMetricEmbedding = ['euclidean','l_inf','edit']\n",
    "\n",
    "windowSize= [50]\n",
    "number_of_permutations = [5]\n",
    "\n",
    "similarityThreshold= [0.7]\n",
    "similarityVectors= ['ranked']\n",
    "metric= ['kendal']\n",
    "\n",
    "results_section1_edit = GridSearch_cora(\n",
    "    data,true_matrix,\n",
    "    max_numberOf_clusters,\n",
    "    max_editDistance,\n",
    "    similarityThreshold,\n",
    "    windowSize,\n",
    "    metric,\n",
    "    similarityVectors,\n",
    "    distanceMetricEmbedding,\n",
    "    distanceMetric,\n",
    "    number_of_permutations,\n",
    "    ngramms,\n",
    "    jaccard_withchars,\n",
    "    prototypesFilterThr,\n",
    "    earlyStop=1\n",
    ")"
   ]
  },
  {
   "cell_type": "markdown",
   "metadata": {
    "tags": []
   },
   "source": [
    "##### Embeddings"
   ]
  },
  {
   "cell_type": "code",
   "execution_count": null,
   "metadata": {
    "tags": []
   },
   "outputs": [],
   "source": [
    "pcaComponents = PCA_SpaceVisualization(model.Embeddings)"
   ]
  },
  {
   "cell_type": "code",
   "execution_count": null,
   "metadata": {
    "tags": []
   },
   "outputs": [],
   "source": [
    "pcaComponents = PCA_SpaceVisualization(model.rankedVectors)"
   ]
  },
  {
   "cell_type": "markdown",
   "metadata": {
    "tags": []
   },
   "source": [
    "##### Results"
   ]
  },
  {
   "cell_type": "code",
   "execution_count": null,
   "metadata": {
    "tags": []
   },
   "outputs": [],
   "source": [
    "results_section1_edit[[\"max_numberOf_clusters\",\"max_editDistance\",\"prototypesFilterThr\",\"numOfPrototypes\",\"protSelectionVariance\"]].sort_values(by=['numOfPrototypes'], ascending=False).head(20)"
   ]
  },
  {
   "cell_type": "code",
   "execution_count": null,
   "metadata": {
    "tags": []
   },
   "outputs": [],
   "source": [
    "results_section1_edit[[\"max_numberOf_clusters\",\"max_editDistance\",\"prototypesFilterThr\",\"numOfPrototypes\",\"protSelectionVariance\"]].sort_values(by=['protSelectionVariance'], ascending=False).head(50)"
   ]
  },
  {
   "cell_type": "code",
   "execution_count": 53,
   "metadata": {
    "collapsed": true,
    "jupyter": {
     "outputs_hidden": true
    },
    "scrolled": true,
    "tags": []
   },
   "outputs": [
    {
     "data": {
      "application/vnd.jupyter.widget-view+json": {
       "model_id": "aa0f8e43d55c416ba776dc0c02502c29",
       "version_major": 2,
       "version_minor": 0
      },
      "text/plain": [
       "HBox(children=(FloatProgress(value=0.0, max=3.0), HTML(value='')))"
      ]
     },
     "metadata": {},
     "output_type": "display_data"
    },
    {
     "name": "stdout",
     "output_type": "stream",
     "text": [
      "+ ------------   1    ------------- +\n",
      "max_numberOf_clusters:  100\n",
      "max_editDistancez:  0.7\n",
      "similarityThreshold:  0.7\n",
      "windowSize:  50\n",
      "metric:  kendal\n",
      "similarityVectors:  ranked\n",
      "distanceMetricEmbedding:  euclidean\n",
      "distanceMetric:  jaccard\n",
      "number_of_permutations:  5\n",
      "withchars:  True\n",
      "ngramms:  True\n",
      "prototypeFilter:  0.2\n",
      "+ ----------------------------------- +\n",
      "\n",
      "#####################################################################\n",
      "#     .~ RankedWTAHash with Vantage embeddings starts training ~.   #\n",
      "#####################################################################\n",
      "\n",
      "###########################################################\n",
      "# > 1. Prototype selection phase                          #\n",
      "###########################################################\n",
      "\n",
      "\n",
      "-> Finding prototypes and representatives of each cluster:\n"
     ]
    },
    {
     "data": {
      "application/vnd.jupyter.widget-view+json": {
       "model_id": "16a41220b3b64b2e827eb9c9576d80b6",
       "version_major": 2,
       "version_minor": 0
      },
      "text/plain": [
       "HBox(children=(FloatProgress(value=0.0, max=1295.0), HTML(value='')))"
      ]
     },
     "metadata": {},
     "output_type": "display_data"
    },
    {
     "name": "stdout",
     "output_type": "stream",
     "text": [
      "\n",
      "0.35\n",
      "Prototypes before:\n",
      "[255, 599, 619, 729, 839, 879, 932, 982, 1016, 1024, 1064, 1184, 1217, 1274]\n",
      "Not wanted:\n",
      "{1024, 1184, 1217, 932, 839, 1064, 619, 982, 599, 1016, 729, 1274}\n",
      "Final:\n",
      "[255, 879]\n",
      "\n",
      "- Prototypes selected\n",
      "[255 879]\n",
      "255  ->  y freund m kearns d ron r rubinfeld re schapire and l sellie efficient learning of typical finite automata from random walks\n",
      "879  ->  m kearns efficient noisetolerant learning from statistical queries\n",
      "\n",
      "- Final number of prototypes:  2\n",
      "\n",
      "# Finished in 0.0560 secs\n",
      "\n",
      "\n",
      "[   0    1    2 ... 1292 1293 1294]\n",
      "+ ------------   2    ------------- +\n",
      "max_numberOf_clusters:  100\n",
      "max_editDistancez:  0.7\n",
      "similarityThreshold:  0.7\n",
      "windowSize:  50\n",
      "metric:  kendal\n",
      "similarityVectors:  ranked\n",
      "distanceMetricEmbedding:  euclidean\n",
      "distanceMetric:  jaccard\n",
      "number_of_permutations:  5\n",
      "withchars:  True\n",
      "ngramms:  True\n",
      "prototypeFilter:  0.3\n",
      "+ ----------------------------------- +\n",
      "\n",
      "#####################################################################\n",
      "#     .~ RankedWTAHash with Vantage embeddings starts training ~.   #\n",
      "#####################################################################\n",
      "\n",
      "###########################################################\n",
      "# > 1. Prototype selection phase                          #\n",
      "###########################################################\n",
      "\n",
      "\n",
      "-> Finding prototypes and representatives of each cluster:\n"
     ]
    },
    {
     "data": {
      "application/vnd.jupyter.widget-view+json": {
       "model_id": "64eead7710654d56945a8198003e4e22",
       "version_major": 2,
       "version_minor": 0
      },
      "text/plain": [
       "HBox(children=(FloatProgress(value=0.0, max=1295.0), HTML(value='')))"
      ]
     },
     "metadata": {},
     "output_type": "display_data"
    },
    {
     "name": "stdout",
     "output_type": "stream",
     "text": [
      "\n",
      "0.35\n",
      "Prototypes before:\n",
      "[255, 599, 619, 729, 839, 879, 932, 982, 1016, 1024, 1064, 1184, 1217, 1274]\n",
      "Not wanted:\n",
      "{1024, 1184, 1217, 932, 839, 1064, 619, 879, 982, 599, 1016, 729, 1274}\n",
      "Final:\n",
      "[255]\n",
      "\n",
      "- Prototypes selected\n",
      "[255]\n",
      "255  ->  y freund m kearns d ron r rubinfeld re schapire and l sellie efficient learning of typical finite automata from random walks\n",
      "\n",
      "- Final number of prototypes:  1\n",
      "\n",
      "# Finished in 0.0472 secs\n",
      "\n",
      "\n",
      "[   0    1    2 ... 1292 1293 1294]\n",
      "+ ------------   3    ------------- +\n",
      "max_numberOf_clusters:  100\n",
      "max_editDistancez:  0.8\n",
      "similarityThreshold:  0.7\n",
      "windowSize:  50\n",
      "metric:  kendal\n",
      "similarityVectors:  ranked\n",
      "distanceMetricEmbedding:  euclidean\n",
      "distanceMetric:  jaccard\n",
      "number_of_permutations:  5\n",
      "withchars:  True\n",
      "ngramms:  True\n",
      "prototypeFilter:  0.2\n",
      "+ ----------------------------------- +\n",
      "\n",
      "#####################################################################\n",
      "#     .~ RankedWTAHash with Vantage embeddings starts training ~.   #\n",
      "#####################################################################\n",
      "\n",
      "###########################################################\n",
      "# > 1. Prototype selection phase                          #\n",
      "###########################################################\n",
      "\n",
      "\n",
      "-> Finding prototypes and representatives of each cluster:\n"
     ]
    },
    {
     "data": {
      "application/vnd.jupyter.widget-view+json": {
       "model_id": "b13789b5ea9b4a03bbbc5e5bb8012566",
       "version_major": 2,
       "version_minor": 0
      },
      "text/plain": [
       "HBox(children=(FloatProgress(value=0.0, max=1295.0), HTML(value='')))"
      ]
     },
     "metadata": {},
     "output_type": "display_data"
    },
    {
     "name": "stdout",
     "output_type": "stream",
     "text": [
      "\n",
      "0.4\n",
      "Prototypes before:\n",
      "[509]\n",
      "Not wanted:\n",
      "set()\n",
      "Final:\n",
      "[509]\n",
      "\n",
      "- Prototypes selected\n",
      "[509]\n",
      "509  ->  d haussler m kearns n littlestone and m k warmuth equivalence of models for polynomial learnability\n",
      "\n",
      "- Final number of prototypes:  1\n",
      "\n",
      "# Finished in 0.0457 secs\n",
      "\n",
      "\n",
      "[   0    1    2 ... 1292 1293 1294]\n",
      "+ ------------   4    ------------- +\n",
      "max_numberOf_clusters:  100\n",
      "max_editDistancez:  0.8\n",
      "similarityThreshold:  0.7\n",
      "windowSize:  50\n",
      "metric:  kendal\n",
      "similarityVectors:  ranked\n",
      "distanceMetricEmbedding:  euclidean\n",
      "distanceMetric:  jaccard\n",
      "number_of_permutations:  5\n",
      "withchars:  True\n",
      "ngramms:  True\n",
      "prototypeFilter:  0.3\n",
      "+ ----------------------------------- +\n",
      "\n",
      "#####################################################################\n",
      "#     .~ RankedWTAHash with Vantage embeddings starts training ~.   #\n",
      "#####################################################################\n",
      "\n",
      "###########################################################\n",
      "# > 1. Prototype selection phase                          #\n",
      "###########################################################\n",
      "\n",
      "\n",
      "-> Finding prototypes and representatives of each cluster:\n"
     ]
    },
    {
     "data": {
      "application/vnd.jupyter.widget-view+json": {
       "model_id": "406edce898d04598b1a3251f2283d862",
       "version_major": 2,
       "version_minor": 0
      },
      "text/plain": [
       "HBox(children=(FloatProgress(value=0.0, max=1295.0), HTML(value='')))"
      ]
     },
     "metadata": {},
     "output_type": "display_data"
    },
    {
     "name": "stdout",
     "output_type": "stream",
     "text": [
      "\n",
      "0.4\n",
      "Prototypes before:\n",
      "[509]\n",
      "Not wanted:\n",
      "set()\n",
      "Final:\n",
      "[509]\n",
      "\n",
      "- Prototypes selected\n",
      "[509]\n",
      "509  ->  d haussler m kearns n littlestone and m k warmuth equivalence of models for polynomial learnability\n",
      "\n",
      "- Final number of prototypes:  1\n",
      "\n",
      "# Finished in 0.0444 secs\n",
      "\n",
      "\n",
      "[   0    1    2 ... 1292 1293 1294]\n",
      "+ ------------   5    ------------- +\n",
      "max_numberOf_clusters:  500\n",
      "max_editDistancez:  0.7\n",
      "similarityThreshold:  0.7\n",
      "windowSize:  50\n",
      "metric:  kendal\n",
      "similarityVectors:  ranked\n",
      "distanceMetricEmbedding:  euclidean\n",
      "distanceMetric:  jaccard\n",
      "number_of_permutations:  5\n",
      "withchars:  True\n",
      "ngramms:  True\n",
      "prototypeFilter:  0.2\n",
      "+ ----------------------------------- +\n",
      "\n",
      "#####################################################################\n",
      "#     .~ RankedWTAHash with Vantage embeddings starts training ~.   #\n",
      "#####################################################################\n",
      "\n",
      "###########################################################\n",
      "# > 1. Prototype selection phase                          #\n",
      "###########################################################\n",
      "\n",
      "\n",
      "-> Finding prototypes and representatives of each cluster:\n"
     ]
    },
    {
     "data": {
      "application/vnd.jupyter.widget-view+json": {
       "model_id": "11d12bb9ae794e468a00a8cfecfe04ff",
       "version_major": 2,
       "version_minor": 0
      },
      "text/plain": [
       "HBox(children=(FloatProgress(value=0.0, max=1295.0), HTML(value='')))"
      ]
     },
     "metadata": {},
     "output_type": "display_data"
    },
    {
     "name": "stdout",
     "output_type": "stream",
     "text": [
      "\n",
      "0.35\n",
      "Prototypes before:\n",
      "[255, 599, 619, 729, 839, 879, 932, 982, 1016, 1024, 1064, 1184, 1217, 1274]\n",
      "Not wanted:\n",
      "{1024, 1184, 1217, 932, 839, 1064, 619, 982, 599, 1016, 729, 1274}\n",
      "Final:\n",
      "[255, 879]\n",
      "\n",
      "- Prototypes selected\n",
      "[255 879]\n",
      "255  ->  y freund m kearns d ron r rubinfeld re schapire and l sellie efficient learning of typical finite automata from random walks\n",
      "879  ->  m kearns efficient noisetolerant learning from statistical queries\n",
      "\n",
      "- Final number of prototypes:  2\n",
      "\n",
      "# Finished in 0.0438 secs\n",
      "\n",
      "\n",
      "[   0    1    2 ... 1292 1293 1294]\n",
      "+ ------------   6    ------------- +\n",
      "max_numberOf_clusters:  500\n",
      "max_editDistancez:  0.7\n",
      "similarityThreshold:  0.7\n",
      "windowSize:  50\n",
      "metric:  kendal\n",
      "similarityVectors:  ranked\n",
      "distanceMetricEmbedding:  euclidean\n",
      "distanceMetric:  jaccard\n",
      "number_of_permutations:  5\n",
      "withchars:  True\n",
      "ngramms:  True\n",
      "prototypeFilter:  0.3\n",
      "+ ----------------------------------- +\n",
      "\n",
      "#####################################################################\n",
      "#     .~ RankedWTAHash with Vantage embeddings starts training ~.   #\n",
      "#####################################################################\n",
      "\n",
      "###########################################################\n",
      "# > 1. Prototype selection phase                          #\n",
      "###########################################################\n",
      "\n",
      "\n",
      "-> Finding prototypes and representatives of each cluster:\n"
     ]
    },
    {
     "data": {
      "application/vnd.jupyter.widget-view+json": {
       "model_id": "c8236e65bbe149358e82052bab5645c1",
       "version_major": 2,
       "version_minor": 0
      },
      "text/plain": [
       "HBox(children=(FloatProgress(value=0.0, max=1295.0), HTML(value='')))"
      ]
     },
     "metadata": {},
     "output_type": "display_data"
    },
    {
     "name": "stdout",
     "output_type": "stream",
     "text": [
      "\n",
      "0.35\n",
      "Prototypes before:\n",
      "[255, 599, 619, 729, 839, 879, 932, 982, 1016, 1024, 1064, 1184, 1217, 1274]\n",
      "Not wanted:\n",
      "{1024, 1184, 1217, 932, 839, 1064, 619, 879, 982, 599, 1016, 729, 1274}\n",
      "Final:\n",
      "[255]\n",
      "\n",
      "- Prototypes selected\n",
      "[255]\n",
      "255  ->  y freund m kearns d ron r rubinfeld re schapire and l sellie efficient learning of typical finite automata from random walks\n",
      "\n",
      "- Final number of prototypes:  1\n",
      "\n",
      "# Finished in 0.0440 secs\n",
      "\n",
      "\n",
      "[   0    1    2 ... 1292 1293 1294]\n",
      "+ ------------   7    ------------- +\n",
      "max_numberOf_clusters:  500\n",
      "max_editDistancez:  0.8\n",
      "similarityThreshold:  0.7\n",
      "windowSize:  50\n",
      "metric:  kendal\n",
      "similarityVectors:  ranked\n",
      "distanceMetricEmbedding:  euclidean\n",
      "distanceMetric:  jaccard\n",
      "number_of_permutations:  5\n",
      "withchars:  True\n",
      "ngramms:  True\n",
      "prototypeFilter:  0.2\n",
      "+ ----------------------------------- +\n",
      "\n",
      "#####################################################################\n",
      "#     .~ RankedWTAHash with Vantage embeddings starts training ~.   #\n",
      "#####################################################################\n",
      "\n",
      "###########################################################\n",
      "# > 1. Prototype selection phase                          #\n",
      "###########################################################\n",
      "\n",
      "\n",
      "-> Finding prototypes and representatives of each cluster:\n"
     ]
    },
    {
     "data": {
      "application/vnd.jupyter.widget-view+json": {
       "model_id": "26d9f28e794946988b2e8a51e9757f22",
       "version_major": 2,
       "version_minor": 0
      },
      "text/plain": [
       "HBox(children=(FloatProgress(value=0.0, max=1295.0), HTML(value='')))"
      ]
     },
     "metadata": {},
     "output_type": "display_data"
    },
    {
     "name": "stdout",
     "output_type": "stream",
     "text": [
      "\n",
      "0.4\n",
      "Prototypes before:\n",
      "[509]\n",
      "Not wanted:\n",
      "set()\n",
      "Final:\n",
      "[509]\n",
      "\n",
      "- Prototypes selected\n",
      "[509]\n",
      "509  ->  d haussler m kearns n littlestone and m k warmuth equivalence of models for polynomial learnability\n",
      "\n",
      "- Final number of prototypes:  1\n",
      "\n",
      "# Finished in 0.0584 secs\n",
      "\n",
      "\n",
      "[   0    1    2 ... 1292 1293 1294]\n",
      "+ ------------   8    ------------- +\n",
      "max_numberOf_clusters:  500\n",
      "max_editDistancez:  0.8\n",
      "similarityThreshold:  0.7\n",
      "windowSize:  50\n",
      "metric:  kendal\n",
      "similarityVectors:  ranked\n",
      "distanceMetricEmbedding:  euclidean\n",
      "distanceMetric:  jaccard\n",
      "number_of_permutations:  5\n",
      "withchars:  True\n",
      "ngramms:  True\n",
      "prototypeFilter:  0.3\n",
      "+ ----------------------------------- +\n",
      "\n",
      "#####################################################################\n",
      "#     .~ RankedWTAHash with Vantage embeddings starts training ~.   #\n",
      "#####################################################################\n",
      "\n",
      "###########################################################\n",
      "# > 1. Prototype selection phase                          #\n",
      "###########################################################\n",
      "\n",
      "\n",
      "-> Finding prototypes and representatives of each cluster:\n"
     ]
    },
    {
     "data": {
      "application/vnd.jupyter.widget-view+json": {
       "model_id": "789124d34d5f42d99199200d5b1ca928",
       "version_major": 2,
       "version_minor": 0
      },
      "text/plain": [
       "HBox(children=(FloatProgress(value=0.0, max=1295.0), HTML(value='')))"
      ]
     },
     "metadata": {},
     "output_type": "display_data"
    },
    {
     "name": "stdout",
     "output_type": "stream",
     "text": [
      "\n",
      "0.4\n",
      "Prototypes before:\n",
      "[509]\n",
      "Not wanted:\n",
      "set()\n",
      "Final:\n",
      "[509]\n",
      "\n",
      "- Prototypes selected\n",
      "[509]\n",
      "509  ->  d haussler m kearns n littlestone and m k warmuth equivalence of models for polynomial learnability\n",
      "\n",
      "- Final number of prototypes:  1\n",
      "\n",
      "# Finished in 0.0547 secs\n",
      "\n",
      "\n",
      "[   0    1    2 ... 1292 1293 1294]\n",
      "+ ------------   9    ------------- +\n",
      "max_numberOf_clusters:  1000\n",
      "max_editDistancez:  0.7\n",
      "similarityThreshold:  0.7\n",
      "windowSize:  50\n",
      "metric:  kendal\n",
      "similarityVectors:  ranked\n",
      "distanceMetricEmbedding:  euclidean\n",
      "distanceMetric:  jaccard\n",
      "number_of_permutations:  5\n",
      "withchars:  True\n",
      "ngramms:  True\n",
      "prototypeFilter:  0.2\n",
      "+ ----------------------------------- +\n",
      "\n",
      "#####################################################################\n",
      "#     .~ RankedWTAHash with Vantage embeddings starts training ~.   #\n",
      "#####################################################################\n",
      "\n",
      "###########################################################\n",
      "# > 1. Prototype selection phase                          #\n",
      "###########################################################\n",
      "\n",
      "\n",
      "-> Finding prototypes and representatives of each cluster:\n"
     ]
    },
    {
     "data": {
      "application/vnd.jupyter.widget-view+json": {
       "model_id": "a6bddceabe8f4d73a1b4026386ed4c9e",
       "version_major": 2,
       "version_minor": 0
      },
      "text/plain": [
       "HBox(children=(FloatProgress(value=0.0, max=1295.0), HTML(value='')))"
      ]
     },
     "metadata": {},
     "output_type": "display_data"
    },
    {
     "name": "stdout",
     "output_type": "stream",
     "text": [
      "\n",
      "0.35\n",
      "Prototypes before:\n",
      "[255, 599, 619, 729, 839, 879, 932, 982, 1016, 1024, 1064, 1184, 1217, 1274]\n",
      "Not wanted:\n",
      "{1024, 1184, 1217, 932, 839, 1064, 619, 982, 599, 1016, 729, 1274}\n",
      "Final:\n",
      "[255, 879]\n",
      "\n",
      "- Prototypes selected\n",
      "[255 879]\n",
      "255  ->  y freund m kearns d ron r rubinfeld re schapire and l sellie efficient learning of typical finite automata from random walks\n",
      "879  ->  m kearns efficient noisetolerant learning from statistical queries\n",
      "\n",
      "- Final number of prototypes:  2\n",
      "\n",
      "# Finished in 0.0476 secs\n",
      "\n",
      "\n",
      "[   0    1    2 ... 1292 1293 1294]\n",
      "+ ------------   10    ------------- +\n",
      "max_numberOf_clusters:  1000\n",
      "max_editDistancez:  0.7\n",
      "similarityThreshold:  0.7\n",
      "windowSize:  50\n",
      "metric:  kendal\n",
      "similarityVectors:  ranked\n",
      "distanceMetricEmbedding:  euclidean\n",
      "distanceMetric:  jaccard\n",
      "number_of_permutations:  5\n",
      "withchars:  True\n",
      "ngramms:  True\n",
      "prototypeFilter:  0.3\n",
      "+ ----------------------------------- +\n",
      "\n",
      "#####################################################################\n",
      "#     .~ RankedWTAHash with Vantage embeddings starts training ~.   #\n",
      "#####################################################################\n",
      "\n",
      "###########################################################\n",
      "# > 1. Prototype selection phase                          #\n",
      "###########################################################\n",
      "\n",
      "\n",
      "-> Finding prototypes and representatives of each cluster:\n"
     ]
    },
    {
     "data": {
      "application/vnd.jupyter.widget-view+json": {
       "model_id": "7793d9666dc946d691a2d61fe332a599",
       "version_major": 2,
       "version_minor": 0
      },
      "text/plain": [
       "HBox(children=(FloatProgress(value=0.0, max=1295.0), HTML(value='')))"
      ]
     },
     "metadata": {},
     "output_type": "display_data"
    },
    {
     "name": "stdout",
     "output_type": "stream",
     "text": [
      "\n",
      "0.35\n",
      "Prototypes before:\n",
      "[255, 599, 619, 729, 839, 879, 932, 982, 1016, 1024, 1064, 1184, 1217, 1274]\n",
      "Not wanted:\n",
      "{1024, 1184, 1217, 932, 839, 1064, 619, 879, 982, 599, 1016, 729, 1274}\n",
      "Final:\n",
      "[255]\n",
      "\n",
      "- Prototypes selected\n",
      "[255]\n",
      "255  ->  y freund m kearns d ron r rubinfeld re schapire and l sellie efficient learning of typical finite automata from random walks\n",
      "\n",
      "- Final number of prototypes:  1\n",
      "\n",
      "# Finished in 0.0563 secs\n",
      "\n",
      "\n",
      "[   0    1    2 ... 1292 1293 1294]\n",
      "+ ------------   11    ------------- +\n",
      "max_numberOf_clusters:  1000\n",
      "max_editDistancez:  0.8\n",
      "similarityThreshold:  0.7\n",
      "windowSize:  50\n",
      "metric:  kendal\n",
      "similarityVectors:  ranked\n",
      "distanceMetricEmbedding:  euclidean\n",
      "distanceMetric:  jaccard\n",
      "number_of_permutations:  5\n",
      "withchars:  True\n",
      "ngramms:  True\n",
      "prototypeFilter:  0.2\n",
      "+ ----------------------------------- +\n",
      "\n",
      "#####################################################################\n",
      "#     .~ RankedWTAHash with Vantage embeddings starts training ~.   #\n",
      "#####################################################################\n",
      "\n",
      "###########################################################\n",
      "# > 1. Prototype selection phase                          #\n",
      "###########################################################\n",
      "\n",
      "\n",
      "-> Finding prototypes and representatives of each cluster:\n"
     ]
    },
    {
     "data": {
      "application/vnd.jupyter.widget-view+json": {
       "model_id": "94de565758ca4ecd987ee1328c35aeb7",
       "version_major": 2,
       "version_minor": 0
      },
      "text/plain": [
       "HBox(children=(FloatProgress(value=0.0, max=1295.0), HTML(value='')))"
      ]
     },
     "metadata": {},
     "output_type": "display_data"
    },
    {
     "name": "stdout",
     "output_type": "stream",
     "text": [
      "\n",
      "0.4\n",
      "Prototypes before:\n",
      "[509]\n",
      "Not wanted:\n",
      "set()\n",
      "Final:\n",
      "[509]\n",
      "\n",
      "- Prototypes selected\n",
      "[509]\n",
      "509  ->  d haussler m kearns n littlestone and m k warmuth equivalence of models for polynomial learnability\n",
      "\n",
      "- Final number of prototypes:  1\n",
      "\n",
      "# Finished in 0.0457 secs\n",
      "\n",
      "\n",
      "[   0    1    2 ... 1292 1293 1294]\n",
      "+ ------------   12    ------------- +\n",
      "max_numberOf_clusters:  1000\n",
      "max_editDistancez:  0.8\n",
      "similarityThreshold:  0.7\n",
      "windowSize:  50\n",
      "metric:  kendal\n",
      "similarityVectors:  ranked\n",
      "distanceMetricEmbedding:  euclidean\n",
      "distanceMetric:  jaccard\n",
      "number_of_permutations:  5\n",
      "withchars:  True\n",
      "ngramms:  True\n",
      "prototypeFilter:  0.3\n",
      "+ ----------------------------------- +\n",
      "\n",
      "#####################################################################\n",
      "#     .~ RankedWTAHash with Vantage embeddings starts training ~.   #\n",
      "#####################################################################\n",
      "\n",
      "###########################################################\n",
      "# > 1. Prototype selection phase                          #\n",
      "###########################################################\n",
      "\n",
      "\n",
      "-> Finding prototypes and representatives of each cluster:\n"
     ]
    },
    {
     "data": {
      "application/vnd.jupyter.widget-view+json": {
       "model_id": "b786c12814e043e6ac0e305e2b8fc03f",
       "version_major": 2,
       "version_minor": 0
      },
      "text/plain": [
       "HBox(children=(FloatProgress(value=0.0, max=1295.0), HTML(value='')))"
      ]
     },
     "metadata": {},
     "output_type": "display_data"
    },
    {
     "name": "stdout",
     "output_type": "stream",
     "text": [
      "\n",
      "0.4\n",
      "Prototypes before:\n",
      "[509]\n",
      "Not wanted:\n",
      "set()\n",
      "Final:\n",
      "[509]\n",
      "\n",
      "- Prototypes selected\n",
      "[509]\n",
      "509  ->  d haussler m kearns n littlestone and m k warmuth equivalence of models for polynomial learnability\n",
      "\n",
      "- Final number of prototypes:  1\n",
      "\n",
      "# Finished in 0.0523 secs\n",
      "\n",
      "\n",
      "[   0    1    2 ... 1292 1293 1294]\n",
      "\n"
     ]
    }
   ],
   "source": [
    "max_numberOf_clusters= [100,500,1000]\n",
    "max_editDistance= [0.7,0.8]\n",
    "prototypesFilterThr = [0.2,0.3]\n",
    "\n",
    "distanceMetric= ['jaccard']\n",
    "\n",
    "\n",
    "ngramms= [2,3]  \n",
    "jaccard_withchars = [True] \n",
    "\n",
    "# ---------------- #\n",
    "\n",
    "distanceMetricEmbedding = ['euclidean']\n",
    "\n",
    "windowSize= [50]\n",
    "number_of_permutations = [5]\n",
    "\n",
    "similarityThreshold= [0.7]\n",
    "similarityVectors= ['ranked']\n",
    "metric= ['kendal']\n",
    "\n",
    "\n",
    "results_section1_jac = GridSearch_cora(\n",
    "    data,true_matrix,\n",
    "    max_numberOf_clusters,\n",
    "    max_editDistance,\n",
    "    similarityThreshold,\n",
    "    windowSize,\n",
    "    metric,\n",
    "    similarityVectors,\n",
    "    distanceMetricEmbedding,\n",
    "    distanceMetric,\n",
    "    number_of_permutations,\n",
    "    ngramms,\n",
    "    jaccard_withchars,\n",
    "    prototypesFilterThr,\n",
    "    earlyStop=1\n",
    ")"
   ]
  },
  {
   "cell_type": "markdown",
   "metadata": {
    "tags": []
   },
   "source": [
    "##### Embeddings"
   ]
  },
  {
   "cell_type": "code",
   "execution_count": null,
   "metadata": {
    "tags": []
   },
   "outputs": [],
   "source": [
    "pcaComponents = PCA_SpaceVisualization(model.Embeddings)"
   ]
  },
  {
   "cell_type": "code",
   "execution_count": null,
   "metadata": {
    "tags": []
   },
   "outputs": [],
   "source": [
    "pcaComponents = PCA_SpaceVisualization(model.rankedVectors)"
   ]
  },
  {
   "cell_type": "markdown",
   "metadata": {
    "tags": []
   },
   "source": [
    "##### Results"
   ]
  },
  {
   "cell_type": "code",
   "execution_count": null,
   "metadata": {
    "scrolled": true,
    "tags": []
   },
   "outputs": [],
   "source": [
    "results_section1_jac[[\"max_numberOf_clusters\",\"max_editDistance\",\"prototypesFilterThr\",\"numOfPrototypes\",\"protSelectionVariance\"]].sort_values(by=['numOfPrototypes'], ascending=False).head(20)"
   ]
  },
  {
   "cell_type": "code",
   "execution_count": null,
   "metadata": {
    "scrolled": true,
    "tags": []
   },
   "outputs": [],
   "source": [
    "results_section1_jac[[\"max_numberOf_clusters\",\"max_editDistance\",\"prototypesFilterThr\",\"numOfPrototypes\",\"protSelectionVariance\"]].sort_values(by=['protSelectionVariance'], ascending=True).head(50)"
   ]
  },
  {
   "cell_type": "markdown",
   "metadata": {},
   "source": [
    "#### [iii] Fine tunning  __WTA algorithm__\n",
    "\n",
    "\n",
    "Goals:\n",
    "\n",
    "- __Ranked vectors dimension__\n",
    "- __Permutations__: A number of permutations will be forced in order to better split data into buckets.\n",
    "\n",
    " \n",
    "Parameters to fine tunne:\n",
    "\n",
    "- ```windowSize```: Vector size after WTA\n",
    "- ```number_of_permutations```: How many times vectors will be permuted and hashed\n",
    "\n",
    "All these parameters will be tested both for edit distance and jaccard with 3-grams."
   ]
  },
  {
   "cell_type": "markdown",
   "metadata": {},
   "source": [
    "#### [iv] Fine tunning  __Similarity checking__"
   ]
  },
  {
   "cell_type": "code",
   "execution_count": 25,
   "metadata": {},
   "outputs": [
    {
     "data": {
      "text/plain": [
       "array([[       nan,        nan,        nan, ...,        nan,        nan,\n",
       "               nan],\n",
       "       [       nan,        nan, 0.88980233, ...,        nan,        nan,\n",
       "               nan],\n",
       "       [       nan, 0.88980233,        nan, ...,        nan,        nan,\n",
       "               nan],\n",
       "       ...,\n",
       "       [       nan,        nan,        nan, ...,        nan,        nan,\n",
       "               nan],\n",
       "       [       nan,        nan,        nan, ...,        nan,        nan,\n",
       "        0.97554297],\n",
       "       [       nan,        nan,        nan, ...,        nan, 0.97554297,\n",
       "               nan]])"
      ]
     },
     "execution_count": 25,
     "metadata": {},
     "output_type": "execute_result"
    }
   ],
   "source": [
    "model.similarityProb_matrix"
   ]
  },
  {
   "cell_type": "code",
   "execution_count": null,
   "metadata": {},
   "outputs": [],
   "source": [
    "similarityProbsHeatMap(model.similarityProb_matrix, \"Heatmap\")"
   ]
  },
  {
   "cell_type": "code",
   "execution_count": 40,
   "metadata": {},
   "outputs": [
    {
     "data": {
      "text/plain": [
       "array([[0, 0, 0, ..., 0, 0, 0],\n",
       "       [0, 0, 1, ..., 0, 0, 0],\n",
       "       [0, 0, 0, ..., 0, 0, 0],\n",
       "       ...,\n",
       "       [0, 0, 0, ..., 0, 0, 0],\n",
       "       [0, 0, 0, ..., 0, 0, 1],\n",
       "       [0, 0, 0, ..., 0, 0, 0]], dtype=int8)"
      ]
     },
     "execution_count": 40,
     "metadata": {},
     "output_type": "execute_result"
    }
   ],
   "source": [
    "model.mapping_matrix"
   ]
  },
  {
   "cell_type": "code",
   "execution_count": null,
   "metadata": {},
   "outputs": [],
   "source": []
  },
  {
   "cell_type": "code",
   "execution_count": 42,
   "metadata": {},
   "outputs": [
    {
     "data": {
      "text/plain": [
       "array([[0, 0, 0, ..., 0, 0, 0],\n",
       "       [0, 0, 1, ..., 0, 0, 0],\n",
       "       [0, 0, 0, ..., 0, 0, 0],\n",
       "       ...,\n",
       "       [0, 0, 0, ..., 0, 0, 0],\n",
       "       [0, 0, 0, ..., 0, 0, 1],\n",
       "       [0, 0, 0, ..., 0, 0, 0]], dtype=int8)"
      ]
     },
     "execution_count": 42,
     "metadata": {},
     "output_type": "execute_result"
    }
   ],
   "source": [
    "true_matrix"
   ]
  },
  {
   "cell_type": "code",
   "execution_count": null,
   "metadata": {},
   "outputs": [],
   "source": []
  },
  {
   "cell_type": "code",
   "execution_count": null,
   "metadata": {},
   "outputs": [],
   "source": []
  },
  {
   "cell_type": "markdown",
   "metadata": {},
   "source": [
    "#### [v] Model final fine tunning\n"
   ]
  },
  {
   "cell_type": "markdown",
   "metadata": {
    "tags": []
   },
   "source": [
    "##### Edit distance"
   ]
  },
  {
   "cell_type": "code",
   "execution_count": null,
   "metadata": {
    "scrolled": true,
    "tags": []
   },
   "outputs": [],
   "source": [
    "max_numberOf_clusters= [100,500,1000]\n",
    "max_editDistance= [50,100]\n",
    "prototypesFilterThr = [20,40,70]\n",
    "\n",
    "distanceMetric= ['edit']\n",
    "\n",
    "ngramms= [3]  \n",
    "jaccard_withchars = [False] \n",
    "\n",
    "distanceMetricEmbedding = ['l_inf','euclidean']\n",
    "\n",
    "windowSize= [16,32,64,128]\n",
    "number_of_permutations = [1,4,8]\n",
    "\n",
    "similarityThreshold= [0.7,0.75,0.8]\n",
    "similarityVectors= ['initial','ranked']\n",
    "metric= ['kendal','customKendal']\n",
    "\n",
    "\n",
    "\n",
    "results_section1_edit = GridSearch_cora(\n",
    "    data,true_matrix,\n",
    "    max_numberOf_clusters,\n",
    "    max_editDistance,\n",
    "    similarityThreshold,\n",
    "    windowSize,\n",
    "    metric,\n",
    "    similarityVectors,\n",
    "    distanceMetricEmbedding,\n",
    "    distanceMetric,\n",
    "    number_of_permutations,\n",
    "    ngramms,\n",
    "    jaccard_withchars,\n",
    "    prototypesFilterThr,\n",
    "    earlyStop=0\n",
    ")"
   ]
  },
  {
   "cell_type": "markdown",
   "metadata": {
    "tags": []
   },
   "source": [
    "##### Embeddings"
   ]
  },
  {
   "cell_type": "code",
   "execution_count": null,
   "metadata": {
    "tags": []
   },
   "outputs": [],
   "source": [
    "pcaComponents = PCA_SpaceVisualization(model.Embeddings)"
   ]
  },
  {
   "cell_type": "code",
   "execution_count": null,
   "metadata": {
    "tags": []
   },
   "outputs": [],
   "source": [
    "pcaComponents = PCA_SpaceVisualization(model.rankedVectors)"
   ]
  },
  {
   "cell_type": "markdown",
   "metadata": {
    "tags": []
   },
   "source": [
    "##### Results"
   ]
  },
  {
   "cell_type": "code",
   "execution_count": null,
   "metadata": {
    "tags": []
   },
   "outputs": [],
   "source": [
    "results_section1_edit[[\"max_numberOf_clusters\",\"max_editDistance\",\"prototypesFilterThr\",\"numOfPrototypes\",\"protSelectionVariance\"]].sort_values(by=['numOfPrototypes'], ascending=False).head(20)"
   ]
  },
  {
   "cell_type": "code",
   "execution_count": null,
   "metadata": {
    "scrolled": true,
    "tags": []
   },
   "outputs": [],
   "source": [
    "results_section1_edit[[\"max_numberOf_clusters\",\"max_editDistance\",\"prototypesFilterThr\",\"numOfPrototypes\",\"protSelectionVariance\"]].sort_values(by=['protSelectionVariance'], ascending=False).head(50)"
   ]
  },
  {
   "cell_type": "markdown",
   "metadata": {
    "tags": []
   },
   "source": [
    "##### Jaccard"
   ]
  },
  {
   "cell_type": "code",
   "execution_count": null,
   "metadata": {
    "scrolled": true,
    "tags": []
   },
   "outputs": [],
   "source": [
    "max_numberOf_clusters= [100,500,1000]\n",
    "max_jacDistance= [0.3,0.6,0.7,0.8]\n",
    "prototypesFilterThr = [0.2,0.3,0.4,0.7,0.8]\n",
    "\n",
    "distanceMetric= ['jaccard']\n",
    "\n",
    "\n",
    "ngramms= [3]  \n",
    "jaccard_withchars = [True] \n",
    "\n",
    "distanceMetricEmbedding = ['euclidean','euclid_jaccard']\n",
    "\n",
    "windowSize= [50]\n",
    "number_of_permutations = [5]\n",
    "\n",
    "similarityThreshold= [0.7]\n",
    "similarityVectors= ['ranked']\n",
    "metric= ['kendal']\n",
    "\n",
    "\n",
    "results_section1_jac = GridSearch_cora(\n",
    "    data,true_matrix,\n",
    "    max_numberOf_clusters,\n",
    "    max_jacDistance,\n",
    "    similarityThreshold,\n",
    "    windowSize,\n",
    "    metric,\n",
    "    similarityVectors,\n",
    "    distanceMetricEmbedding,\n",
    "    distanceMetric,\n",
    "    number_of_permutations,\n",
    "    ngramms,\n",
    "    jaccard_withchars,\n",
    "    prototypesFilterThr,\n",
    "    earlyStop=1\n",
    ")"
   ]
  },
  {
   "cell_type": "markdown",
   "metadata": {
    "tags": []
   },
   "source": [
    "##### Embeddings"
   ]
  },
  {
   "cell_type": "code",
   "execution_count": null,
   "metadata": {
    "tags": []
   },
   "outputs": [],
   "source": [
    "pcaComponents = PCA_SpaceVisualization(model.Embeddings)"
   ]
  },
  {
   "cell_type": "code",
   "execution_count": null,
   "metadata": {
    "tags": []
   },
   "outputs": [],
   "source": [
    "pcaComponents = PCA_SpaceVisualization(model.rankedVectors)"
   ]
  },
  {
   "cell_type": "code",
   "execution_count": null,
   "metadata": {
    "scrolled": true,
    "tags": []
   },
   "outputs": [],
   "source": [
    "results_section1_jac[[\"max_numberOf_clusters\",\"max_editDistance\",\"prototypesFilterThr\",\"numOfPrototypes\",\"protSelectionVariance\"]].sort_values(by=['numOfPrototypes'], ascending=False).head(20)"
   ]
  },
  {
   "cell_type": "code",
   "execution_count": null,
   "metadata": {
    "scrolled": true,
    "tags": []
   },
   "outputs": [],
   "source": [
    "results_section1_jac[[\"max_numberOf_clusters\",\"max_editDistance\",\"prototypesFilterThr\",\"numOfPrototypes\",\"protSelectionVariance\"]].sort_values(by=['protSelectionVariance'], ascending=False).head(50)"
   ]
  },
  {
   "cell_type": "markdown",
   "metadata": {},
   "source": [
    "### Performance details"
   ]
  },
  {
   "cell_type": "markdown",
   "metadata": {},
   "source": [
    "#### Embeddings"
   ]
  },
  {
   "cell_type": "code",
   "execution_count": null,
   "metadata": {},
   "outputs": [],
   "source": [
    "pcaComponents = PCA_SpaceVisualization(model.Embeddings)"
   ]
  },
  {
   "cell_type": "code",
   "execution_count": null,
   "metadata": {},
   "outputs": [],
   "source": [
    "pcaComponents = PCA_SpaceVisualization(model.rankedVectors)"
   ]
  },
  {
   "cell_type": "markdown",
   "metadata": {},
   "source": [
    "# References\n",
    "\n",
    "1.   [The dissimilarity representation for pattern recognition, a tutorial\n",
    "Robert P.W. Duin and Elzbieta Pekalska Delft University of Technology, The Netherlands School of Computer Science, University of Manchester, United Kingdom](http://homepage.tudelft.nl/a9p19/presentations/DisRep_Tutorial_doc.pdf)"
   ]
  }
 ],
 "metadata": {
  "kernelspec": {
   "display_name": "Python 3",
   "language": "python",
   "name": "python3"
  },
  "language_info": {
   "codemirror_mode": {
    "name": "ipython",
    "version": 3
   },
   "file_extension": ".py",
   "mimetype": "text/x-python",
   "name": "python",
   "nbconvert_exporter": "python",
   "pygments_lexer": "ipython3",
   "version": "3.7.6"
  },
  "toc-autonumbering": false,
  "toc-showcode": false,
  "toc-showmarkdowntxt": false,
  "toc-showtags": false
 },
 "nbformat": 4,
 "nbformat_minor": 4
}
