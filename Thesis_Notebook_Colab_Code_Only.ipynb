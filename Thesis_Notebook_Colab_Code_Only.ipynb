{
  "nbformat": 4,
  "nbformat_minor": 0,
  "metadata": {
    "kernelspec": {
      "display_name": "Python 3",
      "language": "python",
      "name": "python3"
    },
    "language_info": {
      "codemirror_mode": {
        "name": "ipython",
        "version": 3
      },
      "file_extension": ".py",
      "mimetype": "text/x-python",
      "name": "python",
      "nbconvert_exporter": "python",
      "pygments_lexer": "ipython3",
      "version": "3.7.6"
    },
    "colab": {
      "name": "Thesis_Notebook_Colab-Code_Only.ipynb",
      "provenance": [],
      "collapsed_sections": [
        "QgEYWOZiuIm9",
        "GfQTwBsdtmuj",
        "S4WmO8Rmtrc0",
        "HCYtFW8AtuJa",
        "JyWFIXimt0tm"
      ],
      "toc_visible": true
    }
  },
  "cells": [
    {
      "cell_type": "markdown",
      "metadata": {
        "id": "D_846yHsY2nT"
      },
      "source": [
        "<p align=\"center\">\n",
        " <img src=\"http://www.di.uoa.gr/themes/corporate_lite/logo_en.png\" title=\"Department of Informatics and Telecommunications - University of Athens\"/> </p>\n",
        "\n",
        "<br>\n",
        "\n",
        "---\n",
        "\n",
        "<h3 align=\"center\" > \n",
        "  Bachelor Thesis\n",
        "</h3>\n",
        "\n",
        "<h1 align=\"center\" > \n",
        "  Entity Resolution in Dissimilarity Spaces <br>\n",
        "  Implementation notebook\n",
        "</h1>\n",
        "\n",
        "---\n",
        "\n",
        "<h3 align=\"center\"> \n",
        " <b>Konstantinos Nikoletos</b>\n",
        "</h3>\n",
        "\n",
        "<h4 align=\"center\"> \n",
        " <b>Supervisor: Dr. Alex Delis</b>,  Professor NKUA\n",
        "</h4>\n",
        "<br>\n",
        "<h4 align=\"center\"> \n",
        "Athens\n",
        "</h4>\n",
        "<h4 align=\"center\"> \n",
        "January 2021 - Ongoing\n",
        "</h4>\n",
        "\n",
        "\n",
        "---"
      ]
    },
    {
      "cell_type": "markdown",
      "metadata": {
        "id": "tHhqH2vwY2nf"
      },
      "source": [
        "\n",
        "|  <font size=\"5\"> Contents</font> |\n",
        "| :--   |\n",
        "|**1. [Abstract](#Abstract)** |\n",
        "|**2. [Introduction](#Introduction)**  |\n",
        "&nbsp;&nbsp;&nbsp;**2.1. [   Entity resolution](#Entity-resolution)** |\n",
        "&nbsp;&nbsp;&nbsp;**2.2. [   Dissimilatiry space](#Dissimilatiry-Space)** |\n",
        "|**3. [ A dissimilarity-based space embedding methodology](#scrollTo=DcAYuFQjY2ni)** <br>\n",
        "&nbsp;&nbsp;&nbsp;**3.1 [String Clustering and Prototype Selection](#3.1-String-Clustering-and-Prototype-Selection)** <br>\n",
        "&nbsp;&nbsp;&nbsp;&nbsp;&nbsp;&nbsp;&nbsp;&nbsp;**3.1.1. [Edit distance metric](#Edit-distance-metric)** <br>\n",
        "&nbsp;&nbsp;&nbsp;&nbsp;&nbsp;&nbsp;&nbsp;&nbsp;**3.1.2. [String clustering algorithm](#String-clustering-algorithm)** <br>\n",
        "&nbsp;&nbsp;&nbsp;&nbsp;&nbsp;&nbsp;&nbsp;&nbsp;**3.1.3. [Algorithm complexity](#Algorithm-complexity)** <br>\n",
        "&nbsp;&nbsp;&nbsp;&nbsp;&nbsp;&nbsp;&nbsp;&nbsp;**3.1.4. [Prototype selection](#Prototype-selection)** <br>\n",
        "&nbsp;&nbsp;&nbsp;&nbsp;&nbsp;&nbsp;&nbsp;&nbsp;**3.1.5. [Algorithm-1: The String Clustering and Prototype Selection Algorithm](#Algorithm-1:-The-String-Clustering-and-Prototype-Selection-Algorithm)** <br>\n",
        "&nbsp;&nbsp;&nbsp;**3.2 [The Vantage Space Embedding and the Chorus of Prototypes Transform Similarity Coefficient](#3.2-The-Vantage-Space-Embedding-and-the-Chorus-of-Prototypes-Transform-Similarity-Coefficient)&nbsp; &nbsp;&nbsp; &nbsp;&nbsp; &nbsp;&nbsp; &nbsp;&nbsp; &nbsp;&nbsp; &nbsp;&nbsp; &nbsp;&nbsp; &nbsp;&nbsp; &nbsp;&nbsp; &nbsp;&nbsp; &nbsp;&nbsp; &nbsp;&nbsp; &nbsp;&nbsp; &nbsp;&nbsp; &nbsp;&nbsp; &nbsp;&nbsp; &nbsp;&nbsp; &nbsp;&nbsp; &nbsp;&nbsp; &nbsp;&nbsp; &nbsp;&nbsp; &nbsp;&nbsp; &nbsp;&nbsp; &nbsp;&nbsp; &nbsp;&nbsp; &nbsp;&nbsp; &nbsp;&nbsp; &nbsp; &nbsp; &nbsp;&nbsp; &nbsp; &nbsp; &nbsp;&nbsp; &nbsp;&nbsp; &nbsp;&nbsp; &nbsp;&nbsp; &nbsp;&nbsp; &nbsp; &nbsp; &nbsp;&nbsp; &nbsp;&nbsp; &nbsp;**  <br>\n",
        "&nbsp;&nbsp;&nbsp;**3.3 [A Top-k List Approach for Similarity Searching in the Vantage Space](#3.3-A-Top-k-List-Approach-for-Similarity-Searching-in-the-Vantage-Space)**  |\n",
        "&nbsp;&nbsp;&nbsp;&nbsp;&nbsp;&nbsp;&nbsp;&nbsp;**3.3.1. [Abstract Algebra definitions](#Abstract-Algebra-definitions)** <br>\n",
        "&nbsp;&nbsp;&nbsp;&nbsp;&nbsp;&nbsp;&nbsp;&nbsp;**3.3.2. [Hausdorff metric](#Hausdorff-metric)** <br>\n",
        "&nbsp;&nbsp;&nbsp;**3.4 [Hashing of Partially Ranked Data for Efficient Similarity Search](#3.4-Hashing-of-Partially-Ranked-Data-for-Efficient-Similarity-Search)** |\n",
        "|**4. [ Evaluation](#Evaluation)** |\n",
        "|**5. [References](#References)**  |\n",
        "\n"
      ]
    },
    {
      "cell_type": "markdown",
      "metadata": {
        "id": "kQzslCUquel6"
      },
      "source": [
        "# __Implementation__"
      ]
    },
    {
      "cell_type": "markdown",
      "metadata": {
        "id": "QgEYWOZiuIm9"
      },
      "source": [
        "## __0. Libraries__"
      ]
    },
    {
      "cell_type": "code",
      "metadata": {
        "id": "yAH7Pye6fPZW"
      },
      "source": [
        "import pandas as pd\n",
        "import numpy as np\n",
        "import collections"
      ],
      "execution_count": 3,
      "outputs": []
    },
    {
      "cell_type": "markdown",
      "metadata": {
        "id": "GfQTwBsdtmuj"
      },
      "source": [
        "## __1. Prototype selection algorithm__"
      ]
    },
    {
      "cell_type": "code",
      "metadata": {
        "id": "oqrkgd4ZY2nn"
      },
      "source": [
        "#####################################################################\n",
        "# 1. Prototype selection algorithm                                  #\n",
        "#####################################################################\n",
        "\n",
        "'''\n",
        "Clustering_Prototypes(S,k,d,r,C) \n",
        "The String Clustering and Prototype Selection Algorithm\n",
        "is the main clustering method, that takes as input the intial strings S, \n",
        "the max number of clusters to be generated in k,\n",
        "the maximum allowable distance of a string to join a cluster in var d\n",
        "and returns the prototype for each cluster in array Prototype\n",
        "'''\n",
        "def Clustering_Prototypes(S,k,d,pairDictionary,verbose=True):\n",
        "    \n",
        "    # ----------------- Initialization phase ----------------- #\n",
        "    i = 0\n",
        "    j = 0\n",
        "    C = np.empty([S_set.size], dtype=int)\n",
        "    r = np.empty([2,k],dtype=object)\n",
        "\n",
        "    Clusters = [ [] for l in range(0,k)]\n",
        "\n",
        "    while i < S.size:     # String-clustering phase, for all strings\n",
        "        while j < k :       # iteration through clusters, for all clusters\n",
        "            if r[0][j] == None:      # case empty first representative for cluster j\n",
        "                r[0][j] = S[i]   # init cluster representative with string i\n",
        "                C[i] = j         # store in C that i-string belongs to cluster j\n",
        "                Clusters[j].append(S[i])\n",
        "                break\n",
        "            elif r[1][j] == None and (EditDistance(S[i],r[0][j],pairDictionary) <= d):  # case empty second representative \n",
        "                r[1][j] = S[i]                                             # and ED of representative 1  smaller than i-th string \n",
        "                C[i] = j\n",
        "                Clusters[j].append(S[i])\n",
        "                break\n",
        "            elif (r[0][j] != None and r[1][j] != None) and (EditDistance(S[i],r[0][j],pairDictionary) + EditDistance(S[i],r[1][j],pairDictionary)) <= d:\n",
        "                C[i] = j\n",
        "                Clusters[j].append(S[i])\n",
        "                break\n",
        "            else:\n",
        "                j += 1\n",
        "        i += 1\n",
        "    \n",
        "    # ----------------- Prototype selection phase ----------------- #\n",
        "        \n",
        "    Projections = np.empty([k],dtype=object)\n",
        "    Prototypes = np.empty([k],dtype=int)\n",
        "    sortedProjections = np.empty([k],dtype=object)\n",
        "    j = 0\n",
        "\n",
        "    if verbose:\n",
        "        print(\"- - - - - - - - -\")\n",
        "        print(\"Cluster array:\")\n",
        "        print(C)\n",
        "        print(\"- - - - - - - - -\")\n",
        "        print(\"Represantatives array:\")\n",
        "        print(r)\n",
        "        print(\"- - - - - - - - -\")  \n",
        "        print(\"Clusters:\")\n",
        "        print(Clusters)\n",
        "        print(\"- - - - - - - - -\")  \n",
        "\n",
        "    \n",
        "    while j < k and len(Clusters[j])>0:\n",
        "        print(\"\\n\\n\\n****** Prototype selection phase *********\") \n",
        "        Projections[j] = Approximated_Projection_Distances_ofCluster(r[1][j], r[0][j], j, Clusters[j],pairDictionary)\n",
        "        # sortedProjections[j] = np.sort(np.array(Projections[j]),kind = 'quicksort' ) \n",
        "        \n",
        "        print(\"\\n\"+str(j)+\"-Projections:\")\n",
        "        print(Projections[j])\n",
        "        \n",
        "        sortedProjections[j] = {k: v for k, v in sorted(Projections[j].items(), key=lambda item: item[1])}\n",
        "\n",
        "        print(str(j)+\"-sortedProjections:\")\n",
        "        print(sortedProjections[j])\n",
        "        \n",
        "        Prototypes[j] = Median(sortedProjections[j])\n",
        "        \n",
        "        print(\".............\")\n",
        "        print(str(j)+\"-Prototypes:\")        \n",
        "        print(Prototypes[j])\n",
        "        \n",
        "        j += 1\n",
        "        print(\"\\n****** END *********\\n\")\n",
        "\n",
        "    return Prototypes\n",
        "\n",
        "def EditDistance(str1,str2,pairDictionary,verbose=False):\n",
        "    if verbose:\n",
        "        if str1 == None:\n",
        "            print(\"1\")\n",
        "        elif str2 == None:\n",
        "            print(\"2\")\n",
        "        print(\"-> \"+str(str1))\n",
        "        print(\"--> \"+str(str2))\n",
        "        print(str(editdistance.eval(S_set[str1],S_set[str2])))\n",
        "    \n",
        "    \n",
        "    # NOTE: Duplicates inside the dictionary     \n",
        "\n",
        "    if ((str1,str2) or (str2,str1))  in pairDictionary.keys():\n",
        "        return pairDictionary[(str1,str2)]\n",
        "    else:\n",
        "        distance = editdistance.eval(S_set[str1],S_set[str2])\n",
        "        pairDictionary[(str2,str1)] = pairDictionary[(str1,str2)] = distance\n",
        "        return distance\n",
        "\n",
        "\n",
        "def Approximated_Projection_Distances_ofCluster(right_rep, left_rep, cluster_id, clusterSet,pairDictionary):\n",
        "\n",
        "    distances_vector = dict()\n",
        "    rep_distance     = EditDistance(right_rep,left_rep)\n",
        "\n",
        "    for str_inCluster in range(0,len(clusterSet)): \n",
        "\n",
        "      right_rep_distance = EditDistance(right_rep,clusterSet[str_inCluster])\n",
        "      left_rep_distance  = EditDistance(left_rep,clusterSet[str_inCluster])\n",
        "      \n",
        "      distance = (right_rep_distance**2-rep_distance**2-left_rep_distance**2 ) / (2*rep_distance)\n",
        "      distances_vector[clusterSet[str_inCluster]] = distance\n",
        "\n",
        "    return distances_vector\n",
        "\n",
        "def Median(distances):    \n",
        "    '''\n",
        "    Returns the median value of a vector\n",
        "    '''\n",
        "    keys = list(distances.keys())\n",
        "    median_position = int(len(keys)/2)\n",
        "    median_value = keys[median_position]\n",
        "\n",
        "    return median_value"
      ],
      "execution_count": 34,
      "outputs": []
    },
    {
      "cell_type": "code",
      "metadata": {
        "id": "GxCXrXlLY2nj",
        "colab": {
          "base_uri": "https://localhost:8080/"
        },
        "outputId": "78212d76-de52-450d-8481-19309ee71e43"
      },
      "source": [
        "!pip install editdistance"
      ],
      "execution_count": null,
      "outputs": [
        {
          "output_type": "stream",
          "text": [
            "Requirement already satisfied: editdistance in /usr/local/lib/python3.7/dist-packages (0.5.3)\n"
          ],
          "name": "stdout"
        }
      ]
    },
    {
      "cell_type": "code",
      "metadata": {
        "id": "QK3BIfl8Y2nk",
        "colab": {
          "base_uri": "https://localhost:8080/"
        },
        "outputId": "31447669-14ce-4b63-cbd5-ebe6653724b9"
      },
      "source": [
        "import editdistance\n",
        "\n",
        "print(\"Edit distance: \"+str(editdistance.eval('banana', 'bahama')))"
      ],
      "execution_count": null,
      "outputs": [
        {
          "output_type": "stream",
          "text": [
            "Edit distance: 2\n"
          ],
          "name": "stdout"
        }
      ]
    },
    {
      "cell_type": "code",
      "metadata": {
        "id": "AyCcESXRY2no",
        "colab": {
          "base_uri": "https://localhost:8080/"
        },
        "outputId": "3ed971aa-63dc-4fab-c8d2-554db7facc72"
      },
      "source": [
        "pairDictionary = dict()\n",
        "input_strings = list(strObjects)\n",
        "k = 7 # max_number_of_clusters\n",
        "d = 120\n",
        "S_set = np.array(input_strings,dtype=object)\n",
        "S_index = np.arange(0,len(input_strings),1)\n",
        "# S_index_list = list(S_index) \n",
        "\n",
        "\n",
        "# print(S_set)\n",
        "\n",
        "print(\"\\n-----------------\\nString positions are:\")\n",
        "print(S_index)\n",
        "print(\"-----------------\\n\")\n",
        "\n",
        "Prototypes = Clustering_Prototypes(S_index,k,d)\n",
        "\n",
        "print(\"\\n-----------------\\n NumofPrototypes: \"+str(k)+\" || Prototypes are: \")\n",
        "print(Prototypes)\n",
        "print(\"-----------------\")"
      ],
      "execution_count": null,
      "outputs": [
        {
          "output_type": "stream",
          "text": [
            "\n",
            "-----------------\n",
            "String positions are:\n",
            "[   0    1    2 ... 2291 2292 2293]\n",
            "-----------------\n",
            "\n",
            "- - - - - - - - -\n",
            "Cluster array:\n",
            "[     0      0      0 ... 672980 945741 672979]\n",
            "- - - - - - - - -\n",
            "Represantatives array:\n",
            "[[0 11 13 25 28 31 40]\n",
            " [1 12 14 26 29 32 41]]\n",
            "- - - - - - - - -\n",
            "Clusters:\n",
            "[[0, 1, 2, 3, 4, 5, 6, 7, 8, 9, 10], [11, 12], [13, 14, 15, 16, 17, 18, 19, 20, 21, 22, 23, 24], [25, 26, 27], [28, 29, 30], [31, 32, 33, 34, 35, 36, 37, 38, 39], [40, 41]]\n",
            "- - - - - - - - -\n",
            "\n",
            "\n",
            "\n",
            "****** Prototype selection phase *********\n",
            "\n",
            "0-Projections:\n",
            "{0: 0.0, 1: -56.0, 2: -28.0, 3: -21.0, 4: -11.107142857142858, 5: -16.044642857142858, 6: -24.142857142857142, 7: -11.544642857142858, 8: -23.3125, 9: -26.285714285714285, 10: -25.964285714285715}\n",
            "0-sortedProjections:\n",
            "{1: -56.0, 2: -28.0, 9: -26.285714285714285, 10: -25.964285714285715, 6: -24.142857142857142, 8: -23.3125, 3: -21.0, 5: -16.044642857142858, 7: -11.544642857142858, 4: -11.107142857142858, 0: 0.0}\n",
            ".............\n",
            "0-Prototypes:\n",
            "8\n",
            "\n",
            "****** END *********\n",
            "\n",
            "\n",
            "\n",
            "\n",
            "****** Prototype selection phase *********\n",
            "\n",
            "1-Projections:\n",
            "{11: 0.0, 12: -65.0}\n",
            "1-sortedProjections:\n",
            "{12: -65.0, 11: 0.0}\n",
            ".............\n",
            "1-Prototypes:\n",
            "11\n",
            "\n",
            "****** END *********\n",
            "\n",
            "\n",
            "\n",
            "\n",
            "****** Prototype selection phase *********\n",
            "\n",
            "2-Projections:\n",
            "{13: 0.0, 14: -48.0, 15: -19.885416666666668, 16: -16.78125, 17: -22.96875, 18: -19.25, 19: -10.333333333333334, 20: -17.166666666666668, 21: -17.947916666666668, 22: -19.0, 23: -17.21875, 24: -14.260416666666666}\n",
            "2-sortedProjections:\n",
            "{14: -48.0, 17: -22.96875, 15: -19.885416666666668, 18: -19.25, 22: -19.0, 21: -17.947916666666668, 23: -17.21875, 20: -17.166666666666668, 16: -16.78125, 24: -14.260416666666666, 19: -10.333333333333334, 13: 0.0}\n",
            ".............\n",
            "2-Prototypes:\n",
            "23\n",
            "\n",
            "****** END *********\n",
            "\n",
            "\n",
            "\n",
            "\n",
            "****** Prototype selection phase *********\n",
            "\n",
            "3-Projections:\n",
            "{25: 0.0, 26: -74.0, 27: -44.804054054054056}\n",
            "3-sortedProjections:\n",
            "{26: -74.0, 27: -44.804054054054056, 25: 0.0}\n",
            ".............\n",
            "3-Prototypes:\n",
            "27\n",
            "\n",
            "****** END *********\n",
            "\n",
            "\n",
            "\n",
            "\n",
            "****** Prototype selection phase *********\n",
            "\n",
            "4-Projections:\n",
            "{28: 0.0, 29: -63.0, 30: -3.6984126984126986}\n",
            "4-sortedProjections:\n",
            "{29: -63.0, 30: -3.6984126984126986, 28: 0.0}\n",
            ".............\n",
            "4-Prototypes:\n",
            "30\n",
            "\n",
            "****** END *********\n",
            "\n",
            "\n",
            "\n",
            "\n",
            "****** Prototype selection phase *********\n",
            "\n",
            "5-Projections:\n",
            "{31: 0.0, 32: -48.0, 33: -10.875, 34: -6.28125, 35: -9.947916666666666, 36: -14.114583333333334, 37: -31.802083333333332, 38: -6.28125, 39: -14.25}\n",
            "5-sortedProjections:\n",
            "{32: -48.0, 37: -31.802083333333332, 39: -14.25, 36: -14.114583333333334, 33: -10.875, 35: -9.947916666666666, 34: -6.28125, 38: -6.28125, 31: 0.0}\n",
            ".............\n",
            "5-Prototypes:\n",
            "33\n",
            "\n",
            "****** END *********\n",
            "\n",
            "\n",
            "\n",
            "\n",
            "****** Prototype selection phase *********\n",
            "\n",
            "6-Projections:\n",
            "{40: 0.0, 41: -38.0}\n",
            "6-sortedProjections:\n",
            "{41: -38.0, 40: 0.0}\n",
            ".............\n",
            "6-Prototypes:\n",
            "40\n",
            "\n",
            "****** END *********\n",
            "\n",
            "\n",
            "-----------------\n",
            " NumofPrototypes: 7 || Prototypes are: \n",
            "[ 8 11 23 27 30 33 40]\n",
            "-----------------\n"
          ],
          "name": "stdout"
        }
      ]
    },
    {
      "cell_type": "code",
      "metadata": {
        "id": "2UNfI7OsY2np"
      },
      "source": [
        "from scipy import stats "
      ],
      "execution_count": null,
      "outputs": []
    },
    {
      "cell_type": "code",
      "metadata": {
        "scrolled": true,
        "id": "x27RFaKwY2np",
        "colab": {
          "base_uri": "https://localhost:8080/"
        },
        "outputId": "2a2abe87-14f0-4cb8-ecb2-70f42657b868"
      },
      "source": [
        "x1 = [12, 2, 1, 12, 2]\n",
        "x2 = [1, 4, 7, 1, 0]\n",
        "\n",
        "stats.rankdata([5,9,10,2], method='dense')"
      ],
      "execution_count": null,
      "outputs": [
        {
          "output_type": "execute_result",
          "data": {
            "text/plain": [
              "array([2, 3, 4, 1])"
            ]
          },
          "metadata": {
            "tags": []
          },
          "execution_count": 12
        }
      ]
    },
    {
      "cell_type": "markdown",
      "metadata": {
        "id": "S4WmO8Rmtrc0"
      },
      "source": [
        "## __2. Embeddings based on the Vantage objects__\n",
        "\n",
        "\n"
      ]
    },
    {
      "cell_type": "code",
      "metadata": {
        "id": "7Jha053VY2nq"
      },
      "source": [
        "#####################################################################\n",
        "#       2. Embeddings based on the Vantage objects                  #\n",
        "#####################################################################\n",
        "\n",
        "'''\n",
        "CreateVantageEmbeddings(S,VantageObjects): Main function for creating the string embeddings based on the Vantage Objects\n",
        "'''\n",
        "def CreateVantageEmbeddings(S,VantageObjects):\n",
        "    \n",
        "    # ------- Distance computing ------- #     \n",
        "    vectors = []\n",
        "    for s in range(0,S.size):\n",
        "        string_embedding = []\n",
        "        for p in range(0,VantageObjects.size): \n",
        "            if VantageObjects[p] != None:\n",
        "                string_embedding.append(DistanceMetric(s,p,S,VantageObjects))\n",
        "            \n",
        "        # --- Ranking representation ---- #\n",
        "        ranked_string_embedding = stats.rankdata(string_embedding, method='dense')\n",
        "        \n",
        "        # ------- Vectors dataset ------- #\n",
        "        vectors.append(ranked_string_embedding)\n",
        "    \n",
        "    return np.array(vectors)\n",
        "    \n",
        "\n",
        "'''\n",
        "DistanceMetric(s,p,S,Prototypes): Implementation of equation (5)\n",
        "'''\n",
        "def DistanceMetric(s,p,S,VantageObjects):\n",
        "    \n",
        "    max_distance = None\n",
        "    \n",
        "    for pp in range(0,VantageObjects.size):\n",
        "        if VantageObjects[pp] != None:\n",
        "            string_distance = EditDistance(S[s],VantageObjects[pp])    # Edit distance String-i -> Vantage Object\n",
        "            VO_distance     = EditDistance(VantageObjects[p],VantageObjects[pp])    # Edit distance Vantage Object-j -> Vantage Object-i\n",
        "\n",
        "            abs_diff = abs(string_distance-VO_distance)\n",
        "\n",
        "            # --- Max distance diff --- #        \n",
        "            if max_distance == None:\n",
        "                max_distance = abs_diff\n",
        "            elif abs_diff > max_distance:\n",
        "                max_distance = abs_diff\n",
        "            \n",
        "    return max_distance\n",
        "\n",
        "def dropNone(array):\n",
        "    array = list(filter(None, list(array)))\n",
        "    return np.array(array)\n",
        "\n",
        "def topKPrototypes():\n",
        "    return"
      ],
      "execution_count": null,
      "outputs": []
    },
    {
      "cell_type": "code",
      "metadata": {
        "id": "VZe8rFJQY2nq"
      },
      "source": [
        "Embeddings = CreateVantageEmbeddings(S_index,Prototypes)"
      ],
      "execution_count": null,
      "outputs": []
    },
    {
      "cell_type": "code",
      "metadata": {
        "colab": {
          "base_uri": "https://localhost:8080/"
        },
        "id": "j-vGXxK2c2JR",
        "outputId": "6dadbc26-8c8c-4948-8fb4-83b200c290ec"
      },
      "source": [
        "Embeddings[1]"
      ],
      "execution_count": null,
      "outputs": [
        {
          "output_type": "execute_result",
          "data": {
            "text/plain": [
              "array([2, 6, 1, 3, 4, 4, 5])"
            ]
          },
          "metadata": {
            "tags": []
          },
          "execution_count": 15
        }
      ]
    },
    {
      "cell_type": "code",
      "metadata": {
        "colab": {
          "base_uri": "https://localhost:8080/"
        },
        "id": "Vi_T0mjW2Fqz",
        "outputId": "b8607bc2-e005-44cf-ca5b-a049d6c8b102"
      },
      "source": [
        "print(Embeddings[1])\n",
        "print(Embeddings[3])"
      ],
      "execution_count": null,
      "outputs": [
        {
          "output_type": "stream",
          "text": [
            "[2 6 1 3 4 4 5]\n",
            "[4 6 4 3 1 2 5]\n"
          ],
          "name": "stdout"
        }
      ]
    },
    {
      "cell_type": "markdown",
      "metadata": {
        "id": "HCYtFW8AtuJa"
      },
      "source": [
        "## __3. Metrics and Similarity functions__"
      ]
    },
    {
      "cell_type": "code",
      "metadata": {
        "id": "9PWY0veOY2nq",
        "colab": {
          "base_uri": "https://localhost:8080/"
        },
        "outputId": "415213c9-f7ae-4940-d3c5-66d4dc9400eb"
      },
      "source": [
        "tau, p_value = stats.kendalltau(Embeddings[1], Embeddings[2])\n",
        "print(tau,p_value)"
      ],
      "execution_count": null,
      "outputs": [
        {
          "output_type": "stream",
          "text": [
            "0.44999999999999996 0.16682603139313168\n"
          ],
          "name": "stdout"
        }
      ]
    },
    {
      "cell_type": "code",
      "metadata": {
        "colab": {
          "base_uri": "https://localhost:8080/"
        },
        "id": "5xdFWuiq19WI",
        "outputId": "2f2f1308-4705-44e2-9872-0c8b69df04a5"
      },
      "source": [
        "from scipy.spatial.distance import directed_hausdorff\n",
        "from scipy.spatial.distance import hamming\n",
        "\n",
        "print(Embeddings[1].reshape(1, -1))\n",
        "print(Embeddings[2].reshape(1, -1))\n",
        "\n",
        "haus,_,_ = directed_hausdorff(Embeddings[1].reshape(1, -1), Embeddings[2].reshape(1, -1))\n",
        "print(haus)"
      ],
      "execution_count": null,
      "outputs": [
        {
          "output_type": "stream",
          "text": [
            "[[2 6 1 3 4 4 5]]\n",
            "[[3 5 2 4 3 1 6]]\n",
            "3.872983346207417\n"
          ],
          "name": "stdout"
        }
      ]
    },
    {
      "cell_type": "code",
      "metadata": {
        "colab": {
          "base_uri": "https://localhost:8080/"
        },
        "id": "ZkwdIlGK1b6M",
        "outputId": "9dce4b06-19c7-4f23-da40-1d57b32eb8ad"
      },
      "source": [
        "from scipy.spatial.distance import hamming\n",
        "\n",
        "hamming(list(Embeddings[1]),list(Embeddings[3]))"
      ],
      "execution_count": null,
      "outputs": [
        {
          "output_type": "execute_result",
          "data": {
            "text/plain": [
              "0.5714285714285714"
            ]
          },
          "metadata": {
            "tags": []
          },
          "execution_count": 24
        }
      ]
    },
    {
      "cell_type": "code",
      "metadata": {
        "id": "P8r9SPBieYMR"
      },
      "source": [
        "#####################################################################\n",
        "#                 3. Similarity function                            # \n",
        "#####################################################################\n",
        "\n",
        "\n"
      ],
      "execution_count": null,
      "outputs": []
    },
    {
      "cell_type": "markdown",
      "metadata": {
        "id": "JyWFIXimt0tm"
      },
      "source": [
        "## __4. Hashing__"
      ]
    },
    {
      "cell_type": "code",
      "metadata": {
        "id": "hhANgIOgY2nr"
      },
      "source": [
        "#####################################################################\n",
        "#                        4. Hashing                                 # \n",
        "#####################################################################\n",
        "\n",
        "def WTA(vectors,K,inputDim):\n",
        "  '''\n",
        "    Winner Take All hash - Yagnik\n",
        "    .............................\n",
        "\n",
        "    m: number of permutations\n",
        "    K: window size\n",
        "  '''\n",
        "  C = np.zeros([vectors.size], dtype=int)\n",
        "  theta = np.random.permutation(inputDim)\n",
        "  for v in vectors:\n",
        "    X_new = permuted(v)\n",
        "    index_max = max(range(len(values)), key=values.__getitem__)\n",
        "    c_i = index_max\n",
        "\n",
        "    j=0\n",
        "    for j in range(0,K-1):\n",
        "      if X_new[j] > X_new[c_i]:\n",
        "        c_i = j\n",
        "\n",
        "    C[i] = c_i\n",
        "\n",
        "  return C\n",
        "\n",
        "def permuted(vector,permutation):\n",
        "  permuted_vector = [vector[x] for x in permutation]\n",
        "  return permuted_vector "
      ],
      "execution_count": null,
      "outputs": []
    },
    {
      "cell_type": "markdown",
      "metadata": {
        "id": "xsLgNotco_5b"
      },
      "source": [
        "## __Final model__\n",
        "\n",
        "\n",
        "\n",
        "\n",
        "\n",
        "\n",
        "\n"
      ]
    },
    {
      "cell_type": "code",
      "metadata": {
        "id": "YumZ62NCpQaA"
      },
      "source": [
        "class RankedWTAHash:\n",
        "\n",
        "  def __init__(self, max_numberOf_clusters, max_editDistance ):\n",
        "      '''\n",
        "        Constructor\n",
        "      '''\n",
        "      self.question = question\n",
        "      self.max_numberOf_clusters = max_numberOf_clusters\n",
        "      self.pairDictionary = dict()\n",
        "      self.max_editDistance = max_editDistance\n",
        "      self.windowSize = windowSize\n",
        "      \n",
        "      # self.inputSize = \n",
        "  \n",
        "  def fit(self, X, y):\n",
        "    \"\"\"\n",
        "      Fit the classifier from the training dataset.\n",
        "      Parameters\n",
        "      ----------\n",
        "      X : Training data.\n",
        "      y : Target values.\n",
        "      Returns\n",
        "      -------\n",
        "      self : The fitted classifier.\n",
        "    \"\"\"\n",
        "    input_strings = list(X)\n",
        "    S_set = np.array(input_strings,dtype=object)\n",
        "    S_index = np.arange(0,len(input_strings),1)\n",
        "    # S_index_list = list(S_index) \n",
        "    self.X = S_index\n",
        "\n",
        "    # print(S_set)\n",
        "\n",
        "    print(\"\\n-----------------\\nString positions are:\")\n",
        "    print(S_index)\n",
        "    print(\"-----------------\\n\")\n",
        "\n",
        "    self.prototypeArray = Clustering_Prototypes(S_index,self.max_numberOf_clusters, self.max_editDistance, self.pairDictionary)\n",
        "    self.embeddingDim   = self.prototypeArray.size\n",
        "    print(\"\\n-----------------\\n NumofPrototypes: \"+str(k)+\" || Prototypes are: \")\n",
        "    print(Prototypes)\n",
        "    print(\"-----------------\")\n",
        "\n",
        "    self.Embeddings = CreateVantageEmbeddings(self.X,self.prototypeArray)\n",
        "\n",
        "\n",
        "    self.HashedClusters = self.WTA(self.Embeddings,self.windowSize,self.embeddingDim)\n",
        "\n",
        "    return self\n",
        "\n",
        "\n",
        "  \n",
        "  # def predict(self, X):\n",
        "  # \"\"\"\n",
        "  #   Predict the class labels for the provided data.\n",
        "  #   Parameters\n",
        "  #   ----------\n",
        "  #   X : Test samples.\n",
        "  #   Returns\n",
        "  #   -------\n",
        "  #   y : Class labels for each data sample.\n",
        "  # \"\"\"\n",
        "  \n",
        "  \n",
        "  # def predict_proba(self, X):\n",
        "  # \"\"\"\n",
        "  #   Return probability estimates for the test data X.\n",
        "  #   Parameters\n",
        "  #   ----------\n",
        "  #   X : Test samples.\n",
        "    \n",
        "  #   Returns\n",
        "  #   -------\n",
        "  #   p : The class probabilities of the input samples.\n",
        "  # \"\"\"\n",
        "\n",
        "\n",
        "  # # def evaluate():"
      ],
      "execution_count": 33,
      "outputs": []
    },
    {
      "cell_type": "markdown",
      "metadata": {
        "id": "oJKNCDO3Y2nr"
      },
      "source": [
        "---\n",
        "---\n",
        "\n",
        "# __Evaluation__"
      ]
    },
    {
      "cell_type": "code",
      "metadata": {
        "id": "mfzI-5_vtM_D"
      },
      "source": [
        "# Opening data file\n",
        "import io\n",
        "from google.colab import drive\n",
        "\n",
        "drive.mount('/content/drive',force_remount=True)"
      ],
      "execution_count": 1,
      "outputs": []
    },
    {
      "cell_type": "markdown",
      "metadata": {
        "id": "QYa50ekcklUs"
      },
      "source": [
        "## __CoRA__"
      ]
    },
    {
      "cell_type": "markdown",
      "metadata": {
        "id": "5cHxuG1nRqYD"
      },
      "source": [
        "### Load from Drive"
      ]
    },
    {
      "cell_type": "code",
      "metadata": {
        "colab": {
          "base_uri": "https://localhost:8080/"
        },
        "id": "KirmY4CPklDk",
        "outputId": "16c4d86f-d986-483e-c9fc-8a3b5777f97a"
      },
      "source": [
        "fpcites = r\"/content/drive/My Drive/ERinDS/cora_cites.csv\"\n",
        "fppaper = r\"/content/drive/My Drive/ERinDS/cora_paper.csv\"\n",
        "fpcontent = r\"/content/drive/My Drive/ERinDS/cora_content.csv\"\n",
        "\n",
        "cites = pd.read_csv(fpcites,sep=';')\n",
        "paper = pd.read_csv(fppaper,sep=';')\n",
        "content = pd.read_csv(fpcontent,sep=';')"
      ],
      "execution_count": 6,
      "outputs": [
        {
          "output_type": "stream",
          "text": [
            "Mounted at /content/drive\n"
          ],
          "name": "stdout"
        }
      ]
    },
    {
      "cell_type": "markdown",
      "metadata": {
        "id": "Mw8XzxTbRs-O"
      },
      "source": [
        "### Overview"
      ]
    },
    {
      "cell_type": "code",
      "metadata": {
        "colab": {
          "base_uri": "https://localhost:8080/",
          "height": 419
        },
        "id": "qDDNdDOyvTgn",
        "outputId": "3cea59f9-b760-4b8d-fc63-0037cb85ee6a"
      },
      "source": [
        "cites"
      ],
      "execution_count": 7,
      "outputs": [
        {
          "output_type": "execute_result",
          "data": {
            "text/html": [
              "<div>\n",
              "<style scoped>\n",
              "    .dataframe tbody tr th:only-of-type {\n",
              "        vertical-align: middle;\n",
              "    }\n",
              "\n",
              "    .dataframe tbody tr th {\n",
              "        vertical-align: top;\n",
              "    }\n",
              "\n",
              "    .dataframe thead th {\n",
              "        text-align: right;\n",
              "    }\n",
              "</style>\n",
              "<table border=\"1\" class=\"dataframe\">\n",
              "  <thead>\n",
              "    <tr style=\"text-align: right;\">\n",
              "      <th></th>\n",
              "      <th>cited_paper_id</th>\n",
              "      <th>citing_paper_id</th>\n",
              "    </tr>\n",
              "  </thead>\n",
              "  <tbody>\n",
              "    <tr>\n",
              "      <th>0</th>\n",
              "      <td>35</td>\n",
              "      <td>887</td>\n",
              "    </tr>\n",
              "    <tr>\n",
              "      <th>1</th>\n",
              "      <td>35</td>\n",
              "      <td>1033</td>\n",
              "    </tr>\n",
              "    <tr>\n",
              "      <th>2</th>\n",
              "      <td>35</td>\n",
              "      <td>1688</td>\n",
              "    </tr>\n",
              "    <tr>\n",
              "      <th>3</th>\n",
              "      <td>35</td>\n",
              "      <td>1956</td>\n",
              "    </tr>\n",
              "    <tr>\n",
              "      <th>4</th>\n",
              "      <td>35</td>\n",
              "      <td>8865</td>\n",
              "    </tr>\n",
              "    <tr>\n",
              "      <th>...</th>\n",
              "      <td>...</td>\n",
              "      <td>...</td>\n",
              "    </tr>\n",
              "    <tr>\n",
              "      <th>5424</th>\n",
              "      <td>853116</td>\n",
              "      <td>19621</td>\n",
              "    </tr>\n",
              "    <tr>\n",
              "      <th>5425</th>\n",
              "      <td>853116</td>\n",
              "      <td>853155</td>\n",
              "    </tr>\n",
              "    <tr>\n",
              "      <th>5426</th>\n",
              "      <td>853118</td>\n",
              "      <td>1140289</td>\n",
              "    </tr>\n",
              "    <tr>\n",
              "      <th>5427</th>\n",
              "      <td>853155</td>\n",
              "      <td>853118</td>\n",
              "    </tr>\n",
              "    <tr>\n",
              "      <th>5428</th>\n",
              "      <td>954315</td>\n",
              "      <td>1155073</td>\n",
              "    </tr>\n",
              "  </tbody>\n",
              "</table>\n",
              "<p>5429 rows × 2 columns</p>\n",
              "</div>"
            ],
            "text/plain": [
              "      cited_paper_id  citing_paper_id\n",
              "0                 35              887\n",
              "1                 35             1033\n",
              "2                 35             1688\n",
              "3                 35             1956\n",
              "4                 35             8865\n",
              "...              ...              ...\n",
              "5424          853116            19621\n",
              "5425          853116           853155\n",
              "5426          853118          1140289\n",
              "5427          853155           853118\n",
              "5428          954315          1155073\n",
              "\n",
              "[5429 rows x 2 columns]"
            ]
          },
          "metadata": {
            "tags": []
          },
          "execution_count": 7
        }
      ]
    },
    {
      "cell_type": "code",
      "metadata": {
        "colab": {
          "base_uri": "https://localhost:8080/",
          "height": 419
        },
        "id": "KL34BtKAQxAS",
        "outputId": "5d8d69b5-4303-473d-da81-1f44d2ea967a"
      },
      "source": [
        "paper"
      ],
      "execution_count": 8,
      "outputs": [
        {
          "output_type": "execute_result",
          "data": {
            "text/html": [
              "<div>\n",
              "<style scoped>\n",
              "    .dataframe tbody tr th:only-of-type {\n",
              "        vertical-align: middle;\n",
              "    }\n",
              "\n",
              "    .dataframe tbody tr th {\n",
              "        vertical-align: top;\n",
              "    }\n",
              "\n",
              "    .dataframe thead th {\n",
              "        text-align: right;\n",
              "    }\n",
              "</style>\n",
              "<table border=\"1\" class=\"dataframe\">\n",
              "  <thead>\n",
              "    <tr style=\"text-align: right;\">\n",
              "      <th></th>\n",
              "      <th>paper_id</th>\n",
              "      <th>class_label</th>\n",
              "    </tr>\n",
              "  </thead>\n",
              "  <tbody>\n",
              "    <tr>\n",
              "      <th>0</th>\n",
              "      <td>35</td>\n",
              "      <td>Genetic_Algorithms</td>\n",
              "    </tr>\n",
              "    <tr>\n",
              "      <th>1</th>\n",
              "      <td>40</td>\n",
              "      <td>Genetic_Algorithms</td>\n",
              "    </tr>\n",
              "    <tr>\n",
              "      <th>2</th>\n",
              "      <td>114</td>\n",
              "      <td>Reinforcement_Learning</td>\n",
              "    </tr>\n",
              "    <tr>\n",
              "      <th>3</th>\n",
              "      <td>117</td>\n",
              "      <td>Reinforcement_Learning</td>\n",
              "    </tr>\n",
              "    <tr>\n",
              "      <th>4</th>\n",
              "      <td>128</td>\n",
              "      <td>Reinforcement_Learning</td>\n",
              "    </tr>\n",
              "    <tr>\n",
              "      <th>...</th>\n",
              "      <td>...</td>\n",
              "      <td>...</td>\n",
              "    </tr>\n",
              "    <tr>\n",
              "      <th>2703</th>\n",
              "      <td>1154500</td>\n",
              "      <td>Case_Based</td>\n",
              "    </tr>\n",
              "    <tr>\n",
              "      <th>2704</th>\n",
              "      <td>1154520</td>\n",
              "      <td>Neural_Networks</td>\n",
              "    </tr>\n",
              "    <tr>\n",
              "      <th>2705</th>\n",
              "      <td>1154524</td>\n",
              "      <td>Rule_Learning</td>\n",
              "    </tr>\n",
              "    <tr>\n",
              "      <th>2706</th>\n",
              "      <td>1154525</td>\n",
              "      <td>Rule_Learning</td>\n",
              "    </tr>\n",
              "    <tr>\n",
              "      <th>2707</th>\n",
              "      <td>1155073</td>\n",
              "      <td>Rule_Learning</td>\n",
              "    </tr>\n",
              "  </tbody>\n",
              "</table>\n",
              "<p>2708 rows × 2 columns</p>\n",
              "</div>"
            ],
            "text/plain": [
              "      paper_id             class_label\n",
              "0           35      Genetic_Algorithms\n",
              "1           40      Genetic_Algorithms\n",
              "2          114  Reinforcement_Learning\n",
              "3          117  Reinforcement_Learning\n",
              "4          128  Reinforcement_Learning\n",
              "...        ...                     ...\n",
              "2703   1154500              Case_Based\n",
              "2704   1154520         Neural_Networks\n",
              "2705   1154524           Rule_Learning\n",
              "2706   1154525           Rule_Learning\n",
              "2707   1155073           Rule_Learning\n",
              "\n",
              "[2708 rows x 2 columns]"
            ]
          },
          "metadata": {
            "tags": []
          },
          "execution_count": 8
        }
      ]
    },
    {
      "cell_type": "code",
      "metadata": {
        "colab": {
          "base_uri": "https://localhost:8080/",
          "height": 419
        },
        "id": "rBKRu6IeQ0Kv",
        "outputId": "49a7b311-584a-47b2-b629-8cb8d153720a"
      },
      "source": [
        "content"
      ],
      "execution_count": 18,
      "outputs": [
        {
          "output_type": "execute_result",
          "data": {
            "text/html": [
              "<div>\n",
              "<style scoped>\n",
              "    .dataframe tbody tr th:only-of-type {\n",
              "        vertical-align: middle;\n",
              "    }\n",
              "\n",
              "    .dataframe tbody tr th {\n",
              "        vertical-align: top;\n",
              "    }\n",
              "\n",
              "    .dataframe thead th {\n",
              "        text-align: right;\n",
              "    }\n",
              "</style>\n",
              "<table border=\"1\" class=\"dataframe\">\n",
              "  <thead>\n",
              "    <tr style=\"text-align: right;\">\n",
              "      <th></th>\n",
              "      <th>paper_id</th>\n",
              "      <th>word_cited_id</th>\n",
              "    </tr>\n",
              "  </thead>\n",
              "  <tbody>\n",
              "    <tr>\n",
              "      <th>0</th>\n",
              "      <td>35</td>\n",
              "      <td>word100</td>\n",
              "    </tr>\n",
              "    <tr>\n",
              "      <th>1</th>\n",
              "      <td>35</td>\n",
              "      <td>word1152</td>\n",
              "    </tr>\n",
              "    <tr>\n",
              "      <th>2</th>\n",
              "      <td>35</td>\n",
              "      <td>word1175</td>\n",
              "    </tr>\n",
              "    <tr>\n",
              "      <th>3</th>\n",
              "      <td>35</td>\n",
              "      <td>word1228</td>\n",
              "    </tr>\n",
              "    <tr>\n",
              "      <th>4</th>\n",
              "      <td>35</td>\n",
              "      <td>word1248</td>\n",
              "    </tr>\n",
              "    <tr>\n",
              "      <th>...</th>\n",
              "      <td>...</td>\n",
              "      <td>...</td>\n",
              "    </tr>\n",
              "    <tr>\n",
              "      <th>49211</th>\n",
              "      <td>1155073</td>\n",
              "      <td>word75</td>\n",
              "    </tr>\n",
              "    <tr>\n",
              "      <th>49212</th>\n",
              "      <td>1155073</td>\n",
              "      <td>word759</td>\n",
              "    </tr>\n",
              "    <tr>\n",
              "      <th>49213</th>\n",
              "      <td>1155073</td>\n",
              "      <td>word789</td>\n",
              "    </tr>\n",
              "    <tr>\n",
              "      <th>49214</th>\n",
              "      <td>1155073</td>\n",
              "      <td>word815</td>\n",
              "    </tr>\n",
              "    <tr>\n",
              "      <th>49215</th>\n",
              "      <td>1155073</td>\n",
              "      <td>word979</td>\n",
              "    </tr>\n",
              "  </tbody>\n",
              "</table>\n",
              "<p>49216 rows × 2 columns</p>\n",
              "</div>"
            ],
            "text/plain": [
              "       paper_id word_cited_id\n",
              "0            35       word100\n",
              "1            35      word1152\n",
              "2            35      word1175\n",
              "3            35      word1228\n",
              "4            35      word1248\n",
              "...         ...           ...\n",
              "49211   1155073        word75\n",
              "49212   1155073       word759\n",
              "49213   1155073       word789\n",
              "49214   1155073       word815\n",
              "49215   1155073       word979\n",
              "\n",
              "[49216 rows x 2 columns]"
            ]
          },
          "metadata": {
            "tags": []
          },
          "execution_count": 18
        }
      ]
    },
    {
      "cell_type": "markdown",
      "metadata": {
        "id": "Hab5-7moRfuW"
      },
      "source": [
        "### Train-Test-Validation datasets\n",
        "\n"
      ]
    },
    {
      "cell_type": "code",
      "metadata": {
        "colab": {
          "base_uri": "https://localhost:8080/"
        },
        "id": "JaDwT4L-Rny7",
        "outputId": "778ebcd0-a13c-48ce-dbb8-426aeec11537"
      },
      "source": [
        "class_labels = np.unique(paper.class_label.to_numpy())\n",
        "print(class_labels)\n",
        "print(\"Number of classes: \"+str(len(class_labels)))"
      ],
      "execution_count": 13,
      "outputs": [
        {
          "output_type": "stream",
          "text": [
            "['Case_Based' 'Genetic_Algorithms' 'Neural_Networks'\n",
            " 'Probabilistic_Methods' 'Reinforcement_Learning' 'Rule_Learning' 'Theory']\n",
            "Number of classes: 7\n"
          ],
          "name": "stdout"
        }
      ]
    },
    {
      "cell_type": "code",
      "metadata": {
        "id": "zq4WXRiySWJK"
      },
      "source": [
        ""
      ],
      "execution_count": null,
      "outputs": []
    },
    {
      "cell_type": "markdown",
      "metadata": {
        "id": "UJlvGhihkq1l"
      },
      "source": [
        "## __DBLP/ACM__"
      ]
    },
    {
      "cell_type": "code",
      "metadata": {
        "id": "aVVgKih1Y2nr"
      },
      "source": [
        "acmfp = r\"/content/drive/My Drive/ERinDS/ACM.csv\"\n",
        "dblpfp = r\"/content/drive/My Drive/ERinDS/DBLP2.csv\"\n",
        "acm_dblp_mapping_fp = r\"/content/drive/My Drive/ERinDS/DBLP-ACM_perfectMapping.csv\"\n",
        "\n",
        "acm = pd.read_csv(acmfp)\n",
        "dblp = pd.read_csv(dblpfp, encoding='latin-1')\n",
        "perfect_mapping = pd.read_csv(acm_dblp_mapping_fp)"
      ],
      "execution_count": 24,
      "outputs": []
    },
    {
      "cell_type": "markdown",
      "metadata": {
        "id": "llh9qZmUnkWz"
      },
      "source": [
        "### Overview"
      ]
    },
    {
      "cell_type": "code",
      "metadata": {
        "colab": {
          "base_uri": "https://localhost:8080/",
          "height": 572
        },
        "id": "869eFGw3eo0M",
        "outputId": "99069651-6e80-4af5-970c-597da9016d96"
      },
      "source": [
        "acm"
      ],
      "execution_count": null,
      "outputs": [
        {
          "output_type": "execute_result",
          "data": {
            "text/html": [
              "<div>\n",
              "<style scoped>\n",
              "    .dataframe tbody tr th:only-of-type {\n",
              "        vertical-align: middle;\n",
              "    }\n",
              "\n",
              "    .dataframe tbody tr th {\n",
              "        vertical-align: top;\n",
              "    }\n",
              "\n",
              "    .dataframe thead th {\n",
              "        text-align: right;\n",
              "    }\n",
              "</style>\n",
              "<table border=\"1\" class=\"dataframe\">\n",
              "  <thead>\n",
              "    <tr style=\"text-align: right;\">\n",
              "      <th></th>\n",
              "      <th>id</th>\n",
              "      <th>title</th>\n",
              "      <th>authors</th>\n",
              "      <th>venue</th>\n",
              "      <th>year</th>\n",
              "    </tr>\n",
              "  </thead>\n",
              "  <tbody>\n",
              "    <tr>\n",
              "      <th>0</th>\n",
              "      <td>304586</td>\n",
              "      <td>The WASA2 object-oriented workflow management ...</td>\n",
              "      <td>Gottfried Vossen, Mathias Weske</td>\n",
              "      <td>International Conference on Management of Data</td>\n",
              "      <td>1999</td>\n",
              "    </tr>\n",
              "    <tr>\n",
              "      <th>1</th>\n",
              "      <td>304587</td>\n",
              "      <td>A user-centered interface for querying distrib...</td>\n",
              "      <td>Isabel F. Cruz, Kimberly M. James</td>\n",
              "      <td>International Conference on Management of Data</td>\n",
              "      <td>1999</td>\n",
              "    </tr>\n",
              "    <tr>\n",
              "      <th>2</th>\n",
              "      <td>304589</td>\n",
              "      <td>World Wide Database-integrating the Web, CORBA...</td>\n",
              "      <td>Athman Bouguettaya, Boualem Benatallah, Lily H...</td>\n",
              "      <td>International Conference on Management of Data</td>\n",
              "      <td>1999</td>\n",
              "    </tr>\n",
              "    <tr>\n",
              "      <th>3</th>\n",
              "      <td>304590</td>\n",
              "      <td>XML-based information mediation with MIX</td>\n",
              "      <td>Chaitan Baru, Amarnath Gupta, Bertram Lud&amp;#228...</td>\n",
              "      <td>International Conference on Management of Data</td>\n",
              "      <td>1999</td>\n",
              "    </tr>\n",
              "    <tr>\n",
              "      <th>4</th>\n",
              "      <td>304582</td>\n",
              "      <td>The CCUBE constraint object-oriented database ...</td>\n",
              "      <td>Alexander Brodsky, Victor E. Segal, Jia Chen, ...</td>\n",
              "      <td>International Conference on Management of Data</td>\n",
              "      <td>1999</td>\n",
              "    </tr>\n",
              "    <tr>\n",
              "      <th>...</th>\n",
              "      <td>...</td>\n",
              "      <td>...</td>\n",
              "      <td>...</td>\n",
              "      <td>...</td>\n",
              "      <td>...</td>\n",
              "    </tr>\n",
              "    <tr>\n",
              "      <th>2289</th>\n",
              "      <td>672977</td>\n",
              "      <td>Dual-Buffering Strategies in Object Bases</td>\n",
              "      <td>Alfons Kemper, Donald Kossmann</td>\n",
              "      <td>Very Large Data Bases</td>\n",
              "      <td>1994</td>\n",
              "    </tr>\n",
              "    <tr>\n",
              "      <th>2290</th>\n",
              "      <td>950482</td>\n",
              "      <td>Guest editorial</td>\n",
              "      <td>Philip A. Bernstein, Yannis Ioannidis, Raghu R...</td>\n",
              "      <td>The VLDB Journal &amp;mdash; The International Jou...</td>\n",
              "      <td>2003</td>\n",
              "    </tr>\n",
              "    <tr>\n",
              "      <th>2291</th>\n",
              "      <td>672980</td>\n",
              "      <td>GraphDB: Modeling and Querying Graphs in Datab...</td>\n",
              "      <td>Ralf Hartmut G&amp;#252;ting</td>\n",
              "      <td>Very Large Data Bases</td>\n",
              "      <td>1994</td>\n",
              "    </tr>\n",
              "    <tr>\n",
              "      <th>2292</th>\n",
              "      <td>945741</td>\n",
              "      <td>Review of The data warehouse toolkit: the comp...</td>\n",
              "      <td>Alexander A. Anisimov</td>\n",
              "      <td>ACM SIGMOD Record</td>\n",
              "      <td>2003</td>\n",
              "    </tr>\n",
              "    <tr>\n",
              "      <th>2293</th>\n",
              "      <td>672979</td>\n",
              "      <td>Bulk Loading into an OODB: A Performance Study</td>\n",
              "      <td>Janet L. Wiener, Jeffrey F. Naughton</td>\n",
              "      <td>Very Large Data Bases</td>\n",
              "      <td>1994</td>\n",
              "    </tr>\n",
              "  </tbody>\n",
              "</table>\n",
              "<p>2294 rows × 5 columns</p>\n",
              "</div>"
            ],
            "text/plain": [
              "          id  ...  year\n",
              "0     304586  ...  1999\n",
              "1     304587  ...  1999\n",
              "2     304589  ...  1999\n",
              "3     304590  ...  1999\n",
              "4     304582  ...  1999\n",
              "...      ...  ...   ...\n",
              "2289  672977  ...  1994\n",
              "2290  950482  ...  2003\n",
              "2291  672980  ...  1994\n",
              "2292  945741  ...  2003\n",
              "2293  672979  ...  1994\n",
              "\n",
              "[2294 rows x 5 columns]"
            ]
          },
          "metadata": {
            "tags": []
          },
          "execution_count": 8
        }
      ]
    },
    {
      "cell_type": "code",
      "metadata": {
        "colab": {
          "base_uri": "https://localhost:8080/",
          "height": 419
        },
        "id": "Vk6UZPWinhqi",
        "outputId": "d781aaf7-1f1b-4954-8415-aa57443479c2"
      },
      "source": [
        "dblp"
      ],
      "execution_count": 22,
      "outputs": [
        {
          "output_type": "execute_result",
          "data": {
            "text/html": [
              "<div>\n",
              "<style scoped>\n",
              "    .dataframe tbody tr th:only-of-type {\n",
              "        vertical-align: middle;\n",
              "    }\n",
              "\n",
              "    .dataframe tbody tr th {\n",
              "        vertical-align: top;\n",
              "    }\n",
              "\n",
              "    .dataframe thead th {\n",
              "        text-align: right;\n",
              "    }\n",
              "</style>\n",
              "<table border=\"1\" class=\"dataframe\">\n",
              "  <thead>\n",
              "    <tr style=\"text-align: right;\">\n",
              "      <th></th>\n",
              "      <th>id</th>\n",
              "      <th>title</th>\n",
              "      <th>authors</th>\n",
              "      <th>venue</th>\n",
              "      <th>year</th>\n",
              "    </tr>\n",
              "  </thead>\n",
              "  <tbody>\n",
              "    <tr>\n",
              "      <th>0</th>\n",
              "      <td>journals/sigmod/Mackay99</td>\n",
              "      <td>Semantic Integration of Environmental Models f...</td>\n",
              "      <td>D. Scott Mackay</td>\n",
              "      <td>SIGMOD Record</td>\n",
              "      <td>1999</td>\n",
              "    </tr>\n",
              "    <tr>\n",
              "      <th>1</th>\n",
              "      <td>conf/vldb/PoosalaI96</td>\n",
              "      <td>Estimation of Query-Result Distribution and it...</td>\n",
              "      <td>Viswanath Poosala, Yannis E. Ioannidis</td>\n",
              "      <td>VLDB</td>\n",
              "      <td>1996</td>\n",
              "    </tr>\n",
              "    <tr>\n",
              "      <th>2</th>\n",
              "      <td>conf/vldb/PalpanasSCP02</td>\n",
              "      <td>Incremental Maintenance for Non-Distributive A...</td>\n",
              "      <td>Themistoklis Palpanas, Richard Sidle, Hamid Pi...</td>\n",
              "      <td>VLDB</td>\n",
              "      <td>2002</td>\n",
              "    </tr>\n",
              "    <tr>\n",
              "      <th>3</th>\n",
              "      <td>conf/vldb/GardarinGT96</td>\n",
              "      <td>Cost-based Selection of Path Expression Proces...</td>\n",
              "      <td>Zhao-Hui Tang, Georges Gardarin, Jean-Robert G...</td>\n",
              "      <td>VLDB</td>\n",
              "      <td>1996</td>\n",
              "    </tr>\n",
              "    <tr>\n",
              "      <th>4</th>\n",
              "      <td>conf/vldb/HoelS95</td>\n",
              "      <td>Benchmarking Spatial Join Operations with Spat...</td>\n",
              "      <td>Erik G. Hoel, Hanan Samet</td>\n",
              "      <td>VLDB</td>\n",
              "      <td>1995</td>\n",
              "    </tr>\n",
              "    <tr>\n",
              "      <th>...</th>\n",
              "      <td>...</td>\n",
              "      <td>...</td>\n",
              "      <td>...</td>\n",
              "      <td>...</td>\n",
              "      <td>...</td>\n",
              "    </tr>\n",
              "    <tr>\n",
              "      <th>2611</th>\n",
              "      <td>journals/tods/KarpSP03</td>\n",
              "      <td>A simple algorithm for finding frequent elemen...</td>\n",
              "      <td>Scott Shenker, Christos H. Papadimitriou, Rich...</td>\n",
              "      <td>ACM Trans. Database Syst.</td>\n",
              "      <td>2003</td>\n",
              "    </tr>\n",
              "    <tr>\n",
              "      <th>2612</th>\n",
              "      <td>conf/vldb/LimWV03</td>\n",
              "      <td>SASH: A Self-Adaptive Histogram Set for Dynami...</td>\n",
              "      <td>Lipyeow Lim, Min Wang, Jeffrey Scott Vitter</td>\n",
              "      <td>VLDB</td>\n",
              "      <td>2003</td>\n",
              "    </tr>\n",
              "    <tr>\n",
              "      <th>2613</th>\n",
              "      <td>journals/tods/ChakrabartiKMP02</td>\n",
              "      <td>Locally adaptive dimensionality reduction for ...</td>\n",
              "      <td>Kaushik Chakrabarti, Eamonn J. Keogh, Michael ...</td>\n",
              "      <td>ACM Trans. Database Syst.</td>\n",
              "      <td>2002</td>\n",
              "    </tr>\n",
              "    <tr>\n",
              "      <th>2614</th>\n",
              "      <td>journals/sigmod/Snodgrass01</td>\n",
              "      <td>Chair's Message</td>\n",
              "      <td>Richard T. Snodgrass</td>\n",
              "      <td>SIGMOD Record</td>\n",
              "      <td>2001</td>\n",
              "    </tr>\n",
              "    <tr>\n",
              "      <th>2615</th>\n",
              "      <td>conf/vldb/LiM01</td>\n",
              "      <td>Indexing and Querying XML Data for Regular Pat...</td>\n",
              "      <td>Bongki Moon, Quanzhong Li</td>\n",
              "      <td>VLDB</td>\n",
              "      <td>2001</td>\n",
              "    </tr>\n",
              "  </tbody>\n",
              "</table>\n",
              "<p>2616 rows × 5 columns</p>\n",
              "</div>"
            ],
            "text/plain": [
              "                                  id  ...  year\n",
              "0           journals/sigmod/Mackay99  ...  1999\n",
              "1               conf/vldb/PoosalaI96  ...  1996\n",
              "2            conf/vldb/PalpanasSCP02  ...  2002\n",
              "3             conf/vldb/GardarinGT96  ...  1996\n",
              "4                  conf/vldb/HoelS95  ...  1995\n",
              "...                              ...  ...   ...\n",
              "2611          journals/tods/KarpSP03  ...  2003\n",
              "2612               conf/vldb/LimWV03  ...  2003\n",
              "2613  journals/tods/ChakrabartiKMP02  ...  2002\n",
              "2614     journals/sigmod/Snodgrass01  ...  2001\n",
              "2615                 conf/vldb/LiM01  ...  2001\n",
              "\n",
              "[2616 rows x 5 columns]"
            ]
          },
          "metadata": {
            "tags": []
          },
          "execution_count": 22
        }
      ]
    },
    {
      "cell_type": "code",
      "metadata": {
        "colab": {
          "base_uri": "https://localhost:8080/",
          "height": 419
        },
        "id": "lHwpS4o9eyzb",
        "outputId": "bba883b6-9a10-46f1-a458-230fff7cf611"
      },
      "source": [
        "perfect_mapping"
      ],
      "execution_count": 25,
      "outputs": [
        {
          "output_type": "execute_result",
          "data": {
            "text/html": [
              "<div>\n",
              "<style scoped>\n",
              "    .dataframe tbody tr th:only-of-type {\n",
              "        vertical-align: middle;\n",
              "    }\n",
              "\n",
              "    .dataframe tbody tr th {\n",
              "        vertical-align: top;\n",
              "    }\n",
              "\n",
              "    .dataframe thead th {\n",
              "        text-align: right;\n",
              "    }\n",
              "</style>\n",
              "<table border=\"1\" class=\"dataframe\">\n",
              "  <thead>\n",
              "    <tr style=\"text-align: right;\">\n",
              "      <th></th>\n",
              "      <th>idDBLP</th>\n",
              "      <th>idACM</th>\n",
              "    </tr>\n",
              "  </thead>\n",
              "  <tbody>\n",
              "    <tr>\n",
              "      <th>0</th>\n",
              "      <td>conf/sigmod/SlivinskasJS01</td>\n",
              "      <td>375678</td>\n",
              "    </tr>\n",
              "    <tr>\n",
              "      <th>1</th>\n",
              "      <td>conf/sigmod/ChaudhuriDN01</td>\n",
              "      <td>375694</td>\n",
              "    </tr>\n",
              "    <tr>\n",
              "      <th>2</th>\n",
              "      <td>conf/sigmod/RinfretOO01</td>\n",
              "      <td>375669</td>\n",
              "    </tr>\n",
              "    <tr>\n",
              "      <th>3</th>\n",
              "      <td>conf/sigmod/BreunigKKS01</td>\n",
              "      <td>375672</td>\n",
              "    </tr>\n",
              "    <tr>\n",
              "      <th>4</th>\n",
              "      <td>conf/sigmod/JagadishJOT01</td>\n",
              "      <td>375687</td>\n",
              "    </tr>\n",
              "    <tr>\n",
              "      <th>...</th>\n",
              "      <td>...</td>\n",
              "      <td>...</td>\n",
              "    </tr>\n",
              "    <tr>\n",
              "      <th>2219</th>\n",
              "      <td>journals/sigmod/Scholl01</td>\n",
              "      <td>604275</td>\n",
              "    </tr>\n",
              "    <tr>\n",
              "      <th>2220</th>\n",
              "      <td>journals/sigmod/Rosneblatt94</td>\n",
              "      <td>190649</td>\n",
              "    </tr>\n",
              "    <tr>\n",
              "      <th>2221</th>\n",
              "      <td>journals/sigmod/Winslett02b</td>\n",
              "      <td>601871</td>\n",
              "    </tr>\n",
              "    <tr>\n",
              "      <th>2222</th>\n",
              "      <td>journals/sigmod/Labrinidis01</td>\n",
              "      <td>604283</td>\n",
              "    </tr>\n",
              "    <tr>\n",
              "      <th>2223</th>\n",
              "      <td>journals/sigmod/Winslett03</td>\n",
              "      <td>640999</td>\n",
              "    </tr>\n",
              "  </tbody>\n",
              "</table>\n",
              "<p>2224 rows × 2 columns</p>\n",
              "</div>"
            ],
            "text/plain": [
              "                            idDBLP   idACM\n",
              "0       conf/sigmod/SlivinskasJS01  375678\n",
              "1        conf/sigmod/ChaudhuriDN01  375694\n",
              "2          conf/sigmod/RinfretOO01  375669\n",
              "3         conf/sigmod/BreunigKKS01  375672\n",
              "4        conf/sigmod/JagadishJOT01  375687\n",
              "...                            ...     ...\n",
              "2219      journals/sigmod/Scholl01  604275\n",
              "2220  journals/sigmod/Rosneblatt94  190649\n",
              "2221   journals/sigmod/Winslett02b  601871\n",
              "2222  journals/sigmod/Labrinidis01  604283\n",
              "2223    journals/sigmod/Winslett03  640999\n",
              "\n",
              "[2224 rows x 2 columns]"
            ]
          },
          "metadata": {
            "tags": []
          },
          "execution_count": 25
        }
      ]
    },
    {
      "cell_type": "code",
      "metadata": {
        "colab": {
          "base_uri": "https://localhost:8080/",
          "height": 80
        },
        "id": "d-zUpbA3nu_Y",
        "outputId": "ed564e5b-125e-45c9-82ef-2ea6c16c1b06"
      },
      "source": [
        "acm.loc[acm['id'] == 375678]"
      ],
      "execution_count": 30,
      "outputs": [
        {
          "output_type": "execute_result",
          "data": {
            "text/html": [
              "<div>\n",
              "<style scoped>\n",
              "    .dataframe tbody tr th:only-of-type {\n",
              "        vertical-align: middle;\n",
              "    }\n",
              "\n",
              "    .dataframe tbody tr th {\n",
              "        vertical-align: top;\n",
              "    }\n",
              "\n",
              "    .dataframe thead th {\n",
              "        text-align: right;\n",
              "    }\n",
              "</style>\n",
              "<table border=\"1\" class=\"dataframe\">\n",
              "  <thead>\n",
              "    <tr style=\"text-align: right;\">\n",
              "      <th></th>\n",
              "      <th>id</th>\n",
              "      <th>title</th>\n",
              "      <th>authors</th>\n",
              "      <th>venue</th>\n",
              "      <th>year</th>\n",
              "    </tr>\n",
              "  </thead>\n",
              "  <tbody>\n",
              "    <tr>\n",
              "      <th>301</th>\n",
              "      <td>375678</td>\n",
              "      <td>Adaptable query optimization and evaluation in...</td>\n",
              "      <td>Giedrius Slivinskas, Christian S. Jensen, Rich...</td>\n",
              "      <td>International Conference on Management of Data</td>\n",
              "      <td>2001</td>\n",
              "    </tr>\n",
              "  </tbody>\n",
              "</table>\n",
              "</div>"
            ],
            "text/plain": [
              "         id  ...  year\n",
              "301  375678  ...  2001\n",
              "\n",
              "[1 rows x 5 columns]"
            ]
          },
          "metadata": {
            "tags": []
          },
          "execution_count": 30
        }
      ]
    },
    {
      "cell_type": "code",
      "metadata": {
        "colab": {
          "base_uri": "https://localhost:8080/",
          "height": 80
        },
        "id": "kQJ2QwsUoW0M",
        "outputId": "d7231baf-3850-4f8d-c82f-0307a631623f"
      },
      "source": [
        "dblp.loc[dblp['id'] == 'conf/sigmod/SlivinskasJS01']"
      ],
      "execution_count": 32,
      "outputs": [
        {
          "output_type": "execute_result",
          "data": {
            "text/html": [
              "<div>\n",
              "<style scoped>\n",
              "    .dataframe tbody tr th:only-of-type {\n",
              "        vertical-align: middle;\n",
              "    }\n",
              "\n",
              "    .dataframe tbody tr th {\n",
              "        vertical-align: top;\n",
              "    }\n",
              "\n",
              "    .dataframe thead th {\n",
              "        text-align: right;\n",
              "    }\n",
              "</style>\n",
              "<table border=\"1\" class=\"dataframe\">\n",
              "  <thead>\n",
              "    <tr style=\"text-align: right;\">\n",
              "      <th></th>\n",
              "      <th>id</th>\n",
              "      <th>title</th>\n",
              "      <th>authors</th>\n",
              "      <th>venue</th>\n",
              "      <th>year</th>\n",
              "    </tr>\n",
              "  </thead>\n",
              "  <tbody>\n",
              "    <tr>\n",
              "      <th>143</th>\n",
              "      <td>conf/sigmod/SlivinskasJS01</td>\n",
              "      <td>Adaptable Query Optimization and Evaluation in...</td>\n",
              "      <td>Christian S. Jensen, Richard T. Snodgrass, Gie...</td>\n",
              "      <td>SIGMOD Conference</td>\n",
              "      <td>2001</td>\n",
              "    </tr>\n",
              "  </tbody>\n",
              "</table>\n",
              "</div>"
            ],
            "text/plain": [
              "                             id  ...  year\n",
              "143  conf/sigmod/SlivinskasJS01  ...  2001\n",
              "\n",
              "[1 rows x 5 columns]"
            ]
          },
          "metadata": {
            "tags": []
          },
          "execution_count": 32
        }
      ]
    },
    {
      "cell_type": "markdown",
      "metadata": {
        "id": "lbmGTjAYooPj"
      },
      "source": [
        "### Preprocess"
      ]
    },
    {
      "cell_type": "code",
      "metadata": {
        "id": "DSlSgUnzotzr"
      },
      "source": [
        ""
      ],
      "execution_count": null,
      "outputs": []
    },
    {
      "cell_type": "markdown",
      "metadata": {
        "id": "TxkwARdHoqjW"
      },
      "source": [
        "### Dataset split"
      ]
    },
    {
      "cell_type": "code",
      "metadata": {
        "id": "WW1yUidQouhO"
      },
      "source": [
        ""
      ],
      "execution_count": null,
      "outputs": []
    },
    {
      "cell_type": "markdown",
      "metadata": {
        "id": "5eFeVubCozTo"
      },
      "source": [
        "### Model evaluation"
      ]
    },
    {
      "cell_type": "markdown",
      "metadata": {
        "id": "V5elbnuDY2nr"
      },
      "source": [
        "---\n",
        "\n",
        "# References\n",
        "\n",
        "[1]   [The dissimilarity representation for pattern recognition, a tutorial\n",
        "Robert P.W. Duin and Elzbieta Pekalska Delft University of Technology, The Netherlands School of Computer Science, University of Manchester, United Kingdom](http://homepage.tudelft.nl/a9p19/presentations/DisRep_Tutorial_doc.pdf)"
      ]
    }
  ]
}