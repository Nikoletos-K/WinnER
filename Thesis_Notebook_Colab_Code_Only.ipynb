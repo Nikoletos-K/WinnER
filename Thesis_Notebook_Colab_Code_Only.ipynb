{
  "nbformat": 4,
  "nbformat_minor": 0,
  "metadata": {
    "kernelspec": {
      "display_name": "Python 3",
      "language": "python",
      "name": "python3"
    },
    "language_info": {
      "codemirror_mode": {
        "name": "ipython",
        "version": 3
      },
      "file_extension": ".py",
      "mimetype": "text/x-python",
      "name": "python",
      "nbconvert_exporter": "python",
      "pygments_lexer": "ipython3",
      "version": "3.7.6"
    },
    "colab": {
      "name": "Thesis_Notebook_Colab-Code_Only.ipynb",
      "provenance": [],
      "collapsed_sections": [
        "5cHxuG1nRqYD",
        "llh9qZmUnkWz"
      ],
      "toc_visible": true
    }
  },
  "cells": [
    {
      "cell_type": "markdown",
      "metadata": {
        "id": "D_846yHsY2nT"
      },
      "source": [
        "<p align=\"center\">\n",
        " <img src=\"http://www.di.uoa.gr/themes/corporate_lite/logo_en.png\" title=\"Department of Informatics and Telecommunications - University of Athens\"/> </p>\n",
        "\n",
        "<br>\n",
        "\n",
        "---\n",
        "\n",
        "<h3 align=\"center\" > \n",
        "  Bachelor Thesis\n",
        "</h3>\n",
        "\n",
        "<h1 align=\"center\" > \n",
        "  Entity Resolution in Dissimilarity Spaces <br>\n",
        "  Implementation notebook\n",
        "</h1>\n",
        "\n",
        "---\n",
        "\n",
        "<h3 align=\"center\"> \n",
        " <b>Konstantinos Nikoletos</b>\n",
        "</h3>\n",
        "\n",
        "<h4 align=\"center\"> \n",
        " <b>Supervisor: Dr. Alex Delis</b>,  Professor NKUA\n",
        "</h4>\n",
        "<br>\n",
        "<h4 align=\"center\"> \n",
        "Athens\n",
        "</h4>\n",
        "<h4 align=\"center\"> \n",
        "January 2021 - Ongoing\n",
        "</h4>\n",
        "\n",
        "\n",
        "---"
      ]
    },
    {
      "cell_type": "markdown",
      "metadata": {
        "id": "tHhqH2vwY2nf"
      },
      "source": [
        "\n",
        "|  <font size=\"5\"> Contents</font> |\n",
        "| :--   |\n",
        "|**1. [Abstract](#Abstract)** |\n",
        "|**2. [Introduction](#Introduction)**  |\n",
        "&nbsp;&nbsp;&nbsp;**2.1. [   Entity resolution](#Entity-resolution)** |\n",
        "&nbsp;&nbsp;&nbsp;**2.2. [   Dissimilatiry space](#Dissimilatiry-Space)** |\n",
        "|**3. [ A dissimilarity-based space embedding methodology](#scrollTo=DcAYuFQjY2ni)** <br>\n",
        "&nbsp;&nbsp;&nbsp;**3.1 [String Clustering and Prototype Selection](#3.1-String-Clustering-and-Prototype-Selection)** <br>\n",
        "&nbsp;&nbsp;&nbsp;&nbsp;&nbsp;&nbsp;&nbsp;&nbsp;**3.1.1. [Edit distance metric](#Edit-distance-metric)** <br>\n",
        "&nbsp;&nbsp;&nbsp;&nbsp;&nbsp;&nbsp;&nbsp;&nbsp;**3.1.2. [String clustering algorithm](#String-clustering-algorithm)** <br>\n",
        "&nbsp;&nbsp;&nbsp;&nbsp;&nbsp;&nbsp;&nbsp;&nbsp;**3.1.3. [Algorithm complexity](#Algorithm-complexity)** <br>\n",
        "&nbsp;&nbsp;&nbsp;&nbsp;&nbsp;&nbsp;&nbsp;&nbsp;**3.1.4. [Prototype selection](#Prototype-selection)** <br>\n",
        "&nbsp;&nbsp;&nbsp;&nbsp;&nbsp;&nbsp;&nbsp;&nbsp;**3.1.5. [Algorithm-1: The String Clustering and Prototype Selection Algorithm](#Algorithm-1:-The-String-Clustering-and-Prototype-Selection-Algorithm)** <br>\n",
        "&nbsp;&nbsp;&nbsp;**3.2 [The Vantage Space Embedding and the Chorus of Prototypes Transform Similarity Coefficient](#3.2-The-Vantage-Space-Embedding-and-the-Chorus-of-Prototypes-Transform-Similarity-Coefficient)&nbsp; &nbsp;&nbsp; &nbsp;&nbsp; &nbsp;&nbsp; &nbsp;&nbsp; &nbsp;&nbsp; &nbsp;&nbsp; &nbsp;&nbsp; &nbsp;&nbsp; &nbsp;&nbsp; &nbsp;&nbsp; &nbsp;&nbsp; &nbsp;&nbsp; &nbsp;&nbsp; &nbsp;&nbsp; &nbsp;&nbsp; &nbsp;&nbsp; &nbsp;&nbsp; &nbsp;&nbsp; &nbsp;&nbsp; &nbsp;&nbsp; &nbsp;&nbsp; &nbsp;&nbsp; &nbsp;&nbsp; &nbsp;&nbsp; &nbsp;&nbsp; &nbsp;&nbsp; &nbsp;&nbsp; &nbsp; &nbsp; &nbsp;&nbsp; &nbsp; &nbsp; &nbsp;&nbsp; &nbsp;&nbsp; &nbsp;&nbsp; &nbsp;&nbsp; &nbsp;&nbsp; &nbsp; &nbsp; &nbsp;&nbsp; &nbsp;&nbsp; &nbsp;**  <br>\n",
        "&nbsp;&nbsp;&nbsp;**3.3 [A Top-k List Approach for Similarity Searching in the Vantage Space](#3.3-A-Top-k-List-Approach-for-Similarity-Searching-in-the-Vantage-Space)**  |\n",
        "&nbsp;&nbsp;&nbsp;&nbsp;&nbsp;&nbsp;&nbsp;&nbsp;**3.3.1. [Abstract Algebra definitions](#Abstract-Algebra-definitions)** <br>\n",
        "&nbsp;&nbsp;&nbsp;&nbsp;&nbsp;&nbsp;&nbsp;&nbsp;**3.3.2. [Hausdorff metric](#Hausdorff-metric)** <br>\n",
        "&nbsp;&nbsp;&nbsp;**3.4 [Hashing of Partially Ranked Data for Efficient Similarity Search](#3.4-Hashing-of-Partially-Ranked-Data-for-Efficient-Similarity-Search)** |\n",
        "|**4. [ Evaluation](#Evaluation)** |\n",
        "|**5. [References](#References)**  |\n",
        "\n"
      ]
    },
    {
      "cell_type": "markdown",
      "metadata": {
        "id": "kQzslCUquel6"
      },
      "source": [
        "# __Implementation__"
      ]
    },
    {
      "cell_type": "markdown",
      "metadata": {
        "id": "QgEYWOZiuIm9"
      },
      "source": [
        "## __0. Libraries__"
      ]
    },
    {
      "cell_type": "code",
      "metadata": {
        "id": "yAH7Pye6fPZW"
      },
      "source": [
        "import pandas as pd\n",
        "import numpy as np\n",
        "import collections\n",
        "from scipy import stats \n",
        "import editdistance\n",
        "import string\n",
        "import sklearn"
      ],
      "execution_count": 1,
      "outputs": []
    },
    {
      "cell_type": "code",
      "metadata": {
        "id": "GxCXrXlLY2nj",
        "colab": {
          "base_uri": "https://localhost:8080/"
        },
        "outputId": "48c42c08-6885-4b21-f2d4-025c79180d1b"
      },
      "source": [
        "!pip install editdistance"
      ],
      "execution_count": 2,
      "outputs": [
        {
          "output_type": "stream",
          "text": [
            "Requirement already satisfied: editdistance in /usr/local/lib/python3.7/dist-packages (0.5.3)\n"
          ],
          "name": "stdout"
        }
      ]
    },
    {
      "cell_type": "markdown",
      "metadata": {
        "id": "GfQTwBsdtmuj"
      },
      "source": [
        "## __1. Prototype selection algorithm__"
      ]
    },
    {
      "cell_type": "code",
      "metadata": {
        "id": "oqrkgd4ZY2nn"
      },
      "source": [
        "#####################################################################\n",
        "# 1. Prototype selection algorithm                                  #\n",
        "#####################################################################\n",
        "\n",
        "'''\n",
        "Clustering_Prototypes(S,k,d,r,C) \n",
        "The String Clustering and Prototype Selection Algorithm\n",
        "is the main clustering method, that takes as input the intial strings S, \n",
        "the max number of clusters to be generated in k,\n",
        "the maximum allowable distance of a string to join a cluster in var d\n",
        "and returns the prototype for each cluster in array Prototype\n",
        "'''\n",
        "def Clustering_Prototypes(S,k,d,pairDictionary,verbose=False):\n",
        "    \n",
        "    # ----------------- Initialization phase ----------------- #\n",
        "    i = 0\n",
        "    j = 0\n",
        "    C = np.empty([S.size], dtype=int)\n",
        "    r = np.empty([2,k],dtype=object)\n",
        "\n",
        "    Clusters = [ [] for l in range(0,k)]\n",
        "\n",
        "    while i < S.size:     # String-clustering phase, for all strings\n",
        "        while j < k :       # iteration through clusters, for all clusters\n",
        "            if r[0][j] == None:      # case empty first representative for cluster j\n",
        "                r[0][j] = S[i]   # init cluster representative with string i\n",
        "                C[i] = j         # store in C that i-string belongs to cluster j\n",
        "                Clusters[j].append(S[i])\n",
        "                break\n",
        "            elif r[1][j] == None and (EditDistance(S[i],r[0][j]) <= d):  # case empty second representative \n",
        "                r[1][j] = S[i]                                             # and ED of representative 1  smaller than i-th string \n",
        "                C[i] = j\n",
        "                Clusters[j].append(S[i])\n",
        "                break\n",
        "            elif (r[0][j] != None and r[1][j] != None) and (EditDistance(S[i],r[0][j]) + EditDistance(S[i],r[1][j])) <= d:\n",
        "                C[i] = j\n",
        "                Clusters[j].append(S[i])\n",
        "                break\n",
        "            else:\n",
        "                j += 1\n",
        "        i += 1\n",
        "    \n",
        "    # ----------------- Prototype selection phase ----------------- #\n",
        "        \n",
        "    Projections = np.empty([k],dtype=object)\n",
        "    Prototypes = np.empty([k],dtype=int)\n",
        "    sortedProjections = np.empty([k],dtype=object)\n",
        "    j = 0\n",
        "\n",
        "    if verbose:\n",
        "        print(\"- - - - - - - - -\")\n",
        "        print(\"Cluster array:\")\n",
        "        print(C)\n",
        "        print(\"- - - - - - - - -\")\n",
        "        print(\"Represantatives array:\")\n",
        "        print(r)\n",
        "        print(\"- - - - - - - - -\")  \n",
        "        print(\"Clusters:\")\n",
        "        print(Clusters)\n",
        "        print(\"- - - - - - - - -\")  \n",
        "\n",
        "    # print(\"\\n\\n\\n****** Prototype selection phase *********\") \n",
        "    while j < k and len(Clusters[j])>0:\n",
        "        \n",
        "        Projections[j] = Approximated_Projection_Distances_ofCluster(r[1][j], r[0][j], j, Clusters[j],pairDictionary)\n",
        "        \n",
        "        # print(\"\\n\"+str(j)+\"-Projections:\")\n",
        "        # print(Projections[j])\n",
        "        \n",
        "        sortedProjections[j] = {k: v for k, v in sorted(Projections[j].items(), key=lambda item: item[1])}\n",
        "\n",
        "        # print(str(j)+\"-sortedProjections:\")\n",
        "        # print(sortedProjections[j])\n",
        "        \n",
        "        Prototypes[j] = Median(sortedProjections[j])\n",
        "        \n",
        "        # print(\".............\")\n",
        "        # print(str(j)+\"-Prototypes:\")        \n",
        "        # print(Prototypes[j])\n",
        "        \n",
        "        j += 1\n",
        "    # print(\"\\n****** END *********\\n\")\n",
        "\n",
        "    return Prototypes\n",
        "\n",
        "\n",
        "def Approximated_Projection_Distances_ofCluster(right_rep, left_rep, cluster_id, clusterSet, pairDictionary):\n",
        "\n",
        "    distances_vector = dict()\n",
        "    rep_distance     = EditDistance(right_rep,left_rep)\n",
        "\n",
        "    for str_inCluster in range(0,len(clusterSet)): \n",
        "\n",
        "      right_rep_distance = EditDistance(right_rep,clusterSet[str_inCluster])\n",
        "      left_rep_distance  = EditDistance(left_rep,clusterSet[str_inCluster])\n",
        "      \n",
        "      distance = (right_rep_distance**2-rep_distance**2-left_rep_distance**2 ) / (2*rep_distance)\n",
        "      distances_vector[clusterSet[str_inCluster]] = distance\n",
        "\n",
        "    return distances_vector\n",
        "\n",
        "def Median(distances):    \n",
        "    '''\n",
        "    Returns the median value of a vector\n",
        "    '''\n",
        "    keys = list(distances.keys())\n",
        "    median_position = int(len(keys)/2)\n",
        "    median_value = keys[median_position]\n",
        "\n",
        "    return median_value"
      ],
      "execution_count": 3,
      "outputs": []
    },
    {
      "cell_type": "code",
      "metadata": {
        "id": "AyCcESXRY2no"
      },
      "source": [
        "# pairDictionary = dict()\n",
        "# input_strings = list(strObjects)\n",
        "# k = 7 # max_number_of_clusters\n",
        "# d = 120\n",
        "# S_set = np.array(input_strings,dtype=object)\n",
        "# S_index = np.arange(0,len(input_strings),1)\n",
        "# # S_index_list = list(S_index) \n",
        "\n",
        "\n",
        "# # print(S_set)\n",
        "\n",
        "# print(\"\\n-----------------\\nString positions are:\")\n",
        "# print(S_index)\n",
        "# print(\"-----------------\\n\")\n",
        "\n",
        "# Prototypes = Clustering_Prototypes(S_index,k,d)\n",
        "\n",
        "# print(\"\\n-----------------\\n NumofPrototypes: \"+str(k)+\" || Prototypes are: \")\n",
        "# print(Prototypes)\n",
        "# print(\"-----------------\")"
      ],
      "execution_count": 4,
      "outputs": []
    },
    {
      "cell_type": "markdown",
      "metadata": {
        "id": "S4WmO8Rmtrc0"
      },
      "source": [
        "## __2. Embeddings based on the Vantage objects__\n",
        "\n",
        "\n"
      ]
    },
    {
      "cell_type": "code",
      "metadata": {
        "id": "7Jha053VY2nq"
      },
      "source": [
        "#####################################################################\n",
        "#       2. Embeddings based on the Vantage objects                  #\n",
        "#####################################################################\n",
        "\n",
        "'''\n",
        "CreateVantageEmbeddings(S,VantageObjects): Main function for creating the string embeddings based on the Vantage Objects\n",
        "'''\n",
        "def CreateVantageEmbeddings(S,VantageObjects, pairDictionary):\n",
        "    \n",
        "    # ------- Distance computing ------- #     \n",
        "    vectors = []\n",
        "    for s in range(0,S.size):\n",
        "        string_embedding = []\n",
        "        for p in range(0,VantageObjects.size): \n",
        "            if VantageObjects[p] != None:\n",
        "                string_embedding.append(DistanceMetric(s,p,S,VantageObjects, pairDictionary))\n",
        "            \n",
        "        # --- Ranking representation ---- #\n",
        "        ranked_string_embedding = stats.rankdata(string_embedding, method='dense')\n",
        "        \n",
        "        # ------- Vectors dataset ------- #\n",
        "        vectors.append(ranked_string_embedding)\n",
        "    \n",
        "    return np.array(vectors)\n",
        "    \n",
        "\n",
        "'''\n",
        "DistanceMetric(s,p,S,Prototypes): Implementation of equation (5)\n",
        "'''\n",
        "def DistanceMetric(s,p,S,VantageObjects, pairDictionary):\n",
        "    \n",
        "    max_distance = None\n",
        "    \n",
        "    for pp in range(0,VantageObjects.size):\n",
        "        if VantageObjects[pp] != None:\n",
        "            string_distance = EditDistance(S[s],VantageObjects[pp])    # Edit distance String-i -> Vantage Object\n",
        "            VO_distance     = EditDistance(VantageObjects[p],VantageObjects[pp])    # Edit distance Vantage Object-j -> Vantage Object-i\n",
        "\n",
        "            abs_diff = abs(string_distance-VO_distance)\n",
        "\n",
        "            # --- Max distance diff --- #        \n",
        "            if max_distance == None:\n",
        "                max_distance = abs_diff\n",
        "            elif abs_diff > max_distance:\n",
        "                max_distance = abs_diff\n",
        "            \n",
        "    return max_distance\n",
        "\n",
        "def dropNone(array):\n",
        "    array = list(filter(None, list(array)))\n",
        "    return np.array(array)\n",
        "\n",
        "def topKPrototypes():\n",
        "    return"
      ],
      "execution_count": 5,
      "outputs": []
    },
    {
      "cell_type": "markdown",
      "metadata": {
        "id": "HCYtFW8AtuJa"
      },
      "source": [
        "## __3. Metrics and Similarity functions__"
      ]
    },
    {
      "cell_type": "code",
      "metadata": {
        "id": "P8r9SPBieYMR"
      },
      "source": [
        "#####################################################################\n",
        "#                 3. Similarity function                            # \n",
        "#####################################################################\n",
        "from scipy.spatial.distance import directed_hausdorff\n",
        "from scipy.spatial.distance import hamming\n",
        "from scipy.stats._stats import _kendall_dis\n",
        "\n",
        "def SimilarityEvaluation(buckets,vectors,threshold, maxOnly=None, metric=None):\n",
        "\n",
        "  numOfVectors = vectors.shape[0]\n",
        "  vectorDim    = vectors.shape[1]\n",
        "  mapping = {}\n",
        "\n",
        "  for v_index in range(0,numOfVectors,1):\n",
        "    \n",
        "    for i_index in range(v_index+1,numOfVectors,1):\n",
        "      if metric == None or metric == 'kendal': \n",
        "        tau, p_value = stats.kendalltau(vectors[v_index], vectors[i_index])\n",
        "      else:\n",
        "        numOf_discordant_pairs = _kendall_dis(vectors[v_index], vectors[i_index])\n",
        "        tau = float((2*numOf_discordant_pairs) / ((vectorDim)*(vectorDim-1)))\n",
        "      \n",
        "      # print(tau,numOf_discordant_pairs,vectorDim)\n",
        "      \n",
        "      if tau > threshold or maxOnly:\n",
        "        if not maxOnly:\n",
        "          if v_index not in mapping.keys():\n",
        "            mapping[v_index] = []\n",
        "          mapping[v_index].append(i_index)\n",
        "        else:\n",
        "          if v_index not in mapping.keys():  \n",
        "            mapping[v_index] = (i_index,tau)\n",
        "          else:\n",
        "            if mapping[v_index][1] < tau:\n",
        "              mapping[v_index] = (i_index,tau)\n",
        " \n",
        "  return mapping\n"
      ],
      "execution_count": 6,
      "outputs": []
    },
    {
      "cell_type": "markdown",
      "metadata": {
        "id": "JyWFIXimt0tm"
      },
      "source": [
        "## __4. Hashing__"
      ]
    },
    {
      "cell_type": "code",
      "metadata": {
        "id": "hhANgIOgY2nr"
      },
      "source": [
        "#####################################################################\n",
        "#                        4. Hashing                                 # \n",
        "#####################################################################\n",
        "\n",
        "def WTA(vectors,K,inputDim):\n",
        "  '''\n",
        "    Winner Take All hash - Yagnik\n",
        "    .............................\n",
        "\n",
        "    m: number of permutations\n",
        "    K: window size\n",
        "  '''\n",
        "  newVectors = []\n",
        "  buckets = dict()\n",
        "\n",
        "  numOfVectors = vectors.shape[0]\n",
        "  vectorDim    = vectors.shape[1]\n",
        "\n",
        "  C = np.zeros([numOfVectors], dtype=int)\n",
        "  theta = np.random.permutation(inputDim)\n",
        "  i=0;j=0;\n",
        "\n",
        "  for v_index in range(0,numOfVectors,1):\n",
        "    X_new = permuted(vectors[v_index],theta)\n",
        "    # print( np.array(X_new[:K]))\n",
        "    newVectors.append(X_new[:K])\n",
        "    index_max = max(range(len(X_new)), key=X_new.__getitem__)\n",
        "    c_i = index_max\n",
        "\n",
        "    j=0\n",
        "    for j in range(0,K):\n",
        "      if X_new[j] > X_new[c_i]:\n",
        "        c_i = j\n",
        "\n",
        "    C[i] = c_i\n",
        "    buckets = bucketInsert(buckets,c_i,i)\n",
        "    i+=1\n",
        "  \n",
        "  return C,buckets,np.array(newVectors)\n",
        "\n",
        "def permuted(vector,permutation):\n",
        "  permuted_vector = [vector[x] for x in permutation]\n",
        "  return permuted_vector \n",
        "\n",
        "def bucketInsert(buckets,bucket_id,item):\n",
        "  if bucket_id not in buckets.keys():\n",
        "    buckets[bucket_id] = []\n",
        "  buckets[bucket_id].append(item)\n",
        "\n",
        "  return buckets"
      ],
      "execution_count": 7,
      "outputs": []
    },
    {
      "cell_type": "markdown",
      "metadata": {
        "id": "xsLgNotco_5b"
      },
      "source": [
        "## __Final model__\n",
        "\n",
        "\n",
        "\n",
        "\n",
        "\n",
        "\n",
        "\n"
      ]
    },
    {
      "cell_type": "code",
      "metadata": {
        "id": "YumZ62NCpQaA"
      },
      "source": [
        "class RankedWTAHash:\n",
        "\n",
        "  def __init__(self, max_numberOf_clusters, max_editDistance, windowSize, metric = 'kendal', similarityThreshold=None, maxOnly=None ):\n",
        "      '''\n",
        "        Constructor\n",
        "      '''\n",
        "      self.max_numberOf_clusters = max_numberOf_clusters\n",
        "      self.pairDictionary = dict()\n",
        "      self.max_editDistance = max_editDistance\n",
        "      self.windowSize = windowSize\n",
        "      self.S_set = None \n",
        "      self.S_index = None \n",
        "      self.similarityThreshold = similarityThreshold\n",
        "      self.maxOnly = maxOnly\n",
        "      self.metric = metric\n",
        "  \n",
        "  def fit(self, X, y):\n",
        "    \"\"\"\n",
        "      Fit the classifier from the training dataset.\n",
        "      Parameters\n",
        "      ----------\n",
        "      X : Training data.\n",
        "      y : Target values.\n",
        "      Returns\n",
        "      -------\n",
        "      self : The fitted classifier.\n",
        "    \"\"\"\n",
        "    \n",
        "    input_strings = list(X)\n",
        "    print(input_strings)\n",
        "    self.S_set = np.array(input_strings,dtype=object)\n",
        "    self.S_index = np.arange(0,len(input_strings),1)\n",
        "    # S_index_list = list(S_index) \n",
        "    # self.X = S_index\n",
        "\n",
        "    # print(S_set)\n",
        "\n",
        "    print(\"\\n-----------------\\nString positions are:\")\n",
        "    print(self.S_index)\n",
        "    print(\"-----------------\\n\")\n",
        "\n",
        "    self.prototypeArray = Clustering_Prototypes(self.S_index,self.max_numberOf_clusters, self.max_editDistance, self.pairDictionary)\n",
        "    self.embeddingDim   = self.prototypeArray.size\n",
        "    print(\"\\n-----------------\\n NumofPrototypes: \"+str(self.max_numberOf_clusters)+\" || Prototypes are: \")\n",
        "    print(self.prototypeArray)\n",
        "    print(\"-----------------\")\n",
        "\n",
        "    self.Embeddings = CreateVantageEmbeddings(self.S_index,self.prototypeArray, self.pairDictionary)\n",
        "\n",
        "    print(\"\\n-----------------\\nEmbeddings:\")\n",
        "    print(self.Embeddings)\n",
        "    print(\"-----------------\\n\")\n",
        "\n",
        "    self.HashedClusters,self.buckets,self.rankedVectors = WTA(self.Embeddings,self.windowSize,self.embeddingDim)\n",
        "\n",
        "    print(\"\\n-----------------\\nWTA Buckets:\")\n",
        "    print(self.HashedClusters)\n",
        "    print(\"-----------------\\n\")\n",
        "    \n",
        "    print(\"\\n-----------------\\nWTA RankedVectors after permutation:\")\n",
        "    print(self.rankedVectors)\n",
        "    print(\"-----------------\\n\")\n",
        "\n",
        "    print(\"\\n-----------------\\nSimilarity checking:\")\n",
        "    self.mapping = SimilarityEvaluation(self.buckets,self.rankedVectors,self.similarityThreshold,maxOnly=self.maxOnly, metric=self.metric)\n",
        "    print(self.mapping)\n",
        "    print(\"-----------------\\n\")\n",
        "    \n",
        "  \n",
        "  def EditDistance(self, str1,str2,verbose=False):\n",
        "      if verbose:\n",
        "          if str1 == None:\n",
        "              print(\"1\")\n",
        "          elif str2 == None:\n",
        "              print(\"2\")\n",
        "          print(\"-> \"+str(str1))\n",
        "          print(\"--> \"+str(str2))\n",
        "          print(str(editdistance.eval(self.S_set[str1],self.S_set[str2])))\n",
        "      \n",
        "      \n",
        "      # NOTE: Duplicates inside the dictionary     \n",
        "\n",
        "      if ((str1,str2) or (str2,str1))  in self.pairDictionary.keys():\n",
        "          return self.pairDictionary[(str1,str2)]\n",
        "      else:\n",
        "          distance = editdistance.eval(self.S_set[str1],self.S_set[str2])\n",
        "          self.pairDictionary[(str2,str1)] = self.pairDictionary[(str1,str2)] = distance\n",
        "          return distance\n",
        "\n",
        "    # def DBLPACM_classification_report(self, perfectMapping):\n",
        "    #   print(classification_report())\n",
        "\n",
        "\n",
        "  # def predict(self, X):\n",
        "  # \"\"\"\n",
        "  #   Predict the class labels for the provided data.\n",
        "  #   Parameters\n",
        "  #   ----------\n",
        "  #   X : Test samples.\n",
        "  #   Returns\n",
        "  #   -------\n",
        "  #   y : Class labels for each data sample.\n",
        "  # \"\"\"\n",
        "  \n",
        "  \n",
        "  # def predict_proba(self, X):\n",
        "  # \"\"\"\n",
        "  #   Return probability estimates for the test data X.\n",
        "  #   Parameters\n",
        "  #   ----------\n",
        "  #   X : Test samples.\n",
        "    \n",
        "  #   Returns\n",
        "  #   -------\n",
        "  #   p : The class probabilities of the input samples.\n",
        "  # \"\"\"\n",
        "\n",
        "\n",
        "  # # def evaluate():"
      ],
      "execution_count": 8,
      "outputs": []
    },
    {
      "cell_type": "markdown",
      "metadata": {
        "id": "oJKNCDO3Y2nr"
      },
      "source": [
        "---\n",
        "---\n",
        "\n",
        "# __Evaluation__"
      ]
    },
    {
      "cell_type": "code",
      "metadata": {
        "id": "YB65glqQmgDg"
      },
      "source": [
        "from sklearn.metrics import classification_report"
      ],
      "execution_count": 9,
      "outputs": []
    },
    {
      "cell_type": "code",
      "metadata": {
        "id": "mfzI-5_vtM_D",
        "colab": {
          "base_uri": "https://localhost:8080/"
        },
        "outputId": "1c1c87de-b781-493b-eb0d-5e372ac1e1c7"
      },
      "source": [
        "# Opening data file\n",
        "import io\n",
        "from google.colab import drive\n",
        "\n",
        "drive.mount('/content/drive',force_remount=True)"
      ],
      "execution_count": 10,
      "outputs": [
        {
          "output_type": "stream",
          "text": [
            "Mounted at /content/drive\n"
          ],
          "name": "stdout"
        }
      ]
    },
    {
      "cell_type": "markdown",
      "metadata": {
        "id": "QYa50ekcklUs"
      },
      "source": [
        "## __CoRA__"
      ]
    },
    {
      "cell_type": "markdown",
      "metadata": {
        "id": "5cHxuG1nRqYD"
      },
      "source": [
        "### Load from Drive"
      ]
    },
    {
      "cell_type": "code",
      "metadata": {
        "id": "KirmY4CPklDk"
      },
      "source": [
        "fpcites = r\"/content/drive/My Drive/ERinDS/cora_cites.csv\"\n",
        "fppaper = r\"/content/drive/My Drive/ERinDS/cora_paper.csv\"\n",
        "fpcontent = r\"/content/drive/My Drive/ERinDS/cora_content.csv\"\n",
        "\n",
        "cites = pd.read_csv(fpcites,sep=';')\n",
        "paper = pd.read_csv(fppaper,sep=';')\n",
        "content = pd.read_csv(fpcontent,sep=';')"
      ],
      "execution_count": 11,
      "outputs": []
    },
    {
      "cell_type": "markdown",
      "metadata": {
        "id": "Mw8XzxTbRs-O"
      },
      "source": [
        "### Overview"
      ]
    },
    {
      "cell_type": "code",
      "metadata": {
        "colab": {
          "base_uri": "https://localhost:8080/",
          "height": 419
        },
        "id": "qDDNdDOyvTgn",
        "outputId": "9065d54c-7051-48b3-f6b8-9acb9b1acc25"
      },
      "source": [
        "cites"
      ],
      "execution_count": 12,
      "outputs": [
        {
          "output_type": "execute_result",
          "data": {
            "text/html": [
              "<div>\n",
              "<style scoped>\n",
              "    .dataframe tbody tr th:only-of-type {\n",
              "        vertical-align: middle;\n",
              "    }\n",
              "\n",
              "    .dataframe tbody tr th {\n",
              "        vertical-align: top;\n",
              "    }\n",
              "\n",
              "    .dataframe thead th {\n",
              "        text-align: right;\n",
              "    }\n",
              "</style>\n",
              "<table border=\"1\" class=\"dataframe\">\n",
              "  <thead>\n",
              "    <tr style=\"text-align: right;\">\n",
              "      <th></th>\n",
              "      <th>cited_paper_id</th>\n",
              "      <th>citing_paper_id</th>\n",
              "    </tr>\n",
              "  </thead>\n",
              "  <tbody>\n",
              "    <tr>\n",
              "      <th>0</th>\n",
              "      <td>35</td>\n",
              "      <td>887</td>\n",
              "    </tr>\n",
              "    <tr>\n",
              "      <th>1</th>\n",
              "      <td>35</td>\n",
              "      <td>1033</td>\n",
              "    </tr>\n",
              "    <tr>\n",
              "      <th>2</th>\n",
              "      <td>35</td>\n",
              "      <td>1688</td>\n",
              "    </tr>\n",
              "    <tr>\n",
              "      <th>3</th>\n",
              "      <td>35</td>\n",
              "      <td>1956</td>\n",
              "    </tr>\n",
              "    <tr>\n",
              "      <th>4</th>\n",
              "      <td>35</td>\n",
              "      <td>8865</td>\n",
              "    </tr>\n",
              "    <tr>\n",
              "      <th>...</th>\n",
              "      <td>...</td>\n",
              "      <td>...</td>\n",
              "    </tr>\n",
              "    <tr>\n",
              "      <th>5424</th>\n",
              "      <td>853116</td>\n",
              "      <td>19621</td>\n",
              "    </tr>\n",
              "    <tr>\n",
              "      <th>5425</th>\n",
              "      <td>853116</td>\n",
              "      <td>853155</td>\n",
              "    </tr>\n",
              "    <tr>\n",
              "      <th>5426</th>\n",
              "      <td>853118</td>\n",
              "      <td>1140289</td>\n",
              "    </tr>\n",
              "    <tr>\n",
              "      <th>5427</th>\n",
              "      <td>853155</td>\n",
              "      <td>853118</td>\n",
              "    </tr>\n",
              "    <tr>\n",
              "      <th>5428</th>\n",
              "      <td>954315</td>\n",
              "      <td>1155073</td>\n",
              "    </tr>\n",
              "  </tbody>\n",
              "</table>\n",
              "<p>5429 rows × 2 columns</p>\n",
              "</div>"
            ],
            "text/plain": [
              "      cited_paper_id  citing_paper_id\n",
              "0                 35              887\n",
              "1                 35             1033\n",
              "2                 35             1688\n",
              "3                 35             1956\n",
              "4                 35             8865\n",
              "...              ...              ...\n",
              "5424          853116            19621\n",
              "5425          853116           853155\n",
              "5426          853118          1140289\n",
              "5427          853155           853118\n",
              "5428          954315          1155073\n",
              "\n",
              "[5429 rows x 2 columns]"
            ]
          },
          "metadata": {
            "tags": []
          },
          "execution_count": 12
        }
      ]
    },
    {
      "cell_type": "code",
      "metadata": {
        "colab": {
          "base_uri": "https://localhost:8080/",
          "height": 419
        },
        "id": "KL34BtKAQxAS",
        "outputId": "bc4f32b7-98f7-42b0-f240-320336f09483"
      },
      "source": [
        "paper"
      ],
      "execution_count": 13,
      "outputs": [
        {
          "output_type": "execute_result",
          "data": {
            "text/html": [
              "<div>\n",
              "<style scoped>\n",
              "    .dataframe tbody tr th:only-of-type {\n",
              "        vertical-align: middle;\n",
              "    }\n",
              "\n",
              "    .dataframe tbody tr th {\n",
              "        vertical-align: top;\n",
              "    }\n",
              "\n",
              "    .dataframe thead th {\n",
              "        text-align: right;\n",
              "    }\n",
              "</style>\n",
              "<table border=\"1\" class=\"dataframe\">\n",
              "  <thead>\n",
              "    <tr style=\"text-align: right;\">\n",
              "      <th></th>\n",
              "      <th>paper_id</th>\n",
              "      <th>class_label</th>\n",
              "    </tr>\n",
              "  </thead>\n",
              "  <tbody>\n",
              "    <tr>\n",
              "      <th>0</th>\n",
              "      <td>35</td>\n",
              "      <td>Genetic_Algorithms</td>\n",
              "    </tr>\n",
              "    <tr>\n",
              "      <th>1</th>\n",
              "      <td>40</td>\n",
              "      <td>Genetic_Algorithms</td>\n",
              "    </tr>\n",
              "    <tr>\n",
              "      <th>2</th>\n",
              "      <td>114</td>\n",
              "      <td>Reinforcement_Learning</td>\n",
              "    </tr>\n",
              "    <tr>\n",
              "      <th>3</th>\n",
              "      <td>117</td>\n",
              "      <td>Reinforcement_Learning</td>\n",
              "    </tr>\n",
              "    <tr>\n",
              "      <th>4</th>\n",
              "      <td>128</td>\n",
              "      <td>Reinforcement_Learning</td>\n",
              "    </tr>\n",
              "    <tr>\n",
              "      <th>...</th>\n",
              "      <td>...</td>\n",
              "      <td>...</td>\n",
              "    </tr>\n",
              "    <tr>\n",
              "      <th>2703</th>\n",
              "      <td>1154500</td>\n",
              "      <td>Case_Based</td>\n",
              "    </tr>\n",
              "    <tr>\n",
              "      <th>2704</th>\n",
              "      <td>1154520</td>\n",
              "      <td>Neural_Networks</td>\n",
              "    </tr>\n",
              "    <tr>\n",
              "      <th>2705</th>\n",
              "      <td>1154524</td>\n",
              "      <td>Rule_Learning</td>\n",
              "    </tr>\n",
              "    <tr>\n",
              "      <th>2706</th>\n",
              "      <td>1154525</td>\n",
              "      <td>Rule_Learning</td>\n",
              "    </tr>\n",
              "    <tr>\n",
              "      <th>2707</th>\n",
              "      <td>1155073</td>\n",
              "      <td>Rule_Learning</td>\n",
              "    </tr>\n",
              "  </tbody>\n",
              "</table>\n",
              "<p>2708 rows × 2 columns</p>\n",
              "</div>"
            ],
            "text/plain": [
              "      paper_id             class_label\n",
              "0           35      Genetic_Algorithms\n",
              "1           40      Genetic_Algorithms\n",
              "2          114  Reinforcement_Learning\n",
              "3          117  Reinforcement_Learning\n",
              "4          128  Reinforcement_Learning\n",
              "...        ...                     ...\n",
              "2703   1154500              Case_Based\n",
              "2704   1154520         Neural_Networks\n",
              "2705   1154524           Rule_Learning\n",
              "2706   1154525           Rule_Learning\n",
              "2707   1155073           Rule_Learning\n",
              "\n",
              "[2708 rows x 2 columns]"
            ]
          },
          "metadata": {
            "tags": []
          },
          "execution_count": 13
        }
      ]
    },
    {
      "cell_type": "code",
      "metadata": {
        "colab": {
          "base_uri": "https://localhost:8080/",
          "height": 419
        },
        "id": "rBKRu6IeQ0Kv",
        "outputId": "1942be2f-6cb5-4e4b-810a-fd909addfa6f"
      },
      "source": [
        "content"
      ],
      "execution_count": 14,
      "outputs": [
        {
          "output_type": "execute_result",
          "data": {
            "text/html": [
              "<div>\n",
              "<style scoped>\n",
              "    .dataframe tbody tr th:only-of-type {\n",
              "        vertical-align: middle;\n",
              "    }\n",
              "\n",
              "    .dataframe tbody tr th {\n",
              "        vertical-align: top;\n",
              "    }\n",
              "\n",
              "    .dataframe thead th {\n",
              "        text-align: right;\n",
              "    }\n",
              "</style>\n",
              "<table border=\"1\" class=\"dataframe\">\n",
              "  <thead>\n",
              "    <tr style=\"text-align: right;\">\n",
              "      <th></th>\n",
              "      <th>paper_id</th>\n",
              "      <th>word_cited_id</th>\n",
              "    </tr>\n",
              "  </thead>\n",
              "  <tbody>\n",
              "    <tr>\n",
              "      <th>0</th>\n",
              "      <td>35</td>\n",
              "      <td>word100</td>\n",
              "    </tr>\n",
              "    <tr>\n",
              "      <th>1</th>\n",
              "      <td>35</td>\n",
              "      <td>word1152</td>\n",
              "    </tr>\n",
              "    <tr>\n",
              "      <th>2</th>\n",
              "      <td>35</td>\n",
              "      <td>word1175</td>\n",
              "    </tr>\n",
              "    <tr>\n",
              "      <th>3</th>\n",
              "      <td>35</td>\n",
              "      <td>word1228</td>\n",
              "    </tr>\n",
              "    <tr>\n",
              "      <th>4</th>\n",
              "      <td>35</td>\n",
              "      <td>word1248</td>\n",
              "    </tr>\n",
              "    <tr>\n",
              "      <th>...</th>\n",
              "      <td>...</td>\n",
              "      <td>...</td>\n",
              "    </tr>\n",
              "    <tr>\n",
              "      <th>49211</th>\n",
              "      <td>1155073</td>\n",
              "      <td>word75</td>\n",
              "    </tr>\n",
              "    <tr>\n",
              "      <th>49212</th>\n",
              "      <td>1155073</td>\n",
              "      <td>word759</td>\n",
              "    </tr>\n",
              "    <tr>\n",
              "      <th>49213</th>\n",
              "      <td>1155073</td>\n",
              "      <td>word789</td>\n",
              "    </tr>\n",
              "    <tr>\n",
              "      <th>49214</th>\n",
              "      <td>1155073</td>\n",
              "      <td>word815</td>\n",
              "    </tr>\n",
              "    <tr>\n",
              "      <th>49215</th>\n",
              "      <td>1155073</td>\n",
              "      <td>word979</td>\n",
              "    </tr>\n",
              "  </tbody>\n",
              "</table>\n",
              "<p>49216 rows × 2 columns</p>\n",
              "</div>"
            ],
            "text/plain": [
              "       paper_id word_cited_id\n",
              "0            35       word100\n",
              "1            35      word1152\n",
              "2            35      word1175\n",
              "3            35      word1228\n",
              "4            35      word1248\n",
              "...         ...           ...\n",
              "49211   1155073        word75\n",
              "49212   1155073       word759\n",
              "49213   1155073       word789\n",
              "49214   1155073       word815\n",
              "49215   1155073       word979\n",
              "\n",
              "[49216 rows x 2 columns]"
            ]
          },
          "metadata": {
            "tags": []
          },
          "execution_count": 14
        }
      ]
    },
    {
      "cell_type": "markdown",
      "metadata": {
        "id": "Hab5-7moRfuW"
      },
      "source": [
        "### Train-Test-Validation datasets\n",
        "\n"
      ]
    },
    {
      "cell_type": "code",
      "metadata": {
        "colab": {
          "base_uri": "https://localhost:8080/"
        },
        "id": "JaDwT4L-Rny7",
        "outputId": "57904c28-920e-4547-fb6c-16ccee2bbe65"
      },
      "source": [
        "class_labels = np.unique(paper.class_label.to_numpy())\n",
        "print(class_labels)\n",
        "print(\"Number of classes: \"+str(len(class_labels)))"
      ],
      "execution_count": 15,
      "outputs": [
        {
          "output_type": "stream",
          "text": [
            "['Case_Based' 'Genetic_Algorithms' 'Neural_Networks'\n",
            " 'Probabilistic_Methods' 'Reinforcement_Learning' 'Rule_Learning' 'Theory']\n",
            "Number of classes: 7\n"
          ],
          "name": "stdout"
        }
      ]
    },
    {
      "cell_type": "code",
      "metadata": {
        "id": "zq4WXRiySWJK"
      },
      "source": [
        ""
      ],
      "execution_count": 15,
      "outputs": []
    },
    {
      "cell_type": "markdown",
      "metadata": {
        "id": "UJlvGhihkq1l"
      },
      "source": [
        "## __DBLP/ACM__"
      ]
    },
    {
      "cell_type": "code",
      "metadata": {
        "id": "aVVgKih1Y2nr"
      },
      "source": [
        "acmfp = r\"/content/drive/My Drive/ERinDS/ACM.csv\"\n",
        "dblpfp = r\"/content/drive/My Drive/ERinDS/DBLP2.csv\"\n",
        "acm_dblp_mapping_fp = r\"/content/drive/My Drive/ERinDS/DBLP-ACM_perfectMapping.csv\"\n",
        "\n",
        "acm = pd.read_csv(acmfp)\n",
        "dblp = pd.read_csv(dblpfp, encoding='latin-1')\n",
        "perfect_mapping = pd.read_csv(acm_dblp_mapping_fp)\n",
        "\n",
        "dblp['year'] = dblp['year'].astype(str)\n",
        "acm['year'] = acm['year'].astype(str)"
      ],
      "execution_count": 16,
      "outputs": []
    },
    {
      "cell_type": "code",
      "metadata": {
        "id": "RXOzZC7enYtC"
      },
      "source": [
        ""
      ],
      "execution_count": 16,
      "outputs": []
    },
    {
      "cell_type": "markdown",
      "metadata": {
        "id": "llh9qZmUnkWz"
      },
      "source": [
        "### Overview"
      ]
    },
    {
      "cell_type": "code",
      "metadata": {
        "colab": {
          "base_uri": "https://localhost:8080/",
          "height": 0
        },
        "id": "869eFGw3eo0M",
        "outputId": "69ed622f-4b91-4c31-c87a-83eed9db5939"
      },
      "source": [
        "acm"
      ],
      "execution_count": 17,
      "outputs": [
        {
          "output_type": "execute_result",
          "data": {
            "text/html": [
              "<div>\n",
              "<style scoped>\n",
              "    .dataframe tbody tr th:only-of-type {\n",
              "        vertical-align: middle;\n",
              "    }\n",
              "\n",
              "    .dataframe tbody tr th {\n",
              "        vertical-align: top;\n",
              "    }\n",
              "\n",
              "    .dataframe thead th {\n",
              "        text-align: right;\n",
              "    }\n",
              "</style>\n",
              "<table border=\"1\" class=\"dataframe\">\n",
              "  <thead>\n",
              "    <tr style=\"text-align: right;\">\n",
              "      <th></th>\n",
              "      <th>id</th>\n",
              "      <th>title</th>\n",
              "      <th>authors</th>\n",
              "      <th>venue</th>\n",
              "      <th>year</th>\n",
              "    </tr>\n",
              "  </thead>\n",
              "  <tbody>\n",
              "    <tr>\n",
              "      <th>0</th>\n",
              "      <td>304586</td>\n",
              "      <td>The WASA2 object-oriented workflow management ...</td>\n",
              "      <td>Gottfried Vossen, Mathias Weske</td>\n",
              "      <td>International Conference on Management of Data</td>\n",
              "      <td>1999</td>\n",
              "    </tr>\n",
              "    <tr>\n",
              "      <th>1</th>\n",
              "      <td>304587</td>\n",
              "      <td>A user-centered interface for querying distrib...</td>\n",
              "      <td>Isabel F. Cruz, Kimberly M. James</td>\n",
              "      <td>International Conference on Management of Data</td>\n",
              "      <td>1999</td>\n",
              "    </tr>\n",
              "    <tr>\n",
              "      <th>2</th>\n",
              "      <td>304589</td>\n",
              "      <td>World Wide Database-integrating the Web, CORBA...</td>\n",
              "      <td>Athman Bouguettaya, Boualem Benatallah, Lily H...</td>\n",
              "      <td>International Conference on Management of Data</td>\n",
              "      <td>1999</td>\n",
              "    </tr>\n",
              "    <tr>\n",
              "      <th>3</th>\n",
              "      <td>304590</td>\n",
              "      <td>XML-based information mediation with MIX</td>\n",
              "      <td>Chaitan Baru, Amarnath Gupta, Bertram Lud&amp;#228...</td>\n",
              "      <td>International Conference on Management of Data</td>\n",
              "      <td>1999</td>\n",
              "    </tr>\n",
              "    <tr>\n",
              "      <th>4</th>\n",
              "      <td>304582</td>\n",
              "      <td>The CCUBE constraint object-oriented database ...</td>\n",
              "      <td>Alexander Brodsky, Victor E. Segal, Jia Chen, ...</td>\n",
              "      <td>International Conference on Management of Data</td>\n",
              "      <td>1999</td>\n",
              "    </tr>\n",
              "    <tr>\n",
              "      <th>...</th>\n",
              "      <td>...</td>\n",
              "      <td>...</td>\n",
              "      <td>...</td>\n",
              "      <td>...</td>\n",
              "      <td>...</td>\n",
              "    </tr>\n",
              "    <tr>\n",
              "      <th>2289</th>\n",
              "      <td>672977</td>\n",
              "      <td>Dual-Buffering Strategies in Object Bases</td>\n",
              "      <td>Alfons Kemper, Donald Kossmann</td>\n",
              "      <td>Very Large Data Bases</td>\n",
              "      <td>1994</td>\n",
              "    </tr>\n",
              "    <tr>\n",
              "      <th>2290</th>\n",
              "      <td>950482</td>\n",
              "      <td>Guest editorial</td>\n",
              "      <td>Philip A. Bernstein, Yannis Ioannidis, Raghu R...</td>\n",
              "      <td>The VLDB Journal &amp;mdash; The International Jou...</td>\n",
              "      <td>2003</td>\n",
              "    </tr>\n",
              "    <tr>\n",
              "      <th>2291</th>\n",
              "      <td>672980</td>\n",
              "      <td>GraphDB: Modeling and Querying Graphs in Datab...</td>\n",
              "      <td>Ralf Hartmut G&amp;#252;ting</td>\n",
              "      <td>Very Large Data Bases</td>\n",
              "      <td>1994</td>\n",
              "    </tr>\n",
              "    <tr>\n",
              "      <th>2292</th>\n",
              "      <td>945741</td>\n",
              "      <td>Review of The data warehouse toolkit: the comp...</td>\n",
              "      <td>Alexander A. Anisimov</td>\n",
              "      <td>ACM SIGMOD Record</td>\n",
              "      <td>2003</td>\n",
              "    </tr>\n",
              "    <tr>\n",
              "      <th>2293</th>\n",
              "      <td>672979</td>\n",
              "      <td>Bulk Loading into an OODB: A Performance Study</td>\n",
              "      <td>Janet L. Wiener, Jeffrey F. Naughton</td>\n",
              "      <td>Very Large Data Bases</td>\n",
              "      <td>1994</td>\n",
              "    </tr>\n",
              "  </tbody>\n",
              "</table>\n",
              "<p>2294 rows × 5 columns</p>\n",
              "</div>"
            ],
            "text/plain": [
              "          id  ...  year\n",
              "0     304586  ...  1999\n",
              "1     304587  ...  1999\n",
              "2     304589  ...  1999\n",
              "3     304590  ...  1999\n",
              "4     304582  ...  1999\n",
              "...      ...  ...   ...\n",
              "2289  672977  ...  1994\n",
              "2290  950482  ...  2003\n",
              "2291  672980  ...  1994\n",
              "2292  945741  ...  2003\n",
              "2293  672979  ...  1994\n",
              "\n",
              "[2294 rows x 5 columns]"
            ]
          },
          "metadata": {
            "tags": []
          },
          "execution_count": 17
        }
      ]
    },
    {
      "cell_type": "code",
      "metadata": {
        "colab": {
          "base_uri": "https://localhost:8080/",
          "height": 0
        },
        "id": "Vk6UZPWinhqi",
        "outputId": "28c7a9be-e0dc-4b96-f8d3-e239be4b756d"
      },
      "source": [
        "dblp"
      ],
      "execution_count": 18,
      "outputs": [
        {
          "output_type": "execute_result",
          "data": {
            "text/html": [
              "<div>\n",
              "<style scoped>\n",
              "    .dataframe tbody tr th:only-of-type {\n",
              "        vertical-align: middle;\n",
              "    }\n",
              "\n",
              "    .dataframe tbody tr th {\n",
              "        vertical-align: top;\n",
              "    }\n",
              "\n",
              "    .dataframe thead th {\n",
              "        text-align: right;\n",
              "    }\n",
              "</style>\n",
              "<table border=\"1\" class=\"dataframe\">\n",
              "  <thead>\n",
              "    <tr style=\"text-align: right;\">\n",
              "      <th></th>\n",
              "      <th>id</th>\n",
              "      <th>title</th>\n",
              "      <th>authors</th>\n",
              "      <th>venue</th>\n",
              "      <th>year</th>\n",
              "    </tr>\n",
              "  </thead>\n",
              "  <tbody>\n",
              "    <tr>\n",
              "      <th>0</th>\n",
              "      <td>journals/sigmod/Mackay99</td>\n",
              "      <td>Semantic Integration of Environmental Models f...</td>\n",
              "      <td>D. Scott Mackay</td>\n",
              "      <td>SIGMOD Record</td>\n",
              "      <td>1999</td>\n",
              "    </tr>\n",
              "    <tr>\n",
              "      <th>1</th>\n",
              "      <td>conf/vldb/PoosalaI96</td>\n",
              "      <td>Estimation of Query-Result Distribution and it...</td>\n",
              "      <td>Viswanath Poosala, Yannis E. Ioannidis</td>\n",
              "      <td>VLDB</td>\n",
              "      <td>1996</td>\n",
              "    </tr>\n",
              "    <tr>\n",
              "      <th>2</th>\n",
              "      <td>conf/vldb/PalpanasSCP02</td>\n",
              "      <td>Incremental Maintenance for Non-Distributive A...</td>\n",
              "      <td>Themistoklis Palpanas, Richard Sidle, Hamid Pi...</td>\n",
              "      <td>VLDB</td>\n",
              "      <td>2002</td>\n",
              "    </tr>\n",
              "    <tr>\n",
              "      <th>3</th>\n",
              "      <td>conf/vldb/GardarinGT96</td>\n",
              "      <td>Cost-based Selection of Path Expression Proces...</td>\n",
              "      <td>Zhao-Hui Tang, Georges Gardarin, Jean-Robert G...</td>\n",
              "      <td>VLDB</td>\n",
              "      <td>1996</td>\n",
              "    </tr>\n",
              "    <tr>\n",
              "      <th>4</th>\n",
              "      <td>conf/vldb/HoelS95</td>\n",
              "      <td>Benchmarking Spatial Join Operations with Spat...</td>\n",
              "      <td>Erik G. Hoel, Hanan Samet</td>\n",
              "      <td>VLDB</td>\n",
              "      <td>1995</td>\n",
              "    </tr>\n",
              "    <tr>\n",
              "      <th>...</th>\n",
              "      <td>...</td>\n",
              "      <td>...</td>\n",
              "      <td>...</td>\n",
              "      <td>...</td>\n",
              "      <td>...</td>\n",
              "    </tr>\n",
              "    <tr>\n",
              "      <th>2611</th>\n",
              "      <td>journals/tods/KarpSP03</td>\n",
              "      <td>A simple algorithm for finding frequent elemen...</td>\n",
              "      <td>Scott Shenker, Christos H. Papadimitriou, Rich...</td>\n",
              "      <td>ACM Trans. Database Syst.</td>\n",
              "      <td>2003</td>\n",
              "    </tr>\n",
              "    <tr>\n",
              "      <th>2612</th>\n",
              "      <td>conf/vldb/LimWV03</td>\n",
              "      <td>SASH: A Self-Adaptive Histogram Set for Dynami...</td>\n",
              "      <td>Lipyeow Lim, Min Wang, Jeffrey Scott Vitter</td>\n",
              "      <td>VLDB</td>\n",
              "      <td>2003</td>\n",
              "    </tr>\n",
              "    <tr>\n",
              "      <th>2613</th>\n",
              "      <td>journals/tods/ChakrabartiKMP02</td>\n",
              "      <td>Locally adaptive dimensionality reduction for ...</td>\n",
              "      <td>Kaushik Chakrabarti, Eamonn J. Keogh, Michael ...</td>\n",
              "      <td>ACM Trans. Database Syst.</td>\n",
              "      <td>2002</td>\n",
              "    </tr>\n",
              "    <tr>\n",
              "      <th>2614</th>\n",
              "      <td>journals/sigmod/Snodgrass01</td>\n",
              "      <td>Chair's Message</td>\n",
              "      <td>Richard T. Snodgrass</td>\n",
              "      <td>SIGMOD Record</td>\n",
              "      <td>2001</td>\n",
              "    </tr>\n",
              "    <tr>\n",
              "      <th>2615</th>\n",
              "      <td>conf/vldb/LiM01</td>\n",
              "      <td>Indexing and Querying XML Data for Regular Pat...</td>\n",
              "      <td>Bongki Moon, Quanzhong Li</td>\n",
              "      <td>VLDB</td>\n",
              "      <td>2001</td>\n",
              "    </tr>\n",
              "  </tbody>\n",
              "</table>\n",
              "<p>2616 rows × 5 columns</p>\n",
              "</div>"
            ],
            "text/plain": [
              "                                  id  ...  year\n",
              "0           journals/sigmod/Mackay99  ...  1999\n",
              "1               conf/vldb/PoosalaI96  ...  1996\n",
              "2            conf/vldb/PalpanasSCP02  ...  2002\n",
              "3             conf/vldb/GardarinGT96  ...  1996\n",
              "4                  conf/vldb/HoelS95  ...  1995\n",
              "...                              ...  ...   ...\n",
              "2611          journals/tods/KarpSP03  ...  2003\n",
              "2612               conf/vldb/LimWV03  ...  2003\n",
              "2613  journals/tods/ChakrabartiKMP02  ...  2002\n",
              "2614     journals/sigmod/Snodgrass01  ...  2001\n",
              "2615                 conf/vldb/LiM01  ...  2001\n",
              "\n",
              "[2616 rows x 5 columns]"
            ]
          },
          "metadata": {
            "tags": []
          },
          "execution_count": 18
        }
      ]
    },
    {
      "cell_type": "code",
      "metadata": {
        "colab": {
          "base_uri": "https://localhost:8080/",
          "height": 0
        },
        "id": "lHwpS4o9eyzb",
        "outputId": "a5dc2654-2191-4f30-e987-50b347a24b0e"
      },
      "source": [
        "perfect_mapping"
      ],
      "execution_count": 19,
      "outputs": [
        {
          "output_type": "execute_result",
          "data": {
            "text/html": [
              "<div>\n",
              "<style scoped>\n",
              "    .dataframe tbody tr th:only-of-type {\n",
              "        vertical-align: middle;\n",
              "    }\n",
              "\n",
              "    .dataframe tbody tr th {\n",
              "        vertical-align: top;\n",
              "    }\n",
              "\n",
              "    .dataframe thead th {\n",
              "        text-align: right;\n",
              "    }\n",
              "</style>\n",
              "<table border=\"1\" class=\"dataframe\">\n",
              "  <thead>\n",
              "    <tr style=\"text-align: right;\">\n",
              "      <th></th>\n",
              "      <th>idDBLP</th>\n",
              "      <th>idACM</th>\n",
              "    </tr>\n",
              "  </thead>\n",
              "  <tbody>\n",
              "    <tr>\n",
              "      <th>0</th>\n",
              "      <td>conf/sigmod/SlivinskasJS01</td>\n",
              "      <td>375678</td>\n",
              "    </tr>\n",
              "    <tr>\n",
              "      <th>1</th>\n",
              "      <td>conf/sigmod/ChaudhuriDN01</td>\n",
              "      <td>375694</td>\n",
              "    </tr>\n",
              "    <tr>\n",
              "      <th>2</th>\n",
              "      <td>conf/sigmod/RinfretOO01</td>\n",
              "      <td>375669</td>\n",
              "    </tr>\n",
              "    <tr>\n",
              "      <th>3</th>\n",
              "      <td>conf/sigmod/BreunigKKS01</td>\n",
              "      <td>375672</td>\n",
              "    </tr>\n",
              "    <tr>\n",
              "      <th>4</th>\n",
              "      <td>conf/sigmod/JagadishJOT01</td>\n",
              "      <td>375687</td>\n",
              "    </tr>\n",
              "    <tr>\n",
              "      <th>...</th>\n",
              "      <td>...</td>\n",
              "      <td>...</td>\n",
              "    </tr>\n",
              "    <tr>\n",
              "      <th>2219</th>\n",
              "      <td>journals/sigmod/Scholl01</td>\n",
              "      <td>604275</td>\n",
              "    </tr>\n",
              "    <tr>\n",
              "      <th>2220</th>\n",
              "      <td>journals/sigmod/Rosneblatt94</td>\n",
              "      <td>190649</td>\n",
              "    </tr>\n",
              "    <tr>\n",
              "      <th>2221</th>\n",
              "      <td>journals/sigmod/Winslett02b</td>\n",
              "      <td>601871</td>\n",
              "    </tr>\n",
              "    <tr>\n",
              "      <th>2222</th>\n",
              "      <td>journals/sigmod/Labrinidis01</td>\n",
              "      <td>604283</td>\n",
              "    </tr>\n",
              "    <tr>\n",
              "      <th>2223</th>\n",
              "      <td>journals/sigmod/Winslett03</td>\n",
              "      <td>640999</td>\n",
              "    </tr>\n",
              "  </tbody>\n",
              "</table>\n",
              "<p>2224 rows × 2 columns</p>\n",
              "</div>"
            ],
            "text/plain": [
              "                            idDBLP   idACM\n",
              "0       conf/sigmod/SlivinskasJS01  375678\n",
              "1        conf/sigmod/ChaudhuriDN01  375694\n",
              "2          conf/sigmod/RinfretOO01  375669\n",
              "3         conf/sigmod/BreunigKKS01  375672\n",
              "4        conf/sigmod/JagadishJOT01  375687\n",
              "...                            ...     ...\n",
              "2219      journals/sigmod/Scholl01  604275\n",
              "2220  journals/sigmod/Rosneblatt94  190649\n",
              "2221   journals/sigmod/Winslett02b  601871\n",
              "2222  journals/sigmod/Labrinidis01  604283\n",
              "2223    journals/sigmod/Winslett03  640999\n",
              "\n",
              "[2224 rows x 2 columns]"
            ]
          },
          "metadata": {
            "tags": []
          },
          "execution_count": 19
        }
      ]
    },
    {
      "cell_type": "code",
      "metadata": {
        "colab": {
          "base_uri": "https://localhost:8080/",
          "height": 0
        },
        "id": "d-zUpbA3nu_Y",
        "outputId": "cd16c38e-1990-4e9b-eb05-f1adc4cdee50"
      },
      "source": [
        "acm.loc[acm['id'] == 375678]"
      ],
      "execution_count": 20,
      "outputs": [
        {
          "output_type": "execute_result",
          "data": {
            "text/html": [
              "<div>\n",
              "<style scoped>\n",
              "    .dataframe tbody tr th:only-of-type {\n",
              "        vertical-align: middle;\n",
              "    }\n",
              "\n",
              "    .dataframe tbody tr th {\n",
              "        vertical-align: top;\n",
              "    }\n",
              "\n",
              "    .dataframe thead th {\n",
              "        text-align: right;\n",
              "    }\n",
              "</style>\n",
              "<table border=\"1\" class=\"dataframe\">\n",
              "  <thead>\n",
              "    <tr style=\"text-align: right;\">\n",
              "      <th></th>\n",
              "      <th>id</th>\n",
              "      <th>title</th>\n",
              "      <th>authors</th>\n",
              "      <th>venue</th>\n",
              "      <th>year</th>\n",
              "    </tr>\n",
              "  </thead>\n",
              "  <tbody>\n",
              "    <tr>\n",
              "      <th>301</th>\n",
              "      <td>375678</td>\n",
              "      <td>Adaptable query optimization and evaluation in...</td>\n",
              "      <td>Giedrius Slivinskas, Christian S. Jensen, Rich...</td>\n",
              "      <td>International Conference on Management of Data</td>\n",
              "      <td>2001</td>\n",
              "    </tr>\n",
              "  </tbody>\n",
              "</table>\n",
              "</div>"
            ],
            "text/plain": [
              "         id  ...  year\n",
              "301  375678  ...  2001\n",
              "\n",
              "[1 rows x 5 columns]"
            ]
          },
          "metadata": {
            "tags": []
          },
          "execution_count": 20
        }
      ]
    },
    {
      "cell_type": "code",
      "metadata": {
        "colab": {
          "base_uri": "https://localhost:8080/",
          "height": 0
        },
        "id": "kQJ2QwsUoW0M",
        "outputId": "92b392a6-0f9d-47d9-f796-227cde4dacfc"
      },
      "source": [
        "dblp.loc[dblp['id'] == 'conf/sigmod/SlivinskasJS01']"
      ],
      "execution_count": 21,
      "outputs": [
        {
          "output_type": "execute_result",
          "data": {
            "text/html": [
              "<div>\n",
              "<style scoped>\n",
              "    .dataframe tbody tr th:only-of-type {\n",
              "        vertical-align: middle;\n",
              "    }\n",
              "\n",
              "    .dataframe tbody tr th {\n",
              "        vertical-align: top;\n",
              "    }\n",
              "\n",
              "    .dataframe thead th {\n",
              "        text-align: right;\n",
              "    }\n",
              "</style>\n",
              "<table border=\"1\" class=\"dataframe\">\n",
              "  <thead>\n",
              "    <tr style=\"text-align: right;\">\n",
              "      <th></th>\n",
              "      <th>id</th>\n",
              "      <th>title</th>\n",
              "      <th>authors</th>\n",
              "      <th>venue</th>\n",
              "      <th>year</th>\n",
              "    </tr>\n",
              "  </thead>\n",
              "  <tbody>\n",
              "    <tr>\n",
              "      <th>143</th>\n",
              "      <td>conf/sigmod/SlivinskasJS01</td>\n",
              "      <td>Adaptable Query Optimization and Evaluation in...</td>\n",
              "      <td>Christian S. Jensen, Richard T. Snodgrass, Gie...</td>\n",
              "      <td>SIGMOD Conference</td>\n",
              "      <td>2001</td>\n",
              "    </tr>\n",
              "  </tbody>\n",
              "</table>\n",
              "</div>"
            ],
            "text/plain": [
              "                             id  ...  year\n",
              "143  conf/sigmod/SlivinskasJS01  ...  2001\n",
              "\n",
              "[1 rows x 5 columns]"
            ]
          },
          "metadata": {
            "tags": []
          },
          "execution_count": 21
        }
      ]
    },
    {
      "cell_type": "markdown",
      "metadata": {
        "id": "lbmGTjAYooPj"
      },
      "source": [
        "### Preprocess"
      ]
    },
    {
      "cell_type": "code",
      "metadata": {
        "id": "DSlSgUnzotzr"
      },
      "source": [
        "def preprocess(row):\n",
        "  # print(row)\n",
        "  paper_str = \" \".join(row)\n",
        "  paper_str = paper_str.lower()\n",
        "\n",
        "  return paper_str"
      ],
      "execution_count": 22,
      "outputs": []
    },
    {
      "cell_type": "markdown",
      "metadata": {
        "id": "TxkwARdHoqjW"
      },
      "source": [
        "### Dataset split"
      ]
    },
    {
      "cell_type": "code",
      "metadata": {
        "id": "WW1yUidQouhO"
      },
      "source": [
        ""
      ],
      "execution_count": 22,
      "outputs": []
    },
    {
      "cell_type": "markdown",
      "metadata": {
        "id": "5eFeVubCozTo"
      },
      "source": [
        "### Model evaluation"
      ]
    },
    {
      "cell_type": "markdown",
      "metadata": {
        "id": "Flyy1W9DxjBM"
      },
      "source": [
        "Small dataset"
      ]
    },
    {
      "cell_type": "code",
      "metadata": {
        "colab": {
          "base_uri": "https://localhost:8080/"
        },
        "id": "_pufIFSIxhx2",
        "outputId": "d269afb6-f70f-46cf-849d-ddf6858cf112"
      },
      "source": [
        "text = []\n",
        "id = []\n",
        "sameas = []\n",
        "true_labels = []\n",
        "data = {'id':[],'text':[],'sameas':[]}\n",
        "index = 0\n",
        "\n",
        "for _,row in perfect_mapping.head(10).iterrows():\n",
        "\n",
        "  # DBLP\n",
        "  dplp_row = dblp.loc[dblp.id == row['idDBLP'],['title','authors','venue','year']].values.flatten().tolist()\n",
        "  id.append(row['idDBLP'])\n",
        "  sameas.append(row['idACM'])\n",
        "  dplp_row = preprocess(dplp_row)\n",
        "  text.append(dplp_row)\n",
        "\n",
        "  # ACM\n",
        "  acm_row = acm.loc[acm.id == row['idACM'],['title','authors','venue','year']].values.flatten().tolist()\n",
        "  acm_row = preprocess(acm_row)\n",
        "  text.append(acm_row)\n",
        "  id.append(row['idACM'])\n",
        "  sameas.append(row['idDBLP'])\n",
        "\n",
        "data['id'] = id\n",
        "data['text'] = text\n",
        "data['sameas'] = sameas\n",
        "\n",
        "dataset=pd.DataFrame(data)\n",
        "print(dataset)"
      ],
      "execution_count": 23,
      "outputs": [
        {
          "output_type": "stream",
          "text": [
            "                              id  ...                        sameas\n",
            "0     conf/sigmod/SlivinskasJS01  ...                        375678\n",
            "1                         375678  ...    conf/sigmod/SlivinskasJS01\n",
            "2      conf/sigmod/ChaudhuriDN01  ...                        375694\n",
            "3                         375694  ...     conf/sigmod/ChaudhuriDN01\n",
            "4        conf/sigmod/RinfretOO01  ...                        375669\n",
            "5                         375669  ...       conf/sigmod/RinfretOO01\n",
            "6       conf/sigmod/BreunigKKS01  ...                        375672\n",
            "7                         375672  ...      conf/sigmod/BreunigKKS01\n",
            "8      conf/sigmod/JagadishJOT01  ...                        375687\n",
            "9                         375687  ...     conf/sigmod/JagadishJOT01\n",
            "10        conf/sigmod/NazeriBO01  ...                        375743\n",
            "11                        375743  ...        conf/sigmod/NazeriBO01\n",
            "12        conf/sigmod/ChenZCKR01  ...                        375789\n",
            "13                        375789  ...        conf/sigmod/ChenZCKR01\n",
            "14         conf/sigmod/BohmBKK01  ...                        375714\n",
            "15                        375714  ...         conf/sigmod/BohmBKK01\n",
            "16       conf/sigmod/DattaDRTV01  ...                        375780\n",
            "17                        375780  ...       conf/sigmod/DattaDRTV01\n",
            "18  conf/sigmod/HernandezMHYHT01  ...                        375767\n",
            "19                        375767  ...  conf/sigmod/HernandezMHYHT01\n",
            "\n",
            "[20 rows x 3 columns]\n"
          ],
          "name": "stdout"
        }
      ]
    },
    {
      "cell_type": "code",
      "metadata": {
        "colab": {
          "base_uri": "https://localhost:8080/"
        },
        "id": "sw0BoCKOddyQ",
        "outputId": "5b1424b1-64c2-4332-9ec1-858bba0fde9e"
      },
      "source": [
        "model = RankedWTAHash(\n",
        "    max_numberOf_clusters = 10,\n",
        "    max_editDistance = 140,\n",
        "    windowSize=5,\n",
        "    similarityThreshold = 0.8,\n",
        "    maxOnly=True,\n",
        "    metric='customkendal'\n",
        "    )\n",
        "EditDistance = model.EditDistance\n",
        "model.fit(dataset['text'],None)"
      ],
      "execution_count": 24,
      "outputs": [
        {
          "output_type": "stream",
          "text": [
            "['adaptable query optimization and evaluation in temporal middleware christian s. jensen, richard t. snodgrass, giedrius slivinskas sigmod conference 2001', 'adaptable query optimization and evaluation in temporal middleware giedrius slivinskas, christian s. jensen, richard thomas snodgrass international conference on management of data 2001', 'a robust, optimization-based approach for approximate answering of aggregate queries vivek r. narasayya, gautam das, surajit chaudhuri sigmod conference 2001', 'a robust, optimization-based approach for approximate answering of aggregate queries surajit chaudhuri, gautam das, vivek narasayya international conference on management of data 2001', \"bit-sliced index arithmetic elizabeth j. o'neil, denis rinfret, patrick e. o'neil sigmod conference 2001\", \"bit-sliced index arithmetic denis rinfret, patrick o'neil, elizabeth o'neil international conference on management of data 2001\", 'data bubbles: quality preserving performance boosting for hierarchical clustering jörg sander, hans-peter kriegel, peer kröger, markus m. breunig sigmod conference 2001', 'data bubbles: quality preserving performance boosting for hierarchical clustering markus m. breunig, hans-peter kriegel, peer kr&#246;ger, j&#246;rg sander international conference on management of data 2001', 'global optimization of histograms h. v. jagadish, kian-lee tan, hui jin, beng chin ooi sigmod conference 2001', 'global optimization of histograms h. v. jagadish, hui jin, beng chin ooi, kian-lee tan international conference on management of data 2001', 'experiences in mining aviation safety data zohreh nazeri, paul ostwald, eric bloedorn sigmod conference 2001', 'experiences in mining aviation safety data zohreh nazeri, eric bloedorn, paul ostwald international conference on management of data 2001', 'dyda: data warehouse maintenance in fully concurrent environments songting chen, andreas koeller, elke a. rundensteiner, xin zhang, jun chen sigmod conference 2001', 'dyda: data warehouse maintenance in fully concurrent environments jun chen, xin zhang, songting chen, andreas koeller, elke a. rundensteiner international conference on management of data 2001', 'epsilon grid order: an algorithm for the similarity join on massive high-dimensional data florian krebs, christian böhm, bernhard braunmüller, hans-peter kriegel sigmod conference 2001', 'epsilon grid order: an algorithm for the similarity join on massive high-dimensional data christian b&#246;hm, bernhard braunm&#252;ller, florian krebs, hans-peter kriegel international conference on management of data 2001', 'dynamic content acceleration: a caching solution to enable scalable dynamic web page generation debra e. vandermeer, krithi ramamritham, helen m. thomas, anindya datta, kaushik dutta sigmod conference 2001', 'dynamic content acceleration: a caching solution to enable scalable dynamic web page generation anindya datta, kaushik dutta, krithi ramamritham, helen thomas, debra vandermeer international conference on management of data 2001', 'clio: a semi-automatic tool for schema mapping laura m. haas, renée j. miller, mauricio a. hernández sigmod conference 2001', 'clio: a semi-automatic tool for schema mapping mauricio a. hern&#225;ndez, ren&#233;e j. miller, laura m. haas international conference on management of data 2001']\n",
            "\n",
            "-----------------\n",
            "String positions are:\n",
            "[ 0  1  2  3  4  5  6  7  8  9 10 11 12 13 14 15 16 17 18 19]\n",
            "-----------------\n",
            "\n",
            "\n",
            "-----------------\n",
            " NumofPrototypes: 10 || Prototypes are: \n",
            "[ 0  2  4  6  8 10 12 14 16 18]\n",
            "-----------------\n",
            "\n",
            "-----------------\n",
            "Embeddings:\n",
            "[[ 1  5  4  6  2  3  7  8  9  4]\n",
            " [ 1  4  6  9  2  3  7  8 10  5]\n",
            " [ 4  1  6  7  2  5  7  8  9  3]\n",
            " [ 4  1  5  7  2  6  8  9 10  3]\n",
            " [ 5  6  1  7  3  2  8  9 10  4]\n",
            " [ 5  7  1  8  4  2  6  9 10  3]\n",
            " [ 3  7  4  1  6  5  8  9 10  2]\n",
            " [ 3  6  6  1  7  5  4  8  9  2]\n",
            " [ 5  6  3  8  1  2  7  9 10  4]\n",
            " [ 5  6  2  8  1  3  7  9 10  4]\n",
            " [ 5  6  2  8  3  1  7  9 10  4]\n",
            " [ 5  6  2  7  3  1  6  8  9  4]\n",
            " [ 6  7  5  8  4  3  1  9 10  2]\n",
            " [ 5  7  3  6  5  4  1  8  9  2]\n",
            " [ 4  9  2  7  5  6  8  1 10  3]\n",
            " [ 2  8  5  3  7  7  6  1  9  4]\n",
            " [ 2  3  7  7  5  5  4  6  1  4]\n",
            " [ 2  6  9  8  7  6  5  3  1  4]\n",
            " [ 5  6  2  7  4  3  8  9 10  1]\n",
            " [ 7  5  3  8  2  4  6  9 10  1]]\n",
            "-----------------\n",
            "\n",
            "\n",
            "-----------------\n",
            "WTA Buckets:\n",
            "[2 2 2 2 2 2 2 2 2 2 2 2 2 2 2 2 1 1 2 2]\n",
            "-----------------\n",
            "\n",
            "\n",
            "-----------------\n",
            "WTA RankedVectors after permutation:\n",
            "[[ 1  4  9  7  6]\n",
            " [ 1  6 10  7  9]\n",
            " [ 4  6  9  7  7]\n",
            " [ 4  5 10  8  7]\n",
            " [ 5  1 10  8  7]\n",
            " [ 5  1 10  6  8]\n",
            " [ 3  4 10  8  1]\n",
            " [ 3  6  9  4  1]\n",
            " [ 5  3 10  7  8]\n",
            " [ 5  2 10  7  8]\n",
            " [ 5  2 10  7  8]\n",
            " [ 5  2  9  6  7]\n",
            " [ 6  5 10  1  8]\n",
            " [ 5  3  9  1  6]\n",
            " [ 4  2 10  8  7]\n",
            " [ 2  5  9  6  3]\n",
            " [ 2  7  1  4  7]\n",
            " [ 2  9  1  5  8]\n",
            " [ 5  2 10  8  7]\n",
            " [ 7  3 10  6  8]]\n",
            "-----------------\n",
            "\n",
            "\n",
            "-----------------\n",
            "Similarity checking:\n",
            "{0: (7, 0.6), 1: (7, 0.6), 2: (7, 0.5), 3: (7, 0.6), 4: (7, 0.6), 5: (7, 0.6), 6: (7, 0.6), 7: (12, 0.5), 8: (12, 0.5), 9: (12, 0.5), 10: (12, 0.5), 11: (12, 0.5), 12: (13, 0.5), 13: (14, 0.4), 14: (15, 0.4), 15: (17, 0.4), 16: (17, 0.4), 17: (18, 0.4), 18: (19, 0.4)}\n",
            "-----------------\n",
            "\n"
          ],
          "name": "stdout"
        }
      ]
    },
    {
      "cell_type": "markdown",
      "metadata": {
        "id": "V5elbnuDY2nr"
      },
      "source": [
        "---\n",
        "\n",
        "# References\n",
        "\n",
        "[1]   [The dissimilarity representation for pattern recognition, a tutorial\n",
        "Robert P.W. Duin and Elzbieta Pekalska Delft University of Technology, The Netherlands School of Computer Science, University of Manchester, United Kingdom](http://homepage.tudelft.nl/a9p19/presentations/DisRep_Tutorial_doc.pdf)"
      ]
    }
  ]
}