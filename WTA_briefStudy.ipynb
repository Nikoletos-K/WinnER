{
 "cells": [
  {
   "cell_type": "markdown",
   "metadata": {},
   "source": [
    "<div align=\"center\">\n",
    " <img src=\"http://www.di.uoa.gr/themes/corporate_lite/logo_en.png\" title=\"Department of Informatics and Telecommunications - University of Athens\" align=\"center\" /> \n",
    "</div>\n",
    "\n",
    "<br>\n",
    "\n",
    "---\n",
    "\n",
    "<div align=\"center\"> \n",
    "  <font size=\"3\"><b>Machine Learning</b> </font>\n",
    "</div>\n",
    "\n",
    "<div align=\"center\"> \n",
    "  <font size=\"6\">\n",
    "      <b>Winner Takes All Hash</b><br>\n",
    "    </font>\n",
    "     <font size=\"4\">\n",
    "        A brief study on Winner Takes All Hash algorithm, inspired by Jay Yagnik. \n",
    "    </font><br><br>\n",
    "    <font size=\"3\">\n",
    "        Original paper: \n",
    "        <a href=\"http://www.cs.toronto.edu/~dross/YagnikStrelowRossLin_ICCV2011.pdf\">\n",
    "            The Power of Comparative Reasoning <br>Jay Yagnik, Dennis Strelow, David A. Ross, Ruei-sung Lin - 2011\n",
    "        </a>\n",
    "    </font>\n",
    "</div>\n",
    "\n",
    "---\n",
    "\n",
    "<div align=\"center\"> \n",
    "    <font size=\"4\">\n",
    "         <b>Konstantinos Nikoletos, BS Student</b>\n",
    "     </font>\n",
    "</div>\n",
    "<div align=\"center\"> \n",
    "    <font size=\"2\">Athens 2021</font>\n",
    "</div>\n",
    "\n",
    "\n",
    "---"
   ]
  },
  {
   "cell_type": "markdown",
   "metadata": {},
   "source": [
    "# Basic idea"
   ]
  },
  {
   "cell_type": "markdown",
   "metadata": {},
   "source": [
    "## Algorithms main functionality\n",
    "\n",
    "Takes as input a set of vectors, and for each vector:\n",
    "- Permutes with a random pemutation\n",
    "- Takes the first K components from the permuted vector\n",
    "- Finds and outputs the index of the maximum value of that components\n",
    "- Repeats for every vector in the set\n",
    "\n"
   ]
  },
  {
   "cell_type": "markdown",
   "metadata": {},
   "source": [
    "### A simple pairwise-order measure\n",
    "\n",
    "The algorithms main point is to make a feature space transformation that benefits the most from the ordering of the vectors. In effect the similarity between two points is defined by the degree to which their feature dimension rankings agree. As an example, Yagnik's proposal is a measure like the above:\n",
    "\n",
    "__Equation 1__:\n",
    "$$\n",
    "    PO(X,Y) = \\sum_{i} \\sum_{j<i}  T((x_i − x_j ) (y_i − y_j)) \n",
    "$$\n",
    "\n",
    "where:\n",
    "- $x_i$ and $y_i$ are the i-th feature dimensions in\n",
    "- $X,Y$: ranked ordered vectors\n",
    "- $T$ is simply a threshold function\n",
    "\n",
    "Equation 1 simply measures the number of pairs of feature dimensions in X and Y that agree in ordering.\n",
    "\n"
   ]
  },
  {
   "cell_type": "markdown",
   "metadata": {},
   "source": [
    "The above PO function and the Threshold: "
   ]
  },
  {
   "cell_type": "code",
   "execution_count": 37,
   "metadata": {},
   "outputs": [],
   "source": [
    "def WTA_similarity(vector1,vector2):\n",
    "    \n",
    "    PO=0\n",
    "    for i in range(0,len(vector1),1):\n",
    "        for j in range(0,i,1):\n",
    "            ij_1 = vector1[i] - vector1[j]\n",
    "            ij_2 = vector2[i] - vector2[j]\n",
    "            PO += WTA_Threshold(ij_1*ij_2)\n",
    "            \n",
    "    return PO\n",
    "\n",
    "def WTA_Threshold(x):    \n",
    "    if x>0:\n",
    "        return 1\n",
    "    else:\n",
    "        return 0"
   ]
  },
  {
   "cell_type": "markdown",
   "metadata": {},
   "source": [
    "# __Implementation code in Python__"
   ]
  },
  {
   "cell_type": "markdown",
   "metadata": {},
   "source": [
    "__Import of libraries__"
   ]
  },
  {
   "cell_type": "code",
   "execution_count": 2,
   "metadata": {},
   "outputs": [],
   "source": [
    "import numpy as np"
   ]
  },
  {
   "cell_type": "markdown",
   "metadata": {},
   "source": [
    "__Main code__"
   ]
  },
  {
   "cell_type": "code",
   "execution_count": 51,
   "metadata": {},
   "outputs": [],
   "source": [
    "def WTA(vectors, K, number_of_permutations):\n",
    "    '''\n",
    "      Winner Take All hash - Yagnik\n",
    "      .............................\n",
    "      \n",
    "      vectors: initial vectors\n",
    "      K: window size\n",
    "      number_of_permutations: number of times each vector will be permuted  \n",
    "    '''\n",
    "    \n",
    "    newVectors = []\n",
    "    buckets = dict()\n",
    "\n",
    "    numOfVectors = vectors.shape[0]\n",
    "    vectorDim    = vectors.shape[1]\n",
    "\n",
    "    if vectorDim < K:\n",
    "        K = vectorDim\n",
    "        warnings.warn(\"Window size greater than vector dimension\")\n",
    "\n",
    "    C = np.zeros([numOfVectors,number_of_permutations], dtype=int)\n",
    "\n",
    "    permutation_dimension = vectorDim\n",
    "    for permutation_index in range(0,number_of_permutations,1):\n",
    "        theta = np.random.permutation(permutation_dimension)\n",
    "        i=0;j=0;\n",
    "        for v_index in range(0,numOfVectors,1):\n",
    "            if permutation_index == 0:\n",
    "                X_new = permuted(vectors[v_index],theta)\n",
    "                newVectors.append(X_new)\n",
    "            else:\n",
    "                X_new = permuted(vectors[v_index],theta)\n",
    "                newVectors[v_index] = X_new\n",
    "\n",
    "            C[i][permutation_index] = max(range(len(X_new[:K])), key=X_new[:K].__getitem__)\n",
    "            i+=1\n",
    "        permutation_dimension = K\n",
    "\n",
    "    for c,i in zip(C,range(0,numOfVectors,1)):\n",
    "        buckets = bucketInsert(buckets,str(c),i)\n",
    "\n",
    "    return C,buckets,np.array(newVectors,dtype=np.intp)\n",
    "\n",
    "\n",
    "def permuted(vector,permutation):\n",
    "    permuted_vector = [vector[x] for x in permutation]\n",
    "\n",
    "    return permuted_vector\n",
    "\n",
    "\n",
    "def bucketInsert(buckets,bucket_id,item):\n",
    "    if bucket_id not in buckets.keys():\n",
    "        buckets[bucket_id] = []\n",
    "    buckets[bucket_id].append(item)\n",
    "\n",
    "    return buckets"
   ]
  },
  {
   "cell_type": "markdown",
   "metadata": {},
   "source": [
    "# Examples and Evaluation"
   ]
  },
  {
   "cell_type": "markdown",
   "metadata": {},
   "source": [
    "## 1st Example (same with paper)\n",
    "\n",
    "An example with 6-dimensional input vectors, \n",
    "- K = 4, and \n",
    "- θ = (1, 4, 2, 5, 0, 3). \n",
    "\n",
    "X in (a) and (b) are unrelated and result in different output codes, 1 and 2 respectively.\n",
    "X in (c) is a scaled and offset version of (a) and results in\n",
    "the same code as (a). X in (d) has each element perturbed\n",
    "by 1 which results in a different ranking of the elements,\n",
    "but the maximum of the first K elements is the same, again\n",
    "resulting in the same code.\n"
   ]
  },
  {
   "cell_type": "code",
   "execution_count": 4,
   "metadata": {},
   "outputs": [
    {
     "data": {
      "text/plain": [
       "array([[10,  5,  2,  6, 12,  3],\n",
       "       [ 4,  5, 10,  3,  2,  1],\n",
       "       [22, 12,  6, 14, 26,  8],\n",
       "       [11,  4,  3,  7, 13,  2]])"
      ]
     },
     "execution_count": 4,
     "metadata": {},
     "output_type": "execute_result"
    }
   ],
   "source": [
    "a = [10,5,2,6,12,3]\n",
    "b = [4,5,10,3,2,1]\n",
    "c = [22,12,6,14,26,8]\n",
    "d = [11,4,3,7,13,2]\n",
    "\n",
    "vectors = np.array([a,b,c,d])\n",
    "vectors"
   ]
  },
  {
   "cell_type": "code",
   "execution_count": 33,
   "metadata": {},
   "outputs": [],
   "source": [
    "K = 2\n",
    "number_of_permutations = 1\n",
    "\n",
    "\n",
    "C,buckets,newVectors = WTA(vectors, K, number_of_permutations)"
   ]
  },
  {
   "cell_type": "code",
   "execution_count": 34,
   "metadata": {},
   "outputs": [
    {
     "data": {
      "text/plain": [
       "array([[1],\n",
       "       [0],\n",
       "       [1],\n",
       "       [1]])"
      ]
     },
     "execution_count": 34,
     "metadata": {},
     "output_type": "execute_result"
    }
   ],
   "source": [
    "C"
   ]
  },
  {
   "cell_type": "code",
   "execution_count": 31,
   "metadata": {},
   "outputs": [
    {
     "data": {
      "text/plain": [
       "{'[1]': [0, 2, 3], '[2]': [1]}"
      ]
     },
     "execution_count": 31,
     "metadata": {},
     "output_type": "execute_result"
    }
   ],
   "source": [
    "buckets"
   ]
  },
  {
   "cell_type": "code",
   "execution_count": 35,
   "metadata": {},
   "outputs": [
    {
     "data": {
      "text/plain": [
       "array([[10, 12,  5,  2,  6,  3],\n",
       "       [ 4,  2,  5, 10,  3,  1],\n",
       "       [22, 26, 12,  6, 14,  8],\n",
       "       [11, 13,  4,  3,  7,  2]], dtype=int64)"
      ]
     },
     "execution_count": 35,
     "metadata": {},
     "output_type": "execute_result"
    }
   ],
   "source": [
    "newVectors"
   ]
  },
  {
   "cell_type": "markdown",
   "metadata": {},
   "source": [
    "### Pairwise agreement of a,b,c,d"
   ]
  },
  {
   "cell_type": "code",
   "execution_count": 49,
   "metadata": {},
   "outputs": [
    {
     "name": "stdout",
     "output_type": "stream",
     "text": [
      "WTA_similarity(a,b) =  5\n",
      "WTA_similarity(a,c) =  15\n",
      "WTA_similarity(a,d) =  14\n"
     ]
    }
   ],
   "source": [
    "print(\"WTA_similarity(a,b) = \",WTA_similarity(a,b))\n",
    "print(\"WTA_similarity(a,c) = \",WTA_similarity(a,c))\n",
    "print(\"WTA_similarity(a,d) = \",WTA_similarity(a,d))"
   ]
  },
  {
   "cell_type": "markdown",
   "metadata": {},
   "source": [
    "### Kendal Tau similarity"
   ]
  },
  {
   "cell_type": "code",
   "execution_count": 41,
   "metadata": {},
   "outputs": [],
   "source": [
    "from scipy.stats import kendalltau"
   ]
  },
  {
   "cell_type": "markdown",
   "metadata": {},
   "source": [
    "Similarity based on Kendal Tau for the initial vectors ($X$)"
   ]
  },
  {
   "cell_type": "code",
   "execution_count": 50,
   "metadata": {},
   "outputs": [
    {
     "name": "stdout",
     "output_type": "stream",
     "text": [
      "kendalltau(a,b) =  -0.3333333333333333\n",
      "kendalltau(a,c) =  0.9999999999999999\n",
      "kendalltau(a,d) =  0.8666666666666666\n"
     ]
    }
   ],
   "source": [
    "similarity_prob, p_value = kendalltau(a,b)\n",
    "print(\"kendalltau(a,b) = \", similarity_prob)\n",
    "similarity_prob, p_value = kendalltau(a,c)\n",
    "print(\"kendalltau(a,c) = \", similarity_prob)\n",
    "similarity_prob, p_value = kendalltau(a,d)\n",
    "print(\"kendalltau(a,d) = \", similarity_prob)"
   ]
  },
  {
   "cell_type": "markdown",
   "metadata": {},
   "source": [
    "Similarity based on Kendal Tau for the permuted vectors ($X'$)"
   ]
  },
  {
   "cell_type": "code",
   "execution_count": 48,
   "metadata": {},
   "outputs": [
    {
     "name": "stdout",
     "output_type": "stream",
     "text": [
      "a,b similarity:  -0.3333333333333333\n",
      "a,c similarity:  0.9999999999999999\n",
      "a,d similarity:  0.8666666666666666\n"
     ]
    }
   ],
   "source": [
    "similarity_prob, p_value = kendalltau(newVectors[0],newVectors[1])\n",
    "print(\"a,b similarity: \", similarity_prob)\n",
    "similarity_prob, p_value = kendalltau(newVectors[0],newVectors[2])\n",
    "print(\"a,c similarity: \", similarity_prob)\n",
    "similarity_prob, p_value = kendalltau(newVectors[0],newVectors[3])\n",
    "print(\"a,d similarity: \", similarity_prob)"
   ]
  },
  {
   "cell_type": "markdown",
   "metadata": {},
   "source": [
    "# References\n",
    "\n",
    "1.   [The dissimilarity representation for pattern recognition, a tutorial\n",
    "Robert P.W. Duin and Elzbieta Pekalska Delft University of Technology, The Netherlands School of Computer Science, University of Manchester, United Kingdom](http://homepage.tudelft.nl/a9p19/presentations/DisRep_Tutorial_doc.pdf)"
   ]
  }
 ],
 "metadata": {
  "kernelspec": {
   "display_name": "Python 3",
   "language": "python",
   "name": "python3"
  },
  "language_info": {
   "codemirror_mode": {
    "name": "ipython",
    "version": 3
   },
   "file_extension": ".py",
   "mimetype": "text/x-python",
   "name": "python",
   "nbconvert_exporter": "python",
   "pygments_lexer": "ipython3",
   "version": "3.7.6"
  },
  "toc-autonumbering": false,
  "toc-showcode": false,
  "toc-showmarkdowntxt": false,
  "toc-showtags": false
 },
 "nbformat": 4,
 "nbformat_minor": 4
}
