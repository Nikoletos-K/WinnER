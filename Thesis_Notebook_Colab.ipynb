{
  "nbformat": 4,
  "nbformat_minor": 0,
  "metadata": {
    "kernelspec": {
      "display_name": "Python 3",
      "language": "python",
      "name": "python3"
    },
    "language_info": {
      "codemirror_mode": {
        "name": "ipython",
        "version": 3
      },
      "file_extension": ".py",
      "mimetype": "text/x-python",
      "name": "python",
      "nbconvert_exporter": "python",
      "pygments_lexer": "ipython3",
      "version": "3.7.6"
    },
    "colab": {
      "name": "Thesis_Notebook_Colab.ipynb",
      "provenance": [],
      "collapsed_sections": []
    }
  },
  "cells": [
    {
      "cell_type": "markdown",
      "metadata": {
        "id": "D_846yHsY2nT"
      },
      "source": [
        "<p align=\"center\">\n",
        " <img src=\"http://www.di.uoa.gr/themes/corporate_lite/logo_en.png\" title=\"Department of Informatics and Telecommunications - University of Athens\"/> </p>\n",
        "\n",
        "<br>\n",
        "\n",
        "---\n",
        "\n",
        "<h3 align=\"center\" > \n",
        "  Bachelor Thesis\n",
        "</h3>\n",
        "\n",
        "<h1 align=\"center\" > \n",
        "  Entity Resolution in Dissimilarity Spaces\n",
        "</h1>\n",
        "\n",
        "---\n",
        "\n",
        "<h3 align=\"center\"> \n",
        " <b>Konstantinos Nikoletos</b>\n",
        "</h3>\n",
        "\n",
        "<h4 align=\"center\"> \n",
        " <b>Supervisor: Dr. Alex Delis</b>,  Professor NKUA\n",
        "</h4>\n",
        "<br>\n",
        "<h4 align=\"center\"> \n",
        "Athens\n",
        "</h4>\n",
        "<h4 align=\"center\"> \n",
        "January 2021 - Ongoing\n",
        "</h4>\n",
        "\n",
        "\n",
        "---"
      ]
    },
    {
      "cell_type": "markdown",
      "metadata": {
        "id": "tHhqH2vwY2nf"
      },
      "source": [
        "\n",
        "|  <font size=\"5\"> Contents</font> |\n",
        "| :--   |\n",
        "|**1. [Abstract](#Abstract)** |\n",
        "|**2. [Introduction](#Introduction)**  |\n",
        "&nbsp;&nbsp;&nbsp;**2.1. [   Entity resolution](#Entity-resolution)** |\n",
        "&nbsp;&nbsp;&nbsp;**2.2. [   Dissimilatiry space](#Dissimilatiry-Space)** |\n",
        "|**3. [ A dissimilarity-based space embedding methodology](#scrollTo=DcAYuFQjY2ni)** <br>\n",
        "&nbsp;&nbsp;&nbsp;**3.1 [String Clustering and Prototype Selection](#3.1-String-Clustering-and-Prototype-Selection)** <br>\n",
        "&nbsp;&nbsp;&nbsp;&nbsp;&nbsp;&nbsp;&nbsp;&nbsp;**3.1.1. [Edit distance metric](#Edit-distance-metric)** <br>\n",
        "&nbsp;&nbsp;&nbsp;&nbsp;&nbsp;&nbsp;&nbsp;&nbsp;**3.1.2. [String clustering algorithm](#String-clustering-algorithm)** <br>\n",
        "&nbsp;&nbsp;&nbsp;&nbsp;&nbsp;&nbsp;&nbsp;&nbsp;**3.1.3. [Algorithm complexity](#Algorithm-complexity)** <br>\n",
        "&nbsp;&nbsp;&nbsp;&nbsp;&nbsp;&nbsp;&nbsp;&nbsp;**3.1.4. [Prototype selection](#Prototype-selection)** <br>\n",
        "&nbsp;&nbsp;&nbsp;&nbsp;&nbsp;&nbsp;&nbsp;&nbsp;**3.1.5. [Algorithm-1: The String Clustering and Prototype Selection Algorithm](#Algorithm-1:-The-String-Clustering-and-Prototype-Selection-Algorithm)** <br>\n",
        "&nbsp;&nbsp;&nbsp;**3.2 [The Vantage Space Embedding and the Chorus of Prototypes Transform Similarity Coefficient](#3.2-The-Vantage-Space-Embedding-and-the-Chorus-of-Prototypes-Transform-Similarity-Coefficient)&nbsp; &nbsp;&nbsp; &nbsp;&nbsp; &nbsp;&nbsp; &nbsp;&nbsp; &nbsp;&nbsp; &nbsp;&nbsp; &nbsp;&nbsp; &nbsp;&nbsp; &nbsp;&nbsp; &nbsp;&nbsp; &nbsp;&nbsp; &nbsp;&nbsp; &nbsp;&nbsp; &nbsp;&nbsp; &nbsp;&nbsp; &nbsp;&nbsp; &nbsp;&nbsp; &nbsp;&nbsp; &nbsp;&nbsp; &nbsp;&nbsp; &nbsp;&nbsp; &nbsp;&nbsp; &nbsp;&nbsp; &nbsp;&nbsp; &nbsp;&nbsp; &nbsp;&nbsp; &nbsp;&nbsp; &nbsp; &nbsp; &nbsp;&nbsp; &nbsp; &nbsp; &nbsp;&nbsp; &nbsp;&nbsp; &nbsp;&nbsp; &nbsp;&nbsp; &nbsp;&nbsp; &nbsp; &nbsp; &nbsp;&nbsp; &nbsp;&nbsp; &nbsp;**  <br>\n",
        "&nbsp;&nbsp;&nbsp;**3.3 [A Top-k List Approach for Similarity Searching in the Vantage Space](#3.3-A-Top-k-List-Approach-for-Similarity-Searching-in-the-Vantage-Space)**  |\n",
        "&nbsp;&nbsp;&nbsp;&nbsp;&nbsp;&nbsp;&nbsp;&nbsp;**3.3.1. [Abstract Algebra definitions](#Abstract-Algebra-definitions)** <br>\n",
        "&nbsp;&nbsp;&nbsp;&nbsp;&nbsp;&nbsp;&nbsp;&nbsp;**3.3.2. [Hausdorff metric](#Hausdorff-metric)** <br>\n",
        "&nbsp;&nbsp;&nbsp;**3.4 [Hashing of Partially Ranked Data for Efficient Similarity Search](#3.4-Hashing-of-Partially-Ranked-Data-for-Efficient-Similarity-Search)** |\n",
        "|**4. [ Evaluation](#Evaluation)** |\n",
        "|**5. [References](#References)**  |\n",
        "\n"
      ]
    },
    {
      "cell_type": "markdown",
      "metadata": {
        "id": "kydWmVcTY2ng"
      },
      "source": [
        "# Abstract\n",
        "\n",
        "---\n",
        "\n",
        "In this notebook it will be presented a dissimilarity-based entity resolution\n",
        "framework that introduces a new efficient object representation\n",
        "scheme. This framework consists of four parts. First part is the string clustering and prototype selection, in which clusters will be made that afterwords will be used for the string embedding. The second part in this methology is the string embedding into an N-dimensional Vantage space which has been generated by the prototype selection. Next, in the third part, it will be presented a distance measure that relies on Kendall tau\n",
        "correlation coefficient and generalizes the similarity measures and\n",
        "distances presented so far. Finally, in the fourth part, a sparse embedding scheme on this metric is added in order to minimize the computational cost of this methodology. \n",
        "\n",
        "This system will be evaluated in three databases. Its performance will be compared with some other famous Entity reslution systems in metrics Recall and Precision and also in computational time. \n",
        "\n",
        "\n"
      ]
    },
    {
      "cell_type": "markdown",
      "metadata": {
        "id": "kK6B9dSQY2nh"
      },
      "source": [
        "# Introduction\n",
        "\n",
        "---\n",
        "\n",
        "\n",
        " ### Entity resolution\n",
        " \n",
        "__Entity resolution (ER)__ or Deduplication are among the research themes that have recently received escalated interest. ER is the process of creating systematic linkage between disparate data records that represent the same thing in reality, in the absence of a join key. For example, as a previous project that I made, say you have a dataset of camera records from multiple websites (Amazon, AliBaba, etc) and you want to find which of these records refer to the same real object. Records may have slightly different names, somewhat different descriptions, maybe similar prices, and totally different unique identifiers. This may heard no big deal, but taking into serious the volume of some datasets and databases, gets you to understand how challenging, in prospects of  accuracy and computability this is. ER applications are now used for multiple reasons, not only for avoiding duplicates in databases, but also for reasons like finding \"similar\" accounts in social media or email, that are connected to  criminal actions.     \n",
        "\n",
        "The goal of this project, is to make an Entity resolution system that performs both well in Precision, Recall and execution time.  In this work we embrace an embedding approach by selecting a number of pivot objects to act as prototypes for transforming a dissimilarity space of proximities into a reduced set of distances of objects from these prototypes. It is now important to make clear what a dissimilarity space is. This definition comes from the fields of Statistis and theoritical Machine Learning. \n",
        "\n",
        "### Dissimilatiry Space\n",
        "\n",
        "Dissimilarities [[1]]() have been used in pattern recognition for a long time. In the first approach the dissimilarity matrix is considered as a set of row vectors, one for every object.  They represent the objects in a vector space constructed by the dissimilarities to the other objects.  Usually, this vector space is treated as a Euclidean space and equipped with the standard inner product definition. Let $ \\textit{X} = \\{ x_1, . . . , x_n \\} $ be a training set. Given a dissimilarity function and/or dissimilarity data, we define a data-dependent mapping $ D(·, R) : X → R $ from  $ X $ to the so-called __dissimilarity space (DS)__ . The $k-element$ set $R$ consists of\n",
        "objects that are representative for the problem. This set is called the representation or __prototype set__ and it may be a subset of X . In the dissimilarity space each dimension $ D(·, p_i) $ describes a dissimilarity to a prototype $ p_i $ from R. In this paper, we initially choose $ R := X $ . As a result, every object is described by an n-dimensional dissimilarity vector $ D(x, X ) = [d(x, x_1) . . . d(x, x_n)]^T $. The resulting vector space is endowed with the traditional inner product and the Euclidean metric.\n",
        "Any dissimilarity measure ρ can be defined in the DS. \n",
        "\n",
        "\n",
        "\n",
        "\n",
        "___This project consists of four main sections:___\n",
        "\n",
        "1. Object partitioning and embedding. More specifically the embedding technique that is mainly used is called __Vantage Embedding__  and the __Chorus of Prototypes scheme__ .\n",
        "2. Machine Learning techniques that build __nearest neighbors classification__ models on the selection of prototypes\n",
        "3. Various correlation coefficient and distance metrics that are applied on ranked data as well as a generalization of the well known __Hausdorff distance metric for partially ranked data__.\n",
        "4. __Locality Sensitive Hashing (LSH)__ techniques specifically tuned for handling ranking data to render the similarity search process very efficient.\n",
        "\n",
        "\n",
        "\n"
      ]
    },
    {
      "cell_type": "markdown",
      "metadata": {
        "id": "DcAYuFQjY2ni"
      },
      "source": [
        "# 3. A dissimilarity-based space embedding methodology\n",
        "---\n",
        "\n",
        "Central theme in this methodology is the transformation of the input data in a representation form that can easily and accurately circumvent the inherent lack of features of objects and handle a variety of different data types in a unified way. \n",
        "\n",
        "\n",
        "The first step is to read and process the input data (strings in this particular work). Section 3.1 consists of the idea and the algorithm of string clustering in order to create the embeddings. But, firstly, it is highly important to define what's the Vantage Space and the Chorus of Prototypes scheme. These approaches are used in order to to efficiently and effectively capture the similarity of high dimensional data. \n",
        "\n",
        "\n",
        "After a brief definition of the above embedding techniques, we need to create a set of string prototypes and according to these prototypes, create the embeddings into an N-dimensional space. \n"
      ]
    },
    {
      "cell_type": "markdown",
      "metadata": {
        "id": "7F2oDsUoY2ni"
      },
      "source": [
        "## 3.1 String Clustering and Prototype Selection\n",
        "___\n",
        "The first step in this methodology is to cluster the input strings in order to identify the cluster representatives that will be used as prototypes in the embedding process. It is vey important to mention that every cluster needs two representative strings that will selected from the clustering algorithm.\n",
        "\n",
        "__Why do we need 2 representatives?__\n",
        "\n",
        "This way we can compute the inner product space where one string serves the origin and the other the endpoint of a vector.\n",
        "\n",
        "After the formation of the clusters, the prototype selection phase follows, in which one of the members in each cluster (not necessarily one of the two cluster representatives), will become its unique prototype and will be used\n",
        "as the pivot object for the embedding.\n",
        "\n",
        "Note that based on the assumed dissimilarity representation of the input objects, the considered distance metric for the input strings in this work is the __Edit Distance metric__.\n"
      ]
    },
    {
      "cell_type": "markdown",
      "metadata": {
        "id": "g2qyD3CUY2ni"
      },
      "source": [
        "### Edit distance metric\n",
        "Edit distance is a way of quantifying how dissimilar two strings (e.g., words) are to one another by counting the minimum number of operations required to transform one string into the other. Βased on the assumed dissimilarity representation of the input objects, the considered distance metric for the input strings in this work is the Edit Distance metric.\n",
        "\n",
        "Theres already an implementation for this metric in library editdistance\n",
        "\n",
        "Downloading the library"
      ]
    },
    {
      "cell_type": "code",
      "metadata": {
        "colab": {
          "base_uri": "https://localhost:8080/"
        },
        "id": "DF4Bwx28STQU",
        "outputId": "63a272ce-7984-4bcb-dabe-c7be0ed9e68f"
      },
      "source": [
        "from google.colab import drive\n",
        "drive.mount('/content/drive',force_remount=True)\n",
        "filePath = r\"/content/drive/My Drive/ERinDS\"\n",
        "!ls r\"./My Drive/ERinDS\"\n",
        "# !cd filePath"
      ],
      "execution_count": 1,
      "outputs": [
        {
          "output_type": "stream",
          "text": [
            "Mounted at /content/drive\n",
            "ls: cannot access 'r./My Drive/ERinDS': No such file or directory\n"
          ],
          "name": "stdout"
        }
      ]
    },
    {
      "cell_type": "code",
      "metadata": {
        "id": "GxCXrXlLY2nj",
        "colab": {
          "base_uri": "https://localhost:8080/"
        },
        "outputId": "28e72c37-5124-41d8-e640-462d2f52804a"
      },
      "source": [
        "!pip install editdistance"
      ],
      "execution_count": 2,
      "outputs": [
        {
          "output_type": "stream",
          "text": [
            "Requirement already satisfied: editdistance in /usr/local/lib/python3.7/dist-packages (0.5.3)\n"
          ],
          "name": "stdout"
        }
      ]
    },
    {
      "cell_type": "code",
      "metadata": {
        "id": "QK3BIfl8Y2nk",
        "colab": {
          "base_uri": "https://localhost:8080/"
        },
        "outputId": "40ef869b-a2fb-409c-9570-5f67566e04db"
      },
      "source": [
        "import editdistance\n",
        "\n",
        "print(\"Edit distance: \"+str(editdistance.eval('banana', 'bahama')))"
      ],
      "execution_count": 3,
      "outputs": [
        {
          "output_type": "stream",
          "text": [
            "Edit distance: 2\n"
          ],
          "name": "stdout"
        }
      ]
    },
    {
      "cell_type": "markdown",
      "metadata": {
        "id": "KdrCQO6vY2nk"
      },
      "source": [
        "### String clustering algorithm\n",
        "\n",
        "The string clustering algorithm produces as its output two vectors that contain for each discovered cluster, two representatives, as well as the assignment of individual strings to the closest cluster.\n",
        "\n",
        "***Functionality:***\n",
        "The string clustering algorithm iterates through the list of the input strings, and for each input string loops over the list of the currently discovered clusters. The algorithm starts processing the of the first discovered cluster1. The second string will be checked against the first representative of the first cluster, and if it is the case that the distance between these two strings is less than the distance threshold 𝑑 given as input to the algorithm, the second string will join the first cluster and it will become the second representative of this cluster. If the distance between these two strings is greater\n",
        "than 𝑑, then the algorithm will go on with the next cluster. Given there is only one cluster which has been created so far, and by assuming that the distance between the second string and the first representative is greater than the threshold, the second string will be automatically allocated to the second cluster (which is empty at this moment), in which case it will become its first representative.\n",
        "\n",
        "\n",
        "### Cluster  membership condition\n",
        "\n",
        "When a new string is checked for membership to a cluster, the condition that must be satisfied by this newly coming string in order to join this cluster is that the sum of its distances from the two representatives must be less than the distance threshold.\n",
        "\n",
        "$$\n",
        "\\textbf{String_Sum_Of_Distances < Distance_Threshold}\n",
        "$$\n",
        "\n",
        "By comparing the newly arrived string against the two cluster representatives and by ensuring that the cluster\n",
        "membership condition is satisfied, we have the right to provide distance guarantees for all the pairs of strings that will eventually join the same cluster, meaning that no string in the cluster is more than 𝑑 distance away from any other string in the same cluster.\n",
        "\n",
        "<img src=\"https://drive.google.com/uc?export=view&id=1P3hidyrJk_5C1Zp0A64z6ecw98sdBsXa\" align=\"center\"><img>\n",
        "\n",
        "\n",
        "<h4 align=\"center\">\n",
        "Figure 1: Properties of distances of strings from cluster representatives\n",
        "</h4>\n",
        "\n",
        "\n",
        "#### Triangle inequality\n",
        "\n",
        "Figure 1 is a visualize of the membership condition that must be fullfilled in each cluster. \n",
        "In this graph:\n",
        "\n",
        "- Nodes __A,B,C,D,E,F__ represent the strings\n",
        "- Edges represent the Edit distances among the strings\n",
        "\n",
        "__Figure Scenario:__\n",
        "\n",
        "1. String __A__ joins first the cluster\n",
        "2. String __B__ joins first the cluster $\\Rightarrow$ __A__,__B__ become the 2 representatives\n",
        "3. __A__,__B__ distance must be less than d $\\Rightarrow$ $\\textbf{distance(A,B) < d}$\n",
        "4. String __C__ is checker for entering the cluster. Condition checked: $\\sum_{n=A,B}\\textbf{distance(C,n) < d}$. If condition is valid string __C__ enters the cluster.\n",
        "5. Assume that strings __D__ and __E__ are checked for membership to the cluster in a similar fashion,which is done by questioning for each one of them whether their sum of the distances from the two representatives is less than or equal to the distance threshold. Assuming also that these conditions fulfilled and they join the clusters. It can be proofed from the triangle inequality that the distances of the newly joined __C__,__D__,__E__ from each other are below d.\n",
        "\n",
        "(PROOF)\n",
        "\n",
        "\n",
        "### Algorithm complexity\n",
        "For $n$ strings and $k$ prototypes: $\\textit{O(nk)}$\n",
        "\n",
        "\n",
        "### Prototype selection\n",
        "From among the strings that were allocated to a certain cluster by the string clustering algorithm, we need to specify one string that will play the role of the cluster prototype. This method benefits the algorithm complexity, as it is only needed to compare the incoming new string with the 2 representatives and not with all the cluster. Even though either one of the two representatives of each cluster which were derived during the clustering process can assume the cluster prototype role, there are still other choices that are way more precise and can be computed in a computationally efficient manner. To accomplish this, we rely on the notion of the set median string which has appeared as a concept in a number of studies before. \n",
        "\n",
        "\n",
        "\n",
        "#### Median string\n",
        "The string 𝑚 that belongs to a set of strings 𝑆 and satisfies the following property\n",
        "$$\n",
        "m = \\textit{argmax}_{y\\in S} \\sum_{\\forall x \\in S} d(x,y)\n",
        "$$\n",
        "\n",
        "Briefly, this condition means that it is the string in S whose sum of the distances from all the othe strings in S is minimum.\n",
        "It is obvious that this procedure has an expencive computation as it is needed to traverse the set of strings multiple times. For this reason in this framework it will be used another way of finding the cluster prototypes. \n",
        "\n",
        "<img src=\"https://drive.google.com/uc?export=view&id=18sXaGEgPQ3Bi31Dlh9pk9LCkRKT76NE9\" align=\"center\"><img>\n",
        "\n",
        "<h4 align=\"center\">\n",
        "Figure 2: Projections of distances of strings from cluster representative A\n",
        "</h4>\n",
        "\n",
        "Figure 2 illustrates the idea of the string prototype selection for a random cluster of strings. It will be demontrated an efficient alforithm for selecting prototypes in the following steps:\n",
        "\n",
        "1. Calculating the distances of the projections of the strings from the leftmost representative string __A__ onto the line that extends from points __A__ and __B__. Example is the computation of distance $d_{CA}$ \n",
        "    - Assuming that __A__ and __B__ are already projected,which means that we do not have to do anything about these two strings.\n",
        "    - Distance $d_{CA}$ :\n",
        "        \\begin{align*}\n",
        "            CA^2 &= CC'^2 + d_{CA}^2 \\Leftrightarrow   &&  \\textit{(Pythagorian Theorem - PT in C'CA trianlge)} \\\\\n",
        "            CA^2 &= CB^2 - (d_{CA}+AB)^2 + d_{CA}^2 \\Leftrightarrow   &&  (\\textit{C'CB trianlge: } CC'^2 + C'B^2 = CB^2)   \\\\\n",
        "            CA^2 &= CB^2 - d_{CA}^2 - AB^2 - 2 \\cdot  d_{CA} \\cdot AB  + d_{CA}^2 \\Leftrightarrow && (\\textit{Algebraic identity})\\\\\n",
        "            CA^2 &= CB^2 - AB^2 - 2 \\cdot  d_{CA} \\cdot AB \\Leftrightarrow && \\\\\n",
        "            2 \\cdot  d_{CA} \\cdot AB &= CB^2 - AB^2 - CA^2 \\Leftrightarrow &&  \\\\  \n",
        "            d_{CA} &= \\frac{CB^2 - AB^2 - CA^2}{2 \\cdot AB} &&  \\\\  \n",
        "        \\end{align*}\n",
        "        The distances __AB__,__CA__,__CB__ are already known from the clustering phase, so there's no need to be computed again. This way we can now easily use the formula to compute all the wanted distances\n",
        "2. __Sorting phase__:   After we have estimated all the projected distances, we sort these distances algebraically from the smallest to the largest. In this implementation it will be used quicksort algorithm from numpy library.\n",
        "3. We choose the __median distance__ among those and set it as the prototype of this cluster. \n",
        "\n",
        " >  The median distance ($δ_M$) is the median value of the distance between any two node pairs. ... The given values are never half-integers: Even when the median would be defined as the mean of two adjacent values, the value given is rounded up.\n",
        "\n"
      ]
    },
    {
      "cell_type": "markdown",
      "metadata": {
        "id": "PxE-FbcYY2nm"
      },
      "source": [
        "### ***Algorithm 1:*** The String Clustering and Prototype Selection Algorithm\n",
        "\n",
        "\n",
        "***The algorithm takes as input:***\n",
        " - __𝑆__: the input strings in vector, \n",
        " - __𝑘__: the maximum number of clusters to be generated, \n",
        " - __d__: the maximum allowable distance of a string to join a cluster\n",
        "\n",
        "it produces in the first phase two arrays,\n",
        " - an array variable __𝐶__ that contains the assignment of individual strings to cluster identities, and \n",
        " - the 2D array variable __r__ that maintains the assignment of representatives to clusters. \n",
        "\n",
        "In the second phase, it produces the assignment of prototypes to clusters in the array variable __Prototype__.\n",
        "\n",
        "***Returns:***\n",
        "- __Prototype__: Assignment of prototypes to clusters as array"
      ]
    },
    {
      "cell_type": "code",
      "metadata": {
        "colab": {
          "base_uri": "https://localhost:8080/",
          "height": 316
        },
        "id": "jqPFKYmtjO5L",
        "outputId": "9520c111-85b0-4463-d5dd-e181c6e8d6a6"
      },
      "source": [
        "import numpy as np\n",
        "import matplotlib.pyplot as plt\n",
        "from scipy.spatial.distance import directed_hausdorff\n",
        "\n",
        "def point_on_line(a, b, p):\n",
        "    ap = p - a\n",
        "    ab = b - a\n",
        "    result = a + np.dot(ap, ab) / np.dot(ab, ab) * ab\n",
        "    return result\n",
        "\n",
        "A = np.array([2, 3])\n",
        "B = np.array([4, 3])\n",
        "P = np.array([-6, 5])\n",
        "projected = point_on_line(A, B, P)\n",
        "print(projected)\n",
        "\n",
        "# A = np.array([ 10.5, 15.6 ])\n",
        "# B = np.array([ 2, 6 ])\n",
        "# P = np.array([ 18.561, -19.451])\n",
        "\n",
        "# projected = point_on_line(A, B, P) \n",
        "# print(projected)\n",
        "# # [-3.35411076 -0.04699568]\n",
        "\n",
        "plt.xlim(-20, 20)\n",
        "plt.ylim(-20, 20)\n",
        "plt.axis('equal')\n",
        "\n",
        "x_values = [A[0], B[0]]\n",
        "y_values = [A[1], B[1]]\n",
        "px_values = [A[0], projected[0]]\n",
        "py_values = [A[1], projected[1]]\n",
        "\n",
        "plt.plot(B[0], B[1], 'ro')\n",
        "plt.plot(A[0], A[1], 'ro')\n",
        "plt.plot(P[0], P[1], 'ro')\n",
        "plt.plot(x_values, y_values, 'b-')\n",
        "plt.plot(projected[0], projected[1], 'rx')\n",
        "plt.plot(px_values, py_values, 'g-')\n",
        "\n",
        "print(projected-A)\n",
        "print(np.linalg.norm(projected-A))\n",
        "# print((np.dot(A, projected) / np.linalg.norm(projected)**2 ) * projected)"
      ],
      "execution_count": null,
      "outputs": [
        {
          "output_type": "stream",
          "text": [
            "[-6.  3.]\n",
            "[-8.  0.]\n",
            "8.0\n"
          ],
          "name": "stdout"
        },
        {
          "output_type": "display_data",
          "data": {
            "image/png": "[encoded data removed]",
            "text/plain": [
              "<Figure size 432x288 with 1 Axes>"
            ]
          },
          "metadata": {
            "tags": [],
            "needs_background": "light"
          }
        }
      ]
    },
    {
      "cell_type": "code",
      "metadata": {
        "colab": {
          "base_uri": "https://localhost:8080/"
        },
        "id": "qtbVSOwejiT3",
        "outputId": "c87a8f9d-eb1d-4852-d757-9fe440548ade"
      },
      "source": [
        "import numpy as np\n",
        "from shapely.geometry import Point\n",
        "from shapely.geometry import LineString\n",
        "\n",
        "point = Point(0.2, 0.5)\n",
        "line = LineString([(0, 1), (1, 1)])\n",
        "\n",
        "x = np.array(point.coords[0])\n",
        "\n",
        "u = np.array(line.coords[0])\n",
        "v = np.array(line.coords[len(line.coords)-1])\n",
        "\n",
        "n = v - u\n",
        "n /= np.linalg.norm(n, 2)\n",
        "\n",
        "P = u + n*np.dot(x - u, n)\n",
        "\n",
        "# plt.plot(x, y_values, 'b-')\n",
        "print(P) #0.2 1."
      ],
      "execution_count": null,
      "outputs": [
        {
          "output_type": "stream",
          "text": [
            "[0.2 1. ]\n"
          ],
          "name": "stdout"
        }
      ]
    },
    {
      "cell_type": "code",
      "metadata": {
        "id": "oqrkgd4ZY2nn"
      },
      "source": [
        "#####################################################################\n",
        "# 1. Prototype selection algorithm                                  #\n",
        "#####################################################################\n",
        "\n",
        "'''\n",
        "Clustering_Prototypes(S,k,d,r,C) \n",
        "The String Clustering and Prototype Selection Algorithm\n",
        "is the main clustering method, that takes as input the intial strings S, \n",
        "the max number of clusters to be generated in k,\n",
        "the maximum allowable distance of a string to join a cluster in var d\n",
        "and returns the prototype for each cluster in array Prototype\n",
        "'''\n",
        "def Clustering_Prototypes(S,k,d,r,C,verbose=True):\n",
        "    \n",
        "    # ----------------- Initialization phase ----------------- #\n",
        "    i = 0\n",
        "    j = 0\n",
        "\n",
        "    Clusters = [ [] for l in range(0,k)]\n",
        "\n",
        "    while i < S.size:     # String-clustering phase, for all strings\n",
        "        while j < k :       # iteration through clusters, for all clusters\n",
        "            if r[0][j] == None:      # case empty first representative for cluster j\n",
        "                r[0][j] = S[i]   # init cluster representative with string i\n",
        "                C[i] = j         # store in C that i-string belongs to cluster j\n",
        "                Clusters[j].append(S[i])\n",
        "                break\n",
        "            elif r[1][j] == None and (EditDistance(S[i],r[0][j]) <= d):  # case empty second representative \n",
        "                r[1][j] = S[i]                                             # and ED of representative 1  smaller than i-th string \n",
        "                C[i] = j\n",
        "                Clusters[j].append(S[i])\n",
        "                break\n",
        "            elif (r[0][j] != None and r[1][j] != None) and (EditDistance(S[i],r[0][j]) + EditDistance(S[i],r[1][j])) <= d:\n",
        "                C[i] = j\n",
        "                Clusters[j].append(S[i])\n",
        "                break\n",
        "            else:\n",
        "                j += 1\n",
        "        i += 1\n",
        "    \n",
        "    # ----------------- Prototype selection phase ----------------- #\n",
        "        \n",
        "    Projections = np.empty([k],dtype=object)\n",
        "    Prototypes = np.empty([k],dtype=int)\n",
        "    sortedProjections = np.empty([k],dtype=object)\n",
        "    j = 0\n",
        "\n",
        "    if verbose:\n",
        "        print(\"- - - - - - - - -\")\n",
        "        print(\"Cluster array:\")\n",
        "        print(C)\n",
        "        print(\"- - - - - - - - -\")\n",
        "        print(\"Represantatives array:\")\n",
        "        print(r)\n",
        "        print(\"- - - - - - - - -\")  \n",
        "        print(\"Clusters:\")\n",
        "        print(Clusters)\n",
        "        print(\"- - - - - - - - -\")  \n",
        "\n",
        "    \n",
        "    while j < k and len(Clusters[j])>0:\n",
        "        print(\"\\n\\n\\n****** Prototype selection phase *********\") \n",
        "        Projections[j] = Approximated_Projection_Distances_ofCluster(r[1][j], r[0][j], j, Clusters[j])\n",
        "        # sortedProjections[j] = np.sort(np.array(Projections[j]),kind = 'quicksort' ) \n",
        "        \n",
        "        print(\"\\n\"+str(j)+\"-Projections:\")\n",
        "        print(Projections[j])\n",
        "        \n",
        "        sortedProjections[j] = {k: v for k, v in sorted(Projections[j].items(), key=lambda item: item[1])}\n",
        "\n",
        "        print(str(j)+\"-sortedProjections:\")\n",
        "        print(sortedProjections[j])\n",
        "        \n",
        "        Prototypes[j] = Median(sortedProjections[j])\n",
        "        \n",
        "        print(\".............\")\n",
        "        print(str(j)+\"-Prototypes:\")        \n",
        "        print(Prototypes[j])\n",
        "        \n",
        "        j += 1\n",
        "        print(\"\\n****** END *********\\n\")\n",
        "\n",
        "    return Prototypes\n",
        "\n",
        "def EditDistance(str1,str2,verbose=False):\n",
        "    if verbose:\n",
        "        if str1 == None:\n",
        "            print(\"1\")\n",
        "        elif str2 == None:\n",
        "            print(\"2\")\n",
        "        print(\"-> \"+str(str1))\n",
        "        print(\"--> \"+str(str2))\n",
        "        print(str(editdistance.eval(S_set[str1],S_set[str2])))\n",
        "    \n",
        "    \n",
        "    # NOTE: Duplicates inside the dictionary     \n",
        "\n",
        "    if ((str1,str2) or (str2,str1))  in pairDictionary.keys():\n",
        "        return pairDictionary[(str1,str2)]\n",
        "    else:\n",
        "        distance = editdistance.eval(S_set[str1],S_set[str2])\n",
        "        pairDictionary[(str2,str1)] = pairDictionary[(str1,str2)] = distance\n",
        "        return distance\n",
        "\n",
        "\n",
        "def Approximated_Projection_Distances_ofCluster(right_rep, left_rep, cluster_id, clusterSet):\n",
        "\n",
        "    distances_vector = dict()\n",
        "    rep_distance     = EditDistance(right_rep,left_rep)\n",
        "\n",
        "    for str_inCluster in range(0,len(clusterSet)): \n",
        "\n",
        "      right_rep_distance = EditDistance(right_rep,clusterSet[str_inCluster])\n",
        "      left_rep_distance  = EditDistance(left_rep,clusterSet[str_inCluster])\n",
        "      \n",
        "      distance = (right_rep_distance**2-rep_distance**2-left_rep_distance**2 ) / (2*rep_distance)\n",
        "      distances_vector[clusterSet[str_inCluster]] = distance\n",
        "\n",
        "    return distances_vector\n",
        "\n",
        "def Median(distances):    \n",
        "    '''\n",
        "    Returns the median value of a vector\n",
        "    '''\n",
        "    keys = list(distances.keys())\n",
        "    median_position = int(len(keys)/2)\n",
        "    median_value = keys[median_position]\n",
        "\n",
        "    return median_value"
      ],
      "execution_count": 85,
      "outputs": []
    },
    {
      "cell_type": "code",
      "metadata": {
        "id": "yAH7Pye6fPZW"
      },
      "source": [
        "import pandas as pd\n",
        "import numpy as np\n",
        "import collections"
      ],
      "execution_count": 69,
      "outputs": []
    },
    {
      "cell_type": "code",
      "metadata": {
        "colab": {
          "base_uri": "https://localhost:8080/"
        },
        "id": "ZEpykcg7axKD",
        "outputId": "07b072ce-93c9-469c-d3bb-bad454fa9534"
      },
      "source": [
        "# Opening data file\n",
        "import io\n",
        "from google.colab import drive\n",
        "\n",
        "\n",
        "drive.mount('/content/drive',force_remount=True)\n",
        "ACM_filePath = r\"/content/drive/My Drive/ERinDS/ACM.csv\"\n",
        "DBLP_filepath = r\"/content/drive/My Drive/ERinDS/DBLP2.csv\"\n",
        "acm_csv = pd.read_csv(ACM_filePath)\n",
        "# dblp_csv = pd.read_csv(DBLP_filepath)"
      ],
      "execution_count": 56,
      "outputs": [
        {
          "output_type": "stream",
          "text": [
            "Mounted at /content/drive\n"
          ],
          "name": "stdout"
        }
      ]
    },
    {
      "cell_type": "code",
      "metadata": {
        "colab": {
          "base_uri": "https://localhost:8080/",
          "height": 589
        },
        "id": "869eFGw3eo0M",
        "outputId": "6d9291c9-26f7-4668-d2fd-c10c02b492b4"
      },
      "source": [
        "acm_csv"
      ],
      "execution_count": 9,
      "outputs": [
        {
          "output_type": "execute_result",
          "data": {
            "text/html": [
              "<div>\n",
              "<style scoped>\n",
              "    .dataframe tbody tr th:only-of-type {\n",
              "        vertical-align: middle;\n",
              "    }\n",
              "\n",
              "    .dataframe tbody tr th {\n",
              "        vertical-align: top;\n",
              "    }\n",
              "\n",
              "    .dataframe thead th {\n",
              "        text-align: right;\n",
              "    }\n",
              "</style>\n",
              "<table border=\"1\" class=\"dataframe\">\n",
              "  <thead>\n",
              "    <tr style=\"text-align: right;\">\n",
              "      <th></th>\n",
              "      <th>id</th>\n",
              "      <th>title</th>\n",
              "      <th>authors</th>\n",
              "      <th>venue</th>\n",
              "      <th>year</th>\n",
              "    </tr>\n",
              "  </thead>\n",
              "  <tbody>\n",
              "    <tr>\n",
              "      <th>0</th>\n",
              "      <td>304586</td>\n",
              "      <td>The WASA2 object-oriented workflow management ...</td>\n",
              "      <td>Gottfried Vossen, Mathias Weske</td>\n",
              "      <td>International Conference on Management of Data</td>\n",
              "      <td>1999</td>\n",
              "    </tr>\n",
              "    <tr>\n",
              "      <th>1</th>\n",
              "      <td>304587</td>\n",
              "      <td>A user-centered interface for querying distrib...</td>\n",
              "      <td>Isabel F. Cruz, Kimberly M. James</td>\n",
              "      <td>International Conference on Management of Data</td>\n",
              "      <td>1999</td>\n",
              "    </tr>\n",
              "    <tr>\n",
              "      <th>2</th>\n",
              "      <td>304589</td>\n",
              "      <td>World Wide Database-integrating the Web, CORBA...</td>\n",
              "      <td>Athman Bouguettaya, Boualem Benatallah, Lily H...</td>\n",
              "      <td>International Conference on Management of Data</td>\n",
              "      <td>1999</td>\n",
              "    </tr>\n",
              "    <tr>\n",
              "      <th>3</th>\n",
              "      <td>304590</td>\n",
              "      <td>XML-based information mediation with MIX</td>\n",
              "      <td>Chaitan Baru, Amarnath Gupta, Bertram Lud&amp;#228...</td>\n",
              "      <td>International Conference on Management of Data</td>\n",
              "      <td>1999</td>\n",
              "    </tr>\n",
              "    <tr>\n",
              "      <th>4</th>\n",
              "      <td>304582</td>\n",
              "      <td>The CCUBE constraint object-oriented database ...</td>\n",
              "      <td>Alexander Brodsky, Victor E. Segal, Jia Chen, ...</td>\n",
              "      <td>International Conference on Management of Data</td>\n",
              "      <td>1999</td>\n",
              "    </tr>\n",
              "    <tr>\n",
              "      <th>...</th>\n",
              "      <td>...</td>\n",
              "      <td>...</td>\n",
              "      <td>...</td>\n",
              "      <td>...</td>\n",
              "      <td>...</td>\n",
              "    </tr>\n",
              "    <tr>\n",
              "      <th>2289</th>\n",
              "      <td>672977</td>\n",
              "      <td>Dual-Buffering Strategies in Object Bases</td>\n",
              "      <td>Alfons Kemper, Donald Kossmann</td>\n",
              "      <td>Very Large Data Bases</td>\n",
              "      <td>1994</td>\n",
              "    </tr>\n",
              "    <tr>\n",
              "      <th>2290</th>\n",
              "      <td>950482</td>\n",
              "      <td>Guest editorial</td>\n",
              "      <td>Philip A. Bernstein, Yannis Ioannidis, Raghu R...</td>\n",
              "      <td>The VLDB Journal &amp;mdash; The International Jou...</td>\n",
              "      <td>2003</td>\n",
              "    </tr>\n",
              "    <tr>\n",
              "      <th>2291</th>\n",
              "      <td>672980</td>\n",
              "      <td>GraphDB: Modeling and Querying Graphs in Datab...</td>\n",
              "      <td>Ralf Hartmut G&amp;#252;ting</td>\n",
              "      <td>Very Large Data Bases</td>\n",
              "      <td>1994</td>\n",
              "    </tr>\n",
              "    <tr>\n",
              "      <th>2292</th>\n",
              "      <td>945741</td>\n",
              "      <td>Review of The data warehouse toolkit: the comp...</td>\n",
              "      <td>Alexander A. Anisimov</td>\n",
              "      <td>ACM SIGMOD Record</td>\n",
              "      <td>2003</td>\n",
              "    </tr>\n",
              "    <tr>\n",
              "      <th>2293</th>\n",
              "      <td>672979</td>\n",
              "      <td>Bulk Loading into an OODB: A Performance Study</td>\n",
              "      <td>Janet L. Wiener, Jeffrey F. Naughton</td>\n",
              "      <td>Very Large Data Bases</td>\n",
              "      <td>1994</td>\n",
              "    </tr>\n",
              "  </tbody>\n",
              "</table>\n",
              "<p>2294 rows × 5 columns</p>\n",
              "</div>"
            ],
            "text/plain": [
              "          id  ...  year\n",
              "0     304586  ...  1999\n",
              "1     304587  ...  1999\n",
              "2     304589  ...  1999\n",
              "3     304590  ...  1999\n",
              "4     304582  ...  1999\n",
              "...      ...  ...   ...\n",
              "2289  672977  ...  1994\n",
              "2290  950482  ...  2003\n",
              "2291  672980  ...  1994\n",
              "2292  945741  ...  2003\n",
              "2293  672979  ...  1994\n",
              "\n",
              "[2294 rows x 5 columns]"
            ]
          },
          "metadata": {
            "tags": []
          },
          "execution_count": 9
        }
      ]
    },
    {
      "cell_type": "code",
      "metadata": {
        "colab": {
          "base_uri": "https://localhost:8080/"
        },
        "id": "lHwpS4o9eyzb",
        "outputId": "5ebb8d6a-cadd-4d8f-85fa-da385b619961"
      },
      "source": [
        "strObjects = acm_csv.iloc[0:]['title']\n",
        "print(strObjects)"
      ],
      "execution_count": 87,
      "outputs": [
        {
          "output_type": "stream",
          "text": [
            "0       The WASA2 object-oriented workflow management ...\n",
            "1       A user-centered interface for querying distrib...\n",
            "2       World Wide Database-integrating the Web, CORBA...\n",
            "3                XML-based information mediation with MIX\n",
            "4       The CCUBE constraint object-oriented database ...\n",
            "                              ...                        \n",
            "2289            Dual-Buffering Strategies in Object Bases\n",
            "2290                                      Guest editorial\n",
            "2291    GraphDB: Modeling and Querying Graphs in Datab...\n",
            "2292    Review of The data warehouse toolkit: the comp...\n",
            "2293       Bulk Loading into an OODB: A Performance Study\n",
            "Name: title, Length: 2294, dtype: object\n"
          ],
          "name": "stdout"
        }
      ]
    },
    {
      "cell_type": "code",
      "metadata": {
        "id": "AyCcESXRY2no",
        "colab": {
          "base_uri": "https://localhost:8080/"
        },
        "outputId": "630d5230-cd0a-439d-e025-5fa347d58d58"
      },
      "source": [
        "pairDictionary = dict()\n",
        "input_strings = list(strObjects)\n",
        "k = 7 # max_number_of_clusters\n",
        "d = 120\n",
        "S_set = np.array(input_strings,dtype=object)\n",
        "S_index = np.arange(0,len(input_strings),1)\n",
        "# S_index_list = list(S_index) \n",
        "C = np.empty([S_set.size], dtype=int)\n",
        "r = np.empty([2,k],dtype=object)\n",
        "\n",
        "# print(S_set)\n",
        "\n",
        "print(\"\\n-----------------\\nString positions are:\")\n",
        "print(S_index)\n",
        "print(\"-----------------\\n\")\n",
        "\n",
        "Prototypes = Clustering_Prototypes(S_index,k,d,r,C)\n",
        "\n",
        "print(\"\\n-----------------\\n NumofPrototypes: \"+str(k)+\" || Prototypes are: \")\n",
        "print(Prototypes)\n",
        "print(\"-----------------\")"
      ],
      "execution_count": 94,
      "outputs": [
        {
          "output_type": "stream",
          "text": [
            "\n",
            "-----------------\n",
            "String positions are:\n",
            "[   0    1    2 ... 2291 2292 2293]\n",
            "-----------------\n",
            "\n",
            "- - - - - - - - -\n",
            "Cluster array:\n",
            "[                  0                   0                   0 ...\n",
            " 3539877914133803065 3760836780269515574 4051048549322010164]\n",
            "- - - - - - - - -\n",
            "Represantatives array:\n",
            "[[0 11 13 25 28 31 40]\n",
            " [1 12 14 26 29 32 41]]\n",
            "- - - - - - - - -\n",
            "Clusters:\n",
            "[[0, 1, 2, 3, 4, 5, 6, 7, 8, 9, 10], [11, 12], [13, 14, 15, 16, 17, 18, 19, 20, 21, 22, 23, 24], [25, 26, 27], [28, 29, 30], [31, 32, 33, 34, 35, 36, 37, 38, 39], [40, 41]]\n",
            "- - - - - - - - -\n",
            "\n",
            "\n",
            "\n",
            "****** Prototype selection phase *********\n",
            "\n",
            "0-Projections:\n",
            "{0: 0.0, 1: -56.0, 2: -28.0, 3: -21.0, 4: -11.107142857142858, 5: -16.044642857142858, 6: -24.142857142857142, 7: -11.544642857142858, 8: -23.3125, 9: -26.285714285714285, 10: -25.964285714285715}\n",
            "0-sortedProjections:\n",
            "{1: -56.0, 2: -28.0, 9: -26.285714285714285, 10: -25.964285714285715, 6: -24.142857142857142, 8: -23.3125, 3: -21.0, 5: -16.044642857142858, 7: -11.544642857142858, 4: -11.107142857142858, 0: 0.0}\n",
            ".............\n",
            "0-Prototypes:\n",
            "8\n",
            "\n",
            "****** END *********\n",
            "\n",
            "\n",
            "\n",
            "\n",
            "****** Prototype selection phase *********\n",
            "\n",
            "1-Projections:\n",
            "{11: 0.0, 12: -65.0}\n",
            "1-sortedProjections:\n",
            "{12: -65.0, 11: 0.0}\n",
            ".............\n",
            "1-Prototypes:\n",
            "11\n",
            "\n",
            "****** END *********\n",
            "\n",
            "\n",
            "\n",
            "\n",
            "****** Prototype selection phase *********\n",
            "\n",
            "2-Projections:\n",
            "{13: 0.0, 14: -48.0, 15: -19.885416666666668, 16: -16.78125, 17: -22.96875, 18: -19.25, 19: -10.333333333333334, 20: -17.166666666666668, 21: -17.947916666666668, 22: -19.0, 23: -17.21875, 24: -14.260416666666666}\n",
            "2-sortedProjections:\n",
            "{14: -48.0, 17: -22.96875, 15: -19.885416666666668, 18: -19.25, 22: -19.0, 21: -17.947916666666668, 23: -17.21875, 20: -17.166666666666668, 16: -16.78125, 24: -14.260416666666666, 19: -10.333333333333334, 13: 0.0}\n",
            ".............\n",
            "2-Prototypes:\n",
            "23\n",
            "\n",
            "****** END *********\n",
            "\n",
            "\n",
            "\n",
            "\n",
            "****** Prototype selection phase *********\n",
            "\n",
            "3-Projections:\n",
            "{25: 0.0, 26: -74.0, 27: -44.804054054054056}\n",
            "3-sortedProjections:\n",
            "{26: -74.0, 27: -44.804054054054056, 25: 0.0}\n",
            ".............\n",
            "3-Prototypes:\n",
            "27\n",
            "\n",
            "****** END *********\n",
            "\n",
            "\n",
            "\n",
            "\n",
            "****** Prototype selection phase *********\n",
            "\n",
            "4-Projections:\n",
            "{28: 0.0, 29: -63.0, 30: -3.6984126984126986}\n",
            "4-sortedProjections:\n",
            "{29: -63.0, 30: -3.6984126984126986, 28: 0.0}\n",
            ".............\n",
            "4-Prototypes:\n",
            "30\n",
            "\n",
            "****** END *********\n",
            "\n",
            "\n",
            "\n",
            "\n",
            "****** Prototype selection phase *********\n",
            "\n",
            "5-Projections:\n",
            "{31: 0.0, 32: -48.0, 33: -10.875, 34: -6.28125, 35: -9.947916666666666, 36: -14.114583333333334, 37: -31.802083333333332, 38: -6.28125, 39: -14.25}\n",
            "5-sortedProjections:\n",
            "{32: -48.0, 37: -31.802083333333332, 39: -14.25, 36: -14.114583333333334, 33: -10.875, 35: -9.947916666666666, 34: -6.28125, 38: -6.28125, 31: 0.0}\n",
            ".............\n",
            "5-Prototypes:\n",
            "33\n",
            "\n",
            "****** END *********\n",
            "\n",
            "\n",
            "\n",
            "\n",
            "****** Prototype selection phase *********\n",
            "\n",
            "6-Projections:\n",
            "{40: 0.0, 41: -38.0}\n",
            "6-sortedProjections:\n",
            "{41: -38.0, 40: 0.0}\n",
            ".............\n",
            "6-Prototypes:\n",
            "40\n",
            "\n",
            "****** END *********\n",
            "\n",
            "\n",
            "-----------------\n",
            " NumofPrototypes: 7 || Prototypes are: \n",
            "[ 8 11 23 27 30 33 40]\n",
            "-----------------\n"
          ],
          "name": "stdout"
        }
      ]
    },
    {
      "cell_type": "code",
      "metadata": {
        "id": "rUgH0DXQY2no",
        "colab": {
          "base_uri": "https://localhost:8080/",
          "height": 350
        },
        "outputId": "9122b737-648b-492e-d6b1-c37346be44e7"
      },
      "source": [
        "import os\n",
        "import csv\n",
        "import nltk\n",
        "import json\n",
        "import math\n",
        "import random\n",
        "# import distance \n",
        "\n",
        "## Important Paths\n",
        "FIXTURES = os.path.join(os.getcwd(), \"fixtures\")\n",
        "PRODUCTS = os.path.join(FIXTURES, \"products\")\n",
        "\n",
        "## Module Constants\n",
        "GOOGID   = 'http://www.google.com/base/feeds/snippets'\n",
        "\n",
        "def load_data(name):\n",
        "    \"\"\"\n",
        "    Create a generator to load data from the products data source.\n",
        "    \"\"\"\n",
        "    with open(os.path.join(PRODUCTS, name), 'r') as f:\n",
        "        reader = csv.DictReader(f)\n",
        "        for row in reader:\n",
        "            yield row\n",
        "\n",
        "def google_key(key):\n",
        "    return os.path.join(GOOGID, key)\n",
        "\n",
        "## Load Datasets into Memory\n",
        "amazon  = list(load_data('amazon.csv'))\n",
        "google  = list(load_data('google.csv'))\n",
        "mapping = list(load_data('perfect_mapping.csv'))\n",
        "\n",
        "## Report on contents of the dataset\n",
        "for name, dataset in (('Amazon', amazon), ('Google Shopping', google)):\n",
        "    print(\"%d dataset contains %d records\",name, len(dataset))\n",
        "    print(\"Record keys: \"+str(\", \".join(dataset[0].keys())))\n",
        "\n",
        "## Report on the contents of the mapping\n",
        "print(\"There are\"+str(len(mapping))+\" matching records to link\")\n",
        "\n",
        "## Convert dataset to records indexed by their ID.\n",
        "amazon  = dict((v['id'], v) for v in amazon)\n",
        "google  = dict((v['id'], v) for v in google)\n",
        "\n",
        "X = amazon['b0000c7fpt']\n",
        "Y = google[google_key('17175991674191849246')]\n",
        "\n",
        "## Show example Records\n",
        "print( json.dumps(X, indent=2))\n",
        "print( json.dumps(Y, indent=2))"
      ],
      "execution_count": null,
      "outputs": [
        {
          "output_type": "error",
          "ename": "FileNotFoundError",
          "evalue": "ignored",
          "traceback": [
            "\u001b[0;31m---------------------------------------------------------------------------\u001b[0m",
            "\u001b[0;31mFileNotFoundError\u001b[0m                         Traceback (most recent call last)",
            "\u001b[0;32m<ipython-input-7-aba99f113cec>\u001b[0m in \u001b[0;36m<module>\u001b[0;34m()\u001b[0m\n\u001b[1;32m     27\u001b[0m \u001b[0;34m\u001b[0m\u001b[0m\n\u001b[1;32m     28\u001b[0m \u001b[0;31m## Load Datasets into Memory\u001b[0m\u001b[0;34m\u001b[0m\u001b[0;34m\u001b[0m\u001b[0;34m\u001b[0m\u001b[0m\n\u001b[0;32m---> 29\u001b[0;31m \u001b[0mamazon\u001b[0m  \u001b[0;34m=\u001b[0m \u001b[0mlist\u001b[0m\u001b[0;34m(\u001b[0m\u001b[0mload_data\u001b[0m\u001b[0;34m(\u001b[0m\u001b[0;34m'amazon.csv'\u001b[0m\u001b[0;34m)\u001b[0m\u001b[0;34m)\u001b[0m\u001b[0;34m\u001b[0m\u001b[0;34m\u001b[0m\u001b[0m\n\u001b[0m\u001b[1;32m     30\u001b[0m \u001b[0mgoogle\u001b[0m  \u001b[0;34m=\u001b[0m \u001b[0mlist\u001b[0m\u001b[0;34m(\u001b[0m\u001b[0mload_data\u001b[0m\u001b[0;34m(\u001b[0m\u001b[0;34m'google.csv'\u001b[0m\u001b[0;34m)\u001b[0m\u001b[0;34m)\u001b[0m\u001b[0;34m\u001b[0m\u001b[0;34m\u001b[0m\u001b[0m\n\u001b[1;32m     31\u001b[0m \u001b[0mmapping\u001b[0m \u001b[0;34m=\u001b[0m \u001b[0mlist\u001b[0m\u001b[0;34m(\u001b[0m\u001b[0mload_data\u001b[0m\u001b[0;34m(\u001b[0m\u001b[0;34m'perfect_mapping.csv'\u001b[0m\u001b[0;34m)\u001b[0m\u001b[0;34m)\u001b[0m\u001b[0;34m\u001b[0m\u001b[0;34m\u001b[0m\u001b[0m\n",
            "\u001b[0;32m<ipython-input-7-aba99f113cec>\u001b[0m in \u001b[0;36mload_data\u001b[0;34m(name)\u001b[0m\n\u001b[1;32m     18\u001b[0m     \u001b[0mCreate\u001b[0m \u001b[0ma\u001b[0m \u001b[0mgenerator\u001b[0m \u001b[0mto\u001b[0m \u001b[0mload\u001b[0m \u001b[0mdata\u001b[0m \u001b[0;32mfrom\u001b[0m \u001b[0mthe\u001b[0m \u001b[0mproducts\u001b[0m \u001b[0mdata\u001b[0m \u001b[0msource\u001b[0m\u001b[0;34m.\u001b[0m\u001b[0;34m\u001b[0m\u001b[0;34m\u001b[0m\u001b[0m\n\u001b[1;32m     19\u001b[0m     \"\"\"\n\u001b[0;32m---> 20\u001b[0;31m     \u001b[0;32mwith\u001b[0m \u001b[0mopen\u001b[0m\u001b[0;34m(\u001b[0m\u001b[0mos\u001b[0m\u001b[0;34m.\u001b[0m\u001b[0mpath\u001b[0m\u001b[0;34m.\u001b[0m\u001b[0mjoin\u001b[0m\u001b[0;34m(\u001b[0m\u001b[0mPRODUCTS\u001b[0m\u001b[0;34m,\u001b[0m \u001b[0mname\u001b[0m\u001b[0;34m)\u001b[0m\u001b[0;34m,\u001b[0m \u001b[0;34m'r'\u001b[0m\u001b[0;34m)\u001b[0m \u001b[0;32mas\u001b[0m \u001b[0mf\u001b[0m\u001b[0;34m:\u001b[0m\u001b[0;34m\u001b[0m\u001b[0;34m\u001b[0m\u001b[0m\n\u001b[0m\u001b[1;32m     21\u001b[0m         \u001b[0mreader\u001b[0m \u001b[0;34m=\u001b[0m \u001b[0mcsv\u001b[0m\u001b[0;34m.\u001b[0m\u001b[0mDictReader\u001b[0m\u001b[0;34m(\u001b[0m\u001b[0mf\u001b[0m\u001b[0;34m)\u001b[0m\u001b[0;34m\u001b[0m\u001b[0;34m\u001b[0m\u001b[0m\n\u001b[1;32m     22\u001b[0m         \u001b[0;32mfor\u001b[0m \u001b[0mrow\u001b[0m \u001b[0;32min\u001b[0m \u001b[0mreader\u001b[0m\u001b[0;34m:\u001b[0m\u001b[0;34m\u001b[0m\u001b[0;34m\u001b[0m\u001b[0m\n",
            "\u001b[0;31mFileNotFoundError\u001b[0m: [Errno 2] No such file or directory: '/content/fixtures/products/amazon.csv'"
          ]
        }
      ]
    },
    {
      "cell_type": "markdown",
      "metadata": {
        "id": "17V_w7XuY2no"
      },
      "source": [
        "## 3.2 The Vantage Space Embedding and the Chorus of Prototypes Transform Similarity Coefficient\n",
        "---\n",
        "The second step in the methodology is to embed the input strings into the 𝑁-dimensional vantage space which has been generated by the prototype selection algorithm and to demonstrate the significance of using a correlation metric proposed in the context of the Chorus Transform for estimating the similarity of the embedded pairs of strings in the Vantage space.\n",
        "\n",
        "\n",
        "### Vantage Space\n",
        "\n",
        "The *Vantage Objects* approach maps pairwise distances of input objects into an 𝑁-dimensional space of pivot objects which is known as __Vantage Space__ in such a way that points that lie close to each other in this space correspond to similar objects in the original dissimilarity space. The __Chorus of Prototypes Transform (CT)__ on the other hand proposes the use of a rank correlation coefficient defined on the data induced by the distances of the input objects from the pivot objects.\n",
        "\n",
        "\n",
        "__Note:__\n",
        "\n",
        "- __k__ denotes the max number of expected clusters but\n",
        "- __N__ is the actual number of produced clusters\n",
        "\n",
        "#### Definition of a Finite metric space (S,d)\n",
        "\n",
        "A metric space is an ordered pair __(S,d)__ where:\n",
        "- __S__ is a set (our object set - strings) and \n",
        "- __d__ is a metric on S, i.e., a function $ d:S x S \\rightarrow \\Re   $\n",
        "\n",
        "such that for any random $o_1,o_2,o_3 \\in S$, the following holds:\n",
        "\n",
        "\\begin{align*}\n",
        "    d(o_1,o_2) & \\ge 0,   d(o_1,o_2) = 0 \\textit{ iff } o_1=o_2   &&  \\textit{(non-negativity)} \\\\   \n",
        "    d(o_1,o_2) &= d(o_2,o_1)   &&  \\textit{(symmetry)} \\\\\n",
        "    d(o_1,o_3) & \\le d(o_1,o_2) + d(o_2,o_3)   &&  \\textit{(triangle inequality)}\n",
        "\\end{align*}\n",
        "\n",
        "\n",
        "#### Vantage embedding\n",
        "\n",
        "In this work it will be used a method called vantage embedding, which utilizes a set of 𝑁 objects from S such that\n",
        "\\begin{align*}\n",
        "    A^* &= \\{ A^*_1,A^*_2,...,A^*_n \\}    &&   \\textbf{Vantage Objects}\n",
        "\\end{align*}\n",
        "\n",
        "Vantage objects generate $N$ __different one dimensional mappings__ which are used collectively to generate the embedding for each string.\n",
        "\n",
        "\n",
        "The distance $x_j$ from each object $A_i \\in S$ to every ___Vantage Object___ in $A^*$ \n",
        "$$\n",
        "x_j = d(A_i,A_j^*)\n",
        "$$\n",
        "\n",
        "is computed creating in this way an __N-dimensional__ point in the Vantage Space for the object $A_i$:\n",
        "$$\n",
        "p_i = \\{ x_1,x_2,...,x_N \\}\n",
        "$$\n",
        "\n",
        "The mapping for an object $A_i$ in the Vantage Space is denoted by $F(A_i)$. Now it is pretty useful to define a distance metric $δ$ for this space we created, with the above formula:\n",
        "\\begin{align}\n",
        "    δ(A_i,A_j) = \\max_{A_υ \\in Α*} | d(A_i,A_υ) - d(A_j,A_υ) | &= L_{ \\infty }   &&    \\textit{(5)}\n",
        "\\end{align}\n",
        "\n",
        "\n",
        "#### Strings as Vantage objects\n",
        "After this brief definition, we now need to declare the Vantage objects in our system. All the vantage objects have been given as an input from the string clustering phase, but on top of that we impose a reduction in the prototypes induced by considering the __top-𝑘 of those in the representation of objects (the value of 𝑘 is computed empirically)__.  \n",
        "\n",
        "The object embedding process iterates through all input strings and computes their edit distances from all the vantage objects.\n",
        "\n",
        "\n",
        "![](https://github.com/Nikoletos-K/Entity-Resolution-in-Dissimilarity-Spaces/blob/main/img/myfig_1.png?raw=1)\n",
        "\n",
        "<h4 align=\"center\">\n",
        "Figure 3: Embedding scheme\n",
        "</h4>\n",
        "    \n",
        "In the above sheme we can see the Embedding process. In steps:\n",
        "\n",
        "1. ___Prototype___ array from 3.1 section becomes our vantage objects (set $A^*$) and set S is all the strings \n",
        "2. We then calculate all edit distances from set S to set $A^*$ and for every string we make the embedding $s_{ij}$ shown in the figure, which is by calculating the formula (5) for every string-$i$ and string-$j$ and creating a vector:\n",
        "\n",
        "\\begin{align}\n",
        "    s_{ij}  =  [δ_{i1},δ_{i2}, ... , δ_{iN}]\n",
        "\\end{align}\n",
        "\n",
        "3. After forming the above vector we need now to transform it to a rank based representation. Firstly, I will make a clear definition of the ranked based represantation and after this, I am going to continue with the method steps.\n",
        "\n",
        "#### Rank based representation \n",
        "\n",
        "After all edit distances from the strings to the Vantage objects, have been computed, Chorus Transform mapping is adopted where the distances for each one of the strings are rank ordered. In this way the so called __ranking representation__ is created. For example, if the vector of the edit distances of an input string $𝑠_𝑖$ from the four vantage objects is \n",
        "$$𝑠_𝑖 = (5_2, 9_3, 10_4, 2_1)$$\n",
        "then the rank based representation for $𝑠_𝑖$ is the following \n",
        "$$𝑠_𝑖 = (2, 3, 4, 1)$$\n",
        "\n",
        "\n",
        "In this work, the Kendall’s tau rank coefficient ia adopted as the similarity metric. \n",
        "\n",
        "#### Kendall’s tau rank coefficient definition \n",
        "\n",
        "Let $(x_1,y_1), ... , (x_n,y_n)$ be a set of observations of the joint random variables X and Y, such that all the values of $(x_i)$ and $(y_i) $ are unique. Any pair of observations $(x_i,y_i)$ and $(x_j,y_j)$, where $i<j$ are said to be __concordant__ values in the sort order of $(x_i,x_j)$ and $(y_i,y_j)$ agrees: that is , if either both $x_i>x_j$ and $y_i>y_j$ holds or both $x_i<x_j$ and $y_i<y_j$ \n",
        "\n",
        "Otherwise they are said to be __discordant__.\n",
        "\n",
        "The Kendall $τ$ coefficient is defined as:\n",
        "\\begin{align*}\n",
        "    τ &= \\frac{\\textbf{(number_of_concordant_pairs)} - \\textbf{(number_of_discordant_pairs)} }{ {n\\choose 2} }  && \\\\\n",
        "\\end{align*}\n",
        "\n",
        "![](https://upload.wikimedia.org/wikipedia/commons/thumb/0/0e/Concordant_Points_Kendall_Correlation.svg/330px-Concordant_Points_Kendall_Correlation.svg.png)\n",
        "\n",
        "<h4 align=\"center\">\n",
        "Figure 4: Example of concordant and discordant points\n",
        "</h4>\n",
        "\n",
        "In this example all points in the gray area are concordant and all points in the white area are discordant with respect to point $(X_{1},Y_{1})$. With $n=30$ points, there are a total of ${30 \\choose 2} = 435$ possible point pairs. In this example there are 395 concordant point pairs and 40 discordant point pairs, leading to a Kendall rank correlation coefficient of 0.816.\n",
        "\n",
        "Linking this definition to our work:\n",
        "\\begin{align*}\n",
        "    τ &= \\frac{|C| - |D|}{ {n \\choose 2} } = \\frac{2 \\cdot (|C| - |D|)}{ n(n-1) }  && \\\\\n",
        "\\end{align*}\n",
        "\n",
        "where \n",
        "- $|C|$: concordant pairs of components\n",
        "- $|D|$: discordant pairs of components\n",
        "- $  {n\\choose 2} = \\frac{n(n-1)}{2} $\n",
        "\n",
        "Equivalent way to compute Kendall's tau correlation coefficient is by computing the product of the signs of the differences between their $j$ and $i$ components. This method is shown in the following equation:\n",
        "\n",
        "$$\n",
        "τ = \\frac{2}{n(n-1)}\\sum_i\\sum_{i<j} \\textit{sign}(s_1[i] - s_1[j]) \\cdot \\textit{sign}(s_1[i] - s_1[j]) \n",
        "$$\n",
        "\n",
        "\n",
        "__SciPy implementation__\n",
        "\n",
        "Kendall's tau rank is implemented in the python library __SciPy__ for the stats projects and it will be used in this implementation. More info [scipy.stats.kendalltau](https://web.archive.org/web/20181008171919/https://docs.scipy.org/doc/scipy/reference/generated/scipy.stats.kendalltau.html)\n",
        "\n",
        "````\n",
        "scipy.stats.kendalltau(x, y, initial_lexsort=None, nan_policy='propagate')\n",
        "````\n",
        "\n",
        "Use example:"
      ]
    },
    {
      "cell_type": "code",
      "metadata": {
        "id": "2UNfI7OsY2np"
      },
      "source": [
        "from scipy import stats "
      ],
      "execution_count": null,
      "outputs": []
    },
    {
      "cell_type": "code",
      "metadata": {
        "scrolled": true,
        "id": "x27RFaKwY2np",
        "outputId": "35175e0c-05ae-41ec-fcf0-fe5209b4369f"
      },
      "source": [
        "x1 = [12, 2, 1, 12, 2]\n",
        "x2 = [1, 4, 7, 1, 0]\n",
        "\n",
        "tau, p_value = stats.kendalltau(x1, x2)\n",
        "print(tau,p_value)\n",
        "\n",
        "stats.rankdata([5,9,10,2], method='dense')"
      ],
      "execution_count": null,
      "outputs": [
        {
          "output_type": "stream",
          "text": [
            "-0.4714045207910316 0.2827454599327748\n"
          ],
          "name": "stdout"
        },
        {
          "output_type": "execute_result",
          "data": {
            "text/plain": [
              "array([2, 3, 4, 1], dtype=int32)"
            ]
          },
          "metadata": {
            "tags": []
          },
          "execution_count": 13
        }
      ]
    },
    {
      "cell_type": "markdown",
      "metadata": {
        "id": "xqKFXgX4Y2np"
      },
      "source": [
        "This method described in above must now be implemented and linked with 3.1 Clustering phase\n",
        "\n",
        "### Implementation \n",
        "\n"
      ]
    },
    {
      "cell_type": "code",
      "metadata": {
        "id": "7Jha053VY2nq"
      },
      "source": [
        "'''\n",
        "CreateVantageEmbeddings(S,VantageObjects): Main function for creating the string embeddings based on the Vantage Objects\n",
        "'''\n",
        "def CreateVantageEmbeddings(S,VantageObjects):\n",
        "    \n",
        "    # ------- Distance computing ------- #     \n",
        "    vectors = []\n",
        "    for s in range(0,S.size):\n",
        "        string_embedding = []\n",
        "        for p in range(0,VantageObjects.size): \n",
        "            if VantageObjects[p] != None:\n",
        "                string_embedding.append(DistanceMetric(s,p,S,VantageObjects))\n",
        "            \n",
        "        # --- Ranking representation ---- #\n",
        "        ranked_string_embedding = stats.rankdata(string_embedding, method='dense')\n",
        "        \n",
        "        # ------- Vectors dataset ------- #\n",
        "        vectors.append(ranked_string_embedding)\n",
        "    \n",
        "    return np.array(vectors)\n",
        "    \n",
        "\n",
        "'''\n",
        "DistanceMetric(s,p,S,Prototypes): Implementation of equation (5)\n",
        "'''\n",
        "def DistanceMetric(s,p,S,VantageObjects):\n",
        "    \n",
        "    max_distance = None\n",
        "    \n",
        "    for pp in range(0,VantageObjects.size):\n",
        "        if VantageObjects[pp] != None:\n",
        "            string_distance = EditDistance(S[s],VantageObjects[pp])    # Edit distance String-i -> Vantage Object\n",
        "            VO_distance     = EditDistance(VantageObjects[p],VantageObjects[pp])    # Edit distance Vantage Object-j -> Vantage Object-i\n",
        "\n",
        "            abs_diff = abs(string_distance-VO_distance)\n",
        "\n",
        "            # --- Max distance diff --- #        \n",
        "            if max_distance == None:\n",
        "                max_distance = abs_diff\n",
        "            elif abs_diff > max_distance:\n",
        "                max_distance = abs_diff\n",
        "            \n",
        "    return max_distance\n",
        "\n",
        "def dropNone(array):\n",
        "    array = list(filter(None, list(array)))\n",
        "    return np.array(array)\n",
        "\n",
        "def topKPrototypes():\n",
        "    return"
      ],
      "execution_count": null,
      "outputs": []
    },
    {
      "cell_type": "code",
      "metadata": {
        "id": "VZe8rFJQY2nq",
        "outputId": "76749b80-1bc0-44dc-d80a-c4040afecbc1"
      },
      "source": [
        "# print(S_set)\n",
        "# print(S_index)\n",
        "# print(Prototypes)\n",
        "\n",
        "# dropNone(Prototypes)\n",
        "# print(Prototypes)\n",
        "# print(S_index)\n",
        "\n",
        "CreateVantageEmbeddings(S_index,Prototypes)"
      ],
      "execution_count": null,
      "outputs": [
        {
          "output_type": "execute_result",
          "data": {
            "text/plain": [
              "array([[1],\n",
              "       [1],\n",
              "       [1],\n",
              "       [1],\n",
              "       [1],\n",
              "       [1],\n",
              "       [1],\n",
              "       [1]], dtype=int32)"
            ]
          },
          "metadata": {
            "tags": []
          },
          "execution_count": 22
        }
      ]
    },
    {
      "cell_type": "markdown",
      "metadata": {
        "id": "X3KmsclgY2nq"
      },
      "source": [
        "## 3.3 A Top-k List Approach for Similarity Searching in the Vantage Space\n",
        "---\n",
        "\n",
        "\n",
        "### Abstract Algebra definitions\n",
        "\n",
        "Lets get started with groups, by taking as example the group G:\n",
        "- A group 𝐺 is a set of elements based on which a compositional law is defined that obeys certain properties.\n",
        "- The group 𝐺 is:\n",
        "    - __closed under composition__, which is associative, and \n",
        "    - it contains an __identity element__, as well as \n",
        "    - __inverses__ of all the elements in the group.\n",
        "        \n",
        "Let S(A) be the set of all permutations on $𝐴 = \\{1, 2, 3, · · · , 𝑁\\}$ which is a group with respect to the composition of mappings. \n",
        "\n",
        "- __Finite group__: If a group 𝐺 has a finite number of elements \n",
        "- __|𝐺|__: the number of elements in a group\n",
        "- $S_N$: The group __𝑆(𝐴)__ is known as the symmetric group of 𝑁 elements\n",
        "- __Subgroup of 𝐺__: A subset 𝐻 of a group 𝐺 is called a subgroup of 𝐺 if 𝐻 forms a group with respect to the same operation that is defined on 𝐺.  If 𝐻 is a subgroup of 𝐺 and 𝑎 ∈ 𝐺 then:\n",
        "    - $𝑎𝐻 = \\{𝑥 ∈ 𝐺|𝑥 = 𝑎ℎ \\textit{ for some }ℎ ∈ 𝐻\\}$ is called a __left coset__ of 𝐻 in 𝐺 while 𝐻𝑎 is called a __right coset__ of 𝐻 in 𝐺\n",
        "    - The distinct left or right cosets of a subgroup H in a group 𝐺 form a partition of G.\n",
        "\n",
        "### Hausdorff metric\n",
        "The Hausdorff distance, or Hausdorff metric, also called Pompeiu–Hausdorff distance, measures how far two subsets of a metric space are from each other. It turns the set of non-empty compact subsets of a metric space into a metric space in its own right. Informally, two sets are close in the Hausdorff distance if every point of either set is close to some point of the other set. The Hausdorff distance is the longest distance you can be forced to travel by an adversary who chooses a point in one of the two sets, from where you then must travel to the other set. In other words, it is the greatest of all the distances from a point in one set to the closest point in the other set.\n",
        "\n",
        "![](https://upload.wikimedia.org/wikipedia/commons/thumb/2/21/Hausdorff_distance_sample.svg/250px-Hausdorff_distance_sample.svg.png)\n",
        "\n",
        "<h4 align=\"center\">\n",
        "Figure 5: Components of the calculation of the Hausdorff distance between the green line X and the blue line Y\n",
        "</h4>\n",
        "\n",
        "Let $𝑆_{𝑁 −𝑘}$ be the subgroup of $𝑆_𝑁$ consisting of all permutations that leave the first 𝑘 integers fixed\n",
        "$$𝑆_{𝑁−𝑘} = \\{𝜋 ∈ 𝑆_𝑁 |𝜋(𝑖) = 𝑖 \\textit{  for all } 𝑖 = 1, · · · , 𝑘\\}$$\n",
        "\n",
        "A partition of the group $𝑆_𝑁$ can be generated then based on the subgroup $𝑆_{𝑁−𝑘}$ and the right cosets of this subgroup in $𝑆_𝑁$ . If we consider an arbitrary group 𝐺, and any subgroup 𝐾 of this group, as well as a metric 𝑑 which is defined on 𝐺, then the metric 𝑑 induces a metric $𝑑^∗$ on its coset space 𝐺/𝐾 which is called the Hausdorff metric induced by 𝑑 that measures the distance between any two right cosets $𝐾_𝜋, 𝐾_𝜎 ∈ 𝐺/𝐾$ by the formula shown in equation.\n",
        "\n",
        "$$\n",
        "𝑑^∗(𝐾𝜋, 𝐾𝜎) = max\\{ \\max_{𝛽 ∈𝐾𝜎} \\min_{𝛼 ∈ 𝐾𝜋} 𝑑(𝛼, 𝛽), \\max_{𝛼 ∈ 𝐾𝜋} \\min_{𝛽 ∈𝐾𝜎} 𝑑(𝛼, 𝛽)\\}\n",
        "$$\n",
        "\n"
      ]
    },
    {
      "cell_type": "code",
      "metadata": {
        "id": "9PWY0veOY2nq"
      },
      "source": [
        ""
      ],
      "execution_count": null,
      "outputs": []
    },
    {
      "cell_type": "markdown",
      "metadata": {
        "id": "TvTtVce4Y2nr"
      },
      "source": [
        "## 3.4 Hashing of Partially Ranked Data for Efficient Similarity Search\n",
        "\n",
        "After having demonstrated the extension of the Kendall tau distance\n",
        "metric to partially ranked data by using the induced Hausdorff\n",
        "distance, we proceed in the last step of our methodology, which\n",
        "is to incorporate a sparse embedding scheme on this metric. The\n",
        "adopted embedding scheme transforms the feature space of the\n",
        "ranked distances for its induced distance metric into integer codes\n",
        "upon which the hashing of the embedded strings will take place.\n",
        "This transformation has as a result that the computation of the\n",
        "similar pairs of strings will become as efficient computationally as\n",
        "possible, without sacrificing in return any of the recall and precision\n",
        "metrics along the way.\n",
        "\n",
        "### Winner Take All (WTA) hash\n",
        "A collection of binary coded vectors, each\n",
        "one of which corresponds to the position within a sized 𝑚 subset\n",
        "of the original ranked data vector, where the maximum rank value\n",
        "is located. More specifically, the authors propose an embedding\n",
        "to be applied to the embedded string space that is not sensitive\n",
        "to the rank values of the features themselves, but rather on the\n",
        "relative ranking of the values of these features. "
      ]
    },
    {
      "cell_type": "code",
      "metadata": {
        "id": "hhANgIOgY2nr"
      },
      "source": [
        ""
      ],
      "execution_count": null,
      "outputs": []
    },
    {
      "cell_type": "markdown",
      "metadata": {
        "id": "oJKNCDO3Y2nr"
      },
      "source": [
        "---\n",
        "---\n",
        "\n",
        "# Evaluation"
      ]
    },
    {
      "cell_type": "code",
      "metadata": {
        "id": "aVVgKih1Y2nr"
      },
      "source": [
        ""
      ],
      "execution_count": null,
      "outputs": []
    },
    {
      "cell_type": "markdown",
      "metadata": {
        "id": "V5elbnuDY2nr"
      },
      "source": [
        "---\n",
        "\n",
        "# References\n",
        "\n",
        "[1]   [The dissimilarity representation for pattern recognition, a tutorial\n",
        "Robert P.W. Duin and Elzbieta Pekalska Delft University of Technology, The Netherlands School of Computer Science, University of Manchester, United Kingdom](http://homepage.tudelft.nl/a9p19/presentations/DisRep_Tutorial_doc.pdf)"
      ]
    }
  ]
}