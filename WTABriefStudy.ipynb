{
 "cells": [
  {
   "cell_type": "markdown",
   "metadata": {},
   "source": [
    "<div align=\"center\">\n",
    " <img src=\"http://www.di.uoa.gr/themes/corporate_lite/logo_en.png\" title=\"Department of Informatics and Telecommunications - University of Athens\" align=\"center\" /> \n",
    "</div>\n",
    "\n",
    "<br>\n",
    "\n",
    "---\n",
    "\n",
    "<div align=\"center\"> \n",
    "  <font size=\"3\"><b>Machine Learning</b> </font>\n",
    "</div>\n",
    "<br>\n",
    "<div align=\"center\"> \n",
    "  <font size=\"6\">\n",
    "      <b>Winner Takes All Hash<br></b>\n",
    "    </font>\n",
    "    <br>\n",
    "    <font size=\"4\">\n",
    "        A brief study on Winner Takes All Hash algorithm, inspired by Jay Yagnik. \n",
    "    </font>\n",
    "    <br>\n",
    "    <br>\n",
    "    <font size=\"3\">\n",
    "        Original paper: \n",
    "        <a href=\"http://www.cs.toronto.edu/~dross/YagnikStrelowRossLin_ICCV2011.pdf\">\n",
    "            The Power of Comparative Reasoning <br>Jay Yagnik, Dennis Strelow, David A. Ross, Ruei-sung Lin - 2011\n",
    "        </a>\n",
    "    </font>\n",
    "</div>\n",
    "\n",
    "---\n",
    "\n",
    "<div align=\"center\"> \n",
    "    <font size=\"4\">\n",
    "         <b>Konstantinos Nikoletos, BS Student</b>\n",
    "     </font>\n",
    "</div>\n",
    "<div align=\"center\"> \n",
    "    <font size=\"2\">Athens 2021</font>\n",
    "</div>\n",
    "\n",
    "\n",
    "---"
   ]
  },
  {
   "cell_type": "markdown",
   "metadata": {},
   "source": [
    "# WTA: Basic idea"
   ]
  },
  {
   "cell_type": "markdown",
   "metadata": {},
   "source": [
    "## Rank Correlation Spaces\n",
    "\n",
    "This algorithm benefits the nature of the given embeddings. Embeddings must be rank ordered (partialy or fully). What do we mean when say rank ordered embedding or vector. Lets take an example. Assume $Y$ is our initial vector.\n",
    "$$\n",
    "Y = [4, -1.5, 2.1, 5.5, 0]\n",
    "$$\n",
    "Then the ranked ordered vector of $Y$ will be:\n",
    "$$\n",
    "Y_{rankedOrdered} = [3, 0, 2, 4, 1]\n",
    "$$\n",
    "\n",
    "And what's a __rank correlation__?\n",
    "\n",
    "Rank correlation is any of several statistics that measure an ordinal association — the relationship between rankings of different ordinal variables or different rankings of the same variable, where a \"ranking\" is the assignment of the ordering labels 1st, 2nd, 3rd, etc. to different observations of a particular variable. __Rank correlation coefficient__ measures the degree of similarity between two rankings, and can be used to assess the significance of the relation between them. Rank correlation measures are known for their stability to perturbations in\n",
    "numeric values while giving a good indication of inherent similarity / agreement between items / vectors being considered.\n",
    "\n",
    "\n",
    "__Partial order rankings__\n",
    "\n",
    "There's no need to have embeddings or vectors of full rankings. For example $Y$ is a full ranking as it has all indexes from 0 to 4. Partial rankings miss a number of that indexes. \n",
    "\n",
    "## Goal\n",
    "\n",
    "WTA algorithms goal is a feature space transformation that results in a space that is not sensitive to the absolute values of the feature dimensions but rather on the implicit ordering defined by those values. In effect the similarity between two points is defined by the degree to which their feature dimension rankings agree.\n",
    "\n",
    "## Algorithms main functionality\n",
    "\n",
    "Takes as input a set of vectors (embeddings), and for each vector:\n",
    "- Permutes with a random pemutation\n",
    "- Takes the first K components from the permuted vector\n",
    "- Finds and outputs the index of the maximum value of that components\n",
    "- Repeats for every vector in the set\n",
    "\n",
    "The maximum index is the hash code. \n"
   ]
  },
  {
   "cell_type": "markdown",
   "metadata": {},
   "source": [
    "### A simple pairwise-order measure\n",
    "\n",
    "The algorithms main point is to make a feature space transformation that benefits the most from the ordering of the vectors. In effect the similarity between two points is defined by the degree to which their feature dimension rankings agree. As an example, Yagnik's proposal is a measure like the above:\n",
    "\n",
    "__Equation 1__:\n",
    "$$\n",
    "    PO(X,Y) = \\sum_{i} \\sum_{j<i}  T((x_i − x_j ) (y_i − y_j)) \n",
    "$$\n",
    "\n",
    "where:\n",
    "- $x_i$ and $y_i$ are the i-th feature dimensions in\n",
    "- $X,Y$: ranked ordered vectors\n",
    "- $T$ is simply a threshold function\n",
    "\n",
    "Equation 1 simply measures the number of pairs of feature dimensions in X and Y that agree in ordering.\n",
    "\n"
   ]
  },
  {
   "cell_type": "markdown",
   "metadata": {},
   "source": [
    "The above PO function and the Threshold: "
   ]
  },
  {
   "cell_type": "code",
   "execution_count": 1,
   "metadata": {},
   "outputs": [],
   "source": [
    "def WTA_similarity(vector1,vector2):\n",
    "    \n",
    "    PO=0\n",
    "    for i in range(0,len(vector1),1):\n",
    "        for j in range(0,i,1):\n",
    "            ij_1 = vector1[i] - vector1[j]\n",
    "            ij_2 = vector2[i] - vector2[j]\n",
    "            PO += WTA_Threshold(ij_1*ij_2)\n",
    "            \n",
    "    return PO\n",
    "\n",
    "def WTA_Threshold(x):    \n",
    "    if x>0:\n",
    "        return 1\n",
    "    else:\n",
    "        return 0"
   ]
  },
  {
   "cell_type": "markdown",
   "metadata": {},
   "source": [
    "### Comparison with MinHash\n",
    "\n",
    "WTA is a generalization of the well-known MinHash and should enjoy the theoretical benefits of LSH schemes. MinHash is a special case of WTA when applies to binary feautures.\n"
   ]
  },
  {
   "cell_type": "markdown",
   "metadata": {},
   "source": [
    "## __Implementation code in Python__"
   ]
  },
  {
   "cell_type": "markdown",
   "metadata": {},
   "source": [
    "__Import of libraries__"
   ]
  },
  {
   "cell_type": "code",
   "execution_count": 1,
   "metadata": {},
   "outputs": [],
   "source": [
    "import numpy as np"
   ]
  },
  {
   "cell_type": "markdown",
   "metadata": {},
   "source": [
    "__Main code__"
   ]
  },
  {
   "cell_type": "code",
   "execution_count": 26,
   "metadata": {},
   "outputs": [],
   "source": [
    "'''\n",
    "@author: Konstantinos Nikoletos, 2021\n",
    "'''\n",
    "def WTA(vectors, K, numOfPermutations):\n",
    "    '''\n",
    "      Winner Take All hash - Yagnik\n",
    "      .............................\n",
    "      \n",
    "      vectors: initial vectors\n",
    "      K: window size\n",
    "      number_of_permutations: number of times each vector will be permuted  \n",
    "    '''\n",
    "    \n",
    "    newVectors = []\n",
    "    buckets = dict()\n",
    "    numOfVectors = vectors.shape[0]\n",
    "    vectorDim    = vectors.shape[1]\n",
    "\n",
    "    if vectorDim < K:\n",
    "        K = vectorDim\n",
    "        warnings.warn(\"Window size greater than vector dimension\")\n",
    "\n",
    "    C = np.zeros((numOfPermutations, numOfVectors), dtype=int)\n",
    "    i=0;\n",
    "    for permutation_index in range(0, numOfPermutations, 1):\n",
    "        \n",
    "        theta = np.random.permutation(vectorDim)      # randomization is without replacement and has to be consistent \n",
    "                                                      # across all samples and hence the notion of permutations\n",
    "\n",
    "        j=0;\n",
    "        for v_index in range(0,numOfVectors,1):\n",
    "            if permutation_index == 0:\n",
    "                X_new = permuted(vectors[v_index], theta)\n",
    "                newVectors.append(X_new)\n",
    "            else:\n",
    "                X_new = permuted(vectors[v_index], theta)\n",
    "                newVectors[v_index] = X_new\n",
    "\n",
    "            if permutation_index % 2 == 0: \n",
    "                C[i][j] = max(range(len(X_new[:K])), key=X_new[:K].__getitem__)\n",
    "            else:\n",
    "                C[i][j] = min(range(len(X_new[-K:])), key=X_new[-K:].__getitem__)\n",
    "                \n",
    "            bucketInsert(buckets, str(i)+str(j), v_index)\n",
    "            j+=1;\n",
    "        i+=1;\n",
    "\n",
    "    return C, buckets, np.array(newVectors, dtype=np.intp)\n",
    "\n",
    "\n",
    "def permuted(vector,permutation):\n",
    "    permuted_vector = [vector[x] for x in permutation]\n",
    "    return permuted_vector\n",
    "\n",
    "\n",
    "def bucketInsert(buckets, hashCode, value):\n",
    "    if hashCode not in buckets.keys():\n",
    "        buckets[hashCode] = set()\n",
    "    buckets[hashCode].add(value)\n",
    "    return buckets"
   ]
  },
  {
   "cell_type": "markdown",
   "metadata": {},
   "source": [
    "## Example and Remarks"
   ]
  },
  {
   "cell_type": "markdown",
   "metadata": {},
   "source": [
    "### Example (same with paper)\n",
    "\n",
    "An example with 6-dimensional input vectors, \n",
    "- K = 4, and \n",
    "- θ = (1, 4, 2, 5, 0, 3). \n",
    "\n",
    "X in (a) and (b) are unrelated and result in different output codes, 1 and 2 respectively.\n",
    "X in (c) is a scaled and offset version of (a) and results in\n",
    "the same code as (a). X in (d) has each element perturbed\n",
    "by 1 which results in a different ranking of the elements,\n",
    "but the maximum of the first K elements is the same, again\n",
    "resulting in the same code.\n"
   ]
  },
  {
   "cell_type": "code",
   "execution_count": 18,
   "metadata": {},
   "outputs": [
    {
     "data": {
      "text/plain": [
       "array([[10,  5,  2,  6, 12,  3],\n",
       "       [ 4,  5, 10,  3,  2,  1],\n",
       "       [22, 12,  6, 14, 26,  8],\n",
       "       [11,  4,  3,  7, 13,  2]])"
      ]
     },
     "execution_count": 18,
     "metadata": {},
     "output_type": "execute_result"
    }
   ],
   "source": [
    "a = [10,5,2,6,12,3]\n",
    "b = [4,5,10,3,2,1]\n",
    "c = [22,12,6,14,26,8]\n",
    "d = [11,4,3,7,13,2]\n",
    "\n",
    "vectors = np.array([a,b,c,d])\n",
    "vectors"
   ]
  },
  {
   "cell_type": "code",
   "execution_count": 27,
   "metadata": {},
   "outputs": [],
   "source": [
    "K = 4\n",
    "number_of_permutations = 2\n",
    "\n",
    "C, buckets, newVectors = WTA(vectors, K, number_of_permutations)"
   ]
  },
  {
   "cell_type": "code",
   "execution_count": 28,
   "metadata": {},
   "outputs": [
    {
     "data": {
      "text/plain": [
       "array([[1, 0, 1, 1],\n",
       "       [0, 3, 0, 0]])"
      ]
     },
     "execution_count": 28,
     "metadata": {},
     "output_type": "execute_result"
    }
   ],
   "source": [
    "C"
   ]
  },
  {
   "cell_type": "code",
   "execution_count": 25,
   "metadata": {},
   "outputs": [
    {
     "data": {
      "text/plain": [
       "{'00': {0},\n",
       " '01': {1},\n",
       " '02': {2},\n",
       " '03': {3},\n",
       " '10': {0},\n",
       " '11': {1},\n",
       " '12': {2},\n",
       " '13': {3}}"
      ]
     },
     "execution_count": 25,
     "metadata": {},
     "output_type": "execute_result"
    }
   ],
   "source": [
    "buckets"
   ]
  },
  {
   "cell_type": "code",
   "execution_count": 8,
   "metadata": {},
   "outputs": [
    {
     "data": {
      "text/plain": [
       "array([[ 6, 12,  2, 10,  3,  5],\n",
       "       [ 3,  2, 10,  4,  1,  5],\n",
       "       [14, 26,  6, 22,  8, 12],\n",
       "       [ 7, 13,  3, 11,  2,  4]], dtype=int64)"
      ]
     },
     "execution_count": 8,
     "metadata": {},
     "output_type": "execute_result"
    }
   ],
   "source": [
    "newVectors"
   ]
  },
  {
   "cell_type": "markdown",
   "metadata": {},
   "source": [
    "### Pairwise agreement of a,b,c,d"
   ]
  },
  {
   "cell_type": "code",
   "execution_count": 9,
   "metadata": {},
   "outputs": [
    {
     "name": "stdout",
     "output_type": "stream",
     "text": [
      "Similarity on X: \n",
      "WTA_similarity(a,b) =  5\n",
      "WTA_similarity(a,c) =  15\n",
      "WTA_similarity(a,d) =  14\n",
      "\n",
      "\n",
      "\n",
      "Similarity on X': \n",
      "WTA_similarity(a,b) =  5\n",
      "WTA_similarity(a,c) =  15\n",
      "WTA_similarity(a,d) =  14\n",
      "\n",
      "\n",
      "\n",
      "Similarity on X'[:K]: \n",
      "WTA_similarity(a,b) =  2\n",
      "WTA_similarity(a,c) =  6\n",
      "WTA_similarity(a,d) =  5\n"
     ]
    }
   ],
   "source": [
    "print(\"Similarity on X: \")\n",
    "print(\"WTA_similarity(a,b) = \",WTA_similarity(a,b))\n",
    "print(\"WTA_similarity(a,c) = \",WTA_similarity(a,c))\n",
    "print(\"WTA_similarity(a,d) = \",WTA_similarity(a,d))\n",
    "print(\"\\n\\n\")\n",
    "print(\"Similarity on X': \")\n",
    "print(\"WTA_similarity(a,b) = \",WTA_similarity(newVectors[0],newVectors[1]))\n",
    "print(\"WTA_similarity(a,c) = \",WTA_similarity(newVectors[0],newVectors[2]))\n",
    "print(\"WTA_similarity(a,d) = \",WTA_similarity(newVectors[0],newVectors[3]))\n",
    "print(\"\\n\\n\")\n",
    "print(\"Similarity on X'[:K]: \")\n",
    "print(\"WTA_similarity(a,b) = \",WTA_similarity(newVectors[0][:K],newVectors[1][:K]))\n",
    "print(\"WTA_similarity(a,c) = \",WTA_similarity(newVectors[0][:K],newVectors[2][:K]))\n",
    "print(\"WTA_similarity(a,d) = \",WTA_similarity(newVectors[0][:K],newVectors[3][:K]))"
   ]
  },
  {
   "cell_type": "markdown",
   "metadata": {},
   "source": [
    "### Kendal Tau similarity"
   ]
  },
  {
   "cell_type": "code",
   "execution_count": 10,
   "metadata": {},
   "outputs": [],
   "source": [
    "from scipy.stats import kendalltau"
   ]
  },
  {
   "cell_type": "markdown",
   "metadata": {},
   "source": [
    "Similarity based on Kendal Tau for the initial vectors ($X$)"
   ]
  },
  {
   "cell_type": "code",
   "execution_count": 11,
   "metadata": {},
   "outputs": [
    {
     "name": "stdout",
     "output_type": "stream",
     "text": [
      "kendalltau(a,b) =  -0.3333333333333333\n",
      "kendalltau(a,c) =  0.9999999999999999\n",
      "kendalltau(a,d) =  0.8666666666666666\n"
     ]
    }
   ],
   "source": [
    "similarity_prob, p_value = kendalltau(a,b)\n",
    "print(\"kendalltau(a,b) = \", similarity_prob)\n",
    "similarity_prob, p_value = kendalltau(a,c)\n",
    "print(\"kendalltau(a,c) = \", similarity_prob)\n",
    "similarity_prob, p_value = kendalltau(a,d)\n",
    "print(\"kendalltau(a,d) = \", similarity_prob)"
   ]
  },
  {
   "cell_type": "markdown",
   "metadata": {},
   "source": [
    "Similarity based on Kendal Tau for the permuted vectors ($X'$)"
   ]
  },
  {
   "cell_type": "code",
   "execution_count": 12,
   "metadata": {},
   "outputs": [
    {
     "name": "stdout",
     "output_type": "stream",
     "text": [
      "a,b similarity:  -0.3333333333333333\n",
      "a,c similarity:  0.9999999999999999\n",
      "a,d similarity:  0.8666666666666666\n"
     ]
    }
   ],
   "source": [
    "similarity_prob, p_value = kendalltau(newVectors[0],newVectors[1])\n",
    "print(\"a,b similarity: \", similarity_prob)\n",
    "similarity_prob, p_value = kendalltau(newVectors[0],newVectors[2])\n",
    "print(\"a,c similarity: \", similarity_prob)\n",
    "similarity_prob, p_value = kendalltau(newVectors[0],newVectors[3])\n",
    "print(\"a,d similarity: \", similarity_prob)"
   ]
  },
  {
   "cell_type": "code",
   "execution_count": 13,
   "metadata": {},
   "outputs": [
    {
     "name": "stdout",
     "output_type": "stream",
     "text": [
      "a,b similarity:  -0.3333333333333334\n",
      "a,c similarity:  1.0\n",
      "a,d similarity:  0.6666666666666669\n"
     ]
    }
   ],
   "source": [
    "similarity_prob, p_value = kendalltau(newVectors[0][:K],newVectors[1][:K])\n",
    "print(\"a,b similarity: \", similarity_prob)\n",
    "similarity_prob, p_value = kendalltau(newVectors[0][:K],newVectors[2][:K])\n",
    "print(\"a,c similarity: \", similarity_prob)\n",
    "similarity_prob, p_value = kendalltau(newVectors[0][:K],newVectors[3][:K])\n",
    "print(\"a,d similarity: \", similarity_prob)"
   ]
  },
  {
   "cell_type": "markdown",
   "metadata": {},
   "source": [
    "# m-WTA: Not one Winner but m-Winners\n",
    "\n",
    "Instead of taking the index of the biggest value, I propose to take indexes of the m-biggest values as a set. Buckets hash codes in this way will be sets of hash codes that is not affected by the ranking order between them. For m=1 it's the initial-previous algorithm of WTA.\n"
   ]
  },
  {
   "cell_type": "code",
   "execution_count": 97,
   "metadata": {},
   "outputs": [],
   "source": [
    "import functools\n",
    "import operator\n",
    "\n",
    "class mWTA:\n",
    "    \n",
    "    def __init__(self, K, number_of_permutations, m):\n",
    "        \n",
    "        self.K = K\n",
    "        self.number_of_permutations = number_of_permutations\n",
    "        self.m = m\n",
    "        \n",
    "    \n",
    "    def fit(self, vectors):\n",
    "        '''\n",
    "          Winner Take All hash - Yagnik\n",
    "          .............................\n",
    "\n",
    "          vectors: initial vectors\n",
    "          K: window size\n",
    "          number_of_permutations: number of times each vector will be permuted  \n",
    "        '''\n",
    "\n",
    "        newVectors = []\n",
    "        buckets = dict()\n",
    "\n",
    "        numOfVectors = vectors.shape[0]\n",
    "        vectorDim    = vectors.shape[1]\n",
    "\n",
    "        if vectorDim < self.K:\n",
    "            self.K = vectorDim\n",
    "            warnings.warn(\"Window size greater than vector dimension\")\n",
    "\n",
    "        C = np.empty([numOfVectors,number_of_permutations], dtype=np.object)\n",
    "\n",
    "        permutation_dimension = vectorDim\n",
    "        for permutation_index in range(0,number_of_permutations,1):\n",
    "\n",
    "            # randomization is without replacement and has to be consistent \n",
    "            # across all samples and hence the notion of permutations\n",
    "            theta = np.random.permutation(permutation_dimension) \n",
    "\n",
    "            i=0;j=0;\n",
    "            for v_index in range(0,numOfVectors,1):\n",
    "                if permutation_index == 0:\n",
    "                    X_new = self.permuted(vectors[v_index],theta)\n",
    "                    newVectors.append(X_new)\n",
    "                else:\n",
    "                    X_new = permuted(vectors[v_index],theta)\n",
    "                    newVectors[v_index] = X_new\n",
    "\n",
    "                C[i][permutation_index] = np.argsort(X_new[:self.K])[-self.m:].tolist()\n",
    "                i+=1\n",
    "\n",
    "            \n",
    "        for c, i in zip(C, range(0, numOfVectors, 1)):\n",
    "            buckets = self.bucketInsert(buckets, frozenset(c[0]), i)\n",
    "\n",
    "        return C, buckets, np.array(newVectors,dtype=np.intp)\n",
    "\n",
    "    def permuted(self, vector, permutation):\n",
    "        permuted_vector = [vector[x] for x in permutation]\n",
    "\n",
    "        return permuted_vector\n",
    "\n",
    "    def bucketInsert(self, buckets, bucket_id, item):\n",
    "        if bucket_id not in buckets.keys():\n",
    "            buckets[bucket_id] = []\n",
    "\n",
    "        buckets[bucket_id].append(item)\n",
    "\n",
    "        return buckets"
   ]
  },
  {
   "cell_type": "code",
   "execution_count": 98,
   "metadata": {},
   "outputs": [],
   "source": [
    "K = 4\n",
    "number_of_permutations = 1\n",
    "m = 2\n",
    "\n",
    "mWta = mWTA(K, number_of_permutations, m)\n",
    "C,buckets,newVectors = mWta.fit(vectors)"
   ]
  },
  {
   "cell_type": "code",
   "execution_count": 95,
   "metadata": {},
   "outputs": [
    {
     "data": {
      "text/plain": [
       "array([[list([1, 0])],\n",
       "       [list([2, 3])],\n",
       "       [list([1, 0])],\n",
       "       [list([1, 0])]], dtype=object)"
      ]
     },
     "execution_count": 95,
     "metadata": {},
     "output_type": "execute_result"
    }
   ],
   "source": [
    "C"
   ]
  },
  {
   "cell_type": "markdown",
   "metadata": {},
   "source": [
    "# MinHash"
   ]
  },
  {
   "cell_type": "code",
   "execution_count": null,
   "metadata": {},
   "outputs": [],
   "source": []
  },
  {
   "cell_type": "markdown",
   "metadata": {},
   "source": [
    "# Overall Remarks\n",
    "\n",
    "\n",
    "## Advantages\n",
    "\n",
    "1. Very fast hashing method. For example, consider using it in a classification problem.\n",
    "2. No need of trainning\n",
    "\n",
    "## Disadvantages\n",
    "\n",
    "1. Only applied to ranked vectors\n"
   ]
  },
  {
   "cell_type": "markdown",
   "metadata": {},
   "source": [
    "# References\n",
    "\n",
    "1.   [The Power of Comparative Reasoning Jay Yagnik, Dennis Strelow, David A. Ross, Ruei-sung Lin](http://www.cs.toronto.edu/~dross/YagnikStrelowRossLin_ICCV2011.pdf)\n",
    "2.   [Rank correlation](https://en.wikipedia.org/wiki/Rank_correlation)"
   ]
  }
 ],
 "metadata": {
  "kernelspec": {
   "display_name": "Python 3",
   "language": "python",
   "name": "python3"
  },
  "language_info": {
   "codemirror_mode": {
    "name": "ipython",
    "version": 3
   },
   "file_extension": ".py",
   "mimetype": "text/x-python",
   "name": "python",
   "nbconvert_exporter": "python",
   "pygments_lexer": "ipython3",
   "version": "3.7.6"
  },
  "toc-autonumbering": false,
  "toc-showcode": false,
  "toc-showmarkdowntxt": false,
  "toc-showtags": false
 },
 "nbformat": 4,
 "nbformat_minor": 4
}
