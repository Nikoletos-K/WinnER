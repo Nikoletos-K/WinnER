{
 "cells": [
  {
   "cell_type": "markdown",
   "metadata": {},
   "source": [
    "<div align=\"center\">\n",
    " <img src=\"http://www.di.uoa.gr/themes/corporate_lite/logo_en.png\" title=\"Department of Informatics and Telecommunications - University of Athens\" align=\"center\" /> \n",
    "</div>\n",
    "\n",
    "<br>\n",
    "\n",
    "---\n",
    "\n",
    "<div align=\"center\"> \n",
    "  <font size=\"4\"><b>Bachelor Thesis</b> </font>\n",
    "</div>\n",
    "<br>\n",
    "<div align=\"center\"> \n",
    "  <font size=\"5\">\n",
    "      <b>Entity Resolution in Dissimilarity Spaces  <br></b> \n",
    "    </font>\n",
    "     <br>\n",
    "     <font size=\"3\">\n",
    "        Implementation notebook     \n",
    "    </font>\n",
    "</div>\n",
    "\n",
    "---\n",
    "\n",
    "<div align=\"center\"> \n",
    "    <font size=\"4\">\n",
    "         <b>Konstantinos Nikoletos, BS Student</b>\n",
    "     </font>\n",
    "</div>\n",
    "<br>\n",
    "<div align=\"center\"> \n",
    "    <font size=\"4\">\n",
    "     <b> Dr. Alex Delis</b>,  Professor NKUA <br> \n",
    "     <b> Dr. Vassilis Verikios</b>, Professor Hellenic Open University\n",
    "    </font>\n",
    "</div>\n",
    "<br>\n",
    "<div align=\"center\"> \n",
    "    <font size=\"2\">Athens</font>\n",
    "</div>\n",
    "<div align=\"center\"> \n",
    "    <font size=\"2\">January 2021 - Ongoing</font>\n",
    "</div>\n",
    "\n",
    "\n",
    "---"
   ]
  },
  {
   "cell_type": "markdown",
   "metadata": {},
   "source": [
    "# __Implementation__"
   ]
  },
  {
   "cell_type": "markdown",
   "metadata": {},
   "source": [
    "## __Install components__"
   ]
  },
  {
   "cell_type": "code",
   "execution_count": null,
   "metadata": {},
   "outputs": [],
   "source": [
    "!pip install editdistance\n",
    "!pip install pandas_read_xml\n",
    "!pip install requests\n",
    "!pip install python-igraph"
   ]
  },
  {
   "cell_type": "markdown",
   "metadata": {},
   "source": [
    "## __Import libraries__"
   ]
  },
  {
   "cell_type": "code",
   "execution_count": 1,
   "metadata": {
    "tags": []
   },
   "outputs": [],
   "source": [
    "import pandas as pd\n",
    "import numpy as np\n",
    "import collections\n",
    "import editdistance\n",
    "import string\n",
    "import sklearn\n",
    "import pandas_read_xml as pdx\n",
    "import time\n",
    "import warnings\n",
    "import sys\n",
    "import matplotlib.pyplot as plt\n",
    "import seaborn as sns\n",
    "import nltk\n",
    "import math\n",
    "import os\n",
    "import scipy.special as special\n",
    "import igraph\n",
    "import networkx as nx\n",
    "\n",
    "from tqdm.notebook import tqdm as tqdm\n",
    "from scipy.spatial.distance import directed_hausdorff,hamming\n",
    "from scipy.stats._stats import _kendall_dis\n",
    "from scipy.stats import spearmanr,kendalltau,pearsonr,kruskal,mannwhitneyu\n",
    "from sklearn.metrics.pairwise import cosine_similarity\n",
    "from nltk.metrics.distance import jaro_similarity,jaro_winkler_similarity,jaccard_distance\n",
    "from sklearn.metrics import jaccard_score,accuracy_score,auc,f1_score,recall_score,precision_score,classification_report\n",
    "from scipy.sparse import csr_matrix\n",
    "from scipy import sparse\n",
    "from scipy import stats \n",
    "from scipy.spatial.distance import euclidean,hamming,jaccard\n",
    "from matplotlib.patches import Rectangle\n",
    "from sklearn.metrics import ndcg_score\n",
    "from datetime import datetime\n",
    "from sklearn.decomposition import PCA \n",
    "from numpy.linalg import svd\n",
    "\n",
    "import itertools \n",
    "import sklearn\n",
    "\n",
    "plt.style.use('seaborn-white') # plot style"
   ]
  },
  {
   "cell_type": "code",
   "execution_count": 2,
   "metadata": {},
   "outputs": [],
   "source": [
    "%load_ext autoreload\n",
    "%autoreload 2"
   ]
  },
  {
   "cell_type": "markdown",
   "metadata": {},
   "source": [
    "## __Model__"
   ]
  },
  {
   "cell_type": "code",
   "execution_count": 33,
   "metadata": {},
   "outputs": [],
   "source": [
    "from model import RankedWTAHash, evaluate, customClassificationReport, report"
   ]
  },
  {
   "cell_type": "markdown",
   "metadata": {},
   "source": [
    "\n",
    "# __Evaluation__"
   ]
  },
  {
   "cell_type": "markdown",
   "metadata": {
    "tags": []
   },
   "source": [
    "## Load data from Drive in Colab"
   ]
  },
  {
   "cell_type": "code",
   "execution_count": 4,
   "metadata": {
    "jupyter": {
     "source_hidden": true
    },
    "tags": []
   },
   "outputs": [],
   "source": [
    "# # Opening data file\n",
    "# import io\n",
    "# from google.colab import drive\n",
    "\n",
    "# drive.mount('/content/drive',force_remount=True)\n",
    "\n",
    "# fpcora = r\"/content/drive/My Drive/ERinDS/CORA.xml\"\n",
    "# fpcora_gold = r\"/content/drive/My Drive/ERinDS/cora_gold.csv\""
   ]
  },
  {
   "cell_type": "markdown",
   "metadata": {},
   "source": [
    "## Load data from disk for Jupyter"
   ]
  },
  {
   "cell_type": "markdown",
   "metadata": {},
   "source": [
    "### JedAI Dirty datasets"
   ]
  },
  {
   "cell_type": "markdown",
   "metadata": {},
   "source": [
    "#### CORA"
   ]
  },
  {
   "cell_type": "code",
   "execution_count": 5,
   "metadata": {},
   "outputs": [
    {
     "data": {
      "text/html": [
       "<div>\n",
       "<style scoped>\n",
       "    .dataframe tbody tr th:only-of-type {\n",
       "        vertical-align: middle;\n",
       "    }\n",
       "\n",
       "    .dataframe tbody tr th {\n",
       "        vertical-align: top;\n",
       "    }\n",
       "\n",
       "    .dataframe thead th {\n",
       "        text-align: right;\n",
       "    }\n",
       "</style>\n",
       "<table border=\"1\" class=\"dataframe\">\n",
       "  <thead>\n",
       "    <tr style=\"text-align: right;\">\n",
       "      <th></th>\n",
       "      <th>Entity Id</th>\n",
       "      <th>address</th>\n",
       "      <th>author</th>\n",
       "      <th>editor</th>\n",
       "      <th>institution</th>\n",
       "      <th>month</th>\n",
       "      <th>note</th>\n",
       "      <th>pages</th>\n",
       "      <th>publisher</th>\n",
       "      <th>title</th>\n",
       "      <th>venue</th>\n",
       "      <th>volume</th>\n",
       "      <th>year</th>\n",
       "      <th>Unnamed: 13</th>\n",
       "    </tr>\n",
       "  </thead>\n",
       "  <tbody>\n",
       "    <tr>\n",
       "      <th>0</th>\n",
       "      <td>0</td>\n",
       "      <td>los alamitos, ca:</td>\n",
       "      <td>p. auer, n. cesa-bianchi, y. freund, and r. e....</td>\n",
       "      <td>NaN</td>\n",
       "      <td>NaN</td>\n",
       "      <td>NaN</td>\n",
       "      <td>NaN</td>\n",
       "      <td>pp. 322-331.</td>\n",
       "      <td>ieee computer society press,</td>\n",
       "      <td>'gambling in a rigged casino: the adversarial ...</td>\n",
       "      <td>in proc. 36th annual symposium on foundations ...</td>\n",
       "      <td>NaN</td>\n",
       "      <td>1995,</td>\n",
       "      <td>NaN</td>\n",
       "    </tr>\n",
       "    <tr>\n",
       "      <th>1</th>\n",
       "      <td>1</td>\n",
       "      <td>NaN</td>\n",
       "      <td>a. blum, m. furst, m. j. kearns, and richard j...</td>\n",
       "      <td>NaN</td>\n",
       "      <td>NaN</td>\n",
       "      <td>NaN</td>\n",
       "      <td>NaN</td>\n",
       "      <td>pages 24.1-24.10,</td>\n",
       "      <td>NaN</td>\n",
       "      <td>cryptographic primitives based on hard learnin...</td>\n",
       "      <td>in pre-proceedings of crypto '93,</td>\n",
       "      <td>NaN</td>\n",
       "      <td>1993.</td>\n",
       "      <td>NaN</td>\n",
       "    </tr>\n",
       "    <tr>\n",
       "      <th>2</th>\n",
       "      <td>2</td>\n",
       "      <td>NaN</td>\n",
       "      <td>avrim blum, merrick furst, michael kearns, and...</td>\n",
       "      <td>NaN</td>\n",
       "      <td>NaN</td>\n",
       "      <td>NaN</td>\n",
       "      <td>NaN</td>\n",
       "      <td>pages 24.1-24.10,</td>\n",
       "      <td>NaN</td>\n",
       "      <td>cryptographic primitives based on hard learnin...</td>\n",
       "      <td>in pre-proceedings of crypto '93,</td>\n",
       "      <td>NaN</td>\n",
       "      <td>1993.</td>\n",
       "      <td>NaN</td>\n",
       "    </tr>\n",
       "    <tr>\n",
       "      <th>3</th>\n",
       "      <td>3</td>\n",
       "      <td>NaN</td>\n",
       "      <td>avrim blum, merrick furst, michael kearns, and...</td>\n",
       "      <td>in douglas r. stinson, editor,</td>\n",
       "      <td>NaN</td>\n",
       "      <td>NaN</td>\n",
       "      <td>lecture notes in computer science no. 773.</td>\n",
       "      <td>pages 278-291.</td>\n",
       "      <td>springer,</td>\n",
       "      <td>cryptographic primitives based on hard learnin...</td>\n",
       "      <td>proc. crypto 93,</td>\n",
       "      <td>NaN</td>\n",
       "      <td>1994.</td>\n",
       "      <td>NaN</td>\n",
       "    </tr>\n",
       "    <tr>\n",
       "      <th>4</th>\n",
       "      <td>4</td>\n",
       "      <td>NaN</td>\n",
       "      <td>a. blum, m. furst, m. kearns, r. lipton.</td>\n",
       "      <td>NaN</td>\n",
       "      <td>NaN</td>\n",
       "      <td>NaN</td>\n",
       "      <td>NaN</td>\n",
       "      <td>NaN</td>\n",
       "      <td>NaN</td>\n",
       "      <td>cryptographic primitives based on hard learnin...</td>\n",
       "      <td>crypto,</td>\n",
       "      <td>NaN</td>\n",
       "      <td>1993.</td>\n",
       "      <td>NaN</td>\n",
       "    </tr>\n",
       "    <tr>\n",
       "      <th>...</th>\n",
       "      <td>...</td>\n",
       "      <td>...</td>\n",
       "      <td>...</td>\n",
       "      <td>...</td>\n",
       "      <td>...</td>\n",
       "      <td>...</td>\n",
       "      <td>...</td>\n",
       "      <td>...</td>\n",
       "      <td>...</td>\n",
       "      <td>...</td>\n",
       "      <td>...</td>\n",
       "      <td>...</td>\n",
       "      <td>...</td>\n",
       "      <td>...</td>\n",
       "    </tr>\n",
       "    <tr>\n",
       "      <th>1290</th>\n",
       "      <td>1290</td>\n",
       "      <td>NaN</td>\n",
       "      <td>robert e. schapire and yoram singer.</td>\n",
       "      <td>NaN</td>\n",
       "      <td>NaN</td>\n",
       "      <td>NaN</td>\n",
       "      <td>NaN</td>\n",
       "      <td>NaN</td>\n",
       "      <td>NaN</td>\n",
       "      <td>improved boosting algorithms using confidence-...</td>\n",
       "      <td>in proceedings of the eleventh annual conferen...</td>\n",
       "      <td>NaN</td>\n",
       "      <td>1998.</td>\n",
       "      <td>NaN</td>\n",
       "    </tr>\n",
       "    <tr>\n",
       "      <th>1291</th>\n",
       "      <td>1291</td>\n",
       "      <td>NaN</td>\n",
       "      <td>schapire, r. e., freund, y., bartlett, p., &amp; l...</td>\n",
       "      <td>NaN</td>\n",
       "      <td>NaN</td>\n",
       "      <td>NaN</td>\n",
       "      <td>annals of statistics (to appear).</td>\n",
       "      <td>NaN</td>\n",
       "      <td>NaN</td>\n",
       "      <td>boosting the margin: a new explanation for the...</td>\n",
       "      <td>NaN</td>\n",
       "      <td>NaN</td>\n",
       "      <td>(1998).</td>\n",
       "      <td>NaN</td>\n",
       "    </tr>\n",
       "    <tr>\n",
       "      <th>1292</th>\n",
       "      <td>1292</td>\n",
       "      <td>NaN</td>\n",
       "      <td>robert e. schapire and yoram singer. boostexter:</td>\n",
       "      <td>NaN</td>\n",
       "      <td>NaN</td>\n",
       "      <td>NaN</td>\n",
       "      <td>NaN</td>\n",
       "      <td>NaN</td>\n",
       "      <td>NaN</td>\n",
       "      <td>a system for multiclass multi-label text categ...</td>\n",
       "      <td>unpublished manuscript,</td>\n",
       "      <td>NaN</td>\n",
       "      <td>1998.</td>\n",
       "      <td>NaN</td>\n",
       "    </tr>\n",
       "    <tr>\n",
       "      <th>1293</th>\n",
       "      <td>1293</td>\n",
       "      <td>NaN</td>\n",
       "      <td>robert e. schapire yoram singer.</td>\n",
       "      <td>NaN</td>\n",
       "      <td>NaN</td>\n",
       "      <td>NaN</td>\n",
       "      <td>submitted for publication. 17</td>\n",
       "      <td>NaN</td>\n",
       "      <td>NaN</td>\n",
       "      <td>improved boosting algorithms using confidence-...</td>\n",
       "      <td>NaN</td>\n",
       "      <td>NaN</td>\n",
       "      <td>NaN</td>\n",
       "      <td>NaN</td>\n",
       "    </tr>\n",
       "    <tr>\n",
       "      <th>1294</th>\n",
       "      <td>1294</td>\n",
       "      <td>NaN</td>\n",
       "      <td>robert e. schapire yoram singer.</td>\n",
       "      <td>NaN</td>\n",
       "      <td>NaN</td>\n",
       "      <td>NaN</td>\n",
       "      <td>submitted for publication.</td>\n",
       "      <td>NaN</td>\n",
       "      <td>NaN</td>\n",
       "      <td>improved boosting algorithms using confidence-...</td>\n",
       "      <td>NaN</td>\n",
       "      <td>NaN</td>\n",
       "      <td>NaN</td>\n",
       "      <td>NaN</td>\n",
       "    </tr>\n",
       "  </tbody>\n",
       "</table>\n",
       "<p>1295 rows × 14 columns</p>\n",
       "</div>"
      ],
      "text/plain": [
       "      Entity Id            address  \\\n",
       "0             0  los alamitos, ca:   \n",
       "1             1                NaN   \n",
       "2             2                NaN   \n",
       "3             3                NaN   \n",
       "4             4                NaN   \n",
       "...         ...                ...   \n",
       "1290       1290                NaN   \n",
       "1291       1291                NaN   \n",
       "1292       1292                NaN   \n",
       "1293       1293                NaN   \n",
       "1294       1294                NaN   \n",
       "\n",
       "                                                 author  \\\n",
       "0     p. auer, n. cesa-bianchi, y. freund, and r. e....   \n",
       "1     a. blum, m. furst, m. j. kearns, and richard j...   \n",
       "2     avrim blum, merrick furst, michael kearns, and...   \n",
       "3     avrim blum, merrick furst, michael kearns, and...   \n",
       "4              a. blum, m. furst, m. kearns, r. lipton.   \n",
       "...                                                 ...   \n",
       "1290               robert e. schapire and yoram singer.   \n",
       "1291  schapire, r. e., freund, y., bartlett, p., & l...   \n",
       "1292   robert e. schapire and yoram singer. boostexter:   \n",
       "1293                   robert e. schapire yoram singer.   \n",
       "1294                   robert e. schapire yoram singer.   \n",
       "\n",
       "                              editor institution month  \\\n",
       "0                                NaN         NaN   NaN   \n",
       "1                                NaN         NaN   NaN   \n",
       "2                                NaN         NaN   NaN   \n",
       "3     in douglas r. stinson, editor,         NaN   NaN   \n",
       "4                                NaN         NaN   NaN   \n",
       "...                              ...         ...   ...   \n",
       "1290                             NaN         NaN   NaN   \n",
       "1291                             NaN         NaN   NaN   \n",
       "1292                             NaN         NaN   NaN   \n",
       "1293                             NaN         NaN   NaN   \n",
       "1294                             NaN         NaN   NaN   \n",
       "\n",
       "                                            note              pages  \\\n",
       "0                                            NaN       pp. 322-331.   \n",
       "1                                            NaN  pages 24.1-24.10,   \n",
       "2                                            NaN  pages 24.1-24.10,   \n",
       "3     lecture notes in computer science no. 773.     pages 278-291.   \n",
       "4                                            NaN                NaN   \n",
       "...                                          ...                ...   \n",
       "1290                                         NaN                NaN   \n",
       "1291           annals of statistics (to appear).                NaN   \n",
       "1292                                         NaN                NaN   \n",
       "1293               submitted for publication. 17                NaN   \n",
       "1294                  submitted for publication.                NaN   \n",
       "\n",
       "                         publisher  \\\n",
       "0     ieee computer society press,   \n",
       "1                              NaN   \n",
       "2                              NaN   \n",
       "3                        springer,   \n",
       "4                              NaN   \n",
       "...                            ...   \n",
       "1290                           NaN   \n",
       "1291                           NaN   \n",
       "1292                           NaN   \n",
       "1293                           NaN   \n",
       "1294                           NaN   \n",
       "\n",
       "                                                  title  \\\n",
       "0     'gambling in a rigged casino: the adversarial ...   \n",
       "1     cryptographic primitives based on hard learnin...   \n",
       "2     cryptographic primitives based on hard learnin...   \n",
       "3     cryptographic primitives based on hard learnin...   \n",
       "4     cryptographic primitives based on hard learnin...   \n",
       "...                                                 ...   \n",
       "1290  improved boosting algorithms using confidence-...   \n",
       "1291  boosting the margin: a new explanation for the...   \n",
       "1292  a system for multiclass multi-label text categ...   \n",
       "1293  improved boosting algorithms using confidence-...   \n",
       "1294  improved boosting algorithms using confidence-...   \n",
       "\n",
       "                                                  venue volume     year  \\\n",
       "0     in proc. 36th annual symposium on foundations ...    NaN    1995,   \n",
       "1                     in pre-proceedings of crypto '93,    NaN    1993.   \n",
       "2                     in pre-proceedings of crypto '93,    NaN    1993.   \n",
       "3                                      proc. crypto 93,    NaN    1994.   \n",
       "4                                               crypto,    NaN    1993.   \n",
       "...                                                 ...    ...      ...   \n",
       "1290  in proceedings of the eleventh annual conferen...    NaN    1998.   \n",
       "1291                                                NaN    NaN  (1998).   \n",
       "1292                            unpublished manuscript,    NaN    1998.   \n",
       "1293                                                NaN    NaN      NaN   \n",
       "1294                                                NaN    NaN      NaN   \n",
       "\n",
       "      Unnamed: 13  \n",
       "0             NaN  \n",
       "1             NaN  \n",
       "2             NaN  \n",
       "3             NaN  \n",
       "4             NaN  \n",
       "...           ...  \n",
       "1290          NaN  \n",
       "1291          NaN  \n",
       "1292          NaN  \n",
       "1293          NaN  \n",
       "1294          NaN  \n",
       "\n",
       "[1295 rows x 14 columns]"
      ]
     },
     "execution_count": 5,
     "metadata": {},
     "output_type": "execute_result"
    }
   ],
   "source": [
    "CORA_groundTruth = os.path.abspath(\"../data/coraIdDuplicates.csv\")\n",
    "CORA = os.path.abspath(\"../data/coraProfiles.csv\")\n",
    "CORA_groundTruth = pd.read_csv(CORA_groundTruth,sep='|',header=None,names=['id1','id2'])\n",
    "CORA_groundTruth=CORA_groundTruth.sort_values(by=['id1','id2'],ignore_index=True)\n",
    "CORA = pd.read_csv(CORA,sep='|')\n",
    "CORA"
   ]
  },
  {
   "cell_type": "code",
   "execution_count": 6,
   "metadata": {},
   "outputs": [
    {
     "data": {
      "text/html": [
       "<div>\n",
       "<style scoped>\n",
       "    .dataframe tbody tr th:only-of-type {\n",
       "        vertical-align: middle;\n",
       "    }\n",
       "\n",
       "    .dataframe tbody tr th {\n",
       "        vertical-align: top;\n",
       "    }\n",
       "\n",
       "    .dataframe thead th {\n",
       "        text-align: right;\n",
       "    }\n",
       "</style>\n",
       "<table border=\"1\" class=\"dataframe\">\n",
       "  <thead>\n",
       "    <tr style=\"text-align: right;\">\n",
       "      <th></th>\n",
       "      <th>id1</th>\n",
       "      <th>id2</th>\n",
       "    </tr>\n",
       "  </thead>\n",
       "  <tbody>\n",
       "    <tr>\n",
       "      <th>0</th>\n",
       "      <td>1</td>\n",
       "      <td>2</td>\n",
       "    </tr>\n",
       "    <tr>\n",
       "      <th>1</th>\n",
       "      <td>1</td>\n",
       "      <td>3</td>\n",
       "    </tr>\n",
       "    <tr>\n",
       "      <th>2</th>\n",
       "      <td>1</td>\n",
       "      <td>4</td>\n",
       "    </tr>\n",
       "    <tr>\n",
       "      <th>3</th>\n",
       "      <td>2</td>\n",
       "      <td>3</td>\n",
       "    </tr>\n",
       "    <tr>\n",
       "      <th>4</th>\n",
       "      <td>2</td>\n",
       "      <td>4</td>\n",
       "    </tr>\n",
       "    <tr>\n",
       "      <th>5</th>\n",
       "      <td>3</td>\n",
       "      <td>4</td>\n",
       "    </tr>\n",
       "    <tr>\n",
       "      <th>6</th>\n",
       "      <td>5</td>\n",
       "      <td>6</td>\n",
       "    </tr>\n",
       "    <tr>\n",
       "      <th>7</th>\n",
       "      <td>5</td>\n",
       "      <td>7</td>\n",
       "    </tr>\n",
       "    <tr>\n",
       "      <th>8</th>\n",
       "      <td>5</td>\n",
       "      <td>8</td>\n",
       "    </tr>\n",
       "    <tr>\n",
       "      <th>9</th>\n",
       "      <td>5</td>\n",
       "      <td>9</td>\n",
       "    </tr>\n",
       "  </tbody>\n",
       "</table>\n",
       "</div>"
      ],
      "text/plain": [
       "   id1  id2\n",
       "0    1    2\n",
       "1    1    3\n",
       "2    1    4\n",
       "3    2    3\n",
       "4    2    4\n",
       "5    3    4\n",
       "6    5    6\n",
       "7    5    7\n",
       "8    5    8\n",
       "9    5    9"
      ]
     },
     "execution_count": 6,
     "metadata": {},
     "output_type": "execute_result"
    }
   ],
   "source": [
    "CORA_groundTruth.head(10)"
   ]
  },
  {
   "cell_type": "markdown",
   "metadata": {},
   "source": [
    "#### CENSUS"
   ]
  },
  {
   "cell_type": "code",
   "execution_count": 7,
   "metadata": {
    "scrolled": true,
    "tags": []
   },
   "outputs": [
    {
     "data": {
      "text/html": [
       "<div>\n",
       "<style scoped>\n",
       "    .dataframe tbody tr th:only-of-type {\n",
       "        vertical-align: middle;\n",
       "    }\n",
       "\n",
       "    .dataframe tbody tr th {\n",
       "        vertical-align: top;\n",
       "    }\n",
       "\n",
       "    .dataframe thead th {\n",
       "        text-align: right;\n",
       "    }\n",
       "</style>\n",
       "<table border=\"1\" class=\"dataframe\">\n",
       "  <thead>\n",
       "    <tr style=\"text-align: right;\">\n",
       "      <th></th>\n",
       "      <th>Entity Id</th>\n",
       "      <th>attr1</th>\n",
       "      <th>attr2</th>\n",
       "      <th>attr3</th>\n",
       "      <th>attr4</th>\n",
       "      <th>attr5</th>\n",
       "      <th>Unnamed: 6</th>\n",
       "    </tr>\n",
       "  </thead>\n",
       "  <tbody>\n",
       "    <tr>\n",
       "      <th>0</th>\n",
       "      <td>0</td>\n",
       "      <td>ANDERSON</td>\n",
       "      <td>NaN</td>\n",
       "      <td>NaN</td>\n",
       "      <td>4848</td>\n",
       "      <td>BASSWOOD</td>\n",
       "      <td>NaN</td>\n",
       "    </tr>\n",
       "    <tr>\n",
       "      <th>1</th>\n",
       "      <td>1</td>\n",
       "      <td>ANDERSON</td>\n",
       "      <td>NaN</td>\n",
       "      <td>NaN</td>\n",
       "      <td>4848</td>\n",
       "      <td>BASSWOOD</td>\n",
       "      <td>NaN</td>\n",
       "    </tr>\n",
       "    <tr>\n",
       "      <th>2</th>\n",
       "      <td>2</td>\n",
       "      <td>ANDERSON</td>\n",
       "      <td>NaN</td>\n",
       "      <td>NaN</td>\n",
       "      <td>4848</td>\n",
       "      <td>BASSWOOD</td>\n",
       "      <td>NaN</td>\n",
       "    </tr>\n",
       "    <tr>\n",
       "      <th>3</th>\n",
       "      <td>3</td>\n",
       "      <td>ANDERSON</td>\n",
       "      <td>NaN</td>\n",
       "      <td>NaN</td>\n",
       "      <td>4848</td>\n",
       "      <td>BASSWOOD</td>\n",
       "      <td>NaN</td>\n",
       "    </tr>\n",
       "    <tr>\n",
       "      <th>4</th>\n",
       "      <td>4</td>\n",
       "      <td>AQUENDO</td>\n",
       "      <td>CLARA</td>\n",
       "      <td>J</td>\n",
       "      <td>666</td>\n",
       "      <td>STARKEY</td>\n",
       "      <td>NaN</td>\n",
       "    </tr>\n",
       "    <tr>\n",
       "      <th>...</th>\n",
       "      <td>...</td>\n",
       "      <td>...</td>\n",
       "      <td>...</td>\n",
       "      <td>...</td>\n",
       "      <td>...</td>\n",
       "      <td>...</td>\n",
       "      <td>...</td>\n",
       "    </tr>\n",
       "    <tr>\n",
       "      <th>836</th>\n",
       "      <td>836</td>\n",
       "      <td>WILLIAM</td>\n",
       "      <td>SHERRY</td>\n",
       "      <td>V</td>\n",
       "      <td>510</td>\n",
       "      <td>WOODHAVEN</td>\n",
       "      <td>NaN</td>\n",
       "    </tr>\n",
       "    <tr>\n",
       "      <th>837</th>\n",
       "      <td>837</td>\n",
       "      <td>WRIGHT</td>\n",
       "      <td>BRYAN</td>\n",
       "      <td>NaN</td>\n",
       "      <td>307</td>\n",
       "      <td>WOODHAVEN</td>\n",
       "      <td>NaN</td>\n",
       "    </tr>\n",
       "    <tr>\n",
       "      <th>838</th>\n",
       "      <td>838</td>\n",
       "      <td>WRIGHT</td>\n",
       "      <td>MAXINE</td>\n",
       "      <td>H</td>\n",
       "      <td>307</td>\n",
       "      <td>WOODHAVEN</td>\n",
       "      <td>NaN</td>\n",
       "    </tr>\n",
       "    <tr>\n",
       "      <th>839</th>\n",
       "      <td>839</td>\n",
       "      <td>YATES</td>\n",
       "      <td>CHANSE</td>\n",
       "      <td>E</td>\n",
       "      <td>403</td>\n",
       "      <td>WOODHAVEN</td>\n",
       "      <td>NaN</td>\n",
       "    </tr>\n",
       "    <tr>\n",
       "      <th>840</th>\n",
       "      <td>840</td>\n",
       "      <td>YATES</td>\n",
       "      <td>ALFREDICA</td>\n",
       "      <td>S</td>\n",
       "      <td>403</td>\n",
       "      <td>WOODHAVEN</td>\n",
       "      <td>NaN</td>\n",
       "    </tr>\n",
       "  </tbody>\n",
       "</table>\n",
       "<p>841 rows × 7 columns</p>\n",
       "</div>"
      ],
      "text/plain": [
       "     Entity Id     attr1      attr2 attr3 attr4      attr5  Unnamed: 6\n",
       "0            0  ANDERSON        NaN   NaN  4848   BASSWOOD         NaN\n",
       "1            1  ANDERSON        NaN   NaN  4848   BASSWOOD         NaN\n",
       "2            2  ANDERSON        NaN   NaN  4848   BASSWOOD         NaN\n",
       "3            3  ANDERSON        NaN   NaN  4848   BASSWOOD         NaN\n",
       "4            4   AQUENDO      CLARA     J   666    STARKEY         NaN\n",
       "..         ...       ...        ...   ...   ...        ...         ...\n",
       "836        836   WILLIAM     SHERRY     V   510  WOODHAVEN         NaN\n",
       "837        837    WRIGHT      BRYAN   NaN   307  WOODHAVEN         NaN\n",
       "838        838    WRIGHT     MAXINE     H   307  WOODHAVEN         NaN\n",
       "839        839     YATES     CHANSE     E   403  WOODHAVEN         NaN\n",
       "840        840     YATES  ALFREDICA     S   403  WOODHAVEN         NaN\n",
       "\n",
       "[841 rows x 7 columns]"
      ]
     },
     "execution_count": 7,
     "metadata": {},
     "output_type": "execute_result"
    }
   ],
   "source": [
    "CENSUS_groundTruth = os.path.abspath(\"../data/censusIdDuplicates.csv\")\n",
    "CENSUS = os.path.abspath(\"../data/censusProfiles.csv\")\n",
    "CENSUS_groundTruth = pd.read_csv(CENSUS_groundTruth,sep='|',header=None,names=['id1','id2'])\n",
    "CENSUS = pd.read_csv(CENSUS,sep='|')\n",
    "CENSUS"
   ]
  },
  {
   "cell_type": "code",
   "execution_count": 8,
   "metadata": {},
   "outputs": [
    {
     "data": {
      "text/html": [
       "<div>\n",
       "<style scoped>\n",
       "    .dataframe tbody tr th:only-of-type {\n",
       "        vertical-align: middle;\n",
       "    }\n",
       "\n",
       "    .dataframe tbody tr th {\n",
       "        vertical-align: top;\n",
       "    }\n",
       "\n",
       "    .dataframe thead th {\n",
       "        text-align: right;\n",
       "    }\n",
       "</style>\n",
       "<table border=\"1\" class=\"dataframe\">\n",
       "  <thead>\n",
       "    <tr style=\"text-align: right;\">\n",
       "      <th></th>\n",
       "      <th>id1</th>\n",
       "      <th>id2</th>\n",
       "    </tr>\n",
       "  </thead>\n",
       "  <tbody>\n",
       "    <tr>\n",
       "      <th>0</th>\n",
       "      <td>85</td>\n",
       "      <td>530</td>\n",
       "    </tr>\n",
       "    <tr>\n",
       "      <th>1</th>\n",
       "      <td>427</td>\n",
       "      <td>816</td>\n",
       "    </tr>\n",
       "    <tr>\n",
       "      <th>2</th>\n",
       "      <td>360</td>\n",
       "      <td>748</td>\n",
       "    </tr>\n",
       "    <tr>\n",
       "      <th>3</th>\n",
       "      <td>18</td>\n",
       "      <td>462</td>\n",
       "    </tr>\n",
       "    <tr>\n",
       "      <th>4</th>\n",
       "      <td>299</td>\n",
       "      <td>692</td>\n",
       "    </tr>\n",
       "    <tr>\n",
       "      <th>...</th>\n",
       "      <td>...</td>\n",
       "      <td>...</td>\n",
       "    </tr>\n",
       "    <tr>\n",
       "      <th>339</th>\n",
       "      <td>433</td>\n",
       "      <td>827</td>\n",
       "    </tr>\n",
       "    <tr>\n",
       "      <th>340</th>\n",
       "      <td>366</td>\n",
       "      <td>755</td>\n",
       "    </tr>\n",
       "    <tr>\n",
       "      <th>341</th>\n",
       "      <td>651</td>\n",
       "      <td>652</td>\n",
       "    </tr>\n",
       "    <tr>\n",
       "      <th>342</th>\n",
       "      <td>226</td>\n",
       "      <td>602</td>\n",
       "    </tr>\n",
       "    <tr>\n",
       "      <th>343</th>\n",
       "      <td>305</td>\n",
       "      <td>701</td>\n",
       "    </tr>\n",
       "  </tbody>\n",
       "</table>\n",
       "<p>344 rows × 2 columns</p>\n",
       "</div>"
      ],
      "text/plain": [
       "     id1  id2\n",
       "0     85  530\n",
       "1    427  816\n",
       "2    360  748\n",
       "3     18  462\n",
       "4    299  692\n",
       "..   ...  ...\n",
       "339  433  827\n",
       "340  366  755\n",
       "341  651  652\n",
       "342  226  602\n",
       "343  305  701\n",
       "\n",
       "[344 rows x 2 columns]"
      ]
     },
     "execution_count": 8,
     "metadata": {},
     "output_type": "execute_result"
    }
   ],
   "source": [
    "CENSUS_groundTruth"
   ]
  },
  {
   "cell_type": "markdown",
   "metadata": {},
   "source": [
    "#### CDDB"
   ]
  },
  {
   "cell_type": "code",
   "execution_count": 9,
   "metadata": {
    "tags": []
   },
   "outputs": [
    {
     "data": {
      "text/html": [
       "<div>\n",
       "<style scoped>\n",
       "    .dataframe tbody tr th:only-of-type {\n",
       "        vertical-align: middle;\n",
       "    }\n",
       "\n",
       "    .dataframe tbody tr th {\n",
       "        vertical-align: top;\n",
       "    }\n",
       "\n",
       "    .dataframe thead th {\n",
       "        text-align: right;\n",
       "    }\n",
       "</style>\n",
       "<table border=\"1\" class=\"dataframe\">\n",
       "  <thead>\n",
       "    <tr style=\"text-align: right;\">\n",
       "      <th></th>\n",
       "      <th>Entity Id|artist</th>\n",
       "      <th>category</th>\n",
       "      <th>cdextra</th>\n",
       "      <th>genre</th>\n",
       "      <th>title</th>\n",
       "      <th>track01</th>\n",
       "      <th>track02</th>\n",
       "      <th>track03</th>\n",
       "      <th>track04</th>\n",
       "      <th>track05</th>\n",
       "      <th>...</th>\n",
       "      <th>track92</th>\n",
       "      <th>track93</th>\n",
       "      <th>track94</th>\n",
       "      <th>track95</th>\n",
       "      <th>track96</th>\n",
       "      <th>track97</th>\n",
       "      <th>track98</th>\n",
       "      <th>track99</th>\n",
       "      <th>year</th>\n",
       "      <th>Unnamed: 105</th>\n",
       "    </tr>\n",
       "  </thead>\n",
       "  <tbody>\n",
       "    <tr>\n",
       "      <th>0</th>\n",
       "      <td>pink floyd</td>\n",
       "      <td>data</td>\n",
       "      <td>ID3G: 254</td>\n",
       "      <td>Data</td>\n",
       "      <td>the wall disc 1</td>\n",
       "      <td>in the flesh</td>\n",
       "      <td>the thin ice</td>\n",
       "      <td>another brick in the wall part 1</td>\n",
       "      <td>the happiest days of our lives</td>\n",
       "      <td>another brick in the wall part 2</td>\n",
       "      <td>...</td>\n",
       "      <td>NaN</td>\n",
       "      <td>NaN</td>\n",
       "      <td>NaN</td>\n",
       "      <td>NaN</td>\n",
       "      <td>NaN</td>\n",
       "      <td>NaN</td>\n",
       "      <td>NaN</td>\n",
       "      <td>NaN</td>\n",
       "      <td>NaN</td>\n",
       "      <td>NaN</td>\n",
       "    </tr>\n",
       "    <tr>\n",
       "      <th>1</th>\n",
       "      <td>Carlos Santana</td>\n",
       "      <td>data</td>\n",
       "      <td>NaN</td>\n",
       "      <td>NaN</td>\n",
       "      <td>Carlos</td>\n",
       "      <td>(Da Le) Yaleo</td>\n",
       "      <td>Love Of My Life</td>\n",
       "      <td>Put You Love Lights On</td>\n",
       "      <td>Smooth</td>\n",
       "      <td>Do You Like The Way?</td>\n",
       "      <td>...</td>\n",
       "      <td>NaN</td>\n",
       "      <td>NaN</td>\n",
       "      <td>NaN</td>\n",
       "      <td>NaN</td>\n",
       "      <td>NaN</td>\n",
       "      <td>NaN</td>\n",
       "      <td>NaN</td>\n",
       "      <td>NaN</td>\n",
       "      <td>NaN</td>\n",
       "      <td>NaN</td>\n",
       "    </tr>\n",
       "    <tr>\n",
       "      <th>2</th>\n",
       "      <td>Frans Bauer</td>\n",
       "      <td>data</td>\n",
       "      <td>NaN</td>\n",
       "      <td>Other</td>\n",
       "      <td>'n ons geluk</td>\n",
       "      <td>'n ONS geluk</td>\n",
       "      <td>NaN</td>\n",
       "      <td>NaN</td>\n",
       "      <td>NaN</td>\n",
       "      <td>NaN</td>\n",
       "      <td>...</td>\n",
       "      <td>NaN</td>\n",
       "      <td>NaN</td>\n",
       "      <td>NaN</td>\n",
       "      <td>NaN</td>\n",
       "      <td>NaN</td>\n",
       "      <td>NaN</td>\n",
       "      <td>NaN</td>\n",
       "      <td>NaN</td>\n",
       "      <td>2004</td>\n",
       "      <td>NaN</td>\n",
       "    </tr>\n",
       "    <tr>\n",
       "      <th>3</th>\n",
       "      <td>2Pac</td>\n",
       "      <td>data</td>\n",
       "      <td>YEAR: 1998 ID3G: 15</td>\n",
       "      <td>Rap</td>\n",
       "      <td>Greatest Hits (CD1)</td>\n",
       "      <td>Keep Ya Head Up</td>\n",
       "      <td>2 Of Amerikaz Most Wanted (Ft. Snoop Dogg)</td>\n",
       "      <td>Temptations</td>\n",
       "      <td>God Bless The Dead</td>\n",
       "      <td>Hail Mary</td>\n",
       "      <td>...</td>\n",
       "      <td>NaN</td>\n",
       "      <td>NaN</td>\n",
       "      <td>NaN</td>\n",
       "      <td>NaN</td>\n",
       "      <td>NaN</td>\n",
       "      <td>NaN</td>\n",
       "      <td>NaN</td>\n",
       "      <td>NaN</td>\n",
       "      <td>1998</td>\n",
       "      <td>NaN</td>\n",
       "    </tr>\n",
       "    <tr>\n",
       "      <th>4</th>\n",
       "      <td>Ì¤ï¿½ï¿½</td>\n",
       "      <td>data</td>\n",
       "      <td>NaN</td>\n",
       "      <td>NaN</td>\n",
       "      <td>Ì¤ï¿½ï¿½</td>\n",
       "      <td>ï¿½È¥ï¿½Ã¥ï¿½ 1</td>\n",
       "      <td>ï¿½È¥ï¿½Ã¥ï¿½ 2</td>\n",
       "      <td>ï¿½È¥ï¿½Ã¥ï¿½ 3</td>\n",
       "      <td>ï¿½È¥ï¿½Ã¥ï¿½ 4</td>\n",
       "      <td>ï¿½È¥ï¿½Ã¥ï¿½ 5</td>\n",
       "      <td>...</td>\n",
       "      <td>NaN</td>\n",
       "      <td>NaN</td>\n",
       "      <td>NaN</td>\n",
       "      <td>NaN</td>\n",
       "      <td>NaN</td>\n",
       "      <td>NaN</td>\n",
       "      <td>NaN</td>\n",
       "      <td>NaN</td>\n",
       "      <td>NaN</td>\n",
       "      <td>NaN</td>\n",
       "    </tr>\n",
       "    <tr>\n",
       "      <th>...</th>\n",
       "      <td>...</td>\n",
       "      <td>...</td>\n",
       "      <td>...</td>\n",
       "      <td>...</td>\n",
       "      <td>...</td>\n",
       "      <td>...</td>\n",
       "      <td>...</td>\n",
       "      <td>...</td>\n",
       "      <td>...</td>\n",
       "      <td>...</td>\n",
       "      <td>...</td>\n",
       "      <td>...</td>\n",
       "      <td>...</td>\n",
       "      <td>...</td>\n",
       "      <td>...</td>\n",
       "      <td>...</td>\n",
       "      <td>...</td>\n",
       "      <td>...</td>\n",
       "      <td>...</td>\n",
       "      <td>...</td>\n",
       "      <td>...</td>\n",
       "    </tr>\n",
       "    <tr>\n",
       "      <th>9758</th>\n",
       "      <td>Various</td>\n",
       "      <td>soundtrack</td>\n",
       "      <td>NaN</td>\n",
       "      <td>NaN</td>\n",
       "      <td>Warriors of Virtue</td>\n",
       "      <td>You Can Fly</td>\n",
       "      <td>A Beautiful Morning</td>\n",
       "      <td>Forces of Nature</td>\n",
       "      <td>Inside of You</td>\n",
       "      <td>Tennessee Plates</td>\n",
       "      <td>...</td>\n",
       "      <td>NaN</td>\n",
       "      <td>NaN</td>\n",
       "      <td>NaN</td>\n",
       "      <td>NaN</td>\n",
       "      <td>NaN</td>\n",
       "      <td>NaN</td>\n",
       "      <td>NaN</td>\n",
       "      <td>NaN</td>\n",
       "      <td>NaN</td>\n",
       "      <td>NaN</td>\n",
       "    </tr>\n",
       "    <tr>\n",
       "      <th>9759</th>\n",
       "      <td>James Patterson</td>\n",
       "      <td>soundtrack</td>\n",
       "      <td>NaN</td>\n",
       "      <td>Soundtrack</td>\n",
       "      <td>Pop Goes the Weasel - CD 4</td>\n",
       "      <td>4.01</td>\n",
       "      <td>4.02</td>\n",
       "      <td>4.03</td>\n",
       "      <td>4.04</td>\n",
       "      <td>4.05</td>\n",
       "      <td>...</td>\n",
       "      <td>NaN</td>\n",
       "      <td>NaN</td>\n",
       "      <td>NaN</td>\n",
       "      <td>NaN</td>\n",
       "      <td>NaN</td>\n",
       "      <td>NaN</td>\n",
       "      <td>NaN</td>\n",
       "      <td>NaN</td>\n",
       "      <td>2000</td>\n",
       "      <td>NaN</td>\n",
       "    </tr>\n",
       "    <tr>\n",
       "      <th>9760</th>\n",
       "      <td>Colin Baker &amp; Nicholas Courtney</td>\n",
       "      <td>soundtrack</td>\n",
       "      <td>Published by Big Finish Productions.\\nhttp://w...</td>\n",
       "      <td>Soundtrack</td>\n",
       "      <td>The Spectre of Lanyon Moor</td>\n",
       "      <td>Episode 0</td>\n",
       "      <td>Episode 1 Part 1</td>\n",
       "      <td>Episode 1 Part 2</td>\n",
       "      <td>Episode 1 Part 3</td>\n",
       "      <td>Episode 1 Part 4</td>\n",
       "      <td>...</td>\n",
       "      <td>NaN</td>\n",
       "      <td>NaN</td>\n",
       "      <td>NaN</td>\n",
       "      <td>NaN</td>\n",
       "      <td>NaN</td>\n",
       "      <td>NaN</td>\n",
       "      <td>NaN</td>\n",
       "      <td>NaN</td>\n",
       "      <td>2000</td>\n",
       "      <td>NaN</td>\n",
       "    </tr>\n",
       "    <tr>\n",
       "      <th>9761</th>\n",
       "      <td>Studio Cutz</td>\n",
       "      <td>soundtrack</td>\n",
       "      <td>ID3G: 24</td>\n",
       "      <td>Soundtrack</td>\n",
       "      <td>Volume 25</td>\n",
       "      <td>All Access 3:12</td>\n",
       "      <td>All Access 3:12 alt</td>\n",
       "      <td>All Access :60</td>\n",
       "      <td>All Access :30</td>\n",
       "      <td>All Access :11</td>\n",
       "      <td>...</td>\n",
       "      <td>NaN</td>\n",
       "      <td>NaN</td>\n",
       "      <td>NaN</td>\n",
       "      <td>NaN</td>\n",
       "      <td>NaN</td>\n",
       "      <td>NaN</td>\n",
       "      <td>NaN</td>\n",
       "      <td>NaN</td>\n",
       "      <td>NaN</td>\n",
       "      <td>NaN</td>\n",
       "    </tr>\n",
       "    <tr>\n",
       "      <th>9762</th>\n",
       "      <td>Audio Adventures In Time &amp; Space/2)</td>\n",
       "      <td>soundtrack</td>\n",
       "      <td>Published by BBV.\\nhttp://www.bbvonline.co.uk/...</td>\n",
       "      <td>NaN</td>\n",
       "      <td>Prosperity Island (Disk 2/2)</td>\n",
       "      <td>Chapter 15</td>\n",
       "      <td>Chapter 16</td>\n",
       "      <td>Chapter 17</td>\n",
       "      <td>Chapter 18</td>\n",
       "      <td>Chapter 19</td>\n",
       "      <td>...</td>\n",
       "      <td>NaN</td>\n",
       "      <td>NaN</td>\n",
       "      <td>NaN</td>\n",
       "      <td>NaN</td>\n",
       "      <td>NaN</td>\n",
       "      <td>NaN</td>\n",
       "      <td>NaN</td>\n",
       "      <td>NaN</td>\n",
       "      <td>NaN</td>\n",
       "      <td>NaN</td>\n",
       "    </tr>\n",
       "  </tbody>\n",
       "</table>\n",
       "<p>9763 rows × 106 columns</p>\n",
       "</div>"
      ],
      "text/plain": [
       "                         Entity Id|artist    category  \\\n",
       "0                              pink floyd        data   \n",
       "1                          Carlos Santana        data   \n",
       "2                             Frans Bauer        data   \n",
       "3                                    2Pac        data   \n",
       "4                                Ì¤ï¿½ï¿½        data   \n",
       "...                                   ...         ...   \n",
       "9758                              Various  soundtrack   \n",
       "9759                      James Patterson  soundtrack   \n",
       "9760      Colin Baker & Nicholas Courtney  soundtrack   \n",
       "9761                          Studio Cutz  soundtrack   \n",
       "9762  Audio Adventures In Time & Space/2)  soundtrack   \n",
       "\n",
       "                                                cdextra       genre  \\\n",
       "0                                             ID3G: 254        Data   \n",
       "1                                                   NaN         NaN   \n",
       "2                                                   NaN       Other   \n",
       "3                                   YEAR: 1998 ID3G: 15         Rap   \n",
       "4                                                   NaN         NaN   \n",
       "...                                                 ...         ...   \n",
       "9758                                                NaN         NaN   \n",
       "9759                                                NaN  Soundtrack   \n",
       "9760  Published by Big Finish Productions.\\nhttp://w...  Soundtrack   \n",
       "9761                                           ID3G: 24  Soundtrack   \n",
       "9762  Published by BBV.\\nhttp://www.bbvonline.co.uk/...         NaN   \n",
       "\n",
       "                             title          track01  \\\n",
       "0                  the wall disc 1     in the flesh   \n",
       "1                           Carlos    (Da Le) Yaleo   \n",
       "2                     'n ons geluk     'n ONS geluk   \n",
       "3              Greatest Hits (CD1)  Keep Ya Head Up   \n",
       "4                         Ì¤ï¿½ï¿½  ï¿½È¥ï¿½Ã¥ï¿½ 1   \n",
       "...                            ...              ...   \n",
       "9758            Warriors of Virtue      You Can Fly   \n",
       "9759    Pop Goes the Weasel - CD 4             4.01   \n",
       "9760    The Spectre of Lanyon Moor        Episode 0   \n",
       "9761                     Volume 25  All Access 3:12   \n",
       "9762  Prosperity Island (Disk 2/2)       Chapter 15   \n",
       "\n",
       "                                         track02  \\\n",
       "0                                   the thin ice   \n",
       "1                                Love Of My Life   \n",
       "2                                            NaN   \n",
       "3     2 Of Amerikaz Most Wanted (Ft. Snoop Dogg)   \n",
       "4                                ï¿½È¥ï¿½Ã¥ï¿½ 2   \n",
       "...                                          ...   \n",
       "9758                         A Beautiful Morning   \n",
       "9759                                        4.02   \n",
       "9760                            Episode 1 Part 1   \n",
       "9761                         All Access 3:12 alt   \n",
       "9762                                  Chapter 16   \n",
       "\n",
       "                               track03                         track04  \\\n",
       "0     another brick in the wall part 1  the happiest days of our lives   \n",
       "1               Put You Love Lights On                          Smooth   \n",
       "2                                  NaN                             NaN   \n",
       "3                          Temptations              God Bless The Dead   \n",
       "4                      ï¿½È¥ï¿½Ã¥ï¿½ 3                 ï¿½È¥ï¿½Ã¥ï¿½ 4   \n",
       "...                                ...                             ...   \n",
       "9758                  Forces of Nature                   Inside of You   \n",
       "9759                              4.03                            4.04   \n",
       "9760                  Episode 1 Part 2                Episode 1 Part 3   \n",
       "9761                    All Access :60                  All Access :30   \n",
       "9762                        Chapter 17                      Chapter 18   \n",
       "\n",
       "                               track05  ... track92 track93 track94 track95  \\\n",
       "0     another brick in the wall part 2  ...     NaN     NaN     NaN     NaN   \n",
       "1                 Do You Like The Way?  ...     NaN     NaN     NaN     NaN   \n",
       "2                                  NaN  ...     NaN     NaN     NaN     NaN   \n",
       "3                            Hail Mary  ...     NaN     NaN     NaN     NaN   \n",
       "4                      ï¿½È¥ï¿½Ã¥ï¿½ 5  ...     NaN     NaN     NaN     NaN   \n",
       "...                                ...  ...     ...     ...     ...     ...   \n",
       "9758                  Tennessee Plates  ...     NaN     NaN     NaN     NaN   \n",
       "9759                              4.05  ...     NaN     NaN     NaN     NaN   \n",
       "9760                  Episode 1 Part 4  ...     NaN     NaN     NaN     NaN   \n",
       "9761                    All Access :11  ...     NaN     NaN     NaN     NaN   \n",
       "9762                        Chapter 19  ...     NaN     NaN     NaN     NaN   \n",
       "\n",
       "     track96 track97 track98 track99  year Unnamed: 105  \n",
       "0        NaN     NaN     NaN     NaN   NaN          NaN  \n",
       "1        NaN     NaN     NaN     NaN   NaN          NaN  \n",
       "2        NaN     NaN     NaN     NaN  2004          NaN  \n",
       "3        NaN     NaN     NaN     NaN  1998          NaN  \n",
       "4        NaN     NaN     NaN     NaN   NaN          NaN  \n",
       "...      ...     ...     ...     ...   ...          ...  \n",
       "9758     NaN     NaN     NaN     NaN   NaN          NaN  \n",
       "9759     NaN     NaN     NaN     NaN  2000          NaN  \n",
       "9760     NaN     NaN     NaN     NaN  2000          NaN  \n",
       "9761     NaN     NaN     NaN     NaN   NaN          NaN  \n",
       "9762     NaN     NaN     NaN     NaN   NaN          NaN  \n",
       "\n",
       "[9763 rows x 106 columns]"
      ]
     },
     "execution_count": 9,
     "metadata": {},
     "output_type": "execute_result"
    }
   ],
   "source": [
    "CDDB_groundTruth = os.path.abspath(\"../data/cddbIdDuplicates.csv\")\n",
    "CDDB = os.path.abspath(\"../data/cddbProfiles.csv\")\n",
    "CDDB_groundTruth = pd.read_csv(CDDB_groundTruth,sep='/00000',engine='python',header=None,names=['id1','id2'])\n",
    "CDDB = pd.read_csv(CDDB,sep='/00000',engine='python')\n",
    "CDDB"
   ]
  },
  {
   "cell_type": "code",
   "execution_count": 10,
   "metadata": {},
   "outputs": [
    {
     "data": {
      "text/html": [
       "<div>\n",
       "<style scoped>\n",
       "    .dataframe tbody tr th:only-of-type {\n",
       "        vertical-align: middle;\n",
       "    }\n",
       "\n",
       "    .dataframe tbody tr th {\n",
       "        vertical-align: top;\n",
       "    }\n",
       "\n",
       "    .dataframe thead th {\n",
       "        text-align: right;\n",
       "    }\n",
       "</style>\n",
       "<table border=\"1\" class=\"dataframe\">\n",
       "  <thead>\n",
       "    <tr style=\"text-align: right;\">\n",
       "      <th></th>\n",
       "      <th>id1</th>\n",
       "      <th>id2</th>\n",
       "    </tr>\n",
       "  </thead>\n",
       "  <tbody>\n",
       "    <tr>\n",
       "      <th>0</th>\n",
       "      <td>315</td>\n",
       "      <td>384</td>\n",
       "    </tr>\n",
       "    <tr>\n",
       "      <th>1</th>\n",
       "      <td>456</td>\n",
       "      <td>457</td>\n",
       "    </tr>\n",
       "    <tr>\n",
       "      <th>2</th>\n",
       "      <td>11</td>\n",
       "      <td>18</td>\n",
       "    </tr>\n",
       "    <tr>\n",
       "      <th>3</th>\n",
       "      <td>133</td>\n",
       "      <td>134</td>\n",
       "    </tr>\n",
       "    <tr>\n",
       "      <th>4</th>\n",
       "      <td>65</td>\n",
       "      <td>148</td>\n",
       "    </tr>\n",
       "    <tr>\n",
       "      <th>...</th>\n",
       "      <td>...</td>\n",
       "      <td>...</td>\n",
       "    </tr>\n",
       "    <tr>\n",
       "      <th>294</th>\n",
       "      <td>206</td>\n",
       "      <td>207</td>\n",
       "    </tr>\n",
       "    <tr>\n",
       "      <th>295</th>\n",
       "      <td>345</td>\n",
       "      <td>446</td>\n",
       "    </tr>\n",
       "    <tr>\n",
       "      <th>296</th>\n",
       "      <td>407</td>\n",
       "      <td>425</td>\n",
       "    </tr>\n",
       "    <tr>\n",
       "      <th>297</th>\n",
       "      <td>229</td>\n",
       "      <td>350</td>\n",
       "    </tr>\n",
       "    <tr>\n",
       "      <th>298</th>\n",
       "      <td>271</td>\n",
       "      <td>450</td>\n",
       "    </tr>\n",
       "  </tbody>\n",
       "</table>\n",
       "<p>299 rows × 2 columns</p>\n",
       "</div>"
      ],
      "text/plain": [
       "     id1  id2\n",
       "0    315  384\n",
       "1    456  457\n",
       "2     11   18\n",
       "3    133  134\n",
       "4     65  148\n",
       "..   ...  ...\n",
       "294  206  207\n",
       "295  345  446\n",
       "296  407  425\n",
       "297  229  350\n",
       "298  271  450\n",
       "\n",
       "[299 rows x 2 columns]"
      ]
     },
     "execution_count": 10,
     "metadata": {},
     "output_type": "execute_result"
    }
   ],
   "source": [
    "CDDB_groundTruth"
   ]
  },
  {
   "cell_type": "markdown",
   "metadata": {},
   "source": [
    "#### DBLP - ACM"
   ]
  },
  {
   "cell_type": "code",
   "execution_count": 11,
   "metadata": {},
   "outputs": [],
   "source": [
    "ACM = os.path.abspath(\"../data/ACM.csv\")\n",
    "DBLP = os.path.abspath(\"../data/DBLP2.csv\")\n",
    "ACM_DBLP_trueValues = os.path.abspath(\"../data/DBLP-ACM_perfectMapping.csv\")\n",
    "ACM = pd.read_csv(ACM)\n",
    "DBLP = pd.read_csv(DBLP, encoding='latin-1')\n",
    "ACM_DBLP_trueValues = pd.read_csv(ACM_DBLP_trueValues)"
   ]
  },
  {
   "cell_type": "markdown",
   "metadata": {},
   "source": [
    "#### CORA - 1st edition"
   ]
  },
  {
   "cell_type": "code",
   "execution_count": 12,
   "metadata": {},
   "outputs": [],
   "source": [
    "fpcora = os.path.abspath(\"../data/cora1stEdition/CORA.xml\")\n",
    "fpcora_gold = os.path.abspath(\"../data/cora1stEdition/cora_gold.csv\")\n",
    "CORA1 = pdx.read_xml(fpcora,['CORA', 'NEWREFERENCE'],root_is_rows=False)\n",
    "CORA1['@id'] = pd.to_numeric(CORA1['@id']).subtract(1)\n",
    "CORA1_groundTruth = pd.read_csv(fpcora_gold,sep=';')\n",
    "CORA1_groundTruth['id1'] = pd.to_numeric(CORA1_groundTruth['id1']).subtract(1)\n",
    "CORA1_groundTruth['id2'] = pd.to_numeric(CORA1_groundTruth['id2']).subtract(1)"
   ]
  },
  {
   "cell_type": "markdown",
   "metadata": {},
   "source": [
    "## Utilities"
   ]
  },
  {
   "cell_type": "markdown",
   "metadata": {},
   "source": [
    "__Maximum mean discrepancy (MMD)__, which measures the discrepancy between two distributions. The selection of prototypes creates a density distribution of prototypes. We want to evaluate whether the prototypes distribution differs from the data distribution. We estimate both with kernel density functions. The maximum mean discrepancy measures the difference between two distributions, which is the supremum over a function space of differences between the expectations according to the two distributions. All clear? Personally, I understand these concepts much better when I see how something is calculated with data. The following formula shows how to calculate the squared MMD measure (MMD2):\n",
    "    $$\n",
    "    MMD^2=\\frac{1}{m^2}\\sum_{i,j=1}^m{}k(z_i,z_j)-\\frac{2}{mn}\\sum_{i,j=1}^{m,n}k(z_i,x_j)+\\frac{1}{n^2}\\sum_{i,j=1}^n{}k(x_i,x_j)\n",
    "    $$\n",
    "    \n",
    "- __k__ is a kernel function that measures the similarity of two points\n",
    "- __m__ is the number of prototypes \n",
    "- __n__ is the number of data points x in our original dataset. \n",
    "- The prototypes z are a selection of data points x. \n",
    "\n",
    "    \n",
    "Each point is multidimensional, that is it can have multiple features. The goal of MMD-critic is to minimize MMD2. The closer MMD2 is to zero, the better the distribution of the prototypes fits the data. The key to bringing MMD2 down to zero is the term in the middle, which calculates the average proximity between the prototypes and all other data points (multiplied by 2). If this term adds up to the first term (the average proximity of the prototypes to each other) plus the last term (the average proximity of the data points to each other), then the prototypes explain the data perfectly.  "
   ]
  },
  {
   "cell_type": "code",
   "execution_count": 13,
   "metadata": {},
   "outputs": [],
   "source": [
    "from utils.classification import MMD2, myMMD2"
   ]
  },
  {
   "cell_type": "markdown",
   "metadata": {},
   "source": [
    "### HeatMap"
   ]
  },
  {
   "cell_type": "code",
   "execution_count": 14,
   "metadata": {
    "tags": []
   },
   "outputs": [],
   "source": [
    "from plot.heatmap import myHeatmap"
   ]
  },
  {
   "cell_type": "markdown",
   "metadata": {
    "tags": []
   },
   "source": [
    "### Jaccard VS Edit distance variance"
   ]
  },
  {
   "cell_type": "code",
   "execution_count": 15,
   "metadata": {},
   "outputs": [],
   "source": [
    "from plot.confusion_matrix import create_ConfusionMatrix"
   ]
  },
  {
   "cell_type": "markdown",
   "metadata": {},
   "source": [
    "### PCA for the embeddings evaluation"
   ]
  },
  {
   "cell_type": "code",
   "execution_count": 16,
   "metadata": {
    "tags": []
   },
   "outputs": [],
   "source": [
    "from plot.dimension_reduction import PCA_SpaceVisualization, PCA_SpaceVisualization_3D, WTA_PCA_SpaceVisualization, WTA_PCA_SpaceVisualization_3D"
   ]
  },
  {
   "cell_type": "markdown",
   "metadata": {},
   "source": [
    "### Prototype selection variance HeatMap"
   ]
  },
  {
   "cell_type": "code",
   "execution_count": 17,
   "metadata": {},
   "outputs": [],
   "source": [
    "from plot.heatmap import similarityProbsHeatMap, similarityProbsHeatMapWithClusters"
   ]
  },
  {
   "cell_type": "markdown",
   "metadata": {},
   "source": [
    "### Bigramms-Trigramms and jaccard_distance"
   ]
  },
  {
   "cell_type": "code",
   "execution_count": 18,
   "metadata": {},
   "outputs": [
    {
     "name": "stdout",
     "output_type": "stream",
     "text": [
      "{('x', 'a', 'm'), ('a', 'n', 'd'), ('r', 'i', 'g'), ('t', 'r', 'i'), ('T', 'h', 'i'), ('g', 'r', 'a'), (' ', 'a', 'n'), ('l', 'e', ' '), ('e', ' ', 'o'), ('o', 'f', ' '), ('f', ' ', 'b'), (' ', 'b', 'i'), ('m', 'm', 's'), ('s', ' ', 'a'), ('m', 's', ' '), (' ', 'i', 's'), ('e', 'x', 'a'), ('r', 'a', 'm'), ('i', 'g', 'r'), ('h', 'i', 's'), ('n', 'd', ' '), ('n', ' ', 'e'), (' ', 'e', 'x'), ('m', 's', '!'), ('a', 'n', ' '), ('d', ' ', 't'), ('s', ' ', 'i'), ('b', 'i', 'g'), ('a', 'm', 'm'), ('i', 's', ' '), ('a', 'm', 'p'), ('p', 'l', 'e'), ('m', 'p', 'l'), (' ', 'o', 'f'), (' ', 't', 'r')}\n",
      "{('is', 'an', 'example'), ('and', 'trigramms', '!'), ('This', 'is', 'an'), ('of', 'bigramms', 'and'), ('an', 'example', 'of'), ('bigramms', 'and', 'trigramms'), ('example', 'of', 'bigramms')}\n",
      "0.0\n",
      "0.0\n",
      "1.0 1.0 1.0 1.0\n",
      "7\n"
     ]
    }
   ],
   "source": [
    "sent = 'This is an example of bigramms and trigramms!'\n",
    "print(set(nltk.ngrams(sent, n=3)))\n",
    "print(set(nltk.ngrams(nltk.word_tokenize(sent), n=3)))\n",
    "print(nltk.jaccard_distance(set(nltk.ngrams(sent, n=3)),set(nltk.ngrams(sent, n=3))))\n",
    "print(nltk.jaccard_distance(set(nltk.ngrams(nltk.word_tokenize(sent), n=3)),set(nltk.ngrams(nltk.word_tokenize(sent), n=3))))\n",
    "\n",
    "s1 = \"m. ahlskog  j. paloheimo  h. stubb  p. dyreklev  m. fahlman  o. inganas and m.r.   andersson  nan j appl. phys.\"\n",
    "s2 = \"m. ahlskog  j. paloheimo  h. stubb  p. dyreklev  m. fahlman  o. inganas and m.r. andersson  j appl. phys. \"\n",
    "\n",
    "jc3 = jaccard(set(nltk.ngrams(s1, n=3)),set(nltk.ngrams(s2, n=3)))\n",
    "js3 = jaccard(set(nltk.ngrams(nltk.word_tokenize(s1), n=3)),set(nltk.ngrams(nltk.word_tokenize(s2), n=3)))\n",
    "jc2 = jaccard(set(nltk.ngrams(s1, n=2)),set(nltk.ngrams(s2, n=2)))\n",
    "js2 = jaccard(set(nltk.ngrams(nltk.word_tokenize(s1), n=2)),set(nltk.ngrams(nltk.word_tokenize(s2), n=2)))\n",
    "\n",
    "print(jc3,js3,jc2,js2)\n",
    "print(editdistance.eval(s1,s2))"
   ]
  },
  {
   "cell_type": "markdown",
   "metadata": {},
   "source": [
    "## __CORA Evaluation__"
   ]
  },
  {
   "cell_type": "markdown",
   "metadata": {},
   "source": [
    "### Text Preprocess"
   ]
  },
  {
   "cell_type": "code",
   "execution_count": null,
   "metadata": {},
   "outputs": [],
   "source": []
  },
  {
   "cell_type": "markdown",
   "metadata": {
    "tags": []
   },
   "source": [
    "### Shuffle data"
   ]
  },
  {
   "cell_type": "code",
   "execution_count": 19,
   "metadata": {},
   "outputs": [
    {
     "data": {
      "text/html": [
       "<div>\n",
       "<style scoped>\n",
       "    .dataframe tbody tr th:only-of-type {\n",
       "        vertical-align: middle;\n",
       "    }\n",
       "\n",
       "    .dataframe tbody tr th {\n",
       "        vertical-align: top;\n",
       "    }\n",
       "\n",
       "    .dataframe thead th {\n",
       "        text-align: right;\n",
       "    }\n",
       "</style>\n",
       "<table border=\"1\" class=\"dataframe\">\n",
       "  <thead>\n",
       "    <tr style=\"text-align: right;\">\n",
       "      <th></th>\n",
       "      <th>Entity Id</th>\n",
       "      <th>address</th>\n",
       "      <th>author</th>\n",
       "      <th>editor</th>\n",
       "      <th>institution</th>\n",
       "      <th>month</th>\n",
       "      <th>note</th>\n",
       "      <th>pages</th>\n",
       "      <th>publisher</th>\n",
       "      <th>title</th>\n",
       "      <th>venue</th>\n",
       "      <th>volume</th>\n",
       "      <th>year</th>\n",
       "      <th>Unnamed: 13</th>\n",
       "    </tr>\n",
       "  </thead>\n",
       "  <tbody>\n",
       "    <tr>\n",
       "      <th>0</th>\n",
       "      <td>1145</td>\n",
       "      <td>NaN</td>\n",
       "      <td>ronald l. rivest and robert e. schapire.</td>\n",
       "      <td>NaN</td>\n",
       "      <td>NaN</td>\n",
       "      <td>april</td>\n",
       "      <td>NaN</td>\n",
       "      <td>299-347,</td>\n",
       "      <td>NaN</td>\n",
       "      <td>inference of finite automata using homing sequ...</td>\n",
       "      <td>information and computation,</td>\n",
       "      <td>103(2)</td>\n",
       "      <td>1993.</td>\n",
       "      <td>NaN</td>\n",
       "    </tr>\n",
       "    <tr>\n",
       "      <th>1</th>\n",
       "      <td>1280</td>\n",
       "      <td>NaN</td>\n",
       "      <td>r.e. schapire, y. freund, p. bartlett,</td>\n",
       "      <td>NaN</td>\n",
       "      <td>NaN</td>\n",
       "      <td>NaN</td>\n",
       "      <td>NaN</td>\n",
       "      <td>1</td>\n",
       "      <td>NaN</td>\n",
       "      <td>and w.s. leee. boosting the margin: a new expl...</td>\n",
       "      <td>1997.</td>\n",
       "      <td>NaN</td>\n",
       "      <td>NaN</td>\n",
       "      <td>NaN</td>\n",
       "    </tr>\n",
       "    <tr>\n",
       "      <th>2</th>\n",
       "      <td>340</td>\n",
       "      <td>NaN</td>\n",
       "      <td>yoav freund and robert e. schapire.</td>\n",
       "      <td>NaN</td>\n",
       "      <td>NaN</td>\n",
       "      <td>NaN</td>\n",
       "      <td>NaN</td>\n",
       "      <td>NaN</td>\n",
       "      <td>morgan kaufmann,</td>\n",
       "      <td>experiments with a new boosting algorithm.</td>\n",
       "      <td>in proceedings of the 13th international confe...</td>\n",
       "      <td>NaN</td>\n",
       "      <td>1996.</td>\n",
       "      <td>NaN</td>\n",
       "    </tr>\n",
       "    <tr>\n",
       "      <th>3</th>\n",
       "      <td>684</td>\n",
       "      <td>NaN</td>\n",
       "      <td>m. kearns, m. li, l. pitt, l.g. valiant.</td>\n",
       "      <td>NaN</td>\n",
       "      <td>NaN</td>\n",
       "      <td>NaN</td>\n",
       "      <td>NaN</td>\n",
       "      <td>pp. 337-352.</td>\n",
       "      <td>morgan kaufmann publishers,</td>\n",
       "      <td>recent results on boolean concept learning.</td>\n",
       "      <td>proceedings of the 4th international workshop ...</td>\n",
       "      <td>NaN</td>\n",
       "      <td>1987,</td>\n",
       "      <td>NaN</td>\n",
       "    </tr>\n",
       "    <tr>\n",
       "      <th>4</th>\n",
       "      <td>1009</td>\n",
       "      <td>NaN</td>\n",
       "      <td>michael j. kearns, robert e. schapire, and lin...</td>\n",
       "      <td>NaN</td>\n",
       "      <td>NaN</td>\n",
       "      <td>NaN</td>\n",
       "      <td>NaN</td>\n",
       "      <td>NaN</td>\n",
       "      <td>NaN</td>\n",
       "      <td>toward efficient agnostic learning.</td>\n",
       "      <td>machine learning,</td>\n",
       "      <td>NaN</td>\n",
       "      <td>NaN</td>\n",
       "      <td>NaN</td>\n",
       "    </tr>\n",
       "    <tr>\n",
       "      <th>...</th>\n",
       "      <td>...</td>\n",
       "      <td>...</td>\n",
       "      <td>...</td>\n",
       "      <td>...</td>\n",
       "      <td>...</td>\n",
       "      <td>...</td>\n",
       "      <td>...</td>\n",
       "      <td>...</td>\n",
       "      <td>...</td>\n",
       "      <td>...</td>\n",
       "      <td>...</td>\n",
       "      <td>...</td>\n",
       "      <td>...</td>\n",
       "      <td>...</td>\n",
       "    </tr>\n",
       "    <tr>\n",
       "      <th>1290</th>\n",
       "      <td>673</td>\n",
       "      <td>NaN</td>\n",
       "      <td>m. kearns, m. li, l. pitt, and l. valiant.</td>\n",
       "      <td>NaN</td>\n",
       "      <td>NaN</td>\n",
       "      <td>NaN</td>\n",
       "      <td>NaN</td>\n",
       "      <td>pp. 285-295.</td>\n",
       "      <td>acm press,</td>\n",
       "      <td>on the learnability of boolean formulae.</td>\n",
       "      <td>in proceedings of the nineteenth annual acm sy...</td>\n",
       "      <td>NaN</td>\n",
       "      <td>1987,</td>\n",
       "      <td>NaN</td>\n",
       "    </tr>\n",
       "    <tr>\n",
       "      <th>1291</th>\n",
       "      <td>337</td>\n",
       "      <td>NaN</td>\n",
       "      <td>y. freund and r.e. schapire.</td>\n",
       "      <td>NaN</td>\n",
       "      <td>NaN</td>\n",
       "      <td>NaN</td>\n",
       "      <td>NaN</td>\n",
       "      <td>NaN</td>\n",
       "      <td>NaN</td>\n",
       "      <td>game theory, on-line prediction and boosting.</td>\n",
       "      <td>in proceedings of the ninth annual conference ...</td>\n",
       "      <td>NaN</td>\n",
       "      <td>1996.</td>\n",
       "      <td>NaN</td>\n",
       "    </tr>\n",
       "    <tr>\n",
       "      <th>1292</th>\n",
       "      <td>1037</td>\n",
       "      <td>NaN</td>\n",
       "      <td>m. kearns.</td>\n",
       "      <td>NaN</td>\n",
       "      <td>NaN</td>\n",
       "      <td>NaN</td>\n",
       "      <td>to appear.</td>\n",
       "      <td>NaN</td>\n",
       "      <td>the mit press,</td>\n",
       "      <td>a bound on the error of cross validation, with...</td>\n",
       "      <td>in advances in neural information processing s...</td>\n",
       "      <td>NaN</td>\n",
       "      <td>1996.</td>\n",
       "      <td>NaN</td>\n",
       "    </tr>\n",
       "    <tr>\n",
       "      <th>1293</th>\n",
       "      <td>820</td>\n",
       "      <td>NaN</td>\n",
       "      <td>m. j. kearns, r. e. schapire, and l. m. sellie.</td>\n",
       "      <td>NaN</td>\n",
       "      <td>NaN</td>\n",
       "      <td>NaN</td>\n",
       "      <td>NaN</td>\n",
       "      <td>pages 341-352,</td>\n",
       "      <td>NaN</td>\n",
       "      <td>toward efficient agnostic learning.</td>\n",
       "      <td>in 5th colt,</td>\n",
       "      <td>NaN</td>\n",
       "      <td>1992.</td>\n",
       "      <td>NaN</td>\n",
       "    </tr>\n",
       "    <tr>\n",
       "      <th>1294</th>\n",
       "      <td>1277</td>\n",
       "      <td>NaN</td>\n",
       "      <td>robert e. schapire, yoav freund, peter bartlet...</td>\n",
       "      <td>NaN</td>\n",
       "      <td>NaN</td>\n",
       "      <td>NaN</td>\n",
       "      <td>NaN</td>\n",
       "      <td>NaN</td>\n",
       "      <td>NaN</td>\n",
       "      <td>boosting the margin: a new explanation for the...</td>\n",
       "      <td>in machine learning: proceedings of the fourte...</td>\n",
       "      <td>NaN</td>\n",
       "      <td>1997.</td>\n",
       "      <td>NaN</td>\n",
       "    </tr>\n",
       "  </tbody>\n",
       "</table>\n",
       "<p>1295 rows × 14 columns</p>\n",
       "</div>"
      ],
      "text/plain": [
       "      Entity Id address                                             author  \\\n",
       "0          1145     NaN           ronald l. rivest and robert e. schapire.   \n",
       "1          1280     NaN             r.e. schapire, y. freund, p. bartlett,   \n",
       "2           340     NaN                yoav freund and robert e. schapire.   \n",
       "3           684     NaN           m. kearns, m. li, l. pitt, l.g. valiant.   \n",
       "4          1009     NaN  michael j. kearns, robert e. schapire, and lin...   \n",
       "...         ...     ...                                                ...   \n",
       "1290        673     NaN         m. kearns, m. li, l. pitt, and l. valiant.   \n",
       "1291        337     NaN                       y. freund and r.e. schapire.   \n",
       "1292       1037     NaN                                         m. kearns.   \n",
       "1293        820     NaN    m. j. kearns, r. e. schapire, and l. m. sellie.   \n",
       "1294       1277     NaN  robert e. schapire, yoav freund, peter bartlet...   \n",
       "\n",
       "     editor institution  month        note           pages  \\\n",
       "0       NaN         NaN  april         NaN        299-347,   \n",
       "1       NaN         NaN    NaN         NaN               1   \n",
       "2       NaN         NaN    NaN         NaN             NaN   \n",
       "3       NaN         NaN    NaN         NaN    pp. 337-352.   \n",
       "4       NaN         NaN    NaN         NaN             NaN   \n",
       "...     ...         ...    ...         ...             ...   \n",
       "1290    NaN         NaN    NaN         NaN    pp. 285-295.   \n",
       "1291    NaN         NaN    NaN         NaN             NaN   \n",
       "1292    NaN         NaN    NaN  to appear.             NaN   \n",
       "1293    NaN         NaN    NaN         NaN  pages 341-352,   \n",
       "1294    NaN         NaN    NaN         NaN             NaN   \n",
       "\n",
       "                        publisher  \\\n",
       "0                             NaN   \n",
       "1                             NaN   \n",
       "2                morgan kaufmann,   \n",
       "3     morgan kaufmann publishers,   \n",
       "4                             NaN   \n",
       "...                           ...   \n",
       "1290                   acm press,   \n",
       "1291                          NaN   \n",
       "1292               the mit press,   \n",
       "1293                          NaN   \n",
       "1294                          NaN   \n",
       "\n",
       "                                                  title  \\\n",
       "0     inference of finite automata using homing sequ...   \n",
       "1     and w.s. leee. boosting the margin: a new expl...   \n",
       "2            experiments with a new boosting algorithm.   \n",
       "3           recent results on boolean concept learning.   \n",
       "4                   toward efficient agnostic learning.   \n",
       "...                                                 ...   \n",
       "1290           on the learnability of boolean formulae.   \n",
       "1291      game theory, on-line prediction and boosting.   \n",
       "1292  a bound on the error of cross validation, with...   \n",
       "1293                toward efficient agnostic learning.   \n",
       "1294  boosting the margin: a new explanation for the...   \n",
       "\n",
       "                                                  venue  volume   year  \\\n",
       "0                          information and computation,  103(2)  1993.   \n",
       "1                                                 1997.     NaN    NaN   \n",
       "2     in proceedings of the 13th international confe...     NaN  1996.   \n",
       "3     proceedings of the 4th international workshop ...     NaN  1987,   \n",
       "4                                     machine learning,     NaN    NaN   \n",
       "...                                                 ...     ...    ...   \n",
       "1290  in proceedings of the nineteenth annual acm sy...     NaN  1987,   \n",
       "1291  in proceedings of the ninth annual conference ...     NaN  1996.   \n",
       "1292  in advances in neural information processing s...     NaN  1996.   \n",
       "1293                                       in 5th colt,     NaN  1992.   \n",
       "1294  in machine learning: proceedings of the fourte...     NaN  1997.   \n",
       "\n",
       "      Unnamed: 13  \n",
       "0             NaN  \n",
       "1             NaN  \n",
       "2             NaN  \n",
       "3             NaN  \n",
       "4             NaN  \n",
       "...           ...  \n",
       "1290          NaN  \n",
       "1291          NaN  \n",
       "1292          NaN  \n",
       "1293          NaN  \n",
       "1294          NaN  \n",
       "\n",
       "[1295 rows x 14 columns]"
      ]
     },
     "execution_count": 19,
     "metadata": {},
     "output_type": "execute_result"
    }
   ],
   "source": [
    "CORA_shuffled = CORA.sample(frac=1).reset_index(drop=True)\n",
    "CORA_shuffled"
   ]
  },
  {
   "cell_type": "markdown",
   "metadata": {},
   "source": [
    "### Create CORA dataset "
   ]
  },
  {
   "cell_type": "code",
   "execution_count": 20,
   "metadata": {},
   "outputs": [],
   "source": [
    "from datasets.common.create_dataset import createDataset, createTrueLabels"
   ]
  },
  {
   "cell_type": "code",
   "execution_count": 21,
   "metadata": {},
   "outputs": [
    {
     "data": {
      "application/vnd.jupyter.widget-view+json": {
       "model_id": "65bd2052fb6344129ba900cc79840bf3",
       "version_major": 2,
       "version_minor": 0
      },
      "text/plain": [
       "HBox(children=(FloatProgress(value=1.0, bar_style='info', max=1.0), HTML(value='')))"
      ]
     },
     "metadata": {},
     "output_type": "display_data"
    },
    {
     "name": "stdout",
     "output_type": "stream",
     "text": [
      "\n"
     ]
    },
    {
     "data": {
      "application/vnd.jupyter.widget-view+json": {
       "model_id": "95c3f8df6fb6472090cee785f1073e15",
       "version_major": 2,
       "version_minor": 0
      },
      "text/plain": [
       "HBox(children=(FloatProgress(value=1.0, bar_style='info', max=1.0), HTML(value='')))"
      ]
     },
     "metadata": {},
     "output_type": "display_data"
    },
    {
     "name": "stdout",
     "output_type": "stream",
     "text": [
      "\n"
     ]
    }
   ],
   "source": [
    "fields = [\n",
    "     'address',\n",
    "     'author',\n",
    "     'editor',\n",
    "     'institution',\n",
    "     'month',\n",
    "     'note',\n",
    "     'pages',\n",
    "     'publisher',\n",
    "     'title',\n",
    "     'venue',\n",
    "     'volume',\n",
    "     'year',\n",
    "     'Unnamed: 13'\n",
    "]\n",
    "\n",
    "# fields = [\n",
    "#      'author',\n",
    "#      'title',\n",
    "# ]\n",
    "\n",
    "\n",
    "# CORA\n",
    "# data, true_matrix = createDataset(CORA, CORA_groundTruth, fields, 'Entity Id')\n",
    "\n",
    "# Toy CORA\n",
    "data, true_matrix = createDataset(CORA.head(15), CORA_groundTruth.head(50), fields, 'Entity Id')\n",
    "\n",
    "# Old CORA\n",
    "# data, true_matrix = createDataset(CORA1, CORA1_groundTruth, fields, '@id')"
   ]
  },
  {
   "cell_type": "code",
   "execution_count": 22,
   "metadata": {
    "tags": []
   },
   "outputs": [],
   "source": [
    "labels_groundTruth, numOfObjWithoutDups, groups = createTrueLabels(CORA['Entity Id'].tolist(),CORA_groundTruth)            \n",
    "data_length = [ len(x) for x in data ]"
   ]
  },
  {
   "cell_type": "markdown",
   "metadata": {},
   "source": [
    "### CORA specs"
   ]
  },
  {
   "cell_type": "code",
   "execution_count": 23,
   "metadata": {},
   "outputs": [
    {
     "data": {
      "text/html": [
       "<style  type=\"text/css\" >\n",
       "</style><table id=\"T_14d5cfd8_4e8f_11ec_9316_4074e08dca88\" ><thead>    <tr>        <th class=\"col_heading level0 col0\" >Spec</th>        <th class=\"col_heading level0 col1\" >#number</th>    </tr></thead><tbody>\n",
       "                <tr>\n",
       "                                <td id=\"T_14d5cfd8_4e8f_11ec_9316_4074e08dca88row0_col0\" class=\"data row0 col0\" >Objects without any duplicates</td>\n",
       "                        <td id=\"T_14d5cfd8_4e8f_11ec_9316_4074e08dca88row0_col1\" class=\"data row0 col1\" >19</td>\n",
       "            </tr>\n",
       "            <tr>\n",
       "                                <td id=\"T_14d5cfd8_4e8f_11ec_9316_4074e08dca88row1_col0\" class=\"data row1 col0\" >Objects with at least one duplicate</td>\n",
       "                        <td id=\"T_14d5cfd8_4e8f_11ec_9316_4074e08dca88row1_col1\" class=\"data row1 col1\" >1276</td>\n",
       "            </tr>\n",
       "            <tr>\n",
       "                                <td id=\"T_14d5cfd8_4e8f_11ec_9316_4074e08dca88row2_col0\" class=\"data row2 col0\" >Total number of objects</td>\n",
       "                        <td id=\"T_14d5cfd8_4e8f_11ec_9316_4074e08dca88row2_col1\" class=\"data row2 col1\" >1295</td>\n",
       "            </tr>\n",
       "            <tr>\n",
       "                                <td id=\"T_14d5cfd8_4e8f_11ec_9316_4074e08dca88row3_col0\" class=\"data row3 col0\" >Number of ER clusters</td>\n",
       "                        <td id=\"T_14d5cfd8_4e8f_11ec_9316_4074e08dca88row3_col1\" class=\"data row3 col1\" >93</td>\n",
       "            </tr>\n",
       "            <tr>\n",
       "                                <td id=\"T_14d5cfd8_4e8f_11ec_9316_4074e08dca88row4_col0\" class=\"data row4 col0\" >Dataset size</td>\n",
       "                        <td id=\"T_14d5cfd8_4e8f_11ec_9316_4074e08dca88row4_col1\" class=\"data row4 col1\" >15</td>\n",
       "            </tr>\n",
       "            <tr>\n",
       "                                <td id=\"T_14d5cfd8_4e8f_11ec_9316_4074e08dca88row5_col0\" class=\"data row5 col0\" >Average length</td>\n",
       "                        <td id=\"T_14d5cfd8_4e8f_11ec_9316_4074e08dca88row5_col1\" class=\"data row5 col1\" >222</td>\n",
       "            </tr>\n",
       "            <tr>\n",
       "                                <td id=\"T_14d5cfd8_4e8f_11ec_9316_4074e08dca88row6_col0\" class=\"data row6 col0\" >Min length</td>\n",
       "                        <td id=\"T_14d5cfd8_4e8f_11ec_9316_4074e08dca88row6_col1\" class=\"data row6 col1\" >101</td>\n",
       "            </tr>\n",
       "            <tr>\n",
       "                                <td id=\"T_14d5cfd8_4e8f_11ec_9316_4074e08dca88row7_col0\" class=\"data row7 col0\" >Max length</td>\n",
       "                        <td id=\"T_14d5cfd8_4e8f_11ec_9316_4074e08dca88row7_col1\" class=\"data row7 col1\" >274</td>\n",
       "            </tr>\n",
       "            <tr>\n",
       "                                <td id=\"T_14d5cfd8_4e8f_11ec_9316_4074e08dca88row8_col0\" class=\"data row8 col0\" >Median length</td>\n",
       "                        <td id=\"T_14d5cfd8_4e8f_11ec_9316_4074e08dca88row8_col1\" class=\"data row8 col1\" >228</td>\n",
       "            </tr>\n",
       "    </tbody></table>"
      ],
      "text/plain": [
       "<pandas.io.formats.style.Styler at 0x26ba20ccc88>"
      ]
     },
     "execution_count": 23,
     "metadata": {},
     "output_type": "execute_result"
    }
   ],
   "source": [
    "specs = {\n",
    "    'Objects without any duplicates' : numOfObjWithoutDups-len(groups), \n",
    "    'Objects with at least one duplicate' : sum([len(x) for x in groups]),\n",
    "    'Total number of objects' : CORA.shape[0], \n",
    "    'Number of ER clusters' : len(groups),\n",
    "    'Dataset size' : len(data), \n",
    "    'Average length' : np.mean(data_length), \n",
    "    'Min length' : min(data_length), \n",
    "    'Max length' : max(data_length), \n",
    "    'Median length' : np.median(data_length)\n",
    "}\n",
    "\n",
    "specsCoraDf = pd.DataFrame(list(specs.items()), columns=['Spec','#number'])\n",
    "specsCoraDf[['#number']] = specsCoraDf[['#number']].astype(int)\n",
    "specsCoraDf.style.hide_index()"
   ]
  },
  {
   "cell_type": "markdown",
   "metadata": {
    "tags": []
   },
   "source": [
    "#### Dataset attributes"
   ]
  },
  {
   "cell_type": "code",
   "execution_count": 24,
   "metadata": {
    "tags": []
   },
   "outputs": [
    {
     "data": {
      "text/plain": [
       "['Entity Id',\n",
       " 'address',\n",
       " 'author',\n",
       " 'editor',\n",
       " 'institution',\n",
       " 'month',\n",
       " 'note',\n",
       " 'pages',\n",
       " 'publisher',\n",
       " 'title',\n",
       " 'venue',\n",
       " 'volume',\n",
       " 'year',\n",
       " 'Unnamed: 13']"
      ]
     },
     "execution_count": 24,
     "metadata": {},
     "output_type": "execute_result"
    }
   ],
   "source": [
    "list(CORA.columns)"
   ]
  },
  {
   "cell_type": "code",
   "execution_count": 25,
   "metadata": {
    "tags": []
   },
   "outputs": [
    {
     "data": {
      "image/png": "[encoded data removed]",
      "text/plain": [
       "<Figure size 1080x360 with 1 Axes>"
      ]
     },
     "metadata": {},
     "output_type": "display_data"
    }
   ],
   "source": [
    "plt.figure(figsize=(15,5))\n",
    "plt.bar(range(0,len(data_length),1),data_length)\n",
    "plt.xlabel(\"Record index\")\n",
    "plt.ylabel(\"String length\")\n",
    "plt.title(\"StrLength\")\n",
    "plt.show()"
   ]
  },
  {
   "cell_type": "markdown",
   "metadata": {},
   "source": [
    "Results dataframe"
   ]
  },
  {
   "cell_type": "code",
   "execution_count": 26,
   "metadata": {},
   "outputs": [],
   "source": [
    "results_dataframe = pd.DataFrame(columns=['max_numberOf_clusters','max_editDistance','similarityThreshold','windowSize','metric','similarityVectors',\"distanceMetricEmbedding\",\"distanceMetric\",\"number_of_permutations\",\"ngramms\",\"jaccard_with_chars\",'Accuracy','Precision','Recall','F1','Time'])"
   ]
  },
  {
   "cell_type": "markdown",
   "metadata": {},
   "source": [
    "### CORA: Best Jaccard execution"
   ]
  },
  {
   "cell_type": "code",
   "execution_count": 27,
   "metadata": {
    "tags": []
   },
   "outputs": [
    {
     "name": "stdout",
     "output_type": "stream",
     "text": [
      "\n",
      "#####################################################################\n",
      "#     .~ RankedWTAHash with Vantage embeddings starts training ~.   #\n",
      "#####################################################################\n",
      "\n",
      "###########################################################\n",
      "# > 1. Prototype selection phase                          #\n",
      "###########################################################\n",
      "\n",
      "\n",
      "-> Finding prototypes and representatives of each cluster:\n"
     ]
    },
    {
     "data": {
      "application/vnd.jupyter.widget-view+json": {
       "model_id": "8a823e59936046ad9c7aa723e56ea7f4",
       "version_major": 2,
       "version_minor": 0
      },
      "text/plain": [
       "HBox(children=(FloatProgress(value=0.0, max=15.0), HTML(value='')))"
      ]
     },
     "metadata": {},
     "output_type": "display_data"
    },
    {
     "name": "stdout",
     "output_type": "stream",
     "text": [
      "\n",
      "\n",
      "- Final number of prototypes:  3\n",
      "\n",
      "# Finished in 0.0346 secs\n",
      "\n",
      "\n",
      "###########################################################\n",
      "# > 2. Embeddings based on the Vantage objects            #\n",
      "###########################################################\n",
      "\n",
      "\n",
      "-> Creating Embeddings:\n"
     ]
    },
    {
     "data": {
      "application/vnd.jupyter.widget-view+json": {
       "model_id": "2c8a28484b054a1ba1944852e291a628",
       "version_major": 2,
       "version_minor": 0
      },
      "text/plain": [
       "HBox(children=(FloatProgress(value=0.0, max=15.0), HTML(value='')))"
      ]
     },
     "metadata": {},
     "output_type": "display_data"
    },
    {
     "name": "stdout",
     "output_type": "stream",
     "text": [
      "\n",
      "- Embeddings created\n",
      "\n",
      "# Finished in 0.0332 secs\n",
      "\n",
      "\n",
      "###########################################################\n",
      "# > 3. WTA Hashing                                        #\n",
      "###########################################################\n",
      "\n",
      "\n",
      "-> Creating WTA Buckets:\n",
      "\n",
      "- WTA number of buckets:  2\n",
      "\n",
      "# Finished in 0.0021 secs\n",
      "\n",
      "\n",
      "###########################################################\n",
      "# > 4. Similarity checking                                #\n",
      "###########################################################\n",
      "\n",
      "\n",
      "-> Similarity checking:\n"
     ]
    },
    {
     "name": "stderr",
     "output_type": "stream",
     "text": [
      "C:\\Users\\nikol\\Desktop\\GitHub\\Entity-Resolution-in-Dissimilarity-Spaces\\src\\hash\\wta.py:34: UserWarning: Window size greater than vector dimension\n",
      "  warnings.warn(\"Window size greater than vector dimension\")\n"
     ]
    },
    {
     "data": {
      "application/vnd.jupyter.widget-view+json": {
       "model_id": "40e7ef8932774e4f87103057429c21af",
       "version_major": 2,
       "version_minor": 0
      },
      "text/plain": [
       "HBox(children=(FloatProgress(value=0.0, max=2.0), HTML(value='')))"
      ]
     },
     "metadata": {},
     "output_type": "display_data"
    },
    {
     "name": "stdout",
     "output_type": "stream",
     "text": [
      "\n",
      "\n",
      "# Finished in 0.0720 secs\n",
      "\n",
      "#####################################################################\n",
      "#                           .~  End  ~.                             #\n",
      "#####################################################################\n",
      "\n"
     ]
    },
    {
     "ename": "NameError",
     "evalue": "name 'evaluate' is not defined",
     "output_type": "error",
     "traceback": [
      "\u001b[1;31m---------------------------------------------------------------------------\u001b[0m",
      "\u001b[1;31mNameError\u001b[0m                                 Traceback (most recent call last)",
      "\u001b[1;32m<timed exec>\u001b[0m in \u001b[0;36m<module>\u001b[1;34m\u001b[0m\n",
      "\u001b[1;31mNameError\u001b[0m: name 'evaluate' is not defined"
     ]
    }
   ],
   "source": [
    "%%time\n",
    "\n",
    "ngramms= 3                                  # If jaccard used, n-gramms are used\n",
    "jaccard_withchars = True                    # n-gramms either of chars and either of words\n",
    "\n",
    "# Prototype selection\n",
    "max_numberOf_clusters= 1000                  # Νumber of loops for finding representatives, it is an upper bound of clusters.\n",
    "max_dissimilarityDistance= 0.5                       # The threshold for the triangle inequality\n",
    "distanceMetric= 'jaccard'                   # Distance metric between the strings when creating the space\n",
    "prototypesFilterThr = 0.6                   # Prototypes must differ more than that threshold\n",
    "\n",
    "# Embedding phase\n",
    "distanceMetricEmbedding = 'euclid_jaccard'  # Embedding metric\n",
    "\n",
    "# WTA algorithm\n",
    "windowSize = 70                           # Vector size for WTA algo\n",
    "number_of_permutations = 1                # WTA number of permutations\n",
    "\n",
    "# Similarity evaluation\n",
    "similarityVectors = 'ranked'                  # which vectors will be passed to WTA step\n",
    "similarityThreshold = 0.6                    # Similarity threshold for the final step\n",
    "metric = 'kendal'                             # Similarity metric between vectors\n",
    "\n",
    "start = time.time()\n",
    "model = RankedWTAHash(\n",
    "    max_numberOf_clusters= max_numberOf_clusters,\n",
    "    max_dissimilarityDistance= max_dissimilarityDistance,\n",
    "    windowSize= windowSize,\n",
    "    similarityThreshold= similarityThreshold,\n",
    "    metric=metric,\n",
    "    similarityVectors=similarityVectors,\n",
    "    number_of_permutations = number_of_permutations,\n",
    "    distanceMetric= distanceMetric,\n",
    "    distanceMetricEmbedding = distanceMetricEmbedding,\n",
    "    ngramms= ngramms,\n",
    "    jaccard_withchars = jaccard_withchars,\n",
    "    prototypesFilterThr = prototypesFilterThr,\n",
    "    verboseLevel = 0\n",
    ")\n",
    "model.hackForDebug(labels_groundTruth, true_matrix)\n",
    "model = model.fit(data)\n",
    "acc,f1,precision,recall = evaluate(model.mapping_matrix, true_matrix, True)\n",
    "report(model)\n",
    "exec_time = time.time() - start\n",
    "results_dataframe.loc[len(results_dataframe)+1] = [max_numberOf_clusters,max_dissimilarityDistance,similarityThreshold,windowSize,metric,similarityVectors,distanceMetricEmbedding,distanceMetric,number_of_permutations,ngramms,jaccard_withchars,acc,precision,recall,f1,exec_time]"
   ]
  },
  {
   "cell_type": "code",
   "execution_count": 28,
   "metadata": {},
   "outputs": [
    {
     "data": {
      "text/plain": [
       "array([[1, 3, 2],\n",
       "       [3, 1, 2],\n",
       "       [3, 1, 2],\n",
       "       [3, 1, 2],\n",
       "       [3, 1, 2],\n",
       "       [3, 2, 1],\n",
       "       [3, 2, 1],\n",
       "       [3, 2, 1],\n",
       "       [3, 2, 1],\n",
       "       [3, 2, 1],\n",
       "       [3, 2, 1],\n",
       "       [3, 2, 1],\n",
       "       [3, 2, 1],\n",
       "       [3, 2, 1],\n",
       "       [2, 3, 1]], dtype=int64)"
      ]
     },
     "execution_count": 28,
     "metadata": {},
     "output_type": "execute_result"
    }
   ],
   "source": [
    "model.Embeddings"
   ]
  },
  {
   "cell_type": "code",
   "execution_count": 29,
   "metadata": {},
   "outputs": [],
   "source": [
    "# groups"
   ]
  },
  {
   "cell_type": "code",
   "execution_count": 30,
   "metadata": {},
   "outputs": [
    {
     "data": {
      "text/html": [
       "<div>\n",
       "<style scoped>\n",
       "    .dataframe tbody tr th:only-of-type {\n",
       "        vertical-align: middle;\n",
       "    }\n",
       "\n",
       "    .dataframe tbody tr th {\n",
       "        vertical-align: top;\n",
       "    }\n",
       "\n",
       "    .dataframe thead th {\n",
       "        text-align: right;\n",
       "    }\n",
       "</style>\n",
       "<table border=\"1\" class=\"dataframe\">\n",
       "  <thead>\n",
       "    <tr style=\"text-align: right;\">\n",
       "      <th></th>\n",
       "      <th>max_numberOf_clusters</th>\n",
       "      <th>max_editDistance</th>\n",
       "      <th>similarityThreshold</th>\n",
       "      <th>windowSize</th>\n",
       "      <th>metric</th>\n",
       "      <th>similarityVectors</th>\n",
       "      <th>distanceMetricEmbedding</th>\n",
       "      <th>distanceMetric</th>\n",
       "      <th>number_of_permutations</th>\n",
       "      <th>ngramms</th>\n",
       "      <th>jaccard_with_chars</th>\n",
       "      <th>Accuracy</th>\n",
       "      <th>Precision</th>\n",
       "      <th>Recall</th>\n",
       "      <th>F1</th>\n",
       "      <th>Time</th>\n",
       "    </tr>\n",
       "  </thead>\n",
       "  <tbody>\n",
       "  </tbody>\n",
       "</table>\n",
       "</div>"
      ],
      "text/plain": [
       "Empty DataFrame\n",
       "Columns: [max_numberOf_clusters, max_editDistance, similarityThreshold, windowSize, metric, similarityVectors, distanceMetricEmbedding, distanceMetric, number_of_permutations, ngramms, jaccard_with_chars, Accuracy, Precision, Recall, F1, Time]\n",
       "Index: []"
      ]
     },
     "execution_count": 30,
     "metadata": {},
     "output_type": "execute_result"
    }
   ],
   "source": [
    "results_dataframe"
   ]
  },
  {
   "cell_type": "markdown",
   "metadata": {
    "tags": []
   },
   "source": [
    "### CORA: Best Edit distance execution"
   ]
  },
  {
   "cell_type": "code",
   "execution_count": 34,
   "metadata": {
    "tags": []
   },
   "outputs": [
    {
     "name": "stdout",
     "output_type": "stream",
     "text": [
      "\n",
      "#####################################################################\n",
      "#     .~ RankedWTAHash with Vantage embeddings starts training ~.   #\n",
      "#####################################################################\n",
      "\n",
      "###########################################################\n",
      "# > 1. Prototype selection phase                          #\n",
      "###########################################################\n",
      "\n",
      "\n",
      "-> Finding prototypes and representatives of each cluster:\n"
     ]
    },
    {
     "data": {
      "application/vnd.jupyter.widget-view+json": {
       "model_id": "8cf11d91767146f29f3941f07a72f90b",
       "version_major": 2,
       "version_minor": 0
      },
      "text/plain": [
       "HBox(children=(FloatProgress(value=0.0, max=15.0), HTML(value='')))"
      ]
     },
     "metadata": {},
     "output_type": "display_data"
    },
    {
     "name": "stdout",
     "output_type": "stream",
     "text": [
      "\n",
      "\n",
      "- Final number of prototypes:  3\n",
      "\n",
      "# Finished in 0.0307 secs\n",
      "\n",
      "\n",
      "###########################################################\n",
      "# > 2. Embeddings based on the Vantage objects            #\n",
      "###########################################################\n",
      "\n",
      "\n",
      "-> Creating Embeddings:\n"
     ]
    },
    {
     "data": {
      "application/vnd.jupyter.widget-view+json": {
       "model_id": "6f5d7ec43e574649a906078763199fb9",
       "version_major": 2,
       "version_minor": 0
      },
      "text/plain": [
       "HBox(children=(FloatProgress(value=0.0, max=15.0), HTML(value='')))"
      ]
     },
     "metadata": {},
     "output_type": "display_data"
    },
    {
     "name": "stdout",
     "output_type": "stream",
     "text": [
      "\n",
      "- Embeddings created\n",
      "\n",
      "# Finished in 0.0365 secs\n",
      "\n",
      "\n",
      "###########################################################\n",
      "# > 3. WTA Hashing                                        #\n",
      "###########################################################\n",
      "\n",
      "\n",
      "-> Creating WTA Buckets:\n",
      "\n",
      "- WTA number of buckets:  3\n",
      "\n",
      "# Finished in 0.0010 secs\n",
      "\n",
      "\n",
      "###########################################################\n",
      "# > 4. Similarity checking                                #\n",
      "###########################################################\n",
      "\n",
      "\n",
      "-> Similarity checking:\n"
     ]
    },
    {
     "name": "stderr",
     "output_type": "stream",
     "text": [
      "C:\\Users\\nikol\\Desktop\\GitHub\\Entity-Resolution-in-Dissimilarity-Spaces\\src\\hash\\wta.py:34: UserWarning: Window size greater than vector dimension\n",
      "  warnings.warn(\"Window size greater than vector dimension\")\n"
     ]
    },
    {
     "data": {
      "application/vnd.jupyter.widget-view+json": {
       "model_id": "8f75970eba2c49fa878089f4b108b839",
       "version_major": 2,
       "version_minor": 0
      },
      "text/plain": [
       "HBox(children=(FloatProgress(value=0.0, max=3.0), HTML(value='')))"
      ]
     },
     "metadata": {},
     "output_type": "display_data"
    },
    {
     "name": "stdout",
     "output_type": "stream",
     "text": [
      "\n"
     ]
    },
    {
     "ename": "AttributeError",
     "evalue": "'RankedWTAHash' object has no attribute 'true_matrix'",
     "output_type": "error",
     "traceback": [
      "\u001b[1;31m---------------------------------------------------------------------------\u001b[0m",
      "\u001b[1;31mAttributeError\u001b[0m                            Traceback (most recent call last)",
      "\u001b[1;32m<timed exec>\u001b[0m in \u001b[0;36m<module>\u001b[1;34m\u001b[0m\n",
      "\u001b[1;32m~\\Desktop\\GitHub\\Entity-Resolution-in-Dissimilarity-Spaces\\src\\model.py\u001b[0m in \u001b[0;36mfit\u001b[1;34m(self, X)\u001b[0m\n\u001b[0;32m    203\u001b[0m             \u001b[0mself\u001b[0m\u001b[1;33m.\u001b[0m\u001b[0mmapping\u001b[0m\u001b[1;33m,\u001b[0m\u001b[0mself\u001b[0m\u001b[1;33m.\u001b[0m\u001b[0mmapping_matrix\u001b[0m \u001b[1;33m=\u001b[0m \u001b[0mself\u001b[0m\u001b[1;33m.\u001b[0m\u001b[0mSimilarityEvaluation\u001b[0m\u001b[1;33m(\u001b[0m\u001b[0mself\u001b[0m\u001b[1;33m.\u001b[0m\u001b[0mbuckets\u001b[0m\u001b[1;33m,\u001b[0m\u001b[0mself\u001b[0m\u001b[1;33m.\u001b[0m\u001b[0mrankedVectors\u001b[0m\u001b[1;33m,\u001b[0m\u001b[0mself\u001b[0m\u001b[1;33m.\u001b[0m\u001b[0msimilarityThreshold\u001b[0m\u001b[1;33m,\u001b[0m\u001b[0mmaxOnly\u001b[0m\u001b[1;33m=\u001b[0m\u001b[0mself\u001b[0m\u001b[1;33m.\u001b[0m\u001b[0mmaxOnly\u001b[0m\u001b[1;33m,\u001b[0m \u001b[0mmetric\u001b[0m\u001b[1;33m=\u001b[0m\u001b[0mself\u001b[0m\u001b[1;33m.\u001b[0m\u001b[0mmetric\u001b[0m\u001b[1;33m)\u001b[0m\u001b[1;33m\u001b[0m\u001b[1;33m\u001b[0m\u001b[0m\n\u001b[0;32m    204\u001b[0m         \u001b[1;32melif\u001b[0m \u001b[0mself\u001b[0m\u001b[1;33m.\u001b[0m\u001b[0msimilarityVectors\u001b[0m \u001b[1;33m==\u001b[0m \u001b[1;34m'initial'\u001b[0m\u001b[1;33m:\u001b[0m\u001b[1;33m\u001b[0m\u001b[1;33m\u001b[0m\u001b[0m\n\u001b[1;32m--> 205\u001b[1;33m             \u001b[0mself\u001b[0m\u001b[1;33m.\u001b[0m\u001b[0mmapping\u001b[0m\u001b[1;33m,\u001b[0m\u001b[0mself\u001b[0m\u001b[1;33m.\u001b[0m\u001b[0mmapping_matrix\u001b[0m \u001b[1;33m=\u001b[0m \u001b[0mself\u001b[0m\u001b[1;33m.\u001b[0m\u001b[0mSimilarityEvaluation\u001b[0m\u001b[1;33m(\u001b[0m\u001b[0mself\u001b[0m\u001b[1;33m.\u001b[0m\u001b[0mbuckets\u001b[0m\u001b[1;33m,\u001b[0m\u001b[0mself\u001b[0m\u001b[1;33m.\u001b[0m\u001b[0mEmbeddings\u001b[0m\u001b[1;33m,\u001b[0m\u001b[0mself\u001b[0m\u001b[1;33m.\u001b[0m\u001b[0msimilarityThreshold\u001b[0m\u001b[1;33m,\u001b[0m\u001b[0mmaxOnly\u001b[0m\u001b[1;33m=\u001b[0m\u001b[0mself\u001b[0m\u001b[1;33m.\u001b[0m\u001b[0mmaxOnly\u001b[0m\u001b[1;33m,\u001b[0m \u001b[0mmetric\u001b[0m\u001b[1;33m=\u001b[0m\u001b[0mself\u001b[0m\u001b[1;33m.\u001b[0m\u001b[0mmetric\u001b[0m\u001b[1;33m)\u001b[0m\u001b[1;33m\u001b[0m\u001b[1;33m\u001b[0m\u001b[0m\n\u001b[0m\u001b[0;32m    206\u001b[0m         \u001b[1;32melse\u001b[0m\u001b[1;33m:\u001b[0m\u001b[1;33m\u001b[0m\u001b[1;33m\u001b[0m\u001b[0m\n\u001b[0;32m    207\u001b[0m             \u001b[0mwarnings\u001b[0m\u001b[1;33m.\u001b[0m\u001b[0mwarn\u001b[0m\u001b[1;33m(\u001b[0m\u001b[1;34m\"similarityVectors: Available options are: ranked,initial\"\u001b[0m\u001b[1;33m)\u001b[0m\u001b[1;33m\u001b[0m\u001b[1;33m\u001b[0m\u001b[0m\n",
      "\u001b[1;32m~\\Desktop\\GitHub\\Entity-Resolution-in-Dissimilarity-Spaces\\src\\model.py\u001b[0m in \u001b[0;36mSimilarityEvaluation\u001b[1;34m(self, buckets, vectors, threshold, maxOnly, metric)\u001b[0m\n\u001b[0;32m    539\u001b[0m                     \u001b[0mself\u001b[0m\u001b[1;33m.\u001b[0m\u001b[0msimilarityProb_matrix\u001b[0m\u001b[1;33m[\u001b[0m\u001b[0mi_vector_id\u001b[0m\u001b[1;33m]\u001b[0m\u001b[1;33m[\u001b[0m\u001b[0mv_vector_id\u001b[0m\u001b[1;33m]\u001b[0m \u001b[1;33m=\u001b[0m \u001b[0msimilarity_prob\u001b[0m\u001b[1;33m\u001b[0m\u001b[1;33m\u001b[0m\u001b[0m\n\u001b[0;32m    540\u001b[0m \u001b[1;33m\u001b[0m\u001b[0m\n\u001b[1;32m--> 541\u001b[1;33m                     \u001b[1;32mif\u001b[0m \u001b[0mself\u001b[0m\u001b[1;33m.\u001b[0m\u001b[0mtrue_matrix\u001b[0m\u001b[1;33m[\u001b[0m\u001b[0mv_vector_id\u001b[0m\u001b[1;33m]\u001b[0m\u001b[1;33m[\u001b[0m\u001b[0mi_vector_id\u001b[0m\u001b[1;33m]\u001b[0m \u001b[1;32mor\u001b[0m \u001b[0mself\u001b[0m\u001b[1;33m.\u001b[0m\u001b[0mtrue_matrix\u001b[0m\u001b[1;33m[\u001b[0m\u001b[0mi_vector_id\u001b[0m\u001b[1;33m]\u001b[0m\u001b[1;33m[\u001b[0m\u001b[0mv_vector_id\u001b[0m\u001b[1;33m]\u001b[0m\u001b[1;33m:\u001b[0m\u001b[1;33m\u001b[0m\u001b[1;33m\u001b[0m\u001b[0m\n\u001b[0m\u001b[0;32m    542\u001b[0m                         \u001b[0mself\u001b[0m\u001b[1;33m.\u001b[0m\u001b[0msameObjectsCompared\u001b[0m \u001b[1;33m+=\u001b[0m \u001b[1;36m1\u001b[0m\u001b[1;33m\u001b[0m\u001b[1;33m\u001b[0m\u001b[0m\n\u001b[0;32m    543\u001b[0m \u001b[1;33m\u001b[0m\u001b[0m\n",
      "\u001b[1;31mAttributeError\u001b[0m: 'RankedWTAHash' object has no attribute 'true_matrix'"
     ]
    }
   ],
   "source": [
    "%%time\n",
    "\n",
    "# Prototype selection\n",
    "max_numberOf_clusters= 1000                  # Νumber of loops for finding representatives, it is an upper bound of clusters.\n",
    "max_dissimilarityDistance= 100                       # The threshold for the triangle inequality\n",
    "distanceMetric= 'edit'                   # Distance metric between the vectors when creating the space\n",
    "prototypesFilterThr = 100                # Prototypes must differ more that threshold\n",
    "\n",
    "# Embedding phase\n",
    "distanceMetricEmbedding = 'l_inf'  # Embedding metric\n",
    "\n",
    "# WTA algorithm\n",
    "windowSize= 37                             # Vector size for WTA algo\n",
    "number_of_permutations = 3                 # WTA number of permutations\n",
    "\n",
    "\n",
    "# Similarity evaluation\n",
    "similarityVectors='initial'                  # which vectors will be passed to WTA step\n",
    "similarityThreshold= 0.7                    # Similarity threshold for the final step\n",
    "metric='kendal'                             # Similarity metric between vectors\n",
    "\n",
    "\n",
    "start = time.time()\n",
    "model = RankedWTAHash(\n",
    "    max_numberOf_clusters= max_numberOf_clusters,    \n",
    "    max_dissimilarityDistance= max_dissimilarityDistance,    \n",
    "    windowSize= windowSize,    \n",
    "    similarityThreshold= similarityThreshold,    \n",
    "    metric= metric,    \n",
    "    similarityVectors=similarityVectors,    \n",
    "    number_of_permutations = number_of_permutations,\n",
    "    distanceMetric= distanceMetric,\n",
    "    distanceMetricEmbedding = distanceMetricEmbedding,\n",
    "    ngramms= ngramms,\n",
    "    jaccard_withchars = jaccard_withchars,\n",
    "    prototypesFilterThr = prototypesFilterThr\n",
    ")\n",
    "model = model.fit(data)\n",
    "acc,f1,precision,recall = evaluate(model.mapping_matrix,true_matrix, True)\n",
    "exec_time = time.time() - start\n",
    "results_dataframe.loc[len(results_dataframe)+1] = [max_numberOf_clusters,max_dissimilarityDistance,similarityThreshold,windowSize,metric,similarityVectors,distanceMetricEmbedding,distanceMetric,number_of_permutations,ngramms,jaccard_withchars,acc,precision,recall,f1,exec_time]"
   ]
  },
  {
   "cell_type": "markdown",
   "metadata": {},
   "source": [
    "### Embeddings"
   ]
  },
  {
   "cell_type": "code",
   "execution_count": 32,
   "metadata": {
    "tags": []
   },
   "outputs": [
    {
     "ename": "ValueError",
     "evalue": "Unknown projection '3d'",
     "output_type": "error",
     "traceback": [
      "\u001b[1;31m---------------------------------------------------------------------------\u001b[0m",
      "\u001b[1;31mKeyError\u001b[0m                                  Traceback (most recent call last)",
      "\u001b[1;32m~\\anaconda3\\lib\\site-packages\\matplotlib\\projections\\__init__.py\u001b[0m in \u001b[0;36mget_projection_class\u001b[1;34m(projection)\u001b[0m\n\u001b[0;32m     57\u001b[0m     \u001b[1;32mtry\u001b[0m\u001b[1;33m:\u001b[0m\u001b[1;33m\u001b[0m\u001b[1;33m\u001b[0m\u001b[0m\n\u001b[1;32m---> 58\u001b[1;33m         \u001b[1;32mreturn\u001b[0m \u001b[0mprojection_registry\u001b[0m\u001b[1;33m.\u001b[0m\u001b[0mget_projection_class\u001b[0m\u001b[1;33m(\u001b[0m\u001b[0mprojection\u001b[0m\u001b[1;33m)\u001b[0m\u001b[1;33m\u001b[0m\u001b[1;33m\u001b[0m\u001b[0m\n\u001b[0m\u001b[0;32m     59\u001b[0m     \u001b[1;32mexcept\u001b[0m \u001b[0mKeyError\u001b[0m\u001b[1;33m:\u001b[0m\u001b[1;33m\u001b[0m\u001b[1;33m\u001b[0m\u001b[0m\n",
      "\u001b[1;32m~\\anaconda3\\lib\\site-packages\\matplotlib\\projections\\__init__.py\u001b[0m in \u001b[0;36mget_projection_class\u001b[1;34m(self, name)\u001b[0m\n\u001b[0;32m     24\u001b[0m         \"\"\"\n\u001b[1;32m---> 25\u001b[1;33m         \u001b[1;32mreturn\u001b[0m \u001b[0mself\u001b[0m\u001b[1;33m.\u001b[0m\u001b[0m_all_projection_types\u001b[0m\u001b[1;33m[\u001b[0m\u001b[0mname\u001b[0m\u001b[1;33m]\u001b[0m\u001b[1;33m\u001b[0m\u001b[1;33m\u001b[0m\u001b[0m\n\u001b[0m\u001b[0;32m     26\u001b[0m \u001b[1;33m\u001b[0m\u001b[0m\n",
      "\u001b[1;31mKeyError\u001b[0m: '3d'",
      "\nDuring handling of the above exception, another exception occurred:\n",
      "\u001b[1;31mValueError\u001b[0m                                Traceback (most recent call last)",
      "\u001b[1;32m<ipython-input-32-09e3046ce61f>\u001b[0m in \u001b[0;36m<module>\u001b[1;34m\u001b[0m\n\u001b[1;32m----> 1\u001b[1;33m \u001b[0mpcaComponents\u001b[0m \u001b[1;33m=\u001b[0m \u001b[0mPCA_SpaceVisualization_3D\u001b[0m\u001b[1;33m(\u001b[0m\u001b[0mmodel\u001b[0m\u001b[1;33m.\u001b[0m\u001b[0mEmbeddings\u001b[0m\u001b[1;33m,\u001b[0m\u001b[0mmodel\u001b[0m\u001b[1;33m.\u001b[0m\u001b[0mprototypeArray\u001b[0m\u001b[1;33m)\u001b[0m\u001b[1;33m\u001b[0m\u001b[1;33m\u001b[0m\u001b[0m\n\u001b[0m",
      "\u001b[1;32m~\\Desktop\\GitHub\\Entity-Resolution-in-Dissimilarity-Spaces\\src\\plot\\dimension_reduction.py\u001b[0m in \u001b[0;36mPCA_SpaceVisualization_3D\u001b[1;34m(X, Prototypes, title, withText, decompositionMenthod)\u001b[0m\n\u001b[0;32m     63\u001b[0m     \u001b[1;31m# Plotting code\u001b[0m\u001b[1;33m\u001b[0m\u001b[1;33m\u001b[0m\u001b[1;33m\u001b[0m\u001b[0m\n\u001b[0;32m     64\u001b[0m     \u001b[0mfig\u001b[0m \u001b[1;33m=\u001b[0m \u001b[0mplt\u001b[0m\u001b[1;33m.\u001b[0m\u001b[0mfigure\u001b[0m\u001b[1;33m(\u001b[0m\u001b[0mfigsize\u001b[0m\u001b[1;33m=\u001b[0m\u001b[1;33m(\u001b[0m\u001b[1;36m12\u001b[0m\u001b[1;33m,\u001b[0m\u001b[1;36m10\u001b[0m\u001b[1;33m)\u001b[0m\u001b[1;33m)\u001b[0m\u001b[1;33m\u001b[0m\u001b[1;33m\u001b[0m\u001b[0m\n\u001b[1;32m---> 65\u001b[1;33m     \u001b[0max\u001b[0m \u001b[1;33m=\u001b[0m \u001b[0mfig\u001b[0m\u001b[1;33m.\u001b[0m\u001b[0madd_subplot\u001b[0m\u001b[1;33m(\u001b[0m\u001b[1;36m111\u001b[0m\u001b[1;33m,\u001b[0m \u001b[0mprojection\u001b[0m\u001b[1;33m=\u001b[0m\u001b[1;34m'3d'\u001b[0m\u001b[1;33m)\u001b[0m\u001b[1;33m\u001b[0m\u001b[1;33m\u001b[0m\u001b[0m\n\u001b[0m\u001b[0;32m     66\u001b[0m \u001b[1;33m\u001b[0m\u001b[0m\n\u001b[0;32m     67\u001b[0m     \u001b[1;32mif\u001b[0m \u001b[0mdecompositionMenthod\u001b[0m \u001b[1;33m==\u001b[0m \u001b[1;34m'PCA'\u001b[0m\u001b[1;33m:\u001b[0m\u001b[1;33m\u001b[0m\u001b[1;33m\u001b[0m\u001b[0m\n",
      "\u001b[1;32m~\\anaconda3\\lib\\site-packages\\matplotlib\\figure.py\u001b[0m in \u001b[0;36madd_subplot\u001b[1;34m(self, *args, **kwargs)\u001b[0m\n\u001b[0;32m   1394\u001b[0m         \u001b[1;32melse\u001b[0m\u001b[1;33m:\u001b[0m\u001b[1;33m\u001b[0m\u001b[1;33m\u001b[0m\u001b[0m\n\u001b[0;32m   1395\u001b[0m             \u001b[0mprojection_class\u001b[0m\u001b[1;33m,\u001b[0m \u001b[0mkwargs\u001b[0m\u001b[1;33m,\u001b[0m \u001b[0mkey\u001b[0m \u001b[1;33m=\u001b[0m\u001b[0;31m \u001b[0m\u001b[0;31m\\\u001b[0m\u001b[1;33m\u001b[0m\u001b[1;33m\u001b[0m\u001b[0m\n\u001b[1;32m-> 1396\u001b[1;33m                 \u001b[0mself\u001b[0m\u001b[1;33m.\u001b[0m\u001b[0m_process_projection_requirements\u001b[0m\u001b[1;33m(\u001b[0m\u001b[1;33m*\u001b[0m\u001b[0margs\u001b[0m\u001b[1;33m,\u001b[0m \u001b[1;33m**\u001b[0m\u001b[0mkwargs\u001b[0m\u001b[1;33m)\u001b[0m\u001b[1;33m\u001b[0m\u001b[1;33m\u001b[0m\u001b[0m\n\u001b[0m\u001b[0;32m   1397\u001b[0m \u001b[1;33m\u001b[0m\u001b[0m\n\u001b[0;32m   1398\u001b[0m             \u001b[1;31m# try to find the axes with this key in the stack\u001b[0m\u001b[1;33m\u001b[0m\u001b[1;33m\u001b[0m\u001b[1;33m\u001b[0m\u001b[0m\n",
      "\u001b[1;32m~\\anaconda3\\lib\\site-packages\\matplotlib\\figure.py\u001b[0m in \u001b[0;36m_process_projection_requirements\u001b[1;34m(self, polar, projection, *args, **kwargs)\u001b[0m\n\u001b[0;32m   1118\u001b[0m \u001b[1;33m\u001b[0m\u001b[0m\n\u001b[0;32m   1119\u001b[0m         \u001b[1;32mif\u001b[0m \u001b[0misinstance\u001b[0m\u001b[1;33m(\u001b[0m\u001b[0mprojection\u001b[0m\u001b[1;33m,\u001b[0m \u001b[0mstr\u001b[0m\u001b[1;33m)\u001b[0m \u001b[1;32mor\u001b[0m \u001b[0mprojection\u001b[0m \u001b[1;32mis\u001b[0m \u001b[1;32mNone\u001b[0m\u001b[1;33m:\u001b[0m\u001b[1;33m\u001b[0m\u001b[1;33m\u001b[0m\u001b[0m\n\u001b[1;32m-> 1120\u001b[1;33m             \u001b[0mprojection_class\u001b[0m \u001b[1;33m=\u001b[0m \u001b[0mprojections\u001b[0m\u001b[1;33m.\u001b[0m\u001b[0mget_projection_class\u001b[0m\u001b[1;33m(\u001b[0m\u001b[0mprojection\u001b[0m\u001b[1;33m)\u001b[0m\u001b[1;33m\u001b[0m\u001b[1;33m\u001b[0m\u001b[0m\n\u001b[0m\u001b[0;32m   1121\u001b[0m         \u001b[1;32melif\u001b[0m \u001b[0mhasattr\u001b[0m\u001b[1;33m(\u001b[0m\u001b[0mprojection\u001b[0m\u001b[1;33m,\u001b[0m \u001b[1;34m'_as_mpl_axes'\u001b[0m\u001b[1;33m)\u001b[0m\u001b[1;33m:\u001b[0m\u001b[1;33m\u001b[0m\u001b[1;33m\u001b[0m\u001b[0m\n\u001b[0;32m   1122\u001b[0m             \u001b[0mprojection_class\u001b[0m\u001b[1;33m,\u001b[0m \u001b[0mextra_kwargs\u001b[0m \u001b[1;33m=\u001b[0m \u001b[0mprojection\u001b[0m\u001b[1;33m.\u001b[0m\u001b[0m_as_mpl_axes\u001b[0m\u001b[1;33m(\u001b[0m\u001b[1;33m)\u001b[0m\u001b[1;33m\u001b[0m\u001b[1;33m\u001b[0m\u001b[0m\n",
      "\u001b[1;32m~\\anaconda3\\lib\\site-packages\\matplotlib\\projections\\__init__.py\u001b[0m in \u001b[0;36mget_projection_class\u001b[1;34m(projection)\u001b[0m\n\u001b[0;32m     58\u001b[0m         \u001b[1;32mreturn\u001b[0m \u001b[0mprojection_registry\u001b[0m\u001b[1;33m.\u001b[0m\u001b[0mget_projection_class\u001b[0m\u001b[1;33m(\u001b[0m\u001b[0mprojection\u001b[0m\u001b[1;33m)\u001b[0m\u001b[1;33m\u001b[0m\u001b[1;33m\u001b[0m\u001b[0m\n\u001b[0;32m     59\u001b[0m     \u001b[1;32mexcept\u001b[0m \u001b[0mKeyError\u001b[0m\u001b[1;33m:\u001b[0m\u001b[1;33m\u001b[0m\u001b[1;33m\u001b[0m\u001b[0m\n\u001b[1;32m---> 60\u001b[1;33m         \u001b[1;32mraise\u001b[0m \u001b[0mValueError\u001b[0m\u001b[1;33m(\u001b[0m\u001b[1;34m\"Unknown projection %r\"\u001b[0m \u001b[1;33m%\u001b[0m \u001b[0mprojection\u001b[0m\u001b[1;33m)\u001b[0m\u001b[1;33m\u001b[0m\u001b[1;33m\u001b[0m\u001b[0m\n\u001b[0m\u001b[0;32m     61\u001b[0m \u001b[1;33m\u001b[0m\u001b[0m\n\u001b[0;32m     62\u001b[0m \u001b[1;33m\u001b[0m\u001b[0m\n",
      "\u001b[1;31mValueError\u001b[0m: Unknown projection '3d'"
     ]
    },
    {
     "data": {
      "text/plain": [
       "<Figure size 864x720 with 0 Axes>"
      ]
     },
     "metadata": {},
     "output_type": "display_data"
    }
   ],
   "source": [
    "pcaComponents = PCA_SpaceVisualization_3D(model.Embeddings,model.prototypeArray)"
   ]
  },
  {
   "cell_type": "code",
   "execution_count": null,
   "metadata": {},
   "outputs": [],
   "source": [
    "pcaComponents = PCA_SpaceVisualization_3D(model.rankedVectors,model.prototypeArray, decompositionMenthod='MSD')"
   ]
  },
  {
   "cell_type": "code",
   "execution_count": null,
   "metadata": {},
   "outputs": [],
   "source": [
    "pcaComponents = WTA_PCA_SpaceVisualization_3D(model.rankedVectors,model.prototypeArray,model.HashedClusters, decompositionMenthod='MSD')"
   ]
  },
  {
   "cell_type": "code",
   "execution_count": null,
   "metadata": {},
   "outputs": [],
   "source": [
    "pcaComponents = WTA_PCA_SpaceVisualization_3D(model.rankedVectors,model.prototypeArray,model.HashedClusters,withgroundruth=True,groundruth=labels_groundTruth,title='MSD visualization GroundTruth', decompositionMenthod='MSD')"
   ]
  },
  {
   "cell_type": "code",
   "execution_count": null,
   "metadata": {},
   "outputs": [],
   "source": [
    "pcaComponents = WTA_PCA_SpaceVisualization_3D(model.rankedVectors,model.prototypeArray,model.HashedClusters,withgroundruth=True,groundruth=labels_groundTruth,title='PCA visualization GroundTruth', decompositionMenthod='PCA')"
   ]
  },
  {
   "cell_type": "markdown",
   "metadata": {},
   "source": [
    "### MMD${}^2$ error between distribution of Prototypes and whole Dataset"
   ]
  },
  {
   "cell_type": "code",
   "execution_count": null,
   "metadata": {},
   "outputs": [],
   "source": [
    "myMMD2(model)"
   ]
  },
  {
   "cell_type": "markdown",
   "metadata": {},
   "source": [
    "### Grid search each section"
   ]
  },
  {
   "cell_type": "markdown",
   "metadata": {},
   "source": [
    "#### GridSearch function"
   ]
  },
  {
   "cell_type": "code",
   "execution_count": null,
   "metadata": {},
   "outputs": [],
   "source": [
    "from utils.grid_search import GridSearch"
   ]
  },
  {
   "cell_type": "code",
   "execution_count": null,
   "metadata": {
    "tags": []
   },
   "outputs": [],
   "source": []
  },
  {
   "cell_type": "markdown",
   "metadata": {
    "tags": []
   },
   "source": [
    "#### __[i]__ __Prototype selection__\n",
    "\n",
    "\n",
    "First of all, we need to find some ways on evaluating the prototype selection algorithm. Vantage Spaces are not something new, but we need to examine its behaviour on CORA dataset.\n",
    "\n",
    "Goals:\n",
    "\n",
    "- __Variance__: We want prototypes to be as much different as possible. \n",
    "- __Number__: We need a large amount of prototypes.\n",
    "\n",
    "Ways to evaluate the algorithm:\n",
    "\n",
    "- Mean distance between selected prototypes\n",
    "- Show a HeatMap of consisted of the distances\n",
    "- Some greedy search on the parameters. Parameters to fine tunne:\n",
    "    -  ```max_numberOf_clusters```: Νumber of loops for finding representatives, it is an upper bound of clusters.\n",
    "    -  ```max_dissimilarityDistance```:  The threshold for the triangle inequality\n",
    "    -  ```distanceMetric```:  Distance metric between the vectors when creating the space\n",
    "    -  ```prototypesFilterThr```: Prototypes must differ more that threshold\n",
    "\n",
    "\n",
    "All these parameters will be tested both for edit distance and jaccard with 3-grams."
   ]
  },
  {
   "cell_type": "markdown",
   "metadata": {
    "tags": []
   },
   "source": [
    "__Maximum mean discrepancy (MMD)__, which measures the discrepancy between two distributions. The selection of prototypes creates a density distribution of prototypes. We want to evaluate whether the prototypes distribution differs from the data distribution. We estimate both with kernel density functions. The maximum mean discrepancy measures the difference between two distributions, which is the supremum over a function space of differences between the expectations according to the two distributions. All clear? Personally, I understand these concepts much better when I see how something is calculated with data. The following formula shows how to calculate the squared MMD measure (MMD2):\n",
    "    $$\n",
    "    MMD^2=\\frac{1}{m^2}\\sum_{i,j=1}^m{}k(z_i,z_j)-\\frac{2}{mn}\\sum_{i,j=1}^{m,n}k(z_i,x_j)+\\frac{1}{n^2}\\sum_{i,j=1}^n{}k(x_i,x_j)\n",
    "    $$\n",
    "    \n",
    "- __k__ is a kernel function that measures the similarity of two points\n",
    "- __m__ is the number of prototypes \n",
    "- __n__ is the number of data points x in our original dataset. \n",
    "- The prototypes z are a selection of data points x. \n",
    "\n",
    "    \n",
    "Each point is multidimensional, that is it can have multiple features. The goal of MMD-critic is to minimize MMD2. The closer MMD2 is to zero, the better the distribution of the prototypes fits the data. The key to bringing MMD2 down to zero is the term in the middle, which calculates the average proximity between the prototypes and all other data points (multiplied by 2). If this term adds up to the first term (the average proximity of the prototypes to each other) plus the last term (the average proximity of the data points to each other), then the prototypes explain the data perfectly.  "
   ]
  },
  {
   "cell_type": "code",
   "execution_count": null,
   "metadata": {
    "tags": []
   },
   "outputs": [],
   "source": []
  },
  {
   "cell_type": "code",
   "execution_count": null,
   "metadata": {
    "scrolled": true,
    "tags": []
   },
   "outputs": [],
   "source": [
    "max_numberOf_clusters= [5000]\n",
    "max_dissimilarityDistance= [20]\n",
    "prototypesFilterThr = [80]\n",
    "\n",
    "distanceMetric= ['edit']\n",
    "\n",
    "# ---------------- #\n",
    "\n",
    "ngramms= [3]  \n",
    "jaccard_withchars = [False] \n",
    "\n",
    "distanceMetricEmbedding = ['euclidean']\n",
    "\n",
    "windowSize= [50]\n",
    "number_of_permutations = [5]\n",
    "\n",
    "similarityThreshold= [0.7]\n",
    "similarityVectors= ['ranked']\n",
    "metric= ['kendal']\n",
    "\n",
    "results_section1_edit = GridSearch_cora(\n",
    "    data,true_matrix,\n",
    "    max_numberOf_clusters,\n",
    "    max_dissimilarityDistance,\n",
    "    similarityThreshold,\n",
    "    windowSize,\n",
    "    metric,\n",
    "    similarityVectors,\n",
    "    distanceMetricEmbedding,\n",
    "    distanceMetric,\n",
    "    number_of_permutations,\n",
    "    ngramms,\n",
    "    jaccard_withchars,\n",
    "    prototypesFilterThr,\n",
    "    earlyStop=1\n",
    ")"
   ]
  },
  {
   "cell_type": "code",
   "execution_count": null,
   "metadata": {
    "scrolled": true,
    "tags": []
   },
   "outputs": [],
   "source": [
    "max_numberOf_clusters= [100,500,1000]\n",
    "max_dissimilarityDistance= [0.7,0.8]\n",
    "prototypesFilterThr = [0.2,0.3]\n",
    "\n",
    "distanceMetric= ['jaccard']\n",
    "\n",
    "\n",
    "ngramms= [2,3]  \n",
    "jaccard_withchars = [True] \n",
    "\n",
    "# ---------------- #\n",
    "\n",
    "distanceMetricEmbedding = ['euclidean']\n",
    "\n",
    "windowSize= [50]\n",
    "number_of_permutations = [5]\n",
    "\n",
    "similarityThreshold= [0.7]\n",
    "similarityVectors= ['ranked']\n",
    "metric= ['kendal']\n",
    "\n",
    "\n",
    "results_section1_jac = GridSearch_cora(\n",
    "    data,true_matrix,\n",
    "    max_numberOf_clusters,\n",
    "    max_dissimilarityDistance,\n",
    "    similarityThreshold,\n",
    "    windowSize,\n",
    "    metric,\n",
    "    similarityVectors,\n",
    "    distanceMetricEmbedding,\n",
    "    distanceMetric,\n",
    "    number_of_permutations,\n",
    "    ngramms,\n",
    "    jaccard_withchars,\n",
    "    prototypesFilterThr,\n",
    "    earlyStop=1\n",
    ")"
   ]
  },
  {
   "cell_type": "markdown",
   "metadata": {
    "tags": []
   },
   "source": [
    "##### Remarks\n",
    "\n",
    "Two main factors:\n",
    "\n",
    "- __numOfPrototypes__ and\n",
    "- __protSelectionVariance__\n",
    "\n",
    "The first one is the number of prototypes selected, which is very important as more prototypes will enhance model when creating the embeddings.\n",
    "\n",
    "The second one is the average distance between all the prototypes selected. As this factor increases, the prototypes selected differ the most.\n",
    "\n",
    "\n",
    "According to the above, best parameters so far:\n",
    "\n",
    "- __Edit distance__\n",
    "\n",
    "\n",
    "- __Jaccard with 3-grams__\n",
    "\n"
   ]
  },
  {
   "cell_type": "markdown",
   "metadata": {
    "tags": []
   },
   "source": [
    "#### __[ii]__ Fine tunning  __Embedding phase__\n",
    "\n",
    "Ways to evaluate the __Embedding phase__:\n",
    "\n",
    "- Use a PCA after embeddings made and check selected prototypes "
   ]
  },
  {
   "cell_type": "code",
   "execution_count": null,
   "metadata": {
    "scrolled": true,
    "tags": []
   },
   "outputs": [],
   "source": [
    "max_numberOf_clusters= [5000]\n",
    "max_dissimilarityDistance= [20,50]\n",
    "prototypesFilterThr = [80]\n",
    "\n",
    "distanceMetric= ['edit']\n",
    "\n",
    "# ---------------- #\n",
    "\n",
    "ngramms= [3]  \n",
    "jaccard_withchars = [False] \n",
    "\n",
    "distanceMetricEmbedding = ['euclidean','l_inf','edit']\n",
    "\n",
    "windowSize= [50]\n",
    "number_of_permutations = [5]\n",
    "\n",
    "similarityThreshold= [0.7]\n",
    "similarityVectors= ['ranked']\n",
    "metric= ['kendal']\n",
    "\n",
    "results_section1_edit = GridSearch_cora(\n",
    "    data,true_matrix,\n",
    "    max_numberOf_clusters,\n",
    "    max_dissimilarityDistance,\n",
    "    similarityThreshold,\n",
    "    windowSize,\n",
    "    metric,\n",
    "    similarityVectors,\n",
    "    distanceMetricEmbedding,\n",
    "    distanceMetric,\n",
    "    number_of_permutations,\n",
    "    ngramms,\n",
    "    jaccard_withchars,\n",
    "    prototypesFilterThr,\n",
    "    earlyStop=1\n",
    ")"
   ]
  },
  {
   "cell_type": "code",
   "execution_count": null,
   "metadata": {
    "scrolled": true,
    "tags": []
   },
   "outputs": [],
   "source": [
    "max_numberOf_clusters= [100,500,1000]\n",
    "max_dissimilarityDistance= [0.7,0.8]\n",
    "prototypesFilterThr = [0.2,0.3]\n",
    "\n",
    "distanceMetric= ['jaccard']\n",
    "\n",
    "\n",
    "ngramms= [2,3]  \n",
    "jaccard_withchars = [True] \n",
    "\n",
    "# ---------------- #\n",
    "\n",
    "distanceMetricEmbedding = ['euclidean']\n",
    "\n",
    "windowSize= [50]\n",
    "number_of_permutations = [5]\n",
    "\n",
    "similarityThreshold= [0.7]\n",
    "similarityVectors= ['ranked']\n",
    "metric= ['kendal']\n",
    "\n",
    "\n",
    "results_section1_jac = GridSearch_cora(\n",
    "    data,true_matrix,\n",
    "    max_numberOf_clusters,\n",
    "    max_dissimilarityDistance,\n",
    "    similarityThreshold,\n",
    "    windowSize,\n",
    "    metric,\n",
    "    similarityVectors,\n",
    "    distanceMetricEmbedding,\n",
    "    distanceMetric,\n",
    "    number_of_permutations,\n",
    "    ngramms,\n",
    "    jaccard_withchars,\n",
    "    prototypesFilterThr,\n",
    "    earlyStop=1\n",
    ")"
   ]
  },
  {
   "cell_type": "markdown",
   "metadata": {
    "tags": []
   },
   "source": [
    "#### [iii] Fine tunning  __WTA algorithm__\n",
    "\n",
    "\n",
    "Goals:\n",
    "\n",
    "- __Ranked vectors dimension__\n",
    "- __Permutations__: A number of permutations will be forced in order to better split data into buckets.\n",
    "\n",
    " \n",
    "Parameters to fine tunne:\n",
    "\n",
    "- ```windowSize```: Vector size after WTA\n",
    "- ```number_of_permutations```: How many times vectors will be permuted and hashed\n",
    "\n",
    "All these parameters will be tested both for edit distance and jaccard with 3-grams."
   ]
  },
  {
   "cell_type": "markdown",
   "metadata": {},
   "source": [
    "#### [iv] Fine tunning  __Similarity checking__"
   ]
  },
  {
   "cell_type": "markdown",
   "metadata": {
    "tags": []
   },
   "source": [
    "##### Various similarity metrics to check\n",
    "These functions are for the similarity checking phase."
   ]
  },
  {
   "cell_type": "code",
   "execution_count": null,
   "metadata": {},
   "outputs": [],
   "source": [
    "from utils.metrics import spearman_footrule_distance, kendall_top_k, rbo"
   ]
  },
  {
   "cell_type": "markdown",
   "metadata": {
    "tags": []
   },
   "source": [
    "##### Spearman footrule distance"
   ]
  },
  {
   "cell_type": "code",
   "execution_count": null,
   "metadata": {
    "tags": []
   },
   "outputs": [],
   "source": []
  },
  {
   "cell_type": "markdown",
   "metadata": {},
   "source": [
    "##### Ravi Kumar generalized Kendall Tau"
   ]
  },
  {
   "cell_type": "code",
   "execution_count": null,
   "metadata": {
    "tags": []
   },
   "outputs": [],
   "source": []
  },
  {
   "cell_type": "markdown",
   "metadata": {},
   "source": [
    "##### Rank Biased Overlap (RBO) \n",
    "Article: https://towardsdatascience.com/rbo-v-s-kendall-tau-to-compare-ranked-lists-of-items-8776c5182899"
   ]
  },
  {
   "cell_type": "code",
   "execution_count": null,
   "metadata": {
    "tags": []
   },
   "outputs": [],
   "source": []
  },
  {
   "cell_type": "markdown",
   "metadata": {},
   "source": [
    "##### Winner Takes All proposed "
   ]
  },
  {
   "cell_type": "code",
   "execution_count": null,
   "metadata": {
    "tags": []
   },
   "outputs": [],
   "source": []
  },
  {
   "cell_type": "markdown",
   "metadata": {},
   "source": [
    "#### [v] Model final fine tunning\n"
   ]
  },
  {
   "cell_type": "markdown",
   "metadata": {
    "tags": []
   },
   "source": [
    "There are four ways to check if the predictions are right or wrong:\n",
    "- __TN__ / True Negative: the case was negative and predicted negative\n",
    "- __TP__ / True Positive: the case was positive and predicted positive\n",
    "- __FN__ / False Negative: the case was positive but predicted negative\n",
    "- __FP__ / False Positive: the case was negative but predicted positive\n",
    "\n",
    "__Precision — What percent of your predictions were correct?__\n",
    "\n",
    "\n",
    "Precision is the ability of a classifier not to label an instance positive that is actually negative. For each class, it is defined as the ratio of true positives to the sum of a true positive and false positive.\n",
    "Precision:- Accuracy of positive predictions.\n",
    "Precision = TP/(TP + FP)\n",
    "\n",
    "\n",
    "__Recall — What percent of the positive cases did you catch?__\n",
    "\n",
    "\n",
    "Recall is the ability of a classifier to find all positive instances. For each class it is defined as the ratio of true positives to the sum of true positives and false negatives.\n",
    "Recall:- Fraction of positives that were correctly identified.\n",
    "Recall = TP/(TP+FN)\n",
    "\n",
    "__F1 score — What percent of positive predictions were correct?__\n",
    "\n",
    "\n",
    "The F1 score is a weighted harmonic mean of precision and recall such that the best score is 1.0 and the worst is 0.0. F1 scores are lower than accuracy measures as they embed precision and recall into their computation. As a rule of thumb, the weighted average of F1 should be used to compare classifier models, not global accuracy.\n",
    "F1 Score = 2*(Recall * Precision) / (Recall + Precision)\n",
    "\n",
    "__Support__\n",
    "\n",
    "\n",
    "Support is the number of actual occurrences of the class in the specified dataset. Imbalanced support in the training data may indicate structural weaknesses in the reported scores of the classifier and could indicate the need for stratified sampling or rebalancing. Support doesn’t change between models but instead diagnoses the evaluation process."
   ]
  },
  {
   "cell_type": "markdown",
   "metadata": {
    "tags": []
   },
   "source": [
    "##### Edit distance"
   ]
  },
  {
   "cell_type": "code",
   "execution_count": null,
   "metadata": {
    "scrolled": true,
    "tags": []
   },
   "outputs": [],
   "source": [
    "max_numberOf_clusters= [100,500,1000]\n",
    "max_dissimilarityDistance= [50,100]\n",
    "prototypesFilterThr = [20,40,70]\n",
    "\n",
    "distanceMetric= ['edit']\n",
    "\n",
    "ngramms= [3]  \n",
    "jaccard_withchars = [False] \n",
    "\n",
    "distanceMetricEmbedding = ['l_inf','euclidean']\n",
    "\n",
    "windowSize= [16,32,64,128]\n",
    "number_of_permutations = [1,4,8]\n",
    "\n",
    "similarityThreshold= [0.7,0.75,0.8]\n",
    "similarityVectors= ['initial','ranked']\n",
    "metric= ['kendal','customKendal']\n",
    "\n",
    "\n",
    "\n",
    "results_section1_edit = GridSearch_cora(\n",
    "    data,true_matrix,\n",
    "    max_numberOf_clusters,\n",
    "    max_dissimilarityDistance,\n",
    "    similarityThreshold,\n",
    "    windowSize,\n",
    "    metric,\n",
    "    similarityVectors,\n",
    "    distanceMetricEmbedding,\n",
    "    distanceMetric,\n",
    "    number_of_permutations,\n",
    "    ngramms,\n",
    "    jaccard_withchars,\n",
    "    prototypesFilterThr,\n",
    "    earlyStop=0\n",
    ")"
   ]
  },
  {
   "cell_type": "markdown",
   "metadata": {},
   "source": [
    "# References\n",
    "\n",
    "1.   [The dissimilarity representation for pattern recognition, a tutorial\n",
    "Robert P.W. Duin and Elzbieta Pekalska Delft University of Technology, The Netherlands School of Computer Science, University of Manchester, United Kingdom](http://homepage.tudelft.nl/a9p19/presentations/DisRep_Tutorial_doc.pdf)"
   ]
  }
 ],
 "metadata": {
  "kernelspec": {
   "display_name": "Python 3",
   "language": "python",
   "name": "python3"
  },
  "language_info": {
   "codemirror_mode": {
    "name": "ipython",
    "version": 3
   },
   "file_extension": ".py",
   "mimetype": "text/x-python",
   "name": "python",
   "nbconvert_exporter": "python",
   "pygments_lexer": "ipython3",
   "version": "3.7.6"
  },
  "toc-autonumbering": false,
  "toc-showcode": false,
  "toc-showmarkdowntxt": false,
  "toc-showtags": false
 },
 "nbformat": 4,
 "nbformat_minor": 4
}
