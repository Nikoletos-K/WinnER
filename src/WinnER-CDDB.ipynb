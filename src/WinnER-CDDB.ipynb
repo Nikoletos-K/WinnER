{
 "cells": [
  {
   "cell_type": "markdown",
   "metadata": {},
   "source": [
    "<div align=\"center\">\n",
    " <img src=\"http://www.di.uoa.gr/themes/corporate_lite/logo_en.png\" title=\"Department of Informatics and Telecommunications - University of Athens\" align=\"center\" /> \n",
    "</div>\n",
    "\n",
    "<br>\n",
    "\n",
    "---\n",
    "\n",
    "<div align=\"center\"> \n",
    "  <font size=\"3\"><b>Bachelor Thesis</b> </font>\n",
    "</div>\n",
    "<br>\n",
    "<div align=\"center\"> \n",
    "  <font size=\"5\">\n",
    "      <b>WinnER: A Winner-Take-All Hashing-Based Unsupervised Model <br>for Entity Resolution Problems<br></b> \n",
    "    </font>\n",
    "     <hr>\n",
    "     <font size=\"4\">\n",
    "        Study on CDDB data set \n",
    "    </font>\n",
    "</div>\n",
    "\n",
    "---\n",
    "\n",
    "<div align=\"center\"> \n",
    "    <font size=\"4\">\n",
    "         <b>Konstantinos Nikoletos</b>, BS Student at NKUA \n",
    "     </font>\n",
    "</div>\n",
    "<div align=\"center\"> \n",
    "    <font size=\"4\">\n",
    "     <b> Alex Delis</b>,  Professor NKUA <br> \n",
    "     <b> Vassilios Verykios</b>, Professor Hellenic Open University\n",
    "    </font>\n",
    "</div>\n",
    "<br>\n",
    "<div align=\"center\"> \n",
    "    <font size=\"2\">Athens</font>\n",
    "</div>\n",
    "<div align=\"center\"> \n",
    "    <font size=\"2\">January 2021 - Ongoing</font>\n",
    "</div>\n",
    "\n",
    "\n",
    "---"
   ]
  },
  {
   "cell_type": "markdown",
   "metadata": {},
   "source": [
    "# __Code injection__"
   ]
  },
  {
   "cell_type": "markdown",
   "metadata": {},
   "source": [
    "## Import of libraries"
   ]
  },
  {
   "cell_type": "code",
   "execution_count": 24,
   "metadata": {
    "tags": []
   },
   "outputs": [],
   "source": [
    "import pandas as pd\n",
    "import numpy as np\n",
    "import collections\n",
    "import editdistance\n",
    "import string\n",
    "import sklearn\n",
    "import pandas_read_xml as pdx\n",
    "import time\n",
    "import warnings\n",
    "import sys\n",
    "import matplotlib.pyplot as plt\n",
    "import seaborn as sns\n",
    "import nltk\n",
    "import math\n",
    "import os\n",
    "import scipy.special as special\n",
    "import igraph\n",
    "import networkx as nx\n",
    "import itertools \n",
    "import sklearn\n",
    "import plotly.express as px\n",
    "import logging\n",
    "import sys\n",
    "import optuna\n",
    "import plotly\n",
    "\n",
    "from optuna.visualization import plot_contour\n",
    "from optuna.visualization import plot_edf\n",
    "from optuna.visualization import plot_intermediate_values\n",
    "from optuna.visualization import plot_optimization_history\n",
    "from optuna.visualization import plot_parallel_coordinate\n",
    "from optuna.visualization import plot_param_importances\n",
    "from optuna.visualization import plot_slice\n",
    "from tqdm.notebook import tqdm as tqdm\n",
    "from scipy.spatial.distance import directed_hausdorff,hamming\n",
    "from scipy.stats._stats import _kendall_dis\n",
    "from scipy.stats import spearmanr,kendalltau,pearsonr,kruskal,mannwhitneyu\n",
    "from sklearn.metrics.pairwise import cosine_similarity\n",
    "from nltk.metrics.distance import jaro_similarity,jaro_winkler_similarity,jaccard_distance\n",
    "from sklearn.metrics import jaccard_score,accuracy_score,auc,f1_score,recall_score,precision_score,classification_report\n",
    "from scipy.sparse import csr_matrix\n",
    "from scipy import sparse\n",
    "from scipy import stats \n",
    "from scipy.spatial.distance import euclidean,hamming,jaccard\n",
    "from matplotlib.patches import Rectangle\n",
    "from sklearn.metrics import ndcg_score\n",
    "from datetime import datetime\n",
    "from sklearn.decomposition import PCA \n",
    "from numpy.linalg import svd\n",
    "\n",
    "# plt.style.use('seaborn-white') # plot style"
   ]
  },
  {
   "cell_type": "markdown",
   "metadata": {},
   "source": [
    "Automated refresh on the notebook"
   ]
  },
  {
   "cell_type": "code",
   "execution_count": 25,
   "metadata": {},
   "outputs": [
    {
     "name": "stdout",
     "output_type": "stream",
     "text": [
      "The autoreload extension is already loaded. To reload it, use:\n",
      "  %reload_ext autoreload\n"
     ]
    }
   ],
   "source": [
    "%load_ext autoreload\n",
    "%autoreload 2\n",
    "%reload_ext autoreload"
   ]
  },
  {
   "cell_type": "markdown",
   "metadata": {},
   "source": [
    "## Main model dependency"
   ]
  },
  {
   "cell_type": "code",
   "execution_count": 26,
   "metadata": {},
   "outputs": [],
   "source": [
    "from model import WinnER, customClassificationReport, report"
   ]
  },
  {
   "cell_type": "markdown",
   "metadata": {},
   "source": [
    "## Utilities"
   ]
  },
  {
   "cell_type": "code",
   "execution_count": 27,
   "metadata": {
    "tags": []
   },
   "outputs": [],
   "source": [
    "from utils.mmd2 import MMD2, myMMD2\n",
    "from plot.heatmap import myHeatmap\n",
    "from plot.confusion_matrix import create_ConfusionMatrix\n",
    "from plot.dimension_reduction import SpaceVisualization2D, SpaceVisualization3D, SpaceVisualizationEmbeddings2D, SpaceVisualizationEmbeddings3D\n",
    "from plot.heatmap import similarityProbsHeatMap, similarityProbsHeatMapWithClusters"
   ]
  },
  {
   "cell_type": "markdown",
   "metadata": {},
   "source": [
    "### Dataset utils"
   ]
  },
  {
   "cell_type": "code",
   "execution_count": 28,
   "metadata": {},
   "outputs": [],
   "source": [
    "from datasets.common.create_dataset import createDataset, createTrueLabels\n",
    "from utils.grid_search import GridSearch"
   ]
  },
  {
   "cell_type": "markdown",
   "metadata": {},
   "source": [
    "### Custom metrics"
   ]
  },
  {
   "cell_type": "code",
   "execution_count": 29,
   "metadata": {},
   "outputs": [],
   "source": [
    "from utils.metrics import spearman_footrule_distance, kendall_top_k, rbo"
   ]
  },
  {
   "cell_type": "markdown",
   "metadata": {
    "tags": []
   },
   "source": [
    "\n",
    "# __Dataset injection__"
   ]
  },
  {
   "cell_type": "markdown",
   "metadata": {
    "tags": []
   },
   "source": [
    "## Load data from Drive in Colab"
   ]
  },
  {
   "cell_type": "code",
   "execution_count": 30,
   "metadata": {
    "tags": []
   },
   "outputs": [],
   "source": [
    "# # Opening data file\n",
    "# import io\n",
    "# from google.colab import drive\n",
    "\n",
    "# drive.mount('/content/drive',force_remount=True)\n",
    "\n",
    "# fp = r\"/content/drive/My Drive/ERinDS/CORA.xml\"\n",
    "# fp_gold = r\"/content/drive/My Drive/ERinDS/cora_gold.csv\""
   ]
  },
  {
   "cell_type": "markdown",
   "metadata": {},
   "source": [
    "## Load data from disk for Jupyter"
   ]
  },
  {
   "cell_type": "code",
   "execution_count": 35,
   "metadata": {
    "tags": []
   },
   "outputs": [
    {
     "data": {
      "text/html": [
       "<div>\n",
       "<style scoped>\n",
       "    .dataframe tbody tr th:only-of-type {\n",
       "        vertical-align: middle;\n",
       "    }\n",
       "\n",
       "    .dataframe tbody tr th {\n",
       "        vertical-align: top;\n",
       "    }\n",
       "\n",
       "    .dataframe thead th {\n",
       "        text-align: right;\n",
       "    }\n",
       "</style>\n",
       "<table border=\"1\" class=\"dataframe\">\n",
       "  <thead>\n",
       "    <tr style=\"text-align: right;\">\n",
       "      <th></th>\n",
       "      <th>Entity Id|artist</th>\n",
       "      <th>category</th>\n",
       "      <th>cdextra</th>\n",
       "      <th>genre</th>\n",
       "      <th>title</th>\n",
       "      <th>track01</th>\n",
       "      <th>track02</th>\n",
       "      <th>track03</th>\n",
       "      <th>track04</th>\n",
       "      <th>track05</th>\n",
       "      <th>...</th>\n",
       "      <th>track93</th>\n",
       "      <th>track94</th>\n",
       "      <th>track95</th>\n",
       "      <th>track96</th>\n",
       "      <th>track97</th>\n",
       "      <th>track98</th>\n",
       "      <th>track99</th>\n",
       "      <th>year</th>\n",
       "      <th>Unnamed: 105</th>\n",
       "      <th>Entity Id</th>\n",
       "    </tr>\n",
       "  </thead>\n",
       "  <tbody>\n",
       "    <tr>\n",
       "      <th>0</th>\n",
       "      <td>pink floyd</td>\n",
       "      <td>data</td>\n",
       "      <td>ID3G: 254</td>\n",
       "      <td>Data</td>\n",
       "      <td>the wall disc 1</td>\n",
       "      <td>in the flesh</td>\n",
       "      <td>the thin ice</td>\n",
       "      <td>another brick in the wall part 1</td>\n",
       "      <td>the happiest days of our lives</td>\n",
       "      <td>another brick in the wall part 2</td>\n",
       "      <td>...</td>\n",
       "      <td>NaN</td>\n",
       "      <td>NaN</td>\n",
       "      <td>NaN</td>\n",
       "      <td>NaN</td>\n",
       "      <td>NaN</td>\n",
       "      <td>NaN</td>\n",
       "      <td>NaN</td>\n",
       "      <td>NaN</td>\n",
       "      <td>NaN</td>\n",
       "      <td>0</td>\n",
       "    </tr>\n",
       "    <tr>\n",
       "      <th>1</th>\n",
       "      <td>Carlos Santana</td>\n",
       "      <td>data</td>\n",
       "      <td>NaN</td>\n",
       "      <td>NaN</td>\n",
       "      <td>Carlos</td>\n",
       "      <td>(Da Le) Yaleo</td>\n",
       "      <td>Love Of My Life</td>\n",
       "      <td>Put You Love Lights On</td>\n",
       "      <td>Smooth</td>\n",
       "      <td>Do You Like The Way?</td>\n",
       "      <td>...</td>\n",
       "      <td>NaN</td>\n",
       "      <td>NaN</td>\n",
       "      <td>NaN</td>\n",
       "      <td>NaN</td>\n",
       "      <td>NaN</td>\n",
       "      <td>NaN</td>\n",
       "      <td>NaN</td>\n",
       "      <td>NaN</td>\n",
       "      <td>NaN</td>\n",
       "      <td>1</td>\n",
       "    </tr>\n",
       "    <tr>\n",
       "      <th>2</th>\n",
       "      <td>Frans Bauer</td>\n",
       "      <td>data</td>\n",
       "      <td>NaN</td>\n",
       "      <td>Other</td>\n",
       "      <td>'n ons geluk</td>\n",
       "      <td>'n ONS geluk</td>\n",
       "      <td>NaN</td>\n",
       "      <td>NaN</td>\n",
       "      <td>NaN</td>\n",
       "      <td>NaN</td>\n",
       "      <td>...</td>\n",
       "      <td>NaN</td>\n",
       "      <td>NaN</td>\n",
       "      <td>NaN</td>\n",
       "      <td>NaN</td>\n",
       "      <td>NaN</td>\n",
       "      <td>NaN</td>\n",
       "      <td>NaN</td>\n",
       "      <td>2004</td>\n",
       "      <td>NaN</td>\n",
       "      <td>2</td>\n",
       "    </tr>\n",
       "    <tr>\n",
       "      <th>3</th>\n",
       "      <td>2Pac</td>\n",
       "      <td>data</td>\n",
       "      <td>YEAR: 1998 ID3G: 15</td>\n",
       "      <td>Rap</td>\n",
       "      <td>Greatest Hits (CD1)</td>\n",
       "      <td>Keep Ya Head Up</td>\n",
       "      <td>2 Of Amerikaz Most Wanted (Ft. Snoop Dogg)</td>\n",
       "      <td>Temptations</td>\n",
       "      <td>God Bless The Dead</td>\n",
       "      <td>Hail Mary</td>\n",
       "      <td>...</td>\n",
       "      <td>NaN</td>\n",
       "      <td>NaN</td>\n",
       "      <td>NaN</td>\n",
       "      <td>NaN</td>\n",
       "      <td>NaN</td>\n",
       "      <td>NaN</td>\n",
       "      <td>NaN</td>\n",
       "      <td>1998</td>\n",
       "      <td>NaN</td>\n",
       "      <td>3</td>\n",
       "    </tr>\n",
       "    <tr>\n",
       "      <th>4</th>\n",
       "      <td>̤��</td>\n",
       "      <td>data</td>\n",
       "      <td>NaN</td>\n",
       "      <td>NaN</td>\n",
       "      <td>̤��</td>\n",
       "      <td>�ȥ�å� 1</td>\n",
       "      <td>�ȥ�å� 2</td>\n",
       "      <td>�ȥ�å� 3</td>\n",
       "      <td>�ȥ�å� 4</td>\n",
       "      <td>�ȥ�å� 5</td>\n",
       "      <td>...</td>\n",
       "      <td>NaN</td>\n",
       "      <td>NaN</td>\n",
       "      <td>NaN</td>\n",
       "      <td>NaN</td>\n",
       "      <td>NaN</td>\n",
       "      <td>NaN</td>\n",
       "      <td>NaN</td>\n",
       "      <td>NaN</td>\n",
       "      <td>NaN</td>\n",
       "      <td>4</td>\n",
       "    </tr>\n",
       "    <tr>\n",
       "      <th>...</th>\n",
       "      <td>...</td>\n",
       "      <td>...</td>\n",
       "      <td>...</td>\n",
       "      <td>...</td>\n",
       "      <td>...</td>\n",
       "      <td>...</td>\n",
       "      <td>...</td>\n",
       "      <td>...</td>\n",
       "      <td>...</td>\n",
       "      <td>...</td>\n",
       "      <td>...</td>\n",
       "      <td>...</td>\n",
       "      <td>...</td>\n",
       "      <td>...</td>\n",
       "      <td>...</td>\n",
       "      <td>...</td>\n",
       "      <td>...</td>\n",
       "      <td>...</td>\n",
       "      <td>...</td>\n",
       "      <td>...</td>\n",
       "      <td>...</td>\n",
       "    </tr>\n",
       "    <tr>\n",
       "      <th>9758</th>\n",
       "      <td>Various</td>\n",
       "      <td>soundtrack</td>\n",
       "      <td>NaN</td>\n",
       "      <td>NaN</td>\n",
       "      <td>Warriors of Virtue</td>\n",
       "      <td>You Can Fly</td>\n",
       "      <td>A Beautiful Morning</td>\n",
       "      <td>Forces of Nature</td>\n",
       "      <td>Inside of You</td>\n",
       "      <td>Tennessee Plates</td>\n",
       "      <td>...</td>\n",
       "      <td>NaN</td>\n",
       "      <td>NaN</td>\n",
       "      <td>NaN</td>\n",
       "      <td>NaN</td>\n",
       "      <td>NaN</td>\n",
       "      <td>NaN</td>\n",
       "      <td>NaN</td>\n",
       "      <td>NaN</td>\n",
       "      <td>NaN</td>\n",
       "      <td>9758</td>\n",
       "    </tr>\n",
       "    <tr>\n",
       "      <th>9759</th>\n",
       "      <td>James Patterson</td>\n",
       "      <td>soundtrack</td>\n",
       "      <td>NaN</td>\n",
       "      <td>Soundtrack</td>\n",
       "      <td>Pop Goes the Weasel - CD 4</td>\n",
       "      <td>4.01</td>\n",
       "      <td>4.02</td>\n",
       "      <td>4.03</td>\n",
       "      <td>4.04</td>\n",
       "      <td>4.05</td>\n",
       "      <td>...</td>\n",
       "      <td>NaN</td>\n",
       "      <td>NaN</td>\n",
       "      <td>NaN</td>\n",
       "      <td>NaN</td>\n",
       "      <td>NaN</td>\n",
       "      <td>NaN</td>\n",
       "      <td>NaN</td>\n",
       "      <td>2000</td>\n",
       "      <td>NaN</td>\n",
       "      <td>9759</td>\n",
       "    </tr>\n",
       "    <tr>\n",
       "      <th>9760</th>\n",
       "      <td>Colin Baker &amp; Nicholas Courtney</td>\n",
       "      <td>soundtrack</td>\n",
       "      <td>Published by Big Finish Productions.\\nhttp://w...</td>\n",
       "      <td>Soundtrack</td>\n",
       "      <td>The Spectre of Lanyon Moor</td>\n",
       "      <td>Episode 0</td>\n",
       "      <td>Episode 1 Part 1</td>\n",
       "      <td>Episode 1 Part 2</td>\n",
       "      <td>Episode 1 Part 3</td>\n",
       "      <td>Episode 1 Part 4</td>\n",
       "      <td>...</td>\n",
       "      <td>NaN</td>\n",
       "      <td>NaN</td>\n",
       "      <td>NaN</td>\n",
       "      <td>NaN</td>\n",
       "      <td>NaN</td>\n",
       "      <td>NaN</td>\n",
       "      <td>NaN</td>\n",
       "      <td>2000</td>\n",
       "      <td>NaN</td>\n",
       "      <td>9760</td>\n",
       "    </tr>\n",
       "    <tr>\n",
       "      <th>9761</th>\n",
       "      <td>Studio Cutz</td>\n",
       "      <td>soundtrack</td>\n",
       "      <td>ID3G: 24</td>\n",
       "      <td>Soundtrack</td>\n",
       "      <td>Volume 25</td>\n",
       "      <td>All Access 3:12</td>\n",
       "      <td>All Access 3:12 alt</td>\n",
       "      <td>All Access :60</td>\n",
       "      <td>All Access :30</td>\n",
       "      <td>All Access :11</td>\n",
       "      <td>...</td>\n",
       "      <td>NaN</td>\n",
       "      <td>NaN</td>\n",
       "      <td>NaN</td>\n",
       "      <td>NaN</td>\n",
       "      <td>NaN</td>\n",
       "      <td>NaN</td>\n",
       "      <td>NaN</td>\n",
       "      <td>NaN</td>\n",
       "      <td>NaN</td>\n",
       "      <td>9761</td>\n",
       "    </tr>\n",
       "    <tr>\n",
       "      <th>9762</th>\n",
       "      <td>Audio Adventures In Time &amp; Space/2)</td>\n",
       "      <td>soundtrack</td>\n",
       "      <td>Published by BBV.\\nhttp://www.bbvonline.co.uk/...</td>\n",
       "      <td>NaN</td>\n",
       "      <td>Prosperity Island (Disk 2/2)</td>\n",
       "      <td>Chapter 15</td>\n",
       "      <td>Chapter 16</td>\n",
       "      <td>Chapter 17</td>\n",
       "      <td>Chapter 18</td>\n",
       "      <td>Chapter 19</td>\n",
       "      <td>...</td>\n",
       "      <td>NaN</td>\n",
       "      <td>NaN</td>\n",
       "      <td>NaN</td>\n",
       "      <td>NaN</td>\n",
       "      <td>NaN</td>\n",
       "      <td>NaN</td>\n",
       "      <td>NaN</td>\n",
       "      <td>NaN</td>\n",
       "      <td>NaN</td>\n",
       "      <td>9762</td>\n",
       "    </tr>\n",
       "  </tbody>\n",
       "</table>\n",
       "<p>9763 rows × 107 columns</p>\n",
       "</div>"
      ],
      "text/plain": [
       "                         Entity Id|artist    category  \\\n",
       "0                              pink floyd        data   \n",
       "1                          Carlos Santana        data   \n",
       "2                             Frans Bauer        data   \n",
       "3                                    2Pac        data   \n",
       "4                                     ̤��        data   \n",
       "...                                   ...         ...   \n",
       "9758                              Various  soundtrack   \n",
       "9759                      James Patterson  soundtrack   \n",
       "9760      Colin Baker & Nicholas Courtney  soundtrack   \n",
       "9761                          Studio Cutz  soundtrack   \n",
       "9762  Audio Adventures In Time & Space/2)  soundtrack   \n",
       "\n",
       "                                                cdextra       genre  \\\n",
       "0                                             ID3G: 254        Data   \n",
       "1                                                   NaN         NaN   \n",
       "2                                                   NaN       Other   \n",
       "3                                   YEAR: 1998 ID3G: 15         Rap   \n",
       "4                                                   NaN         NaN   \n",
       "...                                                 ...         ...   \n",
       "9758                                                NaN         NaN   \n",
       "9759                                                NaN  Soundtrack   \n",
       "9760  Published by Big Finish Productions.\\nhttp://w...  Soundtrack   \n",
       "9761                                           ID3G: 24  Soundtrack   \n",
       "9762  Published by BBV.\\nhttp://www.bbvonline.co.uk/...         NaN   \n",
       "\n",
       "                             title          track01  \\\n",
       "0                  the wall disc 1     in the flesh   \n",
       "1                           Carlos    (Da Le) Yaleo   \n",
       "2                     'n ons geluk     'n ONS geluk   \n",
       "3              Greatest Hits (CD1)  Keep Ya Head Up   \n",
       "4                              ̤��          �ȥ�å� 1   \n",
       "...                            ...              ...   \n",
       "9758            Warriors of Virtue      You Can Fly   \n",
       "9759    Pop Goes the Weasel - CD 4             4.01   \n",
       "9760    The Spectre of Lanyon Moor        Episode 0   \n",
       "9761                     Volume 25  All Access 3:12   \n",
       "9762  Prosperity Island (Disk 2/2)       Chapter 15   \n",
       "\n",
       "                                         track02  \\\n",
       "0                                   the thin ice   \n",
       "1                                Love Of My Life   \n",
       "2                                            NaN   \n",
       "3     2 Of Amerikaz Most Wanted (Ft. Snoop Dogg)   \n",
       "4                                        �ȥ�å� 2   \n",
       "...                                          ...   \n",
       "9758                         A Beautiful Morning   \n",
       "9759                                        4.02   \n",
       "9760                            Episode 1 Part 1   \n",
       "9761                         All Access 3:12 alt   \n",
       "9762                                  Chapter 16   \n",
       "\n",
       "                               track03                         track04  \\\n",
       "0     another brick in the wall part 1  the happiest days of our lives   \n",
       "1               Put You Love Lights On                          Smooth   \n",
       "2                                  NaN                             NaN   \n",
       "3                          Temptations              God Bless The Dead   \n",
       "4                              �ȥ�å� 3                         �ȥ�å� 4   \n",
       "...                                ...                             ...   \n",
       "9758                  Forces of Nature                   Inside of You   \n",
       "9759                              4.03                            4.04   \n",
       "9760                  Episode 1 Part 2                Episode 1 Part 3   \n",
       "9761                    All Access :60                  All Access :30   \n",
       "9762                        Chapter 17                      Chapter 18   \n",
       "\n",
       "                               track05  ... track93 track94 track95 track96  \\\n",
       "0     another brick in the wall part 2  ...     NaN     NaN     NaN     NaN   \n",
       "1                 Do You Like The Way?  ...     NaN     NaN     NaN     NaN   \n",
       "2                                  NaN  ...     NaN     NaN     NaN     NaN   \n",
       "3                            Hail Mary  ...     NaN     NaN     NaN     NaN   \n",
       "4                              �ȥ�å� 5  ...     NaN     NaN     NaN     NaN   \n",
       "...                                ...  ...     ...     ...     ...     ...   \n",
       "9758                  Tennessee Plates  ...     NaN     NaN     NaN     NaN   \n",
       "9759                              4.05  ...     NaN     NaN     NaN     NaN   \n",
       "9760                  Episode 1 Part 4  ...     NaN     NaN     NaN     NaN   \n",
       "9761                    All Access :11  ...     NaN     NaN     NaN     NaN   \n",
       "9762                        Chapter 19  ...     NaN     NaN     NaN     NaN   \n",
       "\n",
       "     track97 track98 track99  year Unnamed: 105 Entity Id  \n",
       "0        NaN     NaN     NaN   NaN          NaN         0  \n",
       "1        NaN     NaN     NaN   NaN          NaN         1  \n",
       "2        NaN     NaN     NaN  2004          NaN         2  \n",
       "3        NaN     NaN     NaN  1998          NaN         3  \n",
       "4        NaN     NaN     NaN   NaN          NaN         4  \n",
       "...      ...     ...     ...   ...          ...       ...  \n",
       "9758     NaN     NaN     NaN   NaN          NaN      9758  \n",
       "9759     NaN     NaN     NaN  2000          NaN      9759  \n",
       "9760     NaN     NaN     NaN  2000          NaN      9760  \n",
       "9761     NaN     NaN     NaN   NaN          NaN      9761  \n",
       "9762     NaN     NaN     NaN   NaN          NaN      9762  \n",
       "\n",
       "[9763 rows x 107 columns]"
      ]
     },
     "execution_count": 35,
     "metadata": {},
     "output_type": "execute_result"
    }
   ],
   "source": [
    "CDDB_groundTruth = pd.read_csv(os.path.abspath(\"../data/cddbIdDuplicates.csv\"),sep='/00000',engine='python',header=None,names=['id1','id2'])\n",
    "CDDB = pd.read_csv(os.path.abspath(\"../data/cddbProfiles.csv\"),sep='/00000',engine='python')\n",
    "CDDB['Entity Id'] = CDDB.index\n",
    "CDDB"
   ]
  },
  {
   "cell_type": "code",
   "execution_count": 32,
   "metadata": {},
   "outputs": [
    {
     "data": {
      "text/html": [
       "<div>\n",
       "<style scoped>\n",
       "    .dataframe tbody tr th:only-of-type {\n",
       "        vertical-align: middle;\n",
       "    }\n",
       "\n",
       "    .dataframe tbody tr th {\n",
       "        vertical-align: top;\n",
       "    }\n",
       "\n",
       "    .dataframe thead th {\n",
       "        text-align: right;\n",
       "    }\n",
       "</style>\n",
       "<table border=\"1\" class=\"dataframe\">\n",
       "  <thead>\n",
       "    <tr style=\"text-align: right;\">\n",
       "      <th></th>\n",
       "      <th>id1</th>\n",
       "      <th>id2</th>\n",
       "    </tr>\n",
       "  </thead>\n",
       "  <tbody>\n",
       "    <tr>\n",
       "      <th>176</th>\n",
       "      <td>0</td>\n",
       "      <td>220</td>\n",
       "    </tr>\n",
       "    <tr>\n",
       "      <th>27</th>\n",
       "      <td>1</td>\n",
       "      <td>394</td>\n",
       "    </tr>\n",
       "    <tr>\n",
       "      <th>148</th>\n",
       "      <td>2</td>\n",
       "      <td>9</td>\n",
       "    </tr>\n",
       "    <tr>\n",
       "      <th>64</th>\n",
       "      <td>3</td>\n",
       "      <td>292</td>\n",
       "    </tr>\n",
       "    <tr>\n",
       "      <th>182</th>\n",
       "      <td>4</td>\n",
       "      <td>410</td>\n",
       "    </tr>\n",
       "    <tr>\n",
       "      <th>...</th>\n",
       "      <td>...</td>\n",
       "      <td>...</td>\n",
       "    </tr>\n",
       "    <tr>\n",
       "      <th>193</th>\n",
       "      <td>460</td>\n",
       "      <td>466</td>\n",
       "    </tr>\n",
       "    <tr>\n",
       "      <th>239</th>\n",
       "      <td>461</td>\n",
       "      <td>469</td>\n",
       "    </tr>\n",
       "    <tr>\n",
       "      <th>39</th>\n",
       "      <td>463</td>\n",
       "      <td>464</td>\n",
       "    </tr>\n",
       "    <tr>\n",
       "      <th>139</th>\n",
       "      <td>465</td>\n",
       "      <td>470</td>\n",
       "    </tr>\n",
       "    <tr>\n",
       "      <th>180</th>\n",
       "      <td>472</td>\n",
       "      <td>476</td>\n",
       "    </tr>\n",
       "  </tbody>\n",
       "</table>\n",
       "<p>299 rows × 2 columns</p>\n",
       "</div>"
      ],
      "text/plain": [
       "     id1  id2\n",
       "176    0  220\n",
       "27     1  394\n",
       "148    2    9\n",
       "64     3  292\n",
       "182    4  410\n",
       "..   ...  ...\n",
       "193  460  466\n",
       "239  461  469\n",
       "39   463  464\n",
       "139  465  470\n",
       "180  472  476\n",
       "\n",
       "[299 rows x 2 columns]"
      ]
     },
     "execution_count": 32,
     "metadata": {},
     "output_type": "execute_result"
    }
   ],
   "source": [
    "CDDB_groundTruth.sort_values('id1')"
   ]
  },
  {
   "cell_type": "markdown",
   "metadata": {
    "tags": []
   },
   "source": [
    "# __Dataset attribute analysis__"
   ]
  },
  {
   "cell_type": "code",
   "execution_count": 33,
   "metadata": {},
   "outputs": [],
   "source": [
    "DATASET_NAME = 'CDDB'"
   ]
  },
  {
   "cell_type": "markdown",
   "metadata": {
    "tags": []
   },
   "source": [
    "## Data set shuffle (Optional)"
   ]
  },
  {
   "cell_type": "code",
   "execution_count": 34,
   "metadata": {},
   "outputs": [],
   "source": [
    "dataset_shuffled = CDDB.sample(frac=1).reset_index(drop=True)\n",
    "# dataset_shuffled"
   ]
  },
  {
   "cell_type": "markdown",
   "metadata": {
    "tags": []
   },
   "source": [
    "## Pre-process"
   ]
  },
  {
   "cell_type": "code",
   "execution_count": null,
   "metadata": {},
   "outputs": [],
   "source": [
    "fields = list(CDDB.columns)\n",
    "\n",
    "# All\n",
    "data, true_matrix = createDataset(CDDB, CDDB_groundTruth, fields, 'Entity Id')"
   ]
  },
  {
   "cell_type": "markdown",
   "metadata": {},
   "source": [
    "__Clique construction for visualization purposes__"
   ]
  },
  {
   "cell_type": "code",
   "execution_count": 36,
   "metadata": {
    "tags": []
   },
   "outputs": [],
   "source": [
    "labels_groundTruth, numOfObjWithoutDups, groups = createTrueLabels(CDDB['Entity Id'].tolist(), CDDB_groundTruth)            \n",
    "data_length = [ len(x) for x in data ]"
   ]
  },
  {
   "cell_type": "markdown",
   "metadata": {
    "tags": []
   },
   "source": [
    "## Attributes"
   ]
  },
  {
   "cell_type": "code",
   "execution_count": null,
   "metadata": {},
   "outputs": [],
   "source": [
    "specs = {\n",
    "    'Objects without any duplicates' : CDDB.shape[0] - sum([len(x) for x in groups]), \n",
    "    'Objects with at least one duplicate' : sum([len(x) for x in groups]),\n",
    "    'Total number of objects' : CDDB.shape[0], \n",
    "    'Mean size of clusters' : np.average([len(x) for x in groups]),\n",
    "    'Number of ER clusters' : len(groups),\n",
    "    'Dataset size' : len(data), \n",
    "    'Average length' : np.mean(data_length), \n",
    "    'Min length' : min(data_length), \n",
    "    'Max length' : max(data_length),\n",
    "    'Median length' : np.median(data_length)\n",
    "}\n",
    "specsCDDBDf = pd.DataFrame(list(specs.items()), columns=['Spec','#count'])\n",
    "specsCDDBDf[['#count']] = specsCDDBDf[['#count']].astype(int)\n",
    "specsCDDBDf"
   ]
  },
  {
   "cell_type": "code",
   "execution_count": null,
   "metadata": {
    "tags": []
   },
   "outputs": [],
   "source": [
    "df = pd.DataFrame({\"Record index\":range(0,len(data_length),1),\"String length\":data_length})\n",
    "fig = px.bar(df, x= \"Record index\", y=\"String length\", title= DATASET_NAME + \" Data set string length bar plot\",template='plotly_white')\n",
    "fig.update_traces(marker_color='darkblue', opacity=1.0)\n",
    "fig.update_layout(title_x=0.5)\n",
    "fig.show()"
   ]
  },
  {
   "cell_type": "code",
   "execution_count": null,
   "metadata": {},
   "outputs": [],
   "source": [
    "fig = plt.figure(figsize=(15,5))\n",
    "plt.bar(range(0,len(data_length),1),data_length)\n",
    "plt.xlabel(\"Record index\")\n",
    "plt.ylabel(\"String length\")\n",
    "plt.title(DATASET_NAME + \" Data set string length bar plot\")\n",
    "fig.savefig(\"strlenncddb.png\")\n",
    "plt.show()"
   ]
  },
  {
   "cell_type": "markdown",
   "metadata": {
    "tags": []
   },
   "source": [
    "# Optuna search"
   ]
  },
  {
   "cell_type": "code",
   "execution_count": null,
   "metadata": {
    "tags": []
   },
   "outputs": [],
   "source": [
    "SpaceVisualization2D(winnER.Embeddings, winnER.prototypeArray, withPlotly=False)"
   ]
  },
  {
   "cell_type": "code",
   "execution_count": null,
   "metadata": {},
   "outputs": [],
   "source": [
    "SpaceVisualization2D(winnER.Embeddings, winnER.prototypeArray)"
   ]
  },
  {
   "cell_type": "code",
   "execution_count": null,
   "metadata": {},
   "outputs": [],
   "source": [
    "SpaceVisualization2D(winnER.Embeddings, winnER.prototypeArray, decompositionMenthod='MDS')"
   ]
  },
  {
   "cell_type": "code",
   "execution_count": null,
   "metadata": {
    "tags": []
   },
   "outputs": [],
   "source": [
    "SpaceVisualization3D(winnER.Embeddings, winnER.prototypeArray)"
   ]
  },
  {
   "cell_type": "code",
   "execution_count": null,
   "metadata": {
    "tags": []
   },
   "outputs": [],
   "source": [
    "SpaceVisualization3D(winnER.rankedVectors,winnER.prototypeArray, decompositionMenthod='MDS')"
   ]
  },
  {
   "cell_type": "code",
   "execution_count": null,
   "metadata": {
    "tags": []
   },
   "outputs": [],
   "source": [
    "SpaceVisualization3D(winnER.rankedVectors, winnER.prototypeArray, withPlotly = False, decompositionMenthod='MDS')"
   ]
  },
  {
   "cell_type": "code",
   "execution_count": null,
   "metadata": {
    "tags": []
   },
   "outputs": [],
   "source": [
    "SpaceVisualization3D(winnER.rankedVectors, winnER.prototypeArray, withPlotly = True, decompositionMenthod='MDS')"
   ]
  },
  {
   "cell_type": "code",
   "execution_count": null,
   "metadata": {},
   "outputs": [],
   "source": [
    "SpaceVisualizationEmbeddings2D(\n",
    "    winnER.Embeddings, labels_groundTruth, withPlotly=True, decompositionMenthod='PCA'\n",
    ")"
   ]
  },
  {
   "cell_type": "code",
   "execution_count": null,
   "metadata": {
    "tags": []
   },
   "outputs": [],
   "source": [
    "SpaceVisualizationEmbeddings3D(\n",
    "    winnER.rankedVectors, labels_groundTruth, withPlotly=False, decompositionMenthod='PCA'\n",
    ")"
   ]
  },
  {
   "cell_type": "code",
   "execution_count": null,
   "metadata": {},
   "outputs": [],
   "source": [
    "SpaceVisualizationEmbeddings3D(\n",
    "    winnER.rankedVectors, labels_groundTruth, withPlotly=True, decompositionMenthod='PCA'\n",
    ")"
   ]
  },
  {
   "cell_type": "code",
   "execution_count": null,
   "metadata": {
    "tags": []
   },
   "outputs": [],
   "source": [
    "SpaceVisualizationEmbeddings3D(\n",
    "    winnER.rankedVectors, labels_groundTruth, withPlotly=True, decompositionMenthod='MDS'\n",
    ")"
   ]
  },
  {
   "cell_type": "markdown",
   "metadata": {},
   "source": [
    "__MMD error between distribution of Prototypes and whole Dataset__"
   ]
  },
  {
   "cell_type": "code",
   "execution_count": null,
   "metadata": {},
   "outputs": [],
   "source": [
    "myMMD2(winnER)"
   ]
  },
  {
   "cell_type": "markdown",
   "metadata": {
    "tags": []
   },
   "source": [
    "## Euclid-Jaccard with 3-grams and char-tokenization"
   ]
  },
  {
   "cell_type": "code",
   "execution_count": null,
   "metadata": {},
   "outputs": [],
   "source": [
    "euclid_jaccard_char_3 = optuna.create_study(\n",
    "    directions = [\"maximize\"],\n",
    "    study_name = \"euclid_jaccard_char_3_CDDB\", \n",
    "    storage    = \"sqlite:///optuna_tuning/WinnER_Experiments_v3.db\", \n",
    "    load_if_exists = True\n",
    ")"
   ]
  },
  {
   "cell_type": "markdown",
   "metadata": {},
   "source": [
    "Trials dataframe (Optuna default)"
   ]
  },
  {
   "cell_type": "code",
   "execution_count": null,
   "metadata": {},
   "outputs": [],
   "source": [
    "euclid_jaccard_char_3.trials_dataframe(attrs=(\"number\", \"value\", \"params\", \"state\"))"
   ]
  },
  {
   "cell_type": "code",
   "execution_count": null,
   "metadata": {},
   "outputs": [],
   "source": [
    "plot_optimization_history(euclid_jaccard_char_3)"
   ]
  },
  {
   "cell_type": "code",
   "execution_count": null,
   "metadata": {
    "tags": []
   },
   "outputs": [],
   "source": [
    "# plot_intermediate_values(euclid_jaccard_char_3)"
   ]
  },
  {
   "cell_type": "code",
   "execution_count": null,
   "metadata": {},
   "outputs": [],
   "source": [
    "plot_parallel_coordinate(euclid_jaccard_char_3)"
   ]
  },
  {
   "cell_type": "code",
   "execution_count": null,
   "metadata": {},
   "outputs": [],
   "source": [
    "plot_parallel_coordinate(euclid_jaccard_char_3, params=[\"number_of_permutations\", \"similarity_threshold\"])"
   ]
  },
  {
   "cell_type": "code",
   "execution_count": null,
   "metadata": {},
   "outputs": [],
   "source": [
    "plot_contour(euclid_jaccard_char_3)"
   ]
  },
  {
   "cell_type": "code",
   "execution_count": null,
   "metadata": {},
   "outputs": [],
   "source": [
    "plot_contour(euclid_jaccard_char_3, params=[\"number_of_permutations\", \"similarity_threshold\"])"
   ]
  },
  {
   "cell_type": "code",
   "execution_count": null,
   "metadata": {},
   "outputs": [],
   "source": [
    "plot_slice(euclid_jaccard_char_3,  params=[\"number_of_permutations\", \"similarity_threshold\", \"max_dissimilarity_distance\", \"window_size\", \"max_num_of_clusters\"])"
   ]
  },
  {
   "cell_type": "code",
   "execution_count": null,
   "metadata": {},
   "outputs": [],
   "source": [
    "plot_param_importances(euclid_jaccard_char_3)"
   ]
  },
  {
   "cell_type": "code",
   "execution_count": null,
   "metadata": {
    "tags": []
   },
   "outputs": [],
   "source": [
    "plot_edf(euclid_jaccard_char_3)"
   ]
  },
  {
   "cell_type": "code",
   "execution_count": null,
   "metadata": {},
   "outputs": [],
   "source": [
    "optuna.visualization.plot_param_importances(\n",
    "    euclid_jaccard_char_3, target=lambda t: t.duration.total_seconds(), target_name=\"duration\"\n",
    ")"
   ]
  },
  {
   "cell_type": "markdown",
   "metadata": {},
   "source": [
    "### Study statistics"
   ]
  },
  {
   "cell_type": "code",
   "execution_count": null,
   "metadata": {},
   "outputs": [],
   "source": [
    "euclid_jaccard_char_3_DF = pd.read_csv(\n",
    "    os.path.abspath(\"./optuna_tuning/csv/euclid_jaccard_char_3_CDDB.csv\")\n",
    ")\n",
    "print(euclid_jaccard_char_3_DF.columns)"
   ]
  },
  {
   "cell_type": "code",
   "execution_count": null,
   "metadata": {},
   "outputs": [],
   "source": [
    "ltable = euclid_jaccard_char_3_DF[['trial_id','Recall','F1','Precision','Accuracy', 'Time']].sort_values(by=['F1','Recall','F1'], ascending=False).head(10)\n",
    "ltable = ltable.sort_values(by=['Recall','F1'], ascending=False)\n",
    "ltable['Time'] = ltable['Time'].astype('datetime64[s]').dt.strftime(\"%M:%S\")\n",
    "print(ltable.to_latex(index=False))\n",
    "\n"
   ]
  },
  {
   "cell_type": "code",
   "execution_count": null,
   "metadata": {},
   "outputs": [],
   "source": [
    "fig = px.parallel_coordinates(\n",
    "    euclid_jaccard_char_3_DF[[ 'diffObjectsComparedSuccess',\n",
    "       'sameObjectsCompared', 'sameObjectsComparedSuccess', 'selectedNumOfPrototypes', 'number_of_permutations', 'num_of_comparisons', 'Recall']], color=\"Recall\", \n",
    "    # labels={\"num_of_comparisons\": \"num_of_comparisons\", \"diffObjectsComparedSuccess\": \"diffObjectsComparedSuccess\"},\n",
    "    color_continuous_scale=px.colors.sequential.RdBu, \n",
    "    color_continuous_midpoint=2\n",
    ")\n",
    "fig.show()"
   ]
  },
  {
   "cell_type": "code",
   "execution_count": null,
   "metadata": {},
   "outputs": [],
   "source": [
    "fig = px.parallel_coordinates(\n",
    "    euclid_jaccard_char_3_DF[[ 'max_dissimilarity_distance', 'max_num_of_clusters', 'selectedNumOfPrototypes', 'Recall', 'Accuracy']], color=\"Recall\", \n",
    "    # labels={\"num_of_comparisons\": \"num_of_comparisons\", \"diffObjectsComparedSuccess\": \"diffObjectsComparedSuccess\"},\n",
    "    color_continuous_scale=px.colors.sequential.RdBu, \n",
    "    # color_continuous_midpoint=2\n",
    ")\n",
    "fig.show()"
   ]
  },
  {
   "cell_type": "code",
   "execution_count": null,
   "metadata": {},
   "outputs": [],
   "source": [
    "# fig = px.parallel_categories(\n",
    "#     euclid_jaccard_char_3_DF[[ 'diffObjectsComparedSuccess', 'sameObjectsCompared', 'sameObjectsComparedSuccess', 'selectedNumOfPrototypes', 'number_of_permutations', 'num_of_comparisons', 'Recall', 'trial_id']], \n",
    "#     color=\"Recall\",\n",
    "#     color_continuous_scale=px.colors.sequential.Inferno\n",
    "# )\n",
    "# fig.show()"
   ]
  },
  {
   "cell_type": "code",
   "execution_count": null,
   "metadata": {},
   "outputs": [],
   "source": [
    "fig = px.scatter(\n",
    "    euclid_jaccard_char_3_DF[['F1', 'Time', 'diffObjectsComparedSuccess', 'sameObjectsCompared', 'sameObjectsComparedSuccess', 'selectedNumOfPrototypes', 'number_of_permutations', 'num_of_comparisons', 'Recall', 'trial_id']], \n",
    "    x=\"diffObjectsComparedSuccess\", \n",
    "    y=\"sameObjectsComparedSuccess\", \n",
    "    size=\"num_of_comparisons\", \n",
    "    color=\"Recall\",\n",
    "    # hover_name=\"F1\", \n",
    "    log_x=True, \n",
    "    color_continuous_scale=px.colors.sequential.RdBu_r, \n",
    "    size_max=10,\n",
    "    template='plotly_white',\n",
    "    labels={\n",
    "         \"diffObjectsComparedSuccess\": \"Different papers compared with success\",\n",
    "         \"sameObjectsComparedSuccess\": \"Same papers compared with success\",\n",
    "     }\n",
    ")\n",
    "fig.show()"
   ]
  },
  {
   "cell_type": "code",
   "execution_count": null,
   "metadata": {},
   "outputs": [],
   "source": [
    "plot_df = euclid_jaccard_char_3_DF[['F1', 'Time', 'diffObjectsComparedSuccess', 'sameObjectsCompared', 'sameObjectsComparedSuccess', 'selectedNumOfPrototypes', 'number_of_permutations', 'num_of_comparisons', 'Recall', 'trial_id']].sort_values('Recall', ascending=True).tail(10)\n",
    "\n",
    "px.scatter(\n",
    "    plot_df, \n",
    "    x=\"diffObjectsComparedSuccess\", \n",
    "    y=\"sameObjectsComparedSuccess\", \n",
    "    # size=\"num_of_comparisons\", \n",
    "    # color=\"Time\",\n",
    "    # hover_name=\"F1\", \n",
    "    animation_frame=\"Recall\", \n",
    "    animation_group=\"number_of_permutations\",\n",
    "    # facet_col=\"Recall\",\n",
    "    log_x=True, \n",
    "    template='plotly_white'\n",
    "    # size_max=10, \n",
    "    # range_x=[1000,10000000], \n",
    "    # range_y=[10,100]\n",
    ")\n",
    "# fig.show()"
   ]
  },
  {
   "cell_type": "code",
   "execution_count": null,
   "metadata": {},
   "outputs": [],
   "source": [
    "fig = px.parallel_coordinates(\n",
    "    euclid_jaccard_char_3_DF[[ 'window_size', 'number_of_permutations', 'averageBucketSize','similarityTime', 'Recall', 'Accuracy']], color=\"Recall\", \n",
    "    # labels={\"num_of_comparisons\": \"num_of_comparisons\", \"diffObjectsComparedSuccess\": \"diffObjectsComparedSuccess\"},\n",
    "    color_continuous_scale=px.colors.sequential.RdBu, \n",
    "    # color_continuous_midpoint=2\n",
    ")\n",
    "fig.show()"
   ]
  },
  {
   "cell_type": "markdown",
   "metadata": {},
   "source": [
    "### Best model"
   ]
  },
  {
   "cell_type": "code",
   "execution_count": null,
   "metadata": {},
   "outputs": [],
   "source": [
    "# euclid_jaccard_char_3.best_trial.number\n",
    "# euclid_jaccard_char_3_DF[]\n",
    "best_params = euclid_jaccard_char_3_DF[euclid_jaccard_char_3_DF['trial_id'] == 12].to_dict('records')[0]"
   ]
  },
  {
   "cell_type": "code",
   "execution_count": null,
   "metadata": {},
   "outputs": [],
   "source": [
    "best_params"
   ]
  },
  {
   "cell_type": "code",
   "execution_count": null,
   "metadata": {
    "tags": []
   },
   "outputs": [],
   "source": [
    "winnER = WinnER(verbose_level=1)\n",
    "winnER.set_params(best_params)\n",
    "winnER.hackForDebug(labels_groundTruth, true_matrix)\n",
    "winnER.fit(data)\n",
    "winnER.evaluate(winnER.mapping_matrix, true_matrix)"
   ]
  },
  {
   "cell_type": "markdown",
   "metadata": {},
   "source": [
    "### Space Visualization"
   ]
  },
  {
   "cell_type": "code",
   "execution_count": null,
   "metadata": {},
   "outputs": [],
   "source": [
    "SpaceVisualization2D(winnER.Embeddings, winnER.prototypeArray)"
   ]
  },
  {
   "cell_type": "code",
   "execution_count": null,
   "metadata": {},
   "outputs": [],
   "source": [
    "SpaceVisualization2D(winnER.Embeddings, winnER.prototypeArray, decompositionMenthod='MDS')"
   ]
  },
  {
   "cell_type": "code",
   "execution_count": null,
   "metadata": {
    "tags": []
   },
   "outputs": [],
   "source": [
    "SpaceVisualization3D(winnER.Embeddings, winnER.prototypeArray)"
   ]
  },
  {
   "cell_type": "code",
   "execution_count": null,
   "metadata": {
    "tags": []
   },
   "outputs": [],
   "source": [
    "SpaceVisualization3D(winnER.rankedVectors,winnER.prototypeArray, decompositionMenthod='MDS')"
   ]
  },
  {
   "cell_type": "code",
   "execution_count": null,
   "metadata": {
    "tags": []
   },
   "outputs": [],
   "source": [
    "SpaceVisualization3D(winnER.rankedVectors, winnER.prototypeArray, withPlotly = True, decompositionMenthod='MDS')"
   ]
  },
  {
   "cell_type": "code",
   "execution_count": null,
   "metadata": {},
   "outputs": [],
   "source": [
    "SpaceVisualizationEmbeddings2D(\n",
    "    winnER.Embeddings, labels_groundTruth, withPlotly=True, decompositionMenthod='PCA'\n",
    ")"
   ]
  },
  {
   "cell_type": "code",
   "execution_count": null,
   "metadata": {},
   "outputs": [],
   "source": [
    "SpaceVisualizationEmbeddings3D(\n",
    "    winnER.rankedVectors, labels_groundTruth, withPlotly=True, decompositionMenthod='PCA'\n",
    ")"
   ]
  },
  {
   "cell_type": "code",
   "execution_count": null,
   "metadata": {
    "tags": []
   },
   "outputs": [],
   "source": [
    "SpaceVisualizationEmbeddings3D(\n",
    "    winnER.rankedVectors, labels_groundTruth, withPlotly=True, decompositionMenthod='MDS'\n",
    ")"
   ]
  },
  {
   "cell_type": "markdown",
   "metadata": {},
   "source": [
    "__MMD error between distribution of Prototypes and whole Dataset__"
   ]
  },
  {
   "cell_type": "code",
   "execution_count": null,
   "metadata": {},
   "outputs": [],
   "source": [
    "myMMD2(winnER)"
   ]
  },
  {
   "cell_type": "code",
   "execution_count": null,
   "metadata": {},
   "outputs": [],
   "source": []
  }
 ],
 "metadata": {
  "kernelspec": {
   "display_name": "Python 3",
   "language": "python",
   "name": "python3"
  },
  "language_info": {
   "codemirror_mode": {
    "name": "ipython",
    "version": 3
   },
   "file_extension": ".py",
   "mimetype": "text/x-python",
   "name": "python",
   "nbconvert_exporter": "python",
   "pygments_lexer": "ipython3",
   "version": "3.7.6"
  },
  "toc-autonumbering": false,
  "toc-showcode": false,
  "toc-showmarkdowntxt": false,
  "toc-showtags": false
 },
 "nbformat": 4,
 "nbformat_minor": 4
}
