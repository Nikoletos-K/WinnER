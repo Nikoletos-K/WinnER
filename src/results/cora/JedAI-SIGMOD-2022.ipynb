{
 "cells": [
  {
   "cell_type": "code",
   "execution_count": 1,
   "id": "fb807d78-25f5-4f05-aa6e-7fb909faf9a3",
   "metadata": {},
   "outputs": [],
   "source": [
    "import pandas as pd\n",
    "import numpy as np\n",
    "import collections\n",
    "import editdistance\n",
    "import string\n",
    "import sklearn\n",
    "import pandas_read_xml as pdx\n",
    "import time\n",
    "import warnings\n",
    "import sys\n",
    "import matplotlib.pyplot as plt\n",
    "import seaborn as sns\n",
    "import nltk\n",
    "import math"
   ]
  },
  {
   "cell_type": "code",
   "execution_count": null,
   "id": "f1062608-315b-4a62-95f9-42e5472c2841",
   "metadata": {},
   "outputs": [],
   "source": [
    "y1 = pd.read_csv(os.path.abspath(\"../data/coraIdDuplicates.csv\"), sep = '|', header = None, names = ['id1','id2'])\n",
    "x1 = pd.read_csv(os.path.abspath(\"../data/coraProfiles.csv\"), sep = '|')"
   ]
  }
 ],
 "metadata": {
  "kernelspec": {
   "display_name": "Python 3",
   "language": "python",
   "name": "python3"
  },
  "language_info": {
   "codemirror_mode": {
    "name": "ipython",
    "version": 3
   },
   "file_extension": ".py",
   "mimetype": "text/x-python",
   "name": "python",
   "nbconvert_exporter": "python",
   "pygments_lexer": "ipython3",
   "version": "3.7.6"
  }
 },
 "nbformat": 4,
 "nbformat_minor": 5
}
