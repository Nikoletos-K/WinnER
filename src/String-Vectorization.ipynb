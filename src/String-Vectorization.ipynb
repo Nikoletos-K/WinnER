{
 "cells": [
  {
   "cell_type": "markdown",
   "id": "c4fe61c8-bf0a-4448-b478-96cf89f0ba1a",
   "metadata": {},
   "source": [
    "<hr>\n",
    "<div align=\"center\">\n",
    "<font size=\"8\">\n",
    "  <b>String Vectorization</b> \n",
    "</font><br>\n",
    "</div>\n",
    "<hr>"
   ]
  },
  {
   "cell_type": "markdown",
   "id": "98974a70-5b7a-4e33-bbb1-0b92c5b5b919",
   "metadata": {
    "tags": []
   },
   "source": [
    "# Prototype selection\n",
    "\n",
    "[toDo] Available methods for choosing prototypes:\n",
    "- K-Means\n",
    "- K-Medoids\n",
    "- CLARA\n",
    "- CLARANS\n",
    "\n",
    "Available distances between strings:\n",
    "- Edit distance (without processing)\n",
    "- Jaccard (tokenization)\n",
    "- Euclid-Jaccard (tokenization)"
   ]
  },
  {
   "cell_type": "code",
   "execution_count": 4,
   "id": "29f9ce53-0b8e-4b99-80d2-d0e848f0bde7",
   "metadata": {},
   "outputs": [],
   "source": [
    "dataset = [\"abcd\", \"bcda\", \"cdab\", \"dabc\"]"
   ]
  },
  {
   "cell_type": "code",
   "execution_count": 5,
   "id": "81bf4fc5-692e-4c2b-875d-e4843e1be667",
   "metadata": {},
   "outputs": [
    {
     "data": {
      "text/plain": [
       "['abcd', 'bcda', 'cdab', 'dabc']"
      ]
     },
     "execution_count": 5,
     "metadata": {},
     "output_type": "execute_result"
    }
   ],
   "source": [
    "dataset"
   ]
  },
  {
   "cell_type": "markdown",
   "id": "c9265f07-4850-4761-909d-17a83322f851",
   "metadata": {},
   "source": [
    "# Import of model "
   ]
  },
  {
   "cell_type": "code",
   "execution_count": 6,
   "id": "66a6ab60-7934-434a-975b-d5c3846c1af6",
   "metadata": {
    "tags": []
   },
   "outputs": [],
   "source": [
    "import pandas as pd\n",
    "import numpy as np\n",
    "import collections\n",
    "import editdistance\n",
    "import string\n",
    "import sklearn\n",
    "import pandas_read_xml as pdx\n",
    "import time\n",
    "import warnings\n",
    "import sys\n",
    "import matplotlib.pyplot as plt\n",
    "import seaborn as sns\n",
    "import nltk\n",
    "import math\n",
    "import os\n",
    "import scipy.special as special\n",
    "import igraph\n",
    "import networkx as nx\n",
    "import itertools \n",
    "import sklearn\n",
    "import plotly.express as px\n",
    "import logging\n",
    "import sys\n",
    "import optuna\n",
    "import plotly\n",
    "\n",
    "from optuna.visualization import plot_contour\n",
    "from optuna.visualization import plot_edf\n",
    "from optuna.visualization import plot_intermediate_values\n",
    "from optuna.visualization import plot_optimization_history\n",
    "from optuna.visualization import plot_parallel_coordinate\n",
    "from optuna.visualization import plot_param_importances\n",
    "from optuna.visualization import plot_slice\n",
    "from tqdm.notebook import tqdm as tqdm\n",
    "from scipy.spatial.distance import directed_hausdorff,hamming\n",
    "from scipy.stats._stats import _kendall_dis\n",
    "from scipy.stats import spearmanr,kendalltau,pearsonr,kruskal,mannwhitneyu\n",
    "from sklearn.metrics.pairwise import cosine_similarity\n",
    "from nltk.metrics.distance import jaro_similarity,jaro_winkler_similarity,jaccard_distance\n",
    "from sklearn.metrics import jaccard_score,accuracy_score,auc,f1_score,recall_score,precision_score,classification_report\n",
    "from scipy.sparse import csr_matrix\n",
    "from scipy import sparse\n",
    "from scipy import stats \n",
    "from scipy.spatial.distance import euclidean,hamming,jaccard\n",
    "from matplotlib.patches import Rectangle\n",
    "from sklearn.metrics import ndcg_score\n",
    "from datetime import datetime\n",
    "from sklearn.decomposition import PCA \n",
    "from numpy.linalg import svd\n",
    "\n",
    "# Automated refresh of the notebook\n",
    "%load_ext autoreload\n",
    "%autoreload 2\n",
    "%reload_ext autoreload"
   ]
  },
  {
   "cell_type": "markdown",
   "id": "b5f12de2-6454-497d-890b-dd7586be3ab1",
   "metadata": {},
   "source": [
    "# Dataset"
   ]
  },
  {
   "cell_type": "code",
   "execution_count": 7,
   "id": "4967787b-de29-4c24-b271-64b75039029a",
   "metadata": {},
   "outputs": [],
   "source": [
    "dataset = ['abcd', 'bcda']"
   ]
  },
  {
   "cell_type": "markdown",
   "id": "23596f48-137a-4065-aba6-95eecfcab684",
   "metadata": {
    "tags": []
   },
   "source": [
    "# 1. WinnER - Prototype selection and Vectorization of the ER in Diss. Spaces\n",
    "\n",
    "WinnER framework has the bellow parameters (and their default values):\n",
    "```\n",
    "max_num_of_clusters = None, \n",
    "max_dissimilarity_distance = None, \n",
    "window_size = None,   \n",
    "number_of_permutations = 1, \n",
    "char_tokenization = True,\n",
    "embedding_distance_metric = 'euclid_jaccard', \n",
    "metric = 'kendal', \n",
    "similarity_vectors = 'ranked', \n",
    "distance_metric = 'euclid_jaccard', \n",
    "prototypes_optimization_thr = None, \n",
    "ngrams = None, \n",
    "similarity_threshold = None, \n",
    "num_of_threads = 16,\n",
    "verbose_level=0, \n",
    "rbo_p = 0.7, \n",
    "wta_m = 1, \n",
    "max_num_of_comparisons = 250000, \n",
    "disable_tqdm = False,\n",
    "enable_blocking = True,\n",
    "debug_stop = None\n",
    "```\n",
    "\n",
    "although, the mandatory and the five official hyper-parameters are:\n",
    "\n",
    "```\n",
    "max_num_of_clusters, max_dissimilarity_distance, window_size, number_of_permutations = 1, similarity_threshold\n",
    "```\n"
   ]
  },
  {
   "cell_type": "markdown",
   "id": "1763d97a-c958-43db-9131-375ee07b4b25",
   "metadata": {},
   "source": [
    "## WinnER injection"
   ]
  },
  {
   "cell_type": "code",
   "execution_count": 8,
   "id": "5c2f8112-9351-4108-b8c5-694ea52da6c6",
   "metadata": {},
   "outputs": [],
   "source": [
    "from model import WinnER\n",
    "from plot.heatmap import myHeatmap\n",
    "from plot.confusion_matrix import create_ConfusionMatrix\n",
    "from plot.dimension_reduction import SpaceVisualization2D, SpaceVisualization3D, SpaceVisualizationEmbeddings2D, SpaceVisualizationEmbeddings3D\n",
    "from plot.heatmap import similarityProbsHeatMap, similarityProbsHeatMapWithClusters\n",
    "from datasets.common.create_dataset import process_dataset, create_true_labels"
   ]
  },
  {
   "cell_type": "markdown",
   "id": "cfc8f057-2bb3-470c-9eb3-9976037a35d0",
   "metadata": {},
   "source": [
    "## Usage example with the 5 hyper-parameters"
   ]
  },
  {
   "cell_type": "code",
   "execution_count": 10,
   "id": "1cf4da3e-0926-4d0c-a8ac-f29a9432e39e",
   "metadata": {},
   "outputs": [
    {
     "name": "stdout",
     "output_type": "stream",
     "text": [
      "\n",
      "#####################################################################\n",
      "#                           .~  WinnER  ~.                          #\n",
      "#####################################################################\n",
      "\n",
      "Tokenization initialized with.. \n",
      "- Q-gramms:  3\n",
      "- Char-Tokenization:  True\n",
      "- Text cleanning process:  None\n",
      "\n",
      "Processing strarts.. \n",
      "- Data size:  2\n"
     ]
    },
    {
     "name": "stderr",
     "output_type": "stream",
     "text": [
      "Processing..: 100%|██████████| 2/2 [00:00<?, ?it/s]\n"
     ]
    },
    {
     "name": "stdout",
     "output_type": "stream",
     "text": [
      "\n",
      "###########################################################\n",
      "# > 1. Prototype selection phase                          #\n",
      "###########################################################\n",
      "\n",
      "\n",
      "-> Finding prototypes and representatives of each cluster:\n"
     ]
    },
    {
     "name": "stderr",
     "output_type": "stream",
     "text": [
      "Representatives selection: 100%|██████████| 2/2 [00:00<00:00, 1541.46it/s]\n",
      "Prototype selection: 100%|██████████| 300/300 [00:00<00:00, 144531.50it/s]\n",
      "Prototype optimization: 100%|██████████| 2/2 [00:00<00:00, 3415.56it/s]\n"
     ]
    },
    {
     "name": "stdout",
     "output_type": "stream",
     "text": [
      "\n",
      "- Final number of prototypes:  2\n",
      "\n",
      "# Finished in 165184 secs\n",
      "\n",
      "\n",
      "###########################################################\n",
      "# > 2. Embeddings based on the Vantage objects            #\n",
      "###########################################################\n",
      "\n",
      "\n",
      "-> Creating Embeddings:\n"
     ]
    },
    {
     "name": "stderr",
     "output_type": "stream",
     "text": [
      "Creating embeddings: 100%|██████████| 2/2 [00:00<00:00, 2010.21it/s]"
     ]
    },
    {
     "name": "stdout",
     "output_type": "stream",
     "text": [
      "\n",
      "# Finished in 165184 secs\n",
      "\n",
      "\n",
      "###########################################################\n",
      "# > 4. Similarity checking                                #\n",
      "###########################################################\n",
      "\n",
      "\n",
      "-> Similarity checking:\n",
      "[[1 2]\n",
      " [2 1]]\n",
      "\n",
      "# Finished in 165184 secs\n",
      "\n",
      "#####################################################################\n",
      "#                           .~  End  ~.                             #\n",
      "#####################################################################\n",
      "\n"
     ]
    },
    {
     "name": "stderr",
     "output_type": "stream",
     "text": [
      "\n"
     ]
    },
    {
     "data": {
      "text/plain": [
       "<model.WinnER at 0x25d90b07a08>"
      ]
     },
     "execution_count": 10,
     "metadata": {},
     "output_type": "execute_result"
    }
   ],
   "source": [
    "winner = WinnER(\n",
    "    max_num_of_clusters = 300,\n",
    "    max_dissimilarity_distance = 0.6,\n",
    "    window_size = 10,\n",
    "    similarity_threshold = 0.7,\n",
    "    number_of_permutations = 1,\n",
    "    verbose_level = 0,\n",
    "    enable_blocking = False\n",
    ")\n",
    "\n",
    "winner.fit(dataset)\n",
    "\n",
    "# winner.groundtruth(true_matrix)\n",
    "# acc,f1,precision,recall = winner.evaluate(winner.mapping_matrix, with_confusion_matrix=False)"
   ]
  },
  {
   "cell_type": "code",
   "execution_count": 11,
   "id": "28186e2c-62ba-4b16-bf62-4059006847ac",
   "metadata": {},
   "outputs": [
    {
     "data": {
      "text/plain": [
       "array([[1, 2],\n",
       "       [2, 1]], dtype=int64)"
      ]
     },
     "execution_count": 11,
     "metadata": {},
     "output_type": "execute_result"
    }
   ],
   "source": [
    "winner.embeddings"
   ]
  },
  {
   "cell_type": "code",
   "execution_count": null,
   "id": "b3d0b91a-e407-42c7-8da4-c3dc0ab97d0f",
   "metadata": {},
   "outputs": [],
   "source": []
  }
 ],
 "metadata": {
  "kernelspec": {
   "display_name": "Python 3",
   "language": "python",
   "name": "python3"
  },
  "language_info": {
   "codemirror_mode": {
    "name": "ipython",
    "version": 3
   },
   "file_extension": ".py",
   "mimetype": "text/x-python",
   "name": "python",
   "nbconvert_exporter": "python",
   "pygments_lexer": "ipython3",
   "version": "3.7.6"
  }
 },
 "nbformat": 4,
 "nbformat_minor": 5
}
