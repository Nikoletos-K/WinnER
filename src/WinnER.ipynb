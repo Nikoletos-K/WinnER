{
 "cells": [
  {
   "cell_type": "markdown",
   "id": "119828ad-4f03-444a-bb40-2563d9e07409",
   "metadata": {},
   "source": [
    "<hr>\n",
    "<div align=\"center\">\n",
    "<font size=\"8\">\n",
    "  <b>WinnER</b> \n",
    "</font><br>\n",
    "This notebook is a manual of the model and framework of this ER project. \n",
    "</div>\n",
    "\n",
    "<hr>\n",
    "\n",
    "## Execution\n",
    "\n",
    "In order to be excuted all libraries and imports must be satisfied.  \n",
    "Use __pip install \\<lib\\>__\n",
    "    \n",
    "## Data \n",
    "\n",
    "As an example, dataset dataset is used for data. \n",
    "This model needs 2 files:\n",
    "- __Dataset file:__ Containing 1 or more attributes. (must contain one column that will serve as the id)\n",
    "- __Ground-truth file:__ File with pairs of similarity. Must contain 2 columns."
   ]
  },
  {
   "cell_type": "markdown",
   "id": "1425da73-346a-4ca2-8301-b726e61788e2",
   "metadata": {},
   "source": [
    "# __Code injection__"
   ]
  },
  {
   "cell_type": "markdown",
   "id": "f75c32f9-7b92-4f96-949b-90b64fafd32f",
   "metadata": {},
   "source": [
    "## Import of libraries"
   ]
  },
  {
   "cell_type": "code",
   "execution_count": 10,
   "id": "7a609ba4-91fa-4a73-90d1-b6ea6b06e093",
   "metadata": {
    "tags": []
   },
   "outputs": [],
   "source": [
    "import pandas as pd\n",
    "import numpy as np\n",
    "import collections\n",
    "import editdistance\n",
    "import string\n",
    "import sklearn\n",
    "import pandas_read_xml as pdx\n",
    "import time\n",
    "import warnings\n",
    "import sys\n",
    "import matplotlib.pyplot as plt\n",
    "import seaborn as sns\n",
    "import nltk\n",
    "import math\n",
    "import os\n",
    "import scipy.special as special\n",
    "import igraph\n",
    "import networkx as nx\n",
    "import itertools \n",
    "import sklearn\n",
    "import plotly.express as px\n",
    "import logging\n",
    "import sys\n",
    "import optuna\n",
    "import plotly\n",
    "\n",
    "from optuna.visualization import plot_contour\n",
    "from optuna.visualization import plot_edf\n",
    "from optuna.visualization import plot_intermediate_values\n",
    "from optuna.visualization import plot_optimization_history\n",
    "from optuna.visualization import plot_parallel_coordinate\n",
    "from optuna.visualization import plot_param_importances\n",
    "from optuna.visualization import plot_slice\n",
    "from tqdm.notebook import tqdm as tqdm\n",
    "from scipy.spatial.distance import directed_hausdorff,hamming\n",
    "from scipy.stats._stats import _kendall_dis\n",
    "from scipy.stats import spearmanr,kendalltau,pearsonr,kruskal,mannwhitneyu\n",
    "from sklearn.metrics.pairwise import cosine_similarity\n",
    "from nltk.metrics.distance import jaro_similarity,jaro_winkler_similarity,jaccard_distance\n",
    "from sklearn.metrics import jaccard_score,accuracy_score,auc,f1_score,recall_score,precision_score,classification_report\n",
    "from scipy.sparse import csr_matrix\n",
    "from scipy import sparse\n",
    "from scipy import stats \n",
    "from scipy.spatial.distance import euclidean,hamming,jaccard\n",
    "from matplotlib.patches import Rectangle\n",
    "from sklearn.metrics import ndcg_score\n",
    "from datetime import datetime\n",
    "from sklearn.decomposition import PCA \n",
    "from numpy.linalg import svd"
   ]
  },
  {
   "cell_type": "markdown",
   "id": "c6407431-4564-41d2-8e05-c3e7d1c10d1e",
   "metadata": {},
   "source": [
    "Automated refresh on the notebook"
   ]
  },
  {
   "cell_type": "code",
   "execution_count": 11,
   "id": "0fd915d7-6eef-4faf-bd36-dc148220b4fe",
   "metadata": {},
   "outputs": [
    {
     "name": "stdout",
     "output_type": "stream",
     "text": [
      "The autoreload extension is already loaded. To reload it, use:\n",
      "  %reload_ext autoreload\n"
     ]
    }
   ],
   "source": [
    "%load_ext autoreload\n",
    "%autoreload 2\n",
    "%reload_ext autoreload"
   ]
  },
  {
   "cell_type": "markdown",
   "id": "3a8ead44-170f-4f7e-bb70-aa11fad5e20a",
   "metadata": {},
   "source": [
    "## Main model dependency"
   ]
  },
  {
   "cell_type": "code",
   "execution_count": 12,
   "id": "fb66b2e5-488a-4c22-a495-9185242ab9c9",
   "metadata": {},
   "outputs": [],
   "source": [
    "from model import WinnER, customClassificationReport, report"
   ]
  },
  {
   "cell_type": "markdown",
   "id": "7dd91412-13b2-4ed5-82e1-d332686d3bf4",
   "metadata": {},
   "source": [
    "## Utilities"
   ]
  },
  {
   "cell_type": "code",
   "execution_count": 13,
   "id": "0fb0cc51-fb10-4072-9266-76784b445deb",
   "metadata": {
    "tags": []
   },
   "outputs": [],
   "source": [
    "from utils.mmd2 import MMD2, myMMD2\n",
    "from plot.heatmap import myHeatmap\n",
    "from plot.confusion_matrix import create_ConfusionMatrix\n",
    "from plot.dimension_reduction import SpaceVisualization2D, SpaceVisualization3D, SpaceVisualizationEmbeddings2D, SpaceVisualizationEmbeddings3D\n",
    "from plot.heatmap import similarityProbsHeatMap, similarityProbsHeatMapWithClusters"
   ]
  },
  {
   "cell_type": "markdown",
   "id": "1ff87167-0eca-4943-89ae-a19719446504",
   "metadata": {},
   "source": [
    "### Dataset utils"
   ]
  },
  {
   "cell_type": "code",
   "execution_count": 14,
   "id": "437e7996-b72a-4156-ae50-102ab6617e7e",
   "metadata": {},
   "outputs": [],
   "source": [
    "from datasets.common.create_dataset import process_dataset, create_true_labels\n",
    "from utils.grid_search import GridSearch"
   ]
  },
  {
   "cell_type": "markdown",
   "id": "74aa1900-5322-4387-9bd0-3b09ef3271a5",
   "metadata": {},
   "source": [
    "### Custom metrics"
   ]
  },
  {
   "cell_type": "code",
   "execution_count": 15,
   "id": "2af59cd5-e5ee-46d8-b18d-73b49e65d273",
   "metadata": {},
   "outputs": [],
   "source": [
    "from utils.metrics import spearman_footrule_distance, kendall_top_k, rbo"
   ]
  },
  {
   "cell_type": "markdown",
   "id": "a56624a6-c7e1-4049-a963-b427adcdaa9e",
   "metadata": {
    "tags": []
   },
   "source": [
    "\n",
    "# __Dataset injection__"
   ]
  },
  {
   "cell_type": "markdown",
   "id": "e8f9f4df-4e94-426e-9514-2237a9cc960e",
   "metadata": {
    "tags": []
   },
   "source": [
    "## Load data from Drive in Colab"
   ]
  },
  {
   "cell_type": "code",
   "execution_count": 16,
   "id": "a88ee62f-47ae-4f46-9569-8647e2d01291",
   "metadata": {
    "tags": []
   },
   "outputs": [],
   "source": [
    "# # Opening data file\n",
    "# import io\n",
    "# from google.colab import drive\n",
    "\n",
    "# drive.mount('/content/drive',force_remount=True)\n",
    "\n",
    "# fpdataset = r\"/content/drive/My Drive/ERinDS/CORA.xml\"\n",
    "# fpcora_gold = r\"/content/drive/My Drive/ERinDS/cora_gold.csv\""
   ]
  },
  {
   "cell_type": "markdown",
   "id": "ca9e97ee-b30b-44c5-8369-5711b525f9c8",
   "metadata": {},
   "source": [
    "## Load data from disk for Jupyter"
   ]
  },
  {
   "cell_type": "markdown",
   "id": "7defd618-ea55-4b0c-8b5c-818852c42984",
   "metadata": {
    "tags": []
   },
   "source": [
    "#### Dataset"
   ]
  },
  {
   "cell_type": "code",
   "execution_count": 17,
   "id": "f6ca3a89-eb63-4bff-aac4-0c2178dd0490",
   "metadata": {},
   "outputs": [
    {
     "data": {
      "text/html": [
       "<div>\n",
       "<style scoped>\n",
       "    .dataframe tbody tr th:only-of-type {\n",
       "        vertical-align: middle;\n",
       "    }\n",
       "\n",
       "    .dataframe tbody tr th {\n",
       "        vertical-align: top;\n",
       "    }\n",
       "\n",
       "    .dataframe thead th {\n",
       "        text-align: right;\n",
       "    }\n",
       "</style>\n",
       "<table border=\"1\" class=\"dataframe\">\n",
       "  <thead>\n",
       "    <tr style=\"text-align: right;\">\n",
       "      <th></th>\n",
       "      <th>Entity Id</th>\n",
       "      <th>address</th>\n",
       "      <th>author</th>\n",
       "      <th>editor</th>\n",
       "      <th>institution</th>\n",
       "      <th>month</th>\n",
       "      <th>note</th>\n",
       "      <th>pages</th>\n",
       "      <th>publisher</th>\n",
       "      <th>title</th>\n",
       "      <th>venue</th>\n",
       "      <th>volume</th>\n",
       "      <th>year</th>\n",
       "      <th>Unnamed: 13</th>\n",
       "    </tr>\n",
       "  </thead>\n",
       "  <tbody>\n",
       "    <tr>\n",
       "      <th>0</th>\n",
       "      <td>0</td>\n",
       "      <td>los alamitos, ca:</td>\n",
       "      <td>p. auer, n. cesa-bianchi, y. freund, and r. e....</td>\n",
       "      <td>NaN</td>\n",
       "      <td>NaN</td>\n",
       "      <td>NaN</td>\n",
       "      <td>NaN</td>\n",
       "      <td>pp. 322-331.</td>\n",
       "      <td>ieee computer society press,</td>\n",
       "      <td>'gambling in a rigged casino: the adversarial ...</td>\n",
       "      <td>in proc. 36th annual symposium on foundations ...</td>\n",
       "      <td>NaN</td>\n",
       "      <td>1995,</td>\n",
       "      <td>NaN</td>\n",
       "    </tr>\n",
       "    <tr>\n",
       "      <th>1</th>\n",
       "      <td>1</td>\n",
       "      <td>NaN</td>\n",
       "      <td>a. blum, m. furst, m. j. kearns, and richard j...</td>\n",
       "      <td>NaN</td>\n",
       "      <td>NaN</td>\n",
       "      <td>NaN</td>\n",
       "      <td>NaN</td>\n",
       "      <td>pages 24.1-24.10,</td>\n",
       "      <td>NaN</td>\n",
       "      <td>cryptographic primitives based on hard learnin...</td>\n",
       "      <td>in pre-proceedings of crypto '93,</td>\n",
       "      <td>NaN</td>\n",
       "      <td>1993.</td>\n",
       "      <td>NaN</td>\n",
       "    </tr>\n",
       "    <tr>\n",
       "      <th>2</th>\n",
       "      <td>2</td>\n",
       "      <td>NaN</td>\n",
       "      <td>avrim blum, merrick furst, michael kearns, and...</td>\n",
       "      <td>NaN</td>\n",
       "      <td>NaN</td>\n",
       "      <td>NaN</td>\n",
       "      <td>NaN</td>\n",
       "      <td>pages 24.1-24.10,</td>\n",
       "      <td>NaN</td>\n",
       "      <td>cryptographic primitives based on hard learnin...</td>\n",
       "      <td>in pre-proceedings of crypto '93,</td>\n",
       "      <td>NaN</td>\n",
       "      <td>1993.</td>\n",
       "      <td>NaN</td>\n",
       "    </tr>\n",
       "    <tr>\n",
       "      <th>3</th>\n",
       "      <td>3</td>\n",
       "      <td>NaN</td>\n",
       "      <td>avrim blum, merrick furst, michael kearns, and...</td>\n",
       "      <td>in douglas r. stinson, editor,</td>\n",
       "      <td>NaN</td>\n",
       "      <td>NaN</td>\n",
       "      <td>lecture notes in computer science no. 773.</td>\n",
       "      <td>pages 278-291.</td>\n",
       "      <td>springer,</td>\n",
       "      <td>cryptographic primitives based on hard learnin...</td>\n",
       "      <td>proc. crypto 93,</td>\n",
       "      <td>NaN</td>\n",
       "      <td>1994.</td>\n",
       "      <td>NaN</td>\n",
       "    </tr>\n",
       "    <tr>\n",
       "      <th>4</th>\n",
       "      <td>4</td>\n",
       "      <td>NaN</td>\n",
       "      <td>a. blum, m. furst, m. kearns, r. lipton.</td>\n",
       "      <td>NaN</td>\n",
       "      <td>NaN</td>\n",
       "      <td>NaN</td>\n",
       "      <td>NaN</td>\n",
       "      <td>NaN</td>\n",
       "      <td>NaN</td>\n",
       "      <td>cryptographic primitives based on hard learnin...</td>\n",
       "      <td>crypto,</td>\n",
       "      <td>NaN</td>\n",
       "      <td>1993.</td>\n",
       "      <td>NaN</td>\n",
       "    </tr>\n",
       "    <tr>\n",
       "      <th>...</th>\n",
       "      <td>...</td>\n",
       "      <td>...</td>\n",
       "      <td>...</td>\n",
       "      <td>...</td>\n",
       "      <td>...</td>\n",
       "      <td>...</td>\n",
       "      <td>...</td>\n",
       "      <td>...</td>\n",
       "      <td>...</td>\n",
       "      <td>...</td>\n",
       "      <td>...</td>\n",
       "      <td>...</td>\n",
       "      <td>...</td>\n",
       "      <td>...</td>\n",
       "    </tr>\n",
       "    <tr>\n",
       "      <th>1290</th>\n",
       "      <td>1290</td>\n",
       "      <td>NaN</td>\n",
       "      <td>robert e. schapire and yoram singer.</td>\n",
       "      <td>NaN</td>\n",
       "      <td>NaN</td>\n",
       "      <td>NaN</td>\n",
       "      <td>NaN</td>\n",
       "      <td>NaN</td>\n",
       "      <td>NaN</td>\n",
       "      <td>improved boosting algorithms using confidence-...</td>\n",
       "      <td>in proceedings of the eleventh annual conferen...</td>\n",
       "      <td>NaN</td>\n",
       "      <td>1998.</td>\n",
       "      <td>NaN</td>\n",
       "    </tr>\n",
       "    <tr>\n",
       "      <th>1291</th>\n",
       "      <td>1291</td>\n",
       "      <td>NaN</td>\n",
       "      <td>schapire, r. e., freund, y., bartlett, p., &amp; l...</td>\n",
       "      <td>NaN</td>\n",
       "      <td>NaN</td>\n",
       "      <td>NaN</td>\n",
       "      <td>annals of statistics (to appear).</td>\n",
       "      <td>NaN</td>\n",
       "      <td>NaN</td>\n",
       "      <td>boosting the margin: a new explanation for the...</td>\n",
       "      <td>NaN</td>\n",
       "      <td>NaN</td>\n",
       "      <td>(1998).</td>\n",
       "      <td>NaN</td>\n",
       "    </tr>\n",
       "    <tr>\n",
       "      <th>1292</th>\n",
       "      <td>1292</td>\n",
       "      <td>NaN</td>\n",
       "      <td>robert e. schapire and yoram singer. boostexter:</td>\n",
       "      <td>NaN</td>\n",
       "      <td>NaN</td>\n",
       "      <td>NaN</td>\n",
       "      <td>NaN</td>\n",
       "      <td>NaN</td>\n",
       "      <td>NaN</td>\n",
       "      <td>a system for multiclass multi-label text categ...</td>\n",
       "      <td>unpublished manuscript,</td>\n",
       "      <td>NaN</td>\n",
       "      <td>1998.</td>\n",
       "      <td>NaN</td>\n",
       "    </tr>\n",
       "    <tr>\n",
       "      <th>1293</th>\n",
       "      <td>1293</td>\n",
       "      <td>NaN</td>\n",
       "      <td>robert e. schapire yoram singer.</td>\n",
       "      <td>NaN</td>\n",
       "      <td>NaN</td>\n",
       "      <td>NaN</td>\n",
       "      <td>submitted for publication. 17</td>\n",
       "      <td>NaN</td>\n",
       "      <td>NaN</td>\n",
       "      <td>improved boosting algorithms using confidence-...</td>\n",
       "      <td>NaN</td>\n",
       "      <td>NaN</td>\n",
       "      <td>NaN</td>\n",
       "      <td>NaN</td>\n",
       "    </tr>\n",
       "    <tr>\n",
       "      <th>1294</th>\n",
       "      <td>1294</td>\n",
       "      <td>NaN</td>\n",
       "      <td>robert e. schapire yoram singer.</td>\n",
       "      <td>NaN</td>\n",
       "      <td>NaN</td>\n",
       "      <td>NaN</td>\n",
       "      <td>submitted for publication.</td>\n",
       "      <td>NaN</td>\n",
       "      <td>NaN</td>\n",
       "      <td>improved boosting algorithms using confidence-...</td>\n",
       "      <td>NaN</td>\n",
       "      <td>NaN</td>\n",
       "      <td>NaN</td>\n",
       "      <td>NaN</td>\n",
       "    </tr>\n",
       "  </tbody>\n",
       "</table>\n",
       "<p>1295 rows × 14 columns</p>\n",
       "</div>"
      ],
      "text/plain": [
       "      Entity Id            address  \\\n",
       "0             0  los alamitos, ca:   \n",
       "1             1                NaN   \n",
       "2             2                NaN   \n",
       "3             3                NaN   \n",
       "4             4                NaN   \n",
       "...         ...                ...   \n",
       "1290       1290                NaN   \n",
       "1291       1291                NaN   \n",
       "1292       1292                NaN   \n",
       "1293       1293                NaN   \n",
       "1294       1294                NaN   \n",
       "\n",
       "                                                 author  \\\n",
       "0     p. auer, n. cesa-bianchi, y. freund, and r. e....   \n",
       "1     a. blum, m. furst, m. j. kearns, and richard j...   \n",
       "2     avrim blum, merrick furst, michael kearns, and...   \n",
       "3     avrim blum, merrick furst, michael kearns, and...   \n",
       "4              a. blum, m. furst, m. kearns, r. lipton.   \n",
       "...                                                 ...   \n",
       "1290               robert e. schapire and yoram singer.   \n",
       "1291  schapire, r. e., freund, y., bartlett, p., & l...   \n",
       "1292   robert e. schapire and yoram singer. boostexter:   \n",
       "1293                   robert e. schapire yoram singer.   \n",
       "1294                   robert e. schapire yoram singer.   \n",
       "\n",
       "                              editor institution month  \\\n",
       "0                                NaN         NaN   NaN   \n",
       "1                                NaN         NaN   NaN   \n",
       "2                                NaN         NaN   NaN   \n",
       "3     in douglas r. stinson, editor,         NaN   NaN   \n",
       "4                                NaN         NaN   NaN   \n",
       "...                              ...         ...   ...   \n",
       "1290                             NaN         NaN   NaN   \n",
       "1291                             NaN         NaN   NaN   \n",
       "1292                             NaN         NaN   NaN   \n",
       "1293                             NaN         NaN   NaN   \n",
       "1294                             NaN         NaN   NaN   \n",
       "\n",
       "                                            note              pages  \\\n",
       "0                                            NaN       pp. 322-331.   \n",
       "1                                            NaN  pages 24.1-24.10,   \n",
       "2                                            NaN  pages 24.1-24.10,   \n",
       "3     lecture notes in computer science no. 773.     pages 278-291.   \n",
       "4                                            NaN                NaN   \n",
       "...                                          ...                ...   \n",
       "1290                                         NaN                NaN   \n",
       "1291           annals of statistics (to appear).                NaN   \n",
       "1292                                         NaN                NaN   \n",
       "1293               submitted for publication. 17                NaN   \n",
       "1294                  submitted for publication.                NaN   \n",
       "\n",
       "                         publisher  \\\n",
       "0     ieee computer society press,   \n",
       "1                              NaN   \n",
       "2                              NaN   \n",
       "3                        springer,   \n",
       "4                              NaN   \n",
       "...                            ...   \n",
       "1290                           NaN   \n",
       "1291                           NaN   \n",
       "1292                           NaN   \n",
       "1293                           NaN   \n",
       "1294                           NaN   \n",
       "\n",
       "                                                  title  \\\n",
       "0     'gambling in a rigged casino: the adversarial ...   \n",
       "1     cryptographic primitives based on hard learnin...   \n",
       "2     cryptographic primitives based on hard learnin...   \n",
       "3     cryptographic primitives based on hard learnin...   \n",
       "4     cryptographic primitives based on hard learnin...   \n",
       "...                                                 ...   \n",
       "1290  improved boosting algorithms using confidence-...   \n",
       "1291  boosting the margin: a new explanation for the...   \n",
       "1292  a system for multiclass multi-label text categ...   \n",
       "1293  improved boosting algorithms using confidence-...   \n",
       "1294  improved boosting algorithms using confidence-...   \n",
       "\n",
       "                                                  venue volume     year  \\\n",
       "0     in proc. 36th annual symposium on foundations ...    NaN    1995,   \n",
       "1                     in pre-proceedings of crypto '93,    NaN    1993.   \n",
       "2                     in pre-proceedings of crypto '93,    NaN    1993.   \n",
       "3                                      proc. crypto 93,    NaN    1994.   \n",
       "4                                               crypto,    NaN    1993.   \n",
       "...                                                 ...    ...      ...   \n",
       "1290  in proceedings of the eleventh annual conferen...    NaN    1998.   \n",
       "1291                                                NaN    NaN  (1998).   \n",
       "1292                            unpublished manuscript,    NaN    1998.   \n",
       "1293                                                NaN    NaN      NaN   \n",
       "1294                                                NaN    NaN      NaN   \n",
       "\n",
       "      Unnamed: 13  \n",
       "0             NaN  \n",
       "1             NaN  \n",
       "2             NaN  \n",
       "3             NaN  \n",
       "4             NaN  \n",
       "...           ...  \n",
       "1290          NaN  \n",
       "1291          NaN  \n",
       "1292          NaN  \n",
       "1293          NaN  \n",
       "1294          NaN  \n",
       "\n",
       "[1295 rows x 14 columns]"
      ]
     },
     "execution_count": 17,
     "metadata": {},
     "output_type": "execute_result"
    }
   ],
   "source": [
    "dataset_name = 'CORA'\n",
    "dataset = pd.read_csv(os.path.abspath(\"../data/coraProfiles.csv\"), sep = '|')\n",
    "dataset"
   ]
  },
  {
   "cell_type": "code",
   "execution_count": 18,
   "id": "e8d2f564-1070-4215-8d70-8d45cc1b027f",
   "metadata": {},
   "outputs": [
    {
     "data": {
      "text/html": [
       "<div>\n",
       "<style scoped>\n",
       "    .dataframe tbody tr th:only-of-type {\n",
       "        vertical-align: middle;\n",
       "    }\n",
       "\n",
       "    .dataframe tbody tr th {\n",
       "        vertical-align: top;\n",
       "    }\n",
       "\n",
       "    .dataframe thead th {\n",
       "        text-align: right;\n",
       "    }\n",
       "</style>\n",
       "<table border=\"1\" class=\"dataframe\">\n",
       "  <thead>\n",
       "    <tr style=\"text-align: right;\">\n",
       "      <th></th>\n",
       "      <th>id1</th>\n",
       "      <th>id2</th>\n",
       "    </tr>\n",
       "  </thead>\n",
       "  <tbody>\n",
       "    <tr>\n",
       "      <th>0</th>\n",
       "      <td>987</td>\n",
       "      <td>990</td>\n",
       "    </tr>\n",
       "    <tr>\n",
       "      <th>1</th>\n",
       "      <td>987</td>\n",
       "      <td>991</td>\n",
       "    </tr>\n",
       "    <tr>\n",
       "      <th>2</th>\n",
       "      <td>987</td>\n",
       "      <td>988</td>\n",
       "    </tr>\n",
       "    <tr>\n",
       "      <th>3</th>\n",
       "      <td>987</td>\n",
       "      <td>989</td>\n",
       "    </tr>\n",
       "    <tr>\n",
       "      <th>4</th>\n",
       "      <td>987</td>\n",
       "      <td>994</td>\n",
       "    </tr>\n",
       "    <tr>\n",
       "      <th>...</th>\n",
       "      <td>...</td>\n",
       "      <td>...</td>\n",
       "    </tr>\n",
       "    <tr>\n",
       "      <th>17179</th>\n",
       "      <td>206</td>\n",
       "      <td>210</td>\n",
       "    </tr>\n",
       "    <tr>\n",
       "      <th>17180</th>\n",
       "      <td>206</td>\n",
       "      <td>211</td>\n",
       "    </tr>\n",
       "    <tr>\n",
       "      <th>17181</th>\n",
       "      <td>206</td>\n",
       "      <td>212</td>\n",
       "    </tr>\n",
       "    <tr>\n",
       "      <th>17182</th>\n",
       "      <td>206</td>\n",
       "      <td>213</td>\n",
       "    </tr>\n",
       "    <tr>\n",
       "      <th>17183</th>\n",
       "      <td>206</td>\n",
       "      <td>214</td>\n",
       "    </tr>\n",
       "  </tbody>\n",
       "</table>\n",
       "<p>17184 rows × 2 columns</p>\n",
       "</div>"
      ],
      "text/plain": [
       "       id1  id2\n",
       "0      987  990\n",
       "1      987  991\n",
       "2      987  988\n",
       "3      987  989\n",
       "4      987  994\n",
       "...    ...  ...\n",
       "17179  206  210\n",
       "17180  206  211\n",
       "17181  206  212\n",
       "17182  206  213\n",
       "17183  206  214\n",
       "\n",
       "[17184 rows x 2 columns]"
      ]
     },
     "execution_count": 18,
     "metadata": {},
     "output_type": "execute_result"
    }
   ],
   "source": [
    "dataset_ground_truth = pd.read_csv(os.path.abspath(\"../data/coraIdDuplicates.csv\"), sep = '|', header = None, names = ['id1','id2'])\n",
    "dataset_ground_truth"
   ]
  },
  {
   "cell_type": "markdown",
   "id": "d8a36ab1-ae7b-407a-8fb5-6f61804353bb",
   "metadata": {
    "tags": []
   },
   "source": [
    "# __Dataset attribute analysis__"
   ]
  },
  {
   "cell_type": "markdown",
   "id": "917155c3-8a4b-4ad2-818b-1ea0ad7c77d0",
   "metadata": {},
   "source": [
    "#### Missing values percentage"
   ]
  },
  {
   "cell_type": "code",
   "execution_count": 19,
   "id": "33c13e60-a400-4028-baa5-0092c2284dc5",
   "metadata": {},
   "outputs": [
    {
     "data": {
      "text/html": [
       "<style type=\"text/css\">\n",
       "</style>\n",
       "<table id=\"T_d5983_\">\n",
       "  <thead>\n",
       "    <tr>\n",
       "      <th class=\"col_heading level0 col0\" >Entity Id</th>\n",
       "      <th class=\"col_heading level0 col1\" >address</th>\n",
       "      <th class=\"col_heading level0 col2\" >author</th>\n",
       "      <th class=\"col_heading level0 col3\" >editor</th>\n",
       "      <th class=\"col_heading level0 col4\" >institution</th>\n",
       "      <th class=\"col_heading level0 col5\" >month</th>\n",
       "      <th class=\"col_heading level0 col6\" >note</th>\n",
       "      <th class=\"col_heading level0 col7\" >pages</th>\n",
       "      <th class=\"col_heading level0 col8\" >publisher</th>\n",
       "      <th class=\"col_heading level0 col9\" >title</th>\n",
       "      <th class=\"col_heading level0 col10\" >venue</th>\n",
       "      <th class=\"col_heading level0 col11\" >volume</th>\n",
       "      <th class=\"col_heading level0 col12\" >year</th>\n",
       "      <th class=\"col_heading level0 col13\" >Unnamed: 13</th>\n",
       "    </tr>\n",
       "  </thead>\n",
       "  <tbody>\n",
       "    <tr>\n",
       "      <td id=\"T_d5983_row0_col0\" class=\"data row0 col0\" >0</td>\n",
       "      <td id=\"T_d5983_row0_col1\" class=\"data row0 col1\" >1004</td>\n",
       "      <td id=\"T_d5983_row0_col2\" class=\"data row0 col2\" >0</td>\n",
       "      <td id=\"T_d5983_row0_col3\" class=\"data row0 col3\" >1248</td>\n",
       "      <td id=\"T_d5983_row0_col4\" class=\"data row0 col4\" >1250</td>\n",
       "      <td id=\"T_d5983_row0_col5\" class=\"data row0 col5\" >1096</td>\n",
       "      <td id=\"T_d5983_row0_col6\" class=\"data row0 col6\" >1172</td>\n",
       "      <td id=\"T_d5983_row0_col7\" class=\"data row0 col7\" >426</td>\n",
       "      <td id=\"T_d5983_row0_col8\" class=\"data row0 col8\" >905</td>\n",
       "      <td id=\"T_d5983_row0_col9\" class=\"data row0 col9\" >0</td>\n",
       "      <td id=\"T_d5983_row0_col10\" class=\"data row0 col10\" >131</td>\n",
       "      <td id=\"T_d5983_row0_col11\" class=\"data row0 col11\" >983</td>\n",
       "      <td id=\"T_d5983_row0_col12\" class=\"data row0 col12\" >159</td>\n",
       "      <td id=\"T_d5983_row0_col13\" class=\"data row0 col13\" >1295</td>\n",
       "    </tr>\n",
       "  </tbody>\n",
       "</table>\n"
      ],
      "text/plain": [
       "<pandas.io.formats.style.Styler at 0x2679bef99c8>"
      ]
     },
     "execution_count": 19,
     "metadata": {},
     "output_type": "execute_result"
    }
   ],
   "source": [
    "nan_data = dataset.isnull().sum(axis = 0).to_frame().T\n",
    "nan_data.style.hide_index()"
   ]
  },
  {
   "cell_type": "code",
   "execution_count": 22,
   "id": "3e3b59eb-f3d9-4c70-a2c3-15281260cf7a",
   "metadata": {},
   "outputs": [
    {
     "data": {
      "image/png": "[encoded data removed]",
      "text/plain": [
       "<Figure size 576x288 with 1 Axes>"
      ]
     },
     "metadata": {},
     "output_type": "display_data"
    }
   ],
   "source": [
    "na_df = (dataset.isnull().sum() / len(dataset)) * 100      \n",
    "na_df = na_df.sort_values(ascending=False)\n",
    "missing_data = pd.DataFrame({'Missing Ratio %' :na_df})\n",
    "fig = missing_data.plot(kind = \"barh\", figsize=(8, 4)).get_figure()\n",
    "plt.style.use('seaborn-white') # plot style\n",
    "plt.title(\"Missing values in dataset attributes\")\n",
    "plt.ylabel(dataset_name+' Attributes', fontsize=12)\n",
    "plt.xlabel('Ratio of missing values', fontsize=12)\n",
    "plt.grid(True)\n",
    "for pos in ['right', 'top', 'bottom', 'left']:\n",
    "   plt.gca().spines[pos].set_visible(False)\n",
    "plt.show()"
   ]
  },
  {
   "cell_type": "markdown",
   "id": "b4f0aead-9b85-4040-bacd-ac123f79a44f",
   "metadata": {
    "tags": []
   },
   "source": [
    "## Data set shuffle (Optional)"
   ]
  },
  {
   "cell_type": "code",
   "execution_count": 23,
   "id": "a8a176dd-c622-41be-8ea3-d53d7d072194",
   "metadata": {},
   "outputs": [],
   "source": [
    "dataset_shuffled = dataset.sample(frac=1).reset_index(drop=True)"
   ]
  },
  {
   "cell_type": "markdown",
   "id": "5144bdbc-4fba-47e3-bf62-e66d32e30e44",
   "metadata": {
    "tags": []
   },
   "source": [
    "## Pre-process"
   ]
  },
  {
   "cell_type": "code",
   "execution_count": 34,
   "id": "cb95d454-da2d-4a07-a5d0-d04b46152124",
   "metadata": {},
   "outputs": [
    {
     "name": "stderr",
     "output_type": "stream",
     "text": [
      "Creating dataset from imput files: 100%|██████████| 1295/1295 [00:00<00:00, 10676.07it/s]\n",
      "Creating groundtruth matrix: 100%|██████████| 17184/17184 [00:01<00:00, 12822.79it/s]\n"
     ]
    }
   ],
   "source": [
    "fields = [\n",
    "     'author',\n",
    "     'title',\n",
    "]\n",
    "\n",
    "# name of the id column\n",
    "id_column_name = 'Entity Id'\n",
    "\n",
    "# dataset\n",
    "data, true_matrix = process_dataset(dataset, dataset_ground_truth, fields, id_column_name)"
   ]
  },
  {
   "cell_type": "markdown",
   "id": "f40eac38-f20b-45f0-94fa-ebd6ba1a30f7",
   "metadata": {},
   "source": [
    "__Clique construction for visualization purposes__"
   ]
  },
  {
   "cell_type": "code",
   "execution_count": 25,
   "id": "fae7886d-5a25-4de3-b6c8-903cbb168696",
   "metadata": {
    "tags": []
   },
   "outputs": [],
   "source": [
    "labels_groundTruth, numOfObjWithoutDups, groups = create_true_labels(dataset[id_column_name].tolist(),dataset_ground_truth)            \n",
    "data_length = [ len(x) for x in data ]"
   ]
  },
  {
   "cell_type": "markdown",
   "id": "730f75fa-47ad-46fe-a44f-b13e914fcbbf",
   "metadata": {
    "tags": []
   },
   "source": [
    "## Attributes"
   ]
  },
  {
   "cell_type": "code",
   "execution_count": 26,
   "id": "4c21e578-f248-4fc9-a3b7-9abcbf165637",
   "metadata": {},
   "outputs": [
    {
     "data": {
      "text/html": [
       "<div>\n",
       "<style scoped>\n",
       "    .dataframe tbody tr th:only-of-type {\n",
       "        vertical-align: middle;\n",
       "    }\n",
       "\n",
       "    .dataframe tbody tr th {\n",
       "        vertical-align: top;\n",
       "    }\n",
       "\n",
       "    .dataframe thead th {\n",
       "        text-align: right;\n",
       "    }\n",
       "</style>\n",
       "<table border=\"1\" class=\"dataframe\">\n",
       "  <thead>\n",
       "    <tr style=\"text-align: right;\">\n",
       "      <th></th>\n",
       "      <th>Spec</th>\n",
       "      <th>#count</th>\n",
       "    </tr>\n",
       "  </thead>\n",
       "  <tbody>\n",
       "    <tr>\n",
       "      <th>0</th>\n",
       "      <td>Objects without any duplicates</td>\n",
       "      <td>19</td>\n",
       "    </tr>\n",
       "    <tr>\n",
       "      <th>1</th>\n",
       "      <td>Objects with at least one duplicate</td>\n",
       "      <td>1276</td>\n",
       "    </tr>\n",
       "    <tr>\n",
       "      <th>2</th>\n",
       "      <td>Total number of objects</td>\n",
       "      <td>1295</td>\n",
       "    </tr>\n",
       "    <tr>\n",
       "      <th>3</th>\n",
       "      <td>Mean size of clusters</td>\n",
       "      <td>13</td>\n",
       "    </tr>\n",
       "    <tr>\n",
       "      <th>4</th>\n",
       "      <td>Number of ER clusters</td>\n",
       "      <td>93</td>\n",
       "    </tr>\n",
       "    <tr>\n",
       "      <th>5</th>\n",
       "      <td>Dataset size</td>\n",
       "      <td>1295</td>\n",
       "    </tr>\n",
       "    <tr>\n",
       "      <th>6</th>\n",
       "      <td>Average length</td>\n",
       "      <td>90</td>\n",
       "    </tr>\n",
       "    <tr>\n",
       "      <th>7</th>\n",
       "      <td>Min length</td>\n",
       "      <td>30</td>\n",
       "    </tr>\n",
       "    <tr>\n",
       "      <th>8</th>\n",
       "      <td>Max length</td>\n",
       "      <td>314</td>\n",
       "    </tr>\n",
       "    <tr>\n",
       "      <th>9</th>\n",
       "      <td>Median length</td>\n",
       "      <td>89</td>\n",
       "    </tr>\n",
       "  </tbody>\n",
       "</table>\n",
       "</div>"
      ],
      "text/plain": [
       "                                  Spec  #count\n",
       "0       Objects without any duplicates      19\n",
       "1  Objects with at least one duplicate    1276\n",
       "2              Total number of objects    1295\n",
       "3                Mean size of clusters      13\n",
       "4                Number of ER clusters      93\n",
       "5                         Dataset size    1295\n",
       "6                       Average length      90\n",
       "7                           Min length      30\n",
       "8                           Max length     314\n",
       "9                        Median length      89"
      ]
     },
     "execution_count": 26,
     "metadata": {},
     "output_type": "execute_result"
    }
   ],
   "source": [
    "specs = {\n",
    "    'Objects without any duplicates' : dataset.shape[0] - sum([len(x) for x in groups]), \n",
    "    'Objects with at least one duplicate' : sum([len(x) for x in groups]),\n",
    "    'Total number of objects' : dataset.shape[0], \n",
    "    'Mean size of clusters' : np.average([len(x) for x in groups]),\n",
    "    'Number of ER clusters' : len(groups),\n",
    "    'Dataset size' : len(data), \n",
    "    'Average length' : np.mean(data_length), \n",
    "    'Min length' : min(data_length), \n",
    "    'Max length' : max(data_length),\n",
    "    'Median length' : np.median(data_length)\n",
    "}\n",
    "dataset_specs = pd.DataFrame(list(specs.items()), columns=['Spec','#count'])\n",
    "dataset_specs[['#count']] = dataset_specs[['#count']].astype(int)\n",
    "dataset_specs"
   ]
  },
  {
   "cell_type": "code",
   "execution_count": 27,
   "id": "3d1b3ad0-b0a3-40a6-b151-549c4f811bde",
   "metadata": {
    "tags": []
   },
   "outputs": [
    {
     "data": {
      "text/plain": [
       "['Entity Id',\n",
       " 'address',\n",
       " 'author',\n",
       " 'editor',\n",
       " 'institution',\n",
       " 'month',\n",
       " 'note',\n",
       " 'pages',\n",
       " 'publisher',\n",
       " 'title',\n",
       " 'venue',\n",
       " 'volume',\n",
       " 'year',\n",
       " 'Unnamed: 13']"
      ]
     },
     "execution_count": 27,
     "metadata": {},
     "output_type": "execute_result"
    }
   ],
   "source": [
    "list(dataset.columns)"
   ]
  },
  {
   "cell_type": "code",
   "execution_count": 30,
   "id": "90146e28-a502-4544-a6de-e1057019e970",
   "metadata": {},
   "outputs": [
    {
     "data": {
      "image/png": "[encoded data removed]",
      "text/plain": [
       "<Figure size 864x288 with 1 Axes>"
      ]
     },
     "metadata": {},
     "output_type": "display_data"
    }
   ],
   "source": [
    "fig = plt.figure(figsize=(12,4))\n",
    "plt.bar(range(0,len(data_length),1),data_length)\n",
    "plt.xlabel(\"Record index\", fontsize=12)\n",
    "plt.ylabel(\"String size (# chars)\", fontsize=12)\n",
    "plt.title(dataset_name + \" Data set string length bar plot\")\n",
    "plt.grid(True)\n",
    "for pos in ['right', 'top', 'bottom', 'left']:\n",
    "   plt.gca().spines[pos].set_visible(False)\n",
    "fig.savefig(\"./results/\"+dataset_name.lower()+\"/string_size_\"+dataset_name+\".png\")\n",
    "plt.show()"
   ]
  },
  {
   "cell_type": "markdown",
   "id": "ffe47ba3-c3f7-411c-99b2-293f8f98ce7d",
   "metadata": {},
   "source": [
    "# __WinnER model__"
   ]
  },
  {
   "cell_type": "markdown",
   "id": "825bd0aa-b5ee-4e76-b4c3-8bca3eec1c51",
   "metadata": {},
   "source": [
    "WinnER framework has the bellow parameters (and their default values):\n",
    "```\n",
    "max_num_of_clusters = None, \n",
    "max_dissimilarity_distance = None, \n",
    "window_size = None,   \n",
    "number_of_permutations = 1, \n",
    "char_tokenization = True,\n",
    "embedding_distance_metric = 'euclid_jaccard', \n",
    "metric = 'kendal', \n",
    "similarity_vectors = 'ranked', \n",
    "distance_metric = 'euclid_jaccard', \n",
    "prototypes_optimization_thr = None, \n",
    "ngrams = None, \n",
    "similarity_threshold = None, \n",
    "num_of_threads = 16,\n",
    "verbose_level=0, \n",
    "rbo_p = 0.7, \n",
    "wta_m = 1, \n",
    "max_num_of_comparisons = 250000, \n",
    "disable_tqdm = False,\n",
    "enable_blocking = True,\n",
    "debug_stop = None\n",
    "```\n",
    "\n",
    "although, the mandatory and the five official hyper-parameters are:\n",
    "\n",
    "```\n",
    "max_num_of_clusters, max_dissimilarity_distance, window_size, number_of_permutations = 1, similarity_threshold\n",
    "```\n"
   ]
  },
  {
   "cell_type": "markdown",
   "id": "cbcc4a82-f88d-4f2d-82e1-462a01bbd1d7",
   "metadata": {},
   "source": [
    "### Usage example with the 5 hyper-parameters"
   ]
  },
  {
   "cell_type": "code",
   "execution_count": 36,
   "id": "1cf4da3e-0926-4d0c-a8ac-f29a9432e39e",
   "metadata": {},
   "outputs": [
    {
     "name": "stdout",
     "output_type": "stream",
     "text": [
      "\n",
      "#####################################################################\n",
      "#                           .~  WinnER  ~.                          #\n",
      "#####################################################################\n",
      "\n",
      "###########################################################\n",
      "# > 1. Prototype selection phase                          #\n",
      "###########################################################\n",
      "\n",
      "\n",
      "-> Finding prototypes and representatives of each cluster:\n"
     ]
    },
    {
     "name": "stderr",
     "output_type": "stream",
     "text": [
      "Representatives selection: 100%|██████████| 1295/1295 [00:00<00:00, 26072.84it/s]\n",
      "Prototype selection: 100%|██████████| 300/300 [00:00<00:00, 45996.90it/s]\n",
      "Prototype optimization: 100%|██████████| 300/300 [00:01<00:00, 251.81it/s]\n"
     ]
    },
    {
     "name": "stdout",
     "output_type": "stream",
     "text": [
      "\n",
      "- Final number of prototypes:  63\n",
      "\n",
      "# Finished in 165039 secs\n",
      "\n",
      "\n",
      "###########################################################\n",
      "# > 2. Embeddings based on the Vantage objects            #\n",
      "###########################################################\n",
      "\n",
      "\n",
      "-> Creating Embeddings:\n"
     ]
    },
    {
     "name": "stderr",
     "output_type": "stream",
     "text": [
      "Creating embeddings: 100%|██████████| 1295/1295 [00:02<00:00, 557.54it/s]"
     ]
    },
    {
     "name": "stdout",
     "output_type": "stream",
     "text": [
      "\n",
      "# Finished in 165039 secs\n",
      "\n",
      "\n",
      "###########################################################\n",
      "# > 3. WTA Hashing                                        #\n",
      "###########################################################\n",
      "\n",
      "\n",
      "-> Creating WTA Buckets:\n"
     ]
    },
    {
     "name": "stderr",
     "output_type": "stream",
     "text": [
      "\n"
     ]
    },
    {
     "data": {
      "application/vnd.jupyter.widget-view+json": {
       "model_id": "90144bb9b5bd44c08ad28786e1b50084",
       "version_major": 2,
       "version_minor": 0
      },
      "text/plain": [
       "WTA hashing:   0%|          | 0/3 [00:00<?, ?it/s]"
      ]
     },
     "metadata": {},
     "output_type": "display_data"
    },
    {
     "name": "stdout",
     "output_type": "stream",
     "text": [
      "\n",
      "- WTA number of buckets:  27\n",
      "\n",
      "# Finished in 165039 secs\n",
      "\n",
      "\n",
      "###########################################################\n",
      "# > 4. Similarity checking                                #\n",
      "###########################################################\n",
      "\n",
      "\n",
      "-> Similarity checking:\n"
     ]
    },
    {
     "name": "stderr",
     "output_type": "stream",
     "text": [
      "Similarity checking: 100%|██████████| 27/27 [04:31<00:00, 10.07s/it]\n"
     ]
    },
    {
     "name": "stdout",
     "output_type": "stream",
     "text": [
      "\n",
      "# Finished in 165039 secs\n",
      "\n",
      "#####################################################################\n",
      "#                           .~  End  ~.                             #\n",
      "#####################################################################\n",
      "\n",
      "#####################################################################\n",
      "#                          Evaluation                               #\n",
      "#####################################################################\n",
      "\n",
      "Accuracy:  99.05 %\n",
      "F1-Score:  78.82 %\n",
      "Recall:    86.57 %\n",
      "Precision: 72.34 %\n"
     ]
    }
   ],
   "source": [
    "winner = WinnER(\n",
    "    max_num_of_clusters = 300,\n",
    "    max_dissimilarity_distance = 0.6,\n",
    "    window_size = 10,\n",
    "    similarity_threshold = 0.7,\n",
    "    number_of_permutations = 3,\n",
    "    enable_blocking = False\n",
    ")\n",
    "\n",
    "winner.hackForDebug(dataset_ground_truth, true_matrix)\n",
    "winner = winner.fit(data)\n",
    "acc,f1,precision,recall = winner.evaluate(winner.mapping_matrix, true_matrix, with_confusion_matrix=False)"
   ]
  },
  {
   "cell_type": "code",
   "execution_count": 37,
   "id": "c7bc53a1-3a38-4d26-8619-8ec144f44f95",
   "metadata": {},
   "outputs": [
    {
     "ename": "TypeError",
     "evalue": "__init__() got an unexpected keyword argument 'enable_hashing'",
     "output_type": "error",
     "traceback": [
      "\u001b[1;31m---------------------------------------------------------------------------\u001b[0m",
      "\u001b[1;31mTypeError\u001b[0m                                 Traceback (most recent call last)",
      "\u001b[1;32m<ipython-input-37-9d6b1bf59f25>\u001b[0m in \u001b[0;36m<module>\u001b[1;34m\u001b[0m\n\u001b[0;32m      5\u001b[0m     \u001b[0msimilarity_threshold\u001b[0m \u001b[1;33m=\u001b[0m \u001b[1;36m0.7\u001b[0m\u001b[1;33m,\u001b[0m\u001b[1;33m\u001b[0m\u001b[1;33m\u001b[0m\u001b[0m\n\u001b[0;32m      6\u001b[0m     \u001b[0mnumber_of_permutations\u001b[0m \u001b[1;33m=\u001b[0m \u001b[1;36m3\u001b[0m\u001b[1;33m,\u001b[0m\u001b[1;33m\u001b[0m\u001b[1;33m\u001b[0m\u001b[0m\n\u001b[1;32m----> 7\u001b[1;33m     \u001b[0menable_hashing\u001b[0m \u001b[1;33m=\u001b[0m \u001b[1;32mFalse\u001b[0m\u001b[1;33m\u001b[0m\u001b[1;33m\u001b[0m\u001b[0m\n\u001b[0m\u001b[0;32m      8\u001b[0m )\n\u001b[0;32m      9\u001b[0m \u001b[1;33m\u001b[0m\u001b[0m\n",
      "\u001b[1;31mTypeError\u001b[0m: __init__() got an unexpected keyword argument 'enable_hashing'"
     ]
    }
   ],
   "source": [
    "winner = WinnER(\n",
    "    max_num_of_clusters = 300,\n",
    "    max_dissimilarity_distance = 0.6,\n",
    "    window_size = 10,\n",
    "    similarity_threshold = 0.7,\n",
    "    number_of_permutations = 3,\n",
    "    enable_blocking = False\n",
    ")\n",
    "\n",
    "winner.hackForDebug(dataset_ground_truth, true_matrix)\n",
    "winner = winner.fit(data)\n",
    "acc,f1,precision,recall = winner.evaluate(winner.mapping_matrix, true_matrix, with_confusion_matrix=False)"
   ]
  }
 ],
 "metadata": {
  "kernelspec": {
   "display_name": "Python 3",
   "language": "python",
   "name": "python3"
  },
  "language_info": {
   "codemirror_mode": {
    "name": "ipython",
    "version": 3
   },
   "file_extension": ".py",
   "mimetype": "text/x-python",
   "name": "python",
   "nbconvert_exporter": "python",
   "pygments_lexer": "ipython3",
   "version": "3.7.6"
  }
 },
 "nbformat": 4,
 "nbformat_minor": 5
}
